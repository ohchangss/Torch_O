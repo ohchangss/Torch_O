{
 "cells": [
  {
   "cell_type": "code",
   "execution_count": 3,
   "id": "d451f134",
   "metadata": {},
   "outputs": [],
   "source": [
    "import torch\n",
    "from torch.utils.data.dataset import random_split\n",
    "from torch.utils.data import Dataset, TensorDataset,DataLoader\n"
   ]
  },
  {
   "cell_type": "code",
   "execution_count": 15,
   "id": "8d1c3fa3",
   "metadata": {},
   "outputs": [],
   "source": [
    "class Model(object):\n",
    "    pass"
   ]
  },
  {
   "cell_type": "code",
   "execution_count": 16,
   "id": "972b6390",
   "metadata": {},
   "outputs": [],
   "source": [
    "class Set_data(object):\n",
    "    pass"
   ]
  },
  {
   "cell_type": "code",
   "execution_count": 22,
   "id": "90f046e1",
   "metadata": {},
   "outputs": [],
   "source": [
    "class Torch_dataset(Dataset, object):\n",
    "    def __init__(self,X_data, y_data):\n",
    "        \n",
    "        self.X_data = X_data\n",
    "        self.y_data = y_data\n",
    "        \n",
    "    def __len__(self):\n",
    "        return self.X_data.shape[0]\n",
    "    \n",
    "    def __get_item__(self,idx):\n",
    "        x = torch.FloatTensor(self.X_train[idx])\n",
    "        y = torch.FloatTensor(self.y_train[idx])\n",
    "        return x, y"
   ]
  },
  {
   "cell_type": "code",
   "execution_count": 20,
   "id": "db7a386c",
   "metadata": {},
   "outputs": [],
   "source": [
    "def abalone_dataset(self):\n",
    "    with open(DATA_DIR) as csvfile:\n",
    "        csvreader = csv.reader(csvfile)\n",
    "        next(csvreader, None)\n",
    "        rows = []\n",
    "        for row in csvreader:\n",
    "            rows.append(row)\n",
    "\n",
    "\n",
    "        input_cnt, output_cnt = 10, 1\n",
    "\n",
    "        data = np.zeros([len(rows), input_cnt+output_cnt])\n",
    "\n",
    "        for n, row in enumerate(rows):\n",
    "            if row[0] == 'I': data[n, 0] = 1\n",
    "            if row[0] == 'M': data[n, 1] = 1\n",
    "            if row[0] == 'F': data[n, 2] = 1\n",
    "            data[n, 3:] = row[1:]\n",
    "\n",
    "        x_data = data[:,:input_cnt]\n",
    "        y_data = data[:,input_cnt:]\n",
    "        \n",
    "        return [X_data, y_data]\n",
    "    \n",
    "Set_data.get_data = abalone_dataset"
   ]
  },
  {
   "cell_type": "code",
   "execution_count": null,
   "id": "6a49cb7b",
   "metadata": {},
   "outputs": [],
   "source": []
  }
 ],
 "metadata": {
  "kernelspec": {
   "display_name": "Python 3 (ipykernel)",
   "language": "python",
   "name": "python3"
  },
  "language_info": {
   "codemirror_mode": {
    "name": "ipython",
    "version": 3
   },
   "file_extension": ".py",
   "mimetype": "text/x-python",
   "name": "python",
   "nbconvert_exporter": "python",
   "pygments_lexer": "ipython3",
   "version": "3.7.0"
  }
 },
 "nbformat": 4,
 "nbformat_minor": 5
}
