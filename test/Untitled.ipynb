{
 "cells": [
  {
   "cell_type": "code",
   "execution_count": 35,
   "id": "bf98ad70",
   "metadata": {},
   "outputs": [],
   "source": [
    "class A(object):\n",
    "    def __init__(self):\n",
    "        self.name = 'a'\n",
    "    def exec_all(self):\n",
    "        self.train()\n",
    "        \n",
    "class B(A):\n",
    "    def __init__(self):\n",
    "        super(B, self).__init__()\n",
    "        print(self.name)\n",
    "    def dd(self):\n",
    "        print(self.name)\n",
    "class C:\n",
    "    pass\n",
    "class D(B,C):\n",
    "    def __init__(self):\n",
    "        super(D, self).__init__()\n",
    "        print(self.name)\n",
    "    def dd(self):\n",
    "        print(self.name)\n",
    "        \n",
    "D.train = dd"
   ]
  },
  {
   "cell_type": "code",
   "execution_count": 36,
   "id": "03b86fc9",
   "metadata": {},
   "outputs": [
    {
     "name": "stdout",
     "output_type": "stream",
     "text": [
      "a\n",
      "a\n",
      "a\n"
     ]
    }
   ],
   "source": [
    "a=A()\n",
    "d=D()\n",
    "d.exec_all()"
   ]
  },
  {
   "cell_type": "code",
   "execution_count": null,
   "id": "db696b09",
   "metadata": {},
   "outputs": [],
   "source": []
  }
 ],
 "metadata": {
  "kernelspec": {
   "display_name": "Python 3 (ipykernel)",
   "language": "python",
   "name": "python3"
  },
  "language_info": {
   "codemirror_mode": {
    "name": "ipython",
    "version": 3
   },
   "file_extension": ".py",
   "mimetype": "text/x-python",
   "name": "python",
   "nbconvert_exporter": "python",
   "pygments_lexer": "ipython3",
   "version": "3.7.0"
  }
 },
 "nbformat": 4,
 "nbformat_minor": 5
}
