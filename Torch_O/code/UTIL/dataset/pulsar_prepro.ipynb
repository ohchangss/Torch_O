{
 "cells": [
  {
   "cell_type": "code",
   "execution_count": 1,
   "id": "610db24b",
   "metadata": {},
   "outputs": [
    {
     "name": "stdout",
     "output_type": "stream",
     "text": [
      "Using device: cpu\n",
      "Using PyTorch version: 1.9.0\n"
     ]
    }
   ],
   "source": [
    "BASE_DIR = '../'*3\n",
    "DATASET = BASE_DIR +'code/UTIL/dataset/dataset.ipynb'\n",
    "%run {DATASET}"
   ]
  },
  {
   "cell_type": "code",
   "execution_count": null,
   "id": "067881d7",
   "metadata": {},
   "outputs": [],
   "source": [
    "class PulsarDataset(Dataset_torch):\n",
    "    def __init__(self):\n",
    "        super(PulsarDataset, self).__init__('pulsar', 'binary')\n",
    "    \n",
    "        rows, _ = load_csv(BASE_DIR+'data/SLP/pulsar_stars/pulsar_stars.csv')\n",
    "\n",
    "        data = np.asarray(rows, dtype='float32')\n",
    "        self.shuffle_data(data[:,:-1], data[:,-1:], 0.8)\n",
    "        self.target_names = ['별', '펄서']\n",
    "        \n",
    "    def visualize(self, xs, estimates, answers):\n",
    "        xs=xs.cpu().detach().numpy()\n",
    "        estimates=estimates.cpu().detach().numpy()\n",
    "        answers=answers.cpu().detach().numpy()\n",
    "        for n in range(len(xs)):\n",
    "            x, est, ans = xs[n], estimates[n], answers[n]\n",
    "            xstr = vector_to_str(x, '%5.1f', 3)\n",
    "            estr = self.target_names[int(round(est[0]))]\n",
    "            astr = self.target_names[int(round(ans[0]))]\n",
    "            rstr = 'O'\n",
    "            if estr != astr: rstr = 'X'\n",
    "            print('{} => 추정 {}(확률 {:4.2f}) : 정답 {} => {}'. \\\n",
    "                  format(xstr, estr, est[0], astr, rstr))"
   ]
  }
 ],
 "metadata": {
  "kernelspec": {
   "display_name": "Python 3 (ipykernel)",
   "language": "python",
   "name": "python3"
  },
  "language_info": {
   "codemirror_mode": {
    "name": "ipython",
    "version": 3
   },
   "file_extension": ".py",
   "mimetype": "text/x-python",
   "name": "python",
   "nbconvert_exporter": "python",
   "pygments_lexer": "ipython3",
   "version": "3.7.0"
  }
 },
 "nbformat": 4,
 "nbformat_minor": 5
}
