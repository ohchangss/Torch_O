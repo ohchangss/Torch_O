{
 "cells": [
  {
   "cell_type": "code",
   "execution_count": 1,
   "id": "0a161ce0",
   "metadata": {},
   "outputs": [],
   "source": [
    "BATCH_SIZE = 15\n",
    "NUM_WORKERS=0\n",
    "LEARNING_RATE=0.0001\n",
    "EPOCH=20"
   ]
  },
  {
   "cell_type": "code",
   "execution_count": 3,
   "id": "a26b92c0",
   "metadata": {},
   "outputs": [],
   "source": [
    "BASE_DIR = '../'*3\n",
    "MODEL_DIR = BASE_DIR +'code/SLP/regression/abalone.ipynb'\n",
    "PREPRO_DIR = BASE_DIR + 'code/UTIL/dataset/abalone_prepro.ipynb'"
   ]
  },
  {
   "cell_type": "code",
   "execution_count": 6,
   "id": "80f9aeb2",
   "metadata": {},
   "outputs": [
    {
     "name": "stdout",
     "output_type": "stream",
     "text": [
      "Using device: cuda\n",
      "NVIDIA GeForce RTX 3060 Laptop GPU\n",
      "Memory Usage:\n",
      "Allocated: 0.0 GB\n",
      "Cached:    0.0 GB\n",
      "Using PyTorch version: 2.4.1+cu124\n"
     ]
    }
   ],
   "source": [
    "%run {PREPRO_DIR}"
   ]
  },
  {
   "cell_type": "code",
   "execution_count": 7,
   "id": "d6ef0216",
   "metadata": {},
   "outputs": [],
   "source": [
    "%run {MODEL_DIR}"
   ]
  },
  {
   "cell_type": "code",
   "execution_count": 10,
   "id": "61fde6c9",
   "metadata": {},
   "outputs": [
    {
     "ename": "TypeError",
     "evalue": "Dataset_2_torch.__init__() missing 3 required positional arguments: 'x', 'y', and 'len_'",
     "output_type": "error",
     "traceback": [
      "\u001b[0;31m---------------------------------------------------------------------------\u001b[0m",
      "\u001b[0;31mTypeError\u001b[0m                                 Traceback (most recent call last)",
      "Cell \u001b[0;32mIn[10], line 1\u001b[0m\n\u001b[0;32m----> 1\u001b[0m dataset\u001b[38;5;241m=\u001b[39m\u001b[43mDataset_2_torch\u001b[49m\u001b[43m(\u001b[49m\u001b[43m)\u001b[49m\n",
      "\u001b[0;31mTypeError\u001b[0m: Dataset_2_torch.__init__() missing 3 required positional arguments: 'x', 'y', and 'len_'"
     ]
    }
   ],
   "source": [
    "dataset=Dataset_2_torch()"
   ]
  },
  {
   "cell_type": "code",
   "execution_count": 9,
   "id": "5036f932",
   "metadata": {},
   "outputs": [
    {
     "ename": "NameError",
     "evalue": "name 'Slp_abalone' is not defined",
     "output_type": "error",
     "traceback": [
      "\u001b[0;31m---------------------------------------------------------------------------\u001b[0m",
      "\u001b[0;31mNameError\u001b[0m                                 Traceback (most recent call last)",
      "Cell \u001b[0;32mIn[9], line 1\u001b[0m\n\u001b[0;32m----> 1\u001b[0m \u001b[43mSlp_abalone\u001b[49m(dataset)\n",
      "\u001b[0;31mNameError\u001b[0m: name 'Slp_abalone' is not defined"
     ]
    }
   ],
   "source": [
    "Slp_abalone(dataset)"
   ]
  },
  {
   "cell_type": "code",
   "execution_count": null,
   "id": "44924075-10d6-4b00-be7e-a306f6140eba",
   "metadata": {},
   "outputs": [],
   "source": []
  }
 ],
 "metadata": {
  "kernelspec": {
   "display_name": "Python 3 (ipykernel)",
   "language": "python",
   "name": "python3"
  },
  "language_info": {
   "codemirror_mode": {
    "name": "ipython",
    "version": 3
   },
   "file_extension": ".py",
   "mimetype": "text/x-python",
   "name": "python",
   "nbconvert_exporter": "python",
   "pygments_lexer": "ipython3",
   "version": "3.11.9"
  }
 },
 "nbformat": 4,
 "nbformat_minor": 5
}
