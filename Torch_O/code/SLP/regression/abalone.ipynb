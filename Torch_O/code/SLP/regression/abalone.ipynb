{
 "cells": [
  {
   "cell_type": "code",
   "execution_count": 2,
   "id": "efde3808",
   "metadata": {},
   "outputs": [],
   "source": [
    "import torch.nn as nn\n",
    "import torch.nn.functional as F"
   ]
  },
  {
   "cell_type": "code",
   "execution_count": 1,
   "id": "eb7ca18d",
   "metadata": {},
   "outputs": [],
   "source": [
    "class Model(object):\n",
    "    \n",
    "    def __init__(self,dataset):\n",
    "        super(Model, self).__init__(dataset)\n",
    "        \n",
    "    def Slp_abalone(self):    \n",
    "#     self.tr_xs = xs[indices[tr_from:tr_to]]\n",
    "#     self.tr_ys\n",
    "        dataloader = DataLoader((self.tr_xs, self.tr_ys), batch_size=BATCH_SIZE,shuffle=True,num_workers=NUM_WORKERS)\n",
    "\n",
    "        #아직 신경망이 작으므로 한번에 적음\n",
    "        model = torch.nn.Linear(10,1).to(DEVICE)\n",
    "        optimizer = torch.optim.SGD(model.parameters(), lr=LEARNING_RATE) \n",
    "\n",
    "        loss_func=nn.MSELoss()\n",
    "        loss_arr=[]\n",
    "        nb_epochs = EPOCH\n",
    "        for epoch in range(nb_epochs + 1):\n",
    "            for batch_idx, samples in enumerate(dataloader):\n",
    "\n",
    "                x_train, y_train = samples\n",
    "\n",
    "                optimizer.zero_grad()\n",
    "\n",
    "                # predict\n",
    "                output = model(x_train)\n",
    "\n",
    "                loss = loss_func(output, y_train)\n",
    "\n",
    "                # cost로 H(x) 계산\n",
    "\n",
    "                loss.backward()\n",
    "                optimizer.step()\n",
    "\n",
    "                print('Epoch {:4d}/{} Batch {}/{} Cost: {:.6f}'.format(\n",
    "                    epoch, nb_epochs, batch_idx+1, len(dataloader),\n",
    "                    loss.item()\n",
    "                    ))\n",
    "                loss_arr.append(loss.cpu().detach().numpy())\n",
    "\n"
   ]
  },
  {
   "cell_type": "code",
   "execution_count": null,
   "id": "bda33fed",
   "metadata": {},
   "outputs": [],
   "source": []
  }
 ],
 "metadata": {
  "kernelspec": {
   "display_name": "Python 3 (ipykernel)",
   "language": "python",
   "name": "python3"
  },
  "language_info": {
   "codemirror_mode": {
    "name": "ipython",
    "version": 3
   },
   "file_extension": ".py",
   "mimetype": "text/x-python",
   "name": "python",
   "nbconvert_exporter": "python",
   "pygments_lexer": "ipython3",
   "version": "3.11.9"
  }
 },
 "nbformat": 4,
 "nbformat_minor": 5
}
