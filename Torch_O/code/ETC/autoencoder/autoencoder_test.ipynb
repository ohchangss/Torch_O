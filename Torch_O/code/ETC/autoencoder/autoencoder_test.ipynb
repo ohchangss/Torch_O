{
 "cells": [
  {
   "cell_type": "code",
   "execution_count": 145,
   "id": "8d225d9f",
   "metadata": {},
   "outputs": [],
   "source": [
    "BASE_DIR = '../'*3\n",
    "MODEL_DIR = BASE_DIR + 'code/ETC/autoencoder/autoencoder.ipynb'\n",
    "DATA_DIR =BASE_DIR+ 'code/ETC/autoencoder/dataset_auto_mnist.ipynb'"
   ]
  },
  {
   "cell_type": "code",
   "execution_count": 146,
   "id": "d33f66a2",
   "metadata": {},
   "outputs": [
    {
     "name": "stdout",
     "output_type": "stream",
     "text": [
      "Using device: cpu\n",
      "Using PyTorch version: 1.9.0\n"
     ]
    }
   ],
   "source": [
    "%run {MODEL_DIR}\n",
    "%run {DATA_DIR}"
   ]
  },
  {
   "cell_type": "code",
   "execution_count": 198,
   "id": "9c6c3093",
   "metadata": {},
   "outputs": [],
   "source": [
    "EPOCH = 10\n",
    "BATCH_SIZE=20\n",
    "NUM_WORKERS=0\n",
    "LEARNING_RATE = 0.001"
   ]
  },
  {
   "cell_type": "code",
   "execution_count": 163,
   "id": "66c2d9d6",
   "metadata": {},
   "outputs": [],
   "source": [
    "mset_all = MnistAutoDataset(train_ratio = 1.00)\n",
    "mset_1p = MnistAutoDataset(train_ratio = 0.01)"
   ]
  },
  {
   "cell_type": "code",
   "execution_count": 46,
   "id": "650a8b14",
   "metadata": {},
   "outputs": [
    {
     "name": "stdout",
     "output_type": "stream",
     "text": [
      "Model mnist_mlp_all train started \n",
      "\n",
      "\n",
      "!!!!!!!!!!!\n",
      "!! Layer !! .\n",
      "!!!!!!!!!!! \n",
      "\n",
      " Net(\n",
      "  (layer1): Sequential(\n",
      "    (0): Linear(in_features=784, out_features=10, bias=True)\n",
      "  )\n",
      ")\n",
      "\n",
      "!!!!!!!!!!!!!!!\n",
      "!! optimizer !! \n",
      "!!!!!!!!!!!!!!! \n",
      "\n",
      " Adam (\n",
      "Parameter Group 0\n",
      "    amsgrad: False\n",
      "    betas: (0.9, 0.999)\n",
      "    eps: 1e-08\n",
      "    lr: 0.001\n",
      "    weight_decay: 0\n",
      ")\n",
      "    Epoch 1: cost=9.640, accuracy=0.821/0.800 (18/18 secs)\n",
      "    Epoch 1: cost=9.524, accuracy=0.842/0.900 (17/35 secs)\n",
      "    Epoch 2: cost=8.754, accuracy=0.880/0.900 (24/59 secs)\n",
      "    Epoch 2: cost=9.091, accuracy=0.879/1.000 (18/77 secs)\n",
      "    Epoch 3: cost=8.880, accuracy=0.883/0.600 (25/102 secs)\n",
      "    Epoch 3: cost=9.064, accuracy=0.882/0.800 (26/128 secs)\n",
      "    Epoch 4: cost=8.594, accuracy=0.890/0.900 (24/152 secs)\n",
      "    Epoch 4: cost=8.985, accuracy=0.885/0.900 (18/170 secs)\n",
      "    Epoch 5: cost=9.030, accuracy=0.883/1.000 (24/194 secs)\n",
      "    Epoch 5: cost=9.181, accuracy=0.884/0.700 (15/209 secs)\n",
      "    Epoch 6: cost=9.162, accuracy=0.886/0.900 (20/229 secs)\n",
      "    Epoch 6: cost=9.193, accuracy=0.887/1.000 (14/243 secs)\n",
      "    Epoch 7: cost=8.966, accuracy=0.888/0.900 (20/263 secs)\n",
      "    Epoch 7: cost=8.886, accuracy=0.891/0.900 (14/277 secs)\n",
      "    Epoch 8: cost=9.006, accuracy=0.892/0.900 (20/297 secs)\n",
      "    Epoch 8: cost=9.274, accuracy=0.890/0.700 (18/315 secs)\n",
      "    Epoch 9: cost=8.384, accuracy=0.895/0.900 (25/340 secs)\n",
      "    Epoch 9: cost=9.017, accuracy=0.891/0.800 (16/356 secs)\n",
      "    Epoch 10: cost=8.884, accuracy=0.891/1.000 (27/383 secs)\n",
      "    Epoch 10: cost=9.087, accuracy=0.891/0.900 (12/395 secs)\n",
      "Model mnist_mlp_all train ended in 400 secs:\n",
      "Model mnist_mlp_all test report: accuracy = 0.895, (0 secs)\n",
      "\n",
      "Model mnist_mlp_all Visualization\n",
      "정답 tensor([8, 2, 3]) vs. 추정 tensor([8, 8, 3])\n"
     ]
    },
    {
     "data": {
      "image/png": "[encoded data removed]",
      "text/plain": [
       "<Figure size 216x72 with 3 Axes>"
      ]
     },
     "metadata": {
      "needs_background": "light"
     },
     "output_type": "display_data"
    }
   ],
   "source": [
    "conf_mlp =[['full',{'width':10}]]\n",
    "mnist_mlp_all = RnnExtModel('mnist_mlp_all',mset_all,conf_mlp)\n",
    "mnist_mlp_all.exec_all(epoch_count = 10, report=2)"
   ]
  },
  {
   "cell_type": "code",
   "execution_count": 199,
   "id": "54b06525",
   "metadata": {},
   "outputs": [
    {
     "name": "stdout",
     "output_type": "stream",
     "text": [
      "Model mnist_mlp_1p train started \n",
      "\n",
      "\n",
      "[[Linear(in_features=784, out_features=10, bias=True)]]\n",
      "!!!!!!!!!!!\n",
      "!! Layer !! .\n",
      "!!!!!!!!!!! \n",
      "\n",
      " Net(\n",
      "  (layer1): Sequential(\n",
      "    (0): Linear(in_features=784, out_features=10, bias=True)\n",
      "  )\n",
      ")\n",
      "\n",
      "!!!!!!!!!!!!!!!\n",
      "!! optimizer !! \n",
      "!!!!!!!!!!!!!!! \n",
      "\n",
      " Adam (\n",
      "Parameter Group 0\n",
      "    amsgrad: False\n",
      "    betas: (0.9, 0.999)\n",
      "    eps: 1e-08\n",
      "    lr: 0.001\n",
      "    weight_decay: 0\n",
      ")\n",
      "    Epoch 2: cost=66.734, accuracy=0.153/0.234 (1/1 secs)\n",
      "    Epoch 4: cost=35.590, accuracy=0.334/0.383 (0/1 secs)\n",
      "    Epoch 6: cost=19.080, accuracy=0.529/0.508 (0/1 secs)\n",
      "    Epoch 8: cost=12.904, accuracy=0.660/0.582 (0/1 secs)\n",
      "    Epoch 10: cost=8.650, accuracy=0.765/0.633 (0/1 secs)\n",
      "Model mnist_mlp_1p train ended in 1 secs:\n",
      "Model mnist_mlp_1p test report: accuracy = 0.686, (0 secs)\n",
      "\n",
      "Model mnist_mlp_1p Visualization\n",
      "정답 tensor([3, 7, 6]) vs. 추정 tensor([8, 4, 6])\n"
     ]
    },
    {
     "data": {
      "image/png": "[encoded data removed]",
      "text/plain": [
       "<Figure size 216x72 with 3 Axes>"
      ]
     },
     "metadata": {
      "needs_background": "light"
     },
     "output_type": "display_data"
    }
   ],
   "source": [
    "conf_mlp =[['full',{'width':10}]]\n",
    "mnist_mlp_1p = RnnExtModel('mnist_mlp_1p',mset_1p,conf_mlp)\n",
    "mnist_mlp_1p.exec_all(epoch_count = 10, report=2, batch_size=BATCH_SIZE, learning_rate = LEARNING_RATE)"
   ]
  },
  {
   "cell_type": "code",
   "execution_count": 164,
   "id": "8cb542bb",
   "metadata": {},
   "outputs": [
    {
     "name": "stdout",
     "output_type": "stream",
     "text": [
      "Model mnist_auto_1autoencode started:\n",
      "    Epoch 1: cost=2789.255, accuracy=-0.583/-0.583 (27/27 secs)\n",
      "    Epoch 2: cost=2541.529, accuracy=-0.518/-0.518 (30/57 secs)\n",
      "    Epoch 3: cost=2534.787, accuracy=-0.515/-0.515 (29/86 secs)\n",
      "    Epoch 4: cost=2528.522, accuracy=-0.514/-0.514 (30/116 secs)\n",
      "    Epoch 5: cost=2512.925, accuracy=-0.509/-0.509 (29/145 secs)\n",
      "    Epoch 6: cost=2506.865, accuracy=-0.507/-0.507 (29/174 secs)\n",
      "    Epoch 7: cost=2505.195, accuracy=-0.506/-0.506 (30/204 secs)\n",
      "    Epoch 8: cost=2504.282, accuracy=-0.506/-0.506 (30/234 secs)\n",
      "    Epoch 9: cost=2503.317, accuracy=-0.506/-0.506 (29/263 secs)\n",
      "    Epoch 10: cost=2503.049, accuracy=-0.506/-0.506 (30/293 secs)\n",
      "Model mnist_auto_1 autoencode ended in 293 secs :\n",
      "Model mnist_auto_1 train started \n",
      "\n",
      "\n",
      "[False, Sequential(\n",
      "  (0): Linear(in_features=784, out_features=10, bias=True)\n",
      "  (ReLU): LeakyReLU(negative_slope=0.01)\n",
      "), Linear(in_features=10, out_features=10, bias=True)]\n",
      "!!!!!!!!!!!\n",
      "!! Layer !! .\n",
      "!!!!!!!!!!! \n",
      "\n",
      " Net(\n",
      "  (encoder): Sequential(\n",
      "    (0): Linear(in_features=784, out_features=10, bias=True)\n",
      "    (ReLU): LeakyReLU(negative_slope=0.01)\n",
      "  )\n",
      "  (fc): Linear(in_features=10, out_features=10, bias=True)\n",
      ")\n",
      "\n",
      "!!!!!!!!!!!!!!!\n",
      "!! optimizer !! \n",
      "!!!!!!!!!!!!!!! \n",
      "\n",
      " Adam (\n",
      "Parameter Group 0\n",
      "    amsgrad: False\n",
      "    betas: (0.9, 0.999)\n",
      "    eps: 1e-08\n",
      "    lr: 0.001\n",
      "    weight_decay: 0\n",
      ")\n",
      "    Epoch 1: cost=3.002, accuracy=0.133/0.150 (0/0 secs)\n",
      "    Epoch 2: cost=2.081, accuracy=0.244/0.250 (0/0 secs)\n",
      "    Epoch 3: cost=1.739, accuracy=0.373/0.450 (1/1 secs)\n",
      "    Epoch 4: cost=1.437, accuracy=0.498/0.500 (0/1 secs)\n",
      "    Epoch 5: cost=1.085, accuracy=0.596/0.550 (0/1 secs)\n",
      "    Epoch 6: cost=0.844, accuracy=0.698/0.900 (0/1 secs)\n",
      "    Epoch 7: cost=0.689, accuracy=0.754/0.700 (1/2 secs)\n",
      "    Epoch 8: cost=0.586, accuracy=0.794/0.600 (0/2 secs)\n",
      "    Epoch 9: cost=0.469, accuracy=0.827/0.550 (0/2 secs)\n",
      "    Epoch 10: cost=0.414, accuracy=0.856/0.600 (0/2 secs)\n",
      "Model mnist_auto_1 train ended in 2 secs:\n",
      "Model mnist_auto_1 test report: accuracy = 0.694, (0 secs)\n",
      "\n",
      "Model mnist_auto_1 Visualization\n",
      "정답 tensor([2, 0, 0]) vs. 추정 tensor([2, 0, 0])\n"
     ]
    },
    {
     "data": {
      "image/png": "[encoded data removed]",
      "text/plain": [
       "<Figure size 216x72 with 3 Axes>"
      ]
     },
     "metadata": {
      "needs_background": "light"
     },
     "output_type": "display_data"
    },
    {
     "data": {
      "image/png": "[encoded data removed]",
      "text/plain": [
       "<Figure size 216x72 with 3 Axes>"
      ]
     },
     "metadata": {
      "needs_background": "light"
     },
     "output_type": "display_data"
    }
   ],
   "source": [
    "conf_auto ={\n",
    "    'encoder':[['full',{'width':10}]],\n",
    "    'decoder':[['full',{'width':784}]],\n",
    "    'supervised':[['full',{'width':10}]]\n",
    "}\n",
    "\n",
    "mnist_auto_1 = Autoencoder('mnist_auto_1', mset_1p, conf_auto)\n",
    "mnist_auto_1.autoencode(epoch_count = 10, report=1, learning_rate = LEARNING_RATE, batch_size=BATCH_SIZE)\n",
    "mnist_auto_1.exec_all(epoch_count=10, report=1,learning_rate = LEARNING_RATE, batch_size=BATCH_SIZE)"
   ]
  },
  {
   "cell_type": "code",
   "execution_count": null,
   "id": "c39d599e",
   "metadata": {},
   "outputs": [],
   "source": []
  }
 ],
 "metadata": {
  "kernelspec": {
   "display_name": "Python 3 (ipykernel)",
   "language": "python",
   "name": "python3"
  },
  "language_info": {
   "codemirror_mode": {
    "name": "ipython",
    "version": 3
   },
   "file_extension": ".py",
   "mimetype": "text/x-python",
   "name": "python",
   "nbconvert_exporter": "python",
   "pygments_lexer": "ipython3",
   "version": "3.7.0"
  }
 },
 "nbformat": 4,
 "nbformat_minor": 5
}
