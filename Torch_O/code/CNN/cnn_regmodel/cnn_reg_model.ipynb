{
 "cells": [
  {
   "cell_type": "code",
   "execution_count": 1,
   "id": "71c1b2c6",
   "metadata": {},
   "outputs": [],
   "source": [
    "BASE_DIR = '../'*3\n",
    "RUN_DIR = BASE_DIR+\"code/CNN/cnn_basic/cnn_basic_model.ipynb\"\n",
    "%run {RUN_DIR}"
   ]
  },
  {
   "cell_type": "code",
   "execution_count": 33,
   "id": "63a2d7e6",
   "metadata": {},
   "outputs": [],
   "source": [
    "class CnnRegModel(CnnBasicModel):\n",
    "    def __init__(self, name, dataset, hconfigs, show_maps=False,\n",
    "                l2_decay=0, l1_decay=0):\n",
    "        self.l2_decay = l2_decay\n",
    "        self.l1_decay = l1_decay\n",
    "        self.use_flatten = False\n",
    "        super(CnnRegModel, self).__init__(name, dataset, hconfigs, show_maps)\n",
    "        \n",
    "    def exec_all(self, epoch_count=10, batch_size = 10, learning_rate = 0.001,\n",
    "                 report=0, show_cnt = 3, show_params=False,num_workers=0):\n",
    "        super(CnnRegModel, self).exec_all(epoch_count, batch_size, \n",
    "                                         learning_rate, report, show_cnt, num_workers)\n",
    "        \n",
    "        if show_params : self.show_param_dist()"
   ]
  },
  {
   "cell_type": "code",
   "execution_count": 23,
   "id": "f5ec3f44",
   "metadata": {},
   "outputs": [],
   "source": [
    "class AddGaussianNoise(nn.Module):\n",
    "    def __init__(self, mean=0., std=1.):\n",
    "        super(AddGaussianNoise, self).__init__()\n",
    "        self.std = std\n",
    "        self.mean = mean\n",
    "        \n",
    "    def __call__(self, tensor):\n",
    "        return tensor + torch.randn(tensor.size()) * self.std + self.mean\n",
    "    \n",
    "    def __repr__(self):\n",
    "        return self.__class__.__name__ + '(mean={0}, std={1})'.format(self.mean, self.std)"
   ]
  },
  {
   "cell_type": "code",
   "execution_count": 3,
   "id": "64c973a6",
   "metadata": {},
   "outputs": [],
   "source": [
    "def cnn_reg_show_param_dist(self):\n",
    "    params = self.collect_params().cpu().detach().numpy()\n",
    "    \n",
    "    mu = np.mean(params)\n",
    "    sigma = np.sqrt(np.var(params))\n",
    "    plt.hist(params, 100, density=True, facecolor='g', alpha=0.75)\n",
    "    plt.axis([-0.2, 0.2, 0, 20.0])\n",
    "    plt.text(0.08, 15.0, 'mu={:5.3f}'.format(mu))\n",
    "    plt.text(0.08, 13.0, 'sigma={:5.3f}'.format(sigma))\n",
    "    plt.grid(True)\n",
    "    plt.show()\n",
    "    \n",
    "    total_count = len(params)\n",
    "    near_zero_count = len(list(x for x in params if -1e-5 <= x <= 1e-5))\n",
    "    print('Near 0 parameters = {:4.1f}%({}/{})'.\n",
    "        format(near_zero_count/total_count*100, near_zero_count, total_count))\n",
    "\n",
    "#1 . pm_output에 있는 w값\n",
    "# 2.hidden에 있는 값 -> w, k(커널)\n",
    "\n",
    "        \n",
    "def cnn_reg_collect_params(self):\n",
    "    param_list=[]\n",
    "\n",
    "    for layer in self.model.layers:\n",
    "        \n",
    "        if isinstance(layer, nn.Linear)|isinstance(layer, nn.Conv2d):\n",
    "            param_list += [layer.weight.flatten()]\n",
    "            \n",
    "#             == 'weight': param_list+=param.flatten().tolist()\n",
    "    \n",
    "#     print(len(param_list), type(param_list))\n",
    "    param_list=torch.cat(param_list)\n",
    "    return param_list\n",
    "\n",
    "CnnRegModel.show_param_dist = cnn_reg_show_param_dist\n",
    "CnnRegModel.collect_params = cnn_reg_collect_params"
   ]
  },
  {
   "cell_type": "code",
   "execution_count": null,
   "id": "75df9494",
   "metadata": {},
   "outputs": [],
   "source": [
    "def cnn_reg_forward_extra_cost(self):\n",
    "#     extra = super(CnnRegModel, self).forward_extra_cost(y)\n",
    "    if self.l1_decay>0:\n",
    "        params = self.model.parameters()\n",
    "        extra = sum(p.abs().sum()for p in params)\n",
    "        \n",
    "        return self.l1_decay * extra\n",
    "    \n",
    "    return self.l1_decay\n",
    "CnnRegModel.forward_extra_cost = cnn_reg_forward_extra_cost"
   ]
  },
  {
   "cell_type": "code",
   "execution_count": 34,
   "id": "2f356a48",
   "metadata": {},
   "outputs": [],
   "source": [
    "def cnn_reg_alloc_dropout_layer(self, input_shape, hconfig):\n",
    "    \n",
    "    keep_prob = get_conf_param(hconfig, 'keep_prob', 1.0)\n",
    "    assert keep_prob > 0 and keep_prob <= 1\n",
    "    if len(input_shape) == 3:\n",
    "        pm = nn.Dropout2d(p=keep_prob)\n",
    "    return [pm], input_shape\n",
    "\n",
    "\n",
    "CnnRegModel.alloc_dropout_layer = cnn_reg_alloc_dropout_layer"
   ]
  },
  {
   "cell_type": "code",
   "execution_count": null,
   "id": "1504fb7a",
   "metadata": {},
   "outputs": [],
   "source": [
    "def cnn_reg_alloc_noise_layer(self, input_shape, hconfig):\n",
    "    noise_type = get_conf_param(hconfig, 'type', 'normal')\n",
    "    m = get_conf_param(hconfig, 'mean', 0.)\n",
    "    s = get_conf_param(hconfig, 'std', 1.0)\n",
    "    ratio = get_conf_param(hconfig, 'ratio', 1.0)\n",
    "\n",
    "    assert noise_type == 'normal'\n",
    "    pm = AddGaussianNoise(mean=m,std=s)\n",
    "    \n",
    "    return [pm], input_shape\n",
    "\n",
    "CnnRegModel.alloc_noise_layer = cnn_reg_alloc_noise_layer"
   ]
  },
  {
   "cell_type": "code",
   "execution_count": null,
   "id": "aa817a74",
   "metadata": {},
   "outputs": [],
   "source": [
    "def cnn_reg_alloc_batch_normal_layer(self, input_shape, hconfig):\n",
    "    rescale=get_conf_param(hconfig, 'rescale',True)\n",
    "    if len(input_shape) == 3 :\n",
    "        chn,_,_ = input_shape\n",
    "        ychn = get_conf_param(hconfig, 'chn',chn)\n",
    "        bc_affine = get_conf_param(hconfig, 'affine', rescale)\n",
    "        bc_epsilon = get_conf_param(hconfig, 'epsilon', 1e-5)\n",
    "        bc_momentum = get_conf_param(hconfig, 'momentum', 0.1)\n",
    "    else:\n",
    "        assert len(input_shape)==2\n",
    "        chn,_ = input_shape\n",
    "        ychn = get_conf_param(hconfig, 'chn',chn)\n",
    "        bc_affine = get_conf_param(hconfig, 'affine', rescale)\n",
    "        bc_epsilon = get_conf_param(hconfig, 'epsilon', 1e-5)\n",
    "        bc_momentum = get_conf_param(hconfig, 'momentum', 0.1)\n",
    "    \n",
    "#     bn_dim = input_shape[-1]\n",
    "#     pm['mavg'] = np.zeros(bn_dim)\n",
    "#     pm['mvar'] = np.ones(bn_dim)\n",
    "#     if rescale:\n",
    "#         pm['scale'] = np.ones(bn_dim)\n",
    "#         pm['shift'] = np.zeros(bn_dim)\n",
    "        \n",
    "    if len(input_shape) == 3 :\n",
    "        pm = nn.BatchNorm2d(ychn,affine=bc_affine,momentum=bc_momentum,eps=bc_epsilon)\n",
    "    if len(input_shape) == 2:\n",
    "        pm =  nn.BatchNorm1d(ychn,affine=bc_affine,momentum=bc_momentum,eps=bc_epsilon)\n",
    "    return [pm], input_shape\n",
    "\n",
    "\n",
    "\n",
    "CnnRegModel.alloc_batch_normal_layer = cnn_reg_alloc_batch_normal_layer\n"
   ]
  },
  {
   "cell_type": "code",
   "execution_count": null,
   "id": "10c66480",
   "metadata": {},
   "outputs": [],
   "source": [
    "# nn.BatchNorm2d()`"
   ]
  },
  {
   "cell_type": "code",
   "execution_count": null,
   "id": "07abc16b",
   "metadata": {},
   "outputs": [],
   "source": [
    "# nn.BatchNorm2d(ychn, affine=bc_affine,momentum=bc_momentum,eps=bc_epsilon)"
   ]
  },
  {
   "cell_type": "code",
   "execution_count": 3,
   "id": "3f48ff88",
   "metadata": {},
   "outputs": [],
   "source": [
    "def get_optim(self, use_adam):\n",
    "    \n",
    "    if use_adam:\n",
    "        optim=torch.optim.Adam(self.model.parameters(),lr=self.learning_rate,\\\n",
    "                         betas=(0.9,0.999),eps=1e-08, weight_decay=self.l2_decay)\n",
    "    \n",
    "    else :\n",
    "        optim=torch.optim.SGD(self.model.parameters(),lr = self.learning_rate,weight_decay=self.l2_decay)\n",
    "        \n",
    "    \n",
    "    return optim\n",
    "\n",
    "CnnRegModel.get_optim = get_optim"
   ]
  },
  {
   "cell_type": "code",
   "execution_count": null,
   "id": "82ba9860",
   "metadata": {},
   "outputs": [],
   "source": [
    "def weights_init(self,m):\n",
    "    if isinstance(m, nn.Linear)|isinstance(m, nn.Conv2d):\n",
    "        torch.nn.init.normal_(m.weight, mean=0., std=0.030)\n",
    "        torch.nn.init.zeros_(m.bias)\n",
    "    \n",
    "CnnRegModel.weights_init = weights_init"
   ]
  },
  {
   "cell_type": "code",
   "execution_count": null,
   "id": "813d9a09",
   "metadata": {},
   "outputs": [],
   "source": []
  }
 ],
 "metadata": {
  "kernelspec": {
   "display_name": "Python 3 (ipykernel)",
   "language": "python",
   "name": "python3"
  },
  "language_info": {
   "codemirror_mode": {
    "name": "ipython",
    "version": 3
   },
   "file_extension": ".py",
   "mimetype": "text/x-python",
   "name": "python",
   "nbconvert_exporter": "python",
   "pygments_lexer": "ipython3",
   "version": "3.7.11"
  }
 },
 "nbformat": 4,
 "nbformat_minor": 5
}
