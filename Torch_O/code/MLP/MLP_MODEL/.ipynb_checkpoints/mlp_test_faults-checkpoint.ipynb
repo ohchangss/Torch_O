{
 "cells": [
  {
   "cell_type": "code",
   "execution_count": 1,
   "id": "d98d20e3",
   "metadata": {},
   "outputs": [
    {
     "name": "stdout",
     "output_type": "stream",
     "text": [
      "Using device: cuda\n",
      "NVIDIA GeForce RTX 3060 Laptop GPU\n",
      "Memory Usage:\n",
      "Allocated: 0.0 GB\n",
      "Cached:    0.0 GB\n",
      "Using PyTorch version: 2.4.1+cu124\n"
     ]
    }
   ],
   "source": [
    "BASE_DIR = '../'*3\n",
    "MLPMODEL = BASE_DIR +'code/MLP/MLP_MODEL/mlp_model.ipynb'\n",
    "PREPRO = BASE_DIR + 'code/UTIL/dataset/faults_prepro.ipynb'\n",
    "%run {MLPMODEL}\n",
    "%run {PREPRO}"
   ]
  },
  {
   "cell_type": "code",
   "execution_count": 2,
   "id": "10238098",
   "metadata": {},
   "outputs": [],
   "source": [
    "EPOCH = 50\n",
    "BATCH_SIZE=10\n",
    "NUM_WORKERS=0\n",
    "LEARNING_RATE = 5e-07"
   ]
  },
  {
   "cell_type": "code",
   "execution_count": 3,
   "id": "eaab3cb8",
   "metadata": {},
   "outputs": [
    {
     "name": "stdout",
     "output_type": "stream",
     "text": [
      "Model steel_model train started \n",
      "\n",
      "\n",
      "CrossEntropyLoss()\n",
      "!!!!!!!!!!!\n",
      "!! Layer !! .\n",
      "!!!!!!!!!!! \n",
      "\n",
      " Net(\n",
      "  (layers): Sequential(\n",
      "    (0): Linear(in_features=27, out_features=12, bias=True)\n",
      "    (1): Linear(in_features=12, out_features=6, bias=True)\n",
      "    (2): Linear(in_features=6, out_features=4, bias=True)\n",
      "    (3): Linear(in_features=4, out_features=7, bias=True)\n",
      "  )\n",
      ")\n",
      "\n",
      "!!!!!!!!!!!!!!!\n",
      "!! optimizer !! \n",
      "!!!!!!!!!!!!!!! \n",
      "\n",
      " SGD (\n",
      "Parameter Group 0\n",
      "    dampening: 0\n",
      "    differentiable: False\n",
      "    foreach: None\n",
      "    fused: None\n",
      "    lr: 5e-07\n",
      "    maximize: False\n",
      "    momentum: 0\n",
      "    nesterov: False\n",
      "    weight_decay: 0\n",
      ")\n",
      "    Epoch 10: cost=16.019, accuracy=0.417/0.470 (4/4 secs)\n",
      "    Epoch 20: cost=15.636, accuracy=0.417/0.500 (3/7 secs)\n",
      "    Epoch 30: cost=15.418, accuracy=0.426/0.420 (2/9 secs)\n",
      "    Epoch 40: cost=15.344, accuracy=0.438/0.430 (3/12 secs)\n",
      "    Epoch 50: cost=15.245, accuracy=0.425/0.500 (3/15 secs)\n",
      "Model steel_model train ended in 15 secs:\n",
      "Model steel_model test report: accuracy = 0.492, (0 secs)\n",
      "\n",
      "Model steel_model Visualization\n",
      "추정확률분포 [14,15,13, 7,11,20,21] => 추정 Other_Faults : 정답 Stains => X\n",
      "추정확률분포 [13,15,12, 3, 8,24,26] => 추정 Other_Faults : 정답 Other_Faults => O\n",
      "추정확률분포 [10,13, 8, 1, 5,30,33] => 추정 Other_Faults : 정답 Bumps => X\n"
     ]
    }
   ],
   "source": [
    "sd = SteelDataset()\n",
    "sm = Mlp_Torch('steel_model', sd, [12,6,4])\n",
    "sm.exec_all(epoch_count=EPOCH, report=10, batch_size =BATCH_SIZE \\\n",
    "           , learning_rate = LEARNING_RATE , num_workers = NUM_WORKERS)"
   ]
  },
  {
   "cell_type": "code",
   "execution_count": null,
   "id": "2dfb4040-a021-4fe1-9779-00ba8b78a79e",
   "metadata": {},
   "outputs": [],
   "source": []
  }
 ],
 "metadata": {
  "kernelspec": {
   "display_name": "Python 3 (ipykernel)",
   "language": "python",
   "name": "python3"
  },
  "language_info": {
   "codemirror_mode": {
    "name": "ipython",
    "version": 3
   },
   "file_extension": ".py",
   "mimetype": "text/x-python",
   "name": "python",
   "nbconvert_exporter": "python",
   "pygments_lexer": "ipython3",
   "version": "3.11.9"
  }
 },
 "nbformat": 4,
 "nbformat_minor": 5
}
