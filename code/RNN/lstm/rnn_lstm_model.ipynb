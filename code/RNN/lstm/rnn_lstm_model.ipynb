{
 "cells": [
  {
   "cell_type": "code",
   "execution_count": null,
   "id": "02e94401",
   "metadata": {},
   "outputs": [],
   "source": [
    "BASE_DIR = '../'*3\n",
    "RUN_DIR = BASE_DIR + 'code/RNN/rnn_basic/rnn_basic_model.ipynb'"
   ]
  },
  {
   "cell_type": "code",
   "execution_count": null,
   "id": "d87fc189",
   "metadata": {},
   "outputs": [],
   "source": [
    "%run {RUN_DIR}"
   ]
  },
  {
   "cell_type": "code",
   "execution_count": null,
   "id": "ce29cd30",
   "metadata": {},
   "outputs": [],
   "source": [
    "class RnnLstmModel(RnnBasicModel):\n",
    "    pass"
   ]
  },
  {
   "cell_type": "code",
   "execution_count": null,
   "id": "2a850ca6",
   "metadata": {},
   "outputs": [],
   "source": [
    "def rnn_alloc_lstm_layer(self, input_shape, hconfig):\n",
    "    inseq = get_conf_param(hconfig, 'inseq', True)\n",
    "    outseq = get_conf_param(hconfig, 'outseq',True)\n",
    "    use_state = get_conf_param(hconfig, 'use_state', False)\n",
    "    # use_state -> Fasle = 순환 벡터\n",
    "    # use_state -> True = 상태 벡터\n",
    "    \n",
    "    if inseq:\n",
    "        timesteps1, timefeats = input_shape\n",
    "    else:\n",
    "        timesteps1 = get_conf_param(hconfig, 'timesteps')+1\n",
    "        timefeats = np.prod(input_shape)\n",
    "        \n",
    "        \n",
    "    recur_size = get_conf_param(hconfig, 'recur_size')\n",
    "    ex_inp_dim = timefeats + recur_size\n",
    "#     weight, bias = self.alloc_param_pair([ex_inp_dim, 4*recur_size])\n",
    "    # 3개의 gate, 1개의 input block을 퍼셉트론형식으로 처리.\n",
    "#     bias[0*recur_size:1*recur_size] =1.0\n",
    "    # forget gate의 편향 초기값 1로 설정\n",
    "    \n",
    "    if outseq:\n",
    "        output_shape = [timesteps1, recure_size]\n",
    "    else:\n",
    "        output_shape = [recur_size]\n",
    "        \n",
    "    rnn_info = [inseq, outseq, timesteps1, timefeats, recur_size, use_state]\n",
    "    paramas=nn.Sequential(nn.LSTM(input_size=timefeats,hidden_size=recur_size))\n",
    "    return [paramas], output_shape\n",
    "\n",
    "\n",
    "RnnLstmModel.alloc_lstm_layer = rnn_alloc_lstm_layer"
   ]
  },
  {
   "cell_type": "code",
   "execution_count": null,
   "id": "8d2b5bdc",
   "metadata": {},
   "outputs": [],
   "source": []
  }
 ],
 "metadata": {
  "kernelspec": {
   "display_name": "Python 3 (ipykernel)",
   "language": "python",
   "name": "python3"
  },
  "language_info": {
   "codemirror_mode": {
    "name": "ipython",
    "version": 3
   },
   "file_extension": ".py",
   "mimetype": "text/x-python",
   "name": "python",
   "nbconvert_exporter": "python",
   "pygments_lexer": "ipython3",
   "version": "3.7.0"
  }
 },
 "nbformat": 4,
 "nbformat_minor": 5
}
