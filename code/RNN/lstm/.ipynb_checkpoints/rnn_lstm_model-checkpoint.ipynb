{
 "cells": [
  {
   "cell_type": "code",
   "execution_count": null,
   "id": "02e94401",
   "metadata": {},
   "outputs": [],
   "source": [
    "BASE_DIR = '../'*3\n",
    "RUN_DIR = BASE_DIR + 'code/RNN/rnn_basic/rnn_basic_model.ipynb'"
   ]
  },
  {
   "cell_type": "code",
   "execution_count": null,
   "id": "d87fc189",
   "metadata": {},
   "outputs": [],
   "source": [
    "%run {RUN_DIR}"
   ]
  },
  {
   "cell_type": "code",
   "execution_count": null,
   "id": "ce29cd30",
   "metadata": {},
   "outputs": [],
   "source": [
    "class RnnLstmModel(RnnBasicModel):\n",
    "    pass"
   ]
  },
  {
   "cell_type": "code",
   "execution_count": null,
   "id": "2a850ca6",
   "metadata": {},
   "outputs": [],
   "source": [
    "def rnn_alloc_lstm_layer(self, input_shape, hconfig):\n",
    "    inseq = get_conf_param(hconfig, 'inseq', True)\n",
    "    outseq = get_conf_param(hconfig, 'outseq',True)\n",
    "    use_state = get_conf_param(hconfig, 'use_state', False)\n",
    "    # use_state -> Fasle = 순환 벡터\n",
    "    # use_state -> True = 상태 벡터\n",
    "    \n",
    "    if inseq:\n",
    "        timesteps1, timefeats = input_shape\n",
    "    else:\n",
    "        timesteps1 = get_conf_param(hconfig, 'timesteps')+1\n",
    "        timefeats = np.prod(input_shape)\n",
    "        \n",
    "        \n",
    "    recur_size = get_conf_param(hconfig, 'recur_size')\n",
    "    ex_inp_dim = timefeats + recur_size\n",
    "#     weight, bias = self.alloc_param_pair([ex_inp_dim, 4*recur_size])\n",
    "    # 3개의 gate, 1개의 input block을 퍼셉트론형식으로 처리.\n",
    "#     bias[0*recur_size:1*recur_size] =1.0\n",
    "    # forget gate의 편향 초기값 1로 설정\n",
    "    \n",
    "    if outseq:\n",
    "        output_shape = [timesteps1, recure_size]\n",
    "    else:\n",
    "        output_shape = [recur_size]\n",
    "        \n",
    "    rnn_info = [inseq, outseq, timesteps1, timefeats, recur_size, use_state]\n",
    "    paramas=nn.LSTM(input_size=timefeats, hidden_size=recur_size,batch_first=True)\n",
    "    lstm = LSTM(paramas)\n",
    "    return [lstm], output_shape\n",
    "\n",
    "\n",
    "RnnLstmModel.alloc_lstm_layer = rnn_alloc_lstm_layer"
   ]
  },
  {
   "cell_type": "code",
   "execution_count": 1,
   "id": "8d2b5bdc",
   "metadata": {},
   "outputs": [],
   "source": [
    "import torch.nn as nn"
   ]
  },
  {
   "cell_type": "code",
   "execution_count": null,
   "id": "e226e4ab",
   "metadata": {},
   "outputs": [],
   "source": [
    "class LSTM(nn.Module):\n",
    "    def __init__(self,lstm):\n",
    "        super().__init__()\n",
    "        self.lstm = lstm\n",
    "        \n",
    "    def forward(self,x):\n",
    "        print(x.shape)\n",
    "#         out=self.lstm(x)\n",
    "#         print(len(out))\n",
    "        out, hidden = self.lstm(x)\n",
    "        print(out.shape,'out.shapeout.shapeout.shape')\n",
    "#         print(hidden.shape,'hidden.shapehidden.shapehidden.shape')\n",
    "        return out[-1]"
   ]
  },
  {
   "cell_type": "code",
   "execution_count": 2,
   "id": "9c63e4f4",
   "metadata": {},
   "outputs": [],
   "source": [
    "import torch"
   ]
  },
  {
   "cell_type": "code",
   "execution_count": 53,
   "id": "e925bd46",
   "metadata": {},
   "outputs": [],
   "source": [
    "a=torch.rand(10,5,9) # seq =10, mb = 5, hidden = 9\n",
    "\n",
    "\n",
    "b,c=nn.LSTM(9,10)(a)\n",
    "f=nn.Flatten(-1,1)(b[-1])\n",
    "out=nn.Linear(10,1)(f)"
   ]
  },
  {
   "cell_type": "code",
   "execution_count": 54,
   "id": "9a39ede4",
   "metadata": {},
   "outputs": [
    {
     "data": {
      "text/plain": [
       "torch.Size([5, 10])"
      ]
     },
     "execution_count": 54,
     "metadata": {},
     "output_type": "execute_result"
    }
   ],
   "source": [
    "f.shape"
   ]
  },
  {
   "cell_type": "code",
   "execution_count": 55,
   "id": "b42de1ab",
   "metadata": {},
   "outputs": [
    {
     "data": {
      "text/plain": [
       "torch.Size([5, 1])"
      ]
     },
     "execution_count": 55,
     "metadata": {},
     "output_type": "execute_result"
    }
   ],
   "source": [
    "out.shape"
   ]
  },
  {
   "cell_type": "code",
   "execution_count": null,
   "id": "e43f880d",
   "metadata": {},
   "outputs": [],
   "source": []
  },
  {
   "cell_type": "code",
   "execution_count": 40,
   "id": "334df63e",
   "metadata": {},
   "outputs": [
    {
     "data": {
      "text/plain": [
       "torch.Size([10, 5, 10])"
      ]
     },
     "execution_count": 40,
     "metadata": {},
     "output_type": "execute_result"
    }
   ],
   "source": [
    "b.shape"
   ]
  },
  {
   "cell_type": "code",
   "execution_count": 41,
   "id": "86e32a2f",
   "metadata": {},
   "outputs": [],
   "source": [
    "d,e=c"
   ]
  },
  {
   "cell_type": "code",
   "execution_count": 42,
   "id": "5e03f2a2",
   "metadata": {},
   "outputs": [
    {
     "data": {
      "text/plain": [
       "torch.Size([1, 10, 10])"
      ]
     },
     "execution_count": 42,
     "metadata": {},
     "output_type": "execute_result"
    }
   ],
   "source": [
    "d.shape"
   ]
  },
  {
   "cell_type": "code",
   "execution_count": 38,
   "id": "cd1657a1",
   "metadata": {},
   "outputs": [
    {
     "data": {
      "text/plain": [
       "torch.Size([1, 5, 10])"
      ]
     },
     "execution_count": 38,
     "metadata": {},
     "output_type": "execute_result"
    }
   ],
   "source": [
    "e.shape"
   ]
  },
  {
   "cell_type": "code",
   "execution_count": null,
   "id": "7c95f9a7",
   "metadata": {},
   "outputs": [],
   "source": []
  }
 ],
 "metadata": {
  "kernelspec": {
   "display_name": "Python 3 (ipykernel)",
   "language": "python",
   "name": "python3"
  },
  "language_info": {
   "codemirror_mode": {
    "name": "ipython",
    "version": 3
   },
   "file_extension": ".py",
   "mimetype": "text/x-python",
   "name": "python",
   "nbconvert_exporter": "python",
   "pygments_lexer": "ipython3",
   "version": "3.7.0"
  }
 },
 "nbformat": 4,
 "nbformat_minor": 5
}
