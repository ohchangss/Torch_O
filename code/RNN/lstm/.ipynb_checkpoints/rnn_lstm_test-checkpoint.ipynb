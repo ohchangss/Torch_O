{
 "cells": [
  {
   "cell_type": "code",
   "execution_count": 25,
   "id": "e839abb5",
   "metadata": {},
   "outputs": [],
   "source": [
    "BASE_DIR ='../'*3\n",
    "MODEL_DIR = BASE_DIR +'code/RNN/lstm/rnn_lstm_model.ipynb'\n",
    "DATA_DIR = BASE_DIR +'code/RNN/lstm/dataset_sounds.ipynb'"
   ]
  },
  {
   "cell_type": "code",
   "execution_count": 39,
   "id": "d5c77c0c",
   "metadata": {},
   "outputs": [
    {
     "name": "stdout",
     "output_type": "stream",
     "text": [
      "Using device: cpu\n",
      "Using PyTorch version: 1.9.0\n"
     ]
    }
   ],
   "source": [
    "%run {DATA_DIR}\n",
    "%run {MODEL_DIR}"
   ]
  },
  {
   "cell_type": "code",
   "execution_count": 40,
   "id": "6771209e",
   "metadata": {},
   "outputs": [
    {
     "name": "stdout",
     "output_type": "stream",
     "text": [
      "loaded from cache\n"
     ]
    }
   ],
   "source": [
    "usd_10_10 = UrbanSoundDataset(100,100)"
   ]
  },
  {
   "cell_type": "code",
   "execution_count": 41,
   "id": "d3a96062",
   "metadata": {},
   "outputs": [],
   "source": [
    "conf_lstm = ['lstm',{'recur_size':20,'outseq':False}]"
   ]
  },
  {
   "cell_type": "code",
   "execution_count": 42,
   "id": "1264c856",
   "metadata": {},
   "outputs": [],
   "source": [
    "us_lstm_10_10 = RnnLstmModel('us_lstm_10_10', usd_10_10, conf_lstm)\n"
   ]
  },
  {
   "cell_type": "code",
   "execution_count": 43,
   "id": "cd689b83",
   "metadata": {},
   "outputs": [
    {
     "name": "stdout",
     "output_type": "stream",
     "text": [
      "Model us_lstm_10_10 train started \n",
      "\n",
      "\n",
      "!!!!!!!!!!!\n",
      "!! Layer !! .\n",
      "!!!!!!!!!!! \n",
      "\n",
      " Net(\n",
      "  (layer1): Sequential(\n",
      "    (0): LSTM(\n",
      "      (lstm): LSTM(100, 20)\n",
      "    )\n",
      "    (1): Linear(in_features=20, out_features=10, bias=True)\n",
      "  )\n",
      ")\n",
      "\n",
      "!!!!!!!!!!!!!!!\n",
      "!! optimizer !! \n",
      "!!!!!!!!!!!!!!! \n",
      "\n",
      " Adam (\n",
      "Parameter Group 0\n",
      "    amsgrad: False\n",
      "    betas: (0.9, 0.999)\n",
      "    eps: 1e-08\n",
      "    lr: 0.001\n",
      "    weight_decay: 0\n",
      ")\n",
      "torch.Size([41, 41, 100])\n",
      "torch.Size([41, 41, 20]) out.shapeout.shapeout.shape\n",
      "torch.Size([41, 41, 100])\n",
      "torch.Size([41, 41, 20]) out.shapeout.shapeout.shape\n",
      "torch.Size([41, 41, 100])\n",
      "torch.Size([41, 41, 20]) out.shapeout.shapeout.shape\n",
      "    Epoch 1: cost=2.297, accuracy=0.085/0.024 (1/1 secs)\n",
      "torch.Size([41, 41, 100])\n",
      "torch.Size([41, 41, 20]) out.shapeout.shapeout.shape\n",
      "torch.Size([41, 41, 100])\n",
      "torch.Size([41, 41, 20]) out.shapeout.shapeout.shape\n",
      "torch.Size([41, 41, 100])\n",
      "torch.Size([41, 41, 20]) out.shapeout.shapeout.shape\n",
      "    Epoch 1: cost=2.302, accuracy=0.110/0.146 (0/1 secs)\n",
      "torch.Size([41, 41, 100])\n",
      "torch.Size([41, 41, 20]) out.shapeout.shapeout.shape\n",
      "torch.Size([41, 41, 100])\n",
      "torch.Size([41, 41, 20]) out.shapeout.shapeout.shape\n",
      "torch.Size([41, 41, 100])\n",
      "torch.Size([41, 41, 20]) out.shapeout.shapeout.shape\n",
      "    Epoch 1: cost=2.300, accuracy=0.098/0.073 (0/1 secs)\n",
      "torch.Size([41, 41, 100])\n",
      "torch.Size([41, 41, 20]) out.shapeout.shapeout.shape\n",
      "torch.Size([41, 41, 100])\n",
      "torch.Size([41, 41, 20]) out.shapeout.shapeout.shape\n",
      "torch.Size([41, 41, 100])\n",
      "torch.Size([41, 41, 20]) out.shapeout.shapeout.shape\n",
      "    Epoch 1: cost=2.301, accuracy=0.098/0.171 (1/2 secs)\n",
      "torch.Size([41, 41, 100])\n",
      "torch.Size([41, 41, 20]) out.shapeout.shapeout.shape\n",
      "torch.Size([41, 41, 100])\n",
      "torch.Size([41, 41, 20]) out.shapeout.shapeout.shape\n",
      "torch.Size([41, 41, 100])\n",
      "torch.Size([41, 41, 20]) out.shapeout.shapeout.shape\n",
      "    Epoch 1: cost=2.299, accuracy=0.100/0.098 (0/2 secs)\n",
      "torch.Size([41, 41, 100])\n",
      "torch.Size([41, 41, 20]) out.shapeout.shapeout.shape\n",
      "torch.Size([41, 41, 100])\n",
      "torch.Size([41, 41, 20]) out.shapeout.shapeout.shape\n",
      "torch.Size([41, 41, 100])\n",
      "torch.Size([41, 41, 20]) out.shapeout.shapeout.shape\n",
      "    Epoch 1: cost=2.300, accuracy=0.098/0.073 (0/2 secs)\n",
      "torch.Size([41, 41, 100])\n",
      "torch.Size([41, 41, 20]) out.shapeout.shapeout.shape\n",
      "torch.Size([41, 41, 100])\n",
      "torch.Size([41, 41, 20]) out.shapeout.shapeout.shape\n",
      "torch.Size([41, 41, 100])\n",
      "torch.Size([41, 41, 20]) out.shapeout.shapeout.shape\n",
      "    Epoch 1: cost=2.301, accuracy=0.091/0.098 (0/2 secs)\n",
      "torch.Size([41, 41, 100])\n",
      "torch.Size([41, 41, 20]) out.shapeout.shapeout.shape\n",
      "torch.Size([41, 41, 100])\n",
      "torch.Size([41, 41, 20]) out.shapeout.shapeout.shape\n",
      "torch.Size([41, 41, 100])\n",
      "torch.Size([41, 41, 20]) out.shapeout.shapeout.shape\n",
      "    Epoch 1: cost=2.299, accuracy=0.098/0.049 (0/2 secs)\n",
      "torch.Size([41, 41, 100])\n",
      "torch.Size([41, 41, 20]) out.shapeout.shapeout.shape\n",
      "torch.Size([41, 41, 100])\n",
      "torch.Size([41, 41, 20]) out.shapeout.shapeout.shape\n",
      "torch.Size([41, 41, 100])\n",
      "torch.Size([41, 41, 20]) out.shapeout.shapeout.shape\n",
      "    Epoch 1: cost=2.300, accuracy=0.100/0.098 (0/2 secs)\n",
      "torch.Size([41, 41, 100])\n",
      "torch.Size([41, 41, 20]) out.shapeout.shapeout.shape\n",
      "torch.Size([41, 41, 100])\n",
      "torch.Size([41, 41, 20]) out.shapeout.shapeout.shape\n",
      "torch.Size([41, 41, 100])\n",
      "torch.Size([41, 41, 20]) out.shapeout.shapeout.shape\n",
      "    Epoch 1: cost=2.298, accuracy=0.104/0.098 (0/2 secs)\n",
      "torch.Size([41, 41, 100])\n",
      "torch.Size([41, 41, 20]) out.shapeout.shapeout.shape\n",
      "torch.Size([41, 41, 100])\n",
      "torch.Size([41, 41, 20]) out.shapeout.shapeout.shape\n",
      "torch.Size([41, 41, 100])\n",
      "torch.Size([41, 41, 20]) out.shapeout.shapeout.shape\n",
      "    Epoch 1: cost=2.298, accuracy=0.103/0.220 (0/2 secs)\n",
      "torch.Size([41, 41, 100])\n",
      "torch.Size([41, 41, 20]) out.shapeout.shapeout.shape\n",
      "torch.Size([41, 41, 100])\n",
      "torch.Size([41, 41, 20]) out.shapeout.shapeout.shape\n",
      "torch.Size([41, 41, 100])\n",
      "torch.Size([41, 41, 20]) out.shapeout.shapeout.shape\n",
      "    Epoch 1: cost=2.297, accuracy=0.106/0.073 (1/3 secs)\n",
      "torch.Size([41, 41, 100])\n",
      "torch.Size([41, 41, 20]) out.shapeout.shapeout.shape\n",
      "torch.Size([41, 41, 100])\n",
      "torch.Size([41, 41, 20]) out.shapeout.shapeout.shape\n",
      "torch.Size([41, 41, 100])\n",
      "torch.Size([41, 41, 20]) out.shapeout.shapeout.shape\n",
      "    Epoch 1: cost=2.298, accuracy=0.106/0.049 (0/3 secs)\n",
      "torch.Size([41, 41, 100])\n",
      "torch.Size([41, 41, 20]) out.shapeout.shapeout.shape\n",
      "torch.Size([41, 41, 100])\n",
      "torch.Size([41, 41, 20]) out.shapeout.shapeout.shape\n",
      "torch.Size([41, 41, 100])\n",
      "torch.Size([41, 41, 20]) out.shapeout.shapeout.shape\n",
      "    Epoch 1: cost=2.298, accuracy=0.105/0.146 (0/3 secs)\n",
      "torch.Size([41, 41, 100])\n",
      "torch.Size([41, 41, 20]) out.shapeout.shapeout.shape\n",
      "torch.Size([41, 41, 100])\n",
      "torch.Size([41, 41, 20]) out.shapeout.shapeout.shape\n",
      "torch.Size([41, 41, 100])\n",
      "torch.Size([41, 41, 20]) out.shapeout.shapeout.shape\n",
      "    Epoch 1: cost=2.298, accuracy=0.105/0.049 (0/3 secs)\n",
      "torch.Size([41, 41, 100])\n",
      "torch.Size([41, 41, 20]) out.shapeout.shapeout.shape\n",
      "torch.Size([41, 41, 100])\n",
      "torch.Size([41, 41, 20]) out.shapeout.shapeout.shape\n",
      "torch.Size([41, 41, 100])\n",
      "torch.Size([41, 41, 20]) out.shapeout.shapeout.shape\n",
      "    Epoch 1: cost=2.298, accuracy=0.104/0.073 (0/3 secs)\n",
      "torch.Size([41, 41, 100])\n",
      "torch.Size([41, 41, 20]) out.shapeout.shapeout.shape\n",
      "torch.Size([41, 41, 100])\n",
      "torch.Size([41, 41, 20]) out.shapeout.shapeout.shape\n",
      "torch.Size([41, 41, 100])\n",
      "torch.Size([41, 41, 20]) out.shapeout.shapeout.shape\n",
      "    Epoch 1: cost=2.299, accuracy=0.098/0.122 (0/3 secs)\n",
      "torch.Size([41, 41, 100])\n",
      "torch.Size([41, 41, 20]) out.shapeout.shapeout.shape\n",
      "torch.Size([41, 41, 100])\n",
      "torch.Size([41, 41, 20]) out.shapeout.shapeout.shape\n",
      "torch.Size([41, 41, 100])\n",
      "torch.Size([41, 41, 20]) out.shapeout.shapeout.shape\n",
      "    Epoch 1: cost=2.298, accuracy=0.100/0.122 (0/3 secs)\n",
      "torch.Size([41, 41, 100])\n",
      "torch.Size([41, 41, 20]) out.shapeout.shapeout.shape\n",
      "torch.Size([41, 41, 100])\n",
      "torch.Size([41, 41, 20]) out.shapeout.shapeout.shape\n",
      "torch.Size([41, 41, 100])\n",
      "torch.Size([41, 41, 20]) out.shapeout.shapeout.shape\n",
      "    Epoch 1: cost=2.298, accuracy=0.101/0.122 (0/3 secs)\n",
      "torch.Size([41, 41, 100])\n",
      "torch.Size([41, 41, 20]) out.shapeout.shapeout.shape\n",
      "torch.Size([41, 41, 100])\n",
      "torch.Size([41, 41, 20]) out.shapeout.shapeout.shape\n",
      "torch.Size([41, 41, 100])\n",
      "torch.Size([41, 41, 20]) out.shapeout.shapeout.shape\n",
      "    Epoch 1: cost=2.297, accuracy=0.105/0.098 (1/4 secs)\n",
      "torch.Size([41, 41, 100])\n",
      "torch.Size([41, 41, 20]) out.shapeout.shapeout.shape\n",
      "torch.Size([41, 41, 100])\n",
      "torch.Size([41, 41, 20]) out.shapeout.shapeout.shape\n",
      "torch.Size([41, 41, 100])\n",
      "torch.Size([41, 41, 20]) out.shapeout.shapeout.shape\n",
      "    Epoch 1: cost=2.296, accuracy=0.109/0.073 (0/4 secs)\n",
      "torch.Size([41, 41, 100])\n",
      "torch.Size([41, 41, 20]) out.shapeout.shapeout.shape\n",
      "torch.Size([41, 41, 100])\n",
      "torch.Size([41, 41, 20]) out.shapeout.shapeout.shape\n",
      "torch.Size([41, 41, 100])\n",
      "torch.Size([41, 41, 20]) out.shapeout.shapeout.shape\n",
      "    Epoch 1: cost=2.295, accuracy=0.110/0.098 (0/4 secs)\n",
      "torch.Size([41, 41, 100])\n",
      "torch.Size([41, 41, 20]) out.shapeout.shapeout.shape\n",
      "torch.Size([41, 41, 100])\n",
      "torch.Size([41, 41, 20]) out.shapeout.shapeout.shape\n",
      "torch.Size([41, 41, 100])\n",
      "torch.Size([41, 41, 20]) out.shapeout.shapeout.shape\n",
      "    Epoch 1: cost=2.295, accuracy=0.111/0.146 (0/4 secs)\n",
      "torch.Size([41, 41, 100])\n",
      "torch.Size([41, 41, 20]) out.shapeout.shapeout.shape\n",
      "torch.Size([41, 41, 100])\n",
      "torch.Size([41, 41, 20]) out.shapeout.shapeout.shape\n",
      "torch.Size([41, 41, 100])\n",
      "torch.Size([41, 41, 20]) out.shapeout.shapeout.shape\n",
      "    Epoch 1: cost=2.294, accuracy=0.111/0.122 (0/4 secs)\n",
      "torch.Size([41, 41, 100])\n",
      "torch.Size([41, 41, 20]) out.shapeout.shapeout.shape\n",
      "torch.Size([31, 41, 100])\n",
      "torch.Size([31, 41, 20]) out.shapeout.shapeout.shape\n"
     ]
    },
    {
     "ename": "ValueError",
     "evalue": "Expected input batch_size (41) to match target batch_size (31).",
     "output_type": "error",
     "traceback": [
      "\u001b[1;31m---------------------------------------------------------------------------\u001b[0m",
      "\u001b[1;31mValueError\u001b[0m                                Traceback (most recent call last)",
      "\u001b[1;32m~\\AppData\\Local\\Temp/ipykernel_10720/651614353.py\u001b[0m in \u001b[0;36m<module>\u001b[1;34m\u001b[0m\n\u001b[1;32m----> 1\u001b[1;33m \u001b[0mus_lstm_10_10\u001b[0m\u001b[1;33m.\u001b[0m\u001b[0mexec_all\u001b[0m\u001b[1;33m(\u001b[0m\u001b[0mepoch_count\u001b[0m\u001b[1;33m=\u001b[0m\u001b[1;36m1\u001b[0m\u001b[1;33m,\u001b[0m \u001b[0mreport\u001b[0m\u001b[1;33m=\u001b[0m\u001b[1;36m2\u001b[0m\u001b[1;33m,\u001b[0m \u001b[0mbatch_size\u001b[0m \u001b[1;33m=\u001b[0m \u001b[1;36m41\u001b[0m\u001b[1;33m)\u001b[0m\u001b[1;33m\u001b[0m\u001b[0m\n\u001b[0m",
      "\u001b[1;32m~\\AppData\\Local\\Temp/ipykernel_10720/927826373.py\u001b[0m in \u001b[0;36mexec_all\u001b[1;34m(self, epoch_count, batch_size, learning_rate, report, show_cnt, show_params, num_workers)\u001b[0m\n\u001b[0;32m      9\u001b[0m                  report=0, show_cnt = 3, show_params=False,num_workers=0):\n\u001b[0;32m     10\u001b[0m         super(CnnRegModel, self).exec_all(epoch_count, batch_size, \n\u001b[1;32m---> 11\u001b[1;33m                                          learning_rate, report, show_cnt, num_workers)\n\u001b[0m\u001b[0;32m     12\u001b[0m \u001b[1;33m\u001b[0m\u001b[0m\n\u001b[0;32m     13\u001b[0m         \u001b[1;32mif\u001b[0m \u001b[0mshow_params\u001b[0m \u001b[1;33m:\u001b[0m \u001b[0mself\u001b[0m\u001b[1;33m.\u001b[0m\u001b[0mshow_param_dist\u001b[0m\u001b[1;33m(\u001b[0m\u001b[1;33m)\u001b[0m\u001b[1;33m\u001b[0m\u001b[0m\n",
      "\u001b[1;32m~\\AppData\\Local\\Temp/ipykernel_10720/94201728.py\u001b[0m in \u001b[0;36mexec_all\u001b[1;34m(self, epoch_count, batch_size, learning_rate, report, show_cnt, num_workers)\u001b[0m\n\u001b[0;32m     11\u001b[0m     def exec_all(self, epoch_count=10, batch_size=20, learning_rate=0.001,\n\u001b[0;32m     12\u001b[0m                  report=0, show_cnt=3, num_workers=0):\n\u001b[1;32m---> 13\u001b[1;33m         \u001b[0mself\u001b[0m\u001b[1;33m.\u001b[0m\u001b[0mtrain\u001b[0m\u001b[1;33m(\u001b[0m\u001b[0mepoch_count\u001b[0m\u001b[1;33m,\u001b[0m \u001b[0mbatch_size\u001b[0m\u001b[1;33m,\u001b[0m \u001b[0mlearning_rate\u001b[0m\u001b[1;33m,\u001b[0m \u001b[0mreport\u001b[0m\u001b[1;33m,\u001b[0m \u001b[0mnum_workers\u001b[0m\u001b[1;33m)\u001b[0m\u001b[1;33m\u001b[0m\u001b[0m\n\u001b[0m\u001b[0;32m     14\u001b[0m         \u001b[0mself\u001b[0m\u001b[1;33m.\u001b[0m\u001b[0mtest\u001b[0m\u001b[1;33m(\u001b[0m\u001b[1;33m)\u001b[0m\u001b[1;33m\u001b[0m\u001b[0m\n\u001b[0;32m     15\u001b[0m         \u001b[1;32mif\u001b[0m \u001b[0mshow_cnt\u001b[0m \u001b[1;33m>\u001b[0m \u001b[1;36m0\u001b[0m\u001b[1;33m:\u001b[0m \u001b[0mself\u001b[0m\u001b[1;33m.\u001b[0m\u001b[0mvisualize\u001b[0m\u001b[1;33m(\u001b[0m\u001b[0mshow_cnt\u001b[0m\u001b[1;33m)\u001b[0m\u001b[1;33m\u001b[0m\u001b[0m\n",
      "\u001b[1;32m~\\AppData\\Local\\Temp/ipykernel_10720/3091101405.py\u001b[0m in \u001b[0;36mtrain_torch\u001b[1;34m(self, epoch_count, batch_size, learning_rate, report, num_workers)\u001b[0m\n\u001b[0;32m     50\u001b[0m \u001b[1;33m\u001b[0m\u001b[0m\n\u001b[0;32m     51\u001b[0m \u001b[1;31m#             print(output.shape,'output.shapeoutput.shapeoutput.shape')\u001b[0m\u001b[1;33m\u001b[0m\u001b[1;33m\u001b[0m\u001b[0m\n\u001b[1;32m---> 52\u001b[1;33m             \u001b[0mloss\u001b[0m\u001b[1;33m=\u001b[0m\u001b[0mself\u001b[0m\u001b[1;33m.\u001b[0m\u001b[0mforward_postproc\u001b[0m\u001b[1;33m(\u001b[0m\u001b[0mloss_func\u001b[0m\u001b[1;33m,\u001b[0m \u001b[0moutput\u001b[0m\u001b[1;33m,\u001b[0m \u001b[0my_train\u001b[0m\u001b[1;33m)\u001b[0m\u001b[1;33m\u001b[0m\u001b[0m\n\u001b[0m\u001b[0;32m     53\u001b[0m             \u001b[0macc\u001b[0m \u001b[1;33m=\u001b[0m \u001b[0mself\u001b[0m\u001b[1;33m.\u001b[0m\u001b[0meval_accuracy\u001b[0m\u001b[1;33m(\u001b[0m\u001b[0mX_train\u001b[0m\u001b[1;33m,\u001b[0m \u001b[0my_train\u001b[0m\u001b[1;33m,\u001b[0m \u001b[0moutput\u001b[0m\u001b[1;33m)\u001b[0m\u001b[1;33m\u001b[0m\u001b[0m\n\u001b[0;32m     54\u001b[0m             \u001b[0mloss\u001b[0m\u001b[1;33m.\u001b[0m\u001b[0mbackward\u001b[0m\u001b[1;33m(\u001b[0m\u001b[1;33m)\u001b[0m\u001b[1;33m\u001b[0m\u001b[0m\n",
      "\u001b[1;32m~\\AppData\\Local\\Temp/ipykernel_10720/1271156569.py\u001b[0m in \u001b[0;36mforward_postproc\u001b[1;34m(self, loss_func, output, y_train)\u001b[0m\n\u001b[0;32m      1\u001b[0m \u001b[1;32mdef\u001b[0m \u001b[0mforward_postproc\u001b[0m\u001b[1;33m(\u001b[0m\u001b[0mself\u001b[0m\u001b[1;33m,\u001b[0m \u001b[0mloss_func\u001b[0m\u001b[1;33m,\u001b[0m \u001b[0moutput\u001b[0m\u001b[1;33m,\u001b[0m \u001b[0my_train\u001b[0m\u001b[1;33m)\u001b[0m\u001b[1;33m:\u001b[0m\u001b[1;33m\u001b[0m\u001b[0m\n\u001b[0;32m      2\u001b[0m \u001b[1;33m\u001b[0m\u001b[0m\n\u001b[1;32m----> 3\u001b[1;33m     \u001b[0mloss\u001b[0m \u001b[1;33m=\u001b[0m \u001b[0mself\u001b[0m\u001b[1;33m.\u001b[0m\u001b[0mdataset\u001b[0m\u001b[1;33m.\u001b[0m\u001b[0mforward_postproc\u001b[0m\u001b[1;33m(\u001b[0m\u001b[0mloss_func\u001b[0m\u001b[1;33m,\u001b[0m \u001b[0moutput\u001b[0m\u001b[1;33m,\u001b[0m \u001b[0my_train\u001b[0m\u001b[1;33m)\u001b[0m\u001b[1;33m\u001b[0m\u001b[0m\n\u001b[0m\u001b[0;32m      4\u001b[0m     \u001b[0mextra\u001b[0m \u001b[1;33m=\u001b[0m \u001b[0mself\u001b[0m\u001b[1;33m.\u001b[0m\u001b[0mforward_extra_cost\u001b[0m\u001b[1;33m(\u001b[0m\u001b[1;33m)\u001b[0m\u001b[1;33m\u001b[0m\u001b[0m\n\u001b[0;32m      5\u001b[0m \u001b[1;33m\u001b[0m\u001b[0m\n",
      "\u001b[1;32m~\\AppData\\Local\\Temp/ipykernel_10720/2788534281.py\u001b[0m in \u001b[0;36mdataset_forward_postproc\u001b[1;34m(self, loss_func, output, y_train, mode)\u001b[0m\n\u001b[0;32m     10\u001b[0m \u001b[1;33m\u001b[0m\u001b[0m\n\u001b[0;32m     11\u001b[0m     \u001b[1;32melif\u001b[0m \u001b[0mmode\u001b[0m \u001b[1;33m==\u001b[0m \u001b[1;34m'select'\u001b[0m\u001b[1;33m:\u001b[0m\u001b[1;33m\u001b[0m\u001b[0m\n\u001b[1;32m---> 12\u001b[1;33m         \u001b[0mloss\u001b[0m \u001b[1;33m=\u001b[0m \u001b[0mloss_func\u001b[0m\u001b[1;33m(\u001b[0m\u001b[0moutput\u001b[0m\u001b[1;33m,\u001b[0m \u001b[0mtorch\u001b[0m\u001b[1;33m.\u001b[0m\u001b[0margmax\u001b[0m\u001b[1;33m(\u001b[0m\u001b[0my_train\u001b[0m\u001b[1;33m,\u001b[0m\u001b[0mdim\u001b[0m\u001b[1;33m=\u001b[0m\u001b[1;36m1\u001b[0m\u001b[1;33m)\u001b[0m\u001b[1;33m)\u001b[0m\u001b[1;33m\u001b[0m\u001b[0m\n\u001b[0m\u001b[0;32m     13\u001b[0m \u001b[1;33m\u001b[0m\u001b[0m\n\u001b[0;32m     14\u001b[0m     \u001b[1;32mreturn\u001b[0m \u001b[0mloss\u001b[0m\u001b[1;33m\u001b[0m\u001b[0m\n",
      "\u001b[1;32m~\\anaconda3\\envs\\nalcoding\\lib\\site-packages\\torch\\nn\\modules\\module.py\u001b[0m in \u001b[0;36m_call_impl\u001b[1;34m(self, *input, **kwargs)\u001b[0m\n\u001b[0;32m   1049\u001b[0m         if not (self._backward_hooks or self._forward_hooks or self._forward_pre_hooks or _global_backward_hooks\n\u001b[0;32m   1050\u001b[0m                 or _global_forward_hooks or _global_forward_pre_hooks):\n\u001b[1;32m-> 1051\u001b[1;33m             \u001b[1;32mreturn\u001b[0m \u001b[0mforward_call\u001b[0m\u001b[1;33m(\u001b[0m\u001b[1;33m*\u001b[0m\u001b[0minput\u001b[0m\u001b[1;33m,\u001b[0m \u001b[1;33m**\u001b[0m\u001b[0mkwargs\u001b[0m\u001b[1;33m)\u001b[0m\u001b[1;33m\u001b[0m\u001b[0m\n\u001b[0m\u001b[0;32m   1052\u001b[0m         \u001b[1;31m# Do not call functions when jit is used\u001b[0m\u001b[1;33m\u001b[0m\u001b[1;33m\u001b[0m\u001b[0m\n\u001b[0;32m   1053\u001b[0m         \u001b[0mfull_backward_hooks\u001b[0m\u001b[1;33m,\u001b[0m \u001b[0mnon_full_backward_hooks\u001b[0m \u001b[1;33m=\u001b[0m \u001b[1;33m[\u001b[0m\u001b[1;33m]\u001b[0m\u001b[1;33m,\u001b[0m \u001b[1;33m[\u001b[0m\u001b[1;33m]\u001b[0m\u001b[1;33m\u001b[0m\u001b[0m\n",
      "\u001b[1;32m~\\anaconda3\\envs\\nalcoding\\lib\\site-packages\\torch\\nn\\modules\\loss.py\u001b[0m in \u001b[0;36mforward\u001b[1;34m(self, input, target)\u001b[0m\n\u001b[0;32m   1119\u001b[0m     \u001b[1;32mdef\u001b[0m \u001b[0mforward\u001b[0m\u001b[1;33m(\u001b[0m\u001b[0mself\u001b[0m\u001b[1;33m,\u001b[0m \u001b[0minput\u001b[0m\u001b[1;33m:\u001b[0m \u001b[0mTensor\u001b[0m\u001b[1;33m,\u001b[0m \u001b[0mtarget\u001b[0m\u001b[1;33m:\u001b[0m \u001b[0mTensor\u001b[0m\u001b[1;33m)\u001b[0m \u001b[1;33m->\u001b[0m \u001b[0mTensor\u001b[0m\u001b[1;33m:\u001b[0m\u001b[1;33m\u001b[0m\u001b[0m\n\u001b[0;32m   1120\u001b[0m         return F.cross_entropy(input, target, weight=self.weight,\n\u001b[1;32m-> 1121\u001b[1;33m                                ignore_index=self.ignore_index, reduction=self.reduction)\n\u001b[0m\u001b[0;32m   1122\u001b[0m \u001b[1;33m\u001b[0m\u001b[0m\n\u001b[0;32m   1123\u001b[0m \u001b[1;33m\u001b[0m\u001b[0m\n",
      "\u001b[1;32m~\\anaconda3\\envs\\nalcoding\\lib\\site-packages\\torch\\nn\\functional.py\u001b[0m in \u001b[0;36mcross_entropy\u001b[1;34m(input, target, weight, size_average, ignore_index, reduce, reduction)\u001b[0m\n\u001b[0;32m   2822\u001b[0m     \u001b[1;32mif\u001b[0m \u001b[0msize_average\u001b[0m \u001b[1;32mis\u001b[0m \u001b[1;32mnot\u001b[0m \u001b[1;32mNone\u001b[0m \u001b[1;32mor\u001b[0m \u001b[0mreduce\u001b[0m \u001b[1;32mis\u001b[0m \u001b[1;32mnot\u001b[0m \u001b[1;32mNone\u001b[0m\u001b[1;33m:\u001b[0m\u001b[1;33m\u001b[0m\u001b[0m\n\u001b[0;32m   2823\u001b[0m         \u001b[0mreduction\u001b[0m \u001b[1;33m=\u001b[0m \u001b[0m_Reduction\u001b[0m\u001b[1;33m.\u001b[0m\u001b[0mlegacy_get_string\u001b[0m\u001b[1;33m(\u001b[0m\u001b[0msize_average\u001b[0m\u001b[1;33m,\u001b[0m \u001b[0mreduce\u001b[0m\u001b[1;33m)\u001b[0m\u001b[1;33m\u001b[0m\u001b[0m\n\u001b[1;32m-> 2824\u001b[1;33m     \u001b[1;32mreturn\u001b[0m \u001b[0mtorch\u001b[0m\u001b[1;33m.\u001b[0m\u001b[0m_C\u001b[0m\u001b[1;33m.\u001b[0m\u001b[0m_nn\u001b[0m\u001b[1;33m.\u001b[0m\u001b[0mcross_entropy_loss\u001b[0m\u001b[1;33m(\u001b[0m\u001b[0minput\u001b[0m\u001b[1;33m,\u001b[0m \u001b[0mtarget\u001b[0m\u001b[1;33m,\u001b[0m \u001b[0mweight\u001b[0m\u001b[1;33m,\u001b[0m \u001b[0m_Reduction\u001b[0m\u001b[1;33m.\u001b[0m\u001b[0mget_enum\u001b[0m\u001b[1;33m(\u001b[0m\u001b[0mreduction\u001b[0m\u001b[1;33m)\u001b[0m\u001b[1;33m,\u001b[0m \u001b[0mignore_index\u001b[0m\u001b[1;33m)\u001b[0m\u001b[1;33m\u001b[0m\u001b[0m\n\u001b[0m\u001b[0;32m   2825\u001b[0m \u001b[1;33m\u001b[0m\u001b[0m\n\u001b[0;32m   2826\u001b[0m \u001b[1;33m\u001b[0m\u001b[0m\n",
      "\u001b[1;31mValueError\u001b[0m: Expected input batch_size (41) to match target batch_size (31)."
     ]
    }
   ],
   "source": [
    "us_lstm_10_10.exec_all(epoch_count=1, report=2, batch_size = 41)"
   ]
  },
  {
   "cell_type": "code",
   "execution_count": 37,
   "id": "e26d2e0b",
   "metadata": {},
   "outputs": [
    {
     "data": {
      "text/plain": [
       "(2040, 41, 100)"
      ]
     },
     "execution_count": 37,
     "metadata": {},
     "output_type": "execute_result"
    }
   ],
   "source": [
    "us_lstm_10_10.dataset.tr_xs.shape"
   ]
  },
  {
   "cell_type": "code",
   "execution_count": null,
   "id": "29d57024",
   "metadata": {},
   "outputs": [],
   "source": []
  },
  {
   "cell_type": "code",
   "execution_count": null,
   "id": "598e8896",
   "metadata": {},
   "outputs": [],
   "source": []
  },
  {
   "cell_type": "code",
   "execution_count": null,
   "id": "f021f994",
   "metadata": {},
   "outputs": [],
   "source": []
  }
 ],
 "metadata": {
  "kernelspec": {
   "display_name": "Python 3 (ipykernel)",
   "language": "python",
   "name": "python3"
  },
  "language_info": {
   "codemirror_mode": {
    "name": "ipython",
    "version": 3
   },
   "file_extension": ".py",
   "mimetype": "text/x-python",
   "name": "python",
   "nbconvert_exporter": "python",
   "pygments_lexer": "ipython3",
   "version": "3.7.0"
  }
 },
 "nbformat": 4,
 "nbformat_minor": 5
}
