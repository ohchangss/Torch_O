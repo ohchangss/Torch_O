{
 "cells": [
  {
   "cell_type": "code",
   "execution_count": 60,
   "id": "e839abb5",
   "metadata": {},
   "outputs": [],
   "source": [
    "BASE_DIR ='../'*3\n",
    "MODEL_DIR = BASE_DIR +'code/RNN/lstm/rnn_lstm_model.ipynb'\n",
    "DATA_DIR = BASE_DIR +'code/RNN/lstm/dataset_sounds.ipynb'"
   ]
  },
  {
   "cell_type": "code",
   "execution_count": 67,
   "id": "10c1be42",
   "metadata": {},
   "outputs": [],
   "source": [
    "EPOCH = 20\n",
    "BATCH_SIZE=20\n",
    "NUM_WORKERS=0\n",
    "LEARNING_RATE = 0.001"
   ]
  },
  {
   "cell_type": "code",
   "execution_count": 62,
   "id": "d5c77c0c",
   "metadata": {},
   "outputs": [
    {
     "name": "stdout",
     "output_type": "stream",
     "text": [
      "Using device: cpu\n",
      "Using PyTorch version: 1.9.0\n"
     ]
    }
   ],
   "source": [
    "%run {DATA_DIR}\n",
    "%run {MODEL_DIR}"
   ]
  },
  {
   "cell_type": "code",
   "execution_count": 63,
   "id": "6771209e",
   "metadata": {},
   "outputs": [],
   "source": [
    "# usd_10_10 = UrbanSoundDataset(10,10)"
   ]
  },
  {
   "cell_type": "code",
   "execution_count": 64,
   "id": "d3a96062",
   "metadata": {},
   "outputs": [],
   "source": [
    "conf_lstm = ['lstm',{'recur_size':64,'outseq':False}]"
   ]
  },
  {
   "cell_type": "code",
   "execution_count": 65,
   "id": "1264c856",
   "metadata": {},
   "outputs": [],
   "source": [
    "us_lstm_10_10 = RnnLstmModel('us_lstm_10_10', usd_10_10, conf_lstm)\n"
   ]
  },
  {
   "cell_type": "code",
   "execution_count": 68,
   "id": "cd689b83",
   "metadata": {},
   "outputs": [
    {
     "name": "stdout",
     "output_type": "stream",
     "text": [
      "Model us_lstm_10_10 train started \n",
      "\n",
      "\n",
      "!!!!!!!!!!!\n",
      "!! Layer !! .\n",
      "!!!!!!!!!!! \n",
      "\n",
      " Net(\n",
      "  (layer1): Sequential(\n",
      "    (0): LSTM(\n",
      "      (lstm): LSTM(100, 64, batch_first=True)\n",
      "    )\n",
      "    (1): Linear(in_features=64, out_features=10, bias=True)\n",
      "  )\n",
      ")\n",
      "\n",
      "!!!!!!!!!!!!!!!\n",
      "!! optimizer !! \n",
      "!!!!!!!!!!!!!!! \n",
      "\n",
      " Adam (\n",
      "Parameter Group 0\n",
      "    amsgrad: False\n",
      "    betas: (0.9, 0.999)\n",
      "    eps: 1e-08\n",
      "    lr: 0.001\n",
      "    weight_decay: 0\n",
      ")\n",
      "    Epoch 1: cost=2.272, accuracy=0.130/0.250 (13/13 secs)\n",
      "    Epoch 1: cost=2.235, accuracy=0.154/0.150 (11/24 secs)\n",
      "    Epoch 1: cost=2.210, accuracy=0.156/0.150 (11/35 secs)\n",
      "    Epoch 1: cost=2.192, accuracy=0.173/0.150 (10/45 secs)\n",
      "    Epoch 1: cost=2.160, accuracy=0.191/0.300 (9/54 secs)\n",
      "    Epoch 2: cost=2.021, accuracy=0.287/0.350 (11/65 secs)\n",
      "    Epoch 2: cost=2.006, accuracy=0.281/0.300 (9/74 secs)\n",
      "    Epoch 2: cost=2.014, accuracy=0.266/0.300 (10/84 secs)\n",
      "    Epoch 2: cost=2.009, accuracy=0.266/0.400 (9/93 secs)\n",
      "    Epoch 2: cost=1.989, accuracy=0.272/0.400 (10/103 secs)\n",
      "    Epoch 3: cost=1.932, accuracy=0.295/0.450 (10/113 secs)\n",
      "    Epoch 3: cost=1.931, accuracy=0.308/0.500 (10/123 secs)\n",
      "    Epoch 3: cost=1.932, accuracy=0.298/0.200 (10/133 secs)\n",
      "    Epoch 3: cost=1.928, accuracy=0.302/0.200 (9/142 secs)\n",
      "    Epoch 3: cost=1.909, accuracy=0.311/0.250 (9/151 secs)\n",
      "    Epoch 4: cost=1.875, accuracy=0.280/0.400 (11/162 secs)\n",
      "    Epoch 4: cost=1.891, accuracy=0.287/0.300 (9/171 secs)\n",
      "    Epoch 4: cost=1.894, accuracy=0.292/0.400 (10/181 secs)\n",
      "    Epoch 4: cost=1.889, accuracy=0.298/0.400 (9/190 secs)\n",
      "    Epoch 4: cost=1.872, accuracy=0.306/0.300 (10/200 secs)\n",
      "    Epoch 5: cost=1.868, accuracy=0.325/0.400 (10/210 secs)\n",
      "    Epoch 5: cost=1.872, accuracy=0.330/0.400 (10/220 secs)\n",
      "    Epoch 5: cost=1.877, accuracy=0.332/0.250 (9/229 secs)\n",
      "    Epoch 5: cost=1.869, accuracy=0.330/0.550 (10/239 secs)\n",
      "    Epoch 5: cost=1.845, accuracy=0.336/0.400 (10/249 secs)\n",
      "    Epoch 6: cost=1.814, accuracy=0.345/0.300 (10/259 secs)\n",
      "    Epoch 6: cost=1.812, accuracy=0.344/0.350 (10/269 secs)\n",
      "    Epoch 6: cost=1.825, accuracy=0.339/0.400 (9/278 secs)\n",
      "    Epoch 6: cost=1.814, accuracy=0.341/0.350 (10/288 secs)\n",
      "    Epoch 6: cost=1.796, accuracy=0.349/0.400 (9/297 secs)\n",
      "    Epoch 7: cost=1.761, accuracy=0.355/0.200 (11/308 secs)\n",
      "    Epoch 7: cost=1.770, accuracy=0.346/0.600 (9/317 secs)\n",
      "    Epoch 7: cost=1.775, accuracy=0.352/0.450 (10/327 secs)\n",
      "    Epoch 7: cost=1.773, accuracy=0.351/0.550 (9/336 secs)\n",
      "    Epoch 7: cost=1.754, accuracy=0.361/0.400 (10/346 secs)\n",
      "    Epoch 8: cost=1.746, accuracy=0.362/0.200 (11/357 secs)\n",
      "    Epoch 8: cost=1.755, accuracy=0.364/0.550 (9/366 secs)\n",
      "    Epoch 8: cost=1.755, accuracy=0.378/0.400 (10/376 secs)\n",
      "    Epoch 8: cost=1.747, accuracy=0.372/0.400 (10/386 secs)\n",
      "    Epoch 8: cost=1.728, accuracy=0.379/0.350 (9/395 secs)\n",
      "    Epoch 9: cost=1.687, accuracy=0.365/0.300 (11/406 secs)\n",
      "    Epoch 9: cost=1.708, accuracy=0.360/0.350 (10/416 secs)\n",
      "    Epoch 9: cost=1.714, accuracy=0.365/0.350 (11/427 secs)\n",
      "    Epoch 9: cost=1.706, accuracy=0.369/0.450 (9/436 secs)\n",
      "    Epoch 9: cost=1.695, accuracy=0.375/0.350 (10/446 secs)\n",
      "    Epoch 10: cost=1.705, accuracy=0.377/0.250 (11/457 secs)\n",
      "    Epoch 10: cost=1.718, accuracy=0.373/0.450 (10/467 secs)\n",
      "    Epoch 10: cost=1.722, accuracy=0.379/0.350 (9/476 secs)\n",
      "    Epoch 10: cost=1.716, accuracy=0.374/0.400 (10/486 secs)\n",
      "    Epoch 10: cost=1.700, accuracy=0.383/0.450 (10/496 secs)\n",
      "    Epoch 11: cost=1.700, accuracy=0.358/0.300 (11/507 secs)\n",
      "    Epoch 11: cost=1.716, accuracy=0.349/0.500 (10/517 secs)\n",
      "    Epoch 11: cost=1.714, accuracy=0.364/0.400 (9/526 secs)\n",
      "    Epoch 11: cost=1.706, accuracy=0.364/0.450 (10/536 secs)\n",
      "    Epoch 11: cost=1.690, accuracy=0.376/0.550 (10/546 secs)\n",
      "    Epoch 12: cost=1.680, accuracy=0.367/0.350 (11/557 secs)\n",
      "    Epoch 12: cost=1.685, accuracy=0.371/0.250 (10/567 secs)\n",
      "    Epoch 12: cost=1.682, accuracy=0.383/0.500 (10/577 secs)\n",
      "    Epoch 12: cost=1.671, accuracy=0.387/0.400 (9/586 secs)\n",
      "    Epoch 12: cost=1.656, accuracy=0.399/0.400 (10/596 secs)\n",
      "    Epoch 13: cost=1.645, accuracy=0.405/0.500 (11/607 secs)\n",
      "    Epoch 13: cost=1.656, accuracy=0.404/0.700 (10/617 secs)\n",
      "    Epoch 13: cost=1.661, accuracy=0.397/0.450 (10/627 secs)\n",
      "    Epoch 13: cost=1.657, accuracy=0.396/0.400 (10/637 secs)\n",
      "    Epoch 13: cost=1.642, accuracy=0.409/0.550 (10/647 secs)\n",
      "    Epoch 14: cost=1.655, accuracy=0.375/0.350 (11/658 secs)\n",
      "    Epoch 14: cost=1.642, accuracy=0.387/0.550 (9/667 secs)\n",
      "    Epoch 14: cost=1.633, accuracy=0.407/0.450 (10/677 secs)\n",
      "    Epoch 14: cost=1.620, accuracy=0.410/0.450 (10/687 secs)\n",
      "    Epoch 14: cost=1.601, accuracy=0.424/0.500 (10/697 secs)\n",
      "    Epoch 15: cost=1.611, accuracy=0.392/0.400 (11/708 secs)\n",
      "    Epoch 15: cost=1.613, accuracy=0.393/0.500 (10/718 secs)\n",
      "    Epoch 15: cost=1.609, accuracy=0.401/0.500 (10/728 secs)\n",
      "    Epoch 15: cost=1.595, accuracy=0.409/0.650 (9/737 secs)\n",
      "    Epoch 15: cost=1.578, accuracy=0.425/0.350 (10/747 secs)\n",
      "    Epoch 16: cost=1.574, accuracy=0.412/0.300 (11/758 secs)\n",
      "    Epoch 16: cost=1.583, accuracy=0.434/0.550 (9/767 secs)\n",
      "    Epoch 16: cost=1.579, accuracy=0.438/0.450 (10/777 secs)\n",
      "    Epoch 16: cost=1.562, accuracy=0.437/0.450 (10/787 secs)\n",
      "    Epoch 16: cost=1.547, accuracy=0.448/0.400 (10/797 secs)\n",
      "    Epoch 17: cost=1.569, accuracy=0.415/0.500 (11/808 secs)\n",
      "    Epoch 17: cost=1.582, accuracy=0.426/0.300 (10/818 secs)\n",
      "    Epoch 17: cost=1.581, accuracy=0.436/0.450 (10/828 secs)\n",
      "    Epoch 17: cost=1.563, accuracy=0.441/0.350 (10/838 secs)\n",
      "    Epoch 17: cost=1.546, accuracy=0.451/0.550 (10/848 secs)\n",
      "    Epoch 18: cost=1.579, accuracy=0.407/0.400 (11/859 secs)\n",
      "    Epoch 18: cost=1.578, accuracy=0.412/0.250 (12/871 secs)\n",
      "    Epoch 18: cost=1.579, accuracy=0.416/0.500 (12/883 secs)\n",
      "    Epoch 18: cost=1.559, accuracy=0.427/0.500 (10/893 secs)\n",
      "    Epoch 18: cost=1.539, accuracy=0.443/0.300 (10/903 secs)\n",
      "    Epoch 19: cost=1.562, accuracy=0.432/0.500 (11/914 secs)\n",
      "    Epoch 19: cost=1.552, accuracy=0.443/0.350 (10/924 secs)\n",
      "    Epoch 19: cost=1.546, accuracy=0.446/0.600 (10/934 secs)\n",
      "    Epoch 19: cost=1.527, accuracy=0.456/0.400 (10/944 secs)\n",
      "    Epoch 19: cost=1.510, accuracy=0.464/0.500 (10/954 secs)\n",
      "    Epoch 20: cost=1.514, accuracy=0.453/0.300 (11/965 secs)\n",
      "    Epoch 20: cost=1.515, accuracy=0.447/0.500 (11/976 secs)\n",
      "    Epoch 20: cost=1.510, accuracy=0.464/0.550 (10/986 secs)\n",
      "    Epoch 20: cost=1.503, accuracy=0.464/0.400 (11/997 secs)\n",
      "    Epoch 20: cost=1.486, accuracy=0.478/0.550 (10/1007 secs)\n",
      "Model us_lstm_10_10 train ended in 1008 secs:\n",
      "Model us_lstm_10_10 test report: accuracy = 0.479, (2 secs)\n",
      "\n",
      "Model us_lstm_10_10 Visualization\n"
     ]
    },
    {
     "data": {
      "text/html": [
       "\n",
       "    <head>\n",
       "    <meta http-equiv=\"Content-Type\" content=\"text/html; charset=utf-8\">\n",
       "    <title>Audio Player</title>\n",
       "    </head>\n",
       "    \n",
       "    <body>\n",
       "    <audio controls=\"controls\" style=\"width:600px\" >\n",
       "      <source src=\"files/ata/archive/urban-sound/Train/4050.wav\" type=\"audio/wav\" />\n",
       "      Your browser does not support the audio element.\n",
       "    </audio>\n",
       "    </body>\n",
       "    "
      ],
      "text/plain": [
       "<IPython.core.display.HTML object>"
      ]
     },
     "metadata": {},
     "output_type": "display_data"
    },
    {
     "name": "stdout",
     "output_type": "stream",
     "text": [
      "siren: wrong(street_music)\n"
     ]
    },
    {
     "data": {
      "text/html": [
       "\n",
       "    <head>\n",
       "    <meta http-equiv=\"Content-Type\" content=\"text/html; charset=utf-8\">\n",
       "    <title>Audio Player</title>\n",
       "    </head>\n",
       "    \n",
       "    <body>\n",
       "    <audio controls=\"controls\" style=\"width:600px\" >\n",
       "      <source src=\"files/ata/archive/urban-sound/Train/5290.wav\" type=\"audio/wav\" />\n",
       "      Your browser does not support the audio element.\n",
       "    </audio>\n",
       "    </body>\n",
       "    "
      ],
      "text/plain": [
       "<IPython.core.display.HTML object>"
      ]
     },
     "metadata": {},
     "output_type": "display_data"
    },
    {
     "name": "stdout",
     "output_type": "stream",
     "text": [
      "engine_idling: correct\n"
     ]
    },
    {
     "data": {
      "text/html": [
       "\n",
       "    <head>\n",
       "    <meta http-equiv=\"Content-Type\" content=\"text/html; charset=utf-8\">\n",
       "    <title>Audio Player</title>\n",
       "    </head>\n",
       "    \n",
       "    <body>\n",
       "    <audio controls=\"controls\" style=\"width:600px\" >\n",
       "      <source src=\"files/ata/archive/urban-sound/Train/7951.wav\" type=\"audio/wav\" />\n",
       "      Your browser does not support the audio element.\n",
       "    </audio>\n",
       "    </body>\n",
       "    "
      ],
      "text/plain": [
       "<IPython.core.display.HTML object>"
      ]
     },
     "metadata": {},
     "output_type": "display_data"
    },
    {
     "name": "stdout",
     "output_type": "stream",
     "text": [
      "children_playing: correct\n"
     ]
    }
   ],
   "source": [
    "us_lstm_10_10.exec_all(epoch_count=EPOCH, report=20, batch_size = BATCH_SIZE)"
   ]
  },
  {
   "cell_type": "code",
   "execution_count": null,
   "id": "f021f994",
   "metadata": {},
   "outputs": [],
   "source": []
  }
 ],
 "metadata": {
  "kernelspec": {
   "display_name": "Python 3 (ipykernel)",
   "language": "python",
   "name": "python3"
  },
  "language_info": {
   "codemirror_mode": {
    "name": "ipython",
    "version": 3
   },
   "file_extension": ".py",
   "mimetype": "text/x-python",
   "name": "python",
   "nbconvert_exporter": "python",
   "pygments_lexer": "ipython3",
   "version": "3.7.0"
  }
 },
 "nbformat": 4,
 "nbformat_minor": 5
}
