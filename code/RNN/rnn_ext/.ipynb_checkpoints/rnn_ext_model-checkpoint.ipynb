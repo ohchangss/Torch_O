{
 "cells": [
  {
   "cell_type": "code",
   "execution_count": 1,
   "id": "36ffb4f5",
   "metadata": {},
   "outputs": [],
   "source": [
    "BASE_DIR = '../'*3\n",
    "RUN_DIR = BASE_DIR + 'code/RNN/lstm/rnn_lstm_model.ipynb'"
   ]
  },
  {
   "cell_type": "code",
   "execution_count": 2,
   "id": "ded90077",
   "metadata": {},
   "outputs": [],
   "source": [
    "%run {RUN_DIR}"
   ]
  },
  {
   "cell_type": "code",
   "execution_count": null,
   "id": "a9ebe9b2",
   "metadata": {},
   "outputs": [],
   "source": [
    "class RnnExtModel(RnnLstmModel):\n",
    "    pass"
   ]
  },
  {
   "cell_type": "code",
   "execution_count": null,
   "id": "2169eb51",
   "metadata": {},
   "outputs": [],
   "source": [
    "def rnn_ext_alloc_seqwrap_layer(self, input_shape, hconfig):\n",
    "    self.pms = []\n",
    "    prev_shape = input_shape[1:]\n",
    "    if not isinstance(hconfig[1], dict): hconfig.insert(1, {})\n",
    "        \n",
    "    for hconfig in hconfig[2:]:\n",
    "        pm, prev_shape = self.alloc_layer_param(prev_shape, hconfig)\n",
    "        self.pms.append(pm)\n",
    "        \n",
    "    if isinstance(prev_shape, int): prev_shape = [prev_shape]\n",
    "    output_shape = [input_shape[0]] + list(prev_shape)\n",
    "    \n",
    "    return self.pms, output_shape\n",
    "\n",
    "RnnExtModel.alloc_seqwrap_layer = rnn_ext_alloc_seqwrap_layer"
   ]
  },
  {
   "cell_type": "code",
   "execution_count": null,
   "id": "e98dc4f3",
   "metadata": {},
   "outputs": [],
   "source": [
    "def rnn_ext_init_parameters(self, hconfigs):\n",
    "    self.hconfigs = hconfigs\n",
    "    self.pm_hiddens = []\n",
    "\n",
    "    prev_shape = self.dataset.input_shape\n",
    "\n",
    "    for hconfig in hconfigs:\n",
    "        pm_hidden, prev_shape = self.alloc_layer_param(prev_shape, hconfig)\n",
    "        \n",
    "        if len(pm_hidden) > 1 : \n",
    "            pm_hidden = sum(pm_hidden,[])\n",
    "            self.pm_hiddens.append(pm_hidden)\n",
    "            self.pm_hiddens.append([nn.Flatten(60, -1)])\n",
    "            self.pm_hiddens.append([nn.Linear(144, 16)])\n",
    "            re=reshape_net()\n",
    "            self.pm_hiddens.append([re])\n",
    "        else:\n",
    "            self.pm_hiddens.append(pm_hidden)\n",
    "        \n",
    "    output_cnt = int(np.prod(self.dataset.output_shape))\n",
    "    \n",
    "    self.pm_hiddens.append([nn.Flatten()])\n",
    "    \n",
    "    self.seqout = False\n",
    "\n",
    "    if len(hconfigs) > 0 and get_layer_type(hconfigs[-1]) in ['rnn', 'lstm']:\n",
    "        if get_conf_param(hconfigs[-1], 'outseq', True):\n",
    "            self.seqout = True\n",
    "            prev_shape = prev_shape[1:]\n",
    "            output_cnt = int(np.prod(self.dataset.output_shape[1:]))\n",
    "\n",
    "    self.pm_output, _ = self.alloc_layer_param(prev_shape, output_cnt)\n",
    "    \n",
    "    self.layers=sum(self.pm_hiddens,[])\n",
    "RnnExtModel.init_parameters = rnn_ext_init_parameters"
   ]
  },
  {
   "cell_type": "code",
   "execution_count": null,
   "id": "0447be47",
   "metadata": {},
   "outputs": [],
   "source": [
    "class Net(nn.Module):\n",
    "    def __init__(self, layers):\n",
    "        super(Net, self).__init__()\n",
    "        self.layer1 = nn.Sequential(*layers)\n",
    "        \n",
    "    def forward(self, x):\n",
    "        print(x.shape,'shape')\n",
    "        x=x.reshape(-1, 90, 120, 3)\n",
    "        print(x.shape,'shape')\n",
    "        x=x.transpose(1,-1)\n",
    "        print(x.shape,'shape')\n",
    "        x=x.transpose(2,-1)\n",
    "        print(x.shape,'shape')\n",
    "        out = self.layer1(x)\n",
    "#         out.reshape()\n",
    "        return out"
   ]
  },
  {
   "cell_type": "code",
   "execution_count": null,
   "id": "ffeb1f4f",
   "metadata": {},
   "outputs": [],
   "source": [
    "# nn.Module.forward(x=x.reshape(10,-1,16))"
   ]
  },
  {
   "cell_type": "code",
   "execution_count": null,
   "id": "dc7a237e",
   "metadata": {},
   "outputs": [],
   "source": [
    "class reshape_net(nn.Module):\n",
    "    def __init__(self):\n",
    "        super(reshape_net,self).__init__()\n",
    "#         self.reshape_layer = nn.Sequential()\n",
    "        \n",
    "    def forward(self,x):\n",
    "        print(x.shape)\n",
    "        x=x.reshape(10,-1,16)\n",
    "        return x"
   ]
  },
  {
   "cell_type": "code",
   "execution_count": null,
   "id": "a920db88",
   "metadata": {},
   "outputs": [],
   "source": []
  },
  {
   "cell_type": "code",
   "execution_count": null,
   "id": "45961b3f",
   "metadata": {},
   "outputs": [],
   "source": [
    "# def get_train_loader(self):\n",
    "#     train_loader=self.dataset.dataloader(self.batch_size, self.num_workers)\n",
    "#     return train_loader\n",
    "\n",
    "# RnnExtModel.get_train_loader = get_train_loader"
   ]
  },
  {
   "cell_type": "code",
   "execution_count": null,
   "id": "ae49d8f6",
   "metadata": {},
   "outputs": [],
   "source": [
    "# train_loader=self.dataset.dataloader(self.dataset.tr_xs, self.dataset.tr_ys, batch_size, num_workers)"
   ]
  },
  {
   "cell_type": "code",
   "execution_count": null,
   "id": "90e0b77e",
   "metadata": {},
   "outputs": [],
   "source": []
  },
  {
   "cell_type": "code",
   "execution_count": null,
   "id": "4b89c030",
   "metadata": {},
   "outputs": [],
   "source": []
  },
  {
   "cell_type": "code",
   "execution_count": null,
   "id": "41e44513",
   "metadata": {},
   "outputs": [],
   "source": []
  }
 ],
 "metadata": {
  "kernelspec": {
   "display_name": "Python 3 (ipykernel)",
   "language": "python",
   "name": "python3"
  },
  "language_info": {
   "codemirror_mode": {
    "name": "ipython",
    "version": 3
   },
   "file_extension": ".py",
   "mimetype": "text/x-python",
   "name": "python",
   "nbconvert_exporter": "python",
   "pygments_lexer": "ipython3",
   "version": "3.7.0"
  }
 },
 "nbformat": 4,
 "nbformat_minor": 5
}
