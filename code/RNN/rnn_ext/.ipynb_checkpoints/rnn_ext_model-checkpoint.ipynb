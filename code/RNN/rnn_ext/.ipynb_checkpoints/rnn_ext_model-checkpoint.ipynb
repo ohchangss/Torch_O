{
 "cells": [
  {
   "cell_type": "code",
   "execution_count": 1,
   "id": "d257efd2",
   "metadata": {},
   "outputs": [],
   "source": [
    "BASE_DIR = '../'*3\n",
    "RUN_DIR = BASE_DIR + 'code/RNN/lstm/rnn_lstm_model.ipynb'"
   ]
  },
  {
   "cell_type": "code",
   "execution_count": 2,
   "id": "f0941afc",
   "metadata": {},
   "outputs": [],
   "source": [
    "%run {RUN_DIR}"
   ]
  },
  {
   "cell_type": "code",
   "execution_count": null,
   "id": "2b94e272",
   "metadata": {},
   "outputs": [],
   "source": [
    "class RnnExtModel(RnnLstmModel):\n",
    "    pass"
   ]
  },
  {
   "cell_type": "code",
   "execution_count": null,
   "id": "c72feaf1",
   "metadata": {},
   "outputs": [],
   "source": [
    "def rnn_ext_alloc_seqwrap_layer(self, input_shape, hconfig):\n",
    "    self.pms = []\n",
    "    prev_shape = input_shape[1:]\n",
    "    if not isinstance(hconfig[1], dict): hconfig.insert(1, {})\n",
    "        \n",
    "    for hconfig in hconfig[2:]:\n",
    "        pm, prev_shape = self.alloc_layer_param(prev_shape, hconfig)\n",
    "        if isinstance(pm[0],nn.Linear):self.pms.append([nn.Flatten(1,-1)])\n",
    "        self.pms.append(pm)\n",
    "        \n",
    "    if isinstance(prev_shape, int): prev_shape = [prev_shape]\n",
    "    output_shape = [input_shape[0]] + list(prev_shape)\n",
    "    \n",
    "    return self.pms, output_shape\n",
    "\n",
    "RnnExtModel.alloc_seqwrap_layer = rnn_ext_alloc_seqwrap_layer"
   ]
  },
  {
   "cell_type": "code",
   "execution_count": null,
   "id": "658bf988",
   "metadata": {},
   "outputs": [],
   "source": [
    "def rnn_ext_init_parameters(self, hconfigs):\n",
    "    self.hconfigs = hconfigs\n",
    "    self.pm_hiddens = []\n",
    "\n",
    "    prev_shape = self.dataset.input_shape\n",
    "\n",
    "    for hconfig in hconfigs:\n",
    "        pm_hidden, prev_shape = self.alloc_layer_param(prev_shape, hconfig)\n",
    "        \n",
    "        self.pm_hiddens.append(pm_hidden)\n",
    "        \n",
    "    output_cnt = int(np.prod(self.dataset.output_shape))\n",
    "    \n",
    "#     self.pm_hiddens.append([nn.Flatten()])\n",
    "    \n",
    "    self.seqout = False\n",
    "\n",
    "    if len(hconfigs) > 0 and get_layer_type(hconfigs[-1]) in ['rnn', 'lstm']:\n",
    "        if get_conf_param(hconfigs[-1], 'outseq', True):\n",
    "            self.seqout = True\n",
    "            prev_shape = prev_shape[1:]\n",
    "            output_cnt = int(np.prod(self.dataset.output_shape[1:]))\n",
    "\n",
    "    self.pm_output, _ = self.alloc_layer_param(prev_shape, output_cnt)\n",
    "    \n",
    "    self.layers=self.pm_hiddens\n",
    "RnnExtModel.init_parameters = rnn_ext_init_parameters"
   ]
  },
  {
   "cell_type": "code",
   "execution_count": null,
   "id": "7333f368",
   "metadata": {},
   "outputs": [],
   "source": [
    "class Net(nn.Module):\n",
    "    def __init__(self, layers):\n",
    "        super(Net, self).__init__()\n",
    "#         print(*sum(layers[0],[]))\n",
    "#         print(*layers[1:])\n",
    "        self.cnn = nn.Sequential(*sum(layers[0],[]))\n",
    "        self.Lstm = nn.Sequential(*sum(layers[1:],[]))\n",
    "    def forward(self, x):\n",
    "        mb_size, timesteps1, w, h, c = x.shape[0], x.shape[1], x.shape[2], x.shape[3], x.shape[4]\n",
    "        lengths = x.reshape([x.shape[0], -1])[:, 0]\n",
    "        xbody = x[:, 1:].reshape([-1]+list([c,w,h]))        \n",
    "        out = self.cnn(xbody)\n",
    "        y_=torch.zeros([mb_size, timesteps1, out.shape[-1]])\n",
    "        out=out.reshape([mb_size, timesteps1-1, -1])\n",
    "        y_[:,0,0] = lengths\n",
    "        y_[:,1:,:] = out\n",
    "        out = self.Lstm(y_)\n",
    "#         print(out.shape) # in lengths [:,0,0]\n",
    "#         out = out[:,1,:]\n",
    "        \n",
    "        return out[:,:,-1:]"
   ]
  },
  {
   "cell_type": "code",
   "execution_count": null,
   "id": "dbd59e84",
   "metadata": {},
   "outputs": [],
   "source": [
    "class LSTM(nn.Module):\n",
    "    def __init__(self,lstm):\n",
    "        super().__init__()\n",
    "        self.lstm = lstm\n",
    "        \n",
    "    def forward(self,x):\n",
    "        \n",
    "        mb, timesept1, input_ = x.shape\n",
    "        length = x[:,0,0]\n",
    "        xbody = x[:,1:,:]\n",
    "        max_length = torch.max(length)\n",
    "        \n",
    "        out, hidden = self.lstm(xbody)\n",
    "        y=torch.zeros(mb,timesept1,out.shape[-1])\n",
    "        y[:,0,0] = length\n",
    "        y[:,1:,:] = out\n",
    "        return y"
   ]
  },
  {
   "cell_type": "code",
   "execution_count": null,
   "id": "66577914",
   "metadata": {},
   "outputs": [],
   "source": [
    "def test_torch(self,batch_size):\n",
    "    with torch.no_grad():\n",
    "#         print(self.model.parameters)\n",
    "        test_X,test_y=self.dataset.get_test_data(batch_size)\n",
    "        test_X=torch.from_numpy(test_X).float()\n",
    "        test_y=torch.from_numpy(test_y).float()\n",
    "#         print(test_X.shape,test_y.shape,'테스트')\n",
    "        time1 = int(time.time())        \n",
    "        acc = self.eval_accuracy(test_X, test_y)\n",
    "        time2 = int(time.time())\n",
    "        self.dataset.test_prt_result(self.name, acc, time2-time1)\n",
    "\n",
    "RnnExtModel.test = test_torch"
   ]
  },
  {
   "cell_type": "code",
   "execution_count": null,
   "id": "2c94f6bb",
   "metadata": {},
   "outputs": [],
   "source": [
    "def mlp_model_visualize_torch(self, num):\n",
    "    print('Model {} Visualization'.format(self.name))\n",
    "    deX, deY = self.dataset.get_visualize_data(num)\n",
    "    deX=torch.from_numpy(deX).float()\n",
    "    deY=torch.from_numpy(deY).float()\n",
    "    est = self.get_estimate(deX)\n",
    "    self.dataset.visualize(deX, est, deY)\n",
    "\n",
    "RnnExtModel.visualize = mlp_model_visualize_torch"
   ]
  },
  {
   "cell_type": "code",
   "execution_count": null,
   "id": "7170f6a3",
   "metadata": {},
   "outputs": [],
   "source": [
    "# def mlp_eval_accuracy_torch(self, x, y, output=None):\n",
    "#     if output is None:\n",
    "#         with torch.no_grad():\n",
    "#             x,y=torch.from_numpy(x).to(DEVICE),torch.from_numpy(y).to(DEVICE)\n",
    "#             print(x.shape,y.shape)\n",
    "#             output = self.model.forward(x)\n",
    "#     accuracy = self.dataset.eval_accuracy(x, y, output)\n",
    "    \n",
    "#     return accuracy\n",
    "\n",
    "# RnnExtModel.eval_accuracy = mlp_eval_accuracy_torch"
   ]
  }
 ],
 "metadata": {
  "kernelspec": {
   "display_name": "Python 3 (ipykernel)",
   "language": "python",
   "name": "python3"
  },
  "language_info": {
   "codemirror_mode": {
    "name": "ipython",
    "version": 3
   },
   "file_extension": ".py",
   "mimetype": "text/x-python",
   "name": "python",
   "nbconvert_exporter": "python",
   "pygments_lexer": "ipython3",
   "version": "3.7.0"
  }
 },
 "nbformat": 4,
 "nbformat_minor": 5
}
