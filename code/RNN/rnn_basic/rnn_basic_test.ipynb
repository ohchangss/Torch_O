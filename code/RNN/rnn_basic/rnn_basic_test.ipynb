{
 "cells": [
  {
   "cell_type": "code",
   "execution_count": 70,
   "id": "2a4a16e6",
   "metadata": {},
   "outputs": [],
   "source": [
    "BASE_DIR = '../'*3\n",
    "DATA_DIR = BASE_DIR+ 'code/UTIL/dataset/dataset_automata.ipynb'\n",
    "# DATA_DIR = BASE_DIR+ 'code/RNN/rnn_basic/dataset_automata.ipynb'\n",
    "MODEL_DIR = BASE_DIR+ 'code/RNN/rnn_basic/rnn_basic_model.ipynb'"
   ]
  },
  {
   "cell_type": "code",
   "execution_count": 71,
   "id": "8d60b662",
   "metadata": {},
   "outputs": [],
   "source": [
    "EPOCH = 10\n",
    "BATCH_SIZE=20\n",
    "NUM_WORKERS=0\n",
    "LEARNING_RATE = 0.01"
   ]
  },
  {
   "cell_type": "code",
   "execution_count": 72,
   "id": "7b31e257",
   "metadata": {},
   "outputs": [
    {
     "name": "stdout",
     "output_type": "stream",
     "text": [
      "Using device: cpu\n",
      "Using PyTorch version: 1.9.0\n"
     ]
    }
   ],
   "source": [
    "%run {DATA_DIR}\n",
    "%run {MODEL_DIR}"
   ]
  },
  {
   "cell_type": "code",
   "execution_count": 73,
   "id": "ddd31413",
   "metadata": {},
   "outputs": [],
   "source": [
    "ad = AutomataDataset(200)\n"
   ]
  },
  {
   "cell_type": "code",
   "execution_count": 74,
   "id": "ff2a2790",
   "metadata": {},
   "outputs": [],
   "source": [
    "am_2 = RnnBasicModel('am_2', ad, ['rnn', {'recur_size':2, 'outseq':False}])\n",
    "am_4 = RnnBasicModel('am_4', ad, ['rnn', {'recur_size':4, 'outseq':False}])\n",
    "am_8 = RnnBasicModel('am_8', ad, ['rnn', {'recur_size':8, 'outseq':False}])"
   ]
  },
  {
   "cell_type": "code",
   "execution_count": 75,
   "id": "b47491c7",
   "metadata": {
    "scrolled": false
   },
   "outputs": [
    {
     "name": "stdout",
     "output_type": "stream",
     "text": [
      "Model am_2 train started \n",
      "\n",
      "\n",
      "!!!!!!!!!!!\n",
      "!! Layer !! .\n",
      "!!!!!!!!!!! \n",
      "\n",
      " Net(\n",
      "  (layer1): Sequential(\n",
      "    (0): RNN(\n",
      "      (rnn): RNN(43, 2, batch_first=True)\n",
      "    )\n",
      "    (1): Linear(in_features=2, out_features=1, bias=True)\n",
      "  )\n",
      ")\n",
      "\n",
      "!!!!!!!!!!!!!!!\n",
      "!! optimizer !! \n",
      "!!!!!!!!!!!!!!! \n",
      "\n",
      " Adam (\n",
      "Parameter Group 0\n",
      "    amsgrad: False\n",
      "    betas: (0.9, 0.999)\n",
      "    eps: 1e-08\n",
      "    lr: 0.001\n",
      "    weight_decay: 0\n",
      ")\n",
      "torch.Size([20, 20, 43])\n",
      "torch.Size([20, 20, 43])\n",
      "torch.Size([20, 20, 43])\n",
      "torch.Size([20, 20, 43])\n",
      "torch.Size([20, 20, 43])\n",
      "torch.Size([20, 20, 43])\n",
      "torch.Size([20, 20, 43])\n",
      "torch.Size([20, 20, 43])"
     ]
    },
    {
     "name": "stderr",
     "output_type": "stream",
     "text": [
      "C:\\Users\\oh\\anaconda3\\envs\\nalcoding\\lib\\site-packages\\ipykernel_launcher.py:12: UserWarning: To copy construct from a tensor, it is recommended to use sourceTensor.clone().detach() or sourceTensor.clone().detach().requires_grad_(True), rather than torch.tensor(sourceTensor).\n",
      "  if sys.path[0] == '':\n",
      "C:\\Users\\oh\\anaconda3\\envs\\nalcoding\\lib\\site-packages\\ipykernel_launcher.py:13: UserWarning: To copy construct from a tensor, it is recommended to use sourceTensor.clone().detach() or sourceTensor.clone().detach().requires_grad_(True), rather than torch.tensor(sourceTensor).\n",
      "  del sys.path[0]\n"
     ]
    },
    {
     "name": "stdout",
     "output_type": "stream",
     "text": [
      "\n",
      "torch.Size([20, 20, 43])\n",
      "torch.Size([20, 20, 43])\n",
      "torch.Size([20, 20, 43])\n",
      "torch.Size([20, 20, 43])\n",
      "torch.Size([20, 20, 43])\n",
      "torch.Size([20, 20, 43])\n",
      "torch.Size([20, 20, 43])\n",
      "torch.Size([20, 20, 43])\n",
      "torch.Size([20, 20, 43])\n",
      "torch.Size([20, 20, 43])\n",
      "torch.Size([20, 20, 43])\n",
      "torch.Size([20, 20, 43])\n",
      "torch.Size([20, 20, 43])\n",
      "torch.Size([20, 20, 43])\n",
      "torch.Size([20, 20, 43])\n",
      "torch.Size([20, 20, 43])\n",
      "torch.Size([20, 20, 43])\n",
      "torch.Size([20, 20, 43])\n",
      "torch.Size([20, 20, 43])\n",
      "torch.Size([20, 20, 43])\n",
      "torch.Size([20, 20, 43])\n",
      "torch.Size([20, 20, 43])\n",
      "torch.Size([20, 20, 43])\n",
      "torch.Size([20, 20, 43])\n",
      "torch.Size([20, 20, 43])\n",
      "torch.Size([20, 20, 43])\n",
      "torch.Size([20, 20, 43])\n",
      "torch.Size([20, 20, 43])\n",
      "torch.Size([20, 20, 43])\n",
      "torch.Size([20, 20, 43])\n",
      "torch.Size([20, 20, 43])\n",
      "torch.Size([20, 20, 43])\n",
      "torch.Size([20, 20, 43])\n",
      "torch.Size([20, 20, 43])\n",
      "torch.Size([20, 20, 43])\n",
      "torch.Size([20, 20, 43])\n",
      "torch.Size([20, 20, 43])\n",
      "torch.Size([20, 20, 43])\n",
      "torch.Size([20, 20, 43])\n",
      "torch.Size([20, 20, 43])\n",
      "torch.Size([20, 20, 43])\n",
      "torch.Size([20, 20, 43])\n",
      "torch.Size([20, 20, 43])\n",
      "torch.Size([20, 20, 43])\n",
      "torch.Size([20, 20, 43])\n",
      "torch.Size([20, 20, 43])\n",
      "torch.Size([20, 20, 43])\n",
      "torch.Size([20, 20, 43])\n",
      "torch.Size([20, 20, 43])\n",
      "torch.Size([20, 20, 43])\n",
      "torch.Size([20, 20, 43])\n",
      "torch.Size([20, 20, 43])\n",
      "torch.Size([20, 20, 43])\n",
      "torch.Size([20, 20, 43])\n",
      "torch.Size([20, 20, 43])\n",
      "torch.Size([20, 20, 43])\n",
      "torch.Size([20, 20, 43])\n",
      "torch.Size([20, 20, 43])\n",
      "torch.Size([20, 20, 43])\n",
      "torch.Size([20, 20, 43])\n",
      "torch.Size([20, 20, 43])\n",
      "torch.Size([20, 20, 43])\n",
      "torch.Size([20, 20, 43])\n",
      "torch.Size([20, 20, 43])\n",
      "torch.Size([20, 20, 43])\n",
      "torch.Size([20, 20, 43])\n",
      "torch.Size([20, 20, 43])\n",
      "torch.Size([20, 20, 43])\n",
      "torch.Size([20, 20, 43])\n",
      "torch.Size([20, 20, 43])\n",
      "torch.Size([20, 20, 43])\n",
      "torch.Size([20, 20, 43])\n",
      "Model am_2 train ended in 2 secs:\n",
      "torch.Size([20, 20, 43])\n",
      "Model am_2 test report: accuracy = 0.500, (0 secs)\n",
      "\n",
      "Model am_2 Visualization\n",
      "torch.Size([3, 20, 43])\n",
      "27*b/d*(j-e)/612r: 잘못된 패턴 => 탈락추정(0.49) : O\n",
      "9/hs*40-cd2: 올바른 패턴 => 합격추정(0.50) : O\n",
      "(z((a36))))*p+19: 잘못된 패턴 => 탈락추정(0.49) : O\n"
     ]
    }
   ],
   "source": [
    "am_2.exec_all(epoch_count=EPOCH, report=20,batch_size=BATCH_SIZE)\n"
   ]
  },
  {
   "cell_type": "code",
   "execution_count": null,
   "id": "c104a933",
   "metadata": {},
   "outputs": [],
   "source": []
  },
  {
   "cell_type": "code",
   "execution_count": null,
   "id": "37108cde",
   "metadata": {},
   "outputs": [],
   "source": []
  }
 ],
 "metadata": {
  "kernelspec": {
   "display_name": "Python 3 (ipykernel)",
   "language": "python",
   "name": "python3"
  },
  "language_info": {
   "codemirror_mode": {
    "name": "ipython",
    "version": 3
   },
   "file_extension": ".py",
   "mimetype": "text/x-python",
   "name": "python",
   "nbconvert_exporter": "python",
   "pygments_lexer": "ipython3",
   "version": "3.7.0"
  }
 },
 "nbformat": 4,
 "nbformat_minor": 5
}
