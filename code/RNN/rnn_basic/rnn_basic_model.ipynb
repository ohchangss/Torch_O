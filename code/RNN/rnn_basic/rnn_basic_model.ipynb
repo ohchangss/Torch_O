{
 "cells": [
  {
   "cell_type": "code",
   "execution_count": 2,
   "id": "6f966822",
   "metadata": {},
   "outputs": [],
   "source": [
    "BASE_DIR = '../'*3\n",
    "RUN_DIR = BASE_DIR + 'code/CNN/cnn_ext_model/ext_model.ipynb'"
   ]
  },
  {
   "cell_type": "code",
   "execution_count": 3,
   "id": "b4e7671e",
   "metadata": {},
   "outputs": [],
   "source": [
    "%run {RUN_DIR}"
   ]
  },
  {
   "cell_type": "code",
   "execution_count": 5,
   "id": "e263db96",
   "metadata": {},
   "outputs": [],
   "source": [
    "class RnnBasicModel(CnnExtModel):\n",
    "    pass"
   ]
  },
  {
   "cell_type": "code",
   "execution_count": null,
   "id": "f3a33b5c",
   "metadata": {},
   "outputs": [],
   "source": [
    "def rnn_basic_alloc_rnn_layer(self, input_shape, hconfig):\n",
    "    # 입력 출력의 시계열 인지 확인\n",
    "    inseq = get_conf_param(hconfig, 'inseq', True)\n",
    "    outseq = get_conf_param(hconfig, 'outseq', True)\n",
    "    \n",
    "    if inseq:\n",
    "    # 시간대최대 길이timesteps1, 시간대별 입력 벡터 크기= timefeats\n",
    "    # 시간축 크기를 나타내며 길이표시를 위해\n",
    "    # 한칸더 할당되었음을 표시하기 위해 1을 붙임\n",
    "    #timefeats -> x1~xn\n",
    "    \n",
    "        timesteps1, timefeats = input_shape\n",
    "    else:\n",
    "        timesteps1 = get_conf_param(hconfig, 'timesteps') + 1\n",
    "        timefeats = np.prod(input_shape)\n",
    "    # 순환백터의 크기     \n",
    "    # hidden\n",
    "    recur_size = get_conf_param(hconfig, 'recur_size')\n",
    "    # 가중치와 편향파라미터 생성\n",
    "    ex_inp_dim = timefeats + recur_size\n",
    "    # 시간대별입력 + 순환벡터의 확장크기 => w_param\n",
    "    # bias -> recur_size\n",
    "#     weight, bias = self.alloc_param_pair([ex_inp_dim, recur_size])\n",
    "    # timesteps 1 -> 나중에 forward or back 반복제어용 \n",
    "    if outseq:\n",
    "        # 시계열데이터일경우\n",
    "        output_shape = [timesteps1, recur_size]\n",
    "        \n",
    "    else:\n",
    "        # 시계열 데이터가 아닐경우 \n",
    "        \n",
    "        output_shape = [recur_size]\n",
    "#     rnn_info = [inseq, outseq, timesteps1, timefeats, recur_size]\n",
    "    params = nn.RNN(input_size=timefeats, hidden_size=recur_size,batch_first=False)\n",
    "    rnn = RNN(params)\n",
    "    return [rnn], output_shape\n",
    "#     return {'w':weight, 'b': bias, 'info':rnn_info}, output_shape\n",
    "\n",
    "\n",
    "RnnBasicModel.alloc_rnn_layer = rnn_basic_alloc_rnn_layer"
   ]
  },
  {
   "cell_type": "code",
   "execution_count": null,
   "id": "2e71ef09",
   "metadata": {},
   "outputs": [],
   "source": [
    "class RNN(nn.Module):\n",
    "    def __init__(self,rnn):\n",
    "        super().__init__()\n",
    "        self.rnn = rnn\n",
    "    def forward(self,x):    \n",
    "        print(x.shape)\n",
    "        x=x.transpose(0,1)\n",
    "        output,hiddens=self.rnn(x)\n",
    "        return output[-1]"
   ]
  },
  {
   "cell_type": "code",
   "execution_count": null,
   "id": "077e85b9",
   "metadata": {},
   "outputs": [],
   "source": [
    "def eval_accuracy_torch(self, x, y, output=None):\n",
    "    if output is None:\n",
    "        with torch.no_grad():\n",
    "            output = self.model.forward(x)\n",
    "\n",
    "    accuracy = self.dataset.eval_accuracy(x, y, output)\n",
    "    \n",
    "    return accuracy\n",
    "\n",
    "RnnBasicModel.eval_accuracy = eval_accuracy_torch"
   ]
  },
  {
   "cell_type": "code",
   "execution_count": null,
   "id": "667fc622",
   "metadata": {},
   "outputs": [],
   "source": [
    "def test_torch(self):\n",
    "    with torch.no_grad():\n",
    "#         print(self.model.parameters)\n",
    "        test_X,test_y=self.dataset.get_test_data()\n",
    "#         test_X=torch.from_numpy(test_X).float()\n",
    "#         test_y=torch.from_numpy(test_y).float()\n",
    "        time1 = int(time.time())        \n",
    "        acc = self.eval_accuracy(test_X, test_y)\n",
    "        time2 = int(time.time())\n",
    "        self.dataset.test_prt_result(self.name, acc, time2-time1)\n",
    "\n",
    "RnnBasicModel.test = test_torch"
   ]
  },
  {
   "cell_type": "code",
   "execution_count": null,
   "id": "f8ae3674",
   "metadata": {},
   "outputs": [],
   "source": [
    "def mlp_get_estimate_torch(self, x):\n",
    "    with torch.no_grad():\n",
    "#         x=x.view([-1,3,96,96])\n",
    "#         x=torch.from_numpy(x).float()\n",
    "        output = self.model.forward(x)\n",
    "    estimate = self.dataset.get_estimate(output)\n",
    "    return estimate\n",
    "\n",
    "RnnBasicModel.get_estimate = mlp_get_estimate_torch"
   ]
  }
 ],
 "metadata": {
  "kernelspec": {
   "display_name": "Python 3 (ipykernel)",
   "language": "python",
   "name": "python3"
  },
  "language_info": {
   "codemirror_mode": {
    "name": "ipython",
    "version": 3
   },
   "file_extension": ".py",
   "mimetype": "text/x-python",
   "name": "python",
   "nbconvert_exporter": "python",
   "pygments_lexer": "ipython3",
   "version": "3.7.0"
  }
 },
 "nbformat": 4,
 "nbformat_minor": 5
}
