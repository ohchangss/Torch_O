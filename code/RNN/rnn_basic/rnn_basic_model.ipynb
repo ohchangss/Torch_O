{
 "cells": [
  {
   "cell_type": "code",
   "execution_count": 2,
   "id": "6f966822",
   "metadata": {},
   "outputs": [],
   "source": [
    "BASE_DIR = '../'*3\n",
    "RUN_DIR = BASE_DIR + 'code/CNN/cnn_ext_model/ext_model.ipynb'"
   ]
  },
  {
   "cell_type": "code",
   "execution_count": 3,
   "id": "b4e7671e",
   "metadata": {},
   "outputs": [],
   "source": [
    "%run {RUN_DIR}"
   ]
  },
  {
   "cell_type": "code",
   "execution_count": 5,
   "id": "e263db96",
   "metadata": {},
   "outputs": [],
   "source": [
    "class RnnBasicModel(CnnExtModel):\n",
    "    pass"
   ]
  },
  {
   "cell_type": "code",
   "execution_count": 10,
   "id": "f3a33b5c",
   "metadata": {},
   "outputs": [
    {
     "ename": "SyntaxError",
     "evalue": "positional argument follows keyword argument (Temp/ipykernel_5172/1631570774.py, line 34)",
     "output_type": "error",
     "traceback": [
      "\u001b[1;36m  File \u001b[1;32m\"C:\\Users\\oh\\AppData\\Local\\Temp/ipykernel_5172/1631570774.py\"\u001b[1;36m, line \u001b[1;32m34\u001b[0m\n\u001b[1;33m    params = nn.RNN(input_size=timefeats, hidden_size=recur_size,3,batch_first=False)\u001b[0m\n\u001b[1;37m                                                                ^\u001b[0m\n\u001b[1;31mSyntaxError\u001b[0m\u001b[1;31m:\u001b[0m positional argument follows keyword argument\n"
     ]
    }
   ],
   "source": [
    "def rnn_basic_alloc_rnn_layer(self, input_shape, hconfig):\n",
    "    # 입력 출력의 시계열 인지 확인\n",
    "    #input_shape = > 40,43 [timesteps1, timefeats]\n",
    "    inseq = get_conf_param(hconfig, 'inseq', True)\n",
    "    outseq = get_conf_param(hconfig, 'outseq', True)\n",
    "    target_num = 2 # target\n",
    "    if inseq:\n",
    "    # 시간대최대 길이timesteps1, 시간대별 입력 벡터 크기= timefeats\n",
    "    # 시간축 크기를 나타내며 길이표시를 위해\n",
    "    # 한칸더 할당되었음을 표시하기 위해 1을 붙임\n",
    "    #timefeats -> x1~xn\n",
    "    \n",
    "        timesteps1, timefeats = input_shape\n",
    "    else:\n",
    "        timesteps1 = get_conf_param(hconfig, 'timesteps') + 1\n",
    "        timefeats = np.prod(input_shape)\n",
    "    # 순환백터의 크기     \n",
    "    # hidden\n",
    "    recur_size = get_conf_param(hconfig, 'recur_size')\n",
    "    # 가중치와 편향파라미터 생성\n",
    "    ex_inp_dim = timefeats + recur_size\n",
    "    # 시간대별입력 + 순환벡터의 확장크기 => w_param\n",
    "    # bias -> recur_size\n",
    "#     weight, bias = self.alloc_param_pair([ex_inp_dim, recur_size])\n",
    "    # timesteps 1 -> 나중에 forward or back 반복제어용 \n",
    "    if outseq:\n",
    "        # 시계열데이터일경우\n",
    "        output_shape = [timesteps1, recur_size]\n",
    "        \n",
    "    else:\n",
    "        # 시계열 데이터가 아닐경우 \n",
    "        \n",
    "        output_shape = [recur_size]\n",
    "    \n",
    "    rnn = RNN(timefeats, recur_size, target_num, 30)\n",
    "    return [rnn], output_shape\n",
    "\n",
    "#     return {'w':weight, 'b': bias, 'info':rnn_info}, output_shape\n",
    "\n",
    "RnnBasicModel.alloc_rnn_layer = rnn_basic_alloc_rnn_layer"
   ]
  },
  {
   "cell_type": "code",
   "execution_count": 8,
   "id": "cde0bd8e",
   "metadata": {},
   "outputs": [],
   "source": [
    "import torch.nn as nn"
   ]
  },
  {
   "cell_type": "code",
   "execution_count": 7,
   "id": "2e71ef09",
   "metadata": {},
   "outputs": [],
   "source": [
    "class RNN(nn.Module):\n",
    "    def __init__(self,input_size, hidden_size, output_size, batch_size):\n",
    "        super(RNN, self).__init__()\n",
    "        \n",
    "        \n",
    "        self.input_size = input_size\n",
    "        self.hidden_size = hidden_size\n",
    "        self.output_size = output_size\n",
    "        self.batch_size = batch_size\n",
    "        self.output_size = 2\n",
    "        self.n_layers= 2\n",
    "        \n",
    "        ## layers\n",
    "        \n",
    "        self.rnn = nn.RNN(input_size = self.input_size, hidden_size =self.hidden_size,\\\n",
    "                          num_layers =self.n_layers, batch_first=True,\\\n",
    "                         dropout=0.9)\n",
    "#         , nonlinearity='relu'\n",
    "        self.out = nn.Linear(self.hidden_size, self.output_size)\n",
    "        \n",
    "#         self.i2o = nn.Linear(self.input_size + self.hidden_size, self.output_size)\n",
    "#         self.i2h = nn.Linear(self.input_size+self.hidden_size, self.hidden_size)\n",
    "    def forward(self, x):\n",
    "        x = x[:,1:,:]\n",
    "#         print(x.shape)\n",
    "        h_0 = self._init_state(batch_size = x.size(0))\n",
    "#         print(h_0.shape,type(h_0))\n",
    "        out, h = self.rnn(x, h_0)\n",
    "#         print(out.shape)\n",
    "        h_t = out[:,-1,:]\n",
    "#         print(h_t.shape)\n",
    "        logit = self.out(h_t)\n",
    "        \n",
    "        return logit\n",
    "    \n",
    "    def _init_state(self, batch_size = 1):\n",
    "        weight = next(self.parameters()).data\n",
    "        return weight.new(self.n_layers, batch_size, self.hidden_size).zero_()"
   ]
  },
  {
   "cell_type": "code",
   "execution_count": null,
   "id": "077e85b9",
   "metadata": {},
   "outputs": [],
   "source": [
    "def eval_accuracy_torch(self, x, y, output=None):\n",
    "    if output is None:\n",
    "        with torch.no_grad():\n",
    "            output = self.model.forward(x)\n",
    "\n",
    "    accuracy = self.dataset.eval_accuracy(x, y, output)\n",
    "    \n",
    "    return accuracy\n",
    "\n",
    "RnnBasicModel.eval_accuracy = eval_accuracy_torch"
   ]
  },
  {
   "cell_type": "code",
   "execution_count": null,
   "id": "667fc622",
   "metadata": {},
   "outputs": [],
   "source": [
    "def test_torch(self,batch_size):\n",
    "    with torch.no_grad():\n",
    "#         print(self.model.parameters)\n",
    "        test_X,test_y=self.dataset.get_test_data(batch_size)\n",
    "        test_X=torch.from_numpy(test_X).float()\n",
    "        test_y=torch.from_numpy(test_y).float()\n",
    "#         print(test_X.shape,test_y.shape,'테스트')\n",
    "        time1 = int(time.time())        \n",
    "        acc = self.eval_accuracy(test_X, test_y)\n",
    "        time2 = int(time.time())\n",
    "        self.dataset.test_prt_result(self.name, acc, time2-time1)\n",
    "\n",
    "RnnBasicModel.test = test_torch"
   ]
  },
  {
   "cell_type": "code",
   "execution_count": null,
   "id": "f8ae3674",
   "metadata": {},
   "outputs": [],
   "source": [
    "def mlp_get_estimate_torch(self, x):\n",
    "    with torch.no_grad():\n",
    "#         x=x.view([-1,3,96,96])\n",
    "#         x=torch.from_numpy(x).float()\n",
    "        output = self.model.forward(x)\n",
    "    estimate = self.dataset.get_estimate(output)\n",
    "    return estimate\n",
    "\n",
    "RnnBasicModel.get_estimate = mlp_get_estimate_torch"
   ]
  },
  {
   "cell_type": "code",
   "execution_count": null,
   "id": "e44b8df3",
   "metadata": {},
   "outputs": [],
   "source": [
    "def mlp_model_visualize_torch(self, num):\n",
    "    print('Model {} Visualization'.format(self.name))\n",
    "    deX, deY = self.dataset.get_visualize_data(num)\n",
    "    deX_=torch.from_numpy(deX).float()\n",
    "    deY_=torch.from_numpy(deY).float()\n",
    "    est = self.get_estimate(deX_)\n",
    "    self.dataset.visualize(deX, est, deY)\n",
    "\n",
    "RnnBasicModel.visualize = mlp_model_visualize_torch"
   ]
  },
  {
   "cell_type": "code",
   "execution_count": null,
   "id": "100539fa",
   "metadata": {},
   "outputs": [],
   "source": [
    "def init_parameters_torch(self, hconfigs):\n",
    "    \n",
    "    self.hconfig = hconfigs\n",
    "    \n",
    "    prev_shape = self.dataset.input_shape\n",
    "    for hconfig in hconfigs:\n",
    "        pm, prev_shape=self.alloc_layer_param(prev_shape, hconfig)\n",
    "        self.layers.append(pm)\n",
    "        \n",
    "    output_cnt = int(np.prod(self.dataset.output_shape))\n",
    "#     self.layers.append([nn.Flatten()])\n",
    "#     pm, _ =self.alloc_layer_param(prev_shape, output_cnt)\n",
    "    \n",
    "#     self.layers.append(pm)\n",
    "    self.layers=sum(self.layers,[])\n",
    "RnnBasicModel.init_parameters = init_parameters_torch\n"
   ]
  },
  {
   "cell_type": "code",
   "execution_count": 9,
   "id": "15f45f53",
   "metadata": {},
   "outputs": [],
   "source": [
    "import torch"
   ]
  },
  {
   "cell_type": "code",
   "execution_count": null,
   "id": "1d82dbd0",
   "metadata": {},
   "outputs": [],
   "source": [
    "def rnn_eval_accuracy_torch(self, x, y, output=None):\n",
    "    if output is None:\n",
    "        with torch.no_grad():\n",
    "#             x=x.view([-1,3,96,96])\n",
    "            if isinstance(x, torch.Tensor):\n",
    "                pass\n",
    "            else:\n",
    "                x=torch.from_numpy(x).float()\n",
    "                y=torch.from_numpy(y).float()\n",
    "            output = self.model.forward(x)\n",
    "    accuracy = self.dataset.eval_accuracy(x, y, output)\n",
    "    \n",
    "    return accuracy\n",
    "\n",
    "RnnBasicModel.eval_accuracy = rnn_eval_accuracy_torch"
   ]
  }
 ],
 "metadata": {
  "kernelspec": {
   "display_name": "Python 3 (ipykernel)",
   "language": "python",
   "name": "python3"
  },
  "language_info": {
   "codemirror_mode": {
    "name": "ipython",
    "version": 3
   },
   "file_extension": ".py",
   "mimetype": "text/x-python",
   "name": "python",
   "nbconvert_exporter": "python",
   "pygments_lexer": "ipython3",
   "version": "3.7.0"
  }
 },
 "nbformat": 4,
 "nbformat_minor": 5
}
