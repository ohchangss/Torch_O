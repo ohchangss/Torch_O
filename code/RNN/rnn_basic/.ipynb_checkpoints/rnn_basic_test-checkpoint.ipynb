{
 "cells": [
  {
   "cell_type": "code",
   "execution_count": 751,
   "id": "2a4a16e6",
   "metadata": {},
   "outputs": [],
   "source": [
    "BASE_DIR = '../'*3\n",
    "DATA_DIR = BASE_DIR+ 'code/UTIL/dataset/dataset_automata.ipynb'\n",
    "# DATA_DIR = BASE_DIR+ 'code/RNN/rnn_basic/dataset_automata.ipynb'\n",
    "MODEL_DIR = BASE_DIR+ 'code/RNN/rnn_basic/rnn_basic_model.ipynb'"
   ]
  },
  {
   "cell_type": "code",
   "execution_count": 758,
   "id": "8d60b662",
   "metadata": {},
   "outputs": [],
   "source": [
    "EPOCH = 10\n",
    "BATCH_SIZE=40\n",
    "NUM_WORKERS=0\n",
    "LEARNING_RATE = 0.01"
   ]
  },
  {
   "cell_type": "code",
   "execution_count": 759,
   "id": "7b31e257",
   "metadata": {},
   "outputs": [
    {
     "name": "stdout",
     "output_type": "stream",
     "text": [
      "Using device: cpu\n",
      "Using PyTorch version: 1.9.0\n"
     ]
    }
   ],
   "source": [
    "%run {DATA_DIR}\n",
    "%run {MODEL_DIR}"
   ]
  },
  {
   "cell_type": "code",
   "execution_count": 755,
   "id": "ddd31413",
   "metadata": {},
   "outputs": [],
   "source": [
    "# ad = AutomataDataset(30,BATCH_SIZE)\n"
   ]
  },
  {
   "cell_type": "code",
   "execution_count": 760,
   "id": "ff2a2790",
   "metadata": {},
   "outputs": [],
   "source": [
    "am_2 = RnnBasicModel('am_2', ad, ['rnn', {'recur_size':2, 'outseq':False}])\n",
    "am_16 = RnnBasicModel('am_16', ad, ['rnn', {'recur_size':16, 'outseq':False}])\n",
    "am_64 = RnnBasicModel('am_64', ad, ['rnn', {'recur_size':64, 'outseq':False}])"
   ]
  },
  {
   "cell_type": "code",
   "execution_count": 761,
   "id": "b47491c7",
   "metadata": {
    "scrolled": true
   },
   "outputs": [
    {
     "name": "stdout",
     "output_type": "stream",
     "text": [
      "Model am_8 train started \n",
      "\n",
      "\n",
      "!!!!!!!!!!!\n",
      "!! Layer !! .\n",
      "!!!!!!!!!!! \n",
      "\n",
      " Net(\n",
      "  (layer1): Sequential(\n",
      "    (0): RNN(\n",
      "      (rnn): RNN(43, 64, num_layers=3)\n",
      "    )\n",
      "    (1): ReLU()\n",
      "    (2): Linear(in_features=64, out_features=1, bias=True)\n",
      "  )\n",
      ")\n",
      "\n",
      "!!!!!!!!!!!!!!!\n",
      "!! optimizer !! \n",
      "!!!!!!!!!!!!!!! \n",
      "\n",
      " Adam (\n",
      "Parameter Group 0\n",
      "    amsgrad: False\n",
      "    betas: (0.9, 0.999)\n",
      "    eps: 1e-08\n",
      "    lr: 0.001\n",
      "    weight_decay: 0\n",
      ")\n"
     ]
    },
    {
     "name": "stderr",
     "output_type": "stream",
     "text": [
      "C:\\Users\\oh\\anaconda3\\envs\\nalcoding\\lib\\site-packages\\ipykernel_launcher.py:12: UserWarning: To copy construct from a tensor, it is recommended to use sourceTensor.clone().detach() or sourceTensor.clone().detach().requires_grad_(True), rather than torch.tensor(sourceTensor).\n",
      "  if sys.path[0] == '':\n",
      "C:\\Users\\oh\\anaconda3\\envs\\nalcoding\\lib\\site-packages\\ipykernel_launcher.py:13: UserWarning: To copy construct from a tensor, it is recommended to use sourceTensor.clone().detach() or sourceTensor.clone().detach().requires_grad_(True), rather than torch.tensor(sourceTensor).\n",
      "  del sys.path[0]\n"
     ]
    },
    {
     "name": "stdout",
     "output_type": "stream",
     "text": [
      "    Epoch 1: cost=0.694, accuracy=0.478/0.450 (3/3 secs)\n",
      "    Epoch 1: cost=0.693, accuracy=0.498/0.300 (3/6 secs)\n",
      "    Epoch 1: cost=0.693, accuracy=0.507/0.350 (3/9 secs)\n",
      "    Epoch 2: cost=0.693, accuracy=0.478/0.325 (2/11 secs)\n",
      "    Epoch 2: cost=0.693, accuracy=0.498/0.325 (3/14 secs)\n",
      "    Epoch 2: cost=0.692, accuracy=0.507/0.475 (2/16 secs)\n",
      "    Epoch 3: cost=0.693, accuracy=0.478/0.525 (3/19 secs)\n",
      "    Epoch 3: cost=0.691, accuracy=0.498/0.450 (2/21 secs)\n",
      "    Epoch 3: cost=0.691, accuracy=0.507/0.525 (2/23 secs)\n",
      "    Epoch 4: cost=0.687, accuracy=0.478/0.350 (3/26 secs)\n",
      "    Epoch 4: cost=0.687, accuracy=0.498/0.375 (2/28 secs)\n",
      "    Epoch 4: cost=0.686, accuracy=0.507/0.500 (2/30 secs)\n",
      "    Epoch 5: cost=0.685, accuracy=0.478/0.325 (3/33 secs)\n",
      "    Epoch 5: cost=0.682, accuracy=0.498/0.500 (2/35 secs)\n",
      "    Epoch 5: cost=0.683, accuracy=0.507/0.350 (2/37 secs)\n",
      "    Epoch 6: cost=0.680, accuracy=0.478/0.500 (2/39 secs)\n",
      "    Epoch 6: cost=0.678, accuracy=0.498/0.475 (2/41 secs)\n",
      "    Epoch 6: cost=0.679, accuracy=0.507/0.325 (3/44 secs)\n",
      "    Epoch 7: cost=0.675, accuracy=0.478/0.325 (2/46 secs)\n",
      "    Epoch 7: cost=0.674, accuracy=0.498/0.300 (2/48 secs)\n",
      "    Epoch 7: cost=0.675, accuracy=0.507/0.425 (2/50 secs)\n",
      "    Epoch 8: cost=0.672, accuracy=0.478/0.375 (1/51 secs)\n",
      "    Epoch 8: cost=0.671, accuracy=0.498/0.375 (2/53 secs)\n",
      "    Epoch 8: cost=0.673, accuracy=0.507/0.300 (2/55 secs)\n",
      "    Epoch 9: cost=0.671, accuracy=0.478/0.325 (2/57 secs)\n",
      "    Epoch 9: cost=0.670, accuracy=0.498/0.475 (2/59 secs)\n",
      "    Epoch 9: cost=0.672, accuracy=0.507/0.350 (2/61 secs)\n",
      "    Epoch 10: cost=0.670, accuracy=0.478/0.350 (2/63 secs)\n",
      "    Epoch 10: cost=0.669, accuracy=0.498/0.675 (2/65 secs)\n",
      "    Epoch 10: cost=0.671, accuracy=0.507/0.375 (1/66 secs)\n",
      "Model am_8 train ended in 66 secs:\n",
      "Model am_8 test report: accuracy = 0.500, (0 secs)\n",
      "\n",
      "Model am_8 Visualization\n",
      "1*(x+3645*m*02b*t008+11r+7: 잘못된 패턴 => 합격추정(0.83) : X\n",
      "n+g9*(8/n*4)*90*80/t*6: 올바른 패턴 => 합격추정(0.50) : O\n",
      "2752(1/la+4*2+i)*2k: 잘못된 패턴 => 합격추정(0.50) : X\n"
     ]
    }
   ],
   "source": [
    "am_64.exec_all(epoch_count=EPOCH, report=8,batch_size=BATCH_SIZE)\n"
   ]
  }
 ],
 "metadata": {
  "kernelspec": {
   "display_name": "Python 3 (ipykernel)",
   "language": "python",
   "name": "python3"
  },
  "language_info": {
   "codemirror_mode": {
    "name": "ipython",
    "version": 3
   },
   "file_extension": ".py",
   "mimetype": "text/x-python",
   "name": "python",
   "nbconvert_exporter": "python",
   "pygments_lexer": "ipython3",
   "version": "3.7.0"
  }
 },
 "nbformat": 4,
 "nbformat_minor": 5
}
