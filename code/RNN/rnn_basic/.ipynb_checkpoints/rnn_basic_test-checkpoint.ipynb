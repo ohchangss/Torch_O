{
 "cells": [
  {
   "cell_type": "code",
   "execution_count": 48,
   "id": "2a4a16e6",
   "metadata": {},
   "outputs": [],
   "source": [
    "BASE_DIR = '../'*3\n",
    "DATA_DIR = BASE_DIR+ 'code/UTIL/dataset/dataset_automata.ipynb'\n",
    "# DATA_DIR = BASE_DIR+ 'code/RNN/rnn_basic/dataset_automata.ipynb'\n",
    "MODEL_DIR = BASE_DIR+ 'code/RNN/rnn_basic/rnn_basic_model.ipynb'"
   ]
  },
  {
   "cell_type": "code",
   "execution_count": 49,
   "id": "8d60b662",
   "metadata": {},
   "outputs": [],
   "source": [
    "EPOCH = 10\n",
    "BATCH_SIZE=20\n",
    "NUM_WORKERS=0\n",
    "LEARNING_RATE = 0.01"
   ]
  },
  {
   "cell_type": "code",
   "execution_count": 50,
   "id": "7b31e257",
   "metadata": {},
   "outputs": [
    {
     "name": "stdout",
     "output_type": "stream",
     "text": [
      "Using device: cpu\n",
      "Using PyTorch version: 1.9.0\n"
     ]
    }
   ],
   "source": [
    "%run {DATA_DIR}\n",
    "%run {MODEL_DIR}"
   ]
  },
  {
   "cell_type": "code",
   "execution_count": 51,
   "id": "ddd31413",
   "metadata": {},
   "outputs": [],
   "source": [
    "ad = AutomataDataset(2000)\n"
   ]
  },
  {
   "cell_type": "code",
   "execution_count": 52,
   "id": "ff2a2790",
   "metadata": {},
   "outputs": [],
   "source": [
    "am_2 = RnnBasicModel('am_2', ad, ['rnn', {'recur_size':2, 'outseq':False}])\n",
    "am_4 = RnnBasicModel('am_4', ad, ['rnn', {'recur_size':4, 'outseq':False}])\n",
    "am_8 = RnnBasicModel('am_8', ad, ['rnn', {'recur_size':8, 'outseq':False}])"
   ]
  },
  {
   "cell_type": "code",
   "execution_count": 53,
   "id": "b47491c7",
   "metadata": {
    "scrolled": false
   },
   "outputs": [
    {
     "name": "stdout",
     "output_type": "stream",
     "text": [
      "Model am_2 train started \n",
      "\n",
      "\n",
      "!!!!!!!!!!!\n",
      "!! Layer !! .\n",
      "!!!!!!!!!!! \n",
      "\n",
      " Net(\n",
      "  (layer1): Sequential(\n",
      "    (0): RNN(\n",
      "      (rnn): RNN(43, 2, batch_first=True)\n",
      "    )\n",
      "    (1): Linear(in_features=2, out_features=1, bias=True)\n",
      "  )\n",
      ")\n",
      "\n",
      "!!!!!!!!!!!!!!!\n",
      "!! optimizer !! \n",
      "!!!!!!!!!!!!!!! \n",
      "\n",
      " Adam (\n",
      "Parameter Group 0\n",
      "    amsgrad: False\n",
      "    betas: (0.9, 0.999)\n",
      "    eps: 1e-08\n",
      "    lr: 0.001\n",
      "    weight_decay: 0\n",
      ")\n"
     ]
    },
    {
     "name": "stderr",
     "output_type": "stream",
     "text": [
      "C:\\Users\\oh\\anaconda3\\envs\\nalcoding\\lib\\site-packages\\ipykernel_launcher.py:12: UserWarning: To copy construct from a tensor, it is recommended to use sourceTensor.clone().detach() or sourceTensor.clone().detach().requires_grad_(True), rather than torch.tensor(sourceTensor).\n",
      "  if sys.path[0] == '':\n",
      "C:\\Users\\oh\\anaconda3\\envs\\nalcoding\\lib\\site-packages\\ipykernel_launcher.py:13: UserWarning: To copy construct from a tensor, it is recommended to use sourceTensor.clone().detach() or sourceTensor.clone().detach().requires_grad_(True), rather than torch.tensor(sourceTensor).\n",
      "  del sys.path[0]\n"
     ]
    },
    {
     "name": "stdout",
     "output_type": "stream",
     "text": [
      "    Epoch 1: cost=0.694, accuracy=0.475/0.350 (1/1 secs)\n",
      "    Epoch 1: cost=0.693, accuracy=0.500/0.650 (0/1 secs)\n",
      "    Epoch 1: cost=0.693, accuracy=0.496/0.650 (0/1 secs)\n",
      "    Epoch 1: cost=0.693, accuracy=0.499/0.600 (1/2 secs)\n",
      "    Epoch 2: cost=0.693, accuracy=0.517/0.650 (0/2 secs)\n",
      "    Epoch 2: cost=0.694, accuracy=0.488/0.450 (1/3 secs)\n",
      "    Epoch 2: cost=0.693, accuracy=0.506/0.550 (0/3 secs)\n",
      "    Epoch 2: cost=0.693, accuracy=0.499/0.550 (0/3 secs)\n",
      "    Epoch 3: cost=0.693, accuracy=0.465/0.500 (1/4 secs)\n",
      "    Epoch 3: cost=0.693, accuracy=0.466/0.450 (0/4 secs)\n",
      "    Epoch 3: cost=0.693, accuracy=0.495/0.700 (0/4 secs)\n",
      "    Epoch 3: cost=0.693, accuracy=0.499/0.400 (1/5 secs)\n",
      "    Epoch 4: cost=0.694, accuracy=0.447/0.550 (0/5 secs)\n",
      "    Epoch 4: cost=0.693, accuracy=0.469/0.600 (1/6 secs)\n",
      "    Epoch 4: cost=0.693, accuracy=0.494/0.500 (0/6 secs)\n",
      "    Epoch 4: cost=0.693, accuracy=0.499/0.550 (0/6 secs)\n",
      "    Epoch 5: cost=0.693, accuracy=0.505/0.550 (1/7 secs)\n",
      "    Epoch 5: cost=0.693, accuracy=0.494/0.450 (0/7 secs)\n",
      "    Epoch 5: cost=0.693, accuracy=0.496/0.650 (1/8 secs)\n",
      "    Epoch 5: cost=0.693, accuracy=0.499/0.450 (0/8 secs)\n",
      "    Epoch 6: cost=0.693, accuracy=0.492/0.450 (0/8 secs)\n",
      "    Epoch 6: cost=0.693, accuracy=0.509/0.600 (1/9 secs)\n",
      "    Epoch 6: cost=0.693, accuracy=0.501/0.550 (0/9 secs)\n",
      "    Epoch 6: cost=0.693, accuracy=0.499/0.600 (1/10 secs)\n",
      "    Epoch 7: cost=0.693, accuracy=0.495/0.550 (0/10 secs)\n",
      "    Epoch 7: cost=0.693, accuracy=0.494/0.450 (0/10 secs)\n",
      "    Epoch 7: cost=0.693, accuracy=0.504/0.500 (1/11 secs)\n",
      "    Epoch 7: cost=0.693, accuracy=0.499/0.450 (0/11 secs)\n",
      "    Epoch 8: cost=0.694, accuracy=0.493/0.750 (0/11 secs)\n",
      "    Epoch 8: cost=0.693, accuracy=0.506/0.400 (1/12 secs)\n",
      "    Epoch 8: cost=0.693, accuracy=0.507/0.650 (0/12 secs)\n",
      "    Epoch 8: cost=0.693, accuracy=0.499/0.500 (0/12 secs)\n",
      "    Epoch 9: cost=0.693, accuracy=0.480/0.500 (1/13 secs)\n",
      "    Epoch 9: cost=0.693, accuracy=0.496/0.600 (0/13 secs)\n",
      "    Epoch 9: cost=0.693, accuracy=0.495/0.600 (1/14 secs)\n",
      "    Epoch 9: cost=0.693, accuracy=0.499/0.700 (0/14 secs)\n",
      "    Epoch 10: cost=0.693, accuracy=0.515/0.550 (0/14 secs)\n",
      "    Epoch 10: cost=0.693, accuracy=0.491/0.650 (1/15 secs)\n",
      "    Epoch 10: cost=0.693, accuracy=0.494/0.700 (0/15 secs)\n",
      "    Epoch 10: cost=0.693, accuracy=0.499/0.600 (1/16 secs)\n",
      "Model am_2 train ended in 16 secs:\n",
      "Model am_2 test report: accuracy = 0.500, (0 secs)\n",
      "\n",
      "Model am_2 Visualization\n",
      "q/c+h/z+6(m2: 잘못된 패턴 => 합격추정(0.51) : X\n",
      "64+y-g/(ok)+49: 올바른 패턴 => 탈락추정(0.49) : X\n",
      "(n8/gdg7zp//): 잘못된 패턴 => 탈락추정(0.50) : O\n"
     ]
    }
   ],
   "source": [
    "am_2.exec_all(epoch_count=EPOCH, report=20,batch_size=BATCH_SIZE)\n"
   ]
  },
  {
   "cell_type": "code",
   "execution_count": null,
   "id": "c104a933",
   "metadata": {},
   "outputs": [],
   "source": []
  },
  {
   "cell_type": "code",
   "execution_count": null,
   "id": "37108cde",
   "metadata": {},
   "outputs": [],
   "source": []
  }
 ],
 "metadata": {
  "kernelspec": {
   "display_name": "Python 3 (ipykernel)",
   "language": "python",
   "name": "python3"
  },
  "language_info": {
   "codemirror_mode": {
    "name": "ipython",
    "version": 3
   },
   "file_extension": ".py",
   "mimetype": "text/x-python",
   "name": "python",
   "nbconvert_exporter": "python",
   "pygments_lexer": "ipython3",
   "version": "3.7.0"
  }
 },
 "nbformat": 4,
 "nbformat_minor": 5
}
