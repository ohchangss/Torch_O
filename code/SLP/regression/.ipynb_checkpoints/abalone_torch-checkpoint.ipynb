{
 "cells": [
  {
   "cell_type": "code",
   "execution_count": 7,
   "id": "0f3c2221",
   "metadata": {},
   "outputs": [],
   "source": [
    "BASE_DIR ='../'*3\n",
    "UTL_DIR = BASE_DIR + 'code/UTIL'\n",
    "CHCK_DVC = UTL_DIR +'/chck_device/chck_device.ipynb'"
   ]
  },
  {
   "cell_type": "code",
   "execution_count": 9,
   "id": "e1dd4ac0",
   "metadata": {},
   "outputs": [
    {
     "name": "stdout",
     "output_type": "stream",
     "text": [
      "Using device: cpu\n",
      "Using PyTorch version: 1.9.0\n",
      "cpu\n"
     ]
    }
   ],
   "source": [
    "%run {UTL_DIR +'/chck_device/chck_device.ipynb'}\n",
    "print(DEVICE)"
   ]
  },
  {
   "cell_type": "code",
   "execution_count": 5,
   "id": "75df3c7e",
   "metadata": {},
   "outputs": [],
   "source": [
    "from torch.utils.data import DataLoader, Dataset\n",
    "import csv\n",
    "import numpy as np\n",
    "import os"
   ]
  },
  {
   "cell_type": "code",
   "execution_count": 11,
   "id": "03658a81",
   "metadata": {},
   "outputs": [],
   "source": [
    "RND_MEAN=0\n",
    "RND_STD=0.0030\n",
    "LEARNING_RATE=0.001"
   ]
  },
  {
   "cell_type": "code",
   "execution_count": 11,
   "id": "600b81dd",
   "metadata": {},
   "outputs": [],
   "source": [
    "class Model(object):\n",
    "    def __init__(self, name, dataset):\n",
    "        self.name = name\n",
    "        self.dataset = dataset\n",
    "        self.is_traninig = False\n",
    "        if not hasattr(self, 'rand_std'): self.rand_std = 0.030\n",
    "    def __str__(self):\n",
    "        return '{}/{}'.format(self.name, self.dataset)\n",
    "    \n",
    "    def exec_all(self, epoch_count=10, batch_size=10, learning_rate = 0.001, report=0, show_cnt = 3):\n",
    "        \n",
    "        self.traing(epoch_count, batch_size, learning_rate, report)\n",
    "        self.test()\n",
    "        if show_cnt>0 : self.visualize(show_cnt)\n",
    "        "
   ]
  },
  {
   "cell_type": "code",
   "execution_count": null,
   "id": "5fff35e5",
   "metadata": {},
   "outputs": [],
   "source": [
    "class SlpModel(Model):\n",
    "    def __init__(self, name, dataset, hconfigs):\n",
    "        super(self, SlpModel).__init__(name, dataset)"
   ]
  },
  {
   "cell_type": "code",
   "execution_count": null,
   "id": "f9097b17",
   "metadata": {},
   "outputs": [],
   "source": []
  },
  {
   "cell_type": "code",
   "execution_count": 10,
   "id": "cc318eba",
   "metadata": {},
   "outputs": [],
   "source": [
    "class abalone(Dataset): \n",
    "    def __init__(self):\n",
    "        # 데이터셋 전처리 부분.\n",
    "        with open(BASE_DIR+'data/SLP/abalone/abalone.csv') as csvfile:\n",
    "            csvreader = csv.reader(csvfile)\n",
    "            next(csvreader, None)\n",
    "            rows = []\n",
    "            for row in csvreader:\n",
    "                rows.append(row)\n",
    "\n",
    "\n",
    "        input_cnt, output_cnt = 10, 1\n",
    "\n",
    "        data = np.zeros([len(rows), input_cnt+output_cnt])\n",
    "\n",
    "        for n, row in enumerate(rows):\n",
    "            if row[0] == 'I': data[n, 0] = 1\n",
    "            if row[0] == 'M': data[n, 1] = 1\n",
    "            if row[0] == 'F': data[n, 2] = 1\n",
    "            data[n, 3:] = row[1:]\n",
    "\n",
    "        self.x_data = data[:,:input_cnt]\n",
    "        self.y_data = data[:,input_cnt:]\n",
    "        \n",
    "\n",
    "  # 총 데이터의 개수를 리턴\n",
    "    def __len__(self): \n",
    "        return self.x_data.shape[0]\n",
    "\n",
    "  # 인덱스를 입력받아 그에 맵핑되는 입출력 데이터를 파이토치의 Tensor 형태로 리턴\n",
    "    def __getitem__(self, idx): \n",
    "        x = torch.FloatTensor(self.x_data[idx]).to(DEVICE)\n",
    "        y = torch.FloatTensor(self.y_data[idx]).to(DEVICE)\n",
    "        return x, y"
   ]
  },
  {
   "cell_type": "code",
   "execution_count": null,
   "id": "32bed375",
   "metadata": {},
   "outputs": [],
   "source": [
    "def main():\n",
    "    dataset=abalone()\n",
    "    dataloader = DataLoader(dataset, batch_size=512,shuffle=True,num_workers=2)\n",
    "    model = torch.nn.Linear(10,1).to(DEVICE)\n",
    "    optimizer = torch.optim.SGD(model.parameters(), lr=LEARNING_RATE) \n",
    "    nb_epochs = EPOCH\n",
    "    for epoch in range(nb_epochs + 1):\n",
    "      for batch_idx, samples in enumerate(dataloader):\n",
    "        # print(batch_idx)\n",
    "        # print(samples)\n",
    "        x_train, y_train = samples\n",
    "        x_train=x_train.to(DEVICE)\n",
    "        y_train=y_train.to(DEVICE)\n",
    "        # H(x) 계산\n",
    "        prediction = model(x_train)\n",
    "\n",
    "        # cost 계산\n",
    "        cost = F.mse_loss(prediction, y_train)\n",
    "\n",
    "        # cost로 H(x) 계산\n",
    "        optimizer.zero_grad()\n",
    "        cost.backward()\n",
    "        optimizer.step()\n",
    "\n",
    "        print('Epoch {:4d}/{} Batch {}/{} Cost: {:.6f}'.format(\n",
    "            epoch, nb_epochs, batch_idx+1, len(dataloader),\n",
    "            cost.item()\n",
    "            ))"
   ]
  },
  {
   "cell_type": "code",
   "execution_count": 23,
   "id": "8e258b8f",
   "metadata": {},
   "outputs": [
    {
     "ename": "TypeError",
     "evalue": "module() takes at most 2 arguments (3 given)",
     "output_type": "error",
     "traceback": [
      "\u001b[1;31m---------------------------------------------------------------------------\u001b[0m",
      "\u001b[1;31mTypeError\u001b[0m                                 Traceback (most recent call last)",
      "\u001b[1;32m~\\AppData\\Local\\Temp/ipykernel_13700/2283646516.py\u001b[0m in \u001b[0;36m<module>\u001b[1;34m\u001b[0m\n\u001b[1;32m----> 1\u001b[1;33m \u001b[1;32mclass\u001b[0m \u001b[0mabalone\u001b[0m\u001b[1;33m(\u001b[0m\u001b[0mdataset\u001b[0m\u001b[1;33m)\u001b[0m\u001b[1;33m:\u001b[0m\u001b[1;33m\u001b[0m\u001b[0m\n\u001b[0m\u001b[0;32m      2\u001b[0m     \u001b[1;32mdef\u001b[0m \u001b[0m__init__\u001b[0m\u001b[1;33m(\u001b[0m\u001b[0mself\u001b[0m\u001b[1;33m,\u001b[0m \u001b[0mepoch_count\u001b[0m\u001b[1;33m,\u001b[0m \u001b[0mmb_size\u001b[0m\u001b[1;33m,\u001b[0m \u001b[0mreport\u001b[0m\u001b[1;33m)\u001b[0m\u001b[1;33m:\u001b[0m\u001b[1;33m\u001b[0m\u001b[0m\n\u001b[0;32m      3\u001b[0m         \u001b[0mself\u001b[0m\u001b[1;33m.\u001b[0m\u001b[0mepoch_count\u001b[0m \u001b[1;33m=\u001b[0m \u001b[0mepoch_count\u001b[0m\u001b[1;33m\u001b[0m\u001b[0m\n\u001b[0;32m      4\u001b[0m         \u001b[0mself\u001b[0m\u001b[1;33m.\u001b[0m\u001b[0mmb_size\u001b[0m \u001b[1;33m=\u001b[0m \u001b[0mmb_size\u001b[0m\u001b[1;33m\u001b[0m\u001b[0m\n\u001b[0;32m      5\u001b[0m         \u001b[0mself\u001b[0m\u001b[1;33m.\u001b[0m\u001b[0mreport\u001b[0m \u001b[1;33m=\u001b[0m \u001b[0mreport\u001b[0m\u001b[1;33m\u001b[0m\u001b[0m\n",
      "\u001b[1;31mTypeError\u001b[0m: module() takes at most 2 arguments (3 given)"
     ]
    }
   ],
   "source": [
    "class abalone(dataset):\n",
    "    def __init__(self, epoch_count, mb_size, report):\n",
    "        self.epoch_count = epoch_count\n",
    "        self.mb_size = mb_size\n",
    "        self.report = report\n",
    "        \n",
    "    def abalone_exec():\n",
    "        load_abalone_torch()\n",
    "        init_model()\n",
    "        train_and_test()"
   ]
  },
  {
   "cell_type": "code",
   "execution_count": 24,
   "id": "376466f6",
   "metadata": {},
   "outputs": [
    {
     "ename": "TypeError",
     "evalue": "module() takes at most 2 arguments (3 given)",
     "output_type": "error",
     "traceback": [
      "\u001b[1;31m---------------------------------------------------------------------------\u001b[0m",
      "\u001b[1;31mTypeError\u001b[0m                                 Traceback (most recent call last)",
      "\u001b[1;32m~\\AppData\\Local\\Temp/ipykernel_13700/1706491620.py\u001b[0m in \u001b[0;36m<module>\u001b[1;34m\u001b[0m\n\u001b[1;32m----> 1\u001b[1;33m \u001b[1;32mclass\u001b[0m \u001b[0mAbalone_Dataloader\u001b[0m\u001b[1;33m(\u001b[0m\u001b[0mdataloader\u001b[0m\u001b[1;33m)\u001b[0m\u001b[1;33m:\u001b[0m\u001b[1;33m\u001b[0m\u001b[0m\n\u001b[0m\u001b[0;32m      2\u001b[0m     \u001b[1;32mdef\u001b[0m \u001b[0m__init__\u001b[0m\u001b[1;33m(\u001b[0m\u001b[0mself\u001b[0m\u001b[1;33m)\u001b[0m\u001b[1;33m:\u001b[0m\u001b[1;33m\u001b[0m\u001b[0m\n\u001b[0;32m      3\u001b[0m         \u001b[0msuper\u001b[0m\u001b[1;33m(\u001b[0m\u001b[0mself\u001b[0m\u001b[1;33m,\u001b[0m \u001b[0mAbalone_Dataloader\u001b[0m\u001b[1;33m)\u001b[0m\u001b[1;33m.\u001b[0m\u001b[0m__init__\u001b[0m\u001b[1;33m(\u001b[0m\u001b[1;33m)\u001b[0m\u001b[1;33m\u001b[0m\u001b[0m\n\u001b[0;32m      4\u001b[0m         \u001b[0msu\u001b[0m\u001b[1;33m\u001b[0m\u001b[0m\n",
      "\u001b[1;31mTypeError\u001b[0m: module() takes at most 2 arguments (3 given)"
     ]
    }
   ],
   "source": [
    "class Abalone_Dataloader(dataloader):\n",
    "    def __init__(self):\n",
    "        super(self, Abalone_Dataloader).__init__()\n",
    "        su"
   ]
  },
  {
   "cell_type": "code",
   "execution_count": null,
   "id": "b85bfeb0",
   "metadata": {},
   "outputs": [],
   "source": [
    "def load_abalone_torch():\n",
    "    "
   ]
  },
  {
   "cell_type": "code",
   "execution_count": 4,
   "id": "5513b5b5",
   "metadata": {},
   "outputs": [],
   "source": [
    "def abalone_exec(epoch_count=10, mb_size=10, report = 1):\n",
    "    load_abalone()\n",
    "    init_model()\n",
    "    train_and_test(epoch_count, mb_size, report)"
   ]
  },
  {
   "cell_type": "code",
   "execution_count": null,
   "id": "a7485de7",
   "metadata": {},
   "outputs": [],
   "source": [
    "def load_abalone_torch()\n",
    "    class "
   ]
  },
  {
   "cell_type": "code",
   "execution_count": null,
   "id": "08b49421",
   "metadata": {},
   "outputs": [],
   "source": [
    "def init_model()"
   ]
  },
  {
   "cell_type": "code",
   "execution_count": 5,
   "id": "5d8c6c8c",
   "metadata": {},
   "outputs": [],
   "source": [
    "def load_abalone_dataset():    \n",
    "    with open('../../data/abalone/abalone.csv') as csvfile:\n",
    "        csvreader = csv.reader(csvfile)\n",
    "        next(csvreader, None)\n",
    "        rows=[]\n",
    "        for row in csvreader:\n",
    "            rows.append(row)\n",
    "    global data, input_cnt, output_cnt\n",
    "    input_cnt, output_cnt = 10, 1\n",
    "    data = np.zeros([len(rows), input_cnt + output_cnt])\n",
    "    for n, row in enumerate(rows):\n",
    "        if row[0] == 'I': data[n, 0] = 1\n",
    "        if row[0] == 'M': data[n, 1] = 1\n",
    "        if row[0] == 'F': data[n, 2] = 1\n",
    "        data[n,3:] = row[1:]"
   ]
  },
  {
   "cell_type": "code",
   "execution_count": 23,
   "id": "d370eec5",
   "metadata": {},
   "outputs": [],
   "source": [
    "def init_model():\n",
    "  global weight, bias, input_cnt, output_cnt\n",
    "  weight = np.random.normal(RND_MEAN,RND_STD,[input_cnt,output_cnt])\n",
    "  bias = np.zeros([output_cnt])"
   ]
  },
  {
   "cell_type": "code",
   "execution_count": 24,
   "id": "cfc99449",
   "metadata": {},
   "outputs": [],
   "source": [
    "def train_and_test(epoch_count,mb_size,report):\n",
    "    step_count = arrange_data(mb_size)\n",
    "    test_x, test_y = get_test_data()\n",
    "    \n",
    "    \n",
    "    for epoch in range(epoch_count):\n",
    "        losses, accs =[],[]\n",
    "        \n",
    "        for n in range(step_count):\n",
    "            \n",
    "            train_x,train_y =get_train_data(mb_size,n)\n",
    "            loss,acc = run_train(train_x, train_y)\n",
    "            losses.append(loss)\n",
    "            accs.append(acc)\n",
    "        if report > 0 and (epoch +1)% report == 0:\n",
    "            acc = run_test(test_x, test_y)\n",
    "            print('Epoch {}: loss={:5.3f}, accuracy = {:5.3f}'.\\\n",
    "                 format(epoch+1,np.mean(losses), np.mean(accs),acc))\n",
    "            \n",
    "    final_acc = run_test(test_x,test_y)\n",
    "    print('\\nFinal Test: final accuracy ={:5.3f}'.format(final_acc))"
   ]
  },
  {
   "cell_type": "code",
   "execution_count": 25,
   "id": "564c1df3",
   "metadata": {},
   "outputs": [],
   "source": [
    "def arrange_data(mb_size):\n",
    "    global data, shuffle_map,test_begin_idx\n",
    "    shuffle_map = np.arange(data.shape[0])\n",
    "    np.random.shuffle(shuffle_map)\n",
    "    step_count=int(data.shape[0]*0.8)//mb_size\n",
    "    test_begin_idx = step_count * mb_size\n",
    "    return step_count\n",
    "\n",
    "def get_test_data():\n",
    "    global data, shuffle_map, test_begin_idx, output_cnt\n",
    "    test_data = data[shuffle_map[test_begin_idx:]]\n",
    "    return test_data[:,:-output_cnt], test_data[:,-output_cnt:]\n",
    "\n",
    "\n",
    "def get_train_data(mb_size,nth):\n",
    "    global data, shuffle_map, test_begin_idx, output_cnt\n",
    "    \n",
    "    if nth ==0:\n",
    "        np.random.shuffle(shuffle_map[:test_begin_idx])\n",
    "        \n",
    "    train_data = data[shuffle_map[mb_size*nth:mb_size*(nth+1)]]\n",
    "    \n",
    "    return train_data[:,:-output_cnt], train_data[:,-output_cnt:]"
   ]
  },
  {
   "cell_type": "code",
   "execution_count": 26,
   "id": "2512e0ee",
   "metadata": {},
   "outputs": [],
   "source": [
    "def run_train(x,y):\n",
    "    \n",
    "    output, aux_nn = forward_neuralnet(x) \n",
    "    loss, aux_pp = forward_postproc(output,y) \n",
    "    accuracy = eval_accuracy(output, y)\n",
    "    \n",
    "    G_loss = 1.0 #역전파의 시작점\n",
    "    G_output=backprop_postproc(G_loss,aux_pp)\n",
    "    backprop_neuralnet(G_output,aux_nn)\n",
    "    \n",
    "    return loss, accuracy\n",
    "\n",
    "def run_test(x,y):\n",
    "    output, _ = forward_neuralnet(x)\n",
    "    accuracy = eval_accuracy(output, y)\n",
    "    return accuracy"
   ]
  },
  {
   "cell_type": "code",
   "execution_count": 27,
   "id": "a561cc9d",
   "metadata": {},
   "outputs": [],
   "source": [
    "def forward_neuralnet(x):\n",
    "    global weight, bias\n",
    "    output = np.matmul(x, weight) + bias\n",
    "    return output, x\n",
    "\n",
    "def backprop_neuralnet(G_output,x):\n",
    "    global weight, bias\n",
    "    \n",
    "    g_output_w = x.transpose()\n",
    "    G_w = np.matmul(g_output_w, G_output)\n",
    "    G_b = np.sum(G_output,axis = 0)\n",
    "    \n",
    "    weight -= LEARNING_RATE * G_w\n",
    "    bias -= LEARNING_RATE *G_b"
   ]
  },
  {
   "cell_type": "code",
   "execution_count": 28,
   "id": "6bc81254",
   "metadata": {},
   "outputs": [],
   "source": [
    "def forward_postproc(output, y):\n",
    "    diff = output - y # 오차\n",
    "    \n",
    "    square = np.square(diff) # 오차제곱\n",
    "    \n",
    "    loss = np.mean(square) # MSE\n",
    "    \n",
    "    return loss, diff\n",
    "\n",
    "def backprop_postproc(G_loss, diff): # 했던것 반대로, 체인룰 및 편미분의 계산값 -> 결국 원하는 값은 로스값을 최소화 할건데 그때의 가중치는? d L / d x\n",
    "    # (y'-y)^2 = square 로 둔다. \n",
    "    # dL / dx = (dL / d y) * (d y / d x ) =(dL / d y') * (d f(x) / d x )\n",
    "    shape = diff.shape #[10,1] [ N, 1]\n",
    "    \n",
    "    g_loss_square = np.ones(shape) / np.prod(shape) # 로스를 최소로하는 제곱값의 변화량은?0 -> d L / d square = 1/(M*N)\n",
    "\n",
    "    g_square_diff = 2 * diff  # d square / d diff  \n",
    "    g_diff_output = 1 \n",
    "    \n",
    "    G_square = g_loss_square * G_loss \n",
    "    G_diff = g_square_diff * G_square\n",
    "    G_output=g_diff_output * G_diff\n",
    "    \n",
    "    return G_output"
   ]
  },
  {
   "cell_type": "code",
   "execution_count": 29,
   "id": "8da1eb01",
   "metadata": {},
   "outputs": [],
   "source": [
    "def eval_accuracy(output,y):\n",
    "    mdiff = np.mean(np.abs((output-y)/y))\n",
    "    return 1-mdiff"
   ]
  },
  {
   "cell_type": "code",
   "execution_count": 30,
   "id": "4ba7de73",
   "metadata": {},
   "outputs": [],
   "source": [
    "def backprop_postproc_oneline(G_loss, diff):  # backprop_postproc() 대신 사용 가능\n",
    "    return 2 * diff / np.prod(diff.shape)"
   ]
  },
  {
   "cell_type": "code",
   "execution_count": null,
   "id": "ce79cdaa",
   "metadata": {},
   "outputs": [],
   "source": [
    "RND_MEAN=0\n",
    "RND_STD=0.0030\n",
    "LEARNING_RATE=0.001\n",
    "\n",
    "class SLP(torch.nn.Module):\n",
    "    def __init__(self,n_input,n_output):\n",
    "        super(SLP, self).__init__()\n",
    "        self.fc = nn.Linear(n_input, n_output)\n",
    "        \n",
    "    def forward(self, x, y):\n",
    "        output = self.fc(x)\n",
    "        diff = output - loss\n",
    "        square = np.square(diff)\n",
    "        loss = np.mean(square)\n",
    "        return loss, diff\n",
    "        "
   ]
  },
  {
   "cell_type": "code",
   "execution_count": null,
   "id": "equal-reporter",
   "metadata": {},
   "outputs": [],
   "source": []
  },
  {
   "cell_type": "code",
   "execution_count": null,
   "id": "frank-budget",
   "metadata": {},
   "outputs": [],
   "source": []
  },
  {
   "cell_type": "code",
   "execution_count": null,
   "id": "cosmetic-bangkok",
   "metadata": {},
   "outputs": [],
   "source": []
  },
  {
   "cell_type": "code",
   "execution_count": null,
   "id": "ethical-validation",
   "metadata": {},
   "outputs": [],
   "source": []
  },
  {
   "cell_type": "code",
   "execution_count": null,
   "id": "indie-collins",
   "metadata": {},
   "outputs": [],
   "source": []
  },
  {
   "cell_type": "code",
   "execution_count": null,
   "id": "breathing-touch",
   "metadata": {},
   "outputs": [],
   "source": []
  },
  {
   "cell_type": "code",
   "execution_count": null,
   "id": "impressive-earth",
   "metadata": {},
   "outputs": [],
   "source": []
  },
  {
   "cell_type": "code",
   "execution_count": null,
   "id": "assigned-barbados",
   "metadata": {},
   "outputs": [],
   "source": []
  },
  {
   "cell_type": "code",
   "execution_count": null,
   "id": "revolutionary-control",
   "metadata": {},
   "outputs": [],
   "source": []
  },
  {
   "cell_type": "code",
   "execution_count": null,
   "id": "stock-municipality",
   "metadata": {},
   "outputs": [],
   "source": []
  },
  {
   "cell_type": "code",
   "execution_count": null,
   "id": "conservative-methodology",
   "metadata": {},
   "outputs": [],
   "source": []
  },
  {
   "cell_type": "code",
   "execution_count": null,
   "id": "reverse-accountability",
   "metadata": {},
   "outputs": [],
   "source": []
  }
 ],
 "metadata": {
  "kernelspec": {
   "display_name": "Python 3 (ipykernel)",
   "language": "python",
   "name": "python3"
  },
  "language_info": {
   "codemirror_mode": {
    "name": "ipython",
    "version": 3
   },
   "file_extension": ".py",
   "mimetype": "text/x-python",
   "name": "python",
   "nbconvert_exporter": "python",
   "pygments_lexer": "ipython3",
   "version": "3.7.0"
  }
 },
 "nbformat": 4,
 "nbformat_minor": 5
}
