{
 "cells": [
  {
   "cell_type": "code",
   "execution_count": 23,
   "id": "0a161ce0",
   "metadata": {},
   "outputs": [],
   "source": [
    "BATCH_SIZE = 10\n",
    "NUM_WORKERS=0\n",
    "LEARNING_RATE=0.001\n",
    "EPOCH=100"
   ]
  },
  {
   "cell_type": "code",
   "execution_count": 19,
   "id": "a26b92c0",
   "metadata": {},
   "outputs": [],
   "source": [
    "BASE_DIR = '../'*3\n",
    "MODEL_DIR = BASE_DIR +'code/SLP/regression/abalone.ipynb'\n",
    "PREPRO_DIR = BASE_DIR + 'code/UTIL/dataset/abalone_prepro.ipynb'"
   ]
  },
  {
   "cell_type": "code",
   "execution_count": 20,
   "id": "80f9aeb2",
   "metadata": {},
   "outputs": [
    {
     "name": "stdout",
     "output_type": "stream",
     "text": [
      "Using device: cpu\n",
      "Using PyTorch version: 1.9.0\n"
     ]
    }
   ],
   "source": [
    "%run {PREPRO_DIR}"
   ]
  },
  {
   "cell_type": "code",
   "execution_count": 22,
   "id": "d6ef0216",
   "metadata": {},
   "outputs": [],
   "source": [
    "%run {MODEL_DIR}"
   ]
  },
  {
   "cell_type": "code",
   "execution_count": 21,
   "id": "61fde6c9",
   "metadata": {},
   "outputs": [],
   "source": [
    "dataset=Dataset_2_torch()"
   ]
  },
  {
   "cell_type": "code",
   "execution_count": 24,
   "id": "5036f932",
   "metadata": {},
   "outputs": [
    {
     "name": "stdout",
     "output_type": "stream",
     "text": [
      "Epoch    0/100 Batch 1/1 Cost: 165.855423\n",
      "Epoch    1/100 Batch 1/1 Cost: 164.535645\n",
      "Epoch    2/100 Batch 1/1 Cost: 163.227142\n",
      "Epoch    3/100 Batch 1/1 Cost: 161.929779\n",
      "Epoch    4/100 Batch 1/1 Cost: 160.643524\n",
      "Epoch    5/100 Batch 1/1 Cost: 159.368225\n",
      "Epoch    6/100 Batch 1/1 Cost: 158.103806\n",
      "Epoch    7/100 Batch 1/1 Cost: 156.850159\n",
      "Epoch    8/100 Batch 1/1 Cost: 155.607224\n",
      "Epoch    9/100 Batch 1/1 Cost: 154.374878\n",
      "Epoch   10/100 Batch 1/1 Cost: 153.153046\n",
      "Epoch   11/100 Batch 1/1 Cost: 151.941620\n",
      "Epoch   12/100 Batch 1/1 Cost: 150.740555\n",
      "Epoch   13/100 Batch 1/1 Cost: 149.549728\n",
      "Epoch   14/100 Batch 1/1 Cost: 148.369049\n",
      "Epoch   15/100 Batch 1/1 Cost: 147.198410\n",
      "Epoch   16/100 Batch 1/1 Cost: 146.037796\n",
      "Epoch   17/100 Batch 1/1 Cost: 144.887054\n",
      "Epoch   18/100 Batch 1/1 Cost: 143.746124\n",
      "Epoch   19/100 Batch 1/1 Cost: 142.614944\n",
      "Epoch   20/100 Batch 1/1 Cost: 141.493408\n",
      "Epoch   21/100 Batch 1/1 Cost: 140.381409\n",
      "Epoch   22/100 Batch 1/1 Cost: 139.278900\n",
      "Epoch   23/100 Batch 1/1 Cost: 138.185776\n",
      "Epoch   24/100 Batch 1/1 Cost: 137.102005\n",
      "Epoch   25/100 Batch 1/1 Cost: 136.027466\n",
      "Epoch   26/100 Batch 1/1 Cost: 134.962082\n",
      "Epoch   27/100 Batch 1/1 Cost: 133.905777\n",
      "Epoch   28/100 Batch 1/1 Cost: 132.858490\n",
      "Epoch   29/100 Batch 1/1 Cost: 131.820099\n",
      "Epoch   30/100 Batch 1/1 Cost: 130.790588\n",
      "Epoch   31/100 Batch 1/1 Cost: 129.769852\n",
      "Epoch   32/100 Batch 1/1 Cost: 128.757797\n",
      "Epoch   33/100 Batch 1/1 Cost: 127.754379\n",
      "Epoch   34/100 Batch 1/1 Cost: 126.759521\n",
      "Epoch   35/100 Batch 1/1 Cost: 125.773148\n",
      "Epoch   36/100 Batch 1/1 Cost: 124.795151\n",
      "Epoch   37/100 Batch 1/1 Cost: 123.825523\n",
      "Epoch   38/100 Batch 1/1 Cost: 122.864151\n",
      "Epoch   39/100 Batch 1/1 Cost: 121.910965\n",
      "Epoch   40/100 Batch 1/1 Cost: 120.965904\n",
      "Epoch   41/100 Batch 1/1 Cost: 120.028893\n",
      "Epoch   42/100 Batch 1/1 Cost: 119.099838\n",
      "Epoch   43/100 Batch 1/1 Cost: 118.178757\n",
      "Epoch   44/100 Batch 1/1 Cost: 117.265480\n",
      "Epoch   45/100 Batch 1/1 Cost: 116.360008\n",
      "Epoch   46/100 Batch 1/1 Cost: 115.462242\n",
      "Epoch   47/100 Batch 1/1 Cost: 114.572128\n",
      "Epoch   48/100 Batch 1/1 Cost: 113.689590\n",
      "Epoch   49/100 Batch 1/1 Cost: 112.814575\n",
      "Epoch   50/100 Batch 1/1 Cost: 111.947021\n",
      "Epoch   51/100 Batch 1/1 Cost: 111.086868\n",
      "Epoch   52/100 Batch 1/1 Cost: 110.234009\n",
      "Epoch   53/100 Batch 1/1 Cost: 109.388443\n",
      "Epoch   54/100 Batch 1/1 Cost: 108.550064\n",
      "Epoch   55/100 Batch 1/1 Cost: 107.718826\n",
      "Epoch   56/100 Batch 1/1 Cost: 106.894676\n",
      "Epoch   57/100 Batch 1/1 Cost: 106.077530\n",
      "Epoch   58/100 Batch 1/1 Cost: 105.267372\n",
      "Epoch   59/100 Batch 1/1 Cost: 104.464073\n",
      "Epoch   60/100 Batch 1/1 Cost: 103.667648\n",
      "Epoch   61/100 Batch 1/1 Cost: 102.877991\n",
      "Epoch   62/100 Batch 1/1 Cost: 102.095070\n",
      "Epoch   63/100 Batch 1/1 Cost: 101.318802\n",
      "Epoch   64/100 Batch 1/1 Cost: 100.549149\n",
      "Epoch   65/100 Batch 1/1 Cost: 99.786057\n",
      "Epoch   66/100 Batch 1/1 Cost: 99.029449\n",
      "Epoch   67/100 Batch 1/1 Cost: 98.279297\n",
      "Epoch   68/100 Batch 1/1 Cost: 97.535515\n",
      "Epoch   69/100 Batch 1/1 Cost: 96.798080\n",
      "Epoch   70/100 Batch 1/1 Cost: 96.066917\n",
      "Epoch   71/100 Batch 1/1 Cost: 95.341972\n",
      "Epoch   72/100 Batch 1/1 Cost: 94.623207\n",
      "Epoch   73/100 Batch 1/1 Cost: 93.910561\n",
      "Epoch   74/100 Batch 1/1 Cost: 93.203979\n",
      "Epoch   75/100 Batch 1/1 Cost: 92.503403\n",
      "Epoch   76/100 Batch 1/1 Cost: 91.808800\n",
      "Epoch   77/100 Batch 1/1 Cost: 91.120102\n",
      "Epoch   78/100 Batch 1/1 Cost: 90.437263\n",
      "Epoch   79/100 Batch 1/1 Cost: 89.760239\n",
      "Epoch   80/100 Batch 1/1 Cost: 89.088974\n",
      "Epoch   81/100 Batch 1/1 Cost: 88.423424\n",
      "Epoch   82/100 Batch 1/1 Cost: 87.763535\n",
      "Epoch   83/100 Batch 1/1 Cost: 87.109268\n",
      "Epoch   84/100 Batch 1/1 Cost: 86.460548\n",
      "Epoch   85/100 Batch 1/1 Cost: 85.817352\n",
      "Epoch   86/100 Batch 1/1 Cost: 85.179642\n",
      "Epoch   87/100 Batch 1/1 Cost: 84.547348\n",
      "Epoch   88/100 Batch 1/1 Cost: 83.920441\n",
      "Epoch   89/100 Batch 1/1 Cost: 83.298859\n",
      "Epoch   90/100 Batch 1/1 Cost: 82.682571\n",
      "Epoch   91/100 Batch 1/1 Cost: 82.071518\n",
      "Epoch   92/100 Batch 1/1 Cost: 81.465660\n",
      "Epoch   93/100 Batch 1/1 Cost: 80.864967\n",
      "Epoch   94/100 Batch 1/1 Cost: 80.269363\n",
      "Epoch   95/100 Batch 1/1 Cost: 79.678841\n",
      "Epoch   96/100 Batch 1/1 Cost: 79.093338\n",
      "Epoch   97/100 Batch 1/1 Cost: 78.512810\n",
      "Epoch   98/100 Batch 1/1 Cost: 77.937225\n",
      "Epoch   99/100 Batch 1/1 Cost: 77.366531\n",
      "Epoch  100/100 Batch 1/1 Cost: 76.800682\n"
     ]
    }
   ],
   "source": [
    "Slp_abalone(dataset)"
   ]
  },
  {
   "cell_type": "code",
   "execution_count": null,
   "id": "fff31913",
   "metadata": {},
   "outputs": [],
   "source": []
  },
  {
   "cell_type": "code",
   "execution_count": null,
   "id": "94f74a94",
   "metadata": {},
   "outputs": [],
   "source": []
  }
 ],
 "metadata": {
  "kernelspec": {
   "display_name": "Python 3 (ipykernel)",
   "language": "python",
   "name": "python3"
  },
  "language_info": {
   "codemirror_mode": {
    "name": "ipython",
    "version": 3
   },
   "file_extension": ".py",
   "mimetype": "text/x-python",
   "name": "python",
   "nbconvert_exporter": "python",
   "pygments_lexer": "ipython3",
   "version": "3.7.0"
  }
 },
 "nbformat": 4,
 "nbformat_minor": 5
}
