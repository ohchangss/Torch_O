{
 "cells": [
  {
   "cell_type": "code",
   "execution_count": 1,
   "id": "bb11af68",
   "metadata": {},
   "outputs": [],
   "source": [
    "BASE_DIR = '../'*3\n",
    "RUN_DIR = BASE_DIR + 'code/RNN/rnn_ext/rnn_ext_model.ipynb'"
   ]
  },
  {
   "cell_type": "code",
   "execution_count": 2,
   "id": "c36e357c",
   "metadata": {},
   "outputs": [],
   "source": [
    "%run {RUN_DIR}"
   ]
  },
  {
   "cell_type": "code",
   "execution_count": 3,
   "id": "97e29d63",
   "metadata": {},
   "outputs": [],
   "source": [
    "class Autoencoder(RnnExtModel):\n",
    "    def __init__(self, name, dataset, hconfigs, show_maps = False, l2_decay = 0, \\\n",
    "                l1_decay = 0, dump_structure = False, fix_encoder = False):\n",
    "        self.fix_encoder = fix_encoder\n",
    "        # encoder학습 동결시킬지 (파라미터 가변 or 고정)\n",
    "        super(Autoencoder, self).__init__(name, dataset, hconfigs,\\\n",
    "                                         show_maps, l2_decay, l1_decay, dump_structure)\n",
    "        "
   ]
  },
  {
   "cell_type": "code",
   "execution_count": null,
   "id": "99655c67",
   "metadata": {},
   "outputs": [],
   "source": [
    "def autoencoder_init_parameters(self, hconfigs):\n",
    "    econf = hconfigs['encoder']\n",
    "    dconf = hconfigs['decoder']\n",
    "    hconf = hconfigs['supervised']\n",
    "    \n",
    "    in_shape = self.dataset.input_shape\n",
    "    \n",
    "    pme, code_shape = self.build_subnet(econf, in_shape)\n",
    "    pmd, represent_shape = self.build_subnet(dconf, code_shape)\n",
    "    pmh, hidden_shape = self.build_subnet(hconf, code_shape)\n",
    "    \n",
    "    self.econfigs, self.dconfigs, self.hconfigs = econf, dconf, hconf\n",
    "    \n",
    "    self.pm_encoder, self.pm_decoder, self.pm_hiddens = pme, pmd, pmh\n",
    "    \n",
    "    \n",
    "    output_cnt = int(np.prod(self.dataset.output_shape))\n",
    "    self.seqout=False\n",
    "    \n",
    "    if len(hconf) > 0 and get_layer_type(hconf[-1]) in ['rnn','lstm']:\n",
    "        if get_conf_param(hconf[-1], 'outseq',True):\n",
    "            self.seqout = True\n",
    "            hidden_shape = hidden_shape[1:]\n",
    "            output_cnt = int(np.prod(self.dataset.output_shape[1:]))\n",
    "            \n",
    "    self.pm_output, _ = self.alloc_layer_param(hidden_shape, output_cnt)\n",
    "    \n",
    "    \n",
    "def autoencoder_build_subnet(self, hconfigs, prev_shape):\n",
    "    pms = []\n",
    "    \n",
    "    for hconfig in hconfigs:\n",
    "        \n",
    "        pm, prev_shape = self.alloc_layer_param(prev_shape, hconfig)\n",
    "        pms.append(pm)\n",
    "        \n",
    "    return pms, prev_shape\n",
    "\n",
    "\n",
    "Autoencoder.build_subnet = autoencoder_build_subnet\n",
    "Autoencoder.init_parameters = autoencoder_init_parameters"
   ]
  },
  {
   "cell_type": "code",
   "execution_count": null,
   "id": "14e72aa3",
   "metadata": {},
   "outputs": [],
   "source": [
    "def autoencoder_autoencode(self,epoch_count = 10, batch_size=10,\\\n",
    "                           learning_rate=0.001, report=0):\n",
    "    self.learning_rate = learning_rate\n",
    "    batch_count = self.dataset.autoencode_count // batch_size\n",
    "    time1 = time2 = int(time.time())\n",
    "\n",
    "    model, optim, loss = self.Auto_get_torch_params()\n",
    "    \n",
    "    if report !=0:\n",
    "        print('Model {}autoencode started:'.format(self.name))\n",
    "        \n",
    "    for epoch in range(epoch_count):\n",
    "        costs =[]\n",
    "        accs =[]\n",
    "        self.dataset.shuffle_train_data(batch_size * batch_count)\n",
    "        for n in range(batch_count):\n",
    "            trX = self.dataset.get_autoencode_data(batch_size, n)                        \n",
    "            cost, acc = self.autoencode_torch_step(trX, model, optim, loss)\n",
    "#             cost, acc = self.autoencode_step(trX) # \n",
    "            \n",
    "            costs.append(cost)\n",
    "            accs.append(acc)\n",
    "            \n",
    "        if report > 0 and(epoch +1) % report == 0:\n",
    "            acc = np.mean(accs)\n",
    "            time3=int(time.time())\n",
    "            tm1, tm2 = time3 - time2, time3 - time1\n",
    "            self.dataset.train_prt_result(epoch+1, costs, accs, acc, tm1, tm2)\n",
    "            time2 = time3\n",
    "            \n",
    "    tm_total = int(time.time()) - time1\n",
    "    if report != 0:\n",
    "        print('Model {} autoencode ended in {} secs :'.format(self.name, tm_total))\n",
    "        \n",
    "Autoencoder.autoencode = autoencoder_autoencode"
   ]
  },
  {
   "cell_type": "code",
   "execution_count": 83,
   "id": "d1bbc659",
   "metadata": {},
   "outputs": [],
   "source": [
    "class Autoencoder_layers(nn.Module, Autoencoder):\n",
    "    def __init__(self):\n",
    "        super().__init__()\n",
    "        self.pm_encoder = nn.Linear(2,2)\n",
    "        self.pm_decoder = nn.Linear(2,2)\n",
    "        self.encoder_layers = nn.Sequential(self.pm_encoder)\n",
    "        self.decoder_layers = nn.Sequential(self.pm_decoder)\n",
    "        \n",
    "    \n",
    "    def forward(self, x):\n",
    "        \n",
    "        self.encoder_forward = self.encoder_layers(x)\n",
    "        self.decoder_forward = self.decoder_layers(encoder)\n",
    "        \n",
    "        return self.decoder_forward"
   ]
  },
  {
   "cell_type": "code",
   "execution_count": null,
   "id": "033fac2f",
   "metadata": {},
   "outputs": [],
   "source": [
    "def Auto_get_torch_params(self):\n",
    "    \n",
    "    model = Autoencoder_layers()\n",
    "    optim = torch.optim.Adam(model.params, self.learning_rate)\n",
    "    loss = nn.MSELoss()\n",
    "    \n",
    "    return model, optim, loss\n",
    "\n",
    "Autoencoder.Auto_get_torch_params=Auto_get_torch_params"
   ]
  },
  {
   "cell_type": "code",
   "execution_count": null,
   "id": "ce90d3af",
   "metadata": {},
   "outputs": [],
   "source": [
    "def autoencode_torch_step(self, trX, model, optim, loss):\n",
    "    optim.zero_grad()\n",
    "    \n",
    "    output=model.forward(trX)\n",
    "    \n",
    "    cost=loss(trX, output)\n",
    "    \n",
    "    acc = 1-(torch.sqrt(loss)/torch.mean(trX))\n",
    "\n",
    "    loss.backward()\n",
    "    \n",
    "    optim.step()\n",
    "    \n",
    "    return cost, acc"
   ]
  },
  {
   "cell_type": "code",
   "execution_count": null,
   "id": "b7962862",
   "metadata": {},
   "outputs": [],
   "source": [
    "#지도 학습 \n",
    "def autoencoder_forward_neuralnet(self, x ):\n",
    "    hidden = x\n",
    "    \n",
    "    aux_encoder =[]\n",
    "    \n",
    "    for n, hconfig in enumerate(self.econfigs):\n",
    "        hidden,aux = self.forward_layer(hidden, hconfig, self.pm_encoder[n])\n",
    "        aux_encoder.append(aux)\n",
    "        \n",
    "    output, aux_layers = super(Autoencoder, self).forward_neuralnet(hidden)\n",
    "    \n",
    "    return output, [aux_encoder, aux_layers]\n",
    "\n",
    "\n",
    "Autoencoder.forward_neuralnet = autoencoder_forward_neuralnet"
   ]
  },
  {
   "cell_type": "code",
   "execution_count": null,
   "id": "1ec96f6e",
   "metadata": {},
   "outputs": [],
   "source": []
  },
  {
   "cell_type": "code",
   "execution_count": null,
   "id": "d95a0553",
   "metadata": {},
   "outputs": [],
   "source": []
  },
  {
   "cell_type": "code",
   "execution_count": null,
   "id": "994b3790",
   "metadata": {},
   "outputs": [],
   "source": []
  }
 ],
 "metadata": {
  "kernelspec": {
   "display_name": "Python 3 (ipykernel)",
   "language": "python",
   "name": "python3"
  },
  "language_info": {
   "codemirror_mode": {
    "name": "ipython",
    "version": 3
   },
   "file_extension": ".py",
   "mimetype": "text/x-python",
   "name": "python",
   "nbconvert_exporter": "python",
   "pygments_lexer": "ipython3",
   "version": "3.7.0"
  }
 },
 "nbformat": 4,
 "nbformat_minor": 5
}
