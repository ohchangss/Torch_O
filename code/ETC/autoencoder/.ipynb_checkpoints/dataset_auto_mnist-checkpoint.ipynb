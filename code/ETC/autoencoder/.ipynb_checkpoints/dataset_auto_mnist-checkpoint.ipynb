{
 "cells": [
  {
   "cell_type": "code",
   "execution_count": 1,
   "id": "7e7abcc2",
   "metadata": {},
   "outputs": [],
   "source": [
    "BASE_DIR = '../' *3\n",
    "MODEL_DIR = BASE_DIR + 'code/UTIL/dataset/dataset.ipynb'\n",
    "DATA_DIR = BASE_DIR + '../big_data/mnist/'"
   ]
  },
  {
   "cell_type": "code",
   "execution_count": 2,
   "id": "081fb22a",
   "metadata": {},
   "outputs": [
    {
     "name": "stdout",
     "output_type": "stream",
     "text": [
      "Using device: cpu\n",
      "Using PyTorch version: 1.9.0\n"
     ]
    }
   ],
   "source": [
    "%run {MODEL_DIR}"
   ]
  },
  {
   "cell_type": "code",
   "execution_count": null,
   "id": "5149e693",
   "metadata": {},
   "outputs": [],
   "source": [
    "class AutoencodeDataset(Dataset_torch):\n",
    "    def __init__(self, name, mode, train_ratio = 1.0):\n",
    "        self.train_ratio = train_ratio\n",
    "#         print(train_ratio)\n",
    "        super(AutoencodeDataset, self).__init__(name,mode)\n",
    "        \n",
    "    def get_autoencode_data(self, batch_size, nth):\n",
    "        xs, ys = self.get_train_data(batch_size, nth)\n",
    "        return xs\n",
    "    \n",
    "\n",
    "    @property\n",
    "    def train_count(self):\n",
    "        return int(len(self.tr_xs) * self.train_ratio)\n",
    "    \n",
    "    @property\n",
    "    def autoencode_count(self):\n",
    "        return len(self.tr_xs)"
   ]
  },
  {
   "cell_type": "code",
   "execution_count": null,
   "id": "3fe3ce61",
   "metadata": {},
   "outputs": [],
   "source": [
    "class MnistAutoDataset(AutoencodeDataset):\n",
    "    def __init__(self, train_ratio = 0.1):\n",
    "        super(MnistAutoDataset, self).__init__('mnist','select',train_ratio)\n",
    "        \n",
    "        tr_x_path = DATA_DIR + 'train-images-idx3-ubyte'\n",
    "        tr_y_path = DATA_DIR + 'train-labels-idx1-ubyte'\n",
    "        \n",
    "        xs = np.fromfile(tr_x_path, dtype = 'uint8')[16:]\n",
    "        ys = np.fromfile(tr_y_path, dtype = 'uint8')[8:]\n",
    "        \n",
    "        xs = xs.reshape([-1,28*28])\n",
    "        ys = np.eye(10)[ys]\n",
    "        \n",
    "        self.shuffle_data(xs, ys)\n",
    "        "
   ]
  },
  {
   "cell_type": "code",
   "execution_count": null,
   "id": "4a570e68",
   "metadata": {},
   "outputs": [],
   "source": [
    "def mnist_visualize(self, xs, estimates, answers):\n",
    "    dump_text(answers, estimates)\n",
    "    dump_image_data(xs)\n",
    "    \n",
    "def mnist_autoencode_visualize(self, xs, rep, estimates, answers):\n",
    "    dump_text(answers, estimates)\n",
    "    dump_image_data(xs)\n",
    "    self.rep = rep\n",
    "    dump_image_data(rep)\n",
    "    \n",
    "def mnist_hash_result_visualize(self, images):\n",
    "    dump_image_data(images)\n",
    "    \n",
    "def dump_text(answers, estimates):\n",
    "    ans = np.argmax(answers, axis = 1)\n",
    "    est = np.argmax(estimates, axis = 1)\n",
    "    \n",
    "    print('정답', ans, 'vs.','추정',est)\n",
    "    \n",
    "def dump_image_data(images):\n",
    "    show_cnt = len(images)\n",
    "    fig, axes = plt.subplots(1, show_cnt, figsize = (show_cnt, 1))\n",
    "    \n",
    "    for n in range(show_cnt):\n",
    "        plt.subplot(1, show_cnt, n+1)\n",
    "        plt.imshow(images[n].reshape(28,28), cmap='Greys_r')\n",
    "        plt.axis('off')\n",
    "        \n",
    "    plt.draw()\n",
    "\n",
    "MnistAutoDataset.visualize = mnist_visualize\n",
    "MnistAutoDataset.autoencode_visualize = mnist_autoencode_visualize\n",
    "MnistAutoDataset.hash_result_visualize = mnist_hash_result_visualize"
   ]
  },
  {
   "cell_type": "code",
   "execution_count": null,
   "id": "d5124632",
   "metadata": {},
   "outputs": [],
   "source": [
    "def dataloader_torch(self, batch, num):\n",
    "    count=self.train_count\n",
    "    tr_xs, tr_ys = self.tr_xs[:count,:], self.tr_ys[:count,:]\n",
    "    Ds=Dataset_2_torch(tr_xs, tr_ys) # 트레인 전체를 넣는다. \n",
    "    dataloader = DataLoader(Ds, batch_size=batch, \\\n",
    "                            shuffle=True, num_workers=num)\n",
    "    \n",
    "    return dataloader\n",
    "\n",
    "MnistAutoDataset.dataloader = dataloader_torch"
   ]
  },
  {
   "cell_type": "code",
   "execution_count": null,
   "id": "7b8d29f6",
   "metadata": {},
   "outputs": [],
   "source": [
    "def get_train_loader(self,batch, num):\n",
    "    train_loader = self.dataloader(batch,num)\n",
    "    return train_loader\n",
    "\n",
    "MnistAutoDataset.get_train_loader = get_train_loader"
   ]
  },
  {
   "cell_type": "code",
   "execution_count": null,
   "id": "cdeed9d2",
   "metadata": {},
   "outputs": [],
   "source": [
    "class Dataset_2_torch(Dataset):\n",
    "    def __init__(self,x, y):\n",
    "        super().__init__()\n",
    "        self.X_data  = torch.from_numpy(x).float()\n",
    "        self.y_data = torch.from_numpy(y).float()\n",
    "\n",
    "    def __len__(self):\n",
    "        return self.X_data.shape[0]\n",
    "\n",
    "    def __getitem__(self, idx):\n",
    "        x_ = self.X_data[idx]\n",
    "        y_ = self.y_data[idx]\n",
    "\n",
    "        return x_, y_"
   ]
  },
  {
   "cell_type": "code",
   "execution_count": null,
   "id": "0af086fa",
   "metadata": {},
   "outputs": [],
   "source": [
    "def dataset_train_prt_result(self, epoch, costs, accs, acc, time1, time2):\n",
    "    if isinstance(costs[0], np.ndarray):\n",
    "        costs=torch.FloatTensor(np.array(costs))\n",
    "        accs=torch.FloatTensor(np.array(accs))\n",
    "    else:\n",
    "        costs=torch.FloatTensor(costs)\n",
    "        accs=torch.FloatTensor(accs)\n",
    "        \n",
    "    print('    Epoch {}: cost={:5.3f}, accuracy={:5.3f}/{:5.3f} ({}/{} secs)'. \\\n",
    "          format(epoch, torch.mean(costs), torch.mean(accs), acc, time1, time2))\n",
    "MnistAutoDataset.train_prt_result = dataset_train_prt_result\n"
   ]
  }
 ],
 "metadata": {
  "kernelspec": {
   "display_name": "Python 3 (ipykernel)",
   "language": "python",
   "name": "python3"
  },
  "language_info": {
   "codemirror_mode": {
    "name": "ipython",
    "version": 3
   },
   "file_extension": ".py",
   "mimetype": "text/x-python",
   "name": "python",
   "nbconvert_exporter": "python",
   "pygments_lexer": "ipython3",
   "version": "3.7.0"
  }
 },
 "nbformat": 4,
 "nbformat_minor": 5
}
