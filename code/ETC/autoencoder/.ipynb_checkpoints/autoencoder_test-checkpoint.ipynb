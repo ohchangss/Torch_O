{
 "cells": [
  {
   "cell_type": "code",
   "execution_count": 145,
   "id": "8d225d9f",
   "metadata": {},
   "outputs": [],
   "source": [
    "BASE_DIR = '../'*3\n",
    "MODEL_DIR = BASE_DIR + 'code/ETC/autoencoder/autoencoder.ipynb'\n",
    "DATA_DIR =BASE_DIR+ 'code/ETC/autoencoder/dataset_auto_mnist.ipynb'"
   ]
  },
  {
   "cell_type": "code",
   "execution_count": 146,
   "id": "d33f66a2",
   "metadata": {},
   "outputs": [
    {
     "name": "stdout",
     "output_type": "stream",
     "text": [
      "Using device: cpu\n",
      "Using PyTorch version: 1.9.0\n"
     ]
    }
   ],
   "source": [
    "%run {MODEL_DIR}\n",
    "%run {DATA_DIR}"
   ]
  },
  {
   "cell_type": "code",
   "execution_count": 147,
   "id": "9c6c3093",
   "metadata": {},
   "outputs": [],
   "source": [
    "EPOCH = 10\n",
    "BATCH_SIZE=16\n",
    "NUM_WORKERS=0\n",
    "LEARNING_RATE = 0.001"
   ]
  },
  {
   "cell_type": "code",
   "execution_count": 148,
   "id": "66c2d9d6",
   "metadata": {},
   "outputs": [],
   "source": [
    "mset_all = MnistAutoDataset(train_ratio = 1.00)\n",
    "mset_1p = MnistAutoDataset(train_ratio = 0.01)"
   ]
  },
  {
   "cell_type": "code",
   "execution_count": 68,
   "id": "2b0b5ef0",
   "metadata": {},
   "outputs": [
    {
     "name": "stdout",
     "output_type": "stream",
     "text": [
      "Model mnist_mlp_all train started \n",
      "\n",
      "\n",
      "[[Linear(in_features=784, out_features=10, bias=True)]]\n",
      "!!!!!!!!!!!\n",
      "!! Layer !! .\n",
      "!!!!!!!!!!! \n",
      "\n",
      " Net(\n",
      "  (layer1): Sequential(\n",
      "    (0): Linear(in_features=784, out_features=10, bias=True)\n",
      "    (relu): ReLU()\n",
      "  )\n",
      ")\n",
      "\n",
      "!!!!!!!!!!!!!!!\n",
      "!! optimizer !! \n",
      "!!!!!!!!!!!!!!! \n",
      "\n",
      " Adam (\n",
      "Parameter Group 0\n",
      "    amsgrad: False\n",
      "    betas: (0.9, 0.999)\n",
      "    eps: 1e-08\n",
      "    lr: 0.001\n",
      "    weight_decay: 0\n",
      ")\n",
      "    Epoch 2: cost=2.303, accuracy=0.099/0.100 (80/80 secs)\n",
      "    Epoch 4: cost=2.303, accuracy=0.099/0.100 (87/167 secs)\n",
      "    Epoch 6: cost=2.303, accuracy=0.099/0.200 (86/253 secs)\n"
     ]
    },
    {
     "ename": "KeyboardInterrupt",
     "evalue": "",
     "output_type": "error",
     "traceback": [
      "\u001b[1;31m---------------------------------------------------------------------------\u001b[0m",
      "\u001b[1;31mKeyboardInterrupt\u001b[0m                         Traceback (most recent call last)",
      "\u001b[1;32m~\\AppData\\Local\\Temp/ipykernel_20304/5310157.py\u001b[0m in \u001b[0;36m<module>\u001b[1;34m\u001b[0m\n\u001b[0;32m      1\u001b[0m \u001b[0mconf_mlp\u001b[0m \u001b[1;33m=\u001b[0m\u001b[1;33m[\u001b[0m\u001b[1;33m[\u001b[0m\u001b[1;34m'full'\u001b[0m\u001b[1;33m,\u001b[0m\u001b[1;33m{\u001b[0m\u001b[1;34m'width'\u001b[0m\u001b[1;33m:\u001b[0m\u001b[1;36m10\u001b[0m\u001b[1;33m}\u001b[0m\u001b[1;33m]\u001b[0m\u001b[1;33m]\u001b[0m\u001b[1;33m\u001b[0m\u001b[0m\n\u001b[0;32m      2\u001b[0m \u001b[0mmnist_mlp_all\u001b[0m \u001b[1;33m=\u001b[0m \u001b[0mRnnExtModel\u001b[0m\u001b[1;33m(\u001b[0m\u001b[1;34m'mnist_mlp_all'\u001b[0m\u001b[1;33m,\u001b[0m\u001b[0mmset_all\u001b[0m\u001b[1;33m,\u001b[0m\u001b[0mconf_mlp\u001b[0m\u001b[1;33m)\u001b[0m\u001b[1;33m\u001b[0m\u001b[0m\n\u001b[1;32m----> 3\u001b[1;33m \u001b[0mmnist_mlp_all\u001b[0m\u001b[1;33m.\u001b[0m\u001b[0mexec_all\u001b[0m\u001b[1;33m(\u001b[0m\u001b[0mepoch_count\u001b[0m \u001b[1;33m=\u001b[0m \u001b[1;36m10\u001b[0m\u001b[1;33m,\u001b[0m \u001b[0mreport\u001b[0m\u001b[1;33m=\u001b[0m\u001b[1;36m2\u001b[0m\u001b[1;33m)\u001b[0m\u001b[1;33m\u001b[0m\u001b[0m\n\u001b[0m",
      "\u001b[1;32m~\\AppData\\Local\\Temp/ipykernel_20304/927826373.py\u001b[0m in \u001b[0;36mexec_all\u001b[1;34m(self, epoch_count, batch_size, learning_rate, report, show_cnt, show_params, num_workers)\u001b[0m\n\u001b[0;32m      9\u001b[0m                  report=0, show_cnt = 3, show_params=False,num_workers=0):\n\u001b[0;32m     10\u001b[0m         super(CnnRegModel, self).exec_all(epoch_count, batch_size, \n\u001b[1;32m---> 11\u001b[1;33m                                          learning_rate, report, show_cnt, num_workers)\n\u001b[0m\u001b[0;32m     12\u001b[0m \u001b[1;33m\u001b[0m\u001b[0m\n\u001b[0;32m     13\u001b[0m         \u001b[1;32mif\u001b[0m \u001b[0mshow_params\u001b[0m \u001b[1;33m:\u001b[0m \u001b[0mself\u001b[0m\u001b[1;33m.\u001b[0m\u001b[0mshow_param_dist\u001b[0m\u001b[1;33m(\u001b[0m\u001b[1;33m)\u001b[0m\u001b[1;33m\u001b[0m\u001b[0m\n",
      "\u001b[1;32m~\\AppData\\Local\\Temp/ipykernel_20304/1593034063.py\u001b[0m in \u001b[0;36mexec_all\u001b[1;34m(self, epoch_count, batch_size, learning_rate, report, show_cnt, num_workers)\u001b[0m\n\u001b[0;32m     13\u001b[0m         \u001b[0mself\u001b[0m\u001b[1;33m.\u001b[0m\u001b[0mbatch_size\u001b[0m \u001b[1;33m=\u001b[0m \u001b[0mbatch_size\u001b[0m\u001b[1;33m\u001b[0m\u001b[0m\n\u001b[0;32m     14\u001b[0m         \u001b[0mself\u001b[0m\u001b[1;33m.\u001b[0m\u001b[0mnum_workers\u001b[0m \u001b[1;33m=\u001b[0m \u001b[0mnum_workers\u001b[0m\u001b[1;33m\u001b[0m\u001b[0m\n\u001b[1;32m---> 15\u001b[1;33m         \u001b[0mself\u001b[0m\u001b[1;33m.\u001b[0m\u001b[0mtrain\u001b[0m\u001b[1;33m(\u001b[0m\u001b[0mepoch_count\u001b[0m\u001b[1;33m,\u001b[0m \u001b[0mbatch_size\u001b[0m\u001b[1;33m,\u001b[0m \u001b[0mlearning_rate\u001b[0m\u001b[1;33m,\u001b[0m \u001b[0mreport\u001b[0m\u001b[1;33m,\u001b[0m \u001b[0mnum_workers\u001b[0m\u001b[1;33m)\u001b[0m\u001b[1;33m\u001b[0m\u001b[0m\n\u001b[0m\u001b[0;32m     16\u001b[0m         \u001b[0mself\u001b[0m\u001b[1;33m.\u001b[0m\u001b[0mtest\u001b[0m\u001b[1;33m(\u001b[0m\u001b[0mbatch_size\u001b[0m\u001b[1;33m)\u001b[0m\u001b[1;33m\u001b[0m\u001b[0m\n\u001b[0;32m     17\u001b[0m         \u001b[1;32mif\u001b[0m \u001b[0mshow_cnt\u001b[0m \u001b[1;33m>\u001b[0m \u001b[1;36m0\u001b[0m\u001b[1;33m:\u001b[0m \u001b[0mself\u001b[0m\u001b[1;33m.\u001b[0m\u001b[0mvisualize\u001b[0m\u001b[1;33m(\u001b[0m\u001b[0mshow_cnt\u001b[0m\u001b[1;33m)\u001b[0m\u001b[1;33m\u001b[0m\u001b[0m\n",
      "\u001b[1;32m~\\AppData\\Local\\Temp/ipykernel_20304/3738463850.py\u001b[0m in \u001b[0;36mtrain_torch\u001b[1;34m(self, epoch_count, batch_size, learning_rate, report, num_workers)\u001b[0m\n\u001b[0;32m     52\u001b[0m \u001b[1;31m#             print(output,'outputoutput')\u001b[0m\u001b[1;33m\u001b[0m\u001b[1;33m\u001b[0m\u001b[0m\n\u001b[0;32m     53\u001b[0m \u001b[1;31m#             print(y_train,'y_trainy_trainy_train')\u001b[0m\u001b[1;33m\u001b[0m\u001b[1;33m\u001b[0m\u001b[0m\n\u001b[1;32m---> 54\u001b[1;33m             \u001b[0mloss\u001b[0m\u001b[1;33m=\u001b[0m\u001b[0mself\u001b[0m\u001b[1;33m.\u001b[0m\u001b[0mforward_postproc\u001b[0m\u001b[1;33m(\u001b[0m\u001b[0mloss_func\u001b[0m\u001b[1;33m,\u001b[0m \u001b[0moutput\u001b[0m\u001b[1;33m,\u001b[0m \u001b[0my_train\u001b[0m\u001b[1;33m)\u001b[0m\u001b[1;33m\u001b[0m\u001b[0m\n\u001b[0m\u001b[0;32m     55\u001b[0m             \u001b[0macc\u001b[0m \u001b[1;33m=\u001b[0m \u001b[0mself\u001b[0m\u001b[1;33m.\u001b[0m\u001b[0meval_accuracy\u001b[0m\u001b[1;33m(\u001b[0m\u001b[0mX_train\u001b[0m\u001b[1;33m,\u001b[0m \u001b[0my_train\u001b[0m\u001b[1;33m,\u001b[0m \u001b[0moutput\u001b[0m\u001b[1;33m)\u001b[0m\u001b[1;33m\u001b[0m\u001b[0m\n\u001b[0;32m     56\u001b[0m             \u001b[0mloss\u001b[0m\u001b[1;33m.\u001b[0m\u001b[0mbackward\u001b[0m\u001b[1;33m(\u001b[0m\u001b[1;33m)\u001b[0m\u001b[1;33m\u001b[0m\u001b[0m\n",
      "\u001b[1;32m~\\AppData\\Local\\Temp/ipykernel_20304/1271156569.py\u001b[0m in \u001b[0;36mforward_postproc\u001b[1;34m(self, loss_func, output, y_train)\u001b[0m\n\u001b[0;32m      1\u001b[0m \u001b[1;32mdef\u001b[0m \u001b[0mforward_postproc\u001b[0m\u001b[1;33m(\u001b[0m\u001b[0mself\u001b[0m\u001b[1;33m,\u001b[0m \u001b[0mloss_func\u001b[0m\u001b[1;33m,\u001b[0m \u001b[0moutput\u001b[0m\u001b[1;33m,\u001b[0m \u001b[0my_train\u001b[0m\u001b[1;33m)\u001b[0m\u001b[1;33m:\u001b[0m\u001b[1;33m\u001b[0m\u001b[0m\n\u001b[0;32m      2\u001b[0m \u001b[1;33m\u001b[0m\u001b[0m\n\u001b[1;32m----> 3\u001b[1;33m     \u001b[0mloss\u001b[0m \u001b[1;33m=\u001b[0m \u001b[0mself\u001b[0m\u001b[1;33m.\u001b[0m\u001b[0mdataset\u001b[0m\u001b[1;33m.\u001b[0m\u001b[0mforward_postproc\u001b[0m\u001b[1;33m(\u001b[0m\u001b[0mloss_func\u001b[0m\u001b[1;33m,\u001b[0m \u001b[0moutput\u001b[0m\u001b[1;33m,\u001b[0m \u001b[0my_train\u001b[0m\u001b[1;33m)\u001b[0m\u001b[1;33m\u001b[0m\u001b[0m\n\u001b[0m\u001b[0;32m      4\u001b[0m     \u001b[0mextra\u001b[0m \u001b[1;33m=\u001b[0m \u001b[0mself\u001b[0m\u001b[1;33m.\u001b[0m\u001b[0mforward_extra_cost\u001b[0m\u001b[1;33m(\u001b[0m\u001b[1;33m)\u001b[0m\u001b[1;33m\u001b[0m\u001b[0m\n\u001b[0;32m      5\u001b[0m \u001b[1;33m\u001b[0m\u001b[0m\n",
      "\u001b[1;32m~\\AppData\\Local\\Temp/ipykernel_20304/2788534281.py\u001b[0m in \u001b[0;36mdataset_forward_postproc\u001b[1;34m(self, loss_func, output, y_train, mode)\u001b[0m\n\u001b[0;32m     10\u001b[0m \u001b[1;33m\u001b[0m\u001b[0m\n\u001b[0;32m     11\u001b[0m     \u001b[1;32melif\u001b[0m \u001b[0mmode\u001b[0m \u001b[1;33m==\u001b[0m \u001b[1;34m'select'\u001b[0m\u001b[1;33m:\u001b[0m\u001b[1;33m\u001b[0m\u001b[0m\n\u001b[1;32m---> 12\u001b[1;33m         \u001b[0mloss\u001b[0m \u001b[1;33m=\u001b[0m \u001b[0mloss_func\u001b[0m\u001b[1;33m(\u001b[0m\u001b[0moutput\u001b[0m\u001b[1;33m,\u001b[0m \u001b[0mtorch\u001b[0m\u001b[1;33m.\u001b[0m\u001b[0margmax\u001b[0m\u001b[1;33m(\u001b[0m\u001b[0my_train\u001b[0m\u001b[1;33m,\u001b[0m\u001b[0mdim\u001b[0m\u001b[1;33m=\u001b[0m\u001b[1;36m1\u001b[0m\u001b[1;33m)\u001b[0m\u001b[1;33m)\u001b[0m\u001b[1;33m\u001b[0m\u001b[0m\n\u001b[0m\u001b[0;32m     13\u001b[0m \u001b[1;33m\u001b[0m\u001b[0m\n\u001b[0;32m     14\u001b[0m     \u001b[1;32mreturn\u001b[0m \u001b[0mloss\u001b[0m\u001b[1;33m\u001b[0m\u001b[0m\n",
      "\u001b[1;31mKeyboardInterrupt\u001b[0m: "
     ]
    }
   ],
   "source": [
    "conf_mlp =[['full',{'width':10}]]\n",
    "mnist_mlp_all = RnnExtModel('mnist_mlp_all',mset_all,conf_mlp)\n",
    "mnist_mlp_all.exec_all(epoch_count = 10, report=2)"
   ]
  },
  {
   "cell_type": "code",
   "execution_count": 46,
   "id": "650a8b14",
   "metadata": {},
   "outputs": [
    {
     "name": "stdout",
     "output_type": "stream",
     "text": [
      "Model mnist_mlp_all train started \n",
      "\n",
      "\n",
      "!!!!!!!!!!!\n",
      "!! Layer !! .\n",
      "!!!!!!!!!!! \n",
      "\n",
      " Net(\n",
      "  (layer1): Sequential(\n",
      "    (0): Linear(in_features=784, out_features=10, bias=True)\n",
      "  )\n",
      ")\n",
      "\n",
      "!!!!!!!!!!!!!!!\n",
      "!! optimizer !! \n",
      "!!!!!!!!!!!!!!! \n",
      "\n",
      " Adam (\n",
      "Parameter Group 0\n",
      "    amsgrad: False\n",
      "    betas: (0.9, 0.999)\n",
      "    eps: 1e-08\n",
      "    lr: 0.001\n",
      "    weight_decay: 0\n",
      ")\n",
      "    Epoch 1: cost=9.640, accuracy=0.821/0.800 (18/18 secs)\n",
      "    Epoch 1: cost=9.524, accuracy=0.842/0.900 (17/35 secs)\n",
      "    Epoch 2: cost=8.754, accuracy=0.880/0.900 (24/59 secs)\n",
      "    Epoch 2: cost=9.091, accuracy=0.879/1.000 (18/77 secs)\n",
      "    Epoch 3: cost=8.880, accuracy=0.883/0.600 (25/102 secs)\n",
      "    Epoch 3: cost=9.064, accuracy=0.882/0.800 (26/128 secs)\n",
      "    Epoch 4: cost=8.594, accuracy=0.890/0.900 (24/152 secs)\n",
      "    Epoch 4: cost=8.985, accuracy=0.885/0.900 (18/170 secs)\n",
      "    Epoch 5: cost=9.030, accuracy=0.883/1.000 (24/194 secs)\n",
      "    Epoch 5: cost=9.181, accuracy=0.884/0.700 (15/209 secs)\n",
      "    Epoch 6: cost=9.162, accuracy=0.886/0.900 (20/229 secs)\n",
      "    Epoch 6: cost=9.193, accuracy=0.887/1.000 (14/243 secs)\n",
      "    Epoch 7: cost=8.966, accuracy=0.888/0.900 (20/263 secs)\n",
      "    Epoch 7: cost=8.886, accuracy=0.891/0.900 (14/277 secs)\n",
      "    Epoch 8: cost=9.006, accuracy=0.892/0.900 (20/297 secs)\n",
      "    Epoch 8: cost=9.274, accuracy=0.890/0.700 (18/315 secs)\n",
      "    Epoch 9: cost=8.384, accuracy=0.895/0.900 (25/340 secs)\n",
      "    Epoch 9: cost=9.017, accuracy=0.891/0.800 (16/356 secs)\n",
      "    Epoch 10: cost=8.884, accuracy=0.891/1.000 (27/383 secs)\n",
      "    Epoch 10: cost=9.087, accuracy=0.891/0.900 (12/395 secs)\n",
      "Model mnist_mlp_all train ended in 400 secs:\n",
      "Model mnist_mlp_all test report: accuracy = 0.895, (0 secs)\n",
      "\n",
      "Model mnist_mlp_all Visualization\n",
      "정답 tensor([8, 2, 3]) vs. 추정 tensor([8, 8, 3])\n"
     ]
    },
    {
     "data": {
      "image/png": "[encoded data removed]",
      "text/plain": [
       "<Figure size 216x72 with 3 Axes>"
      ]
     },
     "metadata": {
      "needs_background": "light"
     },
     "output_type": "display_data"
    }
   ],
   "source": [
    "conf_mlp =[['full',{'width':10}]]\n",
    "mnist_mlp_all = RnnExtModel('mnist_mlp_all',mset_all,conf_mlp)\n",
    "mnist_mlp_all.exec_all(epoch_count = 10, report=2000)"
   ]
  },
  {
   "cell_type": "code",
   "execution_count": 159,
   "id": "54b06525",
   "metadata": {},
   "outputs": [
    {
     "name": "stdout",
     "output_type": "stream",
     "text": [
      "Model mnist_mlp_1p train started \n",
      "\n",
      "\n",
      "[[Linear(in_features=784, out_features=10, bias=True)]]\n",
      "!!!!!!!!!!!\n",
      "!! Layer !! .\n",
      "!!!!!!!!!!! \n",
      "\n",
      " Net(\n",
      "  (layer1): Sequential(\n",
      "    (0): Linear(in_features=784, out_features=10, bias=True)\n",
      "  )\n",
      ")\n",
      "\n",
      "!!!!!!!!!!!!!!!\n",
      "!! optimizer !! \n",
      "!!!!!!!!!!!!!!! \n",
      "\n",
      " Adam (\n",
      "Parameter Group 0\n",
      "    amsgrad: False\n",
      "    betas: (0.9, 0.999)\n",
      "    eps: 1e-08\n",
      "    lr: 0.001\n",
      "    weight_decay: 0\n",
      ")\n",
      "    Epoch 2: cost=11.998, accuracy=0.702/0.812 (1/1 secs)\n",
      "    Epoch 4: cost=3.909, accuracy=0.846/0.562 (1/2 secs)\n",
      "    Epoch 6: cost=1.397, accuracy=0.910/0.688 (1/3 secs)\n",
      "    Epoch 8: cost=0.474, accuracy=0.952/0.750 (1/4 secs)\n",
      "    Epoch 10: cost=0.501, accuracy=0.962/0.875 (0/4 secs)\n",
      "Model mnist_mlp_1p train ended in 4 secs:\n",
      "Model mnist_mlp_1p test report: accuracy = 0.745, (0 secs)\n",
      "\n",
      "Model mnist_mlp_1p Visualization\n",
      "정답 tensor([2, 1, 7]) vs. 추정 tensor([6, 1, 9])\n"
     ]
    },
    {
     "data": {
      "image/png": "[encoded data removed]",
      "text/plain": [
       "<Figure size 216x72 with 3 Axes>"
      ]
     },
     "metadata": {
      "needs_background": "light"
     },
     "output_type": "display_data"
    }
   ],
   "source": [
    "conf_mlp =[['full',{'width':10}]]\n",
    "mnist_mlp_1p = RnnExtModel('mnist_mlp_1p',mset_1p,conf_mlp)\n",
    "mnist_mlp_1p.exec_all(epoch_count = 10, report=2, batch_size=BATCH_SIZE, learning_rate = LEARNING_RATE)"
   ]
  },
  {
   "cell_type": "code",
   "execution_count": 150,
   "id": "8cb542bb",
   "metadata": {},
   "outputs": [
    {
     "name": "stdout",
     "output_type": "stream",
     "text": [
      "Model mnist_auto_1autoencode started:\n",
      "    Epoch 1: cost=2804.253, accuracy=-0.591/-0.591 (38/38 secs)\n",
      "    Epoch 2: cost=2603.710, accuracy=-0.538/-0.538 (36/74 secs)\n",
      "    Epoch 3: cost=2575.635, accuracy=-0.530/-0.530 (38/112 secs)\n",
      "    Epoch 4: cost=2558.153, accuracy=-0.524/-0.524 (43/155 secs)\n",
      "    Epoch 5: cost=2555.548, accuracy=-0.524/-0.524 (36/191 secs)\n",
      "    Epoch 6: cost=2553.194, accuracy=-0.523/-0.523 (37/228 secs)\n",
      "    Epoch 7: cost=2541.031, accuracy=-0.520/-0.520 (44/272 secs)\n",
      "    Epoch 8: cost=2530.942, accuracy=-0.516/-0.516 (40/312 secs)\n",
      "    Epoch 9: cost=2528.096, accuracy=-0.516/-0.516 (61/373 secs)\n",
      "    Epoch 10: cost=2526.180, accuracy=-0.515/-0.515 (93/466 secs)\n",
      "Model mnist_auto_1 autoencode ended in 466 secs :\n",
      "Model mnist_auto_1 train started \n",
      "\n",
      "\n",
      "[False, Sequential(\n",
      "  (0): Linear(in_features=784, out_features=10, bias=True)\n",
      "  (ReLU): LeakyReLU(negative_slope=0.01)\n",
      "), Linear(in_features=10, out_features=10, bias=True)]\n",
      "!!!!!!!!!!!\n",
      "!! Layer !! .\n",
      "!!!!!!!!!!! \n",
      "\n",
      " Net(\n",
      "  (encoder): Sequential(\n",
      "    (0): Linear(in_features=784, out_features=10, bias=True)\n",
      "    (ReLU): LeakyReLU(negative_slope=0.01)\n",
      "  )\n",
      "  (fc): Linear(in_features=10, out_features=10, bias=True)\n",
      ")\n",
      "\n",
      "!!!!!!!!!!!!!!!\n",
      "!! optimizer !! \n",
      "!!!!!!!!!!!!!!! \n",
      "\n",
      " Adam (\n",
      "Parameter Group 0\n",
      "    amsgrad: False\n",
      "    betas: (0.9, 0.999)\n",
      "    eps: 1e-08\n",
      "    lr: 0.001\n",
      "    weight_decay: 0\n",
      ")\n",
      "    Epoch 1: cost=2.749, accuracy=0.325/0.250 (1/1 secs)\n",
      "    Epoch 2: cost=1.521, accuracy=0.490/0.500 (1/2 secs)\n",
      "    Epoch 3: cost=1.135, accuracy=0.637/0.688 (1/3 secs)\n",
      "    Epoch 4: cost=0.802, accuracy=0.760/0.750 (0/3 secs)\n",
      "    Epoch 5: cost=0.626, accuracy=0.815/0.812 (1/4 secs)\n",
      "    Epoch 6: cost=0.511, accuracy=0.852/0.688 (0/4 secs)\n",
      "    Epoch 7: cost=0.465, accuracy=0.860/0.688 (1/5 secs)\n",
      "    Epoch 8: cost=0.340, accuracy=0.906/0.750 (1/6 secs)\n",
      "    Epoch 9: cost=0.280, accuracy=0.915/0.750 (0/6 secs)\n",
      "    Epoch 10: cost=0.270, accuracy=0.917/0.688 (1/7 secs)\n",
      "Model mnist_auto_1 train ended in 7 secs:\n",
      "Model mnist_auto_1 test report: accuracy = 0.756, (0 secs)\n",
      "\n",
      "Model mnist_auto_1 Visualization\n",
      "정답 tensor([3, 7, 2]) vs. 추정 tensor([8, 7, 2])\n"
     ]
    },
    {
     "data": {
      "image/png": "[encoded data removed]",
      "text/plain": [
       "<Figure size 216x72 with 3 Axes>"
      ]
     },
     "metadata": {
      "needs_background": "light"
     },
     "output_type": "display_data"
    },
    {
     "data": {
      "image/png": "[encoded data removed]",
      "text/plain": [
       "<Figure size 216x72 with 3 Axes>"
      ]
     },
     "metadata": {
      "needs_background": "light"
     },
     "output_type": "display_data"
    }
   ],
   "source": [
    "conf_auto ={\n",
    "    'encoder':[['full',{'width':10}]],\n",
    "    'decoder':[['full',{'width':784}]],\n",
    "    'supervised':[['full',{'width':10}]]\n",
    "}\n",
    "\n",
    "mnist_auto_1 = Autoencoder('mnist_auto_1', mset_1p, conf_auto)\n",
    "mnist_auto_1.autoencode(epoch_count = 10, report=1, learning_rate = LEARNING_RATE, batch_size=BATCH_SIZE)\n",
    "mnist_auto_1.exec_all(epoch_count=10, report=1,learning_rate = LEARNING_RATE, batch_size=BATCH_SIZE)"
   ]
  },
  {
   "cell_type": "code",
   "execution_count": null,
   "id": "646b5f6a",
   "metadata": {},
   "outputs": [],
   "source": []
  }
 ],
 "metadata": {
  "kernelspec": {
   "display_name": "Python 3 (ipykernel)",
   "language": "python",
   "name": "python3"
  },
  "language_info": {
   "codemirror_mode": {
    "name": "ipython",
    "version": 3
   },
   "file_extension": ".py",
   "mimetype": "text/x-python",
   "name": "python",
   "nbconvert_exporter": "python",
   "pygments_lexer": "ipython3",
   "version": "3.7.0"
  }
 },
 "nbformat": 4,
 "nbformat_minor": 5
}
