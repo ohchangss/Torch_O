{
 "cells": [
  {
   "cell_type": "code",
   "execution_count": 857,
   "id": "820afedc",
   "metadata": {},
   "outputs": [],
   "source": [
    "BASE_DIR = '../'*3\n",
    "MODEL_DIR = BASE_DIR + 'code/ETC/autoencoder/autoencoder.ipynb'\n",
    "DATA_DIR =BASE_DIR+ 'code/ETC/autoencoder/dataset_auto_mnist.ipynb'"
   ]
  },
  {
   "cell_type": "code",
   "execution_count": 858,
   "id": "e7a1fa79",
   "metadata": {},
   "outputs": [
    {
     "name": "stdout",
     "output_type": "stream",
     "text": [
      "Using device: cpu\n",
      "Using PyTorch version: 1.9.0\n"
     ]
    }
   ],
   "source": [
    "%run {MODEL_DIR}\n",
    "%run {DATA_DIR}"
   ]
  },
  {
   "cell_type": "code",
   "execution_count": 859,
   "id": "7baeea72",
   "metadata": {},
   "outputs": [
    {
     "name": "stdout",
     "output_type": "stream",
     "text": [
      "1.0\n",
      "0.01\n"
     ]
    }
   ],
   "source": [
    "mset_all = MnistAutoDataset(train_ratio = 1.00)\n",
    "mset_1p = MnistAutoDataset(train_ratio = 0.01)"
   ]
  },
  {
   "cell_type": "code",
   "execution_count": 46,
   "id": "c11e03c8",
   "metadata": {},
   "outputs": [
    {
     "name": "stdout",
     "output_type": "stream",
     "text": [
      "Model mnist_mlp_all train started \n",
      "\n",
      "\n",
      "!!!!!!!!!!!\n",
      "!! Layer !! .\n",
      "!!!!!!!!!!! \n",
      "\n",
      " Net(\n",
      "  (layer1): Sequential(\n",
      "    (0): Linear(in_features=784, out_features=10, bias=True)\n",
      "  )\n",
      ")\n",
      "\n",
      "!!!!!!!!!!!!!!!\n",
      "!! optimizer !! \n",
      "!!!!!!!!!!!!!!! \n",
      "\n",
      " Adam (\n",
      "Parameter Group 0\n",
      "    amsgrad: False\n",
      "    betas: (0.9, 0.999)\n",
      "    eps: 1e-08\n",
      "    lr: 0.001\n",
      "    weight_decay: 0\n",
      ")\n",
      "    Epoch 1: cost=9.640, accuracy=0.821/0.800 (18/18 secs)\n",
      "    Epoch 1: cost=9.524, accuracy=0.842/0.900 (17/35 secs)\n",
      "    Epoch 2: cost=8.754, accuracy=0.880/0.900 (24/59 secs)\n",
      "    Epoch 2: cost=9.091, accuracy=0.879/1.000 (18/77 secs)\n",
      "    Epoch 3: cost=8.880, accuracy=0.883/0.600 (25/102 secs)\n",
      "    Epoch 3: cost=9.064, accuracy=0.882/0.800 (26/128 secs)\n",
      "    Epoch 4: cost=8.594, accuracy=0.890/0.900 (24/152 secs)\n",
      "    Epoch 4: cost=8.985, accuracy=0.885/0.900 (18/170 secs)\n",
      "    Epoch 5: cost=9.030, accuracy=0.883/1.000 (24/194 secs)\n",
      "    Epoch 5: cost=9.181, accuracy=0.884/0.700 (15/209 secs)\n",
      "    Epoch 6: cost=9.162, accuracy=0.886/0.900 (20/229 secs)\n",
      "    Epoch 6: cost=9.193, accuracy=0.887/1.000 (14/243 secs)\n",
      "    Epoch 7: cost=8.966, accuracy=0.888/0.900 (20/263 secs)\n",
      "    Epoch 7: cost=8.886, accuracy=0.891/0.900 (14/277 secs)\n",
      "    Epoch 8: cost=9.006, accuracy=0.892/0.900 (20/297 secs)\n",
      "    Epoch 8: cost=9.274, accuracy=0.890/0.700 (18/315 secs)\n",
      "    Epoch 9: cost=8.384, accuracy=0.895/0.900 (25/340 secs)\n",
      "    Epoch 9: cost=9.017, accuracy=0.891/0.800 (16/356 secs)\n",
      "    Epoch 10: cost=8.884, accuracy=0.891/1.000 (27/383 secs)\n",
      "    Epoch 10: cost=9.087, accuracy=0.891/0.900 (12/395 secs)\n",
      "Model mnist_mlp_all train ended in 400 secs:\n",
      "Model mnist_mlp_all test report: accuracy = 0.895, (0 secs)\n",
      "\n",
      "Model mnist_mlp_all Visualization\n",
      "정답 tensor([8, 2, 3]) vs. 추정 tensor([8, 8, 3])\n"
     ]
    },
    {
     "data": {
      "image/png": "[encoded data removed]",
      "text/plain": [
       "<Figure size 216x72 with 3 Axes>"
      ]
     },
     "metadata": {
      "needs_background": "light"
     },
     "output_type": "display_data"
    }
   ],
   "source": [
    "conf_mlp =[['full',{'width':10}]]\n",
    "mnist_mlp_all = RnnExtModel('mnist_mlp_all',mset_all,conf_mlp)\n",
    "mnist_mlp_all.exec_all(epoch_count = 10, report=2000)"
   ]
  },
  {
   "cell_type": "code",
   "execution_count": 47,
   "id": "e0c4e6f2",
   "metadata": {},
   "outputs": [
    {
     "name": "stdout",
     "output_type": "stream",
     "text": [
      "Model mnist_mlp_1p train started \n",
      "\n",
      "\n",
      "!!!!!!!!!!!\n",
      "!! Layer !! .\n",
      "!!!!!!!!!!! \n",
      "\n",
      " Net(\n",
      "  (layer1): Sequential(\n",
      "    (0): Linear(in_features=784, out_features=10, bias=True)\n",
      "  )\n",
      ")\n",
      "\n",
      "!!!!!!!!!!!!!!!\n",
      "!! optimizer !! \n",
      "!!!!!!!!!!!!!!! \n",
      "\n",
      " Adam (\n",
      "Parameter Group 0\n",
      "    amsgrad: False\n",
      "    betas: (0.9, 0.999)\n",
      "    eps: 1e-08\n",
      "    lr: 0.001\n",
      "    weight_decay: 0\n",
      ")\n",
      "    Epoch 1: cost=9.601, accuracy=0.821/1.000 (12/12 secs)\n",
      "    Epoch 1: cost=9.473, accuracy=0.841/0.700 (11/23 secs)\n",
      "    Epoch 2: cost=9.008, accuracy=0.873/0.800 (17/40 secs)\n",
      "    Epoch 2: cost=9.281, accuracy=0.875/1.000 (12/52 secs)\n",
      "    Epoch 3: cost=8.978, accuracy=0.880/0.900 (16/68 secs)\n",
      "    Epoch 3: cost=9.039, accuracy=0.881/0.900 (12/80 secs)\n",
      "    Epoch 4: cost=8.911, accuracy=0.883/0.900 (19/99 secs)\n",
      "    Epoch 4: cost=9.274, accuracy=0.884/0.800 (16/115 secs)\n",
      "    Epoch 5: cost=9.067, accuracy=0.887/0.700 (21/136 secs)\n",
      "    Epoch 5: cost=9.407, accuracy=0.885/0.800 (19/155 secs)\n",
      "    Epoch 6: cost=8.570, accuracy=0.891/0.900 (22/177 secs)\n",
      "    Epoch 6: cost=9.136, accuracy=0.887/1.000 (18/195 secs)\n",
      "    Epoch 7: cost=9.085, accuracy=0.888/0.900 (32/227 secs)\n",
      "    Epoch 7: cost=9.240, accuracy=0.887/0.800 (18/245 secs)\n",
      "    Epoch 8: cost=9.034, accuracy=0.890/0.600 (31/276 secs)\n",
      "    Epoch 8: cost=9.106, accuracy=0.889/0.800 (20/296 secs)\n",
      "    Epoch 9: cost=8.906, accuracy=0.890/0.800 (31/327 secs)\n",
      "    Epoch 9: cost=8.943, accuracy=0.891/0.800 (17/344 secs)\n",
      "    Epoch 10: cost=8.685, accuracy=0.895/0.900 (22/366 secs)\n",
      "    Epoch 10: cost=9.076, accuracy=0.891/0.800 (15/381 secs)\n",
      "Model mnist_mlp_1p train ended in 390 secs:\n",
      "Model mnist_mlp_1p test report: accuracy = 0.880, (0 secs)\n",
      "\n",
      "Model mnist_mlp_1p Visualization\n",
      "정답 tensor([5, 6, 7]) vs. 추정 tensor([5, 6, 7])\n"
     ]
    },
    {
     "data": {
      "image/png": "[encoded data removed]",
      "text/plain": [
       "<Figure size 216x72 with 3 Axes>"
      ]
     },
     "metadata": {
      "needs_background": "light"
     },
     "output_type": "display_data"
    }
   ],
   "source": [
    "mnist_mlp_1p = RnnExtModel('mnist_mlp_1p',mset_1p,conf_mlp)\n",
    "mnist_mlp_1p.exec_all(epoch_count = 10, report=2000)"
   ]
  },
  {
   "cell_type": "code",
   "execution_count": 861,
   "id": "6eb78178",
   "metadata": {
    "scrolled": false
   },
   "outputs": [
    {
     "name": "stdout",
     "output_type": "stream",
     "text": [
      "Model mnist_auto_1autoencode started:\n",
      "    Epoch 1: cost=2743.662, accuracy=2743.662/-0.573 (41/41 secs)\n",
      "Model mnist_auto_1 autoencode ended in 41 secs :\n",
      "Model mnist_auto_1 train started \n",
      "\n",
      "\n",
      "[False, Linear(in_features=784, out_features=10, bias=True), Linear(in_features=10, out_features=10, bias=True)]\n",
      "!!!!!!!!!!!\n",
      "!! Layer !! .\n",
      "!!!!!!!!!!! \n",
      "\n",
      " Net(\n",
      "  (encoder): Linear(in_features=784, out_features=10, bias=True)\n",
      "  (fc): Linear(in_features=10, out_features=10, bias=True)\n",
      ")\n",
      "\n",
      "!!!!!!!!!!!!!!!\n",
      "!! optimizer !! \n",
      "!!!!!!!!!!!!!!! \n",
      "\n",
      " Adam (\n",
      "Parameter Group 0\n",
      "    amsgrad: False\n",
      "    betas: (0.9, 0.999)\n",
      "    eps: 1e-08\n",
      "    lr: 0.001\n",
      "    weight_decay: 0\n",
      ")\n",
      "    Epoch 1: cost=0.604, accuracy=0.604/0.800 (40/40 secs)\n",
      "Model mnist_auto_1 train ended in 40 secs:\n",
      "Model mnist_auto_1 test report: accuracy = 0.872, (0 secs)\n",
      "\n",
      "Model mnist_auto_1 Visualization\n",
      "정답 tensor([3, 7, 1]) vs. 추정 tensor([3, 7, 1])\n"
     ]
    },
    {
     "data": {
      "image/png": "[encoded data removed]",
      "text/plain": [
       "<Figure size 216x72 with 3 Axes>"
      ]
     },
     "metadata": {
      "needs_background": "light"
     },
     "output_type": "display_data"
    }
   ],
   "source": [
    "conf_auto ={\n",
    "    'encoder':[['full',{'width':10}]],\n",
    "    'decoder':[['full',{'width':784}]],\n",
    "    'supervised':[['full',{'width':10}]]\n",
    "}\n",
    "\n",
    "mnist_auto_1 = Autoencoder('mnist_auto_1', mset_1p, conf_auto)\n",
    "mnist_auto_1.autoencode(epoch_count = 1, report=1)\n",
    "mnist_auto_1.exec_all(epoch_count=1, report=1)"
   ]
  },
  {
   "cell_type": "code",
   "execution_count": null,
   "id": "175cb167",
   "metadata": {},
   "outputs": [],
   "source": []
  }
 ],
 "metadata": {
  "kernelspec": {
   "display_name": "Python 3 (ipykernel)",
   "language": "python",
   "name": "python3"
  },
  "language_info": {
   "codemirror_mode": {
    "name": "ipython",
    "version": 3
   },
   "file_extension": ".py",
   "mimetype": "text/x-python",
   "name": "python",
   "nbconvert_exporter": "python",
   "pygments_lexer": "ipython3",
   "version": "3.7.0"
  }
 },
 "nbformat": 4,
 "nbformat_minor": 5
}
