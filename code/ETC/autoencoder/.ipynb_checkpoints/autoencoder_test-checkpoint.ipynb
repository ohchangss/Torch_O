{
 "cells": [
  {
   "cell_type": "code",
   "execution_count": 71,
   "id": "8d225d9f",
   "metadata": {},
   "outputs": [],
   "source": [
    "BASE_DIR = '../'*3\n",
    "MODEL_DIR = BASE_DIR + 'code/ETC/autoencoder/autoencoder.ipynb'\n",
    "DATA_DIR =BASE_DIR+ 'code/ETC/autoencoder/dataset_auto_mnist.ipynb'"
   ]
  },
  {
   "cell_type": "code",
   "execution_count": 72,
   "id": "d33f66a2",
   "metadata": {},
   "outputs": [
    {
     "name": "stdout",
     "output_type": "stream",
     "text": [
      "Using device: cpu\n",
      "Using PyTorch version: 1.9.0\n"
     ]
    }
   ],
   "source": [
    "%run {MODEL_DIR}\n",
    "%run {DATA_DIR}"
   ]
  },
  {
   "cell_type": "code",
   "execution_count": 73,
   "id": "9c6c3093",
   "metadata": {},
   "outputs": [],
   "source": [
    "EPOCH = 1\n",
    "BATCH_SIZE=10\n",
    "NUM_WORKERS=0\n",
    "LEARNING_RATE = 0.001"
   ]
  },
  {
   "cell_type": "code",
   "execution_count": 74,
   "id": "66c2d9d6",
   "metadata": {},
   "outputs": [],
   "source": [
    "mset_all = MnistAutoDataset(train_ratio = 1.00)\n",
    "mset_1p = MnistAutoDataset(train_ratio = 0.01)"
   ]
  },
  {
   "cell_type": "code",
   "execution_count": 68,
   "id": "2b0b5ef0",
   "metadata": {},
   "outputs": [
    {
     "name": "stdout",
     "output_type": "stream",
     "text": [
      "Model mnist_mlp_all train started \n",
      "\n",
      "\n",
      "[[Linear(in_features=784, out_features=10, bias=True)]]\n",
      "!!!!!!!!!!!\n",
      "!! Layer !! .\n",
      "!!!!!!!!!!! \n",
      "\n",
      " Net(\n",
      "  (layer1): Sequential(\n",
      "    (0): Linear(in_features=784, out_features=10, bias=True)\n",
      "    (relu): ReLU()\n",
      "  )\n",
      ")\n",
      "\n",
      "!!!!!!!!!!!!!!!\n",
      "!! optimizer !! \n",
      "!!!!!!!!!!!!!!! \n",
      "\n",
      " Adam (\n",
      "Parameter Group 0\n",
      "    amsgrad: False\n",
      "    betas: (0.9, 0.999)\n",
      "    eps: 1e-08\n",
      "    lr: 0.001\n",
      "    weight_decay: 0\n",
      ")\n",
      "    Epoch 2: cost=2.303, accuracy=0.099/0.100 (80/80 secs)\n",
      "    Epoch 4: cost=2.303, accuracy=0.099/0.100 (87/167 secs)\n",
      "    Epoch 6: cost=2.303, accuracy=0.099/0.200 (86/253 secs)\n"
     ]
    },
    {
     "ename": "KeyboardInterrupt",
     "evalue": "",
     "output_type": "error",
     "traceback": [
      "\u001b[1;31m---------------------------------------------------------------------------\u001b[0m",
      "\u001b[1;31mKeyboardInterrupt\u001b[0m                         Traceback (most recent call last)",
      "\u001b[1;32m~\\AppData\\Local\\Temp/ipykernel_20304/5310157.py\u001b[0m in \u001b[0;36m<module>\u001b[1;34m\u001b[0m\n\u001b[0;32m      1\u001b[0m \u001b[0mconf_mlp\u001b[0m \u001b[1;33m=\u001b[0m\u001b[1;33m[\u001b[0m\u001b[1;33m[\u001b[0m\u001b[1;34m'full'\u001b[0m\u001b[1;33m,\u001b[0m\u001b[1;33m{\u001b[0m\u001b[1;34m'width'\u001b[0m\u001b[1;33m:\u001b[0m\u001b[1;36m10\u001b[0m\u001b[1;33m}\u001b[0m\u001b[1;33m]\u001b[0m\u001b[1;33m]\u001b[0m\u001b[1;33m\u001b[0m\u001b[0m\n\u001b[0;32m      2\u001b[0m \u001b[0mmnist_mlp_all\u001b[0m \u001b[1;33m=\u001b[0m \u001b[0mRnnExtModel\u001b[0m\u001b[1;33m(\u001b[0m\u001b[1;34m'mnist_mlp_all'\u001b[0m\u001b[1;33m,\u001b[0m\u001b[0mmset_all\u001b[0m\u001b[1;33m,\u001b[0m\u001b[0mconf_mlp\u001b[0m\u001b[1;33m)\u001b[0m\u001b[1;33m\u001b[0m\u001b[0m\n\u001b[1;32m----> 3\u001b[1;33m \u001b[0mmnist_mlp_all\u001b[0m\u001b[1;33m.\u001b[0m\u001b[0mexec_all\u001b[0m\u001b[1;33m(\u001b[0m\u001b[0mepoch_count\u001b[0m \u001b[1;33m=\u001b[0m \u001b[1;36m10\u001b[0m\u001b[1;33m,\u001b[0m \u001b[0mreport\u001b[0m\u001b[1;33m=\u001b[0m\u001b[1;36m2\u001b[0m\u001b[1;33m)\u001b[0m\u001b[1;33m\u001b[0m\u001b[0m\n\u001b[0m",
      "\u001b[1;32m~\\AppData\\Local\\Temp/ipykernel_20304/927826373.py\u001b[0m in \u001b[0;36mexec_all\u001b[1;34m(self, epoch_count, batch_size, learning_rate, report, show_cnt, show_params, num_workers)\u001b[0m\n\u001b[0;32m      9\u001b[0m                  report=0, show_cnt = 3, show_params=False,num_workers=0):\n\u001b[0;32m     10\u001b[0m         super(CnnRegModel, self).exec_all(epoch_count, batch_size, \n\u001b[1;32m---> 11\u001b[1;33m                                          learning_rate, report, show_cnt, num_workers)\n\u001b[0m\u001b[0;32m     12\u001b[0m \u001b[1;33m\u001b[0m\u001b[0m\n\u001b[0;32m     13\u001b[0m         \u001b[1;32mif\u001b[0m \u001b[0mshow_params\u001b[0m \u001b[1;33m:\u001b[0m \u001b[0mself\u001b[0m\u001b[1;33m.\u001b[0m\u001b[0mshow_param_dist\u001b[0m\u001b[1;33m(\u001b[0m\u001b[1;33m)\u001b[0m\u001b[1;33m\u001b[0m\u001b[0m\n",
      "\u001b[1;32m~\\AppData\\Local\\Temp/ipykernel_20304/1593034063.py\u001b[0m in \u001b[0;36mexec_all\u001b[1;34m(self, epoch_count, batch_size, learning_rate, report, show_cnt, num_workers)\u001b[0m\n\u001b[0;32m     13\u001b[0m         \u001b[0mself\u001b[0m\u001b[1;33m.\u001b[0m\u001b[0mbatch_size\u001b[0m \u001b[1;33m=\u001b[0m \u001b[0mbatch_size\u001b[0m\u001b[1;33m\u001b[0m\u001b[0m\n\u001b[0;32m     14\u001b[0m         \u001b[0mself\u001b[0m\u001b[1;33m.\u001b[0m\u001b[0mnum_workers\u001b[0m \u001b[1;33m=\u001b[0m \u001b[0mnum_workers\u001b[0m\u001b[1;33m\u001b[0m\u001b[0m\n\u001b[1;32m---> 15\u001b[1;33m         \u001b[0mself\u001b[0m\u001b[1;33m.\u001b[0m\u001b[0mtrain\u001b[0m\u001b[1;33m(\u001b[0m\u001b[0mepoch_count\u001b[0m\u001b[1;33m,\u001b[0m \u001b[0mbatch_size\u001b[0m\u001b[1;33m,\u001b[0m \u001b[0mlearning_rate\u001b[0m\u001b[1;33m,\u001b[0m \u001b[0mreport\u001b[0m\u001b[1;33m,\u001b[0m \u001b[0mnum_workers\u001b[0m\u001b[1;33m)\u001b[0m\u001b[1;33m\u001b[0m\u001b[0m\n\u001b[0m\u001b[0;32m     16\u001b[0m         \u001b[0mself\u001b[0m\u001b[1;33m.\u001b[0m\u001b[0mtest\u001b[0m\u001b[1;33m(\u001b[0m\u001b[0mbatch_size\u001b[0m\u001b[1;33m)\u001b[0m\u001b[1;33m\u001b[0m\u001b[0m\n\u001b[0;32m     17\u001b[0m         \u001b[1;32mif\u001b[0m \u001b[0mshow_cnt\u001b[0m \u001b[1;33m>\u001b[0m \u001b[1;36m0\u001b[0m\u001b[1;33m:\u001b[0m \u001b[0mself\u001b[0m\u001b[1;33m.\u001b[0m\u001b[0mvisualize\u001b[0m\u001b[1;33m(\u001b[0m\u001b[0mshow_cnt\u001b[0m\u001b[1;33m)\u001b[0m\u001b[1;33m\u001b[0m\u001b[0m\n",
      "\u001b[1;32m~\\AppData\\Local\\Temp/ipykernel_20304/3738463850.py\u001b[0m in \u001b[0;36mtrain_torch\u001b[1;34m(self, epoch_count, batch_size, learning_rate, report, num_workers)\u001b[0m\n\u001b[0;32m     52\u001b[0m \u001b[1;31m#             print(output,'outputoutput')\u001b[0m\u001b[1;33m\u001b[0m\u001b[1;33m\u001b[0m\u001b[0m\n\u001b[0;32m     53\u001b[0m \u001b[1;31m#             print(y_train,'y_trainy_trainy_train')\u001b[0m\u001b[1;33m\u001b[0m\u001b[1;33m\u001b[0m\u001b[0m\n\u001b[1;32m---> 54\u001b[1;33m             \u001b[0mloss\u001b[0m\u001b[1;33m=\u001b[0m\u001b[0mself\u001b[0m\u001b[1;33m.\u001b[0m\u001b[0mforward_postproc\u001b[0m\u001b[1;33m(\u001b[0m\u001b[0mloss_func\u001b[0m\u001b[1;33m,\u001b[0m \u001b[0moutput\u001b[0m\u001b[1;33m,\u001b[0m \u001b[0my_train\u001b[0m\u001b[1;33m)\u001b[0m\u001b[1;33m\u001b[0m\u001b[0m\n\u001b[0m\u001b[0;32m     55\u001b[0m             \u001b[0macc\u001b[0m \u001b[1;33m=\u001b[0m \u001b[0mself\u001b[0m\u001b[1;33m.\u001b[0m\u001b[0meval_accuracy\u001b[0m\u001b[1;33m(\u001b[0m\u001b[0mX_train\u001b[0m\u001b[1;33m,\u001b[0m \u001b[0my_train\u001b[0m\u001b[1;33m,\u001b[0m \u001b[0moutput\u001b[0m\u001b[1;33m)\u001b[0m\u001b[1;33m\u001b[0m\u001b[0m\n\u001b[0;32m     56\u001b[0m             \u001b[0mloss\u001b[0m\u001b[1;33m.\u001b[0m\u001b[0mbackward\u001b[0m\u001b[1;33m(\u001b[0m\u001b[1;33m)\u001b[0m\u001b[1;33m\u001b[0m\u001b[0m\n",
      "\u001b[1;32m~\\AppData\\Local\\Temp/ipykernel_20304/1271156569.py\u001b[0m in \u001b[0;36mforward_postproc\u001b[1;34m(self, loss_func, output, y_train)\u001b[0m\n\u001b[0;32m      1\u001b[0m \u001b[1;32mdef\u001b[0m \u001b[0mforward_postproc\u001b[0m\u001b[1;33m(\u001b[0m\u001b[0mself\u001b[0m\u001b[1;33m,\u001b[0m \u001b[0mloss_func\u001b[0m\u001b[1;33m,\u001b[0m \u001b[0moutput\u001b[0m\u001b[1;33m,\u001b[0m \u001b[0my_train\u001b[0m\u001b[1;33m)\u001b[0m\u001b[1;33m:\u001b[0m\u001b[1;33m\u001b[0m\u001b[0m\n\u001b[0;32m      2\u001b[0m \u001b[1;33m\u001b[0m\u001b[0m\n\u001b[1;32m----> 3\u001b[1;33m     \u001b[0mloss\u001b[0m \u001b[1;33m=\u001b[0m \u001b[0mself\u001b[0m\u001b[1;33m.\u001b[0m\u001b[0mdataset\u001b[0m\u001b[1;33m.\u001b[0m\u001b[0mforward_postproc\u001b[0m\u001b[1;33m(\u001b[0m\u001b[0mloss_func\u001b[0m\u001b[1;33m,\u001b[0m \u001b[0moutput\u001b[0m\u001b[1;33m,\u001b[0m \u001b[0my_train\u001b[0m\u001b[1;33m)\u001b[0m\u001b[1;33m\u001b[0m\u001b[0m\n\u001b[0m\u001b[0;32m      4\u001b[0m     \u001b[0mextra\u001b[0m \u001b[1;33m=\u001b[0m \u001b[0mself\u001b[0m\u001b[1;33m.\u001b[0m\u001b[0mforward_extra_cost\u001b[0m\u001b[1;33m(\u001b[0m\u001b[1;33m)\u001b[0m\u001b[1;33m\u001b[0m\u001b[0m\n\u001b[0;32m      5\u001b[0m \u001b[1;33m\u001b[0m\u001b[0m\n",
      "\u001b[1;32m~\\AppData\\Local\\Temp/ipykernel_20304/2788534281.py\u001b[0m in \u001b[0;36mdataset_forward_postproc\u001b[1;34m(self, loss_func, output, y_train, mode)\u001b[0m\n\u001b[0;32m     10\u001b[0m \u001b[1;33m\u001b[0m\u001b[0m\n\u001b[0;32m     11\u001b[0m     \u001b[1;32melif\u001b[0m \u001b[0mmode\u001b[0m \u001b[1;33m==\u001b[0m \u001b[1;34m'select'\u001b[0m\u001b[1;33m:\u001b[0m\u001b[1;33m\u001b[0m\u001b[0m\n\u001b[1;32m---> 12\u001b[1;33m         \u001b[0mloss\u001b[0m \u001b[1;33m=\u001b[0m \u001b[0mloss_func\u001b[0m\u001b[1;33m(\u001b[0m\u001b[0moutput\u001b[0m\u001b[1;33m,\u001b[0m \u001b[0mtorch\u001b[0m\u001b[1;33m.\u001b[0m\u001b[0margmax\u001b[0m\u001b[1;33m(\u001b[0m\u001b[0my_train\u001b[0m\u001b[1;33m,\u001b[0m\u001b[0mdim\u001b[0m\u001b[1;33m=\u001b[0m\u001b[1;36m1\u001b[0m\u001b[1;33m)\u001b[0m\u001b[1;33m)\u001b[0m\u001b[1;33m\u001b[0m\u001b[0m\n\u001b[0m\u001b[0;32m     13\u001b[0m \u001b[1;33m\u001b[0m\u001b[0m\n\u001b[0;32m     14\u001b[0m     \u001b[1;32mreturn\u001b[0m \u001b[0mloss\u001b[0m\u001b[1;33m\u001b[0m\u001b[0m\n",
      "\u001b[1;31mKeyboardInterrupt\u001b[0m: "
     ]
    }
   ],
   "source": [
    "conf_mlp =[['full',{'width':10}]]\n",
    "mnist_mlp_all = RnnExtModel('mnist_mlp_all',mset_all,conf_mlp)\n",
    "mnist_mlp_all.exec_all(epoch_count = 10, report=2)"
   ]
  },
  {
   "cell_type": "code",
   "execution_count": 46,
   "id": "650a8b14",
   "metadata": {},
   "outputs": [
    {
     "name": "stdout",
     "output_type": "stream",
     "text": [
      "Model mnist_mlp_all train started \n",
      "\n",
      "\n",
      "!!!!!!!!!!!\n",
      "!! Layer !! .\n",
      "!!!!!!!!!!! \n",
      "\n",
      " Net(\n",
      "  (layer1): Sequential(\n",
      "    (0): Linear(in_features=784, out_features=10, bias=True)\n",
      "  )\n",
      ")\n",
      "\n",
      "!!!!!!!!!!!!!!!\n",
      "!! optimizer !! \n",
      "!!!!!!!!!!!!!!! \n",
      "\n",
      " Adam (\n",
      "Parameter Group 0\n",
      "    amsgrad: False\n",
      "    betas: (0.9, 0.999)\n",
      "    eps: 1e-08\n",
      "    lr: 0.001\n",
      "    weight_decay: 0\n",
      ")\n",
      "    Epoch 1: cost=9.640, accuracy=0.821/0.800 (18/18 secs)\n",
      "    Epoch 1: cost=9.524, accuracy=0.842/0.900 (17/35 secs)\n",
      "    Epoch 2: cost=8.754, accuracy=0.880/0.900 (24/59 secs)\n",
      "    Epoch 2: cost=9.091, accuracy=0.879/1.000 (18/77 secs)\n",
      "    Epoch 3: cost=8.880, accuracy=0.883/0.600 (25/102 secs)\n",
      "    Epoch 3: cost=9.064, accuracy=0.882/0.800 (26/128 secs)\n",
      "    Epoch 4: cost=8.594, accuracy=0.890/0.900 (24/152 secs)\n",
      "    Epoch 4: cost=8.985, accuracy=0.885/0.900 (18/170 secs)\n",
      "    Epoch 5: cost=9.030, accuracy=0.883/1.000 (24/194 secs)\n",
      "    Epoch 5: cost=9.181, accuracy=0.884/0.700 (15/209 secs)\n",
      "    Epoch 6: cost=9.162, accuracy=0.886/0.900 (20/229 secs)\n",
      "    Epoch 6: cost=9.193, accuracy=0.887/1.000 (14/243 secs)\n",
      "    Epoch 7: cost=8.966, accuracy=0.888/0.900 (20/263 secs)\n",
      "    Epoch 7: cost=8.886, accuracy=0.891/0.900 (14/277 secs)\n",
      "    Epoch 8: cost=9.006, accuracy=0.892/0.900 (20/297 secs)\n",
      "    Epoch 8: cost=9.274, accuracy=0.890/0.700 (18/315 secs)\n",
      "    Epoch 9: cost=8.384, accuracy=0.895/0.900 (25/340 secs)\n",
      "    Epoch 9: cost=9.017, accuracy=0.891/0.800 (16/356 secs)\n",
      "    Epoch 10: cost=8.884, accuracy=0.891/1.000 (27/383 secs)\n",
      "    Epoch 10: cost=9.087, accuracy=0.891/0.900 (12/395 secs)\n",
      "Model mnist_mlp_all train ended in 400 secs:\n",
      "Model mnist_mlp_all test report: accuracy = 0.895, (0 secs)\n",
      "\n",
      "Model mnist_mlp_all Visualization\n",
      "정답 tensor([8, 2, 3]) vs. 추정 tensor([8, 8, 3])\n"
     ]
    },
    {
     "data": {
      "image/png": "[encoded data removed]",
      "text/plain": [
       "<Figure size 216x72 with 3 Axes>"
      ]
     },
     "metadata": {
      "needs_background": "light"
     },
     "output_type": "display_data"
    }
   ],
   "source": [
    "conf_mlp =[['full',{'width':10}]]\n",
    "mnist_mlp_all = RnnExtModel('mnist_mlp_all',mset_all,conf_mlp)\n",
    "mnist_mlp_all.exec_all(epoch_count = 10, report=2000)"
   ]
  },
  {
   "cell_type": "code",
   "execution_count": 67,
   "id": "54b06525",
   "metadata": {},
   "outputs": [
    {
     "name": "stdout",
     "output_type": "stream",
     "text": [
      "Model mnist_mlp_1p train started \n",
      "\n",
      "\n",
      "[[Linear(in_features=784, out_features=10, bias=True)]]\n",
      "!!!!!!!!!!!\n",
      "!! Layer !! .\n",
      "!!!!!!!!!!! \n",
      "\n",
      " Net(\n",
      "  (layer1): Sequential(\n",
      "    (0): Linear(in_features=784, out_features=10, bias=True)\n",
      "    (relu): ReLU()\n",
      "  )\n",
      ")\n",
      "\n",
      "!!!!!!!!!!!!!!!\n",
      "!! optimizer !! \n",
      "!!!!!!!!!!!!!!! \n",
      "\n",
      " Adam (\n",
      "Parameter Group 0\n",
      "    amsgrad: False\n",
      "    betas: (0.9, 0.999)\n",
      "    eps: 1e-08\n",
      "    lr: 0.001\n",
      "    weight_decay: 0\n",
      ")\n",
      "    Epoch 2: cost=2.133, accuracy=0.171/0.200 (1/1 secs)\n",
      "    Epoch 4: cost=2.059, accuracy=0.204/0.500 (0/1 secs)\n",
      "    Epoch 6: cost=1.995, accuracy=0.233/0.000 (1/2 secs)\n",
      "    Epoch 8: cost=2.005, accuracy=0.223/0.200 (1/3 secs)\n",
      "    Epoch 10: cost=2.134, accuracy=0.221/0.000 (1/4 secs)\n",
      "Model mnist_mlp_1p train ended in 4 secs:\n",
      "Model mnist_mlp_1p test report: accuracy = 0.187, (0 secs)\n",
      "\n",
      "Model mnist_mlp_1p Visualization\n",
      "정답 tensor([3, 9, 3]) vs. 추정 tensor([0, 0, 0])\n"
     ]
    },
    {
     "data": {
      "image/png": "[encoded data removed]",
      "text/plain": [
       "<Figure size 216x72 with 3 Axes>"
      ]
     },
     "metadata": {
      "needs_background": "light"
     },
     "output_type": "display_data"
    }
   ],
   "source": [
    "conf_mlp =[['full',{'width':10}]]\n",
    "mnist_mlp_1p = RnnExtModel('mnist_mlp_1p',mset_1p,conf_mlp)\n",
    "mnist_mlp_1p.exec_all(epoch_count = 10, report=2)"
   ]
  },
  {
   "cell_type": "code",
   "execution_count": 38,
   "id": "8cb542bb",
   "metadata": {
    "scrolled": false
   },
   "outputs": [
    {
     "name": "stdout",
     "output_type": "stream",
     "text": [
      "Model mnist_auto_1autoencode started:\n",
      "    Epoch 1: cost=2685.313, accuracy=-0.552/-0.552 (34/34 secs)\n",
      "    Epoch 2: cost=2268.578, accuracy=-0.437/-0.437 (34/68 secs)\n",
      "    Epoch 3: cost=2264.890, accuracy=-0.436/-0.436 (34/102 secs)\n",
      "    Epoch 4: cost=2263.452, accuracy=-0.436/-0.436 (35/137 secs)\n",
      "    Epoch 5: cost=2263.412, accuracy=-0.436/-0.436 (33/170 secs)\n",
      "    Epoch 6: cost=2263.240, accuracy=-0.436/-0.436 (38/208 secs)\n",
      "    Epoch 7: cost=2263.342, accuracy=-0.436/-0.436 (34/242 secs)\n",
      "    Epoch 8: cost=2263.160, accuracy=-0.436/-0.436 (34/276 secs)\n",
      "    Epoch 9: cost=2262.889, accuracy=-0.436/-0.436 (33/309 secs)\n",
      "    Epoch 10: cost=2263.006, accuracy=-0.436/-0.436 (34/343 secs)\n",
      "Model mnist_auto_1 autoencode ended in 343 secs :\n",
      "Model mnist_auto_1 train started \n",
      "\n",
      "\n",
      "[False, Linear(in_features=784, out_features=10, bias=True), Linear(in_features=10, out_features=10, bias=True)]\n",
      "!!!!!!!!!!!\n",
      "!! Layer !! .\n",
      "!!!!!!!!!!! \n",
      "\n",
      " Net(\n",
      "  (encoder): Linear(in_features=784, out_features=10, bias=True)\n",
      "  (fc): Linear(in_features=10, out_features=10, bias=True)\n",
      ")\n",
      "\n",
      "!!!!!!!!!!!!!!!\n",
      "!! optimizer !! \n",
      "!!!!!!!!!!!!!!! \n",
      "\n",
      " Adam (\n",
      "Parameter Group 0\n",
      "    amsgrad: False\n",
      "    betas: (0.9, 0.999)\n",
      "    eps: 1e-08\n",
      "    lr: 0.001\n",
      "    weight_decay: 0\n",
      ")\n",
      "    Epoch 1: cost=3.936, accuracy=0.373/0.800 (0/0 secs)\n",
      "    Epoch 2: cost=0.915, accuracy=0.740/0.600 (1/1 secs)\n",
      "    Epoch 3: cost=0.496, accuracy=0.833/0.800 (0/1 secs)\n",
      "    Epoch 4: cost=0.321, accuracy=0.902/0.600 (0/1 secs)\n",
      "    Epoch 5: cost=0.242, accuracy=0.915/0.800 (1/2 secs)\n",
      "    Epoch 6: cost=0.175, accuracy=0.960/1.000 (0/2 secs)\n",
      "    Epoch 7: cost=0.134, accuracy=0.946/0.800 (1/3 secs)\n",
      "    Epoch 8: cost=0.113, accuracy=0.956/0.800 (0/3 secs)\n",
      "    Epoch 9: cost=0.048, accuracy=0.994/0.700 (0/3 secs)\n",
      "    Epoch 10: cost=0.033, accuracy=0.994/0.900 (1/4 secs)\n",
      "Model mnist_auto_1 train ended in 4 secs:\n",
      "Model mnist_auto_1 test report: accuracy = 0.777, (0 secs)\n",
      "\n",
      "Model mnist_auto_1 Visualization\n",
      "정답 tensor([4, 1, 9]) vs. 추정 tensor([4, 1, 5])\n"
     ]
    },
    {
     "data": {
      "image/png": "[encoded data removed]",
      "text/plain": [
       "<Figure size 216x72 with 3 Axes>"
      ]
     },
     "metadata": {
      "needs_background": "light"
     },
     "output_type": "display_data"
    },
    {
     "data": {
      "image/png": "[encoded data removed]",
      "text/plain": [
       "<Figure size 216x72 with 3 Axes>"
      ]
     },
     "metadata": {
      "needs_background": "light"
     },
     "output_type": "display_data"
    }
   ],
   "source": [
    "conf_auto ={\n",
    "    'encoder':[['full',{'width':10}]],\n",
    "    'decoder':[['full',{'width':784}]],\n",
    "    'supervised':[['full',{'width':10}]]\n",
    "}\n",
    "\n",
    "mnist_auto_1 = Autoencoder('mnist_auto_1', mset_1p, conf_auto)\n",
    "mnist_auto_1.autoencode(epoch_count = 10, report=1)\n",
    "mnist_auto_1.exec_all(epoch_count=10, report=1)"
   ]
  },
  {
   "cell_type": "code",
   "execution_count": 75,
   "id": "668315da",
   "metadata": {},
   "outputs": [
    {
     "name": "stdout",
     "output_type": "stream",
     "text": [
      "Model mnist_auto_1autoencode started:\n",
      "    Epoch 1: cost=6344.467, accuracy=-1.395/-1.395 (52/52 secs)\n",
      "    Epoch 2: cost=5063.895, accuracy=-1.142/-1.142 (50/102 secs)\n",
      "    Epoch 3: cost=4543.315, accuracy=-1.031/-1.031 (47/149 secs)\n",
      "    Epoch 4: cost=4400.242, accuracy=-1.000/-1.000 (49/198 secs)\n",
      "    Epoch 5: cost=4356.927, accuracy=-0.991/-0.991 (45/243 secs)\n",
      "    Epoch 6: cost=4339.933, accuracy=-0.987/-0.987 (46/289 secs)\n",
      "    Epoch 7: cost=4326.044, accuracy=-0.984/-0.984 (46/335 secs)\n",
      "    Epoch 8: cost=4314.198, accuracy=-0.981/-0.981 (47/382 secs)\n",
      "    Epoch 9: cost=4299.545, accuracy=-0.978/-0.978 (46/428 secs)\n",
      "    Epoch 10: cost=4268.600, accuracy=-0.971/-0.971 (46/474 secs)\n",
      "Model mnist_auto_1 autoencode ended in 474 secs :\n",
      "Model mnist_auto_1 train started \n",
      "\n",
      "\n",
      "[False, Sequential(\n",
      "  (0): Linear(in_features=784, out_features=10, bias=True)\n",
      "  (sigmoid): Sigmoid()\n",
      "), Linear(in_features=10, out_features=10, bias=True)]\n",
      "!!!!!!!!!!!\n",
      "!! Layer !! .\n",
      "!!!!!!!!!!! \n",
      "\n",
      " Net(\n",
      "  (encoder): Sequential(\n",
      "    (0): Linear(in_features=784, out_features=10, bias=True)\n",
      "    (sigmoid): Sigmoid()\n",
      "  )\n",
      "  (fc): Linear(in_features=10, out_features=10, bias=True)\n",
      ")\n",
      "\n",
      "!!!!!!!!!!!!!!!\n",
      "!! optimizer !! \n",
      "!!!!!!!!!!!!!!! \n",
      "\n",
      " Adam (\n",
      "Parameter Group 0\n",
      "    amsgrad: False\n",
      "    betas: (0.9, 0.999)\n",
      "    eps: 1e-08\n",
      "    lr: 0.001\n",
      "    weight_decay: 0\n",
      ")\n",
      "    Epoch 1: cost=2.290, accuracy=0.119/0.400 (0/0 secs)\n",
      "    Epoch 2: cost=2.246, accuracy=0.273/0.300 (0/0 secs)\n",
      "    Epoch 3: cost=2.206, accuracy=0.360/0.700 (1/1 secs)\n",
      "    Epoch 4: cost=2.162, accuracy=0.385/0.200 (0/1 secs)\n",
      "    Epoch 5: cost=2.122, accuracy=0.340/0.100 (1/2 secs)\n",
      "    Epoch 6: cost=2.074, accuracy=0.419/0.600 (0/2 secs)\n",
      "    Epoch 7: cost=2.047, accuracy=0.387/0.400 (0/2 secs)\n",
      "    Epoch 8: cost=2.030, accuracy=0.329/0.300 (1/3 secs)\n",
      "    Epoch 9: cost=1.970, accuracy=0.392/0.200 (0/3 secs)\n",
      "    Epoch 10: cost=1.915, accuracy=0.517/0.200 (1/4 secs)\n",
      "Model mnist_auto_1 train ended in 4 secs:\n",
      "Model mnist_auto_1 test report: accuracy = 0.440, (0 secs)\n",
      "\n",
      "Model mnist_auto_1 Visualization\n",
      "정답 tensor([6, 3, 4]) vs. 추정 tensor([6, 3, 7])\n"
     ]
    },
    {
     "data": {
      "image/png": "[encoded data removed]",
      "text/plain": [
       "<Figure size 216x72 with 3 Axes>"
      ]
     },
     "metadata": {
      "needs_background": "light"
     },
     "output_type": "display_data"
    },
    {
     "data": {
      "image/png": "[encoded data removed]",
      "text/plain": [
       "<Figure size 216x72 with 3 Axes>"
      ]
     },
     "metadata": {
      "needs_background": "light"
     },
     "output_type": "display_data"
    }
   ],
   "source": [
    "conf_auto ={\n",
    "    'encoder':[['full',{'width':10}]],\n",
    "    'decoder':[['full',{'width':784}]],\n",
    "    'supervised':[['full',{'width':10}]]\n",
    "}\n",
    "\n",
    "mnist_auto_1 = Autoencoder('mnist_auto_1', mset_1p, conf_auto)\n",
    "mnist_auto_1.autoencode(epoch_count = 10, report=1, learning_rate = LEARNING_RATE)\n",
    "mnist_auto_1.exec_all(epoch_count=10, report=1,learning_rate = LEARNING_RATE)"
   ]
  },
  {
   "cell_type": "code",
   "execution_count": 70,
   "id": "1c120baa",
   "metadata": {},
   "outputs": [
    {
     "data": {
      "text/plain": [
       "Sigmoid()"
      ]
     },
     "execution_count": 70,
     "metadata": {},
     "output_type": "execute_result"
    }
   ],
   "source": [
    "nn.Sigmoid()"
   ]
  },
  {
   "cell_type": "code",
   "execution_count": null,
   "id": "6da1dafe",
   "metadata": {},
   "outputs": [],
   "source": []
  }
 ],
 "metadata": {
  "kernelspec": {
   "display_name": "Python 3 (ipykernel)",
   "language": "python",
   "name": "python3"
  },
  "language_info": {
   "codemirror_mode": {
    "name": "ipython",
    "version": 3
   },
   "file_extension": ".py",
   "mimetype": "text/x-python",
   "name": "python",
   "nbconvert_exporter": "python",
   "pygments_lexer": "ipython3",
   "version": "3.7.0"
  }
 },
 "nbformat": 4,
 "nbformat_minor": 5
}
