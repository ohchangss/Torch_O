{
 "cells": [
  {
   "cell_type": "code",
   "execution_count": null,
   "id": "7973617d",
   "metadata": {},
   "outputs": [],
   "source": [
    "BASE_DIR='../'*3\n",
    "REG_DIR = BASE_DIR + 'code/CNN/reg_model/cnn_reg_model.ipynb'\n",
    "FLW_DIR = BASE_DIR+'code/util/dataset/dataset_flowers.ipynb'\n",
    "OFC_DIR = BASE_DIR+'code/util/dataset/dataset_office31.ipynb'"
   ]
  },
  {
   "cell_type": "code",
   "execution_count": null,
   "id": "d8b66c73",
   "metadata": {},
   "outputs": [],
   "source": [
    "%run {REG_DIR}\n",
    "%run {FLW_DIR}\n",
    "%run {OFC_DIR}"
   ]
  },
  {
   "cell_type": "code",
   "execution_count": null,
   "id": "68ddf369",
   "metadata": {},
   "outputs": [],
   "source": [
    "fd = FlowersDataset([96, 96], [3, 96, 96])\n",
    "od = Office31Dataset([96, 96], [3,96, 96])"
   ]
  },
  {
   "cell_type": "code",
   "execution_count": null,
   "id": "b7074a11",
   "metadata": {},
   "outputs": [],
   "source": []
  },
  {
   "cell_type": "code",
   "execution_count": null,
   "id": "43501282",
   "metadata": {},
   "outputs": [],
   "source": []
  }
 ],
 "metadata": {
  "kernelspec": {
   "display_name": "Python 3",
   "language": "python",
   "name": "python3"
  },
  "language_info": {
   "codemirror_mode": {
    "name": "ipython",
    "version": 3
   },
   "file_extension": ".py",
   "mimetype": "text/x-python",
   "name": "python",
   "nbconvert_exporter": "python",
   "pygments_lexer": "ipython3",
   "version": "3.7.9"
  }
 },
 "nbformat": 4,
 "nbformat_minor": 5
}
