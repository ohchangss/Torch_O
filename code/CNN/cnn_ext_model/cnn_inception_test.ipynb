{
 "cells": [
  {
   "cell_type": "code",
   "execution_count": 1,
   "id": "6cf95ba9",
   "metadata": {},
   "outputs": [],
   "source": [
    "BASE_DIR = '../'*3\n",
    "DATASET_DIR = BASE_DIR+'code/util/dataset/dataset_dummy.ipynb'\n",
    "EXTMODEL_DIR = BASE_DIR + 'code/CNN/cnn_ext_model/ext_model.ipynb'"
   ]
  },
  {
   "cell_type": "code",
   "execution_count": 2,
   "id": "89020608",
   "metadata": {},
   "outputs": [
    {
     "name": "stdout",
     "output_type": "stream",
     "text": [
      "Using device: cpu\n",
      "Using PyTorch version: 1.9.0\n"
     ]
    }
   ],
   "source": [
    "%run {DATASET_DIR}\n",
    "%run {EXTMODEL_DIR}"
   ]
  },
  {
   "cell_type": "code",
   "execution_count": 3,
   "id": "b450326c",
   "metadata": {},
   "outputs": [
    {
     "name": "stdout",
     "output_type": "stream",
     "text": [
      "200\n"
     ]
    }
   ],
   "source": [
    "imagenet = DummyDataset('imagenet', 'select',[3,299,299],200)"
   ]
  },
  {
   "cell_type": "code",
   "execution_count": 4,
   "id": "9d0d02eb",
   "metadata": {},
   "outputs": [],
   "source": [
    "CnnExtModel.set_macro('v3_preproc', \n",
    "          ['serial',\n",
    "              ['conv',{'ksize':3,'stride':2,'chn':32, 'padding':'VALID'}],\n",
    "              ['conv',{'ksize':3,'chn':32, 'padding':'VALID'}],\n",
    "              ['conv',{'ksize':3,'chn':64, 'padding':'SAME'}],\n",
    "              ['max',{'ksize':3, 'stride':2, 'padding':'VALID'}],\n",
    "              ['conv',{'ksize':1,'chn':80,'padding':'VALID'}],\n",
    "              ['conv',{'ksize':3,'chn':192,'padding':'VALID'}],\n",
    "              ['max',{'ksize':3, 'stride':2,'padding':'VALID'}]\n",
    "          \n",
    "          ]\n",
    "                     )"
   ]
  },
  {
   "cell_type": "code",
   "execution_count": 5,
   "id": "c023e16c",
   "metadata": {},
   "outputs": [],
   "source": [
    "CnnExtModel.set_macro('v3_inception1',\n",
    "        ['parallel',\n",
    "            ['conv',{'ksize':1, 'chn':64}],\n",
    "         \n",
    "            ['serial',\n",
    "                ['conv',{'ksize':1,'chn':48}],\n",
    "                ['conv',{'ksize':5, 'chn':64}]],\n",
    "         \n",
    "            ['serial',\n",
    "                ['conv',{'ksize':1,'chn':64}],\n",
    "                 ['conv',{'ksize':3,'chn':96}],\n",
    "                 ['conv',{'ksize':3,'chn':96}]],\n",
    "         \n",
    "            ['serial',\n",
    "                ['avg',{'ksize':3,'stride':1}],\n",
    "                ['conv',{'ksize':1,'chn':'#chn'}]]\n",
    "        \n",
    "        ]\n",
    "                    \n",
    "                     )"
   ]
  },
  {
   "cell_type": "code",
   "execution_count": 6,
   "id": "c2b258dd",
   "metadata": {},
   "outputs": [],
   "source": [
    "CnnExtModel.set_macro('v3_resize1',\n",
    "            ['parallel',\n",
    "                ['conv',{'ksize':3,'stride':2,'chn':384}],\n",
    "                ['serial',\n",
    "                 ['conv',{'ksize':1,'chn':64}],\n",
    "                 ['conv',{'ksize':3,'chn':94}],\n",
    "                 ['conv',{'ksize':3,'stride':2,'chn':96}]],\n",
    "                ['max',{'ksize':3,'stride':2}]\n",
    "            \n",
    "            ]                     \n",
    "                    \n",
    "                     )"
   ]
  },
  {
   "cell_type": "code",
   "execution_count": 7,
   "id": "162490c7",
   "metadata": {},
   "outputs": [],
   "source": [
    "CnnExtModel.set_macro('v3_inception2',\n",
    "    ['parallel',\n",
    "        ['conv', {'ksize':1, 'chn':192}],\n",
    "        ['serial',\n",
    "            ['conv', {'ksize':[1,1], 'chn':'#chn'}],\n",
    "            ['conv', {'ksize':[1,7], 'chn':'#chn'}],\n",
    "            ['conv', {'ksize':[7,1], 'chn':192}]],\n",
    "        ['serial',\n",
    "            ['conv', {'ksize':[1,1], 'chn':'#chn'}],\n",
    "            ['conv', {'ksize':[7,1], 'chn':'#chn'}],\n",
    "            ['conv', {'ksize':[1,7], 'chn':'#chn'}],\n",
    "            ['conv', {'ksize':[7,1], 'chn':'#chn'}],\n",
    "            ['conv', {'ksize':[1,7], 'chn':192}]],\n",
    "        ['serial',\n",
    "            ['avg', {'ksize':3, 'stride':1}],\n",
    "            ['conv', {'ksize':1, 'chn':192}]]])"
   ]
  },
  {
   "cell_type": "code",
   "execution_count": 8,
   "id": "ba728566",
   "metadata": {},
   "outputs": [],
   "source": [
    "CnnExtModel.set_macro('v3_resize2',\n",
    "    ['parallel',\n",
    "        ['serial',\n",
    "            ['conv', {'ksize':1, 'chn':192}],\n",
    "            ['conv', {'ksize':3, 'stride':2, 'chn':320}]],\n",
    "        ['serial',\n",
    "            ['conv', {'ksize':[1,1], 'chn':192}],\n",
    "            ['conv', {'ksize':[1,7], 'chn':192}],\n",
    "            ['conv', {'ksize':[7,1], 'chn':192}],\n",
    "            ['conv', {'ksize':[3,3], 'stride':[2,2], 'chn':192}]],\n",
    "        ['max', {'ksize':3, 'stride':2}]])"
   ]
  },
  {
   "cell_type": "code",
   "execution_count": 9,
   "id": "efa2da41",
   "metadata": {},
   "outputs": [],
   "source": [
    "CnnExtModel.set_macro('v3_inception3',\n",
    "    ['parallel',\n",
    "        ['conv', {'ksize':1, 'chn':320}],\n",
    "        ['serial',\n",
    "            ['conv', {'ksize':[3,3], 'chn':384}],\n",
    "            ['parallel',\n",
    "                ['conv', {'ksize':[1,3], 'chn':384}],\n",
    "                ['conv', {'ksize':[3,1], 'chn':384}]]],\n",
    "        ['serial',\n",
    "            ['conv', {'ksize':[1,1], 'chn':448}],\n",
    "            ['conv', {'ksize':[3,3], 'chn':384}],\n",
    "            ['parallel',\n",
    "                ['conv', {'ksize':[1,3], 'chn':384}],\n",
    "                ['conv', {'ksize':[3,1], 'chn':384}]]],\n",
    "        ['serial',\n",
    "            ['avg', {'ksize':3, 'stride':1}],\n",
    "            ['conv', {'ksize':1, 'chn':192}]]])"
   ]
  },
  {
   "cell_type": "code",
   "execution_count": 10,
   "id": "87c283bc",
   "metadata": {},
   "outputs": [],
   "source": [
    "CnnExtModel.set_macro('v3_postproc',\n",
    "    ['serial',\n",
    "        ['avg', {'stride':8}],\n",
    "        ['dropout', {'keep_prob':0.7}]])"
   ]
  },
  {
   "cell_type": "code",
   "execution_count": 11,
   "id": "df670d92",
   "metadata": {},
   "outputs": [],
   "source": [
    "CnnExtModel.set_macro('inception_v3',\n",
    "    ['serial',\n",
    "        ['custom', {'name':'v3_preproc'}],\n",
    "        ['custom', {'name':'v3_inception1', 'args':{'#chn':32}}],\n",
    "        ['custom', {'name':'v3_inception1', 'args':{'#chn':64}}],\n",
    "        ['custom', {'name':'v3_inception1', 'args':{'#chn':64}}],\n",
    "        ['custom', {'name':'v3_resize1'}],\n",
    "        ['custom', {'name':'v3_inception2', 'args':{'#chn':128}}],\n",
    "        ['custom', {'name':'v3_inception2', 'args':{'#chn':160}}],\n",
    "        ['custom', {'name':'v3_inception2', 'args':{'#chn':160}}],\n",
    "        ['custom', {'name':'v3_inception2', 'args':{'#chn':192}}],\n",
    "        ['custom', {'name':'v3_resize2'}],\n",
    "        ['custom', {'name':'v3_inception3'}],\n",
    "        ['custom', {'name':'v3_inception3'}],\n",
    "        ['custom', {'name':'v3_postproc'}]])"
   ]
  },
  {
   "cell_type": "code",
   "execution_count": 12,
   "id": "edf13eb0",
   "metadata": {},
   "outputs": [
    {
     "name": "stdout",
     "output_type": "stream",
     "text": [
      "custom inception_v3\n",
      "  serial\n",
      "    custom v3_preproc\n",
      "      serial\n",
      "        1: conv, [3, 299, 299]=>[32, 148, 148]pm : 32x3x3x3+32 = 896\n",
      "        2: conv, [32, 148, 148]=>[32, 146, 146]pm : 32x32x3x3+32 = 9248\n",
      "        3: conv, [32, 146, 146]=>[64, 146, 146]pm : 64x32x3x3+64 = 18496\n",
      "        4: max, [64, 146, 146]=>[64, 72, 72]\n",
      "        5: conv, [64, 72, 72]=>[80, 72, 72]pm : 80x64x1x1+80 = 5200\n",
      "        6: conv, [80, 72, 72]=>[192, 70, 70]pm : 192x80x3x3+192 = 138432\n",
      "        7: max, [192, 70, 70]=>[192, 34, 34]\n",
      "    custom v3_inception1\n",
      "      parallel\n",
      "        8: conv, [192, 34, 34]=>[64, 34, 34]pm : 64x192x1x1+64 = 12352\n",
      "        serial\n",
      "          9: conv, [192, 34, 34]=>[48, 34, 34]pm : 48x192x1x1+48 = 9264\n",
      "          10: conv, [48, 34, 34]=>[64, 34, 34]pm : 64x48x5x5+64 = 76864\n",
      "        serial\n",
      "          11: conv, [192, 34, 34]=>[64, 34, 34]pm : 64x192x1x1+64 = 12352\n",
      "          12: conv, [64, 34, 34]=>[96, 34, 34]pm : 96x64x3x3+96 = 55392\n",
      "          13: conv, [96, 34, 34]=>[96, 34, 34]pm : 96x96x3x3+96 = 83040\n",
      "        serial\n",
      "          14: avg, [192, 34, 34]=>[192, 34, 34]\n",
      "          15: conv, [192, 34, 34]=>[32, 34, 34]pm : 32x192x1x1+32 = 6176\n",
      "    custom v3_inception1\n",
      "      parallel\n",
      "        16: conv, [256, 34, 34]=>[64, 34, 34]pm : 64x256x1x1+64 = 16448\n",
      "        serial\n",
      "          17: conv, [256, 34, 34]=>[48, 34, 34]pm : 48x256x1x1+48 = 12336\n",
      "          18: conv, [48, 34, 34]=>[64, 34, 34]pm : 64x48x5x5+64 = 76864\n",
      "        serial\n",
      "          19: conv, [256, 34, 34]=>[64, 34, 34]pm : 64x256x1x1+64 = 16448\n",
      "          20: conv, [64, 34, 34]=>[96, 34, 34]pm : 96x64x3x3+96 = 55392\n",
      "          21: conv, [96, 34, 34]=>[96, 34, 34]pm : 96x96x3x3+96 = 83040\n",
      "        serial\n",
      "          22: avg, [256, 34, 34]=>[256, 34, 34]\n",
      "          23: conv, [256, 34, 34]=>[64, 34, 34]pm : 64x256x1x1+64 = 16448\n",
      "    custom v3_inception1\n",
      "      parallel\n",
      "        24: conv, [288, 34, 34]=>[64, 34, 34]pm : 64x288x1x1+64 = 18496\n",
      "        serial\n",
      "          25: conv, [288, 34, 34]=>[48, 34, 34]pm : 48x288x1x1+48 = 13872\n",
      "          26: conv, [48, 34, 34]=>[64, 34, 34]pm : 64x48x5x5+64 = 76864\n",
      "        serial\n",
      "          27: conv, [288, 34, 34]=>[64, 34, 34]pm : 64x288x1x1+64 = 18496\n",
      "          28: conv, [64, 34, 34]=>[96, 34, 34]pm : 96x64x3x3+96 = 55392\n",
      "          29: conv, [96, 34, 34]=>[96, 34, 34]pm : 96x96x3x3+96 = 83040\n",
      "        serial\n",
      "          30: avg, [288, 34, 34]=>[288, 34, 34]\n",
      "          31: conv, [288, 34, 34]=>[64, 34, 34]pm : 64x288x1x1+64 = 18496\n",
      "    custom v3_resize1\n",
      "      parallel\n",
      "        32: conv, [288, 34, 34]=>[384, 17, 17]pm : 384x288x3x3+384 = 995712\n",
      "        serial\n",
      "          33: conv, [288, 34, 34]=>[64, 34, 34]pm : 64x288x1x1+64 = 18496\n",
      "          34: conv, [64, 34, 34]=>[94, 34, 34]pm : 94x64x3x3+94 = 54238\n",
      "          35: conv, [94, 34, 34]=>[96, 17, 17]pm : 96x94x3x3+96 = 81312\n",
      "        36: max, [288, 34, 34]=>[288, 17, 17]\n",
      "    custom v3_inception2\n",
      "      parallel\n",
      "        37: conv, [768, 17, 17]=>[192, 17, 17]pm : 192x768x1x1+192 = 147648\n",
      "        serial\n",
      "          38: conv, [768, 17, 17]=>[128, 17, 17]pm : 128x768x1x1+128 = 98432\n",
      "          39: conv, [128, 17, 17]=>[128, 17, 17]pm : 128x128x1x7+128 = 114816\n",
      "          40: conv, [128, 17, 17]=>[192, 17, 17]pm : 192x128x7x1+192 = 172224\n",
      "        serial\n",
      "          41: conv, [768, 17, 17]=>[128, 17, 17]pm : 128x768x1x1+128 = 98432\n",
      "          42: conv, [128, 17, 17]=>[128, 17, 17]pm : 128x128x7x1+128 = 114816\n",
      "          43: conv, [128, 17, 17]=>[128, 17, 17]pm : 128x128x1x7+128 = 114816\n",
      "          44: conv, [128, 17, 17]=>[128, 17, 17]pm : 128x128x7x1+128 = 114816\n",
      "          45: conv, [128, 17, 17]=>[192, 17, 17]pm : 192x128x1x7+192 = 172224\n",
      "        serial\n",
      "          46: avg, [768, 17, 17]=>[768, 17, 17]\n",
      "          47: conv, [768, 17, 17]=>[192, 17, 17]pm : 192x768x1x1+192 = 147648\n",
      "    custom v3_inception2\n",
      "      parallel\n",
      "        48: conv, [768, 17, 17]=>[192, 17, 17]pm : 192x768x1x1+192 = 147648\n",
      "        serial\n",
      "          49: conv, [768, 17, 17]=>[160, 17, 17]pm : 160x768x1x1+160 = 123040\n",
      "          50: conv, [160, 17, 17]=>[160, 17, 17]pm : 160x160x1x7+160 = 179360\n",
      "          51: conv, [160, 17, 17]=>[192, 17, 17]pm : 192x160x7x1+192 = 215232\n",
      "        serial\n",
      "          52: conv, [768, 17, 17]=>[160, 17, 17]pm : 160x768x1x1+160 = 123040\n",
      "          53: conv, [160, 17, 17]=>[160, 17, 17]pm : 160x160x7x1+160 = 179360\n",
      "          54: conv, [160, 17, 17]=>[160, 17, 17]pm : 160x160x1x7+160 = 179360\n",
      "          55: conv, [160, 17, 17]=>[160, 17, 17]pm : 160x160x7x1+160 = 179360\n",
      "          56: conv, [160, 17, 17]=>[192, 17, 17]pm : 192x160x1x7+192 = 215232\n",
      "        serial\n",
      "          57: avg, [768, 17, 17]=>[768, 17, 17]\n",
      "          58: conv, [768, 17, 17]=>[192, 17, 17]pm : 192x768x1x1+192 = 147648\n",
      "    custom v3_inception2\n",
      "      parallel\n",
      "        59: conv, [768, 17, 17]=>[192, 17, 17]pm : 192x768x1x1+192 = 147648\n",
      "        serial\n",
      "          60: conv, [768, 17, 17]=>[160, 17, 17]pm : 160x768x1x1+160 = 123040\n",
      "          61: conv, [160, 17, 17]=>[160, 17, 17]pm : 160x160x1x7+160 = 179360\n",
      "          62: conv, [160, 17, 17]=>[192, 17, 17]pm : 192x160x7x1+192 = 215232\n",
      "        serial\n",
      "          63: conv, [768, 17, 17]=>[160, 17, 17]pm : 160x768x1x1+160 = 123040\n",
      "          64: conv, [160, 17, 17]=>[160, 17, 17]pm : 160x160x7x1+160 = 179360\n",
      "          65: conv, [160, 17, 17]=>[160, 17, 17]pm : 160x160x1x7+160 = 179360\n",
      "          66: conv, [160, 17, 17]=>[160, 17, 17]pm : 160x160x7x1+160 = 179360\n",
      "          67: conv, [160, 17, 17]=>[192, 17, 17]pm : 192x160x1x7+192 = 215232\n",
      "        serial\n",
      "          68: avg, [768, 17, 17]=>[768, 17, 17]\n",
      "          69: conv, [768, 17, 17]=>[192, 17, 17]pm : 192x768x1x1+192 = 147648\n",
      "    custom v3_inception2\n",
      "      parallel\n",
      "        70: conv, [768, 17, 17]=>[192, 17, 17]pm : 192x768x1x1+192 = 147648\n",
      "        serial\n",
      "          71: conv, [768, 17, 17]=>[192, 17, 17]pm : 192x768x1x1+192 = 147648\n",
      "          72: conv, [192, 17, 17]=>[192, 17, 17]pm : 192x192x1x7+192 = 258240\n",
      "          73: conv, [192, 17, 17]=>[192, 17, 17]pm : 192x192x7x1+192 = 258240\n",
      "        serial\n",
      "          74: conv, [768, 17, 17]=>[192, 17, 17]pm : 192x768x1x1+192 = 147648\n",
      "          75: conv, [192, 17, 17]=>[192, 17, 17]pm : 192x192x7x1+192 = 258240\n",
      "          76: conv, [192, 17, 17]=>[192, 17, 17]pm : 192x192x1x7+192 = 258240\n",
      "          77: conv, [192, 17, 17]=>[192, 17, 17]pm : 192x192x7x1+192 = 258240\n",
      "          78: conv, [192, 17, 17]=>[192, 17, 17]pm : 192x192x1x7+192 = 258240\n",
      "        serial\n",
      "          79: avg, [768, 17, 17]=>[768, 17, 17]\n",
      "          80: conv, [768, 17, 17]=>[192, 17, 17]pm : 192x768x1x1+192 = 147648\n",
      "    custom v3_resize2\n",
      "      parallel\n",
      "        serial\n",
      "          81: conv, [768, 17, 17]=>[192, 17, 17]pm : 192x768x1x1+192 = 147648\n",
      "          82: conv, [192, 17, 17]=>[320, 8, 8]pm : 320x192x3x3+320 = 553280\n",
      "        serial\n",
      "          83: conv, [768, 17, 17]=>[192, 17, 17]pm : 192x768x1x1+192 = 147648\n",
      "          84: conv, [192, 17, 17]=>[192, 17, 17]pm : 192x192x1x7+192 = 258240\n",
      "          85: conv, [192, 17, 17]=>[192, 17, 17]pm : 192x192x7x1+192 = 258240\n",
      "          86: conv, [192, 17, 17]=>[192, 8, 8]pm : 192x192x3x3+192 = 331968\n",
      "        87: max, [768, 17, 17]=>[768, 8, 8]\n",
      "    custom v3_inception3\n",
      "      parallel\n",
      "        88: conv, [1280, 8, 8]=>[320, 8, 8]pm : 320x1280x1x1+320 = 409920\n",
      "        serial\n",
      "          89: conv, [1280, 8, 8]=>[384, 8, 8]pm : 384x1280x3x3+384 = 4424064\n",
      "          parallel\n",
      "            90: conv, [384, 8, 8]=>[384, 8, 8]pm : 384x384x1x3+384 = 442752\n",
      "            91: conv, [384, 8, 8]=>[384, 8, 8]pm : 384x384x3x1+384 = 442752\n",
      "        serial\n",
      "          92: conv, [1280, 8, 8]=>[448, 8, 8]pm : 448x1280x1x1+448 = 573888\n",
      "          93: conv, [448, 8, 8]=>[384, 8, 8]pm : 384x448x3x3+384 = 1548672\n",
      "          parallel\n",
      "            94: conv, [384, 8, 8]=>[384, 8, 8]pm : 384x384x1x3+384 = 442752\n",
      "            95: conv, [384, 8, 8]=>[384, 8, 8]pm : 384x384x3x1+384 = 442752\n",
      "        serial\n",
      "          96: avg, [1280, 8, 8]=>[1280, 8, 8]\n",
      "          97: conv, [1280, 8, 8]=>[192, 8, 8]pm : 192x1280x1x1+192 = 245952\n",
      "    custom v3_inception3\n",
      "      parallel\n",
      "        98: conv, [2048, 8, 8]=>[320, 8, 8]pm : 320x2048x1x1+320 = 655680\n",
      "        serial\n",
      "          99: conv, [2048, 8, 8]=>[384, 8, 8]pm : 384x2048x3x3+384 = 7078272\n",
      "          parallel\n",
      "            100: conv, [384, 8, 8]=>[384, 8, 8]pm : 384x384x1x3+384 = 442752\n",
      "            101: conv, [384, 8, 8]=>[384, 8, 8]pm : 384x384x3x1+384 = 442752\n",
      "        serial\n",
      "          102: conv, [2048, 8, 8]=>[448, 8, 8]pm : 448x2048x1x1+448 = 917952\n"
     ]
    },
    {
     "name": "stdout",
     "output_type": "stream",
     "text": [
      "          103: conv, [448, 8, 8]=>[384, 8, 8]pm : 384x448x3x3+384 = 1548672\n",
      "          parallel\n",
      "            104: conv, [384, 8, 8]=>[384, 8, 8]pm : 384x384x1x3+384 = 442752\n",
      "            105: conv, [384, 8, 8]=>[384, 8, 8]pm : 384x384x3x1+384 = 442752\n",
      "        serial\n",
      "          106: avg, [2048, 8, 8]=>[2048, 8, 8]\n",
      "          107: conv, [2048, 8, 8]=>[192, 8, 8]pm : 192x2048x1x1+192 = 393408\n",
      "    custom v3_postproc\n",
      "      serial\n",
      "        108: avg, [2048, 8, 8]=>[2048, 1, 1]\n",
      "        109: dropout, [2048, 1, 1]=>[2048, 1, 1]\n",
      "110: full, [2048, 1, 1]=>[200]pm :200x2048+200=409800\n",
      "Total parameter count : 32398886\n"
     ]
    }
   ],
   "source": [
    "inception_v3 = CnnExtModel('inception_v3', imagenet,\n",
    "                   [['custom', {'name':'inception_v3'}]], dump_structure=True)"
   ]
  },
  {
   "cell_type": "code",
   "execution_count": 26,
   "id": "3af7870d",
   "metadata": {},
   "outputs": [
    {
     "data": {
      "text/plain": [
       "4"
      ]
     },
     "execution_count": 26,
     "metadata": {},
     "output_type": "execute_result"
    }
   ],
   "source": [
    "#'1. 최초 블럭하나가 와서 모듈이 4개면 총 4개로 리스트에 다긴다.\n",
    "name = 'v3_inception3_11'\n",
    "\n",
    "class tmp(nn.Module):\n",
    "    def __init__(self, pm_hidden, block_name, idx):\n",
    "        \n",
    "        setattr(self, block_name, nn.Sequential())\n",
    "                \n",
    "        block=[]\n",
    "#         self.add_module()\n",
    "        for name, module in pm_hidden.named_children():\n",
    "            if not isinstance(module, nn.Sequential):\n",
    "                block.append((name, module))\n",
    "\n",
    "            \n",
    "            else:\n",
    "                \n",
    "                for node, module_node in list(module.named_modules())[1:]:\n",
    "                    node = node.replace('.','_')\n",
    "                    setattr(self, node, module_node)\n",
    "                \n",
    "        method=getattr(self, block_name)\n",
    "        method(*block)\n",
    "\n",
    "\n",
    "\n",
    "    def forward(self,x):\n",
    "        \n",
    "    \n",
    "#'2. 4개의 블럭을 named모듈로 검사하여 palalell이라는 단어가 있으면\n",
    "#'3. 다시 리스트에 담에서 병렬처리를 하게 한다.\n",
    "\n",
    "# inception_v3.modules[10]."
   ]
  },
  {
   "cell_type": "code",
   "execution_count": 175,
   "id": "fb3ddad9",
   "metadata": {},
   "outputs": [
    {
     "ename": "AttributeError",
     "evalue": "'str' object has no attribute 'i'",
     "output_type": "error",
     "traceback": [
      "\u001b[1;31m---------------------------------------------------------------------------\u001b[0m",
      "\u001b[1;31mAttributeError\u001b[0m                            Traceback (most recent call last)",
      "\u001b[1;32m~\\AppData\\Local\\Temp/ipykernel_900/3100832284.py\u001b[0m in \u001b[0;36m<module>\u001b[1;34m\u001b[0m\n\u001b[1;32m----> 1\u001b[1;33m \u001b[0mi\u001b[0m\u001b[1;33m.\u001b[0m\u001b[0mi\u001b[0m\u001b[1;33m=\u001b[0m\u001b[1;36m1\u001b[0m\u001b[1;33m\u001b[0m\u001b[0m\n\u001b[0m",
      "\u001b[1;31mAttributeError\u001b[0m: 'str' object has no attribute 'i'"
     ]
    }
   ],
   "source": [
    "i.i=1"
   ]
  },
  {
   "cell_type": "code",
   "execution_count": 167,
   "id": "6022a3a4",
   "metadata": {},
   "outputs": [
    {
     "data": {
      "text/plain": [
       "Conv2d(1280, 384, kernel_size=(3, 3), stride=(1, 1), padding=same)"
      ]
     },
     "execution_count": 167,
     "metadata": {},
     "output_type": "execute_result"
    }
   ],
   "source": [
    "inception_v3.modules[10].parallel_91.serial_89"
   ]
  },
  {
   "cell_type": "code",
   "execution_count": 176,
   "id": "912a18c8",
   "metadata": {},
   "outputs": [
    {
     "name": "stdout",
     "output_type": "stream",
     "text": [
      "\n"
     ]
    }
   ],
   "source": [
    "for name, i in inception_v3.modules[10].named_modules():\n",
    "    print(name)\n",
    "    break"
   ]
  },
  {
   "cell_type": "code",
   "execution_count": 174,
   "id": "f4609cb1",
   "metadata": {},
   "outputs": [
    {
     "data": {
      "text/plain": [
       "Sequential(\n",
       "  (parallel_88): Conv2d(1280, 320, kernel_size=(1, 1), stride=(1, 1), padding=same)\n",
       "  (parallel_91): Sequential(\n",
       "    (serial_89): Conv2d(1280, 384, kernel_size=(3, 3), stride=(1, 1), padding=same)\n",
       "    (serial_91): Sequential(\n",
       "      (parallel_90): Conv2d(384, 384, kernel_size=(1, 3), stride=(1, 1), padding=same)\n",
       "      (parallel_91): Conv2d(384, 384, kernel_size=(3, 1), stride=(1, 1), padding=same)\n",
       "    )\n",
       "  )\n",
       "  (parallel_95): Sequential(\n",
       "    (serial_92): Conv2d(1280, 448, kernel_size=(1, 1), stride=(1, 1), padding=same)\n",
       "    (serial_93): Conv2d(448, 384, kernel_size=(3, 3), stride=(1, 1), padding=same)\n",
       "    (serial_95): Sequential(\n",
       "      (parallel_94): Conv2d(384, 384, kernel_size=(1, 3), stride=(1, 1), padding=same)\n",
       "      (parallel_95): Conv2d(384, 384, kernel_size=(3, 1), stride=(1, 1), padding=same)\n",
       "    )\n",
       "  )\n",
       "  (parallel_97): Sequential(\n",
       "    (serial_96): AvgPool2d(kernel_size=(1, 1), stride=(1, 1), padding=0)\n",
       "    (serial_97): Conv2d(1280, 192, kernel_size=(1, 1), stride=(1, 1), padding=same)\n",
       "  )\n",
       ")"
      ]
     },
     "execution_count": 174,
     "metadata": {},
     "output_type": "execute_result"
    }
   ],
   "source": [
    "inception_v3.modules[10]"
   ]
  },
  {
   "cell_type": "code",
   "execution_count": 179,
   "id": "c269661f",
   "metadata": {},
   "outputs": [
    {
     "name": "stdout",
     "output_type": "stream",
     "text": [
      "serial_89\n",
      "serial_91\n",
      "serial_91.parallel_90\n",
      "serial_91.parallel_91\n"
     ]
    }
   ],
   "source": [
    "for name, module in inception_v3.modules[10].named_children():\n",
    "    if name == 'parallel_91':\n",
    "        \n",
    "        \n",
    "        \n",
    "        for i,j in list(module.named_modules())[1:]:\n",
    "            print(i)\n",
    "#             break\n",
    "\n",
    "        \n",
    "#         modul\n",
    "# #         module[0]\n",
    "# #         print(list(module.state_dict()))\n",
    "# #         a=list(map(lambda x : len(x.split('.')), list(module.state_dict())))\n",
    "#         b=list(map(lambda x : x.split('.')[:-1], list(module.state_dict())))\n",
    "#         tmp = []\n",
    "#         for i in b:\n",
    "#             chck = None\n",
    "#             if chck == i :\n",
    "#                 pass\n",
    "#             else:\n",
    "#                 getattr(modul)\n",
    "            \n",
    "#             print(i)\n",
    "#         print(max(a))\n",
    "\n",
    "#         print(list(module.modules()))"
   ]
  },
  {
   "cell_type": "code",
   "execution_count": 182,
   "id": "17ad6090",
   "metadata": {},
   "outputs": [
    {
     "data": {
      "text/plain": [
       "'serial_89'"
      ]
     },
     "execution_count": 182,
     "metadata": {},
     "output_type": "execute_result"
    }
   ],
   "source": [
    "'serial_89'.replace('.','_')\n",
    "# 'serial_91.parallel_90'.replace('.','_')"
   ]
  },
  {
   "cell_type": "code",
   "execution_count": 141,
   "id": "c3e86e11",
   "metadata": {},
   "outputs": [
    {
     "ename": "TypeError",
     "evalue": "cannot unpack non-iterable Conv2d object",
     "output_type": "error",
     "traceback": [
      "\u001b[1;31m---------------------------------------------------------------------------\u001b[0m",
      "\u001b[1;31mTypeError\u001b[0m                                 Traceback (most recent call last)",
      "\u001b[1;32m~\\AppData\\Local\\Temp/ipykernel_900/4282651337.py\u001b[0m in \u001b[0;36m<module>\u001b[1;34m\u001b[0m\n\u001b[1;32m----> 1\u001b[1;33m \u001b[1;32mfor\u001b[0m \u001b[0mname\u001b[0m\u001b[1;33m,\u001b[0m \u001b[0mmodules\u001b[0m \u001b[1;32min\u001b[0m \u001b[0mlist\u001b[0m\u001b[1;33m(\u001b[0m\u001b[0minception_v3\u001b[0m\u001b[1;33m.\u001b[0m\u001b[0mmodules\u001b[0m\u001b[1;33m[\u001b[0m\u001b[1;36m10\u001b[0m\u001b[1;33m]\u001b[0m\u001b[1;33m)\u001b[0m\u001b[1;33m:\u001b[0m\u001b[1;33m\u001b[0m\u001b[0m\n\u001b[0m\u001b[0;32m      2\u001b[0m     \u001b[0mprint\u001b[0m\u001b[1;33m(\u001b[0m\u001b[0mname\u001b[0m\u001b[1;33m)\u001b[0m\u001b[1;33m\u001b[0m\u001b[0m\n",
      "\u001b[1;31mTypeError\u001b[0m: cannot unpack non-iterable Conv2d object"
     ]
    }
   ],
   "source": [
    "for name, modules in list(inception_v3.modules[10]):\n",
    "    print(name)"
   ]
  },
  {
   "cell_type": "code",
   "execution_count": 399,
   "id": "cea77740",
   "metadata": {},
   "outputs": [
    {
     "name": "stdout",
     "output_type": "stream",
     "text": [
      "Sequential(\n",
      "  (serial_0): Conv2d(1280, 384, kernel_size=(3, 3), stride=(1, 1), padding=same)\n",
      "  (serial_1): Sequential(\n",
      "    (parallel_0): Conv2d(384, 384, kernel_size=(1, 3), stride=(1, 1), padding=same)\n",
      "    (parallel_1): Conv2d(384, 384, kernel_size=(3, 1), stride=(1, 1), padding=same)\n",
      "  )\n",
      ")\n",
      "Conv2d(1280, 384, kernel_size=(3, 3), stride=(1, 1), padding=same)\n",
      "Sequential(\n",
      "  (parallel_0): Conv2d(384, 384, kernel_size=(1, 3), stride=(1, 1), padding=same)\n",
      "  (parallel_1): Conv2d(384, 384, kernel_size=(3, 1), stride=(1, 1), padding=same)\n",
      ")\n",
      "Conv2d(384, 384, kernel_size=(1, 3), stride=(1, 1), padding=same)\n",
      "Conv2d(384, 384, kernel_size=(3, 1), stride=(1, 1), padding=same)\n"
     ]
    }
   ],
   "source": [
    "for i in range(len(list(inception_v3.modules[10]))):\n",
    "#     print(list(inception_v3.modules[10])[i])\n",
    "    \n",
    "    if isinstance(list(inception_v3.modules[10])[i],nn.Sequential):\n",
    "        for j,f in list(inception_v3.modules[10])[i].named_modules():\n",
    "            print(f)\n",
    "    \n",
    "    \n",
    "    \n",
    "#     for j in list(inception_v3.modules[10])[i]\n",
    "    if i == 1:\n",
    "        break\n",
    "#     for j in [list(inception_v3.modules[10])[i]]:\n",
    "#         print(j)"
   ]
  },
  {
   "cell_type": "code",
   "execution_count": 385,
   "id": "7db56e71",
   "metadata": {},
   "outputs": [
    {
     "name": "stdout",
     "output_type": "stream",
     "text": [
      "Conv2d(1280, 384, kernel_size=(3, 3), stride=(1, 1), padding=same)\n",
      "Conv2d(1280, 448, kernel_size=(1, 1), stride=(1, 1), padding=same)\n",
      "AvgPool2d(kernel_size=(1, 1), stride=(1, 1), padding=0)\n"
     ]
    }
   ],
   "source": [
    "a=1\n",
    "for i in list(inception_v3.modules[10]):\n",
    "    if isinstance(i, nn.Sequential):\n",
    "        for j in i :\n",
    "            print(j)\n",
    "            a+=1\n",
    "            if a == 2 :\n",
    "                break\n",
    "            break"
   ]
  },
  {
   "cell_type": "code",
   "execution_count": 241,
   "id": "5bba1d6f",
   "metadata": {},
   "outputs": [
    {
     "name": "stdout",
     "output_type": "stream",
     "text": [
      "parallel\n",
      "{}\n",
      "['conv', {'ksize': 1, 'chn': 320}]\n",
      "['serial', {}, ['conv', {'ksize': [3, 3], 'chn': 384}], ['parallel', {}, ['conv', {'ksize': [1, 3], 'chn': 384}], ['conv', {'ksize': [3, 1], 'chn': 384}]]]\n",
      "['serial', {}, ['conv', {'ksize': [1, 1], 'chn': 448}], ['conv', {'ksize': [3, 3], 'chn': 384}], ['parallel', {}, ['conv', {'ksize': [1, 3], 'chn': 384}], ['conv', {'ksize': [3, 1], 'chn': 384}]]]\n",
      "['serial', {}, ['avg', {'ksize': 3, 'stride': 1}], ['conv', {'ksize': 1, 'chn': 192}]]\n"
     ]
    }
   ],
   "source": [
    "for name in inception_v3.macro[10]:\n",
    "    print(name)\n",
    "#     break"
   ]
  },
  {
   "cell_type": "code",
   "execution_count": 107,
   "id": "117df8e0",
   "metadata": {},
   "outputs": [
    {
     "name": "stdout",
     "output_type": "stream",
     "text": [
      "Conv2d(192, 64, kernel_size=(1, 1), stride=(1, 1), padding=same) 1\n",
      "Sequential(\n",
      "  (serial_0): Conv2d(192, 48, kernel_size=(1, 1), stride=(1, 1), padding=same)\n",
      "  (serial_1): Conv2d(48, 64, kernel_size=(5, 5), stride=(1, 1), padding=same)\n",
      ") 2\n",
      "Sequential(\n",
      "  (serial_0): Conv2d(192, 64, kernel_size=(1, 1), stride=(1, 1), padding=same)\n",
      "  (serial_1): Conv2d(64, 96, kernel_size=(3, 3), stride=(1, 1), padding=same)\n",
      "  (serial_2): Conv2d(96, 96, kernel_size=(3, 3), stride=(1, 1), padding=same)\n",
      ") 3\n",
      "Sequential(\n",
      "  (serial_0): AvgPool2d(kernel_size=(1, 1), stride=(1, 1), padding=0)\n",
      "  (serial_1): Conv2d(192, 32, kernel_size=(1, 1), stride=(1, 1), padding=same)\n",
      ") 4\n"
     ]
    }
   ],
   "source": [
    "a=1\n",
    "for i in inception_v3.modules[1].children():\n",
    "    print(i,a)\n",
    "    a+=1\n",
    "#     break"
   ]
  },
  {
   "cell_type": "code",
   "execution_count": null,
   "id": "b6e65f72",
   "metadata": {},
   "outputs": [],
   "source": [
    "class Parallel(nn.Module):\n",
    "    def __init__(self, layer):\n",
    "        super(Parallel, self).__init__()\n",
    "        \n",
    "        setattr(self, self.name, nn.Sequential(*layer))\n",
    "        \n",
    "        \n",
    "    def forward(self,x):\n",
    "        out = []\n",
    "        for moduls in self.name.children():\n",
    "            out.append(moduls(x))\n",
    "#         out1 = self.layer1\n",
    "            cat=torch.cat(out,dim=0)\n",
    "        \n",
    "        return cat"
   ]
  },
  {
   "cell_type": "code",
   "execution_count": 173,
   "id": "ce26d560",
   "metadata": {},
   "outputs": [
    {
     "data": {
      "text/plain": [
       "'Sequential'"
      ]
     },
     "execution_count": 173,
     "metadata": {},
     "output_type": "execute_result"
    }
   ],
   "source": [
    "inception_v3.modules[10]."
   ]
  },
  {
   "cell_type": "code",
   "execution_count": 171,
   "id": "ad8543ab",
   "metadata": {},
   "outputs": [
    {
     "name": "stdout",
     "output_type": "stream",
     "text": [
      "Conv2d(1280, 320, kernel_size=(1, 1), stride=(1, 1), padding=same)\n",
      "Sequential(\n",
      "  (serial_0): Conv2d(1280, 384, kernel_size=(3, 3), stride=(1, 1), padding=same)\n",
      "  (serial_1): Sequential(\n",
      "    (parallel_0): Conv2d(384, 384, kernel_size=(1, 3), stride=(1, 1), padding=same)\n",
      "    (parallel_1): Conv2d(384, 384, kernel_size=(3, 1), stride=(1, 1), padding=same)\n",
      "  )\n",
      ")\n",
      "Sequential(\n",
      "  (serial_0): Conv2d(1280, 448, kernel_size=(1, 1), stride=(1, 1), padding=same)\n",
      "  (serial_1): Conv2d(448, 384, kernel_size=(3, 3), stride=(1, 1), padding=same)\n",
      "  (serial_2): Sequential(\n",
      "    (parallel_0): Conv2d(384, 384, kernel_size=(1, 3), stride=(1, 1), padding=same)\n",
      "    (parallel_1): Conv2d(384, 384, kernel_size=(3, 1), stride=(1, 1), padding=same)\n",
      "  )\n",
      ")\n",
      "Sequential(\n",
      "  (serial_0): AvgPool2d(kernel_size=(1, 1), stride=(1, 1), padding=0)\n",
      "  (serial_1): Conv2d(1280, 192, kernel_size=(1, 1), stride=(1, 1), padding=same)\n",
      ")\n"
     ]
    }
   ],
   "source": [
    "for i in inception_v3.modules[10].children():\n",
    "    print(i)"
   ]
  },
  {
   "cell_type": "code",
   "execution_count": 169,
   "id": "c32c854d",
   "metadata": {},
   "outputs": [
    {
     "name": "stdout",
     "output_type": "stream",
     "text": [
      "parallel\n",
      "{}\n",
      "['conv', {'ksize': 1, 'chn': 320}]\n",
      "['serial', {}, ['conv', {'ksize': [3, 3], 'chn': 384}], ['parallel', {}, ['conv', {'ksize': [1, 3], 'chn': 384}], ['conv', {'ksize': [3, 1], 'chn': 384}]]]\n",
      "['serial', {}, ['conv', {'ksize': [1, 1], 'chn': 448}], ['conv', {'ksize': [3, 3], 'chn': 384}], ['parallel', {}, ['conv', {'ksize': [1, 3], 'chn': 384}], ['conv', {'ksize': [3, 1], 'chn': 384}]]]\n",
      "['serial', {}, ['avg', {'ksize': 3, 'stride': 1}], ['conv', {'ksize': 1, 'chn': 192}]]\n"
     ]
    },
    {
     "data": {
      "text/plain": [
       "[None, None, None, None, None, None]"
      ]
     },
     "execution_count": 169,
     "metadata": {},
     "output_type": "execute_result"
    }
   ],
   "source": [
    "if isinstance(inception_v3.macro[10], list):\n",
    "    for i in \n",
    "list(map(lambda x: print(x),inception_v3.macro[10]))"
   ]
  },
  {
   "cell_type": "code",
   "execution_count": 188,
   "id": "27439244",
   "metadata": {},
   "outputs": [
    {
     "data": {
      "text/plain": [
       "True"
      ]
     },
     "execution_count": 188,
     "metadata": {},
     "output_type": "execute_result"
    }
   ],
   "source": [
    "{} in inception_v3.macro[10]"
   ]
  },
  {
   "cell_type": "code",
   "execution_count": 178,
   "id": "feb24c28",
   "metadata": {},
   "outputs": [
    {
     "data": {
      "text/plain": [
       "'serial'"
      ]
     },
     "execution_count": 178,
     "metadata": {},
     "output_type": "execute_result"
    }
   ],
   "source": [
    "inception_v3.macro[10][4][0]"
   ]
  },
  {
   "cell_type": "code",
   "execution_count": 158,
   "id": "6abe2a94",
   "metadata": {},
   "outputs": [
    {
     "name": "stdout",
     "output_type": "stream",
     "text": [
      "parallel\n",
      "{}\n",
      "['conv', {'ksize': 1, 'chn': 320}]\n",
      "['serial', {}, ['conv', {'ksize': [3, 3], 'chn': 384}], ['parallel', {}, ['conv', {'ksize': [1, 3], 'chn': 384}], ['conv', {'ksize': [3, 1], 'chn': 384}]]]\n",
      "['serial', {}, ['conv', {'ksize': [1, 1], 'chn': 448}], ['conv', {'ksize': [3, 3], 'chn': 384}], ['parallel', {}, ['conv', {'ksize': [1, 3], 'chn': 384}], ['conv', {'ksize': [3, 1], 'chn': 384}]]]\n",
      "['serial', {}, ['avg', {'ksize': 3, 'stride': 1}], ['conv', {'ksize': 1, 'chn': 192}]]\n"
     ]
    }
   ],
   "source": [
    "for i in inception_v3.macro[10]:\n",
    "    print(i)"
   ]
  },
  {
   "cell_type": "code",
   "execution_count": 39,
   "id": "379f4bfb",
   "metadata": {},
   "outputs": [
    {
     "name": "stdout",
     "output_type": "stream",
     "text": [
      "Using device: cpu\n",
      "Using PyTorch version: 1.9.0\n"
     ]
    }
   ],
   "source": [
    "F_DATA_DIR = BASE_DIR+ 'code/util/dataset/flower_prepro.ipynb'\n",
    "\n",
    "%run {F_DATA_DIR}\n",
    "\n",
    "fd = FlowersDataset([96,96], [3,96,96])"
   ]
  },
  {
   "cell_type": "code",
   "execution_count": 40,
   "id": "ed13456f",
   "metadata": {},
   "outputs": [],
   "source": [
    "CnnExtModel.set_macro('flower_preproc',\n",
    "    ['serial',\n",
    "        ['conv', {'ksize':3, 'stride':2, 'chn':6, 'actions':'#act'}]])\n",
    "\n",
    "CnnExtModel.set_macro('flower_inception1',\n",
    "    ['parallel',\n",
    "        ['conv', {'ksize':1, 'chn':4, 'actions':'#act'}],\n",
    "        ['conv', {'ksize':3, 'chn':6, 'actions':'#act'}],\n",
    "        ['serial',\n",
    "            ['conv', {'ksize':3, 'chn':6, 'actions':'#act'}],\n",
    "            ['conv', {'ksize':3, 'chn':6, 'actions':'#act'}]],\n",
    "        ['serial',\n",
    "            ['avg', {'ksize':3, 'stride':1}],\n",
    "            ['conv', {'ksize':1, 'chn':4, 'actions':'#act'}]]])\n",
    "\n",
    "CnnExtModel.set_macro('flower_resize',\n",
    "    ['parallel',\n",
    "        ['conv', {'ksize':3, 'stride':2, 'chn':12, 'actions':'#act'}],\n",
    "        ['serial',\n",
    "            ['conv', {'ksize':3, 'chn':12, 'actions':'#act'}],\n",
    "            ['conv', {'ksize':3, 'stride':2, 'chn':12, 'actions':'#act'}]],\n",
    "        ['avg', {'ksize':3, 'stride':2}]])\n",
    "\n",
    "CnnExtModel.set_macro('flower_inception2',\n",
    "    ['parallel',\n",
    "        ['conv', {'ksize':1, 'chn':8, 'actions':'#act'}],\n",
    "        ['serial',\n",
    "            ['conv', {'ksize':[3,3], 'chn':8, 'actions':'#act'}],\n",
    "            ['parallel',\n",
    "                ['conv', {'ksize':[1,3], 'chn':8, 'actions':'#act'}],\n",
    "                ['conv', {'ksize':[3,1], 'chn':8, 'actions':'#act'}]]],\n",
    "        ['serial',\n",
    "            ['conv', {'ksize':[1,1], 'chn':8, 'actions':'#act'}],\n",
    "            ['conv', {'ksize':[3,3], 'chn':8, 'actions':'#act'}],\n",
    "            ['parallel',\n",
    "                ['conv', {'ksize':[1,3], 'chn':8, 'actions':'#act'}],\n",
    "                ['conv', {'ksize':[3,1], 'chn':8, 'actions':'#act'}]]],\n",
    "        ['serial',\n",
    "            ['avg', {'ksize':3, 'stride':1}],\n",
    "            ['conv', {'ksize':1, 'chn':8, 'actions':'#act'}]]])\n",
    "\n",
    "CnnExtModel.set_macro('flower_postproc',\n",
    "    ['serial',\n",
    "        ['avg', {'stride':6}],\n",
    "        ['dropout', {'keep_prob':0.7}]])"
   ]
  },
  {
   "cell_type": "code",
   "execution_count": 41,
   "id": "0faff36f",
   "metadata": {},
   "outputs": [],
   "source": [
    "CnnExtModel.set_macro('inception_flower',\n",
    "    ['serial',\n",
    "        ['custom', {'name':'flower_preproc', 'args':{'#act':'#act'}}],\n",
    "        ['custom', {'name':'flower_inception1', 'args':{'#act':'#act'}}],\n",
    "        ['custom', {'name':'flower_resize', 'args':{'#act':'#act'}}],\n",
    "        ['custom', {'name':'flower_inception1', 'args':{'#act':'#act'}}],\n",
    "        ['custom', {'name':'flower_resize', 'args':{'#act':'#act'}}],\n",
    "        ['custom', {'name':'flower_inception2', 'args':{'#act':'#act'}}],\n",
    "        ['custom', {'name':'flower_resize', 'args':{'#act':'#act'}}],\n",
    "        ['custom', {'name':'flower_inception2', 'args':{'#act':'#act'}}],\n",
    "        ['custom', {'name':'flower_postproc', 'args':{'#act':'#act'}}]])"
   ]
  },
  {
   "cell_type": "code",
   "execution_count": 42,
   "id": "285cf74b",
   "metadata": {
    "scrolled": true
   },
   "outputs": [
    {
     "name": "stdout",
     "output_type": "stream",
     "text": [
      "custom inception_flower\n",
      "  serial\n",
      "    custom flower_preproc\n",
      "      serial\n",
      "        1: conv, (3, 96, 96)=>[6, 48, 48]pm : 6x3x3x3+6 = 168\n",
      "    custom flower_inception1\n",
      "      parallel\n",
      "        2: conv, [6, 48, 48]=>[4, 48, 48]pm : 4x6x1x1+4 = 28\n",
      "        3: conv, [6, 48, 48]=>[6, 48, 48]pm : 6x6x3x3+6 = 330\n",
      "        serial\n",
      "          4: conv, [6, 48, 48]=>[6, 48, 48]pm : 6x6x3x3+6 = 330\n",
      "          5: conv, [6, 48, 48]=>[6, 48, 48]pm : 6x6x3x3+6 = 330\n",
      "        serial\n",
      "          6: avg, [6, 48, 48]=>[6, 48, 48]\n",
      "          7: conv, [6, 48, 48]=>[4, 48, 48]pm : 4x6x1x1+4 = 28\n",
      "    custom flower_resize\n",
      "      parallel\n",
      "        8: conv, [20, 48, 48]=>[12, 24, 24]pm : 12x20x3x3+12 = 2172\n",
      "        serial\n",
      "          9: conv, [20, 48, 48]=>[12, 48, 48]pm : 12x20x3x3+12 = 2172\n",
      "          10: conv, [12, 48, 48]=>[12, 24, 24]pm : 12x12x3x3+12 = 1308\n",
      "        11: avg, [20, 48, 48]=>[20, 24, 24]\n",
      "    custom flower_inception1\n",
      "      parallel\n",
      "        12: conv, [44, 24, 24]=>[4, 24, 24]pm : 4x44x1x1+4 = 180\n",
      "        13: conv, [44, 24, 24]=>[6, 24, 24]pm : 6x44x3x3+6 = 2382\n",
      "        serial\n",
      "          14: conv, [44, 24, 24]=>[6, 24, 24]pm : 6x44x3x3+6 = 2382\n",
      "          15: conv, [6, 24, 24]=>[6, 24, 24]pm : 6x6x3x3+6 = 330\n",
      "        serial\n",
      "          16: avg, [44, 24, 24]=>[44, 24, 24]\n",
      "          17: conv, [44, 24, 24]=>[4, 24, 24]pm : 4x44x1x1+4 = 180\n",
      "    custom flower_resize\n",
      "      parallel\n",
      "        18: conv, [20, 24, 24]=>[12, 12, 12]pm : 12x20x3x3+12 = 2172\n",
      "        serial\n",
      "          19: conv, [20, 24, 24]=>[12, 24, 24]pm : 12x20x3x3+12 = 2172\n",
      "          20: conv, [12, 24, 24]=>[12, 12, 12]pm : 12x12x3x3+12 = 1308\n",
      "        21: avg, [20, 24, 24]=>[20, 12, 12]\n",
      "    custom flower_inception2\n",
      "      parallel\n",
      "        22: conv, [44, 12, 12]=>[8, 12, 12]pm : 8x44x1x1+8 = 360\n",
      "        serial\n",
      "          23: conv, [44, 12, 12]=>[8, 12, 12]pm : 8x44x3x3+8 = 3176\n",
      "          parallel\n",
      "            24: conv, [8, 12, 12]=>[8, 12, 12]pm : 8x8x1x3+8 = 200\n",
      "            25: conv, [8, 12, 12]=>[8, 12, 12]pm : 8x8x3x1+8 = 200\n",
      "        serial\n",
      "          26: conv, [44, 12, 12]=>[8, 12, 12]pm : 8x44x1x1+8 = 360\n",
      "          27: conv, [8, 12, 12]=>[8, 12, 12]pm : 8x8x3x3+8 = 584\n",
      "          parallel\n",
      "            28: conv, [8, 12, 12]=>[8, 12, 12]pm : 8x8x1x3+8 = 200\n",
      "            29: conv, [8, 12, 12]=>[8, 12, 12]pm : 8x8x3x1+8 = 200\n",
      "        serial\n",
      "          30: avg, [44, 12, 12]=>[44, 12, 12]\n",
      "          31: conv, [44, 12, 12]=>[8, 12, 12]pm : 8x44x1x1+8 = 360\n",
      "    custom flower_resize\n",
      "      parallel\n",
      "        32: conv, [48, 12, 12]=>[12, 6, 6]pm : 12x48x3x3+12 = 5196\n",
      "        serial\n",
      "          33: conv, [48, 12, 12]=>[12, 12, 12]pm : 12x48x3x3+12 = 5196\n",
      "          34: conv, [12, 12, 12]=>[12, 6, 6]pm : 12x12x3x3+12 = 1308\n",
      "        35: avg, [48, 12, 12]=>[48, 6, 6]\n",
      "    custom flower_inception2\n",
      "      parallel\n",
      "        36: conv, [72, 6, 6]=>[8, 6, 6]pm : 8x72x1x1+8 = 584\n",
      "        serial\n",
      "          37: conv, [72, 6, 6]=>[8, 6, 6]pm : 8x72x3x3+8 = 5192\n",
      "          parallel\n",
      "            38: conv, [8, 6, 6]=>[8, 6, 6]pm : 8x8x1x3+8 = 200\n",
      "            39: conv, [8, 6, 6]=>[8, 6, 6]pm : 8x8x3x1+8 = 200\n",
      "        serial\n",
      "          40: conv, [72, 6, 6]=>[8, 6, 6]pm : 8x72x1x1+8 = 584\n",
      "          41: conv, [8, 6, 6]=>[8, 6, 6]pm : 8x8x3x3+8 = 584\n",
      "          parallel\n",
      "            42: conv, [8, 6, 6]=>[8, 6, 6]pm : 8x8x1x3+8 = 200\n",
      "            43: conv, [8, 6, 6]=>[8, 6, 6]pm : 8x8x3x1+8 = 200\n",
      "        serial\n",
      "          44: avg, [72, 6, 6]=>[72, 6, 6]\n",
      "          45: conv, [72, 6, 6]=>[8, 6, 6]pm : 8x72x1x1+8 = 584\n",
      "    custom flower_postproc\n",
      "      serial\n",
      "        46: avg, [48, 6, 6]=>[48, 1, 1]\n",
      "        47: dropout, [48, 1, 1]=>[48, 1, 1]\n",
      "48: full, [48, 1, 1]=>[5]pm :5x48+5=245\n",
      "[[Flatten(start_dim=1, end_dim=-1)], [Linear(in_features=48, out_features=5, bias=True)]] self.layers\n",
      "Total parameter count : 43885\n"
     ]
    }
   ],
   "source": [
    "conf_flower_LA = ['custom', {'name':'inception_flower', 'args':{'#act':'LA'}}]\n",
    "model_flower_LA = CnnExtModel('model_flower_LA', fd, \n",
    "                         conf_flower_LA, dump_structure=True)"
   ]
  },
  {
   "cell_type": "code",
   "execution_count": 43,
   "id": "bbd5409e",
   "metadata": {},
   "outputs": [
    {
     "name": "stdout",
     "output_type": "stream",
     "text": [
      "Model model_flower_LA train started \n",
      "\n",
      "\n",
      "!!!!!!!!!!!\n",
      "!! Layer !! .\n",
      "!!!!!!!!!!! \n",
      "\n",
      " Net(\n",
      "  (layer1): Sequential(\n",
      "    (0): Flatten(start_dim=1, end_dim=-1)\n",
      "    (1): Linear(in_features=48, out_features=5, bias=True)\n",
      "  )\n",
      ")\n",
      "\n",
      "!!!!!!!!!!!!!!!\n",
      "!! optimizer !! \n",
      "!!!!!!!!!!!!!!! \n",
      "\n",
      " Adam (\n",
      "Parameter Group 0\n",
      "    amsgrad: False\n",
      "    betas: (0.9, 0.999)\n",
      "    eps: 1e-08\n",
      "    lr: 0.001\n",
      "    weight_decay: 0\n",
      ")\n"
     ]
    },
    {
     "ename": "RuntimeError",
     "evalue": "mat1 and mat2 shapes cannot be multiplied (10x27648 and 48x5)",
     "output_type": "error",
     "traceback": [
      "\u001b[1;31m---------------------------------------------------------------------------\u001b[0m",
      "\u001b[1;31mRuntimeError\u001b[0m                              Traceback (most recent call last)",
      "\u001b[1;32m~\\AppData\\Local\\Temp/ipykernel_7972/1017770068.py\u001b[0m in \u001b[0;36m<module>\u001b[1;34m\u001b[0m\n\u001b[1;32m----> 1\u001b[1;33m \u001b[0mmodel_flower_LA\u001b[0m\u001b[1;33m.\u001b[0m\u001b[0mexec_all\u001b[0m\u001b[1;33m(\u001b[0m\u001b[0mreport\u001b[0m\u001b[1;33m=\u001b[0m\u001b[1;36m1\u001b[0m\u001b[1;33m)\u001b[0m\u001b[1;33m\u001b[0m\u001b[0m\n\u001b[0m",
      "\u001b[1;32m~\\AppData\\Local\\Temp/ipykernel_7972/927826373.py\u001b[0m in \u001b[0;36mexec_all\u001b[1;34m(self, epoch_count, batch_size, learning_rate, report, show_cnt, show_params, num_workers)\u001b[0m\n\u001b[0;32m      9\u001b[0m                  report=0, show_cnt = 3, show_params=False,num_workers=0):\n\u001b[0;32m     10\u001b[0m         super(CnnRegModel, self).exec_all(epoch_count, batch_size, \n\u001b[1;32m---> 11\u001b[1;33m                                          learning_rate, report, show_cnt, num_workers)\n\u001b[0m\u001b[0;32m     12\u001b[0m \u001b[1;33m\u001b[0m\u001b[0m\n\u001b[0;32m     13\u001b[0m         \u001b[1;32mif\u001b[0m \u001b[0mshow_params\u001b[0m \u001b[1;33m:\u001b[0m \u001b[0mself\u001b[0m\u001b[1;33m.\u001b[0m\u001b[0mshow_param_dist\u001b[0m\u001b[1;33m(\u001b[0m\u001b[1;33m)\u001b[0m\u001b[1;33m\u001b[0m\u001b[0m\n",
      "\u001b[1;32m~\\AppData\\Local\\Temp/ipykernel_7972/4054610662.py\u001b[0m in \u001b[0;36mexec_all\u001b[1;34m(self, epoch_count, batch_size, learning_rate, report, show_cnt, num_workers)\u001b[0m\n\u001b[0;32m     11\u001b[0m     def exec_all(self, epoch_count=10, batch_size=10, learning_rate=0.001,\n\u001b[0;32m     12\u001b[0m                  report=0, show_cnt=3, num_workers=0):\n\u001b[1;32m---> 13\u001b[1;33m         \u001b[0mself\u001b[0m\u001b[1;33m.\u001b[0m\u001b[0mtrain\u001b[0m\u001b[1;33m(\u001b[0m\u001b[0mepoch_count\u001b[0m\u001b[1;33m,\u001b[0m \u001b[0mbatch_size\u001b[0m\u001b[1;33m,\u001b[0m \u001b[0mlearning_rate\u001b[0m\u001b[1;33m,\u001b[0m \u001b[0mreport\u001b[0m\u001b[1;33m,\u001b[0m \u001b[0mnum_workers\u001b[0m\u001b[1;33m)\u001b[0m\u001b[1;33m\u001b[0m\u001b[0m\n\u001b[0m\u001b[0;32m     14\u001b[0m         \u001b[0mself\u001b[0m\u001b[1;33m.\u001b[0m\u001b[0mtest\u001b[0m\u001b[1;33m(\u001b[0m\u001b[1;33m)\u001b[0m\u001b[1;33m\u001b[0m\u001b[0m\n\u001b[0;32m     15\u001b[0m         \u001b[1;32mif\u001b[0m \u001b[0mshow_cnt\u001b[0m \u001b[1;33m>\u001b[0m \u001b[1;36m0\u001b[0m\u001b[1;33m:\u001b[0m \u001b[0mself\u001b[0m\u001b[1;33m.\u001b[0m\u001b[0mvisualize\u001b[0m\u001b[1;33m(\u001b[0m\u001b[0mshow_cnt\u001b[0m\u001b[1;33m)\u001b[0m\u001b[1;33m\u001b[0m\u001b[0m\n",
      "\u001b[1;32m~\\AppData\\Local\\Temp/ipykernel_7972/1716686982.py\u001b[0m in \u001b[0;36mtrain_torch\u001b[1;34m(self, epoch_count, batch_size, learning_rate, report, num_workers)\u001b[0m\n\u001b[0;32m     44\u001b[0m             \u001b[0moptimizer\u001b[0m\u001b[1;33m.\u001b[0m\u001b[0mzero_grad\u001b[0m\u001b[1;33m(\u001b[0m\u001b[1;33m)\u001b[0m\u001b[1;33m\u001b[0m\u001b[0m\n\u001b[0;32m     45\u001b[0m \u001b[1;33m\u001b[0m\u001b[0m\n\u001b[1;32m---> 46\u001b[1;33m             \u001b[0moutput\u001b[0m \u001b[1;33m=\u001b[0m \u001b[0mself\u001b[0m\u001b[1;33m.\u001b[0m\u001b[0mmodel\u001b[0m\u001b[1;33m.\u001b[0m\u001b[0mforward\u001b[0m\u001b[1;33m(\u001b[0m\u001b[0mX_train\u001b[0m\u001b[1;33m)\u001b[0m\u001b[1;33m\u001b[0m\u001b[0m\n\u001b[0m\u001b[0;32m     47\u001b[0m \u001b[1;33m\u001b[0m\u001b[0m\n\u001b[0;32m     48\u001b[0m             \u001b[0mloss\u001b[0m\u001b[1;33m=\u001b[0m\u001b[0mself\u001b[0m\u001b[1;33m.\u001b[0m\u001b[0mforward_postproc\u001b[0m\u001b[1;33m(\u001b[0m\u001b[0mloss_func\u001b[0m\u001b[1;33m,\u001b[0m \u001b[0moutput\u001b[0m\u001b[1;33m,\u001b[0m \u001b[0my_train\u001b[0m\u001b[1;33m)\u001b[0m\u001b[1;33m\u001b[0m\u001b[0m\n",
      "\u001b[1;32m~\\AppData\\Local\\Temp/ipykernel_7972/3870700289.py\u001b[0m in \u001b[0;36mforward\u001b[1;34m(self, x)\u001b[0m\n\u001b[0;32m     13\u001b[0m             \u001b[0mx\u001b[0m \u001b[1;33m=\u001b[0m \u001b[0mtorch\u001b[0m\u001b[1;33m.\u001b[0m\u001b[0mflatten\u001b[0m\u001b[1;33m(\u001b[0m\u001b[0mx\u001b[0m\u001b[1;33m,\u001b[0m \u001b[1;36m1\u001b[0m\u001b[1;33m)\u001b[0m\u001b[1;33m\u001b[0m\u001b[0m\n\u001b[0;32m     14\u001b[0m \u001b[1;33m\u001b[0m\u001b[0m\n\u001b[1;32m---> 15\u001b[1;33m         \u001b[0mout\u001b[0m \u001b[1;33m=\u001b[0m \u001b[0mself\u001b[0m\u001b[1;33m.\u001b[0m\u001b[0mlayer1\u001b[0m\u001b[1;33m(\u001b[0m\u001b[0mx\u001b[0m\u001b[1;33m)\u001b[0m\u001b[1;33m\u001b[0m\u001b[0m\n\u001b[0m\u001b[0;32m     16\u001b[0m \u001b[1;33m\u001b[0m\u001b[0m\n\u001b[0;32m     17\u001b[0m         \u001b[1;32mreturn\u001b[0m \u001b[0mout\u001b[0m\u001b[1;33m\u001b[0m\u001b[0m\n",
      "\u001b[1;32m~\\anaconda3\\envs\\nalcoding\\lib\\site-packages\\torch\\nn\\modules\\module.py\u001b[0m in \u001b[0;36m_call_impl\u001b[1;34m(self, *input, **kwargs)\u001b[0m\n\u001b[0;32m   1049\u001b[0m         if not (self._backward_hooks or self._forward_hooks or self._forward_pre_hooks or _global_backward_hooks\n\u001b[0;32m   1050\u001b[0m                 or _global_forward_hooks or _global_forward_pre_hooks):\n\u001b[1;32m-> 1051\u001b[1;33m             \u001b[1;32mreturn\u001b[0m \u001b[0mforward_call\u001b[0m\u001b[1;33m(\u001b[0m\u001b[1;33m*\u001b[0m\u001b[0minput\u001b[0m\u001b[1;33m,\u001b[0m \u001b[1;33m**\u001b[0m\u001b[0mkwargs\u001b[0m\u001b[1;33m)\u001b[0m\u001b[1;33m\u001b[0m\u001b[0m\n\u001b[0m\u001b[0;32m   1052\u001b[0m         \u001b[1;31m# Do not call functions when jit is used\u001b[0m\u001b[1;33m\u001b[0m\u001b[1;33m\u001b[0m\u001b[0m\n\u001b[0;32m   1053\u001b[0m         \u001b[0mfull_backward_hooks\u001b[0m\u001b[1;33m,\u001b[0m \u001b[0mnon_full_backward_hooks\u001b[0m \u001b[1;33m=\u001b[0m \u001b[1;33m[\u001b[0m\u001b[1;33m]\u001b[0m\u001b[1;33m,\u001b[0m \u001b[1;33m[\u001b[0m\u001b[1;33m]\u001b[0m\u001b[1;33m\u001b[0m\u001b[0m\n",
      "\u001b[1;32m~\\anaconda3\\envs\\nalcoding\\lib\\site-packages\\torch\\nn\\modules\\container.py\u001b[0m in \u001b[0;36mforward\u001b[1;34m(self, input)\u001b[0m\n\u001b[0;32m    137\u001b[0m     \u001b[1;32mdef\u001b[0m \u001b[0mforward\u001b[0m\u001b[1;33m(\u001b[0m\u001b[0mself\u001b[0m\u001b[1;33m,\u001b[0m \u001b[0minput\u001b[0m\u001b[1;33m)\u001b[0m\u001b[1;33m:\u001b[0m\u001b[1;33m\u001b[0m\u001b[0m\n\u001b[0;32m    138\u001b[0m         \u001b[1;32mfor\u001b[0m \u001b[0mmodule\u001b[0m \u001b[1;32min\u001b[0m \u001b[0mself\u001b[0m\u001b[1;33m:\u001b[0m\u001b[1;33m\u001b[0m\u001b[0m\n\u001b[1;32m--> 139\u001b[1;33m             \u001b[0minput\u001b[0m \u001b[1;33m=\u001b[0m \u001b[0mmodule\u001b[0m\u001b[1;33m(\u001b[0m\u001b[0minput\u001b[0m\u001b[1;33m)\u001b[0m\u001b[1;33m\u001b[0m\u001b[0m\n\u001b[0m\u001b[0;32m    140\u001b[0m         \u001b[1;32mreturn\u001b[0m \u001b[0minput\u001b[0m\u001b[1;33m\u001b[0m\u001b[0m\n\u001b[0;32m    141\u001b[0m \u001b[1;33m\u001b[0m\u001b[0m\n",
      "\u001b[1;32m~\\anaconda3\\envs\\nalcoding\\lib\\site-packages\\torch\\nn\\modules\\module.py\u001b[0m in \u001b[0;36m_call_impl\u001b[1;34m(self, *input, **kwargs)\u001b[0m\n\u001b[0;32m   1049\u001b[0m         if not (self._backward_hooks or self._forward_hooks or self._forward_pre_hooks or _global_backward_hooks\n\u001b[0;32m   1050\u001b[0m                 or _global_forward_hooks or _global_forward_pre_hooks):\n\u001b[1;32m-> 1051\u001b[1;33m             \u001b[1;32mreturn\u001b[0m \u001b[0mforward_call\u001b[0m\u001b[1;33m(\u001b[0m\u001b[1;33m*\u001b[0m\u001b[0minput\u001b[0m\u001b[1;33m,\u001b[0m \u001b[1;33m**\u001b[0m\u001b[0mkwargs\u001b[0m\u001b[1;33m)\u001b[0m\u001b[1;33m\u001b[0m\u001b[0m\n\u001b[0m\u001b[0;32m   1052\u001b[0m         \u001b[1;31m# Do not call functions when jit is used\u001b[0m\u001b[1;33m\u001b[0m\u001b[1;33m\u001b[0m\u001b[0m\n\u001b[0;32m   1053\u001b[0m         \u001b[0mfull_backward_hooks\u001b[0m\u001b[1;33m,\u001b[0m \u001b[0mnon_full_backward_hooks\u001b[0m \u001b[1;33m=\u001b[0m \u001b[1;33m[\u001b[0m\u001b[1;33m]\u001b[0m\u001b[1;33m,\u001b[0m \u001b[1;33m[\u001b[0m\u001b[1;33m]\u001b[0m\u001b[1;33m\u001b[0m\u001b[0m\n",
      "\u001b[1;32m~\\anaconda3\\envs\\nalcoding\\lib\\site-packages\\torch\\nn\\modules\\linear.py\u001b[0m in \u001b[0;36mforward\u001b[1;34m(self, input)\u001b[0m\n\u001b[0;32m     94\u001b[0m \u001b[1;33m\u001b[0m\u001b[0m\n\u001b[0;32m     95\u001b[0m     \u001b[1;32mdef\u001b[0m \u001b[0mforward\u001b[0m\u001b[1;33m(\u001b[0m\u001b[0mself\u001b[0m\u001b[1;33m,\u001b[0m \u001b[0minput\u001b[0m\u001b[1;33m:\u001b[0m \u001b[0mTensor\u001b[0m\u001b[1;33m)\u001b[0m \u001b[1;33m->\u001b[0m \u001b[0mTensor\u001b[0m\u001b[1;33m:\u001b[0m\u001b[1;33m\u001b[0m\u001b[0m\n\u001b[1;32m---> 96\u001b[1;33m         \u001b[1;32mreturn\u001b[0m \u001b[0mF\u001b[0m\u001b[1;33m.\u001b[0m\u001b[0mlinear\u001b[0m\u001b[1;33m(\u001b[0m\u001b[0minput\u001b[0m\u001b[1;33m,\u001b[0m \u001b[0mself\u001b[0m\u001b[1;33m.\u001b[0m\u001b[0mweight\u001b[0m\u001b[1;33m,\u001b[0m \u001b[0mself\u001b[0m\u001b[1;33m.\u001b[0m\u001b[0mbias\u001b[0m\u001b[1;33m)\u001b[0m\u001b[1;33m\u001b[0m\u001b[0m\n\u001b[0m\u001b[0;32m     97\u001b[0m \u001b[1;33m\u001b[0m\u001b[0m\n\u001b[0;32m     98\u001b[0m     \u001b[1;32mdef\u001b[0m \u001b[0mextra_repr\u001b[0m\u001b[1;33m(\u001b[0m\u001b[0mself\u001b[0m\u001b[1;33m)\u001b[0m \u001b[1;33m->\u001b[0m \u001b[0mstr\u001b[0m\u001b[1;33m:\u001b[0m\u001b[1;33m\u001b[0m\u001b[0m\n",
      "\u001b[1;32m~\\anaconda3\\envs\\nalcoding\\lib\\site-packages\\torch\\nn\\functional.py\u001b[0m in \u001b[0;36mlinear\u001b[1;34m(input, weight, bias)\u001b[0m\n\u001b[0;32m   1845\u001b[0m     \u001b[1;32mif\u001b[0m \u001b[0mhas_torch_function_variadic\u001b[0m\u001b[1;33m(\u001b[0m\u001b[0minput\u001b[0m\u001b[1;33m,\u001b[0m \u001b[0mweight\u001b[0m\u001b[1;33m)\u001b[0m\u001b[1;33m:\u001b[0m\u001b[1;33m\u001b[0m\u001b[0m\n\u001b[0;32m   1846\u001b[0m         \u001b[1;32mreturn\u001b[0m \u001b[0mhandle_torch_function\u001b[0m\u001b[1;33m(\u001b[0m\u001b[0mlinear\u001b[0m\u001b[1;33m,\u001b[0m \u001b[1;33m(\u001b[0m\u001b[0minput\u001b[0m\u001b[1;33m,\u001b[0m \u001b[0mweight\u001b[0m\u001b[1;33m)\u001b[0m\u001b[1;33m,\u001b[0m \u001b[0minput\u001b[0m\u001b[1;33m,\u001b[0m \u001b[0mweight\u001b[0m\u001b[1;33m,\u001b[0m \u001b[0mbias\u001b[0m\u001b[1;33m=\u001b[0m\u001b[0mbias\u001b[0m\u001b[1;33m)\u001b[0m\u001b[1;33m\u001b[0m\u001b[0m\n\u001b[1;32m-> 1847\u001b[1;33m     \u001b[1;32mreturn\u001b[0m \u001b[0mtorch\u001b[0m\u001b[1;33m.\u001b[0m\u001b[0m_C\u001b[0m\u001b[1;33m.\u001b[0m\u001b[0m_nn\u001b[0m\u001b[1;33m.\u001b[0m\u001b[0mlinear\u001b[0m\u001b[1;33m(\u001b[0m\u001b[0minput\u001b[0m\u001b[1;33m,\u001b[0m \u001b[0mweight\u001b[0m\u001b[1;33m,\u001b[0m \u001b[0mbias\u001b[0m\u001b[1;33m)\u001b[0m\u001b[1;33m\u001b[0m\u001b[0m\n\u001b[0m\u001b[0;32m   1848\u001b[0m \u001b[1;33m\u001b[0m\u001b[0m\n\u001b[0;32m   1849\u001b[0m \u001b[1;33m\u001b[0m\u001b[0m\n",
      "\u001b[1;31mRuntimeError\u001b[0m: mat1 and mat2 shapes cannot be multiplied (10x27648 and 48x5)"
     ]
    }
   ],
   "source": [
    "model_flower_LA.exec_all(report=1)"
   ]
  },
  {
   "cell_type": "code",
   "execution_count": null,
   "id": "8d7552e7",
   "metadata": {},
   "outputs": [],
   "source": []
  },
  {
   "cell_type": "code",
   "execution_count": null,
   "id": "d520255c",
   "metadata": {},
   "outputs": [],
   "source": []
  },
  {
   "cell_type": "code",
   "execution_count": null,
   "id": "95382634",
   "metadata": {},
   "outputs": [],
   "source": []
  },
  {
   "cell_type": "code",
   "execution_count": null,
   "id": "36a9e73b",
   "metadata": {},
   "outputs": [],
   "source": []
  },
  {
   "cell_type": "code",
   "execution_count": null,
   "id": "5de93804",
   "metadata": {},
   "outputs": [],
   "source": []
  },
  {
   "cell_type": "code",
   "execution_count": null,
   "id": "0829a5b1",
   "metadata": {},
   "outputs": [],
   "source": []
  },
  {
   "cell_type": "code",
   "execution_count": null,
   "id": "3d519dd1",
   "metadata": {},
   "outputs": [],
   "source": []
  },
  {
   "cell_type": "code",
   "execution_count": null,
   "id": "b67531e5",
   "metadata": {},
   "outputs": [],
   "source": []
  }
 ],
 "metadata": {
  "kernelspec": {
   "display_name": "Python 3 (ipykernel)",
   "language": "python",
   "name": "python3"
  },
  "language_info": {
   "codemirror_mode": {
    "name": "ipython",
    "version": 3
   },
   "file_extension": ".py",
   "mimetype": "text/x-python",
   "name": "python",
   "nbconvert_exporter": "python",
   "pygments_lexer": "ipython3",
   "version": "3.7.0"
  }
 },
 "nbformat": 4,
 "nbformat_minor": 5
}
