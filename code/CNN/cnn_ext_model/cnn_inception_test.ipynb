{
 "cells": [
  {
   "cell_type": "code",
   "execution_count": 435,
   "id": "6cf95ba9",
   "metadata": {},
   "outputs": [],
   "source": [
    "BASE_DIR = '../'*3\n",
    "DATASET_DIR = BASE_DIR+'code/util/dataset/dataset_dummy.ipynb'\n",
    "EXTMODEL_DIR = BASE_DIR + 'code/CNN/cnn_ext_model/ext_model.ipynb'"
   ]
  },
  {
   "cell_type": "code",
   "execution_count": 606,
   "id": "89020608",
   "metadata": {},
   "outputs": [
    {
     "name": "stdout",
     "output_type": "stream",
     "text": [
      "Using device: cpu\n",
      "Using PyTorch version: 1.9.0\n"
     ]
    }
   ],
   "source": [
    "%run {DATASET_DIR}\n",
    "%run {EXTMODEL_DIR}"
   ]
  },
  {
   "cell_type": "code",
   "execution_count": 607,
   "id": "b450326c",
   "metadata": {},
   "outputs": [
    {
     "name": "stdout",
     "output_type": "stream",
     "text": [
      "200\n"
     ]
    }
   ],
   "source": [
    "imagenet = DummyDataset('imagenet', 'select',[3,299,299],200)"
   ]
  },
  {
   "cell_type": "code",
   "execution_count": 608,
   "id": "9d0d02eb",
   "metadata": {},
   "outputs": [],
   "source": [
    "CnnExtModel.set_macro('v3_preproc', \n",
    "          ['serial',\n",
    "              ['conv',{'ksize':3,'stride':2,'chn':32, 'padding':'VALID'}],\n",
    "              ['conv',{'ksize':3,'chn':32, 'padding':'VALID'}],\n",
    "              ['conv',{'ksize':3,'chn':64, 'padding':'SAME'}],\n",
    "              ['max',{'ksize':3, 'stride':2, 'padding':'VALID'}],\n",
    "              ['conv',{'ksize':1,'chn':80,'padding':'VALID'}],\n",
    "              ['conv',{'ksize':3,'chn':192,'padding':'VALID'}],\n",
    "              ['max',{'ksize':3, 'stride':2,'padding':'VALID'}]\n",
    "          \n",
    "          ]\n",
    "                     )"
   ]
  },
  {
   "cell_type": "code",
   "execution_count": 609,
   "id": "c023e16c",
   "metadata": {},
   "outputs": [],
   "source": [
    "CnnExtModel.set_macro('v3_inception1',\n",
    "        ['parallel',\n",
    "            ['conv',{'ksize':1, 'chn':64}],\n",
    "         \n",
    "            ['serial',\n",
    "                ['conv',{'ksize':1,'chn':48}],\n",
    "                ['conv',{'ksize':5, 'chn':64}]],\n",
    "         \n",
    "            ['serial',\n",
    "                ['conv',{'ksize':1,'chn':64}],\n",
    "                 ['conv',{'ksize':3,'chn':96}],\n",
    "                 ['conv',{'ksize':3,'chn':96}]],\n",
    "         \n",
    "            ['serial',\n",
    "                ['avg',{'ksize':3,'stride':1}],\n",
    "                ['conv',{'ksize':1,'chn':'#chn'}]]\n",
    "        \n",
    "        ]\n",
    "                    \n",
    "                     )"
   ]
  },
  {
   "cell_type": "code",
   "execution_count": 610,
   "id": "c2b258dd",
   "metadata": {},
   "outputs": [],
   "source": [
    "CnnExtModel.set_macro('v3_resize1',\n",
    "            ['parallel',\n",
    "                ['conv',{'ksize':3,'stride':2,'chn':384}],\n",
    "                ['serial',\n",
    "                 ['conv',{'ksize':1,'chn':64}],\n",
    "                 ['conv',{'ksize':3,'chn':94}],\n",
    "                 ['conv',{'ksize':3,'stride':2,'chn':96}]],\n",
    "                ['max',{'ksize':3,'stride':2}]\n",
    "            \n",
    "            ]                     \n",
    "                    \n",
    "                     )"
   ]
  },
  {
   "cell_type": "code",
   "execution_count": 611,
   "id": "162490c7",
   "metadata": {},
   "outputs": [],
   "source": [
    "CnnExtModel.set_macro('v3_inception2',\n",
    "    ['parallel',\n",
    "        ['conv', {'ksize':1, 'chn':192}],\n",
    "        ['serial',\n",
    "            ['conv', {'ksize':[1,1], 'chn':'#chn'}],\n",
    "            ['conv', {'ksize':[1,7], 'chn':'#chn'}],\n",
    "            ['conv', {'ksize':[7,1], 'chn':192}]],\n",
    "        ['serial',\n",
    "            ['conv', {'ksize':[1,1], 'chn':'#chn'}],\n",
    "            ['conv', {'ksize':[7,1], 'chn':'#chn'}],\n",
    "            ['conv', {'ksize':[1,7], 'chn':'#chn'}],\n",
    "            ['conv', {'ksize':[7,1], 'chn':'#chn'}],\n",
    "            ['conv', {'ksize':[1,7], 'chn':192}]],\n",
    "        ['serial',\n",
    "            ['avg', {'ksize':3, 'stride':1}],\n",
    "            ['conv', {'ksize':1, 'chn':192}]]])"
   ]
  },
  {
   "cell_type": "code",
   "execution_count": 612,
   "id": "ba728566",
   "metadata": {},
   "outputs": [],
   "source": [
    "CnnExtModel.set_macro('v3_resize2',\n",
    "    ['parallel',\n",
    "        ['serial',\n",
    "            ['conv', {'ksize':1, 'chn':192}],\n",
    "            ['conv', {'ksize':3, 'stride':2, 'chn':320}]],\n",
    "        ['serial',\n",
    "            ['conv', {'ksize':[1,1], 'chn':192}],\n",
    "            ['conv', {'ksize':[1,7], 'chn':192}],\n",
    "            ['conv', {'ksize':[7,1], 'chn':192}],\n",
    "            ['conv', {'ksize':[3,3], 'stride':[2,2], 'chn':192}]],\n",
    "        ['max', {'ksize':3, 'stride':2}]])"
   ]
  },
  {
   "cell_type": "code",
   "execution_count": 613,
   "id": "efa2da41",
   "metadata": {},
   "outputs": [],
   "source": [
    "CnnExtModel.set_macro('v3_inception3',\n",
    "    ['parallel',\n",
    "        ['conv', {'ksize':1, 'chn':320}],\n",
    "        ['serial',\n",
    "            ['conv', {'ksize':[3,3], 'chn':384}],\n",
    "            ['parallel',\n",
    "                ['conv', {'ksize':[1,3], 'chn':384}],\n",
    "                ['conv', {'ksize':[3,1], 'chn':384}]]],\n",
    "        ['serial',\n",
    "            ['conv', {'ksize':[1,1], 'chn':448}],\n",
    "            ['conv', {'ksize':[3,3], 'chn':384}],\n",
    "            ['parallel',\n",
    "                ['conv', {'ksize':[1,3], 'chn':384}],\n",
    "                ['conv', {'ksize':[3,1], 'chn':384}]]],\n",
    "        ['serial',\n",
    "            ['avg', {'ksize':3, 'stride':1}],\n",
    "            ['conv', {'ksize':1, 'chn':192}]]])"
   ]
  },
  {
   "cell_type": "code",
   "execution_count": 614,
   "id": "87c283bc",
   "metadata": {},
   "outputs": [],
   "source": [
    "CnnExtModel.set_macro('v3_postproc',\n",
    "    ['serial',\n",
    "        ['avg', {'stride':8}],\n",
    "        ['dropout', {'keep_prob':0.7}]])"
   ]
  },
  {
   "cell_type": "code",
   "execution_count": 615,
   "id": "df670d92",
   "metadata": {},
   "outputs": [],
   "source": [
    "CnnExtModel.set_macro('inception_v3',\n",
    "    ['serial',\n",
    "        ['custom', {'name':'v3_preproc'}],\n",
    "        ['custom', {'name':'v3_inception1', 'args':{'#chn':32}}],\n",
    "        ['custom', {'name':'v3_inception1', 'args':{'#chn':64}}],\n",
    "        ['custom', {'name':'v3_inception1', 'args':{'#chn':64}}],\n",
    "        ['custom', {'name':'v3_resize1'}],\n",
    "        ['custom', {'name':'v3_inception2', 'args':{'#chn':128}}],\n",
    "        ['custom', {'name':'v3_inception2', 'args':{'#chn':160}}],\n",
    "        ['custom', {'name':'v3_inception2', 'args':{'#chn':160}}],\n",
    "        ['custom', {'name':'v3_inception2', 'args':{'#chn':192}}],\n",
    "        ['custom', {'name':'v3_resize2'}],\n",
    "        ['custom', {'name':'v3_inception3'}],\n",
    "        ['custom', {'name':'v3_inception3'}],\n",
    "        ['custom', {'name':'v3_postproc'}]])"
   ]
  },
  {
   "cell_type": "code",
   "execution_count": 616,
   "id": "edf13eb0",
   "metadata": {},
   "outputs": [
    {
     "name": "stdout",
     "output_type": "stream",
     "text": [
      "custom inception_v3\n",
      "14\n",
      "  serial\n",
      "    custom v3_preproc\n",
      "8\n",
      "      serial\n",
      "        1: conv, [3, 299, 299]=>[32, 148, 148]pm : 32x3x3x3+32 = 896\n",
      "        2: conv, [32, 148, 148]=>[32, 146, 146]pm : 32x32x3x3+32 = 9248\n",
      "        3: conv, [32, 146, 146]=>[64, 146, 146]pm : 64x32x3x3+64 = 18496\n",
      "        4: max, [64, 146, 146]=>[64, 72, 72]\n",
      "        5: conv, [64, 72, 72]=>[80, 72, 72]pm : 80x64x1x1+80 = 5200\n",
      "        6: conv, [80, 72, 72]=>[192, 70, 70]pm : 192x80x3x3+192 = 138432\n",
      "        7: max, [192, 70, 70]=>[192, 34, 34]\n",
      "<class 'str'> v3_preproc namenamenamenamenamenamenamenamenamenamenamename\n",
      "[Conv2d(3, 32, kernel_size=(3, 3), stride=(1, 1), padding=valid), Conv2d(32, 32, kernel_size=(3, 3), stride=(1, 1), padding=valid), Conv2d(32, 64, kernel_size=(3, 3), stride=(1, 1), padding=same), MaxPool2d(kernel_size=(3, 3), stride=(2, 2), padding=valid, dilation=1, ceil_mode=False), Conv2d(64, 80, kernel_size=(1, 1), stride=(1, 1), padding=valid), Conv2d(80, 192, kernel_size=(3, 3), stride=(1, 1), padding=valid), MaxPool2d(kernel_size=(3, 3), stride=(2, 2), padding=valid, dilation=1, ceil_mode=False)]\n",
      "    custom v3_inception1\n",
      "5\n",
      "      parallel\n",
      "        8: conv, [192, 34, 34]=>[64, 34, 34]pm : 64x192x1x1+64 = 12352\n",
      "        serial\n",
      "          9: conv, [192, 34, 34]=>[48, 34, 34]pm : 48x192x1x1+48 = 9264\n",
      "          10: conv, [48, 34, 34]=>[64, 34, 34]pm : 64x48x5x5+64 = 76864\n",
      "        serial\n",
      "          11: conv, [192, 34, 34]=>[64, 34, 34]pm : 64x192x1x1+64 = 12352\n",
      "          12: conv, [64, 34, 34]=>[96, 34, 34]pm : 96x64x3x3+96 = 55392\n",
      "          13: conv, [96, 34, 34]=>[96, 34, 34]pm : 96x96x3x3+96 = 83040\n",
      "        serial\n",
      "          14: avg, [192, 34, 34]=>[192, 34, 34]\n",
      "          15: conv, [192, 34, 34]=>[32, 34, 34]pm : 32x192x1x1+32 = 6176\n",
      "<class 'str'> v3_inception1_2\n",
      "1\n",
      "Conv2d(192, 64, kernel_size=(1, 1), stride=(1, 1), padding=same)\n",
      "    custom v3_inception1\n",
      "5\n",
      "      parallel\n",
      "        16: conv, [256, 34, 34]=>[64, 34, 34]pm : 64x256x1x1+64 = 16448\n",
      "        serial\n",
      "          17: conv, [256, 34, 34]=>[48, 34, 34]pm : 48x256x1x1+48 = 12336\n",
      "          18: conv, [48, 34, 34]=>[64, 34, 34]pm : 64x48x5x5+64 = 76864\n",
      "        serial\n",
      "          19: conv, [256, 34, 34]=>[64, 34, 34]pm : 64x256x1x1+64 = 16448\n",
      "          20: conv, [64, 34, 34]=>[96, 34, 34]pm : 96x64x3x3+96 = 55392\n",
      "          21: conv, [96, 34, 34]=>[96, 34, 34]pm : 96x96x3x3+96 = 83040\n",
      "        serial\n",
      "          22: avg, [256, 34, 34]=>[256, 34, 34]\n",
      "          23: conv, [256, 34, 34]=>[64, 34, 34]pm : 64x256x1x1+64 = 16448\n",
      "<class 'str'> v3_inception1_3\n",
      "1\n",
      "Conv2d(256, 64, kernel_size=(1, 1), stride=(1, 1), padding=same)\n",
      "    custom v3_inception1\n",
      "5\n",
      "      parallel\n",
      "        24: conv, [288, 34, 34]=>[64, 34, 34]pm : 64x288x1x1+64 = 18496\n",
      "        serial\n",
      "          25: conv, [288, 34, 34]=>[48, 34, 34]pm : 48x288x1x1+48 = 13872\n",
      "          26: conv, [48, 34, 34]=>[64, 34, 34]pm : 64x48x5x5+64 = 76864\n",
      "        serial\n",
      "          27: conv, [288, 34, 34]=>[64, 34, 34]pm : 64x288x1x1+64 = 18496\n",
      "          28: conv, [64, 34, 34]=>[96, 34, 34]pm : 96x64x3x3+96 = 55392\n",
      "          29: conv, [96, 34, 34]=>[96, 34, 34]pm : 96x96x3x3+96 = 83040\n",
      "        serial\n",
      "          30: avg, [288, 34, 34]=>[288, 34, 34]\n",
      "          31: conv, [288, 34, 34]=>[64, 34, 34]pm : 64x288x1x1+64 = 18496\n",
      "<class 'str'> v3_inception1_4\n",
      "1\n",
      "Conv2d(288, 64, kernel_size=(1, 1), stride=(1, 1), padding=same)\n",
      "    custom v3_resize1\n",
      "4\n",
      "      parallel\n",
      "        32: conv, [288, 34, 34]=>[384, 17, 17]pm : 384x288x3x3+384 = 995712\n",
      "        serial\n",
      "          33: conv, [288, 34, 34]=>[64, 34, 34]pm : 64x288x1x1+64 = 18496\n",
      "          34: conv, [64, 34, 34]=>[94, 34, 34]pm : 94x64x3x3+94 = 54238\n",
      "          35: conv, [94, 34, 34]=>[96, 17, 17]pm : 96x94x3x3+96 = 81312\n",
      "        36: max, [288, 34, 34]=>[288, 17, 17]\n",
      "<class 'str'> v3_resize1_5\n",
      "1\n",
      "Conv2d(288, 384, kernel_size=(3, 3), stride=(1, 1), padding=same)\n",
      "<class 'str'> v3_resize1_5\n",
      "5\n",
      "MaxPool2d(kernel_size=(3, 3), stride=(2, 2), padding=same, dilation=1, ceil_mode=False)\n",
      "    custom v3_inception2\n",
      "5\n",
      "      parallel\n",
      "        37: conv, [768, 17, 17]=>[192, 17, 17]pm : 192x768x1x1+192 = 147648\n",
      "        serial\n",
      "          38: conv, [768, 17, 17]=>[128, 17, 17]pm : 128x768x1x1+128 = 98432\n",
      "          39: conv, [128, 17, 17]=>[128, 17, 17]pm : 128x128x1x7+128 = 114816\n",
      "          40: conv, [128, 17, 17]=>[192, 17, 17]pm : 192x128x7x1+192 = 172224\n",
      "        serial\n",
      "          41: conv, [768, 17, 17]=>[128, 17, 17]pm : 128x768x1x1+128 = 98432\n",
      "          42: conv, [128, 17, 17]=>[128, 17, 17]pm : 128x128x7x1+128 = 114816\n",
      "          43: conv, [128, 17, 17]=>[128, 17, 17]pm : 128x128x1x7+128 = 114816\n",
      "          44: conv, [128, 17, 17]=>[128, 17, 17]pm : 128x128x7x1+128 = 114816\n",
      "          45: conv, [128, 17, 17]=>[192, 17, 17]pm : 192x128x1x7+192 = 172224\n",
      "        serial\n",
      "          46: avg, [768, 17, 17]=>[768, 17, 17]\n",
      "          47: conv, [768, 17, 17]=>[192, 17, 17]pm : 192x768x1x1+192 = 147648\n",
      "<class 'str'> v3_inception2_6\n",
      "1\n",
      "Conv2d(768, 192, kernel_size=(1, 1), stride=(1, 1), padding=same)\n",
      "    custom v3_inception2\n",
      "5\n",
      "      parallel\n",
      "        48: conv, [768, 17, 17]=>[192, 17, 17]pm : 192x768x1x1+192 = 147648\n",
      "        serial\n",
      "          49: conv, [768, 17, 17]=>[160, 17, 17]pm : 160x768x1x1+160 = 123040\n",
      "          50: conv, [160, 17, 17]=>[160, 17, 17]pm : 160x160x1x7+160 = 179360\n",
      "          51: conv, [160, 17, 17]=>[192, 17, 17]pm : 192x160x7x1+192 = 215232\n",
      "        serial\n",
      "          52: conv, [768, 17, 17]=>[160, 17, 17]pm : 160x768x1x1+160 = 123040\n",
      "          53: conv, [160, 17, 17]=>[160, 17, 17]pm : 160x160x7x1+160 = 179360\n",
      "          54: conv, [160, 17, 17]=>[160, 17, 17]pm : 160x160x1x7+160 = 179360\n",
      "          55: conv, [160, 17, 17]=>[160, 17, 17]pm : 160x160x7x1+160 = 179360\n",
      "          56: conv, [160, 17, 17]=>[192, 17, 17]pm : 192x160x1x7+192 = 215232\n",
      "        serial\n",
      "          57: avg, [768, 17, 17]=>[768, 17, 17]\n",
      "          58: conv, [768, 17, 17]=>[192, 17, 17]pm : 192x768x1x1+192 = 147648\n",
      "<class 'str'> v3_inception2_7\n",
      "1\n",
      "Conv2d(768, 192, kernel_size=(1, 1), stride=(1, 1), padding=same)\n",
      "    custom v3_inception2\n",
      "5\n",
      "      parallel\n",
      "        59: conv, [768, 17, 17]=>[192, 17, 17]pm : 192x768x1x1+192 = 147648\n",
      "        serial\n",
      "          60: conv, [768, 17, 17]=>[160, 17, 17]pm : 160x768x1x1+160 = 123040\n",
      "          61: conv, [160, 17, 17]=>[160, 17, 17]pm : 160x160x1x7+160 = 179360\n",
      "          62: conv, [160, 17, 17]=>[192, 17, 17]pm : 192x160x7x1+192 = 215232\n",
      "        serial\n",
      "          63: conv, [768, 17, 17]=>[160, 17, 17]pm : 160x768x1x1+160 = 123040\n",
      "          64: conv, [160, 17, 17]=>[160, 17, 17]pm : 160x160x7x1+160 = 179360\n",
      "          65: conv, [160, 17, 17]=>[160, 17, 17]pm : 160x160x1x7+160 = 179360\n",
      "          66: conv, [160, 17, 17]=>[160, 17, 17]pm : 160x160x7x1+160 = 179360\n",
      "          67: conv, [160, 17, 17]=>[192, 17, 17]pm : 192x160x1x7+192 = 215232\n",
      "        serial\n",
      "          68: avg, [768, 17, 17]=>[768, 17, 17]\n",
      "          69: conv, [768, 17, 17]=>[192, 17, 17]pm : 192x768x1x1+192 = 147648\n",
      "<class 'str'> v3_inception2_8\n",
      "1\n",
      "Conv2d(768, 192, kernel_size=(1, 1), stride=(1, 1), padding=same)\n",
      "    custom v3_inception2\n",
      "5\n",
      "      parallel\n",
      "        70: conv, [768, 17, 17]=>[192, 17, 17]pm : 192x768x1x1+192 = 147648\n",
      "        serial\n",
      "          71: conv, [768, 17, 17]=>[192, 17, 17]pm : 192x768x1x1+192 = 147648\n",
      "          72: conv, [192, 17, 17]=>[192, 17, 17]pm : 192x192x1x7+192 = 258240\n",
      "          73: conv, [192, 17, 17]=>[192, 17, 17]pm : 192x192x7x1+192 = 258240\n",
      "        serial\n",
      "          74: conv, [768, 17, 17]=>[192, 17, 17]pm : 192x768x1x1+192 = 147648\n",
      "          75: conv, [192, 17, 17]=>[192, 17, 17]pm : 192x192x7x1+192 = 258240\n",
      "          76: conv, [192, 17, 17]=>[192, 17, 17]pm : 192x192x1x7+192 = 258240\n",
      "          77: conv, [192, 17, 17]=>[192, 17, 17]pm : 192x192x7x1+192 = 258240\n",
      "          78: conv, [192, 17, 17]=>[192, 17, 17]pm : 192x192x1x7+192 = 258240\n",
      "        serial\n",
      "          79: avg, [768, 17, 17]=>[768, 17, 17]\n",
      "          80: conv, [768, 17, 17]=>[192, 17, 17]pm : 192x768x1x1+192 = 147648\n",
      "<class 'str'> v3_inception2_9\n",
      "1\n",
      "Conv2d(768, 192, kernel_size=(1, 1), stride=(1, 1), padding=same)\n",
      "    custom v3_resize2\n",
      "4\n",
      "      parallel\n",
      "        serial\n",
      "          81: conv, [768, 17, 17]=>[192, 17, 17]pm : 192x768x1x1+192 = 147648\n",
      "          82: conv, [192, 17, 17]=>[320, 8, 8]pm : 320x192x3x3+320 = 553280\n",
      "        serial\n",
      "          83: conv, [768, 17, 17]=>[192, 17, 17]pm : 192x768x1x1+192 = 147648\n",
      "          84: conv, [192, 17, 17]=>[192, 17, 17]pm : 192x192x1x7+192 = 258240\n",
      "          85: conv, [192, 17, 17]=>[192, 17, 17]pm : 192x192x7x1+192 = 258240\n",
      "          86: conv, [192, 17, 17]=>[192, 8, 8]pm : 192x192x3x3+192 = 331968\n",
      "        87: max, [768, 17, 17]=>[768, 8, 8]\n",
      "<class 'str'> v3_resize2_10\n",
      "7\n",
      "MaxPool2d(kernel_size=(3, 3), stride=(2, 2), padding=same, dilation=1, ceil_mode=False)\n",
      "    custom v3_inception3\n",
      "5\n",
      "      parallel\n",
      "        88: conv, [1280, 8, 8]=>[320, 8, 8]pm : 320x1280x1x1+320 = 409920\n",
      "        serial\n"
     ]
    },
    {
     "name": "stdout",
     "output_type": "stream",
     "text": [
      "          89: conv, [1280, 8, 8]=>[384, 8, 8]pm : 384x1280x3x3+384 = 4424064\n",
      "          parallel\n",
      "            90: conv, [384, 8, 8]=>[384, 8, 8]pm : 384x384x1x3+384 = 442752\n",
      "            91: conv, [384, 8, 8]=>[384, 8, 8]pm : 384x384x3x1+384 = 442752\n",
      "        serial\n",
      "          92: conv, [1280, 8, 8]=>[448, 8, 8]pm : 448x1280x1x1+448 = 573888\n",
      "          93: conv, [448, 8, 8]=>[384, 8, 8]pm : 384x448x3x3+384 = 1548672\n",
      "          parallel\n",
      "            94: conv, [384, 8, 8]=>[384, 8, 8]pm : 384x384x1x3+384 = 442752\n",
      "            95: conv, [384, 8, 8]=>[384, 8, 8]pm : 384x384x3x1+384 = 442752\n",
      "        serial\n",
      "          96: avg, [1280, 8, 8]=>[1280, 8, 8]\n",
      "          97: conv, [1280, 8, 8]=>[192, 8, 8]pm : 192x1280x1x1+192 = 245952\n",
      "<class 'str'> v3_inception3_11\n",
      "1\n",
      "Conv2d(1280, 320, kernel_size=(1, 1), stride=(1, 1), padding=same)\n",
      "    custom v3_inception3\n",
      "5\n",
      "      parallel\n",
      "        98: conv, [2048, 8, 8]=>[320, 8, 8]pm : 320x2048x1x1+320 = 655680\n",
      "        serial\n",
      "          99: conv, [2048, 8, 8]=>[384, 8, 8]pm : 384x2048x3x3+384 = 7078272\n",
      "          parallel\n",
      "            100: conv, [384, 8, 8]=>[384, 8, 8]pm : 384x384x1x3+384 = 442752\n",
      "            101: conv, [384, 8, 8]=>[384, 8, 8]pm : 384x384x3x1+384 = 442752\n",
      "        serial\n",
      "          102: conv, [2048, 8, 8]=>[448, 8, 8]pm : 448x2048x1x1+448 = 917952\n",
      "          103: conv, [448, 8, 8]=>[384, 8, 8]pm : 384x448x3x3+384 = 1548672\n",
      "          parallel\n",
      "            104: conv, [384, 8, 8]=>[384, 8, 8]pm : 384x384x1x3+384 = 442752\n",
      "            105: conv, [384, 8, 8]=>[384, 8, 8]pm : 384x384x3x1+384 = 442752\n",
      "        serial\n",
      "          106: avg, [2048, 8, 8]=>[2048, 8, 8]\n",
      "          107: conv, [2048, 8, 8]=>[192, 8, 8]pm : 192x2048x1x1+192 = 393408\n",
      "<class 'str'> v3_inception3_12\n",
      "1\n",
      "Conv2d(2048, 320, kernel_size=(1, 1), stride=(1, 1), padding=same)\n",
      "    custom v3_postproc\n",
      "3\n",
      "      serial\n",
      "        108: avg, [2048, 8, 8]=>[2048, 1, 1]\n",
      "        109: dropout, [2048, 1, 1]=>[2048, 1, 1]\n",
      "<class 'str'> v3_postproc_13\n",
      "1\n",
      "AvgPool2d(kernel_size=(8, 8), stride=(8, 8), padding=0)\n",
      "<class 'str'> v3_postproc_13\n",
      "2\n",
      "Dropout2d(p=0.7, inplace=False)\n",
      "110: full, [2048, 1, 1]=>[200]pm :200x2048+200=409800\n",
      "Total parameter count : 32398886\n"
     ]
    }
   ],
   "source": [
    "inception_v3 = CnnExtModel('inception_v3', imagenet,\n",
    "                   [['custom', {'name':'inception_v3'}]], dump_structure=True)"
   ]
  },
  {
   "cell_type": "code",
   "execution_count": 617,
   "id": "2a94fd65",
   "metadata": {},
   "outputs": [
    {
     "data": {
      "text/plain": [
       "[Block(\n",
       "   (v3_inception1_2): Sequential(\n",
       "     (dict): ModuleDict(\n",
       "       (v3_inception1_2_1): Conv2d(192, 64, kernel_size=(1, 1), stride=(1, 1), padding=same)\n",
       "       (v3_inception1_2_2): Conv2d(192, 48, kernel_size=(1, 1), stride=(1, 1), padding=same)\n",
       "       (v3_inception1_2_3): Conv2d(48, 64, kernel_size=(5, 5), stride=(1, 1), padding=same)\n",
       "       (v3_inception1_2_4): Conv2d(192, 64, kernel_size=(1, 1), stride=(1, 1), padding=same)\n",
       "       (v3_inception1_2_5): Conv2d(64, 96, kernel_size=(3, 3), stride=(1, 1), padding=same)\n",
       "       (v3_inception1_2_6): Conv2d(96, 96, kernel_size=(3, 3), stride=(1, 1), padding=same)\n",
       "       (v3_inception1_2_7): AvgPool2d(kernel_size=(1, 1), stride=(1, 1), padding=0)\n",
       "       (v3_inception1_2_8): Conv2d(192, 32, kernel_size=(1, 1), stride=(1, 1), padding=same)\n",
       "     )\n",
       "   )\n",
       " ),\n",
       " Block(\n",
       "   (v3_inception1_3): Sequential(\n",
       "     (dict): ModuleDict(\n",
       "       (v3_inception1_3_1): Conv2d(256, 64, kernel_size=(1, 1), stride=(1, 1), padding=same)\n",
       "       (v3_inception1_3_2): Conv2d(256, 48, kernel_size=(1, 1), stride=(1, 1), padding=same)\n",
       "       (v3_inception1_3_3): Conv2d(48, 64, kernel_size=(5, 5), stride=(1, 1), padding=same)\n",
       "       (v3_inception1_3_4): Conv2d(256, 64, kernel_size=(1, 1), stride=(1, 1), padding=same)\n",
       "       (v3_inception1_3_5): Conv2d(64, 96, kernel_size=(3, 3), stride=(1, 1), padding=same)\n",
       "       (v3_inception1_3_6): Conv2d(96, 96, kernel_size=(3, 3), stride=(1, 1), padding=same)\n",
       "       (v3_inception1_3_7): AvgPool2d(kernel_size=(1, 1), stride=(1, 1), padding=0)\n",
       "       (v3_inception1_3_8): Conv2d(256, 64, kernel_size=(1, 1), stride=(1, 1), padding=same)\n",
       "     )\n",
       "   )\n",
       " ),\n",
       " Block(\n",
       "   (v3_inception1_4): Sequential(\n",
       "     (dict): ModuleDict(\n",
       "       (v3_inception1_4_1): Conv2d(288, 64, kernel_size=(1, 1), stride=(1, 1), padding=same)\n",
       "       (v3_inception1_4_2): Conv2d(288, 48, kernel_size=(1, 1), stride=(1, 1), padding=same)\n",
       "       (v3_inception1_4_3): Conv2d(48, 64, kernel_size=(5, 5), stride=(1, 1), padding=same)\n",
       "       (v3_inception1_4_4): Conv2d(288, 64, kernel_size=(1, 1), stride=(1, 1), padding=same)\n",
       "       (v3_inception1_4_5): Conv2d(64, 96, kernel_size=(3, 3), stride=(1, 1), padding=same)\n",
       "       (v3_inception1_4_6): Conv2d(96, 96, kernel_size=(3, 3), stride=(1, 1), padding=same)\n",
       "       (v3_inception1_4_7): AvgPool2d(kernel_size=(1, 1), stride=(1, 1), padding=0)\n",
       "       (v3_inception1_4_8): Conv2d(288, 64, kernel_size=(1, 1), stride=(1, 1), padding=same)\n",
       "     )\n",
       "   )\n",
       " ),\n",
       " Block(\n",
       "   (v3_resize1_5): Sequential(\n",
       "     (dict): ModuleDict(\n",
       "       (v3_resize1_5_1): Conv2d(288, 384, kernel_size=(3, 3), stride=(1, 1), padding=same)\n",
       "       (v3_resize1_5_2): Conv2d(288, 64, kernel_size=(1, 1), stride=(1, 1), padding=same)\n",
       "       (v3_resize1_5_3): Conv2d(64, 94, kernel_size=(3, 3), stride=(1, 1), padding=same)\n",
       "       (v3_resize1_5_4): Conv2d(94, 96, kernel_size=(3, 3), stride=(1, 1), padding=same)\n",
       "       (v3_resize1_5_5): MaxPool2d(kernel_size=(3, 3), stride=(2, 2), padding=same, dilation=1, ceil_mode=False)\n",
       "     )\n",
       "   )\n",
       " ),\n",
       " Block(\n",
       "   (v3_inception2_6): Sequential(\n",
       "     (dict): ModuleDict(\n",
       "       (v3_inception2_6_1): Conv2d(768, 192, kernel_size=(1, 1), stride=(1, 1), padding=same)\n",
       "       (v3_inception2_6_2): Conv2d(768, 128, kernel_size=(1, 1), stride=(1, 1), padding=same)\n",
       "       (v3_inception2_6_3): Conv2d(128, 128, kernel_size=(1, 7), stride=(1, 1), padding=same)\n",
       "       (v3_inception2_6_4): Conv2d(128, 192, kernel_size=(7, 1), stride=(1, 1), padding=same)\n",
       "       (v3_inception2_6_5): Conv2d(768, 128, kernel_size=(1, 1), stride=(1, 1), padding=same)\n",
       "       (v3_inception2_6_6): Conv2d(128, 128, kernel_size=(7, 1), stride=(1, 1), padding=same)\n",
       "       (v3_inception2_6_7): Conv2d(128, 128, kernel_size=(1, 7), stride=(1, 1), padding=same)\n",
       "       (v3_inception2_6_8): Conv2d(128, 128, kernel_size=(7, 1), stride=(1, 1), padding=same)\n",
       "       (v3_inception2_6_9): Conv2d(128, 192, kernel_size=(1, 7), stride=(1, 1), padding=same)\n",
       "       (v3_inception2_6_10): AvgPool2d(kernel_size=(1, 1), stride=(1, 1), padding=0)\n",
       "       (v3_inception2_6_11): Conv2d(768, 192, kernel_size=(1, 1), stride=(1, 1), padding=same)\n",
       "     )\n",
       "   )\n",
       " ),\n",
       " Block(\n",
       "   (v3_inception2_7): Sequential(\n",
       "     (dict): ModuleDict(\n",
       "       (v3_inception2_7_1): Conv2d(768, 192, kernel_size=(1, 1), stride=(1, 1), padding=same)\n",
       "       (v3_inception2_7_2): Conv2d(768, 160, kernel_size=(1, 1), stride=(1, 1), padding=same)\n",
       "       (v3_inception2_7_3): Conv2d(160, 160, kernel_size=(1, 7), stride=(1, 1), padding=same)\n",
       "       (v3_inception2_7_4): Conv2d(160, 192, kernel_size=(7, 1), stride=(1, 1), padding=same)\n",
       "       (v3_inception2_7_5): Conv2d(768, 160, kernel_size=(1, 1), stride=(1, 1), padding=same)\n",
       "       (v3_inception2_7_6): Conv2d(160, 160, kernel_size=(7, 1), stride=(1, 1), padding=same)\n",
       "       (v3_inception2_7_7): Conv2d(160, 160, kernel_size=(1, 7), stride=(1, 1), padding=same)\n",
       "       (v3_inception2_7_8): Conv2d(160, 160, kernel_size=(7, 1), stride=(1, 1), padding=same)\n",
       "       (v3_inception2_7_9): Conv2d(160, 192, kernel_size=(1, 7), stride=(1, 1), padding=same)\n",
       "       (v3_inception2_7_10): AvgPool2d(kernel_size=(1, 1), stride=(1, 1), padding=0)\n",
       "       (v3_inception2_7_11): Conv2d(768, 192, kernel_size=(1, 1), stride=(1, 1), padding=same)\n",
       "     )\n",
       "   )\n",
       " ),\n",
       " Block(\n",
       "   (v3_inception2_8): Sequential(\n",
       "     (dict): ModuleDict(\n",
       "       (v3_inception2_8_1): Conv2d(768, 192, kernel_size=(1, 1), stride=(1, 1), padding=same)\n",
       "       (v3_inception2_8_2): Conv2d(768, 160, kernel_size=(1, 1), stride=(1, 1), padding=same)\n",
       "       (v3_inception2_8_3): Conv2d(160, 160, kernel_size=(1, 7), stride=(1, 1), padding=same)\n",
       "       (v3_inception2_8_4): Conv2d(160, 192, kernel_size=(7, 1), stride=(1, 1), padding=same)\n",
       "       (v3_inception2_8_5): Conv2d(768, 160, kernel_size=(1, 1), stride=(1, 1), padding=same)\n",
       "       (v3_inception2_8_6): Conv2d(160, 160, kernel_size=(7, 1), stride=(1, 1), padding=same)\n",
       "       (v3_inception2_8_7): Conv2d(160, 160, kernel_size=(1, 7), stride=(1, 1), padding=same)\n",
       "       (v3_inception2_8_8): Conv2d(160, 160, kernel_size=(7, 1), stride=(1, 1), padding=same)\n",
       "       (v3_inception2_8_9): Conv2d(160, 192, kernel_size=(1, 7), stride=(1, 1), padding=same)\n",
       "       (v3_inception2_8_10): AvgPool2d(kernel_size=(1, 1), stride=(1, 1), padding=0)\n",
       "       (v3_inception2_8_11): Conv2d(768, 192, kernel_size=(1, 1), stride=(1, 1), padding=same)\n",
       "     )\n",
       "   )\n",
       " ),\n",
       " Block(\n",
       "   (v3_inception2_9): Sequential(\n",
       "     (dict): ModuleDict(\n",
       "       (v3_inception2_9_1): Conv2d(768, 192, kernel_size=(1, 1), stride=(1, 1), padding=same)\n",
       "       (v3_inception2_9_2): Conv2d(768, 192, kernel_size=(1, 1), stride=(1, 1), padding=same)\n",
       "       (v3_inception2_9_3): Conv2d(192, 192, kernel_size=(1, 7), stride=(1, 1), padding=same)\n",
       "       (v3_inception2_9_4): Conv2d(192, 192, kernel_size=(7, 1), stride=(1, 1), padding=same)\n",
       "       (v3_inception2_9_5): Conv2d(768, 192, kernel_size=(1, 1), stride=(1, 1), padding=same)\n",
       "       (v3_inception2_9_6): Conv2d(192, 192, kernel_size=(7, 1), stride=(1, 1), padding=same)\n",
       "       (v3_inception2_9_7): Conv2d(192, 192, kernel_size=(1, 7), stride=(1, 1), padding=same)\n",
       "       (v3_inception2_9_8): Conv2d(192, 192, kernel_size=(7, 1), stride=(1, 1), padding=same)\n",
       "       (v3_inception2_9_9): Conv2d(192, 192, kernel_size=(1, 7), stride=(1, 1), padding=same)\n",
       "       (v3_inception2_9_10): AvgPool2d(kernel_size=(1, 1), stride=(1, 1), padding=0)\n",
       "       (v3_inception2_9_11): Conv2d(768, 192, kernel_size=(1, 1), stride=(1, 1), padding=same)\n",
       "     )\n",
       "   )\n",
       " ),\n",
       " Block(\n",
       "   (v3_resize2_10): Sequential(\n",
       "     (dict): ModuleDict(\n",
       "       (v3_resize2_10_1): Conv2d(768, 192, kernel_size=(1, 1), stride=(1, 1), padding=same)\n",
       "       (v3_resize2_10_2): Conv2d(192, 320, kernel_size=(3, 3), stride=(1, 1), padding=same)\n",
       "       (v3_resize2_10_3): Conv2d(768, 192, kernel_size=(1, 1), stride=(1, 1), padding=same)\n",
       "       (v3_resize2_10_4): Conv2d(192, 192, kernel_size=(1, 7), stride=(1, 1), padding=same)\n",
       "       (v3_resize2_10_5): Conv2d(192, 192, kernel_size=(7, 1), stride=(1, 1), padding=same)\n",
       "       (v3_resize2_10_6): Conv2d(192, 192, kernel_size=(3, 3), stride=(1, 1), padding=same)\n",
       "       (v3_resize2_10_7): MaxPool2d(kernel_size=(3, 3), stride=(2, 2), padding=same, dilation=1, ceil_mode=False)\n",
       "     )\n",
       "   )\n",
       " ),\n",
       " Block(\n",
       "   (v3_inception3_11): Sequential(\n",
       "     (dict): ModuleDict(\n",
       "       (v3_inception3_11_1): Conv2d(1280, 320, kernel_size=(1, 1), stride=(1, 1), padding=same)\n",
       "       (v3_inception3_11_2): Conv2d(1280, 384, kernel_size=(3, 3), stride=(1, 1), padding=same)\n",
       "       (v3_inception3_11_3): Conv2d(384, 384, kernel_size=(1, 3), stride=(1, 1), padding=same)\n",
       "       (v3_inception3_11_4): Conv2d(384, 384, kernel_size=(3, 1), stride=(1, 1), padding=same)\n",
       "       (v3_inception3_11_5): Conv2d(1280, 448, kernel_size=(1, 1), stride=(1, 1), padding=same)\n",
       "       (v3_inception3_11_6): Conv2d(448, 384, kernel_size=(3, 3), stride=(1, 1), padding=same)\n",
       "       (v3_inception3_11_7): Conv2d(384, 384, kernel_size=(1, 3), stride=(1, 1), padding=same)\n",
       "       (v3_inception3_11_8): Conv2d(384, 384, kernel_size=(3, 1), stride=(1, 1), padding=same)\n",
       "       (v3_inception3_11_9): AvgPool2d(kernel_size=(1, 1), stride=(1, 1), padding=0)\n",
       "       (v3_inception3_11_10): Conv2d(1280, 192, kernel_size=(1, 1), stride=(1, 1), padding=same)\n",
       "     )\n",
       "   )\n",
       " ),\n",
       " Block(\n",
       "   (v3_inception3_12): Sequential(\n",
       "     (dict): ModuleDict(\n",
       "       (v3_inception3_12_1): Conv2d(2048, 320, kernel_size=(1, 1), stride=(1, 1), padding=same)\n",
       "       (v3_inception3_12_2): Conv2d(2048, 384, kernel_size=(3, 3), stride=(1, 1), padding=same)\n",
       "       (v3_inception3_12_3): Conv2d(384, 384, kernel_size=(1, 3), stride=(1, 1), padding=same)\n",
       "       (v3_inception3_12_4): Conv2d(384, 384, kernel_size=(3, 1), stride=(1, 1), padding=same)\n",
       "       (v3_inception3_12_5): Conv2d(2048, 448, kernel_size=(1, 1), stride=(1, 1), padding=same)\n",
       "       (v3_inception3_12_6): Conv2d(448, 384, kernel_size=(3, 3), stride=(1, 1), padding=same)\n",
       "       (v3_inception3_12_7): Conv2d(384, 384, kernel_size=(1, 3), stride=(1, 1), padding=same)\n",
       "       (v3_inception3_12_8): Conv2d(384, 384, kernel_size=(3, 1), stride=(1, 1), padding=same)\n",
       "       (v3_inception3_12_9): AvgPool2d(kernel_size=(1, 1), stride=(1, 1), padding=0)\n",
       "       (v3_inception3_12_10): Conv2d(2048, 192, kernel_size=(1, 1), stride=(1, 1), padding=same)\n",
       "     )\n",
       "   )\n",
       " ),\n",
       " Block(\n",
       "   (v3_postproc_13): Sequential(\n",
       "     (dict): ModuleDict(\n",
       "       (v3_postproc_13_1): AvgPool2d(kernel_size=(8, 8), stride=(8, 8), padding=0)\n",
       "       (v3_postproc_13_2): Dropout2d(p=0.7, inplace=False)\n",
       "     )\n",
       "   )\n",
       " )]"
      ]
     },
     "execution_count": 617,
     "metadata": {},
     "output_type": "execute_result"
    }
   ],
   "source": [
    "inception_v3.net"
   ]
  },
  {
   "cell_type": "code",
   "execution_count": 277,
   "id": "18b4d23b",
   "metadata": {},
   "outputs": [
    {
     "ename": "IndentationError",
     "evalue": "expected an indented block (Temp/ipykernel_10148/2155437296.py, line 13)",
     "output_type": "error",
     "traceback": [
      "\u001b[1;36m  File \u001b[1;32m\"C:\\Users\\oh\\AppData\\Local\\Temp/ipykernel_10148/2155437296.py\"\u001b[1;36m, line \u001b[1;32m13\u001b[0m\n\u001b[1;33m    def perallel(self)\u001b[0m\n\u001b[1;37m      ^\u001b[0m\n\u001b[1;31mIndentationError\u001b[0m\u001b[1;31m:\u001b[0m expected an indented block\n"
     ]
    }
   ],
   "source": [
    "class Net(nn.Module):\n",
    "    def __init__(self,name, module):\n",
    "        super(Net, self).__inti__()\n",
    "        self.module =  module\n",
    "        self.name =name\n",
    "        setattr(self, block_name, nn.Sequential())\n",
    "        getattr(self, block_name.add(self.asdf()))\n",
    "        \n",
    "    def forward(self, x):\n",
    "        cat_block = []\n",
    "        for block in self.module:\n",
    "            if not isinstance(block, list): cat_block.append(block(x))\n",
    "            else:\n",
    "                out = None\n",
    "\n",
    "                for i in block:\n",
    "                    if not isinstance(i, list): out = i(x)\n",
    "                    else:\n",
    "                        val1,val2 = i\n",
    "                        out=torch.cat(val1(out),val2(out),dim=1)\n",
    "                cat_block.append(out)\n",
    "        out=torch.cat(cat_block,dim=1)\n",
    "        return out\n",
    "        \n",
    "    def perallel(self)    \n",
    "        for i in self.module:\n",
    "            if \n",
    "    def get_layer(self)\n",
    "        layer=(name, layer)\n",
    "        return layer\n",
    "    \n",
    "for i in inception_v3.modules['v3_inception3_11']:\n",
    "    print(i)\n",
    "    print('\\n')\n",
    "    break"
   ]
  },
  {
   "cell_type": "code",
   "execution_count": 335,
   "id": "d79729b9",
   "metadata": {},
   "outputs": [],
   "source": [
    "a={}\n",
    "idx = 1\n",
    "for i in inception_v3.modules['v3_inception3_11']:\n",
    "    if not isinstance(i,list):\n",
    "        a['v3_inception3_11'+str(idx)]=i\n",
    "        idx += 1\n",
    "    else:\n",
    "        for j in i:\n",
    "            if not isinstance(j, list):\n",
    "                a['v3_inception3_11'+str(idx)]=j\n",
    "                idx +=1\n",
    "            else:\n",
    "                k,m = j\n",
    "                a['v3_inception3_11'+str(idx)]=k\n",
    "                a['v3_inception3_11'+str(idx)]=mZ\n",
    "# inception_v3.modules"
   ]
  },
  {
   "cell_type": "code",
   "execution_count": 336,
   "id": "e29fbaeb",
   "metadata": {},
   "outputs": [
    {
     "data": {
      "text/plain": [
       "{'v3_inception3_111': Conv2d(1280, 320, kernel_size=(1, 1), stride=(1, 1), padding=same),\n",
       " 'v3_inception3_112': Conv2d(1280, 384, kernel_size=(3, 3), stride=(1, 1), padding=same),\n",
       " 'v3_inception3_113': Conv2d(1280, 448, kernel_size=(1, 1), stride=(1, 1), padding=same),\n",
       " 'v3_inception3_114': Conv2d(448, 384, kernel_size=(3, 3), stride=(1, 1), padding=same),\n",
       " 'v3_inception3_115': AvgPool2d(kernel_size=(1, 1), stride=(1, 1), padding=0),\n",
       " 'v3_inception3_116': Conv2d(1280, 192, kernel_size=(1, 1), stride=(1, 1), padding=same)}"
      ]
     },
     "execution_count": 336,
     "metadata": {},
     "output_type": "execute_result"
    }
   ],
   "source": [
    "a"
   ]
  },
  {
   "cell_type": "code",
   "execution_count": 343,
   "id": "583e9bea",
   "metadata": {},
   "outputs": [],
   "source": [
    "class Net(nn.Module):\n",
    "    def __init__(self, a):\n",
    "        super(Net, self).__init__()\n",
    "#         for i in a:\n",
    "        self.layer=nn.Sequential(nn.ModuleDict(a))\n",
    "#         self.layer.add_modules(*a)\n",
    "        "
   ]
  },
  {
   "cell_type": "code",
   "execution_count": 344,
   "id": "aa9a4b41",
   "metadata": {},
   "outputs": [],
   "source": [
    "b=Net(a)"
   ]
  },
  {
   "cell_type": "code",
   "execution_count": 345,
   "id": "a831c96f",
   "metadata": {},
   "outputs": [
    {
     "data": {
      "text/plain": [
       "Net(\n",
       "  (layer): Sequential(\n",
       "    (0): ModuleDict(\n",
       "      (v3_inception3_111): Conv2d(1280, 320, kernel_size=(1, 1), stride=(1, 1), padding=same)\n",
       "      (v3_inception3_112): Conv2d(1280, 384, kernel_size=(3, 3), stride=(1, 1), padding=same)\n",
       "      (v3_inception3_113): Conv2d(1280, 448, kernel_size=(1, 1), stride=(1, 1), padding=same)\n",
       "      (v3_inception3_114): Conv2d(448, 384, kernel_size=(3, 3), stride=(1, 1), padding=same)\n",
       "      (v3_inception3_115): AvgPool2d(kernel_size=(1, 1), stride=(1, 1), padding=0)\n",
       "      (v3_inception3_116): Conv2d(1280, 192, kernel_size=(1, 1), stride=(1, 1), padding=same)\n",
       "    )\n",
       "  )\n",
       ")"
      ]
     },
     "execution_count": 345,
     "metadata": {},
     "output_type": "execute_result"
    }
   ],
   "source": [
    "b"
   ]
  },
  {
   "cell_type": "code",
   "execution_count": 305,
   "id": "e75546a8",
   "metadata": {},
   "outputs": [
    {
     "name": "stdout",
     "output_type": "stream",
     "text": [
      "Conv2d(1280, 384, kernel_size=(3, 3), stride=(1, 1), padding=same)\n",
      "[Conv2d(384, 384, kernel_size=(1, 3), stride=(1, 1), padding=same), Conv2d(384, 384, kernel_size=(3, 1), stride=(1, 1), padding=same)]\n"
     ]
    }
   ],
   "source": [
    "cat_block = []\n",
    "for block in inception_v3.modules['v3_inception3_11']:\n",
    "    if not isinstance(block, list): cat_block.append(block(x))\n",
    "    else:\n",
    "        out = None\n",
    "        \n",
    "        for i in block:\n",
    "            if not isinstance(i, list): out = i(x)\n",
    "            else:\n",
    "                val1,val2 = i\n",
    "                out=torch.cat(val1(out),val2(out))\n",
    "        cat_block.append(out)\n"
   ]
  },
  {
   "cell_type": "code",
   "execution_count": 299,
   "id": "40120864",
   "metadata": {},
   "outputs": [
    {
     "data": {
      "text/plain": [
       "[Conv2d(1280, 320, kernel_size=(1, 1), stride=(1, 1), padding=same)]"
      ]
     },
     "execution_count": 299,
     "metadata": {},
     "output_type": "execute_result"
    }
   ],
   "source": [
    "cat_block"
   ]
  },
  {
   "cell_type": "code",
   "execution_count": 123,
   "id": "add99749",
   "metadata": {},
   "outputs": [],
   "source": [
    "block_name = 'v3_inception3_11'\n",
    "pm_hidden=inception_v3.modules[2]\n",
    "idx = 10\n",
    "#'1. 최초 블럭하나가 와서 모듈이 4개면 총 4개로 리스트에 다긴다.\n",
    "# 수정하자\n",
    "class tmp(nn.Module):\n",
    "    def __init__(self, pm_hidden, block_name, idx):\n",
    "        super(tmp, self).__init__()\n",
    "        self.tot = []\n",
    "        self.block=[]\n",
    "        setattr(self, block_name, nn.Sequential())\n",
    "\n",
    "        #         self.add_module()\n",
    "\n",
    "                \n",
    "#                 setattr(self, node, module_node)\n",
    "                \n",
    "#         method=getattr(self, block_name)\n",
    "#         method(*block)\n",
    "\n",
    "\n",
    "        self.block = block\n",
    "    def forward(self,x):\n",
    "        \n",
    "        pass\n",
    "    def make_block(self):\n",
    "        for name, module in pm_hidden.named_children():\n",
    "        if len(list(module.named_children())) < 1 :\n",
    "            self.block.append(name)\n",
    "        else:\n",
    "            chck=[isinstance(seq, nn.Sequential) for seq in module]\n",
    "\n",
    "            if not True in chck:\n",
    "\n",
    "                self.block.append(name)\n",
    "\n",
    "            else:\n",
    "\n",
    "                arr= [i.replace('.weight','') for i in module.state_dict() if i.split('.')[-1]=='weight']\n",
    "\n",
    "                cat=[]\n",
    "                tot=[]\n",
    "\n",
    "                # 앞의nn과 비교\n",
    "                for i in range(len(arr)-1):\n",
    "                    val=arr[i].split('.')\n",
    "                    val_1=arr[i+1].split('.')\n",
    "\n",
    "                    if len(val)>1 and val[:-1] == val_1[:-1]:\n",
    "                        if val[-1].split('_')[0] and val_1[-1].split('_')[0] == 'parallel' and val[-1]!=val_1[-1]:\n",
    "                            cat.append(arr[i])\n",
    "                            cat.append(arr[i+1])\n",
    "                    else:\n",
    "                        tot.append(arr[i])\n",
    "\n",
    "                if len(cat)!=0 : tot.append(cat)\n",
    "                self.tot = tot\n",
    "                self.block.append(tot)\n",
    "a=tmp(pm_hidden,block_name,idx)\n",
    "#'2. 4개의 블럭을 named모듈로 검사하여 palalell이라는 단어가 있으면\n",
    "#'3. 다시 리스트에 담에서 병렬처리를 하게 한다.\n",
    "\n",
    "# inception_v3.modules[10]."
   ]
  },
  {
   "cell_type": "code",
   "execution_count": 122,
   "id": "50713f5e",
   "metadata": {},
   "outputs": [
    {
     "data": {
      "text/plain": [
       "['parallel_88',\n",
       " ['serial_89', ['serial_91.parallel_90', 'serial_91.parallel_91']],\n",
       " ['serial_92',\n",
       "  'serial_93',\n",
       "  ['serial_95.parallel_94', 'serial_95.parallel_95']],\n",
       " 'parallel_97']"
      ]
     },
     "execution_count": 122,
     "metadata": {},
     "output_type": "execute_result"
    }
   ],
   "source": [
    "a.block"
   ]
  },
  {
   "cell_type": "code",
   "execution_count": 124,
   "id": "99bb9d07",
   "metadata": {},
   "outputs": [
    {
     "data": {
      "text/plain": [
       "['parallel_16', 'parallel_18', 'parallel_21', 'parallel_23']"
      ]
     },
     "execution_count": 124,
     "metadata": {},
     "output_type": "execute_result"
    }
   ],
   "source": [
    "a.block"
   ]
  },
  {
   "cell_type": "code",
   "execution_count": 80,
   "id": "0c31692f",
   "metadata": {},
   "outputs": [
    {
     "data": {
      "text/plain": [
       "['serial_97']"
      ]
     },
     "execution_count": 80,
     "metadata": {},
     "output_type": "execute_result"
    }
   ],
   "source": [
    "tmp=[i.replace('.weight','') for i in pm_hidden[3].state_dict() if i.split('.')[-1]=='weight']\n",
    "# dictionary = {i : string for i,string in enumerate(tmp)}\n",
    "# print(len(dictionary))\n",
    "tmp  "
   ]
  },
  {
   "cell_type": "code",
   "execution_count": 47,
   "id": "196eb606",
   "metadata": {},
   "outputs": [
    {
     "ename": "SyntaxError",
     "evalue": "invalid syntax (Temp/ipykernel_10148/841384369.py, line 2)",
     "output_type": "error",
     "traceback": [
      "\u001b[1;36m  File \u001b[1;32m\"C:\\Users\\oh\\AppData\\Local\\Temp/ipykernel_10148/841384369.py\"\u001b[1;36m, line \u001b[1;32m2\u001b[0m\n\u001b[1;33m    if dictionary[i].split('.')[0]\u001b[0m\n\u001b[1;37m                                  ^\u001b[0m\n\u001b[1;31mSyntaxError\u001b[0m\u001b[1;31m:\u001b[0m invalid syntax\n"
     ]
    }
   ],
   "source": [
    "for i in range(len(dictionary)-1):\n",
    "    if dictionary[i].split('.')[0]\n",
    "    "
   ]
  },
  {
   "cell_type": "code",
   "execution_count": 39,
   "id": "6bd74992",
   "metadata": {},
   "outputs": [
    {
     "name": "stdout",
     "output_type": "stream",
     "text": [
      "['serial_92', 'serial_93', ['serial_95.parallel_94', 'serial_95.parallel_95']]\n"
     ]
    }
   ],
   "source": [
    "print(tot)"
   ]
  },
  {
   "cell_type": "code",
   "execution_count": 16,
   "id": "e4343520",
   "metadata": {},
   "outputs": [
    {
     "data": {
      "text/plain": [
       "[[]]"
      ]
     },
     "execution_count": 16,
     "metadata": {},
     "output_type": "execute_result"
    }
   ],
   "source": [
    "a.tot"
   ]
  },
  {
   "cell_type": "code",
   "execution_count": 165,
   "id": "06cf0bad",
   "metadata": {},
   "outputs": [
    {
     "name": "stdout",
     "output_type": "stream",
     "text": [
      "[Conv2d(1280, 320, kernel_size=(1, 1), stride=(1, 1), padding=same)]\n"
     ]
    }
   ],
   "source": [
    "for i in inception_v3.modules[10][1]:\n",
    "    print(i)\n",
    "    break\n"
   ]
  },
  {
   "cell_type": "code",
   "execution_count": 194,
   "id": "bb089ab6",
   "metadata": {},
   "outputs": [
    {
     "data": {
      "text/plain": [
       "1"
      ]
     },
     "execution_count": 194,
     "metadata": {},
     "output_type": "execute_result"
    }
   ],
   "source": [
    "len(inception_v3.modules[10][1][1])"
   ]
  },
  {
   "cell_type": "code",
   "execution_count": 266,
   "id": "e26a37d3",
   "metadata": {},
   "outputs": [
    {
     "data": {
      "text/plain": [
       "[Conv2d(1280, 320, kernel_size=(1, 1), stride=(1, 1), padding=same),\n",
       " [Conv2d(1280, 384, kernel_size=(3, 3), stride=(1, 1), padding=same),\n",
       "  [Conv2d(384, 384, kernel_size=(1, 3), stride=(1, 1), padding=same),\n",
       "   Conv2d(384, 384, kernel_size=(3, 1), stride=(1, 1), padding=same)]],\n",
       " [Conv2d(1280, 448, kernel_size=(1, 1), stride=(1, 1), padding=same),\n",
       "  Conv2d(448, 384, kernel_size=(3, 3), stride=(1, 1), padding=same),\n",
       "  [Conv2d(384, 384, kernel_size=(1, 3), stride=(1, 1), padding=same),\n",
       "   Conv2d(384, 384, kernel_size=(3, 1), stride=(1, 1), padding=same)]]]"
      ]
     },
     "execution_count": 266,
     "metadata": {},
     "output_type": "execute_result"
    }
   ],
   "source": [
    "inception_v3.modules['v3_inception3_11']"
   ]
  },
  {
   "cell_type": "code",
   "execution_count": 276,
   "id": "a5d9a0a2",
   "metadata": {},
   "outputs": [
    {
     "ename": "TypeError",
     "evalue": "data type \"list\" not understood",
     "output_type": "error",
     "traceback": [
      "\u001b[1;31m---------------------------------------------------------------------------\u001b[0m",
      "\u001b[1;31mTypeError\u001b[0m                                 Traceback (most recent call last)",
      "\u001b[1;32m~\\AppData\\Local\\Temp/ipykernel_10148/3252165938.py\u001b[0m in \u001b[0;36m<module>\u001b[1;34m\u001b[0m\n\u001b[1;32m----> 1\u001b[1;33m \u001b[0mnp\u001b[0m\u001b[1;33m.\u001b[0m\u001b[0mfromiter\u001b[0m\u001b[1;33m(\u001b[0m\u001b[0minception_v3\u001b[0m\u001b[1;33m.\u001b[0m\u001b[0mmodules\u001b[0m\u001b[1;33m[\u001b[0m\u001b[1;34m'v3_inception3_11'\u001b[0m\u001b[1;33m]\u001b[0m\u001b[1;33m,\u001b[0m\u001b[1;34m'list'\u001b[0m\u001b[1;33m)\u001b[0m\u001b[1;33m\u001b[0m\u001b[0m\n\u001b[0m",
      "\u001b[1;31mTypeError\u001b[0m: data type \"list\" not understood"
     ]
    }
   ],
   "source": []
  },
  {
   "cell_type": "code",
   "execution_count": 201,
   "id": "8b802a0a",
   "metadata": {},
   "outputs": [],
   "source": [
    "a={}\n",
    "a['1']= 2"
   ]
  },
  {
   "cell_type": "code",
   "execution_count": 202,
   "id": "04d91885",
   "metadata": {},
   "outputs": [
    {
     "data": {
      "text/plain": [
       "{'1': 2}"
      ]
     },
     "execution_count": 202,
     "metadata": {},
     "output_type": "execute_result"
    }
   ],
   "source": [
    "a"
   ]
  },
  {
   "cell_type": "code",
   "execution_count": 55,
   "id": "d16f280c",
   "metadata": {},
   "outputs": [
    {
     "name": "stdout",
     "output_type": "stream",
     "text": [
      "[[[[[]]]]]\n"
     ]
    }
   ],
   "source": [
    "a=[]\n",
    "for i in range(4):\n",
    "    a=[a]\n",
    "    \n",
    "print(a)"
   ]
  },
  {
   "cell_type": "code",
   "execution_count": 49,
   "id": "4d4cf9f9",
   "metadata": {},
   "outputs": [
    {
     "data": {
      "text/plain": [
       "['serial_89.weight',\n",
       " 'serial_89.bias',\n",
       " 'serial_91.parallel_90.weight',\n",
       " 'serial_91.parallel_90.bias',\n",
       " 'serial_91.parallel_91.weight',\n",
       " 'serial_91.parallel_91.bias']"
      ]
     },
     "execution_count": 49,
     "metadata": {},
     "output_type": "execute_result"
    }
   ],
   "source": [
    "# list(inception_v3.modules[10][1].named_children())\n",
    "# list(inception_v3.modules[10][1].named_modules())\n",
    "                [1,[2[4],3[4]]] <<<<<<\n",
    "1. 리스트에 계속 담는다.\n",
    "[1,2,3]\n",
    "1->2->3->[4(3),5(3)]\n",
    "\n",
    "[[4]]\n",
    "\n",
    "cat[4(3(2(1(x)))).5(3(2(1(x))))]\n",
    "양갈래로 나오면 -> 마지막값을 \n",
    "\n",
    "[[1,2,3]]\n",
    "\n",
    "list(inception_v3.modules[10][1].state_dict())"
   ]
  },
  {
   "cell_type": "code",
   "execution_count": 37,
   "id": "86524358",
   "metadata": {},
   "outputs": [],
   "source": [
    "arr=list(map(lambda x : x.replace('.weight','').replace('.bias',''), list(inception_v3.modules[10][2].state_dict())))\n",
    "result=[]\n",
    "for value in arr: \n",
    "    if value not in result: \n",
    "        result.append(value)\n",
    "        \n",
    "cat=[]\n",
    "tot=[]\n",
    "for i in range(len(result)-1):\n",
    "    val=result[i].split('.')\n",
    "    val_1=result[i+1].split('.')\n",
    "\n",
    "    if len(val)>1 and val[:-1] == val_1[:-1]:\n",
    "        if val[-1].split('_')[0] and val_1[-1].split('_')[0] == 'parallel':\n",
    "            cat.append(result[i])\n",
    "            cat.append(result[i+1])\n",
    "    else:\n",
    "        tot.append(result[i])\n",
    "tot.append(cat)"
   ]
  },
  {
   "cell_type": "code",
   "execution_count": 38,
   "id": "304374ab",
   "metadata": {},
   "outputs": [
    {
     "name": "stdout",
     "output_type": "stream",
     "text": [
      "['serial_92', 'serial_93', ['serial_95.parallel_94', 'serial_95.parallel_95']]\n"
     ]
    }
   ],
   "source": [
    "print(tot)"
   ]
  },
  {
   "cell_type": "code",
   "execution_count": 139,
   "id": "486df3ae",
   "metadata": {},
   "outputs": [],
   "source": [
    "cat=[]\n",
    "for i in range(len(result)-1):\n",
    "    val=result[i].split('.')\n",
    "    val_1=result[i+1].split('.')\n",
    "\n",
    "    if len(val)>1 and val[:-1] == val_1[:-1]:\n",
    "        if val[-1].split('_')[0] and val_1[-1].split('_')[0] == 'parallel':\n",
    "            cat.append(result[i])\n",
    "            cat.append(result[i+1])"
   ]
  },
  {
   "cell_type": "code",
   "execution_count": 140,
   "id": "fb14fce5",
   "metadata": {},
   "outputs": [
    {
     "data": {
      "text/plain": [
       "['serial_91.parallel_90', 'serial_91.parallel_91']"
      ]
     },
     "execution_count": 140,
     "metadata": {},
     "output_type": "execute_result"
    }
   ],
   "source": [
    "cat"
   ]
  },
  {
   "cell_type": "code",
   "execution_count": 79,
   "id": "22393b40",
   "metadata": {},
   "outputs": [
    {
     "data": {
      "text/plain": [
       "[['serial_89'], ['serial_91', 'parallel_90'], ['serial_91', 'parallel_91']]"
      ]
     },
     "execution_count": 79,
     "metadata": {},
     "output_type": "execute_result"
    }
   ],
   "source": [
    "a=()\n",
    "for i in result:\n"
   ]
  },
  {
   "cell_type": "code",
   "execution_count": 23,
   "id": "ae308055",
   "metadata": {},
   "outputs": [
    {
     "name": "stdout",
     "output_type": "stream",
     "text": [
      "serial_89 Conv2d(1280, 384, kernel_size=(3, 3), stride=(1, 1), padding=same)\n",
      "11\n",
      "serial_91 Sequential(\n",
      "  (parallel_90): Conv2d(384, 384, kernel_size=(1, 3), stride=(1, 1), padding=same)\n",
      "  (parallel_91): Conv2d(384, 384, kernel_size=(3, 1), stride=(1, 1), padding=same)\n",
      ")\n",
      "11\n",
      "serial_91.parallel_90 Conv2d(384, 384, kernel_size=(1, 3), stride=(1, 1), padding=same)\n",
      "11\n",
      "serial_91.parallel_91 Conv2d(384, 384, kernel_size=(3, 1), stride=(1, 1), padding=same)\n",
      "11\n"
     ]
    }
   ],
   "source": [
    "block=[]\n",
    "\n",
    "for name, module in inception_v3.modules[10].named_children():\n",
    "    if name == 'parallel_91':\n",
    "        \n",
    "        \n",
    "        for i,j in list(module.named_modules())[1:]:\n",
    "            print(i, j)\n",
    "            print(11)\n",
    "#             break"
   ]
  },
  {
   "cell_type": "code",
   "execution_count": 26,
   "id": "3af7870d",
   "metadata": {},
   "outputs": [
    {
     "data": {
      "text/plain": [
       "4"
      ]
     },
     "execution_count": 26,
     "metadata": {},
     "output_type": "execute_result"
    }
   ],
   "source": [
    "#'1. 최초 블럭하나가 와서 모듈이 4개면 총 4개로 리스트에 다긴다.\n",
    "name = 'v3_inception3_11'\n",
    "\n",
    "class tmp(nn.Module):\n",
    "    def __init__(self, pm_hidden, block_name, idx):\n",
    "        \n",
    "        setattr(self, block_name, nn.Sequential())\n",
    "                \n",
    "        block=[]\n",
    "#         self.add_module()\n",
    "        for name, module in pm_hidden.named_children():\n",
    "            if not isinstance(module, nn.Sequential):\n",
    "                block.append((name, module))\n",
    "\n",
    "            \n",
    "            else:\n",
    "                \n",
    "                for node, module_node in list(module.named_modules())[1:]:\n",
    "                    node = node.replace('.','_')\n",
    "                    setattr(self, node, module_node)\n",
    "                \n",
    "        method=getattr(self, block_name)\n",
    "        method(*block)\n",
    "\n",
    "\n",
    "\n",
    "    def forward(self,x):\n",
    "        \n",
    "    \n",
    "#'2. 4개의 블럭을 named모듈로 검사하여 palalell이라는 단어가 있으면\n",
    "#'3. 다시 리스트에 담에서 병렬처리를 하게 한다.\n",
    "\n",
    "# inception_v3.modules[10]."
   ]
  },
  {
   "cell_type": "code",
   "execution_count": 175,
   "id": "fb3ddad9",
   "metadata": {},
   "outputs": [
    {
     "ename": "AttributeError",
     "evalue": "'str' object has no attribute 'i'",
     "output_type": "error",
     "traceback": [
      "\u001b[1;31m---------------------------------------------------------------------------\u001b[0m",
      "\u001b[1;31mAttributeError\u001b[0m                            Traceback (most recent call last)",
      "\u001b[1;32m~\\AppData\\Local\\Temp/ipykernel_900/3100832284.py\u001b[0m in \u001b[0;36m<module>\u001b[1;34m\u001b[0m\n\u001b[1;32m----> 1\u001b[1;33m \u001b[0mi\u001b[0m\u001b[1;33m.\u001b[0m\u001b[0mi\u001b[0m\u001b[1;33m=\u001b[0m\u001b[1;36m1\u001b[0m\u001b[1;33m\u001b[0m\u001b[0m\n\u001b[0m",
      "\u001b[1;31mAttributeError\u001b[0m: 'str' object has no attribute 'i'"
     ]
    }
   ],
   "source": [
    "i.i=1"
   ]
  },
  {
   "cell_type": "code",
   "execution_count": 167,
   "id": "6022a3a4",
   "metadata": {},
   "outputs": [
    {
     "data": {
      "text/plain": [
       "Conv2d(1280, 384, kernel_size=(3, 3), stride=(1, 1), padding=same)"
      ]
     },
     "execution_count": 167,
     "metadata": {},
     "output_type": "execute_result"
    }
   ],
   "source": [
    "inception_v3.modules[10].parallel_91.serial_89"
   ]
  },
  {
   "cell_type": "code",
   "execution_count": 176,
   "id": "912a18c8",
   "metadata": {},
   "outputs": [
    {
     "name": "stdout",
     "output_type": "stream",
     "text": [
      "\n"
     ]
    }
   ],
   "source": [
    "for name, i in inception_v3.modules[10].named_modules():\n",
    "    print(name)\n",
    "    break"
   ]
  },
  {
   "cell_type": "code",
   "execution_count": 174,
   "id": "f4609cb1",
   "metadata": {},
   "outputs": [
    {
     "data": {
      "text/plain": [
       "Sequential(\n",
       "  (parallel_88): Conv2d(1280, 320, kernel_size=(1, 1), stride=(1, 1), padding=same)\n",
       "  (parallel_91): Sequential(\n",
       "    (serial_89): Conv2d(1280, 384, kernel_size=(3, 3), stride=(1, 1), padding=same)\n",
       "    (serial_91): Sequential(\n",
       "      (parallel_90): Conv2d(384, 384, kernel_size=(1, 3), stride=(1, 1), padding=same)\n",
       "      (parallel_91): Conv2d(384, 384, kernel_size=(3, 1), stride=(1, 1), padding=same)\n",
       "    )\n",
       "  )\n",
       "  (parallel_95): Sequential(\n",
       "    (serial_92): Conv2d(1280, 448, kernel_size=(1, 1), stride=(1, 1), padding=same)\n",
       "    (serial_93): Conv2d(448, 384, kernel_size=(3, 3), stride=(1, 1), padding=same)\n",
       "    (serial_95): Sequential(\n",
       "      (parallel_94): Conv2d(384, 384, kernel_size=(1, 3), stride=(1, 1), padding=same)\n",
       "      (parallel_95): Conv2d(384, 384, kernel_size=(3, 1), stride=(1, 1), padding=same)\n",
       "    )\n",
       "  )\n",
       "  (parallel_97): Sequential(\n",
       "    (serial_96): AvgPool2d(kernel_size=(1, 1), stride=(1, 1), padding=0)\n",
       "    (serial_97): Conv2d(1280, 192, kernel_size=(1, 1), stride=(1, 1), padding=same)\n",
       "  )\n",
       ")"
      ]
     },
     "execution_count": 174,
     "metadata": {},
     "output_type": "execute_result"
    }
   ],
   "source": [
    "inception_v3.modules[10]"
   ]
  },
  {
   "cell_type": "code",
   "execution_count": 179,
   "id": "c269661f",
   "metadata": {},
   "outputs": [
    {
     "name": "stdout",
     "output_type": "stream",
     "text": [
      "serial_89\n",
      "serial_91\n",
      "serial_91.parallel_90\n",
      "serial_91.parallel_91\n"
     ]
    }
   ],
   "source": [
    "for name, module in inception_v3.modules[10].named_children():\n",
    "    if name == 'parallel_91':\n",
    "        \n",
    "        \n",
    "        \n",
    "        for i,j in list(module.named_modules())[1:]:\n",
    "            print(i)\n",
    "#             break\n",
    "\n",
    "        \n",
    "#         modul\n",
    "# #         module[0]\n",
    "# #         print(list(module.state_dict()))\n",
    "# #         a=list(map(lambda x : len(x.split('.')), list(module.state_dict())))\n",
    "#         b=list(map(lambda x : x.split('.')[:-1], list(module.state_dict())))\n",
    "#         tmp = []\n",
    "#         for i in b:\n",
    "#             chck = None\n",
    "#             if chck == i :\n",
    "#                 pass\n",
    "#             else:\n",
    "#                 getattr(modul)\n",
    "            \n",
    "#             print(i)\n",
    "#         print(max(a))\n",
    "\n",
    "#         print(list(module.modules()))"
   ]
  },
  {
   "cell_type": "code",
   "execution_count": 182,
   "id": "17ad6090",
   "metadata": {},
   "outputs": [
    {
     "data": {
      "text/plain": [
       "'serial_89'"
      ]
     },
     "execution_count": 182,
     "metadata": {},
     "output_type": "execute_result"
    }
   ],
   "source": [
    "'serial_89'.replace('.','_')\n",
    "# 'serial_91.parallel_90'.replace('.','_')"
   ]
  },
  {
   "cell_type": "code",
   "execution_count": 141,
   "id": "c3e86e11",
   "metadata": {},
   "outputs": [
    {
     "ename": "TypeError",
     "evalue": "cannot unpack non-iterable Conv2d object",
     "output_type": "error",
     "traceback": [
      "\u001b[1;31m---------------------------------------------------------------------------\u001b[0m",
      "\u001b[1;31mTypeError\u001b[0m                                 Traceback (most recent call last)",
      "\u001b[1;32m~\\AppData\\Local\\Temp/ipykernel_900/4282651337.py\u001b[0m in \u001b[0;36m<module>\u001b[1;34m\u001b[0m\n\u001b[1;32m----> 1\u001b[1;33m \u001b[1;32mfor\u001b[0m \u001b[0mname\u001b[0m\u001b[1;33m,\u001b[0m \u001b[0mmodules\u001b[0m \u001b[1;32min\u001b[0m \u001b[0mlist\u001b[0m\u001b[1;33m(\u001b[0m\u001b[0minception_v3\u001b[0m\u001b[1;33m.\u001b[0m\u001b[0mmodules\u001b[0m\u001b[1;33m[\u001b[0m\u001b[1;36m10\u001b[0m\u001b[1;33m]\u001b[0m\u001b[1;33m)\u001b[0m\u001b[1;33m:\u001b[0m\u001b[1;33m\u001b[0m\u001b[0m\n\u001b[0m\u001b[0;32m      2\u001b[0m     \u001b[0mprint\u001b[0m\u001b[1;33m(\u001b[0m\u001b[0mname\u001b[0m\u001b[1;33m)\u001b[0m\u001b[1;33m\u001b[0m\u001b[0m\n",
      "\u001b[1;31mTypeError\u001b[0m: cannot unpack non-iterable Conv2d object"
     ]
    }
   ],
   "source": [
    "for name, modules in list(inception_v3.modules[10]):\n",
    "    print(name)"
   ]
  },
  {
   "cell_type": "code",
   "execution_count": 399,
   "id": "cea77740",
   "metadata": {},
   "outputs": [
    {
     "name": "stdout",
     "output_type": "stream",
     "text": [
      "Sequential(\n",
      "  (serial_0): Conv2d(1280, 384, kernel_size=(3, 3), stride=(1, 1), padding=same)\n",
      "  (serial_1): Sequential(\n",
      "    (parallel_0): Conv2d(384, 384, kernel_size=(1, 3), stride=(1, 1), padding=same)\n",
      "    (parallel_1): Conv2d(384, 384, kernel_size=(3, 1), stride=(1, 1), padding=same)\n",
      "  )\n",
      ")\n",
      "Conv2d(1280, 384, kernel_size=(3, 3), stride=(1, 1), padding=same)\n",
      "Sequential(\n",
      "  (parallel_0): Conv2d(384, 384, kernel_size=(1, 3), stride=(1, 1), padding=same)\n",
      "  (parallel_1): Conv2d(384, 384, kernel_size=(3, 1), stride=(1, 1), padding=same)\n",
      ")\n",
      "Conv2d(384, 384, kernel_size=(1, 3), stride=(1, 1), padding=same)\n",
      "Conv2d(384, 384, kernel_size=(3, 1), stride=(1, 1), padding=same)\n"
     ]
    }
   ],
   "source": [
    "for i in range(len(list(inception_v3.modules[10]))):\n",
    "#     print(list(inception_v3.modules[10])[i])\n",
    "    \n",
    "    if isinstance(list(inception_v3.modules[10])[i],nn.Sequential):\n",
    "        for j,f in list(inception_v3.modules[10])[i].named_modules():\n",
    "            print(f)\n",
    "    \n",
    "    \n",
    "    \n",
    "#     for j in list(inception_v3.modules[10])[i]\n",
    "    if i == 1:\n",
    "        break\n",
    "#     for j in [list(inception_v3.modules[10])[i]]:\n",
    "#         print(j)"
   ]
  },
  {
   "cell_type": "code",
   "execution_count": 385,
   "id": "7db56e71",
   "metadata": {},
   "outputs": [
    {
     "name": "stdout",
     "output_type": "stream",
     "text": [
      "Conv2d(1280, 384, kernel_size=(3, 3), stride=(1, 1), padding=same)\n",
      "Conv2d(1280, 448, kernel_size=(1, 1), stride=(1, 1), padding=same)\n",
      "AvgPool2d(kernel_size=(1, 1), stride=(1, 1), padding=0)\n"
     ]
    }
   ],
   "source": [
    "a=1\n",
    "for i in list(inception_v3.modules[10]):\n",
    "    if isinstance(i, nn.Sequential):\n",
    "        for j in i :\n",
    "            print(j)\n",
    "            a+=1\n",
    "            if a == 2 :\n",
    "                break\n",
    "            break"
   ]
  },
  {
   "cell_type": "code",
   "execution_count": 241,
   "id": "5bba1d6f",
   "metadata": {},
   "outputs": [
    {
     "name": "stdout",
     "output_type": "stream",
     "text": [
      "parallel\n",
      "{}\n",
      "['conv', {'ksize': 1, 'chn': 320}]\n",
      "['serial', {}, ['conv', {'ksize': [3, 3], 'chn': 384}], ['parallel', {}, ['conv', {'ksize': [1, 3], 'chn': 384}], ['conv', {'ksize': [3, 1], 'chn': 384}]]]\n",
      "['serial', {}, ['conv', {'ksize': [1, 1], 'chn': 448}], ['conv', {'ksize': [3, 3], 'chn': 384}], ['parallel', {}, ['conv', {'ksize': [1, 3], 'chn': 384}], ['conv', {'ksize': [3, 1], 'chn': 384}]]]\n",
      "['serial', {}, ['avg', {'ksize': 3, 'stride': 1}], ['conv', {'ksize': 1, 'chn': 192}]]\n"
     ]
    }
   ],
   "source": [
    "for name in inception_v3.macro[10]:\n",
    "    print(name)\n",
    "#     break"
   ]
  },
  {
   "cell_type": "code",
   "execution_count": 107,
   "id": "117df8e0",
   "metadata": {},
   "outputs": [
    {
     "name": "stdout",
     "output_type": "stream",
     "text": [
      "Conv2d(192, 64, kernel_size=(1, 1), stride=(1, 1), padding=same) 1\n",
      "Sequential(\n",
      "  (serial_0): Conv2d(192, 48, kernel_size=(1, 1), stride=(1, 1), padding=same)\n",
      "  (serial_1): Conv2d(48, 64, kernel_size=(5, 5), stride=(1, 1), padding=same)\n",
      ") 2\n",
      "Sequential(\n",
      "  (serial_0): Conv2d(192, 64, kernel_size=(1, 1), stride=(1, 1), padding=same)\n",
      "  (serial_1): Conv2d(64, 96, kernel_size=(3, 3), stride=(1, 1), padding=same)\n",
      "  (serial_2): Conv2d(96, 96, kernel_size=(3, 3), stride=(1, 1), padding=same)\n",
      ") 3\n",
      "Sequential(\n",
      "  (serial_0): AvgPool2d(kernel_size=(1, 1), stride=(1, 1), padding=0)\n",
      "  (serial_1): Conv2d(192, 32, kernel_size=(1, 1), stride=(1, 1), padding=same)\n",
      ") 4\n"
     ]
    }
   ],
   "source": [
    "a=1\n",
    "for i in inception_v3.modules[1].children():\n",
    "    print(i,a)\n",
    "    a+=1\n",
    "#     break"
   ]
  },
  {
   "cell_type": "code",
   "execution_count": null,
   "id": "b6e65f72",
   "metadata": {},
   "outputs": [],
   "source": [
    "class Parallel(nn.Module):\n",
    "    def __init__(self, layer):\n",
    "        super(Parallel, self).__init__()\n",
    "        \n",
    "        setattr(self, self.name, nn.Sequential(*layer))\n",
    "        \n",
    "        \n",
    "    def forward(self,x):\n",
    "        out = []\n",
    "        for moduls in self.name.children():\n",
    "            out.append(moduls(x))\n",
    "#         out1 = self.layer1\n",
    "            cat=torch.cat(out,dim=0)\n",
    "        \n",
    "        return cat"
   ]
  },
  {
   "cell_type": "code",
   "execution_count": 173,
   "id": "ce26d560",
   "metadata": {},
   "outputs": [
    {
     "data": {
      "text/plain": [
       "'Sequential'"
      ]
     },
     "execution_count": 173,
     "metadata": {},
     "output_type": "execute_result"
    }
   ],
   "source": [
    "inception_v3.modules[10]."
   ]
  },
  {
   "cell_type": "code",
   "execution_count": 171,
   "id": "ad8543ab",
   "metadata": {},
   "outputs": [
    {
     "name": "stdout",
     "output_type": "stream",
     "text": [
      "Conv2d(1280, 320, kernel_size=(1, 1), stride=(1, 1), padding=same)\n",
      "Sequential(\n",
      "  (serial_0): Conv2d(1280, 384, kernel_size=(3, 3), stride=(1, 1), padding=same)\n",
      "  (serial_1): Sequential(\n",
      "    (parallel_0): Conv2d(384, 384, kernel_size=(1, 3), stride=(1, 1), padding=same)\n",
      "    (parallel_1): Conv2d(384, 384, kernel_size=(3, 1), stride=(1, 1), padding=same)\n",
      "  )\n",
      ")\n",
      "Sequential(\n",
      "  (serial_0): Conv2d(1280, 448, kernel_size=(1, 1), stride=(1, 1), padding=same)\n",
      "  (serial_1): Conv2d(448, 384, kernel_size=(3, 3), stride=(1, 1), padding=same)\n",
      "  (serial_2): Sequential(\n",
      "    (parallel_0): Conv2d(384, 384, kernel_size=(1, 3), stride=(1, 1), padding=same)\n",
      "    (parallel_1): Conv2d(384, 384, kernel_size=(3, 1), stride=(1, 1), padding=same)\n",
      "  )\n",
      ")\n",
      "Sequential(\n",
      "  (serial_0): AvgPool2d(kernel_size=(1, 1), stride=(1, 1), padding=0)\n",
      "  (serial_1): Conv2d(1280, 192, kernel_size=(1, 1), stride=(1, 1), padding=same)\n",
      ")\n"
     ]
    }
   ],
   "source": [
    "for i in inception_v3.modules[10].children():\n",
    "    print(i)"
   ]
  },
  {
   "cell_type": "code",
   "execution_count": 169,
   "id": "c32c854d",
   "metadata": {},
   "outputs": [
    {
     "name": "stdout",
     "output_type": "stream",
     "text": [
      "parallel\n",
      "{}\n",
      "['conv', {'ksize': 1, 'chn': 320}]\n",
      "['serial', {}, ['conv', {'ksize': [3, 3], 'chn': 384}], ['parallel', {}, ['conv', {'ksize': [1, 3], 'chn': 384}], ['conv', {'ksize': [3, 1], 'chn': 384}]]]\n",
      "['serial', {}, ['conv', {'ksize': [1, 1], 'chn': 448}], ['conv', {'ksize': [3, 3], 'chn': 384}], ['parallel', {}, ['conv', {'ksize': [1, 3], 'chn': 384}], ['conv', {'ksize': [3, 1], 'chn': 384}]]]\n",
      "['serial', {}, ['avg', {'ksize': 3, 'stride': 1}], ['conv', {'ksize': 1, 'chn': 192}]]\n"
     ]
    },
    {
     "data": {
      "text/plain": [
       "[None, None, None, None, None, None]"
      ]
     },
     "execution_count": 169,
     "metadata": {},
     "output_type": "execute_result"
    }
   ],
   "source": [
    "if isinstance(inception_v3.macro[10], list):\n",
    "    for i in \n",
    "list(map(lambda x: print(x),inception_v3.macro[10]))"
   ]
  },
  {
   "cell_type": "code",
   "execution_count": 188,
   "id": "27439244",
   "metadata": {},
   "outputs": [
    {
     "data": {
      "text/plain": [
       "True"
      ]
     },
     "execution_count": 188,
     "metadata": {},
     "output_type": "execute_result"
    }
   ],
   "source": [
    "{} in inception_v3.macro[10]"
   ]
  },
  {
   "cell_type": "code",
   "execution_count": 178,
   "id": "feb24c28",
   "metadata": {},
   "outputs": [
    {
     "data": {
      "text/plain": [
       "'serial'"
      ]
     },
     "execution_count": 178,
     "metadata": {},
     "output_type": "execute_result"
    }
   ],
   "source": [
    "inception_v3.macro[10][4][0]"
   ]
  },
  {
   "cell_type": "code",
   "execution_count": 158,
   "id": "6abe2a94",
   "metadata": {},
   "outputs": [
    {
     "name": "stdout",
     "output_type": "stream",
     "text": [
      "parallel\n",
      "{}\n",
      "['conv', {'ksize': 1, 'chn': 320}]\n",
      "['serial', {}, ['conv', {'ksize': [3, 3], 'chn': 384}], ['parallel', {}, ['conv', {'ksize': [1, 3], 'chn': 384}], ['conv', {'ksize': [3, 1], 'chn': 384}]]]\n",
      "['serial', {}, ['conv', {'ksize': [1, 1], 'chn': 448}], ['conv', {'ksize': [3, 3], 'chn': 384}], ['parallel', {}, ['conv', {'ksize': [1, 3], 'chn': 384}], ['conv', {'ksize': [3, 1], 'chn': 384}]]]\n",
      "['serial', {}, ['avg', {'ksize': 3, 'stride': 1}], ['conv', {'ksize': 1, 'chn': 192}]]\n"
     ]
    }
   ],
   "source": [
    "for i in inception_v3.macro[10]:\n",
    "    print(i)"
   ]
  },
  {
   "cell_type": "code",
   "execution_count": 618,
   "id": "379f4bfb",
   "metadata": {},
   "outputs": [
    {
     "name": "stdout",
     "output_type": "stream",
     "text": [
      "Using device: cpu\n",
      "Using PyTorch version: 1.9.0\n"
     ]
    }
   ],
   "source": [
    "F_DATA_DIR = BASE_DIR+ 'code/util/dataset/flower_prepro.ipynb'\n",
    "\n",
    "%run {F_DATA_DIR}\n",
    "\n",
    "fd = FlowersDataset([96,96], [3,96,96])"
   ]
  },
  {
   "cell_type": "code",
   "execution_count": 619,
   "id": "ed13456f",
   "metadata": {},
   "outputs": [],
   "source": [
    "CnnExtModel.set_macro('flower_preproc',\n",
    "    ['serial',\n",
    "        ['conv', {'ksize':3, 'stride':2, 'chn':6, 'actions':'#act'}]])\n",
    "\n",
    "CnnExtModel.set_macro('flower_inception1',\n",
    "    ['parallel',\n",
    "        ['conv', {'ksize':1, 'chn':4, 'actions':'#act'}],\n",
    "        ['conv', {'ksize':3, 'chn':6, 'actions':'#act'}],\n",
    "        ['serial',\n",
    "            ['conv', {'ksize':3, 'chn':6, 'actions':'#act'}],\n",
    "            ['conv', {'ksize':3, 'chn':6, 'actions':'#act'}]],\n",
    "        ['serial',\n",
    "            ['avg', {'ksize':3, 'stride':1}],\n",
    "            ['conv', {'ksize':1, 'chn':4, 'actions':'#act'}]]])\n",
    "\n",
    "CnnExtModel.set_macro('flower_resize',\n",
    "    ['parallel',\n",
    "        ['conv', {'ksize':3, 'stride':2, 'chn':12, 'actions':'#act'}],\n",
    "        ['serial',\n",
    "            ['conv', {'ksize':3, 'chn':12, 'actions':'#act'}],\n",
    "            ['conv', {'ksize':3, 'stride':2, 'chn':12, 'actions':'#act'}]],\n",
    "        ['avg', {'ksize':3, 'stride':2}]])\n",
    "\n",
    "CnnExtModel.set_macro('flower_inception2',\n",
    "    ['parallel',\n",
    "        ['conv', {'ksize':1, 'chn':8, 'actions':'#act'}],\n",
    "        ['serial',\n",
    "            ['conv', {'ksize':[3,3], 'chn':8, 'actions':'#act'}],\n",
    "            ['parallel',\n",
    "                ['conv', {'ksize':[1,3], 'chn':8, 'actions':'#act'}],\n",
    "                ['conv', {'ksize':[3,1], 'chn':8, 'actions':'#act'}]]],\n",
    "        ['serial',\n",
    "            ['conv', {'ksize':[1,1], 'chn':8, 'actions':'#act'}],\n",
    "            ['conv', {'ksize':[3,3], 'chn':8, 'actions':'#act'}],\n",
    "            ['parallel',\n",
    "                ['conv', {'ksize':[1,3], 'chn':8, 'actions':'#act'}],\n",
    "                ['conv', {'ksize':[3,1], 'chn':8, 'actions':'#act'}]]],\n",
    "        ['serial',\n",
    "            ['avg', {'ksize':3, 'stride':1}],\n",
    "            ['conv', {'ksize':1, 'chn':8, 'actions':'#act'}]]])\n",
    "\n",
    "CnnExtModel.set_macro('flower_postproc',\n",
    "    ['serial',\n",
    "        ['avg', {'stride':6}],\n",
    "        ['dropout', {'keep_prob':0.7}]])"
   ]
  },
  {
   "cell_type": "code",
   "execution_count": 620,
   "id": "0faff36f",
   "metadata": {},
   "outputs": [],
   "source": [
    "CnnExtModel.set_macro('inception_flower',\n",
    "    ['serial',\n",
    "        ['custom', {'name':'flower_preproc', 'args':{'#act':'#act'}}],\n",
    "        ['custom', {'name':'flower_inception1', 'args':{'#act':'#act'}}],\n",
    "        ['custom', {'name':'flower_resize', 'args':{'#act':'#act'}}],\n",
    "        ['custom', {'name':'flower_inception1', 'args':{'#act':'#act'}}],\n",
    "        ['custom', {'name':'flower_resize', 'args':{'#act':'#act'}}],\n",
    "        ['custom', {'name':'flower_inception2', 'args':{'#act':'#act'}}],\n",
    "        ['custom', {'name':'flower_resize', 'args':{'#act':'#act'}}],\n",
    "        ['custom', {'name':'flower_inception2', 'args':{'#act':'#act'}}],\n",
    "        ['custom', {'name':'flower_postproc', 'args':{'#act':'#act'}}]])"
   ]
  },
  {
   "cell_type": "code",
   "execution_count": 621,
   "id": "285cf74b",
   "metadata": {
    "scrolled": true
   },
   "outputs": [
    {
     "name": "stdout",
     "output_type": "stream",
     "text": [
      "custom inception_flower\n",
      "10\n",
      "  serial\n",
      "    custom flower_preproc\n",
      "2\n",
      "      serial\n",
      "        1: conv, (3, 96, 96)=>[6, 48, 48]pm : 6x3x3x3+6 = 168\n",
      "<class 'str'> flower_preproc namenamenamenamenamenamenamenamenamenamenamename\n",
      "[Conv2d(3, 6, kernel_size=(3, 3), stride=(1, 1), padding=same)]\n",
      "    custom flower_inception1\n",
      "5\n",
      "      parallel\n",
      "        2: conv, [6, 48, 48]=>[4, 48, 48]pm : 4x6x1x1+4 = 28\n",
      "        3: conv, [6, 48, 48]=>[6, 48, 48]pm : 6x6x3x3+6 = 330\n",
      "        serial\n",
      "          4: conv, [6, 48, 48]=>[6, 48, 48]pm : 6x6x3x3+6 = 330\n",
      "          5: conv, [6, 48, 48]=>[6, 48, 48]pm : 6x6x3x3+6 = 330\n",
      "        serial\n",
      "          6: avg, [6, 48, 48]=>[6, 48, 48]\n",
      "          7: conv, [6, 48, 48]=>[4, 48, 48]pm : 4x6x1x1+4 = 28\n",
      "<class 'str'> flower_inception1_2\n",
      "1\n",
      "Conv2d(6, 4, kernel_size=(1, 1), stride=(1, 1), padding=same)\n",
      "<class 'str'> flower_inception1_2\n",
      "2\n",
      "Conv2d(6, 6, kernel_size=(3, 3), stride=(1, 1), padding=same)\n",
      "    custom flower_resize\n",
      "4\n",
      "      parallel\n",
      "        8: conv, [20, 48, 48]=>[12, 24, 24]pm : 12x20x3x3+12 = 2172\n",
      "        serial\n",
      "          9: conv, [20, 48, 48]=>[12, 48, 48]pm : 12x20x3x3+12 = 2172\n",
      "          10: conv, [12, 48, 48]=>[12, 24, 24]pm : 12x12x3x3+12 = 1308\n",
      "        11: avg, [20, 48, 48]=>[20, 24, 24]\n",
      "<class 'str'> flower_resize_3\n",
      "1\n",
      "Conv2d(20, 12, kernel_size=(3, 3), stride=(1, 1), padding=same)\n",
      "<class 'str'> flower_resize_3\n",
      "4\n",
      "AvgPool2d(kernel_size=(2, 2), stride=(2, 2), padding=0)\n",
      "    custom flower_inception1\n",
      "5\n",
      "      parallel\n",
      "        12: conv, [44, 24, 24]=>[4, 24, 24]pm : 4x44x1x1+4 = 180\n",
      "        13: conv, [44, 24, 24]=>[6, 24, 24]pm : 6x44x3x3+6 = 2382\n",
      "        serial\n",
      "          14: conv, [44, 24, 24]=>[6, 24, 24]pm : 6x44x3x3+6 = 2382\n",
      "          15: conv, [6, 24, 24]=>[6, 24, 24]pm : 6x6x3x3+6 = 330\n",
      "        serial\n",
      "          16: avg, [44, 24, 24]=>[44, 24, 24]\n",
      "          17: conv, [44, 24, 24]=>[4, 24, 24]pm : 4x44x1x1+4 = 180\n",
      "<class 'str'> flower_inception1_4\n",
      "1\n",
      "Conv2d(44, 4, kernel_size=(1, 1), stride=(1, 1), padding=same)\n",
      "<class 'str'> flower_inception1_4\n",
      "2\n",
      "Conv2d(44, 6, kernel_size=(3, 3), stride=(1, 1), padding=same)\n",
      "    custom flower_resize\n",
      "4\n",
      "      parallel\n",
      "        18: conv, [20, 24, 24]=>[12, 12, 12]pm : 12x20x3x3+12 = 2172\n",
      "        serial\n",
      "          19: conv, [20, 24, 24]=>[12, 24, 24]pm : 12x20x3x3+12 = 2172\n",
      "          20: conv, [12, 24, 24]=>[12, 12, 12]pm : 12x12x3x3+12 = 1308\n",
      "        21: avg, [20, 24, 24]=>[20, 12, 12]\n",
      "<class 'str'> flower_resize_5\n",
      "1\n",
      "Conv2d(20, 12, kernel_size=(3, 3), stride=(1, 1), padding=same)\n",
      "<class 'str'> flower_resize_5\n",
      "4\n",
      "AvgPool2d(kernel_size=(2, 2), stride=(2, 2), padding=0)\n",
      "    custom flower_inception2\n",
      "5\n",
      "      parallel\n",
      "        22: conv, [44, 12, 12]=>[8, 12, 12]pm : 8x44x1x1+8 = 360\n",
      "        serial\n",
      "          23: conv, [44, 12, 12]=>[8, 12, 12]pm : 8x44x3x3+8 = 3176\n",
      "          parallel\n",
      "            24: conv, [8, 12, 12]=>[8, 12, 12]pm : 8x8x1x3+8 = 200\n",
      "            25: conv, [8, 12, 12]=>[8, 12, 12]pm : 8x8x3x1+8 = 200\n",
      "        serial\n",
      "          26: conv, [44, 12, 12]=>[8, 12, 12]pm : 8x44x1x1+8 = 360\n",
      "          27: conv, [8, 12, 12]=>[8, 12, 12]pm : 8x8x3x3+8 = 584\n",
      "          parallel\n",
      "            28: conv, [8, 12, 12]=>[8, 12, 12]pm : 8x8x1x3+8 = 200\n",
      "            29: conv, [8, 12, 12]=>[8, 12, 12]pm : 8x8x3x1+8 = 200\n",
      "        serial\n",
      "          30: avg, [44, 12, 12]=>[44, 12, 12]\n",
      "          31: conv, [44, 12, 12]=>[8, 12, 12]pm : 8x44x1x1+8 = 360\n",
      "<class 'str'> flower_inception2_6\n",
      "1\n",
      "Conv2d(44, 8, kernel_size=(1, 1), stride=(1, 1), padding=same)\n",
      "    custom flower_resize\n",
      "4\n",
      "      parallel\n",
      "        32: conv, [48, 12, 12]=>[12, 6, 6]pm : 12x48x3x3+12 = 5196\n",
      "        serial\n",
      "          33: conv, [48, 12, 12]=>[12, 12, 12]pm : 12x48x3x3+12 = 5196\n",
      "          34: conv, [12, 12, 12]=>[12, 6, 6]pm : 12x12x3x3+12 = 1308\n",
      "        35: avg, [48, 12, 12]=>[48, 6, 6]\n",
      "<class 'str'> flower_resize_7\n",
      "1\n",
      "Conv2d(48, 12, kernel_size=(3, 3), stride=(1, 1), padding=same)\n",
      "<class 'str'> flower_resize_7\n",
      "4\n",
      "AvgPool2d(kernel_size=(2, 2), stride=(2, 2), padding=0)\n",
      "    custom flower_inception2\n",
      "5\n",
      "      parallel\n",
      "        36: conv, [72, 6, 6]=>[8, 6, 6]pm : 8x72x1x1+8 = 584\n",
      "        serial\n",
      "          37: conv, [72, 6, 6]=>[8, 6, 6]pm : 8x72x3x3+8 = 5192\n",
      "          parallel\n",
      "            38: conv, [8, 6, 6]=>[8, 6, 6]pm : 8x8x1x3+8 = 200\n",
      "            39: conv, [8, 6, 6]=>[8, 6, 6]pm : 8x8x3x1+8 = 200\n",
      "        serial\n",
      "          40: conv, [72, 6, 6]=>[8, 6, 6]pm : 8x72x1x1+8 = 584\n",
      "          41: conv, [8, 6, 6]=>[8, 6, 6]pm : 8x8x3x3+8 = 584\n",
      "          parallel\n",
      "            42: conv, [8, 6, 6]=>[8, 6, 6]pm : 8x8x1x3+8 = 200\n",
      "            43: conv, [8, 6, 6]=>[8, 6, 6]pm : 8x8x3x1+8 = 200\n",
      "        serial\n",
      "          44: avg, [72, 6, 6]=>[72, 6, 6]\n",
      "          45: conv, [72, 6, 6]=>[8, 6, 6]pm : 8x72x1x1+8 = 584\n",
      "<class 'str'> flower_inception2_8\n",
      "1\n",
      "Conv2d(72, 8, kernel_size=(1, 1), stride=(1, 1), padding=same)\n",
      "    custom flower_postproc\n",
      "3\n",
      "      serial\n",
      "        46: avg, [48, 6, 6]=>[48, 1, 1]\n",
      "        47: dropout, [48, 1, 1]=>[48, 1, 1]\n",
      "<class 'str'> flower_postproc_9\n",
      "1\n",
      "AvgPool2d(kernel_size=(6, 6), stride=(6, 6), padding=0)\n",
      "<class 'str'> flower_postproc_9\n",
      "2\n",
      "Dropout2d(p=0.7, inplace=False)\n",
      "48: full, [48, 1, 1]=>[5]pm :5x48+5=245\n",
      "Total parameter count : 43885\n"
     ]
    }
   ],
   "source": [
    "conf_flower_LA = ['custom', {'name':'inception_flower', 'args':{'#act':'LA'}}]\n",
    "model_flower_LA = CnnExtModel('model_flower_LA', fd, \n",
    "                         conf_flower_LA, dump_structure=True)"
   ]
  },
  {
   "cell_type": "code",
   "execution_count": 622,
   "id": "bbd5409e",
   "metadata": {},
   "outputs": [
    {
     "name": "stdout",
     "output_type": "stream",
     "text": [
      "Model model_flower_LA train started \n",
      "\n",
      "\n"
     ]
    },
    {
     "ename": "TypeError",
     "evalue": "list is not a Module subclass",
     "output_type": "error",
     "traceback": [
      "\u001b[1;31m---------------------------------------------------------------------------\u001b[0m",
      "\u001b[1;31mTypeError\u001b[0m                                 Traceback (most recent call last)",
      "\u001b[1;32m~\\AppData\\Local\\Temp/ipykernel_10148/1017770068.py\u001b[0m in \u001b[0;36m<module>\u001b[1;34m\u001b[0m\n\u001b[1;32m----> 1\u001b[1;33m \u001b[0mmodel_flower_LA\u001b[0m\u001b[1;33m.\u001b[0m\u001b[0mexec_all\u001b[0m\u001b[1;33m(\u001b[0m\u001b[0mreport\u001b[0m\u001b[1;33m=\u001b[0m\u001b[1;36m1\u001b[0m\u001b[1;33m)\u001b[0m\u001b[1;33m\u001b[0m\u001b[0m\n\u001b[0m",
      "\u001b[1;32m~\\AppData\\Local\\Temp/ipykernel_10148/927826373.py\u001b[0m in \u001b[0;36mexec_all\u001b[1;34m(self, epoch_count, batch_size, learning_rate, report, show_cnt, show_params, num_workers)\u001b[0m\n\u001b[0;32m      9\u001b[0m                  report=0, show_cnt = 3, show_params=False,num_workers=0):\n\u001b[0;32m     10\u001b[0m         super(CnnRegModel, self).exec_all(epoch_count, batch_size, \n\u001b[1;32m---> 11\u001b[1;33m                                          learning_rate, report, show_cnt, num_workers)\n\u001b[0m\u001b[0;32m     12\u001b[0m \u001b[1;33m\u001b[0m\u001b[0m\n\u001b[0;32m     13\u001b[0m         \u001b[1;32mif\u001b[0m \u001b[0mshow_params\u001b[0m \u001b[1;33m:\u001b[0m \u001b[0mself\u001b[0m\u001b[1;33m.\u001b[0m\u001b[0mshow_param_dist\u001b[0m\u001b[1;33m(\u001b[0m\u001b[1;33m)\u001b[0m\u001b[1;33m\u001b[0m\u001b[0m\n",
      "\u001b[1;32m~\\AppData\\Local\\Temp/ipykernel_10148/4054610662.py\u001b[0m in \u001b[0;36mexec_all\u001b[1;34m(self, epoch_count, batch_size, learning_rate, report, show_cnt, num_workers)\u001b[0m\n\u001b[0;32m     11\u001b[0m     def exec_all(self, epoch_count=10, batch_size=10, learning_rate=0.001,\n\u001b[0;32m     12\u001b[0m                  report=0, show_cnt=3, num_workers=0):\n\u001b[1;32m---> 13\u001b[1;33m         \u001b[0mself\u001b[0m\u001b[1;33m.\u001b[0m\u001b[0mtrain\u001b[0m\u001b[1;33m(\u001b[0m\u001b[0mepoch_count\u001b[0m\u001b[1;33m,\u001b[0m \u001b[0mbatch_size\u001b[0m\u001b[1;33m,\u001b[0m \u001b[0mlearning_rate\u001b[0m\u001b[1;33m,\u001b[0m \u001b[0mreport\u001b[0m\u001b[1;33m,\u001b[0m \u001b[0mnum_workers\u001b[0m\u001b[1;33m)\u001b[0m\u001b[1;33m\u001b[0m\u001b[0m\n\u001b[0m\u001b[0;32m     14\u001b[0m         \u001b[0mself\u001b[0m\u001b[1;33m.\u001b[0m\u001b[0mtest\u001b[0m\u001b[1;33m(\u001b[0m\u001b[1;33m)\u001b[0m\u001b[1;33m\u001b[0m\u001b[0m\n\u001b[0;32m     15\u001b[0m         \u001b[1;32mif\u001b[0m \u001b[0mshow_cnt\u001b[0m \u001b[1;33m>\u001b[0m \u001b[1;36m0\u001b[0m\u001b[1;33m:\u001b[0m \u001b[0mself\u001b[0m\u001b[1;33m.\u001b[0m\u001b[0mvisualize\u001b[0m\u001b[1;33m(\u001b[0m\u001b[0mshow_cnt\u001b[0m\u001b[1;33m)\u001b[0m\u001b[1;33m\u001b[0m\u001b[0m\n",
      "\u001b[1;32m~\\AppData\\Local\\Temp/ipykernel_10148/1716686982.py\u001b[0m in \u001b[0;36mtrain_torch\u001b[1;34m(self, epoch_count, batch_size, learning_rate, report, num_workers)\u001b[0m\n\u001b[0;32m     12\u001b[0m     \u001b[0mtrain_loader\u001b[0m\u001b[1;33m=\u001b[0m\u001b[0mself\u001b[0m\u001b[1;33m.\u001b[0m\u001b[0mdataset\u001b[0m\u001b[1;33m.\u001b[0m\u001b[0mdataloader\u001b[0m\u001b[1;33m(\u001b[0m\u001b[0mself\u001b[0m\u001b[1;33m.\u001b[0m\u001b[0mdataset\u001b[0m\u001b[1;33m.\u001b[0m\u001b[0mtr_xs\u001b[0m\u001b[1;33m,\u001b[0m \u001b[0mself\u001b[0m\u001b[1;33m.\u001b[0m\u001b[0mdataset\u001b[0m\u001b[1;33m.\u001b[0m\u001b[0mtr_ys\u001b[0m\u001b[1;33m,\u001b[0m \u001b[0mbatch_size\u001b[0m\u001b[1;33m,\u001b[0m \u001b[0mnum_workers\u001b[0m\u001b[1;33m)\u001b[0m\u001b[1;33m\u001b[0m\u001b[0m\n\u001b[0;32m     13\u001b[0m \u001b[1;33m\u001b[0m\u001b[0m\n\u001b[1;32m---> 14\u001b[1;33m     \u001b[0mself\u001b[0m\u001b[1;33m.\u001b[0m\u001b[0mmodel\u001b[0m\u001b[1;33m=\u001b[0m\u001b[0mNet\u001b[0m\u001b[1;33m(\u001b[0m\u001b[0mself\u001b[0m\u001b[1;33m.\u001b[0m\u001b[0mlayers\u001b[0m\u001b[1;33m)\u001b[0m\u001b[1;33m.\u001b[0m\u001b[0mto\u001b[0m\u001b[1;33m(\u001b[0m\u001b[0mDEVICE\u001b[0m\u001b[1;33m)\u001b[0m\u001b[1;33m\u001b[0m\u001b[0m\n\u001b[0m\u001b[0;32m     15\u001b[0m \u001b[1;31m#     te_model=self.model\u001b[0m\u001b[1;33m\u001b[0m\u001b[1;33m\u001b[0m\u001b[0m\n\u001b[0;32m     16\u001b[0m     \u001b[0mself\u001b[0m\u001b[1;33m.\u001b[0m\u001b[0mmodel\u001b[0m\u001b[1;33m.\u001b[0m\u001b[0mapply\u001b[0m\u001b[1;33m(\u001b[0m\u001b[0mself\u001b[0m\u001b[1;33m.\u001b[0m\u001b[0mweights_init\u001b[0m\u001b[1;33m)\u001b[0m\u001b[1;33m\u001b[0m\u001b[0m\n",
      "\u001b[1;32m~\\AppData\\Local\\Temp/ipykernel_10148/3870700289.py\u001b[0m in \u001b[0;36m__init__\u001b[1;34m(self, layers)\u001b[0m\n\u001b[0;32m      5\u001b[0m \u001b[1;33m\u001b[0m\u001b[0m\n\u001b[0;32m      6\u001b[0m         self.layer1 = nn.Sequential(\n\u001b[1;32m----> 7\u001b[1;33m             \u001b[1;33m*\u001b[0m\u001b[0mlayers\u001b[0m\u001b[1;33m\u001b[0m\u001b[0m\n\u001b[0m\u001b[0;32m      8\u001b[0m                                     )\n\u001b[0;32m      9\u001b[0m \u001b[1;33m\u001b[0m\u001b[0m\n",
      "\u001b[1;32m~\\anaconda3\\envs\\nalcoding\\lib\\site-packages\\torch\\nn\\modules\\container.py\u001b[0m in \u001b[0;36m__init__\u001b[1;34m(self, *args)\u001b[0m\n\u001b[0;32m     87\u001b[0m         \u001b[1;32melse\u001b[0m\u001b[1;33m:\u001b[0m\u001b[1;33m\u001b[0m\u001b[0m\n\u001b[0;32m     88\u001b[0m             \u001b[1;32mfor\u001b[0m \u001b[0midx\u001b[0m\u001b[1;33m,\u001b[0m \u001b[0mmodule\u001b[0m \u001b[1;32min\u001b[0m \u001b[0menumerate\u001b[0m\u001b[1;33m(\u001b[0m\u001b[0margs\u001b[0m\u001b[1;33m)\u001b[0m\u001b[1;33m:\u001b[0m\u001b[1;33m\u001b[0m\u001b[0m\n\u001b[1;32m---> 89\u001b[1;33m                 \u001b[0mself\u001b[0m\u001b[1;33m.\u001b[0m\u001b[0madd_module\u001b[0m\u001b[1;33m(\u001b[0m\u001b[0mstr\u001b[0m\u001b[1;33m(\u001b[0m\u001b[0midx\u001b[0m\u001b[1;33m)\u001b[0m\u001b[1;33m,\u001b[0m \u001b[0mmodule\u001b[0m\u001b[1;33m)\u001b[0m\u001b[1;33m\u001b[0m\u001b[0m\n\u001b[0m\u001b[0;32m     90\u001b[0m \u001b[1;33m\u001b[0m\u001b[0m\n\u001b[0;32m     91\u001b[0m     \u001b[1;32mdef\u001b[0m \u001b[0m_get_item_by_idx\u001b[0m\u001b[1;33m(\u001b[0m\u001b[0mself\u001b[0m\u001b[1;33m,\u001b[0m \u001b[0miterator\u001b[0m\u001b[1;33m,\u001b[0m \u001b[0midx\u001b[0m\u001b[1;33m)\u001b[0m \u001b[1;33m->\u001b[0m \u001b[0mT\u001b[0m\u001b[1;33m:\u001b[0m\u001b[1;33m\u001b[0m\u001b[0m\n",
      "\u001b[1;32m~\\anaconda3\\envs\\nalcoding\\lib\\site-packages\\torch\\nn\\modules\\module.py\u001b[0m in \u001b[0;36madd_module\u001b[1;34m(self, name, module)\u001b[0m\n\u001b[0;32m    371\u001b[0m         \u001b[1;32mif\u001b[0m \u001b[1;32mnot\u001b[0m \u001b[0misinstance\u001b[0m\u001b[1;33m(\u001b[0m\u001b[0mmodule\u001b[0m\u001b[1;33m,\u001b[0m \u001b[0mModule\u001b[0m\u001b[1;33m)\u001b[0m \u001b[1;32mand\u001b[0m \u001b[0mmodule\u001b[0m \u001b[1;32mis\u001b[0m \u001b[1;32mnot\u001b[0m \u001b[1;32mNone\u001b[0m\u001b[1;33m:\u001b[0m\u001b[1;33m\u001b[0m\u001b[0m\n\u001b[0;32m    372\u001b[0m             raise TypeError(\"{} is not a Module subclass\".format(\n\u001b[1;32m--> 373\u001b[1;33m                 torch.typename(module)))\n\u001b[0m\u001b[0;32m    374\u001b[0m         \u001b[1;32melif\u001b[0m \u001b[1;32mnot\u001b[0m \u001b[0misinstance\u001b[0m\u001b[1;33m(\u001b[0m\u001b[0mname\u001b[0m\u001b[1;33m,\u001b[0m \u001b[0mtorch\u001b[0m\u001b[1;33m.\u001b[0m\u001b[0m_six\u001b[0m\u001b[1;33m.\u001b[0m\u001b[0mstring_classes\u001b[0m\u001b[1;33m)\u001b[0m\u001b[1;33m:\u001b[0m\u001b[1;33m\u001b[0m\u001b[0m\n\u001b[0;32m    375\u001b[0m             raise TypeError(\"module name should be a string. Got {}\".format(\n",
      "\u001b[1;31mTypeError\u001b[0m: list is not a Module subclass"
     ]
    }
   ],
   "source": [
    "model_flower_LA.exec_all(report=1)"
   ]
  },
  {
   "cell_type": "code",
   "execution_count": 623,
   "id": "8d7552e7",
   "metadata": {},
   "outputs": [
    {
     "data": {
      "text/plain": [
       "[[[Conv2d(3, 6, kernel_size=(3, 3), stride=(1, 1), padding=same)],\n",
       "  [Conv2d(6, 4, kernel_size=(1, 1), stride=(1, 1), padding=same),\n",
       "   Conv2d(6, 6, kernel_size=(3, 3), stride=(1, 1), padding=same),\n",
       "   [Conv2d(6, 6, kernel_size=(3, 3), stride=(1, 1), padding=same),\n",
       "    Conv2d(6, 6, kernel_size=(3, 3), stride=(1, 1), padding=same)],\n",
       "   [AvgPool2d(kernel_size=(1, 1), stride=(1, 1), padding=0),\n",
       "    Conv2d(6, 4, kernel_size=(1, 1), stride=(1, 1), padding=same)]],\n",
       "  [Conv2d(20, 12, kernel_size=(3, 3), stride=(1, 1), padding=same),\n",
       "   [Conv2d(20, 12, kernel_size=(3, 3), stride=(1, 1), padding=same),\n",
       "    Conv2d(12, 12, kernel_size=(3, 3), stride=(1, 1), padding=same)],\n",
       "   AvgPool2d(kernel_size=(2, 2), stride=(2, 2), padding=0)],\n",
       "  [Conv2d(44, 4, kernel_size=(1, 1), stride=(1, 1), padding=same),\n",
       "   Conv2d(44, 6, kernel_size=(3, 3), stride=(1, 1), padding=same),\n",
       "   [Conv2d(44, 6, kernel_size=(3, 3), stride=(1, 1), padding=same),\n",
       "    Conv2d(6, 6, kernel_size=(3, 3), stride=(1, 1), padding=same)],\n",
       "   [AvgPool2d(kernel_size=(1, 1), stride=(1, 1), padding=0),\n",
       "    Conv2d(44, 4, kernel_size=(1, 1), stride=(1, 1), padding=same)]],\n",
       "  [Conv2d(20, 12, kernel_size=(3, 3), stride=(1, 1), padding=same),\n",
       "   [Conv2d(20, 12, kernel_size=(3, 3), stride=(1, 1), padding=same),\n",
       "    Conv2d(12, 12, kernel_size=(3, 3), stride=(1, 1), padding=same)],\n",
       "   AvgPool2d(kernel_size=(2, 2), stride=(2, 2), padding=0)],\n",
       "  [Conv2d(44, 8, kernel_size=(1, 1), stride=(1, 1), padding=same),\n",
       "   [Conv2d(44, 8, kernel_size=(3, 3), stride=(1, 1), padding=same),\n",
       "    [Conv2d(8, 8, kernel_size=(1, 3), stride=(1, 1), padding=same),\n",
       "     Conv2d(8, 8, kernel_size=(3, 1), stride=(1, 1), padding=same)]],\n",
       "   [Conv2d(44, 8, kernel_size=(1, 1), stride=(1, 1), padding=same),\n",
       "    Conv2d(8, 8, kernel_size=(3, 3), stride=(1, 1), padding=same),\n",
       "    [Conv2d(8, 8, kernel_size=(1, 3), stride=(1, 1), padding=same),\n",
       "     Conv2d(8, 8, kernel_size=(3, 1), stride=(1, 1), padding=same)]],\n",
       "   [AvgPool2d(kernel_size=(1, 1), stride=(1, 1), padding=0),\n",
       "    Conv2d(44, 8, kernel_size=(1, 1), stride=(1, 1), padding=same)]],\n",
       "  [Conv2d(48, 12, kernel_size=(3, 3), stride=(1, 1), padding=same),\n",
       "   [Conv2d(48, 12, kernel_size=(3, 3), stride=(1, 1), padding=same),\n",
       "    Conv2d(12, 12, kernel_size=(3, 3), stride=(1, 1), padding=same)],\n",
       "   AvgPool2d(kernel_size=(2, 2), stride=(2, 2), padding=0)],\n",
       "  [Conv2d(72, 8, kernel_size=(1, 1), stride=(1, 1), padding=same),\n",
       "   [Conv2d(72, 8, kernel_size=(3, 3), stride=(1, 1), padding=same),\n",
       "    [Conv2d(8, 8, kernel_size=(1, 3), stride=(1, 1), padding=same),\n",
       "     Conv2d(8, 8, kernel_size=(3, 1), stride=(1, 1), padding=same)]],\n",
       "   [Conv2d(72, 8, kernel_size=(1, 1), stride=(1, 1), padding=same),\n",
       "    Conv2d(8, 8, kernel_size=(3, 3), stride=(1, 1), padding=same),\n",
       "    [Conv2d(8, 8, kernel_size=(1, 3), stride=(1, 1), padding=same),\n",
       "     Conv2d(8, 8, kernel_size=(3, 1), stride=(1, 1), padding=same)]],\n",
       "   [AvgPool2d(kernel_size=(1, 1), stride=(1, 1), padding=0),\n",
       "    Conv2d(72, 8, kernel_size=(1, 1), stride=(1, 1), padding=same)]],\n",
       "  [AvgPool2d(kernel_size=(6, 6), stride=(6, 6), padding=0),\n",
       "   Dropout2d(p=0.7, inplace=False)]],\n",
       " Flatten(start_dim=1, end_dim=-1),\n",
       " Linear(in_features=48, out_features=5, bias=True)]"
      ]
     },
     "execution_count": 623,
     "metadata": {},
     "output_type": "execute_result"
    }
   ],
   "source": [
    "model_flower_LA.layers"
   ]
  },
  {
   "cell_type": "code",
   "execution_count": null,
   "id": "d520255c",
   "metadata": {},
   "outputs": [],
   "source": []
  },
  {
   "cell_type": "code",
   "execution_count": null,
   "id": "95382634",
   "metadata": {},
   "outputs": [],
   "source": []
  },
  {
   "cell_type": "code",
   "execution_count": null,
   "id": "36a9e73b",
   "metadata": {},
   "outputs": [],
   "source": []
  },
  {
   "cell_type": "code",
   "execution_count": null,
   "id": "5de93804",
   "metadata": {},
   "outputs": [],
   "source": []
  },
  {
   "cell_type": "code",
   "execution_count": null,
   "id": "0829a5b1",
   "metadata": {},
   "outputs": [],
   "source": []
  },
  {
   "cell_type": "code",
   "execution_count": null,
   "id": "3d519dd1",
   "metadata": {},
   "outputs": [],
   "source": []
  },
  {
   "cell_type": "code",
   "execution_count": null,
   "id": "b67531e5",
   "metadata": {},
   "outputs": [],
   "source": []
  }
 ],
 "metadata": {
  "kernelspec": {
   "display_name": "Python 3 (ipykernel)",
   "language": "python",
   "name": "python3"
  },
  "language_info": {
   "codemirror_mode": {
    "name": "ipython",
    "version": 3
   },
   "file_extension": ".py",
   "mimetype": "text/x-python",
   "name": "python",
   "nbconvert_exporter": "python",
   "pygments_lexer": "ipython3",
   "version": "3.7.0"
  }
 },
 "nbformat": 4,
 "nbformat_minor": 5
}
