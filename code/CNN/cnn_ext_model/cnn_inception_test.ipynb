{
 "cells": [
  {
   "cell_type": "code",
   "execution_count": 403,
   "id": "6cf95ba9",
   "metadata": {},
   "outputs": [],
   "source": [
    "BASE_DIR = '../'*3\n",
    "DATASET_DIR = BASE_DIR+'code/util/dataset/dataset_dummy.ipynb'\n",
    "EXTMODEL_DIR = BASE_DIR + 'code/CNN/cnn_ext_model/ext_model.ipynb'"
   ]
  },
  {
   "cell_type": "code",
   "execution_count": 591,
   "id": "89020608",
   "metadata": {},
   "outputs": [
    {
     "name": "stdout",
     "output_type": "stream",
     "text": [
      "Using device: cpu\n",
      "Using PyTorch version: 1.9.0\n"
     ]
    }
   ],
   "source": [
    "%run {DATASET_DIR}\n",
    "%run {EXTMODEL_DIR}"
   ]
  },
  {
   "cell_type": "code",
   "execution_count": 592,
   "id": "b450326c",
   "metadata": {},
   "outputs": [
    {
     "name": "stdout",
     "output_type": "stream",
     "text": [
      "200\n"
     ]
    }
   ],
   "source": [
    "imagenet = DummyDataset('imagenet', 'select',[3,299,299],200)"
   ]
  },
  {
   "cell_type": "code",
   "execution_count": 593,
   "id": "9d0d02eb",
   "metadata": {},
   "outputs": [],
   "source": [
    "CnnExtModel.set_macro('v3_preproc', \n",
    "          ['serial',\n",
    "              ['conv',{'ksize':3,'stride':2,'chn':32, 'padding':'VALID'}],\n",
    "              ['conv',{'ksize':3,'chn':32, 'padding':'VALID'}],\n",
    "              ['conv',{'ksize':3,'chn':64, 'padding':'SAME'}],\n",
    "              ['max',{'ksize':3, 'stride':2, 'padding':'VALID'}],\n",
    "              ['conv',{'ksize':1,'chn':80,'padding':'VALID'}],\n",
    "              ['conv',{'ksize':3,'chn':192,'padding':'VALID'}],\n",
    "              ['max',{'ksize':3, 'stride':2,'padding':'VALID'}]\n",
    "          \n",
    "          ]\n",
    "                     )"
   ]
  },
  {
   "cell_type": "code",
   "execution_count": 594,
   "id": "c023e16c",
   "metadata": {},
   "outputs": [],
   "source": [
    "CnnExtModel.set_macro('v3_inception1',\n",
    "        ['parallel',\n",
    "            ['conv',{'ksize':1, 'chn':64}],\n",
    "         \n",
    "            ['serial',\n",
    "                ['conv',{'ksize':1,'chn':48}],\n",
    "                ['conv',{'ksize':5, 'chn':64}]],\n",
    "         \n",
    "            ['serial',\n",
    "                ['conv',{'ksize':1,'chn':64}],\n",
    "                 ['conv',{'ksize':3,'chn':96}],\n",
    "                 ['conv',{'ksize':3,'chn':96}]],\n",
    "         \n",
    "            ['serial',\n",
    "                ['avg',{'ksize':3,'stride':1}],\n",
    "                ['conv',{'ksize':1,'chn':'#chn'}]]\n",
    "        \n",
    "        ]\n",
    "                    \n",
    "                     )"
   ]
  },
  {
   "cell_type": "code",
   "execution_count": 595,
   "id": "c2b258dd",
   "metadata": {},
   "outputs": [],
   "source": [
    "CnnExtModel.set_macro('v3_resize1',\n",
    "            ['parallel',\n",
    "                ['conv',{'ksize':3,'stride':2,'chn':384}],\n",
    "                ['serial',\n",
    "                 ['conv',{'ksize':1,'chn':64}],\n",
    "                 ['conv',{'ksize':3,'chn':94}],\n",
    "                 ['conv',{'ksize':3,'stride':2,'chn':96}]],\n",
    "                ['max',{'ksize':3,'stride':2}]\n",
    "            \n",
    "            ]                     \n",
    "                    \n",
    "                     )"
   ]
  },
  {
   "cell_type": "code",
   "execution_count": 596,
   "id": "162490c7",
   "metadata": {},
   "outputs": [],
   "source": [
    "CnnExtModel.set_macro('v3_inception2',\n",
    "    ['parallel',\n",
    "        ['conv', {'ksize':1, 'chn':192}],\n",
    "        ['serial',\n",
    "            ['conv', {'ksize':[1,1], 'chn':'#chn'}],\n",
    "            ['conv', {'ksize':[1,7], 'chn':'#chn'}],\n",
    "            ['conv', {'ksize':[7,1], 'chn':192}]],\n",
    "        ['serial',\n",
    "            ['conv', {'ksize':[1,1], 'chn':'#chn'}],\n",
    "            ['conv', {'ksize':[7,1], 'chn':'#chn'}],\n",
    "            ['conv', {'ksize':[1,7], 'chn':'#chn'}],\n",
    "            ['conv', {'ksize':[7,1], 'chn':'#chn'}],\n",
    "            ['conv', {'ksize':[1,7], 'chn':192}]],\n",
    "        ['serial',\n",
    "            ['avg', {'ksize':3, 'stride':1}],\n",
    "            ['conv', {'ksize':1, 'chn':192}]]])"
   ]
  },
  {
   "cell_type": "code",
   "execution_count": 597,
   "id": "ba728566",
   "metadata": {},
   "outputs": [],
   "source": [
    "CnnExtModel.set_macro('v3_resize2',\n",
    "    ['parallel',\n",
    "        ['serial',\n",
    "            ['conv', {'ksize':1, 'chn':192}],\n",
    "            ['conv', {'ksize':3, 'stride':2, 'chn':320}]],\n",
    "        ['serial',\n",
    "            ['conv', {'ksize':[1,1], 'chn':192}],\n",
    "            ['conv', {'ksize':[1,7], 'chn':192}],\n",
    "            ['conv', {'ksize':[7,1], 'chn':192}],\n",
    "            ['conv', {'ksize':[3,3], 'stride':[2,2], 'chn':192}]],\n",
    "        ['max', {'ksize':3, 'stride':2}]])"
   ]
  },
  {
   "cell_type": "code",
   "execution_count": 598,
   "id": "efa2da41",
   "metadata": {},
   "outputs": [],
   "source": [
    "CnnExtModel.set_macro('v3_inception3',\n",
    "    ['parallel',\n",
    "        ['conv', {'ksize':1, 'chn':320}],\n",
    "        ['serial',\n",
    "            ['conv', {'ksize':[3,3], 'chn':384}],\n",
    "            ['parallel',\n",
    "                ['conv', {'ksize':[1,3], 'chn':384}],\n",
    "                ['conv', {'ksize':[3,1], 'chn':384}]]],\n",
    "        ['serial',\n",
    "            ['conv', {'ksize':[1,1], 'chn':448}],\n",
    "            ['conv', {'ksize':[3,3], 'chn':384}],\n",
    "            ['parallel',\n",
    "                ['conv', {'ksize':[1,3], 'chn':384}],\n",
    "                ['conv', {'ksize':[3,1], 'chn':384}]]],\n",
    "        ['serial',\n",
    "            ['avg', {'ksize':3, 'stride':1}],\n",
    "            ['conv', {'ksize':1, 'chn':192}]]])"
   ]
  },
  {
   "cell_type": "code",
   "execution_count": 599,
   "id": "87c283bc",
   "metadata": {},
   "outputs": [],
   "source": [
    "CnnExtModel.set_macro('v3_postproc',\n",
    "    ['serial',\n",
    "        ['avg', {'stride':8}],\n",
    "        ['dropout', {'keep_prob':0.7}]])"
   ]
  },
  {
   "cell_type": "code",
   "execution_count": 600,
   "id": "df670d92",
   "metadata": {},
   "outputs": [],
   "source": [
    "CnnExtModel.set_macro('inception_v3',\n",
    "    ['serial',\n",
    "        ['custom', {'name':'v3_preproc'}],\n",
    "        ['custom', {'name':'v3_inception1', 'args':{'#chn':32}}],\n",
    "        ['custom', {'name':'v3_inception1', 'args':{'#chn':64}}],\n",
    "        ['custom', {'name':'v3_inception1', 'args':{'#chn':64}}],\n",
    "        ['custom', {'name':'v3_resize1'}],\n",
    "        ['custom', {'name':'v3_inception2', 'args':{'#chn':128}}],\n",
    "        ['custom', {'name':'v3_inception2', 'args':{'#chn':160}}],\n",
    "        ['custom', {'name':'v3_inception2', 'args':{'#chn':160}}],\n",
    "        ['custom', {'name':'v3_inception2', 'args':{'#chn':192}}],\n",
    "        ['custom', {'name':'v3_resize2'}],\n",
    "        ['custom', {'name':'v3_inception3'}],\n",
    "        ['custom', {'name':'v3_inception3'}],\n",
    "        ['custom', {'name':'v3_postproc'}]])"
   ]
  },
  {
   "cell_type": "code",
   "execution_count": 601,
   "id": "edf13eb0",
   "metadata": {},
   "outputs": [
    {
     "name": "stdout",
     "output_type": "stream",
     "text": [
      "[3, 299, 299]\n",
      "custom inception_v3\n",
      "  serial\n",
      "['custom', {'name': 'v3_preproc'}] 11111111111111111111111111\n",
      "    custom v3_preproc\n",
      "      serial\n",
      "['conv', {'ksize': 3, 'stride': 2, 'chn': 32, 'padding': 'VALID'}] 11111111111111111111111111\n",
      "VALID\n",
      "valid 1\n",
      "        1: conv, [3, 299, 299]=>[32, 148, 148]pm : 32x3x3x3+32 = 896\n",
      "[Conv2d(3, 32, kernel_size=(3, 3), stride=(1, 1), padding=valid)] 22222222222222222222222\n",
      "['conv', {'ksize': 3, 'chn': 32, 'padding': 'VALID'}] 11111111111111111111111111\n",
      "VALID\n",
      "valid 1\n",
      "        2: conv, [32, 148, 148]=>[32, 146, 146]pm : 32x32x3x3+32 = 9248\n",
      "[Conv2d(32, 32, kernel_size=(3, 3), stride=(1, 1), padding=valid)] 22222222222222222222222\n",
      "['conv', {'ksize': 3, 'chn': 64, 'padding': 'SAME'}] 11111111111111111111111111\n",
      "SAME\n",
      "same 1\n",
      "        3: conv, [32, 146, 146]=>[64, 146, 146]pm : 64x32x3x3+64 = 18496\n",
      "[Conv2d(32, 64, kernel_size=(3, 3), stride=(1, 1), padding=same)] 22222222222222222222222\n",
      "['max', {'ksize': 3, 'stride': 2, 'padding': 'VALID'}] 11111111111111111111111111\n",
      "        4: max, [64, 146, 146]=>[64, 72, 72]\n",
      "[MaxPool2d(kernel_size=(3, 3), stride=(2, 2), padding=valid, dilation=1, ceil_mode=False)] 22222222222222222222222\n",
      "['conv', {'ksize': 1, 'chn': 80, 'padding': 'VALID'}] 11111111111111111111111111\n",
      "VALID\n",
      "valid 1\n",
      "        5: conv, [64, 72, 72]=>[80, 72, 72]pm : 80x64x1x1+80 = 5200\n",
      "[Conv2d(64, 80, kernel_size=(1, 1), stride=(1, 1), padding=valid)] 22222222222222222222222\n",
      "['conv', {'ksize': 3, 'chn': 192, 'padding': 'VALID'}] 11111111111111111111111111\n",
      "VALID\n",
      "valid 1\n",
      "        6: conv, [80, 72, 72]=>[192, 70, 70]pm : 192x80x3x3+192 = 138432\n",
      "[Conv2d(80, 192, kernel_size=(3, 3), stride=(1, 1), padding=valid)] 22222222222222222222222\n",
      "['max', {'ksize': 3, 'stride': 2, 'padding': 'VALID'}] 11111111111111111111111111\n",
      "        7: max, [192, 70, 70]=>[192, 34, 34]\n",
      "[MaxPool2d(kernel_size=(3, 3), stride=(2, 2), padding=valid, dilation=1, ceil_mode=False)] 22222222222222222222222\n",
      "{'pm': Sequential(\n",
      "  (seq): MaxPool2d(kernel_size=(3, 3), stride=(2, 2), padding=valid, dilation=1, ceil_mode=False)\n",
      "), 'macro': ['serial', {}, ['conv', {'ksize': 3, 'stride': 2, 'chn': 32, 'padding': 'VALID'}], ['conv', {'ksize': 3, 'chn': 32, 'padding': 'VALID'}], ['conv', {'ksize': 3, 'chn': 64, 'padding': 'SAME'}], ['max', {'ksize': 3, 'stride': 2, 'padding': 'VALID'}], ['conv', {'ksize': 1, 'chn': 80, 'padding': 'VALID'}], ['conv', {'ksize': 3, 'chn': 192, 'padding': 'VALID'}], ['max', {'ksize': 3, 'stride': 2, 'padding': 'VALID'}]]} 22222222222222222222222\n"
     ]
    },
    {
     "ename": "KeyError",
     "evalue": "0",
     "output_type": "error",
     "traceback": [
      "\u001b[1;31m---------------------------------------------------------------------------\u001b[0m",
      "\u001b[1;31mKeyError\u001b[0m                                  Traceback (most recent call last)",
      "\u001b[1;32m~\\AppData\\Local\\Temp/ipykernel_12048/1357118149.py\u001b[0m in \u001b[0;36m<module>\u001b[1;34m\u001b[0m\n\u001b[0;32m      1\u001b[0m inception_v3 = CnnExtModel('inception_v3', imagenet,\n\u001b[1;32m----> 2\u001b[1;33m                    [['custom', {'name':'inception_v3'}]], dump_structure=True)\n\u001b[0m",
      "\u001b[1;32m~\\AppData\\Local\\Temp/ipykernel_12048/1877122160.py\u001b[0m in \u001b[0;36m__init__\u001b[1;34m(self, name, dataset, hconfigs, show_maps, l2_decay, l1_decay, dump_structure)\u001b[0m\n\u001b[0;32m      8\u001b[0m         \u001b[0mself\u001b[0m\u001b[1;33m.\u001b[0m\u001b[0mlayer_depth\u001b[0m\u001b[1;33m=\u001b[0m\u001b[1;36m0\u001b[0m\u001b[1;33m\u001b[0m\u001b[0m\n\u001b[0;32m      9\u001b[0m         \u001b[0mself\u001b[0m\u001b[1;33m.\u001b[0m\u001b[0mparam_count\u001b[0m \u001b[1;33m=\u001b[0m \u001b[1;36m0\u001b[0m\u001b[1;33m\u001b[0m\u001b[0m\n\u001b[1;32m---> 10\u001b[1;33m         \u001b[0msuper\u001b[0m\u001b[1;33m(\u001b[0m\u001b[0mCnnExtModel\u001b[0m\u001b[1;33m,\u001b[0m \u001b[0mself\u001b[0m\u001b[1;33m)\u001b[0m\u001b[1;33m.\u001b[0m\u001b[0m__init__\u001b[0m\u001b[1;33m(\u001b[0m\u001b[0mname\u001b[0m\u001b[1;33m,\u001b[0m \u001b[0mdataset\u001b[0m\u001b[1;33m,\u001b[0m \u001b[0mhconfigs\u001b[0m\u001b[1;33m,\u001b[0m \u001b[0mshow_maps\u001b[0m\u001b[1;33m,\u001b[0m\u001b[0ml2_decay\u001b[0m\u001b[1;33m,\u001b[0m \u001b[0ml1_decay\u001b[0m\u001b[1;33m)\u001b[0m\u001b[1;33m\u001b[0m\u001b[0m\n\u001b[0m\u001b[0;32m     11\u001b[0m \u001b[1;33m\u001b[0m\u001b[0m\n\u001b[0;32m     12\u001b[0m         \u001b[1;32mif\u001b[0m \u001b[0mself\u001b[0m\u001b[1;33m.\u001b[0m\u001b[0mdump_structure\u001b[0m \u001b[1;33m:\u001b[0m\u001b[1;33m\u001b[0m\u001b[0m\n",
      "\u001b[1;32m~\\AppData\\Local\\Temp/ipykernel_12048/927826373.py\u001b[0m in \u001b[0;36m__init__\u001b[1;34m(self, name, dataset, hconfigs, show_maps, l2_decay, l1_decay)\u001b[0m\n\u001b[0;32m      4\u001b[0m         \u001b[0mself\u001b[0m\u001b[1;33m.\u001b[0m\u001b[0ml2_decay\u001b[0m \u001b[1;33m=\u001b[0m \u001b[0ml2_decay\u001b[0m\u001b[1;33m\u001b[0m\u001b[0m\n\u001b[0;32m      5\u001b[0m         \u001b[0mself\u001b[0m\u001b[1;33m.\u001b[0m\u001b[0ml1_decay\u001b[0m \u001b[1;33m=\u001b[0m \u001b[0ml1_decay\u001b[0m\u001b[1;33m\u001b[0m\u001b[0m\n\u001b[1;32m----> 6\u001b[1;33m         \u001b[0msuper\u001b[0m\u001b[1;33m(\u001b[0m\u001b[0mCnnRegModel\u001b[0m\u001b[1;33m,\u001b[0m \u001b[0mself\u001b[0m\u001b[1;33m)\u001b[0m\u001b[1;33m.\u001b[0m\u001b[0m__init__\u001b[0m\u001b[1;33m(\u001b[0m\u001b[0mname\u001b[0m\u001b[1;33m,\u001b[0m \u001b[0mdataset\u001b[0m\u001b[1;33m,\u001b[0m \u001b[0mhconfigs\u001b[0m\u001b[1;33m,\u001b[0m \u001b[0mshow_maps\u001b[0m\u001b[1;33m)\u001b[0m\u001b[1;33m\u001b[0m\u001b[0m\n\u001b[0m\u001b[0;32m      7\u001b[0m \u001b[1;33m\u001b[0m\u001b[0m\n\u001b[0;32m      8\u001b[0m     def exec_all(self, epoch_count=10, batch_size = 10, learning_rate = 0.001,\n",
      "\u001b[1;32m~\\AppData\\Local\\Temp/ipykernel_12048/3584675091.py\u001b[0m in \u001b[0;36m__init__\u001b[1;34m(self, name, dataset, hconfigs, show_maps)\u001b[0m\n\u001b[0;32m      9\u001b[0m         \u001b[0mself\u001b[0m\u001b[1;33m.\u001b[0m\u001b[0mkernels\u001b[0m \u001b[1;33m=\u001b[0m \u001b[1;33m[\u001b[0m\u001b[1;33m]\u001b[0m \u001b[1;31m#!!필요한지 확인\u001b[0m\u001b[1;33m\u001b[0m\u001b[0m\n\u001b[0;32m     10\u001b[0m \u001b[1;33m\u001b[0m\u001b[0m\n\u001b[1;32m---> 11\u001b[1;33m         \u001b[0msuper\u001b[0m\u001b[1;33m(\u001b[0m\u001b[0mCnnBasicModel\u001b[0m\u001b[1;33m,\u001b[0m \u001b[0mself\u001b[0m\u001b[1;33m)\u001b[0m\u001b[1;33m.\u001b[0m\u001b[0m__init__\u001b[0m\u001b[1;33m(\u001b[0m\u001b[0mname\u001b[0m\u001b[1;33m,\u001b[0m \u001b[0mdataset\u001b[0m\u001b[1;33m,\u001b[0m \u001b[0mhconfigs\u001b[0m\u001b[1;33m)\u001b[0m\u001b[1;33m\u001b[0m\u001b[0m\n\u001b[0m\u001b[0;32m     12\u001b[0m         \u001b[0mself\u001b[0m\u001b[1;33m.\u001b[0m\u001b[0muse_adam\u001b[0m \u001b[1;33m=\u001b[0m \u001b[1;32mTrue\u001b[0m\u001b[1;33m\u001b[0m\u001b[0m\n",
      "\u001b[1;32m~\\AppData\\Local\\Temp/ipykernel_12048/3090549777.py\u001b[0m in \u001b[0;36m__init__\u001b[1;34m(self, name, dataset, hconfigs)\u001b[0m\n\u001b[0;32m      5\u001b[0m         \u001b[0mself\u001b[0m\u001b[1;33m.\u001b[0m\u001b[0mnumact\u001b[0m \u001b[1;33m=\u001b[0m \u001b[1;36m0\u001b[0m\u001b[1;33m\u001b[0m\u001b[0m\n\u001b[0;32m      6\u001b[0m         \u001b[0msuper\u001b[0m\u001b[1;33m(\u001b[0m\u001b[0mMlp_Torch\u001b[0m\u001b[1;33m,\u001b[0m \u001b[0mself\u001b[0m\u001b[1;33m)\u001b[0m\u001b[1;33m.\u001b[0m\u001b[0m__init__\u001b[0m\u001b[1;33m(\u001b[0m\u001b[0mname\u001b[0m\u001b[1;33m,\u001b[0m \u001b[0mdataset\u001b[0m\u001b[1;33m)\u001b[0m\u001b[1;33m\u001b[0m\u001b[0m\n\u001b[1;32m----> 7\u001b[1;33m         \u001b[0mself\u001b[0m\u001b[1;33m.\u001b[0m\u001b[0minit_parameters\u001b[0m\u001b[1;33m(\u001b[0m\u001b[0mhconfigs\u001b[0m\u001b[1;33m)\u001b[0m\u001b[1;33m\u001b[0m\u001b[0m\n\u001b[0m\u001b[0;32m      8\u001b[0m \u001b[1;33m\u001b[0m\u001b[0m\n",
      "\u001b[1;32m~\\AppData\\Local\\Temp/ipykernel_12048/772131401.py\u001b[0m in \u001b[0;36minit_parameters_torch\u001b[1;34m(self, hconfigs)\u001b[0m\n\u001b[0;32m      5\u001b[0m     \u001b[0mprint\u001b[0m\u001b[1;33m(\u001b[0m\u001b[0mprev_shape\u001b[0m\u001b[1;33m)\u001b[0m\u001b[1;33m\u001b[0m\u001b[0m\n\u001b[0;32m      6\u001b[0m     \u001b[1;32mfor\u001b[0m \u001b[0mhconfig\u001b[0m \u001b[1;32min\u001b[0m \u001b[0mhconfigs\u001b[0m\u001b[1;33m:\u001b[0m\u001b[1;33m\u001b[0m\u001b[0m\n\u001b[1;32m----> 7\u001b[1;33m         \u001b[0mpm\u001b[0m\u001b[1;33m,\u001b[0m \u001b[0mprev_shape\u001b[0m\u001b[1;33m=\u001b[0m\u001b[0mself\u001b[0m\u001b[1;33m.\u001b[0m\u001b[0malloc_layer_param\u001b[0m\u001b[1;33m(\u001b[0m\u001b[0mprev_shape\u001b[0m\u001b[1;33m,\u001b[0m \u001b[0mhconfig\u001b[0m\u001b[1;33m)\u001b[0m\u001b[1;33m\u001b[0m\u001b[0m\n\u001b[0m\u001b[0;32m      8\u001b[0m         \u001b[0mself\u001b[0m\u001b[1;33m.\u001b[0m\u001b[0mlayers\u001b[0m\u001b[1;33m.\u001b[0m\u001b[0mappend\u001b[0m\u001b[1;33m(\u001b[0m\u001b[0mpm\u001b[0m\u001b[1;33m)\u001b[0m\u001b[1;33m\u001b[0m\u001b[0m\n\u001b[0;32m      9\u001b[0m \u001b[1;33m\u001b[0m\u001b[0m\n",
      "\u001b[1;32m~\\AppData\\Local\\Temp/ipykernel_12048/3794315192.py\u001b[0m in \u001b[0;36mcnn_ext_alloc_layer_param\u001b[1;34m(self, input_shape, hconfig)\u001b[0m\n\u001b[0;32m     14\u001b[0m         \u001b[0mself\u001b[0m\u001b[1;33m.\u001b[0m\u001b[0mlayer_depth\u001b[0m \u001b[1;33m+=\u001b[0m \u001b[1;36m1\u001b[0m\u001b[1;33m;\u001b[0m\u001b[1;33m\u001b[0m\u001b[0m\n\u001b[0;32m     15\u001b[0m \u001b[1;33m\u001b[0m\u001b[0m\n\u001b[1;32m---> 16\u001b[1;33m     \u001b[0mpm\u001b[0m\u001b[1;33m,\u001b[0m \u001b[0moutput_shape\u001b[0m \u001b[1;33m=\u001b[0m \u001b[0msuper\u001b[0m\u001b[1;33m(\u001b[0m\u001b[0mCnnExtModel\u001b[0m\u001b[1;33m,\u001b[0m \u001b[0mself\u001b[0m\u001b[1;33m)\u001b[0m\u001b[1;33m.\u001b[0m\u001b[0malloc_layer_param\u001b[0m\u001b[1;33m(\u001b[0m\u001b[0minput_shape\u001b[0m\u001b[1;33m,\u001b[0m \u001b[0mhconfig\u001b[0m\u001b[1;33m)\u001b[0m\u001b[1;33m\u001b[0m\u001b[0m\n\u001b[0m\u001b[0;32m     17\u001b[0m \u001b[1;31m#     print(pm, output_shape, layer_type,'123123123')\u001b[0m\u001b[1;33m\u001b[0m\u001b[1;33m\u001b[0m\u001b[0m\n\u001b[0;32m     18\u001b[0m \u001b[1;33m\u001b[0m\u001b[0m\n",
      "\u001b[1;32m~\\AppData\\Local\\Temp/ipykernel_12048/2926312647.py\u001b[0m in \u001b[0;36mcnn_basic_alloc_layer_param\u001b[1;34m(self, input_shape, hconfig)\u001b[0m\n\u001b[0;32m      4\u001b[0m     \u001b[0mm_name\u001b[0m \u001b[1;33m=\u001b[0m \u001b[1;34m'alloc_{}_layer'\u001b[0m\u001b[1;33m.\u001b[0m\u001b[0mformat\u001b[0m\u001b[1;33m(\u001b[0m\u001b[0mlayer_type\u001b[0m\u001b[1;33m)\u001b[0m\u001b[1;33m\u001b[0m\u001b[0m\n\u001b[0;32m      5\u001b[0m     \u001b[0mmethod\u001b[0m \u001b[1;33m=\u001b[0m \u001b[0mgetattr\u001b[0m\u001b[1;33m(\u001b[0m\u001b[0mself\u001b[0m\u001b[1;33m,\u001b[0m \u001b[0mm_name\u001b[0m\u001b[1;33m)\u001b[0m\u001b[1;33m\u001b[0m\u001b[0m\n\u001b[1;32m----> 6\u001b[1;33m     \u001b[0mpm\u001b[0m\u001b[1;33m,\u001b[0m \u001b[0moutput_shape\u001b[0m \u001b[1;33m=\u001b[0m \u001b[0mmethod\u001b[0m\u001b[1;33m(\u001b[0m\u001b[0minput_shape\u001b[0m\u001b[1;33m,\u001b[0m \u001b[0mhconfig\u001b[0m\u001b[1;33m)\u001b[0m\u001b[1;33m\u001b[0m\u001b[0m\n\u001b[0m\u001b[0;32m      7\u001b[0m     \u001b[1;32mreturn\u001b[0m \u001b[0mpm\u001b[0m\u001b[1;33m,\u001b[0m \u001b[0moutput_shape\u001b[0m\u001b[1;33m\u001b[0m\u001b[0m\n\u001b[0;32m      8\u001b[0m \u001b[1;33m\u001b[0m\u001b[0m\n",
      "\u001b[1;32m~\\AppData\\Local\\Temp/ipykernel_12048/3817759476.py\u001b[0m in \u001b[0;36mcnn_ext_alloc_custom_layer\u001b[1;34m(self, input_shape, hconfig)\u001b[0m\n\u001b[0;32m      4\u001b[0m     \u001b[0mmacro\u001b[0m \u001b[1;33m=\u001b[0m \u001b[0mCnnExtModel\u001b[0m\u001b[1;33m.\u001b[0m\u001b[0mget_macro\u001b[0m\u001b[1;33m(\u001b[0m\u001b[0mname\u001b[0m\u001b[1;33m,\u001b[0m \u001b[0margs\u001b[0m\u001b[1;33m)\u001b[0m\u001b[1;33m\u001b[0m\u001b[0m\n\u001b[0;32m      5\u001b[0m \u001b[1;33m\u001b[0m\u001b[0m\n\u001b[1;32m----> 6\u001b[1;33m     \u001b[0mpm_hidden\u001b[0m\u001b[1;33m,\u001b[0m \u001b[0moutput_shape\u001b[0m \u001b[1;33m=\u001b[0m \u001b[0mself\u001b[0m\u001b[1;33m.\u001b[0m\u001b[0malloc_layer_param\u001b[0m\u001b[1;33m(\u001b[0m\u001b[0minput_shape\u001b[0m\u001b[1;33m,\u001b[0m \u001b[0mmacro\u001b[0m\u001b[1;33m)\u001b[0m\u001b[1;33m\u001b[0m\u001b[0m\n\u001b[0m\u001b[0;32m      7\u001b[0m \u001b[1;33m\u001b[0m\u001b[0m\n\u001b[0;32m      8\u001b[0m     \u001b[1;32mreturn\u001b[0m \u001b[1;33m{\u001b[0m\u001b[1;34m'pm'\u001b[0m\u001b[1;33m:\u001b[0m\u001b[0mpm_hidden\u001b[0m\u001b[1;33m,\u001b[0m \u001b[1;34m'macro'\u001b[0m\u001b[1;33m:\u001b[0m\u001b[0mmacro\u001b[0m\u001b[1;33m}\u001b[0m\u001b[1;33m,\u001b[0m \u001b[0moutput_shape\u001b[0m\u001b[1;33m\u001b[0m\u001b[0m\n",
      "\u001b[1;32m~\\AppData\\Local\\Temp/ipykernel_12048/3794315192.py\u001b[0m in \u001b[0;36mcnn_ext_alloc_layer_param\u001b[1;34m(self, input_shape, hconfig)\u001b[0m\n\u001b[0;32m     14\u001b[0m         \u001b[0mself\u001b[0m\u001b[1;33m.\u001b[0m\u001b[0mlayer_depth\u001b[0m \u001b[1;33m+=\u001b[0m \u001b[1;36m1\u001b[0m\u001b[1;33m;\u001b[0m\u001b[1;33m\u001b[0m\u001b[0m\n\u001b[0;32m     15\u001b[0m \u001b[1;33m\u001b[0m\u001b[0m\n\u001b[1;32m---> 16\u001b[1;33m     \u001b[0mpm\u001b[0m\u001b[1;33m,\u001b[0m \u001b[0moutput_shape\u001b[0m \u001b[1;33m=\u001b[0m \u001b[0msuper\u001b[0m\u001b[1;33m(\u001b[0m\u001b[0mCnnExtModel\u001b[0m\u001b[1;33m,\u001b[0m \u001b[0mself\u001b[0m\u001b[1;33m)\u001b[0m\u001b[1;33m.\u001b[0m\u001b[0malloc_layer_param\u001b[0m\u001b[1;33m(\u001b[0m\u001b[0minput_shape\u001b[0m\u001b[1;33m,\u001b[0m \u001b[0mhconfig\u001b[0m\u001b[1;33m)\u001b[0m\u001b[1;33m\u001b[0m\u001b[0m\n\u001b[0m\u001b[0;32m     17\u001b[0m \u001b[1;31m#     print(pm, output_shape, layer_type,'123123123')\u001b[0m\u001b[1;33m\u001b[0m\u001b[1;33m\u001b[0m\u001b[0m\n\u001b[0;32m     18\u001b[0m \u001b[1;33m\u001b[0m\u001b[0m\n",
      "\u001b[1;32m~\\AppData\\Local\\Temp/ipykernel_12048/2926312647.py\u001b[0m in \u001b[0;36mcnn_basic_alloc_layer_param\u001b[1;34m(self, input_shape, hconfig)\u001b[0m\n\u001b[0;32m      4\u001b[0m     \u001b[0mm_name\u001b[0m \u001b[1;33m=\u001b[0m \u001b[1;34m'alloc_{}_layer'\u001b[0m\u001b[1;33m.\u001b[0m\u001b[0mformat\u001b[0m\u001b[1;33m(\u001b[0m\u001b[0mlayer_type\u001b[0m\u001b[1;33m)\u001b[0m\u001b[1;33m\u001b[0m\u001b[0m\n\u001b[0;32m      5\u001b[0m     \u001b[0mmethod\u001b[0m \u001b[1;33m=\u001b[0m \u001b[0mgetattr\u001b[0m\u001b[1;33m(\u001b[0m\u001b[0mself\u001b[0m\u001b[1;33m,\u001b[0m \u001b[0mm_name\u001b[0m\u001b[1;33m)\u001b[0m\u001b[1;33m\u001b[0m\u001b[0m\n\u001b[1;32m----> 6\u001b[1;33m     \u001b[0mpm\u001b[0m\u001b[1;33m,\u001b[0m \u001b[0moutput_shape\u001b[0m \u001b[1;33m=\u001b[0m \u001b[0mmethod\u001b[0m\u001b[1;33m(\u001b[0m\u001b[0minput_shape\u001b[0m\u001b[1;33m,\u001b[0m \u001b[0mhconfig\u001b[0m\u001b[1;33m)\u001b[0m\u001b[1;33m\u001b[0m\u001b[0m\n\u001b[0m\u001b[0;32m      7\u001b[0m     \u001b[1;32mreturn\u001b[0m \u001b[0mpm\u001b[0m\u001b[1;33m,\u001b[0m \u001b[0moutput_shape\u001b[0m\u001b[1;33m\u001b[0m\u001b[0m\n\u001b[0;32m      8\u001b[0m \u001b[1;33m\u001b[0m\u001b[0m\n",
      "\u001b[1;32m~\\AppData\\Local\\Temp/ipykernel_12048/1205864474.py\u001b[0m in \u001b[0;36mcnn_ext_alloc_serial_layer\u001b[1;34m(self, input_shape, hconfig)\u001b[0m\n\u001b[0;32m      9\u001b[0m         \u001b[0mpm_hidden\u001b[0m\u001b[1;33m,\u001b[0m \u001b[0mprev_shape\u001b[0m \u001b[1;33m=\u001b[0m \u001b[0mself\u001b[0m\u001b[1;33m.\u001b[0m\u001b[0malloc_layer_param\u001b[0m\u001b[1;33m(\u001b[0m\u001b[0mprev_shape\u001b[0m\u001b[1;33m,\u001b[0m\u001b[0msconfig\u001b[0m\u001b[1;33m)\u001b[0m\u001b[1;33m\u001b[0m\u001b[0m\n\u001b[0;32m     10\u001b[0m         \u001b[0mprint\u001b[0m\u001b[1;33m(\u001b[0m\u001b[0mpm_hidden\u001b[0m\u001b[1;33m,\u001b[0m\u001b[1;34m'22222222222222222222222'\u001b[0m\u001b[1;33m)\u001b[0m\u001b[1;33m\u001b[0m\u001b[0m\n\u001b[1;32m---> 11\u001b[1;33m         \u001b[0mpm_hiddens\u001b[0m\u001b[1;33m.\u001b[0m\u001b[0madd_module\u001b[0m\u001b[1;33m(\u001b[0m\u001b[1;34m'seq'\u001b[0m\u001b[1;33m,\u001b[0m \u001b[0mpm_hidden\u001b[0m\u001b[1;33m[\u001b[0m\u001b[1;36m0\u001b[0m\u001b[1;33m]\u001b[0m\u001b[1;33m)\u001b[0m\u001b[1;33m\u001b[0m\u001b[0m\n\u001b[0m\u001b[0;32m     12\u001b[0m \u001b[1;33m\u001b[0m\u001b[0m\n\u001b[0;32m     13\u001b[0m     \u001b[1;32mreturn\u001b[0m \u001b[0mpm_hiddens\u001b[0m\u001b[1;33m,\u001b[0m \u001b[0mprev_shape\u001b[0m\u001b[1;33m\u001b[0m\u001b[0m\n",
      "\u001b[1;31mKeyError\u001b[0m: 0"
     ]
    }
   ],
   "source": [
    "inception_v3 = CnnExtModel('inception_v3', imagenet,\n",
    "                   [['custom', {'name':'inception_v3'}]], dump_structure=True)"
   ]
  },
  {
   "cell_type": "code",
   "execution_count": null,
   "id": "379f4bfb",
   "metadata": {},
   "outputs": [],
   "source": [
    "F_DATA_DIR = BASE_DIR+ 'code/util/dataset/dataset_flowers.ipynb'\n",
    "\n",
    "%run {F_DATA_DIR}\n",
    "\n",
    "fd = FlowersDataset([96,96], [96,96,3])"
   ]
  },
  {
   "cell_type": "code",
   "execution_count": null,
   "id": "ed13456f",
   "metadata": {},
   "outputs": [],
   "source": [
    "CnnExtModel.set_macro('flower_preproc',\n",
    "    ['serial',\n",
    "        ['conv', {'ksize':3, 'stride':2, 'chn':6, 'actions':'#act'}]])\n",
    "\n",
    "CnnExtModel.set_macro('flower_inception1',\n",
    "    ['parallel',\n",
    "        ['conv', {'ksize':1, 'chn':4, 'actions':'#act'}],\n",
    "        ['conv', {'ksize':3, 'chn':6, 'actions':'#act'}],\n",
    "        ['serial',\n",
    "            ['conv', {'ksize':3, 'chn':6, 'actions':'#act'}],\n",
    "            ['conv', {'ksize':3, 'chn':6, 'actions':'#act'}]],\n",
    "        ['serial',\n",
    "            ['avg', {'ksize':3, 'stride':1}],\n",
    "            ['conv', {'ksize':1, 'chn':4, 'actions':'#act'}]]])\n",
    "\n",
    "CnnExtModel.set_macro('flower_resize',\n",
    "    ['parallel',\n",
    "        ['conv', {'ksize':3, 'stride':2, 'chn':12, 'actions':'#act'}],\n",
    "        ['serial',\n",
    "            ['conv', {'ksize':3, 'chn':12, 'actions':'#act'}],\n",
    "            ['conv', {'ksize':3, 'stride':2, 'chn':12, 'actions':'#act'}]],\n",
    "        ['avg', {'ksize':3, 'stride':2}]])\n",
    "\n",
    "CnnExtModel.set_macro('flower_inception2',\n",
    "    ['parallel',\n",
    "        ['conv', {'ksize':1, 'chn':8, 'actions':'#act'}],\n",
    "        ['serial',\n",
    "            ['conv', {'ksize':[3,3], 'chn':8, 'actions':'#act'}],\n",
    "            ['parallel',\n",
    "                ['conv', {'ksize':[1,3], 'chn':8, 'actions':'#act'}],\n",
    "                ['conv', {'ksize':[3,1], 'chn':8, 'actions':'#act'}]]],\n",
    "        ['serial',\n",
    "            ['conv', {'ksize':[1,1], 'chn':8, 'actions':'#act'}],\n",
    "            ['conv', {'ksize':[3,3], 'chn':8, 'actions':'#act'}],\n",
    "            ['parallel',\n",
    "                ['conv', {'ksize':[1,3], 'chn':8, 'actions':'#act'}],\n",
    "                ['conv', {'ksize':[3,1], 'chn':8, 'actions':'#act'}]]],\n",
    "        ['serial',\n",
    "            ['avg', {'ksize':3, 'stride':1}],\n",
    "            ['conv', {'ksize':1, 'chn':8, 'actions':'#act'}]]])\n",
    "\n",
    "CnnExtModel.set_macro('flower_postproc',\n",
    "    ['serial',\n",
    "        ['avg', {'stride':6}],\n",
    "        ['dropout', {'keep_prob':0.7}]])"
   ]
  },
  {
   "cell_type": "code",
   "execution_count": null,
   "id": "0faff36f",
   "metadata": {},
   "outputs": [],
   "source": [
    "CnnExtModel.set_macro('inception_flower',\n",
    "    ['serial',\n",
    "        ['custom', {'name':'flower_preproc', 'args':{'#act':'#act'}}],\n",
    "        ['custom', {'name':'flower_inception1', 'args':{'#act':'#act'}}],\n",
    "        ['custom', {'name':'flower_resize', 'args':{'#act':'#act'}}],\n",
    "        ['custom', {'name':'flower_inception1', 'args':{'#act':'#act'}}],\n",
    "        ['custom', {'name':'flower_resize', 'args':{'#act':'#act'}}],\n",
    "        ['custom', {'name':'flower_inception2', 'args':{'#act':'#act'}}],\n",
    "        ['custom', {'name':'flower_resize', 'args':{'#act':'#act'}}],\n",
    "        ['custom', {'name':'flower_inception2', 'args':{'#act':'#act'}}],\n",
    "        ['custom', {'name':'flower_postproc', 'args':{'#act':'#act'}}]])"
   ]
  },
  {
   "cell_type": "code",
   "execution_count": null,
   "id": "285cf74b",
   "metadata": {},
   "outputs": [],
   "source": [
    "conf_flower_LA = ['custom', {'name':'inception_flower', 'args':{'#act':'LA'}}]\n",
    "model_flower_LA = CnnExtModel('model_flower_LA', fd, \n",
    "                         conf_flower_LA, dump_structure=True)"
   ]
  },
  {
   "cell_type": "code",
   "execution_count": null,
   "id": "bbd5409e",
   "metadata": {},
   "outputs": [],
   "source": [
    "model_flower_LA.exec_all(report=1)"
   ]
  },
  {
   "cell_type": "code",
   "execution_count": null,
   "id": "8d7552e7",
   "metadata": {},
   "outputs": [],
   "source": []
  },
  {
   "cell_type": "code",
   "execution_count": null,
   "id": "d520255c",
   "metadata": {},
   "outputs": [],
   "source": []
  },
  {
   "cell_type": "code",
   "execution_count": null,
   "id": "95382634",
   "metadata": {},
   "outputs": [],
   "source": []
  },
  {
   "cell_type": "code",
   "execution_count": null,
   "id": "36a9e73b",
   "metadata": {},
   "outputs": [],
   "source": []
  },
  {
   "cell_type": "code",
   "execution_count": null,
   "id": "5de93804",
   "metadata": {},
   "outputs": [],
   "source": []
  },
  {
   "cell_type": "code",
   "execution_count": null,
   "id": "0829a5b1",
   "metadata": {},
   "outputs": [],
   "source": []
  },
  {
   "cell_type": "code",
   "execution_count": null,
   "id": "3d519dd1",
   "metadata": {},
   "outputs": [],
   "source": []
  },
  {
   "cell_type": "code",
   "execution_count": null,
   "id": "b67531e5",
   "metadata": {},
   "outputs": [],
   "source": []
  }
 ],
 "metadata": {
  "kernelspec": {
   "display_name": "Python 3 (ipykernel)",
   "language": "python",
   "name": "python3"
  },
  "language_info": {
   "codemirror_mode": {
    "name": "ipython",
    "version": 3
   },
   "file_extension": ".py",
   "mimetype": "text/x-python",
   "name": "python",
   "nbconvert_exporter": "python",
   "pygments_lexer": "ipython3",
   "version": "3.7.0"
  }
 },
 "nbformat": 4,
 "nbformat_minor": 5
}
