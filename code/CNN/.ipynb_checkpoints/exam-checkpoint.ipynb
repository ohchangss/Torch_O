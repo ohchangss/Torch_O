{
 "cells": [
  {
   "cell_type": "code",
   "execution_count": 2,
   "id": "4ec69a98",
   "metadata": {},
   "outputs": [],
   "source": [
    "import torch\n",
    "import numpy as np\n",
    "import torch.nn as nn"
   ]
  },
  {
   "cell_type": "code",
   "execution_count": 47,
   "id": "c245a1c4",
   "metadata": {},
   "outputs": [],
   "source": [
    "class modules(nn.Module):\n",
    "    def __init__(self, layers):\n",
    "        \n",
    "        super(modules, self).__init__()\n",
    "        \n",
    "        self.layer1 = nn.Sequential(\n",
    "            *layers\n",
    "                                    )\n",
    "        \n",
    "        \n",
    "    def forward(self, x):\n",
    "        \n",
    "        out = self.layer1(x)\n",
    "        \n",
    "        return out"
   ]
  },
  {
   "cell_type": "code",
   "execution_count": 78,
   "id": "16008b1d",
   "metadata": {},
   "outputs": [],
   "source": [
    "class Net(nn.Module):\n",
    "    def __init__(self, modules):\n",
    "        \n",
    "        super(Net, self).__init__()\n",
    "        self.c=[]\n",
    "        for i in modules:\n",
    "            for j in i.children():\n",
    "                self.c.append(j)\n",
    "#                 j.register_forward_hook(self.j(x))\n",
    "                \n",
    "#         self.name , module = modules\n",
    "        self.layer1 = nn.Sequential(*self.c)\n",
    "        \n",
    "        \n",
    "    def forward(self,x):\n",
    "        f=[]\n",
    "        super(Net, self).__init__()\n",
    "\n",
    "        for i in self.c:\n",
    "            out1 = i(x)\n",
    "            f.append(out1)\n",
    "\n",
    "#         out1,out2,out3 = self.layer1(x)\n",
    "        \n",
    "        out=torch.cat(f)\n",
    "        \n",
    "        return out\n",
    "    "
   ]
  },
  {
   "cell_type": "code",
   "execution_count": 75,
   "id": "373151d3",
   "metadata": {},
   "outputs": [],
   "source": [
    "class mk_modules(nn.Module):\n",
    "    def __init__(self, layers):\n",
    "        super(mk_modules, self).__init__()\n",
    "        \n",
    "        self.name, layer = layers\n",
    "\n",
    "        setattr(self, self.name, nn.Sequential(*layer))\n",
    "        \n",
    "        print(layer)\n",
    "    def forward(self, x ):\n",
    "        \n",
    "        method = getattr(self, self.name)\n",
    "        out = method(x)\n",
    "        \n",
    "        return out"
   ]
  },
  {
   "cell_type": "code",
   "execution_count": 76,
   "id": "a003a03a",
   "metadata": {},
   "outputs": [
    {
     "data": {
      "text/plain": [
       "<bound method Net.forward of Net(\n",
       "  (layer1): Sequential(\n",
       "    (0): Sequential(\n",
       "      (0): Conv2d(3, 16, kernel_size=(1, 1), stride=(1, 1))\n",
       "    )\n",
       "    (1): Sequential(\n",
       "      (0): Conv2d(3, 16, kernel_size=(1, 1), stride=(1, 1))\n",
       "      (1): Conv2d(16, 24, kernel_size=(5, 5), stride=(1, 1), padding=(2, 2))\n",
       "    )\n",
       "    (2): Sequential(\n",
       "      (0): Conv2d(3, 16, kernel_size=(1, 1), stride=(1, 1))\n",
       "      (1): Conv2d(16, 24, kernel_size=(3, 3), stride=(1, 1), padding=(1, 1))\n",
       "      (2): Conv2d(24, 24, kernel_size=(3, 3), stride=(1, 1), padding=(1, 1))\n",
       "    )\n",
       "  )\n",
       ")>"
      ]
     },
     "execution_count": 76,
     "metadata": {},
     "output_type": "execute_result"
    }
   ],
   "source": [
    "a.forward"
   ]
  },
  {
   "cell_type": "code",
   "execution_count": 81,
   "id": "a57e2248",
   "metadata": {},
   "outputs": [
    {
     "name": "stdout",
     "output_type": "stream",
     "text": [
      "[Conv2d(3, 24, kernel_size=(1, 1), stride=(1, 1))]\n",
      "[Conv2d(3, 16, kernel_size=(1, 1), stride=(1, 1)), Conv2d(16, 24, kernel_size=(5, 5), stride=(1, 1), padding=(2, 2))]\n",
      "[Conv2d(3, 16, kernel_size=(1, 1), stride=(1, 1)), Conv2d(16, 24, kernel_size=(3, 3), stride=(1, 1), padding=(1, 1)), Conv2d(24, 24, kernel_size=(3, 3), stride=(1, 1), padding=(1, 1))]\n"
     ]
    },
    {
     "data": {
      "text/plain": [
       "torch.Size([30, 24, 98, 98])"
      ]
     },
     "execution_count": 81,
     "metadata": {},
     "output_type": "execute_result"
    }
   ],
   "source": [
    "tmp = []\n",
    "inchannels = 3\n",
    "# for i in range(2):\n",
    "layer = ('_1x1',[nn.Conv2d(in_channels=inchannels,out_channels=24,kernel_size=1)])\n",
    "# tmptmp=mk_modules(layer)\n",
    "tmp.append(mk_modules(layer))\n",
    "\n",
    "layer = ('_5x5',[nn.Conv2d(in_channels=inchannels,out_channels=16,kernel_size=1),\n",
    "               nn.Conv2d(in_channels=16,out_channels=24,kernel_size=5,padding=2)])\n",
    "tmp.append(mk_modules(layer))\n",
    "\n",
    "layer = ('_3x3',[nn.Conv2d(in_channels=inchannels,out_channels=16,kernel_size=1),\n",
    "               nn.Conv2d(in_channels=16,out_channels=24,kernel_size=3,padding=1),\n",
    "               nn.Conv2d(in_channels=24,out_channels=24,kernel_size=3,padding=1)])\n",
    "tmp.append(mk_modules(layer))\n",
    "\n",
    "\n",
    "\n",
    "a=Net(tmp)\n",
    "x=torch.rand([10,3,98,98])\n",
    "a(x).shape"
   ]
  },
  {
   "cell_type": "code",
   "execution_count": 45,
   "id": "e3edca22",
   "metadata": {},
   "outputs": [],
   "source": [
    "model = nn.Sequential()\n",
    "model.add_module('conv0', tmp[0])\n",
    "model.add_module('norm0', tmp[1])\n",
    "model.add_module('norm1', tmp[2])"
   ]
  },
  {
   "cell_type": "code",
   "execution_count": null,
   "id": "e9253702",
   "metadata": {},
   "outputs": [],
   "source": [
    "module.register_forward_hook(self,hook_fn)"
   ]
  },
  {
   "cell_type": "code",
   "execution_count": 46,
   "id": "50c7ad16",
   "metadata": {},
   "outputs": [
    {
     "data": {
      "text/plain": [
       "Sequential(\n",
       "  (conv0): mk_modules(\n",
       "    (_1x1): Sequential(\n",
       "      (0): Conv2d(3, 16, kernel_size=(1, 1), stride=(1, 1))\n",
       "    )\n",
       "  )\n",
       "  (norm0): mk_modules(\n",
       "    (_5x5): Sequential(\n",
       "      (0): Conv2d(3, 16, kernel_size=(1, 1), stride=(1, 1))\n",
       "      (1): Conv2d(16, 24, kernel_size=(5, 5), stride=(1, 1), padding=(2, 2))\n",
       "    )\n",
       "  )\n",
       "  (norm1): mk_modules(\n",
       "    (_3x3): Sequential(\n",
       "      (0): Conv2d(3, 16, kernel_size=(1, 1), stride=(1, 1))\n",
       "      (1): Conv2d(16, 24, kernel_size=(3, 3), stride=(1, 1), padding=(1, 1))\n",
       "      (2): Conv2d(24, 24, kernel_size=(3, 3), stride=(1, 1), padding=(1, 1))\n",
       "    )\n",
       "  )\n",
       ")"
      ]
     },
     "execution_count": 46,
     "metadata": {},
     "output_type": "execute_result"
    }
   ],
   "source": [
    "model"
   ]
  },
  {
   "cell_type": "code",
   "execution_count": 29,
   "id": "88eaff48",
   "metadata": {},
   "outputs": [],
   "source": [
    "model=nn.Sequential(nn.Linear(4,5),nn.Sequential(nn.Linear(4,5),\n",
    "    \n",
    "    nn.Sequential(nn.Linear(3,2),\n",
    "nn.Conv2d(3,30,2),\n",
    "nn.Linear(2,4))))"
   ]
  },
  {
   "cell_type": "code",
   "execution_count": 38,
   "id": "aaf0517c",
   "metadata": {},
   "outputs": [
    {
     "name": "stdout",
     "output_type": "stream",
     "text": [
      "torch.Size([30, 3, 2, 2])\n",
      "torch.Size([30])\n"
     ]
    }
   ],
   "source": [
    "module.register_forward_hook(self,hook_fn)\n",
    "\n",
    "for j, i in model.named_modules():\n",
    "#     print(i)\n",
    "#     break\n",
    "    if isinstance(i, nn.Conv2d):\n",
    "        print(i.weight.shape)\n",
    "        print(i.bias.shape)\n",
    "        break"
   ]
  },
  {
   "cell_type": "code",
   "execution_count": 196,
   "id": "9916178a",
   "metadata": {},
   "outputs": [
    {
     "data": {
      "text/plain": [
       "'_1x1'"
      ]
     },
     "execution_count": 196,
     "metadata": {},
     "output_type": "execute_result"
    }
   ],
   "source": [
    "1 . 리스트에 담에서 한번에 추가한다?\n",
    "2 . 한개씩 순서에 맞게 정리?"
   ]
  },
  {
   "cell_type": "code",
   "execution_count": 203,
   "id": "45b4813e",
   "metadata": {},
   "outputs": [
    {
     "data": {
      "text/plain": [
       "Net(\n",
       "  (layer1): Sequential(\n",
       "    (0): mk_modules(\n",
       "      (_1x1): Sequential(\n",
       "        (0): Conv2d(3, 16, kernel_size=(1, 1), stride=(1, 1))\n",
       "      )\n",
       "    )\n",
       "    (1): mk_modules(\n",
       "      (_5x5): Sequential(\n",
       "        (0): Conv2d(3, 16, kernel_size=(1, 1), stride=(1, 1))\n",
       "        (1): Conv2d(16, 24, kernel_size=(5, 5), stride=(1, 1), padding=(2, 2))\n",
       "      )\n",
       "    )\n",
       "    (2): mk_modules(\n",
       "      (_3x3): Sequential(\n",
       "        (0): Conv2d(3, 16, kernel_size=(1, 1), stride=(1, 1))\n",
       "        (1): Conv2d(16, 24, kernel_size=(3, 3), stride=(1, 1), padding=(1, 1))\n",
       "        (2): Conv2d(24, 24, kernel_size=(3, 3), stride=(1, 1), padding=(1, 1))\n",
       "      )\n",
       "    )\n",
       "  )\n",
       ")"
      ]
     },
     "execution_count": 203,
     "metadata": {},
     "output_type": "execute_result"
    }
   ],
   "source": [
    "a"
   ]
  },
  {
   "cell_type": "code",
   "execution_count": 190,
   "id": "3a7700af",
   "metadata": {},
   "outputs": [
    {
     "data": {
      "text/plain": [
       "mk_modules(\n",
       "  (_1x1): Sequential(\n",
       "    (0): Conv2d(3, 16, kernel_size=(1, 1), stride=(1, 1))\n",
       "  )\n",
       ")"
      ]
     },
     "execution_count": 190,
     "metadata": {},
     "output_type": "execute_result"
    }
   ],
   "source": [
    "a.layer1._modules['0']"
   ]
  },
  {
   "cell_type": "code",
   "execution_count": 141,
   "id": "8282cf20",
   "metadata": {},
   "outputs": [
    {
     "name": "stdout",
     "output_type": "stream",
     "text": [
      "['__call__', '__class__', '__delattr__', '__dir__', '__doc__', '__eq__', '__format__', '__func__', '__ge__', '__get__', '__getattribute__', '__gt__', '__hash__', '__init__', '__init_subclass__', '__le__', '__lt__', '__ne__', '__new__', '__reduce__', '__reduce_ex__', '__repr__', '__self__', '__setattr__', '__sizeof__', '__str__', '__subclasshook__']\n",
      "['__call__', '__class__', '__delattr__', '__dir__', '__doc__', '__eq__', '__format__', '__func__', '__ge__', '__get__', '__getattribute__', '__gt__', '__hash__', '__init__', '__init_subclass__', '__le__', '__lt__', '__ne__', '__new__', '__reduce__', '__reduce_ex__', '__repr__', '__self__', '__setattr__', '__sizeof__', '__str__', '__subclasshook__']\n",
      "['__call__', '__class__', '__delattr__', '__dir__', '__doc__', '__eq__', '__format__', '__func__', '__ge__', '__get__', '__getattribute__', '__gt__', '__hash__', '__init__', '__init_subclass__', '__le__', '__lt__', '__ne__', '__new__', '__reduce__', '__reduce_ex__', '__repr__', '__self__', '__setattr__', '__sizeof__', '__str__', '__subclasshook__']\n"
     ]
    }
   ],
   "source": [
    "a.forward"
   ]
  },
  {
   "cell_type": "code",
   "execution_count": 102,
   "id": "a1b0c779",
   "metadata": {},
   "outputs": [
    {
     "data": {
      "text/plain": [
       "'f'"
      ]
     },
     "execution_count": 102,
     "metadata": {},
     "output_type": "execute_result"
    }
   ],
   "source": [
    "name = 'd'\n",
    "d='f'\n",
    "s=globals()['{}'.format(name)]\n",
    "s"
   ]
  },
  {
   "cell_type": "code",
   "execution_count": 31,
   "id": "4356bdd2",
   "metadata": {},
   "outputs": [
    {
     "data": {
      "text/plain": [
       "Net(\n",
       "  (layer1): Sequential(\n",
       "    (0): Sequential(\n",
       "      (0): Linear(in_features=2, out_features=3, bias=True)\n",
       "      (1): Conv2d(3, 6, kernel_size=(2, 2), stride=(1, 1))\n",
       "      (2): Linear(in_features=6, out_features=3, bias=True)\n",
       "    )\n",
       "    (1): Sequential(\n",
       "      (0): Linear(in_features=2, out_features=3, bias=True)\n",
       "      (1): Conv2d(3, 6, kernel_size=(2, 2), stride=(1, 1))\n",
       "      (2): Linear(in_features=6, out_features=3, bias=True)\n",
       "    )\n",
       "  )\n",
       ")"
      ]
     },
     "execution_count": 31,
     "metadata": {},
     "output_type": "execute_result"
    }
   ],
   "source": [
    "b"
   ]
  },
  {
   "cell_type": "code",
   "execution_count": 10,
   "id": "03bbf72c",
   "metadata": {},
   "outputs": [
    {
     "name": "stdout",
     "output_type": "stream",
     "text": [
      "torch.Size([3, 2])\n"
     ]
    }
   ],
   "source": [
    "for i in layers:\n",
    "    if isinstance(i, nn.Linear):\n",
    "        print(i.weight.shape)"
   ]
  },
  {
   "cell_type": "code",
   "execution_count": 14,
   "id": "ab17b44f",
   "metadata": {},
   "outputs": [],
   "source": [
    "if isinstance(layers, nn.Linear):\n",
    "    print(layers.weight.shape)"
   ]
  },
  {
   "cell_type": "code",
   "execution_count": null,
   "id": "90a56619",
   "metadata": {},
   "outputs": [],
   "source": []
  }
 ],
 "metadata": {
  "kernelspec": {
   "display_name": "Python 3 (ipykernel)",
   "language": "python",
   "name": "python3"
  },
  "language_info": {
   "codemirror_mode": {
    "name": "ipython",
    "version": 3
   },
   "file_extension": ".py",
   "mimetype": "text/x-python",
   "name": "python",
   "nbconvert_exporter": "python",
   "pygments_lexer": "ipython3",
   "version": "3.7.0"
  }
 },
 "nbformat": 4,
 "nbformat_minor": 5
}
