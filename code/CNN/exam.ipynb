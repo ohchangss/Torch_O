{
 "cells": [
  {
   "cell_type": "code",
   "execution_count": 2,
   "id": "4ec69a98",
   "metadata": {},
   "outputs": [],
   "source": [
    "import torch\n",
    "import numpy as np\n",
    "import torch.nn as nn"
   ]
  },
  {
   "cell_type": "code",
   "execution_count": 33,
   "id": "e0036941",
   "metadata": {},
   "outputs": [],
   "source": [
    "a=['parallel',\n",
    "            ['conv',{'ksize':1, 'chn':64}],\n",
    "         \n",
    "            ['serial',\n",
    "                ['conv',{'ksize':1,'chn':48}],\n",
    "                ['conv',{'ksize':5, 'chn':64}]],\n",
    "         \n",
    "            ['serial',\n",
    "                ['conv',{'ksize':1,'chn':64}],\n",
    "                 ['conv',{'ksize':3,'chn':96}],\n",
    "                 ['conv',{'ksize':3,'chn':96}]],\n",
    "         \n",
    "            ['serial',\n",
    "                ['avg',{'ksize':3,'stride':1}],\n",
    "                ['conv',{'ksize':1,'chn':'#chn'}]]\n",
    "        \n",
    "        ]"
   ]
  },
  {
   "cell_type": "code",
   "execution_count": 34,
   "id": "2b93e3f0",
   "metadata": {},
   "outputs": [
    {
     "name": "stdout",
     "output_type": "stream",
     "text": [
      "parallel\n",
      "['conv', {'ksize': 1, 'chn': 64}]\n",
      "['serial', ['conv', {'ksize': 1, 'chn': 48}], ['conv', {'ksize': 5, 'chn': 64}]]\n",
      "['serial', ['conv', {'ksize': 1, 'chn': 64}], ['conv', {'ksize': 3, 'chn': 96}], ['conv', {'ksize': 3, 'chn': 96}]]\n",
      "['serial', ['avg', {'ksize': 3, 'stride': 1}], ['conv', {'ksize': 1, 'chn': '#chn'}]]\n"
     ]
    }
   ],
   "source": [
    "for i in  a:\n",
    "    print(i)\n",
    "#     break"
   ]
  },
  {
   "cell_type": "code",
   "execution_count": 215,
   "id": "c245a1c4",
   "metadata": {},
   "outputs": [],
   "source": [
    "# class modules(nn.Module):\n",
    "#     def __init__(self, layers):\n",
    "        \n",
    "#         super(modules, self).__init__()\n",
    "        \n",
    "#         self.layer1 = nn.Sequential(\n",
    "#             *layers\n",
    "#                                     )\n",
    "        \n",
    "        \n",
    "#     def forward(self, x):\n",
    "        \n",
    "#         out = self.layer1(x)\n",
    "        \n",
    "#         return out"
   ]
  },
  {
   "cell_type": "code",
   "execution_count": 5,
   "id": "373151d3",
   "metadata": {},
   "outputs": [],
   "source": [
    "class mk_modules(nn.Module):\n",
    "    def __init__(self, layers):\n",
    "        super(mk_modules, self).__init__()\n",
    "        \n",
    "        self.name, layer = layers\n",
    "\n",
    "        setattr(self, self.name, nn.Sequential(*layer))\n",
    "        \n",
    "#         print(layer)\n",
    "    def forward(self, x ):\n",
    "        \n",
    "        method = getattr(self, self.name)\n",
    "        out = method(x)\n",
    "        \n",
    "        return out"
   ]
  },
  {
   "cell_type": "code",
   "execution_count": 6,
   "id": "2f25696d",
   "metadata": {},
   "outputs": [],
   "source": [
    "class Net(nn.Module):\n",
    "    def __init__(self, tmp):\n",
    "#         tmp=tmp\n",
    "#         print(type(tmp),len(tmp))\n",
    "        super(Net, self).__init__()\n",
    "#         print(tmp.__class__.__name__)\n",
    "#         tmp.__class__.\n",
    "        c=[]\n",
    "        for i in tmp:\n",
    "            for j in i.children():\n",
    "                \n",
    "#                 print(j)\n",
    "                c.append(j)\n",
    "#                 break\n",
    "#             self.name , module = i\n",
    "        self.layer1 = nn.Sequential(\n",
    "            *c\n",
    "                            )\n",
    "        print(self.layer1[0])\n",
    "        \n",
    "    def forward(self,x):\n",
    "        \n",
    "        out1 = self.layer1[0](x)\n",
    "        out2 = self.layer1[1](x)\n",
    "        out3 = self.layer1[2](x)\n",
    "        out=torch.cat([out1,out2,out3],dim=0)\n",
    "        \n",
    "        return out\n",
    "    \n",
    "    \n",
    "    "
   ]
  },
  {
   "cell_type": "code",
   "execution_count": 7,
   "id": "54f131b9",
   "metadata": {},
   "outputs": [],
   "source": [
    "class Net(nn.Module):\n",
    "    def __init__(self, a):\n",
    "        super(Net, self).__init__()\n",
    "\n",
    "        self.layer1 = nn.Sequential(\n",
    "            *a\n",
    "                            )\n",
    "        \n",
    "    def forward(self,x):\n",
    "        out = []\n",
    "        for i in self.layer1.children():\n",
    "            out.append(i(x))\n",
    "#         out1 = self.layer1\n",
    "        cat=torch.cat(out,dim=0)\n",
    "        \n",
    "        return cat"
   ]
  },
  {
   "cell_type": "code",
   "execution_count": 8,
   "id": "a57e2248",
   "metadata": {},
   "outputs": [],
   "source": [
    "tmp = []\n",
    "inchannels = 3\n",
    "# for i in range(2):\n",
    "layer = ('_1x1',[nn.Conv2d(in_channels=inchannels,out_channels=24,kernel_size=1)])\n",
    "# tmptmp=mk_modules(layer)\n",
    "tmp.append(mk_modules(layer))\n",
    "\n",
    "layer = ('_5x5',[nn.Conv2d(in_channels=inchannels,out_channels=16,kernel_size=1),\n",
    "               nn.Conv2d(in_channels=16,out_channels=24,kernel_size=5,padding=2)])\n",
    "tmp.append(mk_modules(layer))\n",
    "\n",
    "layer = ('_3x3',[nn.Conv2d(in_channels=inchannels,out_channels=16,kernel_size=1),\n",
    "               nn.Conv2d(in_channels=16,out_channels=24,kernel_size=3,padding=1)])\n",
    "tmp.append(mk_modules(layer))\n",
    "\n",
    "layer = ('seq',[nn.Conv2d(in_channels=inchannels,out_channels=16,kernel_size=1),\n",
    "               nn.Conv2d(in_channels=16,out_channels=24,kernel_size=3,padding=1)])\n",
    "tmp.append(mk_modules(layer))\n",
    "\n",
    "x=mk_modules(layer)\n",
    "\n",
    "\n",
    "a=Net(tmp)\n",
    "x=torch.rand([10,3,299,299])\n",
    "z=a(x)"
   ]
  },
  {
   "cell_type": "code",
   "execution_count": 17,
   "id": "731b15e8",
   "metadata": {},
   "outputs": [
    {
     "data": {
      "text/plain": [
       "Net(\n",
       "  (layer1): Sequential(\n",
       "    (0): mk_modules(\n",
       "      (_1x1): Sequential(\n",
       "        (0): Conv2d(3, 24, kernel_size=(1, 1), stride=(1, 1))\n",
       "      )\n",
       "    )\n",
       "    (1): mk_modules(\n",
       "      (_5x5): Sequential(\n",
       "        (0): Conv2d(3, 16, kernel_size=(1, 1), stride=(1, 1))\n",
       "        (1): Conv2d(16, 24, kernel_size=(5, 5), stride=(1, 1), padding=(2, 2))\n",
       "      )\n",
       "    )\n",
       "    (2): mk_modules(\n",
       "      (_3x3): Sequential(\n",
       "        (0): Conv2d(3, 16, kernel_size=(1, 1), stride=(1, 1))\n",
       "        (1): Conv2d(16, 24, kernel_size=(3, 3), stride=(1, 1), padding=(1, 1))\n",
       "      )\n",
       "    )\n",
       "  )\n",
       ")"
      ]
     },
     "execution_count": 17,
     "metadata": {},
     "output_type": "execute_result"
    }
   ],
   "source": [
    "a"
   ]
  },
  {
   "cell_type": "code",
   "execution_count": 22,
   "id": "f66a7bf4",
   "metadata": {},
   "outputs": [
    {
     "data": {
      "text/plain": [
       "torch.Size([30, 24, 299, 299])"
      ]
     },
     "execution_count": 22,
     "metadata": {},
     "output_type": "execute_result"
    }
   ],
   "source": [
    "z.shape"
   ]
  },
  {
   "cell_type": "code",
   "execution_count": 17,
   "id": "e97b51d8",
   "metadata": {},
   "outputs": [
    {
     "name": "stdout",
     "output_type": "stream",
     "text": [
      "Sequential(\n",
      "  (0): mk_modules(\n",
      "    (_1x1): Sequential(\n",
      "      (0): Conv2d(3, 24, kernel_size=(1, 1), stride=(1, 1))\n",
      "    )\n",
      "  )\n",
      "  (1): mk_modules(\n",
      "    (_5x5): Sequential(\n",
      "      (0): Conv2d(3, 16, kernel_size=(1, 1), stride=(1, 1))\n",
      "      (1): Conv2d(16, 24, kernel_size=(5, 5), stride=(1, 1), padding=(2, 2))\n",
      "    )\n",
      "  )\n",
      "  (2): mk_modules(\n",
      "    (_3x3): Sequential(\n",
      "      (0): Conv2d(3, 16, kernel_size=(1, 1), stride=(1, 1))\n",
      "      (1): Conv2d(16, 24, kernel_size=(3, 3), stride=(1, 1), padding=(1, 1))\n",
      "    )\n",
      "  )\n",
      ")\n"
     ]
    }
   ],
   "source": [
    "for i in a.children():\n",
    "    print(i)"
   ]
  },
  {
   "cell_type": "code",
   "execution_count": 5,
   "id": "a8e18568",
   "metadata": {},
   "outputs": [
    {
     "data": {
      "text/plain": [
       "[mk_modules(\n",
       "   (_1x1): Sequential(\n",
       "     (0): Conv2d(3, 24, kernel_size=(1, 1), stride=(1, 1))\n",
       "   )\n",
       " ),\n",
       " mk_modules(\n",
       "   (_5x5): Sequential(\n",
       "     (0): Conv2d(3, 16, kernel_size=(1, 1), stride=(1, 1))\n",
       "     (1): Conv2d(16, 24, kernel_size=(5, 5), stride=(1, 1), padding=(2, 2))\n",
       "   )\n",
       " ),\n",
       " mk_modules(\n",
       "   (_3x3): Sequential(\n",
       "     (0): Conv2d(3, 16, kernel_size=(1, 1), stride=(1, 1))\n",
       "     (1): Conv2d(16, 24, kernel_size=(3, 3), stride=(1, 1), padding=(1, 1))\n",
       "   )\n",
       " )]"
      ]
     },
     "execution_count": 5,
     "metadata": {},
     "output_type": "execute_result"
    }
   ],
   "source": [
    "tmp"
   ]
  },
  {
   "cell_type": "code",
   "execution_count": 16,
   "id": "e120b324",
   "metadata": {},
   "outputs": [
    {
     "ename": "AttributeError",
     "evalue": "'tuple' object has no attribute 'add_module'",
     "output_type": "error",
     "traceback": [
      "\u001b[1;31m---------------------------------------------------------------------------\u001b[0m",
      "\u001b[1;31mAttributeError\u001b[0m                            Traceback (most recent call last)",
      "\u001b[1;32m~\\AppData\\Local\\Temp/ipykernel_12604/3469898281.py\u001b[0m in \u001b[0;36m<module>\u001b[1;34m\u001b[0m\n\u001b[0;32m      1\u001b[0m \u001b[1;31m# model = nn.Sequential()\u001b[0m\u001b[1;33m\u001b[0m\u001b[1;33m\u001b[0m\u001b[0m\n\u001b[1;32m----> 2\u001b[1;33m \u001b[0mmodel\u001b[0m\u001b[1;33m.\u001b[0m\u001b[0madd_module\u001b[0m\u001b[1;33m(\u001b[0m\u001b[1;34m'conv0'\u001b[0m\u001b[1;33m,\u001b[0m \u001b[0mtmp\u001b[0m\u001b[1;33m[\u001b[0m\u001b[1;36m0\u001b[0m\u001b[1;33m]\u001b[0m\u001b[1;33m)\u001b[0m\u001b[1;33m\u001b[0m\u001b[0m\n\u001b[0m\u001b[0;32m      3\u001b[0m \u001b[0mmodel\u001b[0m\u001b[1;33m.\u001b[0m\u001b[0madd_module\u001b[0m\u001b[1;33m(\u001b[0m\u001b[1;34m'norm0'\u001b[0m\u001b[1;33m,\u001b[0m \u001b[0mtmp\u001b[0m\u001b[1;33m[\u001b[0m\u001b[1;36m1\u001b[0m\u001b[1;33m]\u001b[0m\u001b[1;33m)\u001b[0m\u001b[1;33m\u001b[0m\u001b[0m\n\u001b[0;32m      4\u001b[0m \u001b[0mmodel\u001b[0m\u001b[1;33m.\u001b[0m\u001b[0madd_module\u001b[0m\u001b[1;33m(\u001b[0m\u001b[1;34m'norm1'\u001b[0m\u001b[1;33m,\u001b[0m \u001b[0mtmp\u001b[0m\u001b[1;33m[\u001b[0m\u001b[1;36m2\u001b[0m\u001b[1;33m]\u001b[0m\u001b[1;33m)\u001b[0m\u001b[1;33m\u001b[0m\u001b[0m\n\u001b[0;32m      5\u001b[0m \u001b[1;31m# for i in model.children():\u001b[0m\u001b[1;33m\u001b[0m\u001b[1;33m\u001b[0m\u001b[0m\n",
      "\u001b[1;31mAttributeError\u001b[0m: 'tuple' object has no attribute 'add_module'"
     ]
    }
   ],
   "source": [
    "# model = nn.Sequential()\n",
    "model.add_module('conv0', tmp[0])\n",
    "model.add_module('norm0', tmp[1])\n",
    "model.add_module('norm1', tmp[2])\n",
    "# for i in model.children():\n",
    "#     print(i)\n",
    "#     break"
   ]
  },
  {
   "cell_type": "code",
   "execution_count": 11,
   "id": "9b5c7a69",
   "metadata": {},
   "outputs": [],
   "source": [
    "model.add_module('conv1', tmp[0])"
   ]
  },
  {
   "cell_type": "code",
   "execution_count": 13,
   "id": "7410d617",
   "metadata": {},
   "outputs": [],
   "source": [
    "model = ('name', nn.Sequentialquential())"
   ]
  },
  {
   "cell_type": "code",
   "execution_count": 15,
   "id": "7c181f50",
   "metadata": {},
   "outputs": [
    {
     "data": {
      "text/plain": [
       "('name', Sequential())"
      ]
     },
     "execution_count": 15,
     "metadata": {},
     "output_type": "execute_result"
    }
   ],
   "source": [
    "model"
   ]
  },
  {
   "cell_type": "code",
   "execution_count": 47,
   "id": "e3edca22",
   "metadata": {},
   "outputs": [
    {
     "ename": "TypeError",
     "evalue": "prod(): argument 'input' (position 1) must be Tensor, not torch.Size",
     "output_type": "error",
     "traceback": [
      "\u001b[1;31m---------------------------------------------------------------------------\u001b[0m",
      "\u001b[1;31mTypeError\u001b[0m                                 Traceback (most recent call last)",
      "\u001b[1;32m~\\AppData\\Local\\Temp/ipykernel_11504/849653796.py\u001b[0m in \u001b[0;36m<module>\u001b[1;34m\u001b[0m\n\u001b[0;32m      1\u001b[0m \u001b[0ma\u001b[0m\u001b[1;33m=\u001b[0m\u001b[0mnn\u001b[0m\u001b[1;33m.\u001b[0m\u001b[0mConv2d\u001b[0m\u001b[1;33m(\u001b[0m\u001b[1;36m10\u001b[0m\u001b[1;33m,\u001b[0m\u001b[1;36m10\u001b[0m\u001b[1;33m,\u001b[0m\u001b[1;36m10\u001b[0m\u001b[1;33m)\u001b[0m\u001b[1;33m\u001b[0m\u001b[0m\n\u001b[1;32m----> 2\u001b[1;33m \u001b[0mtorch\u001b[0m\u001b[1;33m.\u001b[0m\u001b[0mprod\u001b[0m\u001b[1;33m(\u001b[0m\u001b[0ma\u001b[0m\u001b[1;33m.\u001b[0m\u001b[0mweight\u001b[0m\u001b[1;33m.\u001b[0m\u001b[0mshape\u001b[0m\u001b[1;33m)\u001b[0m\u001b[1;33m\u001b[0m\u001b[0m\n\u001b[0m",
      "\u001b[1;31mTypeError\u001b[0m: prod(): argument 'input' (position 1) must be Tensor, not torch.Size"
     ]
    }
   ],
   "source": [
    "a=nn.Conv2d(10,10,10)\n",
    "torch.prod(a.weight.shape)"
   ]
  },
  {
   "cell_type": "code",
   "execution_count": 56,
   "id": "9916178a",
   "metadata": {},
   "outputs": [
    {
     "data": {
      "text/plain": [
       "6"
      ]
     },
     "execution_count": 56,
     "metadata": {},
     "output_type": "execute_result"
    }
   ],
   "source": [
    "np.prod(np.array([2,3]))"
   ]
  },
  {
   "cell_type": "code",
   "execution_count": 63,
   "id": "a0354a17",
   "metadata": {},
   "outputs": [
    {
     "data": {
      "text/plain": [
       "tensor([3, 5])"
      ]
     },
     "execution_count": 63,
     "metadata": {},
     "output_type": "execute_result"
    }
   ],
   "source": [
    "torch.tensor(torch.rand([3,5]).shape)"
   ]
  },
  {
   "cell_type": "code",
   "execution_count": 58,
   "id": "45b4813e",
   "metadata": {},
   "outputs": [
    {
     "data": {
      "text/plain": [
       "tensor(12)"
      ]
     },
     "execution_count": 58,
     "metadata": {},
     "output_type": "execute_result"
    }
   ],
   "source": [
    "torch.prod(torch.tensor([2,6]))"
   ]
  },
  {
   "cell_type": "code",
   "execution_count": 190,
   "id": "3a7700af",
   "metadata": {},
   "outputs": [
    {
     "data": {
      "text/plain": [
       "mk_modules(\n",
       "  (_1x1): Sequential(\n",
       "    (0): Conv2d(3, 16, kernel_size=(1, 1), stride=(1, 1))\n",
       "  )\n",
       ")"
      ]
     },
     "execution_count": 190,
     "metadata": {},
     "output_type": "execute_result"
    }
   ],
   "source": [
    "a.layer1._modules['0']"
   ]
  },
  {
   "cell_type": "code",
   "execution_count": 141,
   "id": "8282cf20",
   "metadata": {},
   "outputs": [
    {
     "name": "stdout",
     "output_type": "stream",
     "text": [
      "['__call__', '__class__', '__delattr__', '__dir__', '__doc__', '__eq__', '__format__', '__func__', '__ge__', '__get__', '__getattribute__', '__gt__', '__hash__', '__init__', '__init_subclass__', '__le__', '__lt__', '__ne__', '__new__', '__reduce__', '__reduce_ex__', '__repr__', '__self__', '__setattr__', '__sizeof__', '__str__', '__subclasshook__']\n",
      "['__call__', '__class__', '__delattr__', '__dir__', '__doc__', '__eq__', '__format__', '__func__', '__ge__', '__get__', '__getattribute__', '__gt__', '__hash__', '__init__', '__init_subclass__', '__le__', '__lt__', '__ne__', '__new__', '__reduce__', '__reduce_ex__', '__repr__', '__self__', '__setattr__', '__sizeof__', '__str__', '__subclasshook__']\n",
      "['__call__', '__class__', '__delattr__', '__dir__', '__doc__', '__eq__', '__format__', '__func__', '__ge__', '__get__', '__getattribute__', '__gt__', '__hash__', '__init__', '__init_subclass__', '__le__', '__lt__', '__ne__', '__new__', '__reduce__', '__reduce_ex__', '__repr__', '__self__', '__setattr__', '__sizeof__', '__str__', '__subclasshook__']\n"
     ]
    }
   ],
   "source": [
    "a.forward"
   ]
  },
  {
   "cell_type": "code",
   "execution_count": 102,
   "id": "a1b0c779",
   "metadata": {},
   "outputs": [
    {
     "data": {
      "text/plain": [
       "'f'"
      ]
     },
     "execution_count": 102,
     "metadata": {},
     "output_type": "execute_result"
    }
   ],
   "source": [
    "name = 'd'\n",
    "d='f'\n",
    "s=globals()['{}'.format(name)]\n",
    "s"
   ]
  },
  {
   "cell_type": "code",
   "execution_count": 31,
   "id": "4356bdd2",
   "metadata": {},
   "outputs": [
    {
     "data": {
      "text/plain": [
       "Net(\n",
       "  (layer1): Sequential(\n",
       "    (0): Sequential(\n",
       "      (0): Linear(in_features=2, out_features=3, bias=True)\n",
       "      (1): Conv2d(3, 6, kernel_size=(2, 2), stride=(1, 1))\n",
       "      (2): Linear(in_features=6, out_features=3, bias=True)\n",
       "    )\n",
       "    (1): Sequential(\n",
       "      (0): Linear(in_features=2, out_features=3, bias=True)\n",
       "      (1): Conv2d(3, 6, kernel_size=(2, 2), stride=(1, 1))\n",
       "      (2): Linear(in_features=6, out_features=3, bias=True)\n",
       "    )\n",
       "  )\n",
       ")"
      ]
     },
     "execution_count": 31,
     "metadata": {},
     "output_type": "execute_result"
    }
   ],
   "source": [
    "b"
   ]
  },
  {
   "cell_type": "code",
   "execution_count": 10,
   "id": "03bbf72c",
   "metadata": {},
   "outputs": [
    {
     "name": "stdout",
     "output_type": "stream",
     "text": [
      "torch.Size([3, 2])\n"
     ]
    }
   ],
   "source": [
    "for i in layers:\n",
    "    if isinstance(i, nn.Linear):\n",
    "        print(i.weight.shape)"
   ]
  },
  {
   "cell_type": "code",
   "execution_count": 14,
   "id": "ab17b44f",
   "metadata": {},
   "outputs": [],
   "source": [
    "if isinstance(layers, nn.Linear):\n",
    "    print(layers.weight.shape)"
   ]
  },
  {
   "cell_type": "code",
   "execution_count": null,
   "id": "90a56619",
   "metadata": {},
   "outputs": [],
   "source": []
  }
 ],
 "metadata": {
  "kernelspec": {
   "display_name": "Python 3 (ipykernel)",
   "language": "python",
   "name": "python3"
  },
  "language_info": {
   "codemirror_mode": {
    "name": "ipython",
    "version": 3
   },
   "file_extension": ".py",
   "mimetype": "text/x-python",
   "name": "python",
   "nbconvert_exporter": "python",
   "pygments_lexer": "ipython3",
   "version": "3.7.0"
  }
 },
 "nbformat": 4,
 "nbformat_minor": 5
}
