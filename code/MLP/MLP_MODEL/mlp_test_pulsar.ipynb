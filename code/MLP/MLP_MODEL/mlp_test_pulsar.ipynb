{
 "cells": [
  {
   "cell_type": "code",
   "execution_count": 212,
   "id": "5dc8f938",
   "metadata": {},
   "outputs": [
    {
     "name": "stdout",
     "output_type": "stream",
     "text": [
      "Using device: cpu\n",
      "Using PyTorch version: 1.9.0\n"
     ]
    }
   ],
   "source": [
    "BASE_DIR = '../'*3\n",
    "MLPMODEL = BASE_DIR +'code/MLP/MLP_MODEL/mlp_model.ipynb'\n",
    "PREPRO = BASE_DIR + 'code/UTIL/dataset/pulsar_prepro.ipynb'\n",
    "%run {MLPMODEL}\n",
    "%run {PREPRO}"
   ]
  },
  {
   "cell_type": "code",
   "execution_count": 213,
   "id": "922d6b01",
   "metadata": {},
   "outputs": [],
   "source": [
    "EPOCH = 10\n",
    "BATCH_SIZE=30\n",
    "NUM_WORKERS=0\n",
    "LEARNING_RATE = 0.005"
   ]
  },
  {
   "cell_type": "code",
   "execution_count": 214,
   "id": "396ea9d8",
   "metadata": {},
   "outputs": [
    {
     "name": "stdout",
     "output_type": "stream",
     "text": [
      "Model pulsar_model train started \n",
      "\n",
      "\n",
      "레이어는 아래와 같습니다.\n",
      "\n",
      " Net(\n",
      "  (layer1): Sequential(\n",
      "    (0): Linear(in_features=8, out_features=12, bias=True)\n",
      "    (1): ReLU()\n",
      "    (2): Linear(in_features=12, out_features=8, bias=True)\n",
      "    (3): ReLU()\n",
      "    (4): Linear(in_features=8, out_features=6, bias=True)\n",
      "    (5): ReLU()\n",
      "    (6): Linear(in_features=6, out_features=4, bias=True)\n",
      "    (7): ReLU()\n",
      "    (8): Linear(in_features=4, out_features=1, bias=True)\n",
      "    (9): Sigmoid()\n",
      "  )\n",
      ")\n",
      "    Epoch 1: cost=0.283, accuracy=0.107/0.140 (0/0 secs)\n",
      "    Epoch 1: cost=0.221, accuracy=0.097/0.120 (0/0 secs)\n"
     ]
    },
    {
     "name": "stderr",
     "output_type": "stream",
     "text": [
      "C:\\Users\\oh\\anaconda3\\envs\\nalcoding\\lib\\site-packages\\ipykernel_launcher.py:15: UserWarning: To copy construct from a tensor, it is recommended to use sourceTensor.clone().detach() or sourceTensor.clone().detach().requires_grad_(True), rather than torch.tensor(sourceTensor).\n",
      "  from ipykernel import kernelapp as app\n",
      "C:\\Users\\oh\\anaconda3\\envs\\nalcoding\\lib\\site-packages\\ipykernel_launcher.py:16: UserWarning: To copy construct from a tensor, it is recommended to use sourceTensor.clone().detach() or sourceTensor.clone().detach().requires_grad_(True), rather than torch.tensor(sourceTensor).\n",
      "  app.launch_new_instance()\n"
     ]
    },
    {
     "name": "stdout",
     "output_type": "stream",
     "text": [
      "    Epoch 1: cost=0.187, accuracy=0.089/0.120 (0/0 secs)\n",
      "    Epoch 1: cost=0.174, accuracy=0.088/0.110 (0/0 secs)\n",
      "    Epoch 1: cost=0.168, accuracy=0.087/0.090 (0/0 secs)\n",
      "    Epoch 1: cost=0.160, accuracy=0.085/0.120 (0/0 secs)\n",
      "    Epoch 1: cost=0.159, accuracy=0.086/0.070 (0/0 secs)\n",
      "    Epoch 1: cost=0.154, accuracy=0.085/0.090 (0/0 secs)\n",
      "    Epoch 1: cost=0.151, accuracy=0.087/0.100 (1/1 secs)\n",
      "    Epoch 1: cost=0.149, accuracy=0.086/0.090 (0/1 secs)\n",
      "    Epoch 1: cost=0.145, accuracy=0.086/0.090 (0/1 secs)\n",
      "    Epoch 1: cost=0.145, accuracy=0.088/0.070 (0/1 secs)\n",
      "    Epoch 1: cost=0.147, accuracy=0.089/0.090 (0/1 secs)\n",
      "    Epoch 1: cost=0.146, accuracy=0.089/0.140 (0/1 secs)\n",
      "    Epoch 1: cost=0.144, accuracy=0.089/0.090 (0/1 secs)\n",
      "    Epoch 1: cost=0.141, accuracy=0.090/0.090 (0/1 secs)\n",
      "    Epoch 1: cost=0.140, accuracy=0.090/0.150 (0/1 secs)\n",
      "    Epoch 1: cost=0.138, accuracy=0.090/0.040 (0/1 secs)\n",
      "    Epoch 1: cost=0.135, accuracy=0.089/0.120 (0/1 secs)\n",
      "    Epoch 1: cost=0.132, accuracy=0.089/0.140 (0/1 secs)\n",
      "    Epoch 1: cost=0.131, accuracy=0.090/0.050 (0/1 secs)\n",
      "    Epoch 1: cost=0.131, accuracy=0.090/0.140 (1/2 secs)\n",
      "    Epoch 1: cost=0.130, accuracy=0.089/0.110 (0/2 secs)\n",
      "    Epoch 2: cost=0.098, accuracy=0.102/0.120 (0/2 secs)\n",
      "    Epoch 2: cost=0.077, accuracy=0.093/0.070 (0/2 secs)\n",
      "    Epoch 2: cost=0.110, accuracy=0.094/0.090 (0/2 secs)\n",
      "    Epoch 2: cost=0.125, accuracy=0.094/0.140 (0/2 secs)\n",
      "    Epoch 2: cost=0.124, accuracy=0.097/0.080 (0/2 secs)\n",
      "    Epoch 2: cost=0.123, accuracy=0.096/0.070 (0/2 secs)\n",
      "    Epoch 2: cost=0.122, accuracy=0.098/0.070 (0/2 secs)\n",
      "    Epoch 2: cost=0.118, accuracy=0.096/0.070 (0/2 secs)\n",
      "    Epoch 2: cost=0.116, accuracy=0.096/0.110 (0/2 secs)\n",
      "    Epoch 2: cost=0.116, accuracy=0.094/0.100 (0/2 secs)\n",
      "    Epoch 2: cost=0.119, accuracy=0.096/0.090 (0/2 secs)\n",
      "    Epoch 2: cost=0.119, accuracy=0.096/0.090 (1/3 secs)\n",
      "    Epoch 2: cost=0.117, accuracy=0.095/0.090 (0/3 secs)\n",
      "    Epoch 2: cost=0.117, accuracy=0.095/0.110 (0/3 secs)\n",
      "    Epoch 2: cost=0.115, accuracy=0.094/0.080 (0/3 secs)\n",
      "    Epoch 2: cost=0.115, accuracy=0.094/0.090 (0/3 secs)\n",
      "    Epoch 2: cost=0.114, accuracy=0.094/0.060 (0/3 secs)\n",
      "    Epoch 2: cost=0.112, accuracy=0.092/0.090 (0/3 secs)\n",
      "    Epoch 2: cost=0.111, accuracy=0.092/0.140 (0/3 secs)\n",
      "    Epoch 2: cost=0.110, accuracy=0.092/0.090 (0/3 secs)\n",
      "    Epoch 2: cost=0.108, accuracy=0.092/0.110 (0/3 secs)\n",
      "    Epoch 2: cost=0.108, accuracy=0.090/0.080 (0/3 secs)\n",
      "    Epoch 2: cost=0.108, accuracy=0.089/0.040 (0/3 secs)\n",
      "    Epoch 3: cost=0.069, accuracy=0.075/0.110 (0/3 secs)\n",
      "    Epoch 3: cost=0.087, accuracy=0.086/0.130 (0/3 secs)\n",
      "    Epoch 3: cost=0.097, accuracy=0.084/0.120 (1/4 secs)\n",
      "    Epoch 3: cost=0.091, accuracy=0.082/0.060 (0/4 secs)\n",
      "    Epoch 3: cost=0.099, accuracy=0.087/0.180 (0/4 secs)\n",
      "    Epoch 3: cost=0.101, accuracy=0.089/0.060 (0/4 secs)\n",
      "    Epoch 3: cost=0.102, accuracy=0.088/0.100 (0/4 secs)\n",
      "    Epoch 3: cost=0.104, accuracy=0.088/0.070 (0/4 secs)\n",
      "    Epoch 3: cost=0.106, accuracy=0.088/0.090 (0/4 secs)\n",
      "    Epoch 3: cost=0.104, accuracy=0.088/0.090 (0/4 secs)\n",
      "    Epoch 3: cost=0.102, accuracy=0.088/0.050 (0/4 secs)\n",
      "    Epoch 3: cost=0.103, accuracy=0.087/0.130 (0/4 secs)\n",
      "    Epoch 3: cost=0.104, accuracy=0.086/0.090 (0/4 secs)\n",
      "    Epoch 3: cost=0.106, accuracy=0.087/0.100 (0/4 secs)\n",
      "    Epoch 3: cost=0.104, accuracy=0.087/0.100 (0/4 secs)\n",
      "    Epoch 3: cost=0.101, accuracy=0.087/0.070 (0/4 secs)\n",
      "    Epoch 3: cost=0.102, accuracy=0.087/0.110 (1/5 secs)\n",
      "    Epoch 3: cost=0.102, accuracy=0.088/0.060 (0/5 secs)\n",
      "    Epoch 3: cost=0.101, accuracy=0.088/0.070 (0/5 secs)\n",
      "    Epoch 3: cost=0.100, accuracy=0.089/0.100 (0/5 secs)\n",
      "    Epoch 3: cost=0.100, accuracy=0.089/0.070 (0/5 secs)\n",
      "    Epoch 3: cost=0.101, accuracy=0.090/0.070 (0/5 secs)\n",
      "    Epoch 3: cost=0.100, accuracy=0.090/0.090 (0/5 secs)\n",
      "    Epoch 4: cost=0.144, accuracy=0.100/0.040 (0/5 secs)\n",
      "    Epoch 4: cost=0.126, accuracy=0.096/0.110 (0/5 secs)\n",
      "    Epoch 4: cost=0.111, accuracy=0.093/0.080 (0/5 secs)\n",
      "    Epoch 4: cost=0.101, accuracy=0.091/0.070 (0/5 secs)\n",
      "    Epoch 4: cost=0.103, accuracy=0.093/0.100 (0/5 secs)\n",
      "    Epoch 4: cost=0.099, accuracy=0.089/0.050 (0/5 secs)\n",
      "    Epoch 4: cost=0.102, accuracy=0.087/0.140 (1/6 secs)\n",
      "    Epoch 4: cost=0.110, accuracy=0.087/0.070 (0/6 secs)\n",
      "    Epoch 4: cost=0.115, accuracy=0.089/0.150 (0/6 secs)\n",
      "    Epoch 4: cost=0.110, accuracy=0.087/0.070 (0/6 secs)\n",
      "    Epoch 4: cost=0.108, accuracy=0.087/0.100 (0/6 secs)\n",
      "    Epoch 4: cost=0.105, accuracy=0.088/0.080 (0/6 secs)\n",
      "    Epoch 4: cost=0.103, accuracy=0.088/0.080 (0/6 secs)\n",
      "    Epoch 4: cost=0.105, accuracy=0.089/0.060 (0/6 secs)\n",
      "    Epoch 4: cost=0.104, accuracy=0.088/0.040 (0/6 secs)\n",
      "    Epoch 4: cost=0.103, accuracy=0.089/0.090 (0/6 secs)\n",
      "    Epoch 4: cost=0.102, accuracy=0.089/0.110 (0/6 secs)\n",
      "    Epoch 4: cost=0.103, accuracy=0.090/0.090 (0/6 secs)\n",
      "    Epoch 4: cost=0.105, accuracy=0.090/0.100 (0/6 secs)\n",
      "    Epoch 4: cost=0.107, accuracy=0.091/0.080 (1/7 secs)\n",
      "    Epoch 4: cost=0.106, accuracy=0.090/0.060 (0/7 secs)\n",
      "    Epoch 4: cost=0.108, accuracy=0.089/0.080 (0/7 secs)\n",
      "    Epoch 4: cost=0.108, accuracy=0.089/0.080 (0/7 secs)\n",
      "    Epoch 5: cost=0.102, accuracy=0.083/0.070 (0/7 secs)\n",
      "    Epoch 5: cost=0.090, accuracy=0.089/0.080 (0/7 secs)\n",
      "    Epoch 5: cost=0.091, accuracy=0.089/0.100 (0/7 secs)\n",
      "    Epoch 5: cost=0.096, accuracy=0.090/0.100 (0/7 secs)\n",
      "    Epoch 5: cost=0.097, accuracy=0.092/0.100 (0/7 secs)\n",
      "    Epoch 5: cost=0.099, accuracy=0.090/0.070 (0/7 secs)\n",
      "    Epoch 5: cost=0.109, accuracy=0.093/0.090 (0/7 secs)\n",
      "    Epoch 5: cost=0.107, accuracy=0.095/0.050 (0/7 secs)\n",
      "    Epoch 5: cost=0.110, accuracy=0.095/0.120 (0/7 secs)\n",
      "    Epoch 5: cost=0.108, accuracy=0.093/0.090 (1/8 secs)\n",
      "    Epoch 5: cost=0.107, accuracy=0.092/0.080 (0/8 secs)\n",
      "    Epoch 5: cost=0.105, accuracy=0.090/0.080 (0/8 secs)\n",
      "    Epoch 5: cost=0.102, accuracy=0.090/0.060 (0/8 secs)\n",
      "    Epoch 5: cost=0.102, accuracy=0.091/0.080 (0/8 secs)\n",
      "    Epoch 5: cost=0.103, accuracy=0.091/0.140 (0/8 secs)\n",
      "    Epoch 5: cost=0.103, accuracy=0.091/0.110 (0/8 secs)\n",
      "    Epoch 5: cost=0.104, accuracy=0.090/0.040 (0/8 secs)\n",
      "    Epoch 5: cost=0.105, accuracy=0.091/0.060 (0/8 secs)\n",
      "    Epoch 5: cost=0.105, accuracy=0.090/0.120 (0/8 secs)\n",
      "    Epoch 5: cost=0.103, accuracy=0.089/0.130 (0/8 secs)\n",
      "    Epoch 5: cost=0.103, accuracy=0.090/0.100 (0/8 secs)\n",
      "    Epoch 5: cost=0.102, accuracy=0.090/0.120 (0/8 secs)\n",
      "    Epoch 5: cost=0.101, accuracy=0.090/0.100 (1/9 secs)\n",
      "    Epoch 6: cost=0.136, accuracy=0.097/0.120 (0/9 secs)\n",
      "    Epoch 6: cost=0.105, accuracy=0.103/0.070 (0/9 secs)\n",
      "    Epoch 6: cost=0.104, accuracy=0.101/0.120 (0/9 secs)\n",
      "    Epoch 6: cost=0.099, accuracy=0.099/0.100 (0/9 secs)\n",
      "    Epoch 6: cost=0.110, accuracy=0.096/0.110 (0/9 secs)\n",
      "    Epoch 6: cost=0.109, accuracy=0.095/0.090 (0/9 secs)\n",
      "    Epoch 6: cost=0.106, accuracy=0.093/0.080 (0/9 secs)\n",
      "    Epoch 6: cost=0.106, accuracy=0.092/0.090 (0/9 secs)\n",
      "    Epoch 6: cost=0.108, accuracy=0.092/0.060 (0/9 secs)\n",
      "    Epoch 6: cost=0.107, accuracy=0.092/0.040 (0/9 secs)\n",
      "    Epoch 6: cost=0.106, accuracy=0.093/0.100 (0/9 secs)\n",
      "    Epoch 6: cost=0.103, accuracy=0.093/0.140 (1/10 secs)\n",
      "    Epoch 6: cost=0.104, accuracy=0.093/0.120 (0/10 secs)\n",
      "    Epoch 6: cost=0.103, accuracy=0.092/0.080 (0/10 secs)\n",
      "    Epoch 6: cost=0.103, accuracy=0.092/0.130 (0/10 secs)\n",
      "    Epoch 6: cost=0.103, accuracy=0.093/0.080 (0/10 secs)\n",
      "    Epoch 6: cost=0.105, accuracy=0.093/0.110 (0/10 secs)\n",
      "    Epoch 6: cost=0.104, accuracy=0.093/0.080 (0/10 secs)\n",
      "    Epoch 6: cost=0.102, accuracy=0.093/0.070 (0/10 secs)\n",
      "    Epoch 6: cost=0.102, accuracy=0.092/0.100 (0/10 secs)\n",
      "    Epoch 6: cost=0.103, accuracy=0.092/0.140 (0/10 secs)\n",
      "    Epoch 6: cost=0.101, accuracy=0.090/0.120 (0/10 secs)\n",
      "    Epoch 6: cost=0.102, accuracy=0.090/0.090 (0/10 secs)\n",
      "    Epoch 7: cost=0.100, accuracy=0.098/0.150 (1/11 secs)\n",
      "    Epoch 7: cost=0.111, accuracy=0.093/0.080 (0/11 secs)\n",
      "    Epoch 7: cost=0.114, accuracy=0.097/0.090 (0/11 secs)\n",
      "    Epoch 7: cost=0.111, accuracy=0.096/0.130 (0/11 secs)\n",
      "    Epoch 7: cost=0.122, accuracy=0.096/0.050 (0/11 secs)\n",
      "    Epoch 7: cost=0.115, accuracy=0.094/0.130 (0/11 secs)\n",
      "    Epoch 7: cost=0.109, accuracy=0.090/0.090 (0/11 secs)\n",
      "    Epoch 7: cost=0.106, accuracy=0.091/0.050 (0/11 secs)\n"
     ]
    },
    {
     "name": "stdout",
     "output_type": "stream",
     "text": [
      "    Epoch 7: cost=0.105, accuracy=0.094/0.080 (0/11 secs)\n",
      "    Epoch 7: cost=0.101, accuracy=0.095/0.090 (0/11 secs)\n",
      "    Epoch 7: cost=0.105, accuracy=0.095/0.080 (0/11 secs)\n",
      "    Epoch 7: cost=0.106, accuracy=0.093/0.070 (0/11 secs)\n",
      "    Epoch 7: cost=0.109, accuracy=0.092/0.060 (0/11 secs)\n",
      "    Epoch 7: cost=0.108, accuracy=0.092/0.050 (0/11 secs)\n",
      "    Epoch 7: cost=0.111, accuracy=0.092/0.100 (1/12 secs)\n",
      "    Epoch 7: cost=0.112, accuracy=0.092/0.110 (0/12 secs)\n",
      "    Epoch 7: cost=0.112, accuracy=0.091/0.070 (0/12 secs)\n",
      "    Epoch 7: cost=0.111, accuracy=0.092/0.070 (0/12 secs)\n",
      "    Epoch 7: cost=0.109, accuracy=0.092/0.090 (0/12 secs)\n",
      "    Epoch 7: cost=0.109, accuracy=0.092/0.080 (0/12 secs)\n",
      "    Epoch 7: cost=0.109, accuracy=0.090/0.090 (0/12 secs)\n",
      "    Epoch 7: cost=0.109, accuracy=0.089/0.100 (0/12 secs)\n",
      "    Epoch 7: cost=0.109, accuracy=0.090/0.080 (0/12 secs)\n",
      "    Epoch 8: cost=0.104, accuracy=0.095/0.090 (0/12 secs)\n",
      "    Epoch 8: cost=0.099, accuracy=0.093/0.080 (0/12 secs)\n",
      "    Epoch 8: cost=0.116, accuracy=0.093/0.080 (0/12 secs)\n",
      "    Epoch 8: cost=0.114, accuracy=0.095/0.130 (1/13 secs)\n",
      "    Epoch 8: cost=0.104, accuracy=0.093/0.130 (0/13 secs)\n",
      "    Epoch 8: cost=0.096, accuracy=0.091/0.070 (0/13 secs)\n",
      "    Epoch 8: cost=0.094, accuracy=0.092/0.080 (0/13 secs)\n",
      "    Epoch 8: cost=0.095, accuracy=0.092/0.070 (0/13 secs)\n",
      "    Epoch 8: cost=0.097, accuracy=0.093/0.120 (0/13 secs)\n",
      "    Epoch 8: cost=0.100, accuracy=0.094/0.070 (0/13 secs)\n",
      "    Epoch 8: cost=0.098, accuracy=0.092/0.020 (0/13 secs)\n",
      "    Epoch 8: cost=0.103, accuracy=0.094/0.130 (0/13 secs)\n",
      "    Epoch 8: cost=0.109, accuracy=0.093/0.090 (0/13 secs)\n",
      "    Epoch 8: cost=0.109, accuracy=0.093/0.140 (0/13 secs)\n",
      "    Epoch 8: cost=0.108, accuracy=0.092/0.090 (0/13 secs)\n",
      "    Epoch 8: cost=0.110, accuracy=0.092/0.060 (0/13 secs)\n",
      "    Epoch 8: cost=0.109, accuracy=0.092/0.120 (1/14 secs)\n",
      "    Epoch 8: cost=0.108, accuracy=0.091/0.060 (0/14 secs)\n",
      "    Epoch 8: cost=0.108, accuracy=0.092/0.110 (0/14 secs)\n",
      "    Epoch 8: cost=0.107, accuracy=0.091/0.060 (0/14 secs)\n",
      "    Epoch 8: cost=0.106, accuracy=0.091/0.100 (0/14 secs)\n",
      "    Epoch 8: cost=0.104, accuracy=0.090/0.110 (0/14 secs)\n",
      "    Epoch 8: cost=0.103, accuracy=0.089/0.110 (0/14 secs)\n",
      "    Epoch 9: cost=0.138, accuracy=0.107/0.090 (0/14 secs)\n",
      "    Epoch 9: cost=0.098, accuracy=0.099/0.060 (0/14 secs)\n",
      "    Epoch 9: cost=0.106, accuracy=0.101/0.110 (0/14 secs)\n",
      "    Epoch 9: cost=0.106, accuracy=0.100/0.100 (0/14 secs)\n",
      "    Epoch 9: cost=0.108, accuracy=0.096/0.090 (0/14 secs)\n",
      "    Epoch 9: cost=0.113, accuracy=0.095/0.090 (1/15 secs)\n",
      "    Epoch 9: cost=0.114, accuracy=0.095/0.060 (0/15 secs)\n",
      "    Epoch 9: cost=0.111, accuracy=0.095/0.070 (0/15 secs)\n",
      "    Epoch 9: cost=0.109, accuracy=0.096/0.100 (0/15 secs)\n",
      "    Epoch 9: cost=0.110, accuracy=0.096/0.080 (0/15 secs)\n",
      "    Epoch 9: cost=0.107, accuracy=0.093/0.100 (0/15 secs)\n",
      "    Epoch 9: cost=0.109, accuracy=0.094/0.070 (0/15 secs)\n",
      "    Epoch 9: cost=0.106, accuracy=0.093/0.110 (0/15 secs)\n",
      "    Epoch 9: cost=0.104, accuracy=0.094/0.060 (0/15 secs)\n",
      "    Epoch 9: cost=0.103, accuracy=0.093/0.080 (0/15 secs)\n",
      "    Epoch 9: cost=0.105, accuracy=0.093/0.040 (0/15 secs)\n",
      "    Epoch 9: cost=0.104, accuracy=0.093/0.110 (0/15 secs)\n",
      "    Epoch 9: cost=0.105, accuracy=0.092/0.130 (1/16 secs)\n",
      "    Epoch 9: cost=0.103, accuracy=0.092/0.120 (0/16 secs)\n",
      "    Epoch 9: cost=0.102, accuracy=0.092/0.090 (0/16 secs)\n",
      "    Epoch 9: cost=0.105, accuracy=0.091/0.050 (0/16 secs)\n",
      "    Epoch 9: cost=0.108, accuracy=0.090/0.080 (0/16 secs)\n",
      "    Epoch 9: cost=0.110, accuracy=0.090/0.060 (0/16 secs)\n",
      "    Epoch 10: cost=0.098, accuracy=0.080/0.070 (0/16 secs)\n",
      "    Epoch 10: cost=0.100, accuracy=0.088/0.090 (0/16 secs)\n",
      "    Epoch 10: cost=0.095, accuracy=0.089/0.100 (0/16 secs)\n",
      "    Epoch 10: cost=0.104, accuracy=0.090/0.080 (0/16 secs)\n",
      "    Epoch 10: cost=0.098, accuracy=0.087/0.090 (0/16 secs)\n",
      "    Epoch 10: cost=0.097, accuracy=0.087/0.080 (0/16 secs)\n",
      "    Epoch 10: cost=0.097, accuracy=0.087/0.080 (1/17 secs)\n",
      "    Epoch 10: cost=0.096, accuracy=0.088/0.100 (0/17 secs)\n",
      "    Epoch 10: cost=0.095, accuracy=0.089/0.130 (0/17 secs)\n",
      "    Epoch 10: cost=0.099, accuracy=0.091/0.070 (0/17 secs)\n",
      "    Epoch 10: cost=0.098, accuracy=0.090/0.100 (0/17 secs)\n",
      "    Epoch 10: cost=0.100, accuracy=0.090/0.090 (0/17 secs)\n",
      "    Epoch 10: cost=0.100, accuracy=0.089/0.090 (0/17 secs)\n",
      "    Epoch 10: cost=0.101, accuracy=0.089/0.110 (0/17 secs)\n",
      "    Epoch 10: cost=0.102, accuracy=0.090/0.090 (0/17 secs)\n",
      "    Epoch 10: cost=0.104, accuracy=0.089/0.150 (0/17 secs)\n",
      "    Epoch 10: cost=0.112, accuracy=0.089/0.090 (0/17 secs)\n",
      "    Epoch 10: cost=0.113, accuracy=0.090/0.120 (0/17 secs)\n",
      "    Epoch 10: cost=0.116, accuracy=0.089/0.080 (0/17 secs)\n",
      "    Epoch 10: cost=0.114, accuracy=0.091/0.090 (1/18 secs)\n",
      "    Epoch 10: cost=0.113, accuracy=0.090/0.070 (0/18 secs)\n",
      "    Epoch 10: cost=0.111, accuracy=0.090/0.100 (0/18 secs)\n",
      "    Epoch 10: cost=0.111, accuracy=0.089/0.060 (0/18 secs)\n",
      "Model pulsar_model train ended in 18 secs:\n",
      "Model pulsar_model test report: accuracy = 0.102, (0 secs)\n",
      "\n",
      "Model pulsar_model Visualization\n",
      "[138.9, 52.9, -0.1,...] => 추정 펄서(확률 0.50) : 정답 별 => X\n",
      "[145.7, 46.5, -0.4,...] => 추정 펄서(확률 0.50) : 정답 별 => X\n",
      "[192.6, 56.9, -1.9,...] => 추정 펄서(확률 0.50) : 정답 별 => X\n"
     ]
    }
   ],
   "source": [
    "pd = PulsarDataset()\n",
    "pm = Mlp_Torch('pulsar_model', pd, [12,8,6,4])\n",
    "pm.exec_all(epoch_count=EPOCH, report=20,batch_size =BATCH_SIZE \\\n",
    "           , learning_rate = LEARNING_RATE , num_workers = NUM_WORKERS)"
   ]
  },
  {
   "cell_type": "code",
   "execution_count": 16,
   "id": "8390e760",
   "metadata": {},
   "outputs": [
    {
     "data": {
      "text/plain": [
       "True"
      ]
     },
     "execution_count": 16,
     "metadata": {},
     "output_type": "execute_result"
    }
   ],
   "source": [
    "np.greater(0.4, 0)"
   ]
  },
  {
   "cell_type": "code",
   "execution_count": null,
   "id": "f76277a2",
   "metadata": {},
   "outputs": [],
   "source": []
  },
  {
   "cell_type": "code",
   "execution_count": 23,
   "id": "e9a95c31",
   "metadata": {},
   "outputs": [
    {
     "data": {
      "text/plain": [
       "tensor(True)"
      ]
     },
     "execution_count": 23,
     "metadata": {},
     "output_type": "execute_result"
    }
   ],
   "source": [
    "a=torch.greater(torch.tensor(0.6),0)\n",
    "a"
   ]
  },
  {
   "cell_type": "code",
   "execution_count": 24,
   "id": "fcfba4bc",
   "metadata": {},
   "outputs": [
    {
     "data": {
      "text/plain": [
       "True"
      ]
     },
     "execution_count": 24,
     "metadata": {},
     "output_type": "execute_result"
    }
   ],
   "source": [
    "b=torch.equal(torch.tensor(1.0),torch.tensor(1.0))\n",
    "b"
   ]
  },
  {
   "cell_type": "code",
   "execution_count": 25,
   "id": "e42c52de",
   "metadata": {},
   "outputs": [
    {
     "data": {
      "text/plain": [
       "True"
      ]
     },
     "execution_count": 25,
     "metadata": {},
     "output_type": "execute_result"
    }
   ],
   "source": [
    "torch.equal(a, torch.tensor(b))"
   ]
  },
  {
   "cell_type": "code",
   "execution_count": null,
   "id": "d39939a4",
   "metadata": {},
   "outputs": [],
   "source": []
  }
 ],
 "metadata": {
  "kernelspec": {
   "display_name": "Python 3 (ipykernel)",
   "language": "python",
   "name": "python3"
  },
  "language_info": {
   "codemirror_mode": {
    "name": "ipython",
    "version": 3
   },
   "file_extension": ".py",
   "mimetype": "text/x-python",
   "name": "python",
   "nbconvert_exporter": "python",
   "pygments_lexer": "ipython3",
   "version": "3.7.0"
  }
 },
 "nbformat": 4,
 "nbformat_minor": 5
}
