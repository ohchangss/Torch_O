{
 "cells": [
  {
   "cell_type": "code",
   "execution_count": 26,
   "id": "5dc8f938",
   "metadata": {},
   "outputs": [
    {
     "name": "stdout",
     "output_type": "stream",
     "text": [
      "Using device: cpu\n",
      "Using PyTorch version: 1.9.0\n"
     ]
    }
   ],
   "source": [
    "BASE_DIR = '../'*3\n",
    "MLPMODEL = BASE_DIR +'code/MLP/MLP_MODEL/mlp_model.ipynb'\n",
    "PREPRO = BASE_DIR + 'code/UTIL/dataset/pulsar_prepro.ipynb'\n",
    "%run {MLPMODEL}\n",
    "%run {PREPRO}"
   ]
  },
  {
   "cell_type": "code",
   "execution_count": 27,
   "id": "922d6b01",
   "metadata": {},
   "outputs": [],
   "source": [
    "EPOCH = 1\n",
    "BATCH_SIZE=30\n",
    "NUM_WORKERS=0\n",
    "LEARNING_RATE = 0.005"
   ]
  },
  {
   "cell_type": "code",
   "execution_count": 28,
   "id": "396ea9d8",
   "metadata": {
    "scrolled": false
   },
   "outputs": [
    {
     "name": "stdout",
     "output_type": "stream",
     "text": [
      "Model pulsar_model train started \n",
      "\n",
      "\n",
      "레이어는 아래와 같습니다.\n",
      "\n",
      " Net(\n",
      "  (layer1): Sequential(\n",
      "    (0): Linear(in_features=8, out_features=8, bias=True)\n",
      "    (1): ReLU()\n",
      "    (2): Linear(in_features=8, out_features=4, bias=True)\n",
      "    (3): ReLU()\n",
      "    (4): Linear(in_features=4, out_features=1, bias=True)\n",
      "  )\n",
      ")\n",
      "    Epoch 1: cost=0.460, accuracy=0.168/0.320 (0/0 secs)\n"
     ]
    },
    {
     "name": "stderr",
     "output_type": "stream",
     "text": [
      "C:\\Users\\oh\\anaconda3\\envs\\nalcoding\\lib\\site-packages\\ipykernel_launcher.py:12: UserWarning: To copy construct from a tensor, it is recommended to use sourceTensor.clone().detach() or sourceTensor.clone().detach().requires_grad_(True), rather than torch.tensor(sourceTensor).\n",
      "  if sys.path[0] == '':\n",
      "C:\\Users\\oh\\anaconda3\\envs\\nalcoding\\lib\\site-packages\\ipykernel_launcher.py:13: UserWarning: To copy construct from a tensor, it is recommended to use sourceTensor.clone().detach() or sourceTensor.clone().detach().requires_grad_(True), rather than torch.tensor(sourceTensor).\n",
      "  del sys.path[0]\n"
     ]
    },
    {
     "name": "stdout",
     "output_type": "stream",
     "text": [
      "    Epoch 1: cost=0.315, accuracy=0.374/0.850 (0/0 secs)\n",
      "    Epoch 1: cost=0.243, accuracy=0.539/0.590 (0/0 secs)\n",
      "    Epoch 1: cost=0.213, accuracy=0.616/0.890 (0/0 secs)\n",
      "    Epoch 1: cost=0.197, accuracy=0.665/0.580 (1/1 secs)\n",
      "    Epoch 1: cost=0.187, accuracy=0.695/0.940 (0/1 secs)\n",
      "    Epoch 1: cost=0.179, accuracy=0.714/0.940 (0/1 secs)\n",
      "    Epoch 1: cost=0.172, accuracy=0.732/0.660 (0/1 secs)\n",
      "    Epoch 1: cost=0.162, accuracy=0.751/0.910 (0/1 secs)\n",
      "    Epoch 1: cost=0.153, accuracy=0.767/0.900 (1/2 secs)\n",
      "    Epoch 1: cost=0.148, accuracy=0.775/0.970 (0/2 secs)\n",
      "    Epoch 1: cost=0.142, accuracy=0.789/0.960 (0/2 secs)\n",
      "    Epoch 1: cost=0.142, accuracy=0.796/0.940 (0/2 secs)\n",
      "    Epoch 1: cost=0.138, accuracy=0.806/0.910 (0/2 secs)\n",
      "    Epoch 1: cost=0.135, accuracy=0.814/0.770 (0/2 secs)\n",
      "    Epoch 1: cost=0.132, accuracy=0.817/0.950 (0/2 secs)\n",
      "    Epoch 1: cost=0.130, accuracy=0.823/0.870 (1/3 secs)\n",
      "    Epoch 1: cost=0.126, accuracy=0.830/0.980 (0/3 secs)\n",
      "    Epoch 1: cost=0.123, accuracy=0.836/0.940 (0/3 secs)\n",
      "    Epoch 1: cost=0.122, accuracy=0.840/0.790 (0/3 secs)\n",
      "    Epoch 1: cost=0.121, accuracy=0.842/0.940 (0/3 secs)\n",
      "    Epoch 1: cost=0.121, accuracy=0.844/0.640 (0/3 secs)\n",
      "    Epoch 1: cost=0.119, accuracy=0.847/0.900 (1/4 secs)\n",
      "Model pulsar_model train ended in 4 secs:\n",
      "Model pulsar_model test report: accuracy = 0.972, (0 secs)\n",
      "\n",
      "Model pulsar_model Visualization\n",
      "[ 99.2, 49.2,  0.6,...] => 추정 별(확률 0.00) : 정답 별 => O\n",
      "[126.3, 44.4,  0.1,...] => 추정 별(확률 0.00) : 정답 별 => O\n",
      "[112.1, 48.6,  0.1,...] => 추정 별(확률 0.01) : 정답 별 => O\n"
     ]
    }
   ],
   "source": [
    "pd = PulsarDataset()\n",
    "pm = Mlp_Torch('pulsar_model', pd, [8,4])\n",
    "pm.exec_all(epoch_count=EPOCH, report=20, batch_size =BATCH_SIZE \\\n",
    "           , learning_rate = LEARNING_RATE , num_workers = NUM_WORKERS)"
   ]
  },
  {
   "cell_type": "code",
   "execution_count": 29,
   "id": "f76277a2",
   "metadata": {},
   "outputs": [
    {
     "name": "stdout",
     "output_type": "stream",
     "text": [
      "Model pulsar_model Visualization\n",
      "[ 20.9, 43.2,  3.9,...] => 추정 펄서(확률 0.95) : 정답 펄서 => O\n",
      "[118.8, 46.2,  0.4,...] => 추정 별(확률 0.01) : 정답 별 => O\n",
      "[127.2, 52.3, -0.2,...] => 추정 별(확률 0.01) : 정답 별 => O\n",
      "[155.5, 39.4, -0.1,...] => 추정 별(확률 0.00) : 정답 별 => O\n",
      "[123.4, 52.3,  0.1,...] => 추정 별(확률 0.01) : 정답 별 => O\n"
     ]
    }
   ],
   "source": [
    "pm.visualize(5)"
   ]
  },
  {
   "cell_type": "code",
   "execution_count": null,
   "id": "d39939a4",
   "metadata": {},
   "outputs": [],
   "source": []
  }
 ],
 "metadata": {
  "kernelspec": {
   "display_name": "Python 3 (ipykernel)",
   "language": "python",
   "name": "python3"
  },
  "language_info": {
   "codemirror_mode": {
    "name": "ipython",
    "version": 3
   },
   "file_extension": ".py",
   "mimetype": "text/x-python",
   "name": "python",
   "nbconvert_exporter": "python",
   "pygments_lexer": "ipython3",
   "version": "3.7.0"
  }
 },
 "nbformat": 4,
 "nbformat_minor": 5
}
