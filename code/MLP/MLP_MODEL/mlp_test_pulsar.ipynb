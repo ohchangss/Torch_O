{
 "cells": [
  {
   "cell_type": "code",
   "execution_count": 1,
   "id": "5dc8f938",
   "metadata": {},
   "outputs": [
    {
     "name": "stdout",
     "output_type": "stream",
     "text": [
      "Using device: cpu\n",
      "Using PyTorch version: 1.9.0\n"
     ]
    }
   ],
   "source": [
    "BASE_DIR = '../'*3\n",
    "MLPMODEL = BASE_DIR +'code/MLP/MLP_MODEL/mlp_model.ipynb'\n",
    "PREPRO = BASE_DIR + 'code/UTIL/dataset/pulsar_prepro.ipynb'\n",
    "%run {MLPMODEL}\n",
    "%run {PREPRO}"
   ]
  },
  {
   "cell_type": "code",
   "execution_count": 2,
   "id": "922d6b01",
   "metadata": {},
   "outputs": [],
   "source": [
    "EPOCH = 1\n",
    "BATCH_SIZE=30\n",
    "NUM_WORKERS=0\n",
    "LEARNING_RATE = 0.005"
   ]
  },
  {
   "cell_type": "code",
   "execution_count": 3,
   "id": "396ea9d8",
   "metadata": {
    "scrolled": false
   },
   "outputs": [
    {
     "name": "stdout",
     "output_type": "stream",
     "text": [
      "Model pulsar_model train started \n",
      "\n",
      "\n",
      "!!!!!!!!!!!\n",
      "!! Layer !! .\n",
      "!!!!!!!!!!! \n",
      "\n",
      " Net(\n",
      "  (layer1): Sequential(\n",
      "    (0): Linear(in_features=8, out_features=8, bias=True)\n",
      "    (1): ReLU()\n",
      "    (2): Linear(in_features=8, out_features=4, bias=True)\n",
      "    (3): ReLU()\n",
      "    (4): Flatten(start_dim=1, end_dim=-1)\n",
      "    (5): Linear(in_features=4, out_features=1, bias=True)\n",
      "  )\n",
      ")\n",
      "\n",
      "!!!!!!!!!!!!!!!\n",
      "!! optimizer !! \n",
      "!!!!!!!!!!!!!!! \n",
      "\n",
      " Adam (\n",
      "Parameter Group 0\n",
      "    amsgrad: False\n",
      "    betas: (0.9, 0.999)\n",
      "    eps: 1e-08\n",
      "    lr: 0.005\n",
      "    weight_decay: 0\n",
      ")\n"
     ]
    },
    {
     "name": "stderr",
     "output_type": "stream",
     "text": [
      "C:\\Users\\oh\\anaconda3\\envs\\nalcoding\\lib\\site-packages\\ipykernel_launcher.py:12: UserWarning: To copy construct from a tensor, it is recommended to use sourceTensor.clone().detach() or sourceTensor.clone().detach().requires_grad_(True), rather than torch.tensor(sourceTensor).\n",
      "  if sys.path[0] == '':\n",
      "C:\\Users\\oh\\anaconda3\\envs\\nalcoding\\lib\\site-packages\\ipykernel_launcher.py:13: UserWarning: To copy construct from a tensor, it is recommended to use sourceTensor.clone().detach() or sourceTensor.clone().detach().requires_grad_(True), rather than torch.tensor(sourceTensor).\n",
      "  del sys.path[0]\n"
     ]
    },
    {
     "name": "stdout",
     "output_type": "stream",
     "text": [
      "    Epoch 1: cost=0.276, accuracy=0.638/0.790 (0/0 secs)\n",
      "    Epoch 1: cost=0.239, accuracy=0.709/0.780 (0/0 secs)\n",
      "    Epoch 1: cost=0.237, accuracy=0.738/0.820 (1/1 secs)\n",
      "    Epoch 1: cost=0.212, accuracy=0.758/0.870 (0/1 secs)\n",
      "    Epoch 1: cost=0.195, accuracy=0.781/0.850 (0/1 secs)\n",
      "    Epoch 1: cost=0.186, accuracy=0.799/0.860 (0/1 secs)\n",
      "    Epoch 1: cost=0.186, accuracy=0.804/0.900 (0/1 secs)\n",
      "    Epoch 1: cost=0.183, accuracy=0.806/0.870 (0/1 secs)\n",
      "    Epoch 1: cost=0.180, accuracy=0.814/0.880 (1/2 secs)\n",
      "    Epoch 1: cost=0.174, accuracy=0.821/0.870 (0/2 secs)\n",
      "    Epoch 1: cost=0.173, accuracy=0.820/0.960 (0/2 secs)\n",
      "    Epoch 1: cost=0.168, accuracy=0.829/0.840 (0/2 secs)\n",
      "    Epoch 1: cost=0.166, accuracy=0.830/0.760 (0/2 secs)\n",
      "    Epoch 1: cost=0.165, accuracy=0.829/0.860 (1/3 secs)\n",
      "    Epoch 1: cost=0.162, accuracy=0.835/0.780 (0/3 secs)\n",
      "    Epoch 1: cost=0.159, accuracy=0.838/0.910 (0/3 secs)\n",
      "    Epoch 1: cost=0.156, accuracy=0.840/0.910 (0/3 secs)\n",
      "    Epoch 1: cost=0.154, accuracy=0.844/0.760 (1/4 secs)\n",
      "    Epoch 1: cost=0.152, accuracy=0.846/0.960 (0/4 secs)\n",
      "    Epoch 1: cost=0.151, accuracy=0.847/0.840 (0/4 secs)\n",
      "    Epoch 1: cost=0.148, accuracy=0.853/0.950 (0/4 secs)\n",
      "    Epoch 1: cost=0.145, accuracy=0.857/0.850 (0/4 secs)\n",
      "    Epoch 1: cost=0.144, accuracy=0.857/0.920 (0/4 secs)\n",
      "Model pulsar_model train ended in 5 secs:\n",
      "<bound method Module.parameters of Net(\n",
      "  (layer1): Sequential(\n",
      "    (0): Linear(in_features=8, out_features=8, bias=True)\n",
      "    (1): ReLU()\n",
      "    (2): Linear(in_features=8, out_features=4, bias=True)\n",
      "    (3): ReLU()\n",
      "    (4): Flatten(start_dim=1, end_dim=-1)\n",
      "    (5): Linear(in_features=4, out_features=1, bias=True)\n",
      "  )\n",
      ")>\n",
      "Model pulsar_model test report: accuracy = 0.957, (0 secs)\n",
      "\n",
      "Model pulsar_model Visualization\n",
      "[ 97.0, 47.2,  0.6,...] => 추정 별(확률 0.03) : 정답 별 => O\n",
      "[106.9, 46.0,  0.5,...] => 추정 별(확률 0.01) : 정답 별 => O\n",
      "[131.0, 49.8, -0.0,...] => 추정 별(확률 0.00) : 정답 별 => O\n"
     ]
    }
   ],
   "source": [
    "pd = PulsarDataset()\n",
    "pm = Mlp_Torch('pulsar_model', pd, [8,4])\n",
    "pm.exec_all(epoch_count=EPOCH, report=20, batch_size =BATCH_SIZE \\\n",
    "           , learning_rate = LEARNING_RATE , num_workers = NUM_WORKERS)"
   ]
  },
  {
   "cell_type": "code",
   "execution_count": 29,
   "id": "f76277a2",
   "metadata": {},
   "outputs": [
    {
     "name": "stdout",
     "output_type": "stream",
     "text": [
      "Model pulsar_model Visualization\n",
      "[ 20.9, 43.2,  3.9,...] => 추정 펄서(확률 0.95) : 정답 펄서 => O\n",
      "[118.8, 46.2,  0.4,...] => 추정 별(확률 0.01) : 정답 별 => O\n",
      "[127.2, 52.3, -0.2,...] => 추정 별(확률 0.01) : 정답 별 => O\n",
      "[155.5, 39.4, -0.1,...] => 추정 별(확률 0.00) : 정답 별 => O\n",
      "[123.4, 52.3,  0.1,...] => 추정 별(확률 0.01) : 정답 별 => O\n"
     ]
    }
   ],
   "source": [
    "pm.visualize(5)"
   ]
  },
  {
   "cell_type": "code",
   "execution_count": null,
   "id": "d39939a4",
   "metadata": {},
   "outputs": [],
   "source": []
  }
 ],
 "metadata": {
  "kernelspec": {
   "display_name": "Python 3 (ipykernel)",
   "language": "python",
   "name": "python3"
  },
  "language_info": {
   "codemirror_mode": {
    "name": "ipython",
    "version": 3
   },
   "file_extension": ".py",
   "mimetype": "text/x-python",
   "name": "python",
   "nbconvert_exporter": "python",
   "pygments_lexer": "ipython3",
   "version": "3.7.0"
  }
 },
 "nbformat": 4,
 "nbformat_minor": 5
}
