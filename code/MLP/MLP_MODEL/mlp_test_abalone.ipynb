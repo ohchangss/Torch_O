{
 "cells": [
  {
   "cell_type": "code",
   "execution_count": 8,
   "id": "b1dee844",
   "metadata": {},
   "outputs": [
    {
     "name": "stdout",
     "output_type": "stream",
     "text": [
      "Using device: cpu\n",
      "Using PyTorch version: 1.9.0\n"
     ]
    }
   ],
   "source": [
    "BASE_DIR = '../'*3\n",
    "MLPMODEL = BASE_DIR +'code/MLP/MLP_MODEL/mlp_model.ipynb'\n",
    "PREPRO = BASE_DIR + 'code/UTIL/dataset/abalone_prepro.ipynb'\n",
    "%run {MLPMODEL}\n",
    "%run {PREPRO}"
   ]
  },
  {
   "cell_type": "code",
   "execution_count": 9,
   "id": "bc052174",
   "metadata": {},
   "outputs": [],
   "source": [
    "EPOCH = 5\n",
    "BATCH_SIZE=30\n",
    "NUM_WORKERS=0\n",
    "LEARNING_RATE = 0.01"
   ]
  },
  {
   "cell_type": "code",
   "execution_count": 10,
   "id": "8f547cee",
   "metadata": {
    "scrolled": false
   },
   "outputs": [
    {
     "name": "stdout",
     "output_type": "stream",
     "text": [
      "abalone(regression, 3340+420+417) \n",
      "\n",
      "Model abalone_model train started \n",
      "\n",
      "\n",
      "!!!!!!!!!!!\n",
      "!! Layer !! .\n",
      "!!!!!!!!!!! \n",
      "\n",
      " Net(\n",
      "  (layer1): Sequential(\n",
      "    (0): Linear(in_features=10, out_features=10, bias=True)\n",
      "    (1): ReLU()\n",
      "    (2): Linear(in_features=10, out_features=10, bias=True)\n",
      "    (3): ReLU()\n",
      "    (4): Linear(in_features=10, out_features=1, bias=True)\n",
      "  )\n",
      ")\n",
      "\n",
      "!!!!!!!!!!!!!!!\n",
      "!! optimizer !! \n",
      "!!!!!!!!!!!!!!! \n",
      "\n",
      " Adam (\n",
      "Parameter Group 0\n",
      "    amsgrad: False\n",
      "    betas: (0.9, 0.999)\n",
      "    eps: 1e-08\n",
      "    lr: 0.01\n",
      "    weight_decay: 0\n",
      ")\n",
      "    Epoch 1: cost=96.506, accuracy=0.008/0.058 (0/0 secs)\n",
      "    Epoch 1: cost=74.331, accuracy=0.147/0.593 (1/1 secs)\n",
      "    Epoch 1: cost=53.082, accuracy=0.324/0.688 (0/1 secs)\n",
      "    Epoch 1: cost=41.894, accuracy=0.423/0.759 (0/1 secs)\n",
      "    Epoch 1: cost=34.915, accuracy=0.486/0.657 (1/2 secs)\n",
      "    Epoch 2: cost=7.013, accuracy=0.737/0.820 (0/2 secs)\n",
      "    Epoch 2: cost=6.821, accuracy=0.741/0.759 (0/2 secs)\n",
      "    Epoch 2: cost=7.045, accuracy=0.738/0.714 (0/2 secs)\n",
      "    Epoch 2: cost=7.073, accuracy=0.739/0.791 (0/2 secs)\n",
      "    Epoch 2: cost=6.948, accuracy=0.741/0.773 (1/3 secs)\n",
      "    Epoch 3: cost=6.580, accuracy=0.745/0.837 (0/3 secs)\n",
      "    Epoch 3: cost=6.440, accuracy=0.748/0.678 (0/3 secs)\n",
      "    Epoch 3: cost=6.673, accuracy=0.745/0.755 (1/4 secs)\n",
      "    Epoch 3: cost=6.701, accuracy=0.746/0.756 (0/4 secs)\n",
      "    Epoch 3: cost=6.612, accuracy=0.748/0.625 (0/4 secs)\n",
      "    Epoch 4: cost=6.335, accuracy=0.750/0.704 (0/4 secs)\n",
      "    Epoch 4: cost=6.222, accuracy=0.753/0.797 (1/5 secs)\n",
      "    Epoch 4: cost=6.446, accuracy=0.750/0.733 (0/5 secs)\n",
      "    Epoch 4: cost=6.462, accuracy=0.750/0.718 (0/5 secs)\n",
      "    Epoch 4: cost=6.387, accuracy=0.752/0.676 (0/5 secs)\n",
      "    Epoch 5: cost=6.149, accuracy=0.754/0.722 (1/6 secs)\n",
      "    Epoch 5: cost=6.039, accuracy=0.756/0.711 (0/6 secs)\n",
      "    Epoch 5: cost=6.246, accuracy=0.754/0.766 (0/6 secs)\n",
      "    Epoch 5: cost=6.247, accuracy=0.755/0.716 (0/6 secs)\n",
      "    Epoch 5: cost=6.176, accuracy=0.757/0.782 (0/6 secs)\n",
      "Model abalone_model train ended in 7 secs:\n",
      "Model abalone_model test report: accuracy = 0.741, (0 secs)\n",
      "\n",
      "Model abalone_model Visualization\n",
      "[0.00,1.00,0.00,0.65,0.55,0.16,1.24,0.49,0.30,0.48] => 추정 12.6 : 정답 15.0\n",
      "[0.00,0.00,1.00,0.50,0.41,0.16,0.68,0.27,0.14,0.22] => 추정 10.7 : 정답 10.0\n",
      "[1.00,0.00,0.00,0.33,0.25,0.10,0.17,0.07,0.04,0.06] => 추정  7.3 : 정답  7.0\n"
     ]
    }
   ],
   "source": [
    "ad = AbaloneDataset()\n",
    "print(ad,'\\n')\n",
    "am = Mlp_Torch('abalone_model', ad, [10,10])\n",
    "am.exec_all(epoch_count=EPOCH, report=20,batch_size =BATCH_SIZE \\\n",
    "           , learning_rate = LEARNING_RATE , num_workers = NUM_WORKERS)"
   ]
  },
  {
   "cell_type": "code",
   "execution_count": 40,
   "id": "113e6d1a",
   "metadata": {},
   "outputs": [
    {
     "name": "stdout",
     "output_type": "stream",
     "text": [
      "torch.Size([10, 10])\n",
      "torch.Size([10])\n",
      "torch.Size([10, 10])\n",
      "torch.Size([10])\n",
      "torch.Size([1, 10])\n",
      "torch.Size([1])\n"
     ]
    }
   ],
   "source": [
    "# list(net.parameters())\n",
    "for i in list(am.model.parameters()):\n",
    "    print(i.shape)\n",
    "#     break"
   ]
  },
  {
   "cell_type": "code",
   "execution_count": 41,
   "id": "841d93d0",
   "metadata": {},
   "outputs": [],
   "source": [
    "from torchsummary import summary"
   ]
  },
  {
   "cell_type": "code",
   "execution_count": 54,
   "id": "6c768fd9",
   "metadata": {},
   "outputs": [
    {
     "ename": "SyntaxError",
     "evalue": "invalid syntax (CreatorTemp/ipykernel_32324/4233203404.py, line 1)",
     "output_type": "error",
     "traceback": [
      "\u001b[1;36m  File \u001b[1;32m\"C:\\Users\\Public\\Documents\\ESTsoft\\CreatorTemp/ipykernel_32324/4233203404.py\"\u001b[1;36m, line \u001b[1;32m1\u001b[0m\n\u001b[1;33m    summary(am.model,(,10))\u001b[0m\n\u001b[1;37m                      ^\u001b[0m\n\u001b[1;31mSyntaxError\u001b[0m\u001b[1;31m:\u001b[0m invalid syntax\n"
     ]
    }
   ],
   "source": [
    "summary(am.model,(,10))"
   ]
  },
  {
   "cell_type": "code",
   "execution_count": null,
   "id": "84c9bc9e",
   "metadata": {},
   "outputs": [],
   "source": []
  }
 ],
 "metadata": {
  "kernelspec": {
   "display_name": "Python 3 (ipykernel)",
   "language": "python",
   "name": "python3"
  },
  "language_info": {
   "codemirror_mode": {
    "name": "ipython",
    "version": 3
   },
   "file_extension": ".py",
   "mimetype": "text/x-python",
   "name": "python",
   "nbconvert_exporter": "python",
   "pygments_lexer": "ipython3",
   "version": "3.7.0"
  }
 },
 "nbformat": 4,
 "nbformat_minor": 5
}
