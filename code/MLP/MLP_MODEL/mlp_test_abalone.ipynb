{
 "cells": [
  {
   "cell_type": "code",
   "execution_count": 10,
   "id": "b1dee844",
   "metadata": {},
   "outputs": [
    {
     "name": "stdout",
     "output_type": "stream",
     "text": [
      "Using device: cpu\n",
      "Using PyTorch version: 1.9.0\n"
     ]
    }
   ],
   "source": [
    "BASE_DIR = '../'*3\n",
    "MLPMODEL = BASE_DIR +'code/MLP/MLP_MODEL/mlp_model.ipynb'\n",
    "PREPRO = BASE_DIR + 'code/UTIL/dataset/abalone_prepro.ipynb'\n",
    "%run {MLPMODEL}\n",
    "%run {PREPRO}"
   ]
  },
  {
   "cell_type": "code",
   "execution_count": 13,
   "id": "bc052174",
   "metadata": {},
   "outputs": [],
   "source": [
    "EPOCH = 5\n",
    "BATCH_SIZE=30\n",
    "NUM_WORKERS=0\n",
    "LEARNING_RATE = 0.01"
   ]
  },
  {
   "cell_type": "code",
   "execution_count": 12,
   "id": "8f547cee",
   "metadata": {
    "scrolled": false
   },
   "outputs": [
    {
     "name": "stdout",
     "output_type": "stream",
     "text": [
      "abalone(regression, 3340+629+208) \n",
      "\n",
      "Model abalone_model train started \n",
      "\n",
      "\n",
      "!!!!!!!!!!!\n",
      "!! Layer !! .\n",
      "!!!!!!!!!!! \n",
      "\n",
      " Net(\n",
      "  (layer1): Sequential(\n",
      "    (0): Linear(in_features=10, out_features=10, bias=True)\n",
      "    (1): ReLU()\n",
      "    (2): Linear(in_features=10, out_features=10, bias=True)\n",
      "    (3): ReLU()\n",
      "    (4): Flatten(start_dim=1, end_dim=-1)\n",
      "    (5): Linear(in_features=10, out_features=1, bias=True)\n",
      "  )\n",
      ")\n",
      "\n",
      "!!!!!!!!!!!!!!!\n",
      "!! optimizer !! \n",
      "!!!!!!!!!!!!!!! \n",
      "\n",
      " Adam (\n",
      "Parameter Group 0\n",
      "    amsgrad: False\n",
      "    betas: (0.9, 0.999)\n",
      "    eps: 1e-08\n",
      "    lr: 0.01\n",
      "    weight_decay: 0\n",
      ")\n",
      "    Epoch 1: cost=98.535, accuracy=0.003/0.092 (0/0 secs)\n",
      "    Epoch 1: cost=68.999, accuracy=0.209/0.675 (0/0 secs)\n",
      "    Epoch 1: cost=49.330, accuracy=0.370/0.762 (0/0 secs)\n",
      "    Epoch 1: cost=38.878, accuracy=0.460/0.740 (0/0 secs)\n",
      "    Epoch 1: cost=32.625, accuracy=0.514/0.733 (1/1 secs)\n",
      "    Epoch 2: cost=7.258, accuracy=0.737/0.735 (0/1 secs)\n",
      "    Epoch 2: cost=7.250, accuracy=0.736/0.736 (0/1 secs)\n",
      "    Epoch 2: cost=7.172, accuracy=0.736/0.755 (0/1 secs)\n",
      "    Epoch 2: cost=7.112, accuracy=0.738/0.742 (1/2 secs)\n",
      "    Epoch 2: cost=7.016, accuracy=0.740/0.742 (0/2 secs)\n",
      "    Epoch 3: cost=6.952, accuracy=0.742/0.741 (0/2 secs)\n",
      "    Epoch 3: cost=7.131, accuracy=0.739/0.773 (1/3 secs)\n",
      "    Epoch 3: cost=7.408, accuracy=0.732/0.757 (0/3 secs)\n",
      "    Epoch 3: cost=7.062, accuracy=0.739/0.727 (0/3 secs)\n",
      "    Epoch 3: cost=6.842, accuracy=0.742/0.739 (0/3 secs)\n",
      "    Epoch 4: cost=6.118, accuracy=0.757/0.762 (1/4 secs)\n",
      "    Epoch 4: cost=6.765, accuracy=0.747/0.737 (0/4 secs)\n",
      "    Epoch 4: cost=6.744, accuracy=0.747/0.749 (0/4 secs)\n",
      "    Epoch 4: cost=6.528, accuracy=0.749/0.741 (0/4 secs)\n",
      "    Epoch 4: cost=6.299, accuracy=0.753/0.780 (0/4 secs)\n",
      "    Epoch 5: cost=5.686, accuracy=0.765/0.747 (1/5 secs)\n",
      "    Epoch 5: cost=5.853, accuracy=0.761/0.741 (0/5 secs)\n",
      "    Epoch 5: cost=5.949, accuracy=0.760/0.786 (0/5 secs)\n",
      "    Epoch 5: cost=5.894, accuracy=0.761/0.764 (0/5 secs)\n",
      "    Epoch 5: cost=5.981, accuracy=0.760/0.736 (0/5 secs)\n",
      "    Epoch 6: cost=6.442, accuracy=0.756/0.760 (1/6 secs)\n",
      "    Epoch 6: cost=5.528, accuracy=0.769/0.732 (0/6 secs)\n",
      "    Epoch 6: cost=5.197, accuracy=0.774/0.788 (1/7 secs)\n",
      "    Epoch 6: cost=5.247, accuracy=0.773/0.756 (0/7 secs)\n",
      "    Epoch 6: cost=5.531, accuracy=0.768/0.763 (1/8 secs)\n",
      "    Epoch 7: cost=5.471, accuracy=0.774/0.767 (0/8 secs)\n",
      "    Epoch 7: cost=5.874, accuracy=0.765/0.765 (0/8 secs)\n",
      "    Epoch 7: cost=5.511, accuracy=0.771/0.759 (0/8 secs)\n",
      "    Epoch 7: cost=5.393, accuracy=0.773/0.772 (0/8 secs)\n",
      "    Epoch 7: cost=5.436, accuracy=0.772/0.779 (1/9 secs)\n",
      "    Epoch 8: cost=5.319, accuracy=0.773/0.761 (0/9 secs)\n",
      "    Epoch 8: cost=5.493, accuracy=0.772/0.764 (0/9 secs)\n",
      "    Epoch 8: cost=5.450, accuracy=0.772/0.779 (0/9 secs)\n",
      "    Epoch 8: cost=5.242, accuracy=0.776/0.761 (0/9 secs)\n",
      "    Epoch 8: cost=5.212, accuracy=0.776/0.774 (1/10 secs)\n",
      "    Epoch 9: cost=4.564, accuracy=0.789/0.762 (0/10 secs)\n",
      "    Epoch 9: cost=5.023, accuracy=0.780/0.773 (0/10 secs)\n",
      "    Epoch 9: cost=5.056, accuracy=0.779/0.763 (0/10 secs)\n",
      "    Epoch 9: cost=5.312, accuracy=0.775/0.772 (0/10 secs)\n",
      "    Epoch 9: cost=5.122, accuracy=0.779/0.772 (0/10 secs)\n",
      "    Epoch 10: cost=4.541, accuracy=0.787/0.782 (1/11 secs)\n",
      "    Epoch 10: cost=4.772, accuracy=0.782/0.783 (0/11 secs)\n",
      "    Epoch 10: cost=4.887, accuracy=0.779/0.765 (0/11 secs)\n",
      "    Epoch 10: cost=4.930, accuracy=0.780/0.779 (0/11 secs)\n",
      "    Epoch 10: cost=4.963, accuracy=0.781/0.786 (1/12 secs)\n",
      "Model abalone_model train ended in 12 secs:\n",
      "<bound method Module.parameters of Net(\n",
      "  (layer1): Sequential(\n",
      "    (0): Linear(in_features=10, out_features=10, bias=True)\n",
      "    (1): ReLU()\n",
      "    (2): Linear(in_features=10, out_features=10, bias=True)\n",
      "    (3): ReLU()\n",
      "    (4): Flatten(start_dim=1, end_dim=-1)\n",
      "    (5): Linear(in_features=10, out_features=1, bias=True)\n",
      "  )\n",
      ")>\n",
      "Model abalone_model test report: accuracy = 0.778, (0 secs)\n",
      "\n",
      "Model abalone_model Visualization\n",
      "[0.00,0.00,1.00,0.65,0.50,0.17,1.14,0.49,0.22,0.37] => 추정 12.7 : 정답 12.0\n",
      "[1.00,0.00,0.00,0.38,0.28,0.09,0.23,0.10,0.04,0.08] => 추정  7.6 : 정답  7.0\n",
      "[0.00,1.00,0.00,0.48,0.38,0.14,0.53,0.20,0.14,0.16] => 추정 10.9 : 정답 14.0\n"
     ]
    }
   ],
   "source": [
    "ad = AbaloneDataset()\n",
    "print(ad,'\\n')\n",
    "am = Mlp_Torch('abalone_model', ad, [10,10])\n",
    "am.exec_all(epoch_count=EPOCH, report=20,batch_size =BATCH_SIZE \\\n",
    "           , learning_rate = LEARNING_RATE , num_workers = NUM_WORKERS)"
   ]
  },
  {
   "cell_type": "code",
   "execution_count": 40,
   "id": "113e6d1a",
   "metadata": {},
   "outputs": [
    {
     "name": "stdout",
     "output_type": "stream",
     "text": [
      "torch.Size([10, 10])\n",
      "torch.Size([10])\n",
      "torch.Size([10, 10])\n",
      "torch.Size([10])\n",
      "torch.Size([1, 10])\n",
      "torch.Size([1])\n"
     ]
    }
   ],
   "source": [
    "# list(net.parameters())\n",
    "for i in list(am.model.parameters()):\n",
    "    print(i.shape)\n",
    "#     break"
   ]
  },
  {
   "cell_type": "code",
   "execution_count": 41,
   "id": "841d93d0",
   "metadata": {},
   "outputs": [],
   "source": [
    "from torchsummary import summary"
   ]
  },
  {
   "cell_type": "code",
   "execution_count": 54,
   "id": "6c768fd9",
   "metadata": {},
   "outputs": [
    {
     "ename": "SyntaxError",
     "evalue": "invalid syntax (CreatorTemp/ipykernel_32324/4233203404.py, line 1)",
     "output_type": "error",
     "traceback": [
      "\u001b[1;36m  File \u001b[1;32m\"C:\\Users\\Public\\Documents\\ESTsoft\\CreatorTemp/ipykernel_32324/4233203404.py\"\u001b[1;36m, line \u001b[1;32m1\u001b[0m\n\u001b[1;33m    summary(am.model,(,10))\u001b[0m\n\u001b[1;37m                      ^\u001b[0m\n\u001b[1;31mSyntaxError\u001b[0m\u001b[1;31m:\u001b[0m invalid syntax\n"
     ]
    }
   ],
   "source": [
    "summary(am.model,(,10))"
   ]
  },
  {
   "cell_type": "code",
   "execution_count": null,
   "id": "84c9bc9e",
   "metadata": {},
   "outputs": [],
   "source": []
  }
 ],
 "metadata": {
  "kernelspec": {
   "display_name": "Python 3 (ipykernel)",
   "language": "python",
   "name": "python3"
  },
  "language_info": {
   "codemirror_mode": {
    "name": "ipython",
    "version": 3
   },
   "file_extension": ".py",
   "mimetype": "text/x-python",
   "name": "python",
   "nbconvert_exporter": "python",
   "pygments_lexer": "ipython3",
   "version": "3.7.0"
  }
 },
 "nbformat": 4,
 "nbformat_minor": 5
}
