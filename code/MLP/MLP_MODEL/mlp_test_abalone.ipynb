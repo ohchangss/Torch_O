{
 "cells": [
  {
   "cell_type": "code",
   "execution_count": 61,
   "id": "b1dee844",
   "metadata": {},
   "outputs": [
    {
     "name": "stdout",
     "output_type": "stream",
     "text": [
      "Using device: cpu\n",
      "Using PyTorch version: 1.9.0\n"
     ]
    }
   ],
   "source": [
    "BASE_DIR = '../'*3\n",
    "MLPMODEL = BASE_DIR +'code/MLP/MLP_MODEL/mlp_model.ipynb'\n",
    "PREPRO = BASE_DIR + 'code/UTIL/dataset/abalone_prepro.ipynb'\n",
    "%run {MLPMODEL}\n",
    "%run {PREPRO}"
   ]
  },
  {
   "cell_type": "code",
   "execution_count": 62,
   "id": "bc052174",
   "metadata": {},
   "outputs": [],
   "source": [
    "EPOCH = 10\n",
    "BATCH_SIZE=30\n",
    "NUM_WORKERS=0\n",
    "LEARNING_RATE = 0.001"
   ]
  },
  {
   "cell_type": "code",
   "execution_count": 63,
   "id": "8f547cee",
   "metadata": {
    "scrolled": false
   },
   "outputs": [
    {
     "name": "stdout",
     "output_type": "stream",
     "text": [
      "abalone(regression, 3340+629+208) \n",
      "\n",
      "Model abalone_model train started \n",
      "\n",
      "\n",
      "레이어는 아래와 같습니다.\n",
      "\n",
      " Net(\n",
      "  (layer1): Sequential(\n",
      "    (0): Linear(in_features=10, out_features=10, bias=True)\n",
      "    (1): ReLU()\n",
      "    (2): Linear(in_features=10, out_features=10, bias=True)\n",
      "    (3): ReLU()\n",
      "    (4): Linear(in_features=10, out_features=1, bias=True)\n",
      "  )\n",
      ")\n",
      "    Epoch 1: cost=105.385, accuracy=-0.014/-0.010 (0/0 secs)\n",
      "    Epoch 1: cost=101.512, accuracy=-0.007/0.021 (1/1 secs)\n",
      "    Epoch 1: cost=101.441, accuracy=-0.001/0.030 (0/1 secs)\n",
      "    Epoch 1: cost=99.007, accuracy=0.005/0.036 (0/1 secs)\n",
      "    Epoch 1: cost=97.199, accuracy=0.014/0.071 (0/1 secs)\n",
      "    Epoch 2: cost=77.386, accuracy=0.125/0.182 (0/1 secs)\n",
      "    Epoch 2: cost=70.295, accuracy=0.167/0.277 (0/1 secs)\n",
      "    Epoch 2: cost=61.350, accuracy=0.223/0.399 (0/1 secs)\n",
      "    Epoch 2: cost=53.715, accuracy=0.280/0.529 (0/1 secs)\n",
      "    Epoch 2: cost=47.015, accuracy=0.334/0.609 (0/1 secs)\n",
      "    Epoch 3: cost=8.956, accuracy=0.699/0.705 (0/1 secs)\n",
      "    Epoch 3: cost=8.173, accuracy=0.713/0.742 (0/1 secs)\n",
      "    Epoch 3: cost=8.111, accuracy=0.717/0.730 (0/1 secs)\n",
      "    Epoch 3: cost=7.988, accuracy=0.721/0.723 (0/1 secs)\n",
      "    Epoch 3: cost=7.838, accuracy=0.723/0.755 (0/1 secs)\n",
      "    Epoch 4: cost=6.884, accuracy=0.738/0.715 (0/1 secs)\n",
      "    Epoch 4: cost=7.022, accuracy=0.736/0.732 (0/1 secs)\n",
      "    Epoch 4: cost=7.181, accuracy=0.735/0.758 (0/1 secs)\n",
      "    Epoch 4: cost=7.260, accuracy=0.733/0.761 (1/2 secs)\n",
      "    Epoch 4: cost=7.150, accuracy=0.736/0.777 (0/2 secs)\n",
      "    Epoch 5: cost=7.178, accuracy=0.735/0.762 (0/2 secs)\n",
      "    Epoch 5: cost=7.020, accuracy=0.738/0.740 (0/2 secs)\n",
      "    Epoch 5: cost=7.532, accuracy=0.731/0.734 (0/2 secs)\n",
      "    Epoch 5: cost=7.315, accuracy=0.734/0.729 (0/2 secs)\n",
      "    Epoch 5: cost=7.280, accuracy=0.735/0.725 (0/2 secs)\n",
      "    Epoch 6: cost=7.404, accuracy=0.732/0.782 (0/2 secs)\n",
      "    Epoch 6: cost=7.350, accuracy=0.735/0.748 (0/2 secs)\n",
      "    Epoch 6: cost=7.128, accuracy=0.739/0.762 (0/2 secs)\n",
      "    Epoch 6: cost=6.963, accuracy=0.741/0.750 (0/2 secs)\n",
      "    Epoch 6: cost=7.064, accuracy=0.739/0.726 (0/2 secs)\n",
      "    Epoch 7: cost=6.686, accuracy=0.738/0.736 (0/2 secs)\n",
      "    Epoch 7: cost=6.623, accuracy=0.741/0.757 (0/2 secs)\n",
      "    Epoch 7: cost=7.107, accuracy=0.737/0.759 (0/2 secs)\n",
      "    Epoch 7: cost=7.062, accuracy=0.738/0.756 (0/2 secs)\n",
      "    Epoch 7: cost=7.176, accuracy=0.737/0.740 (0/2 secs)\n",
      "    Epoch 8: cost=6.633, accuracy=0.743/0.755 (1/3 secs)\n",
      "    Epoch 8: cost=6.762, accuracy=0.744/0.727 (0/3 secs)\n",
      "    Epoch 8: cost=6.680, accuracy=0.747/0.741 (0/3 secs)\n",
      "    Epoch 8: cost=6.605, accuracy=0.748/0.767 (0/3 secs)\n",
      "    Epoch 8: cost=6.739, accuracy=0.746/0.739 (0/3 secs)\n",
      "    Epoch 9: cost=5.781, accuracy=0.761/0.735 (0/3 secs)\n",
      "    Epoch 9: cost=6.712, accuracy=0.742/0.739 (0/3 secs)\n",
      "    Epoch 9: cost=6.714, accuracy=0.742/0.746 (0/3 secs)\n",
      "    Epoch 9: cost=6.854, accuracy=0.741/0.758 (0/3 secs)\n",
      "    Epoch 9: cost=6.850, accuracy=0.741/0.737 (0/3 secs)\n",
      "    Epoch 10: cost=6.569, accuracy=0.749/0.733 (0/3 secs)\n",
      "    Epoch 10: cost=7.070, accuracy=0.741/0.748 (0/3 secs)\n",
      "    Epoch 10: cost=7.110, accuracy=0.741/0.771 (0/3 secs)\n",
      "    Epoch 10: cost=7.040, accuracy=0.741/0.772 (0/3 secs)\n",
      "    Epoch 10: cost=6.704, accuracy=0.745/0.744 (0/3 secs)\n",
      "Model abalone_model train ended in 3 secs:\n",
      "Model abalone_model test report: accuracy = 0.724, (0 secs)\n",
      "\n",
      "Model abalone_model Visualization\n",
      "[1.00,0.00,0.00,0.31,0.23,0.09,0.13,0.05,0.03,0.04] => 추정  6.5 : 정답  6.0\n",
      "[0.00,1.00,0.00,0.43,0.34,0.12,0.39,0.15,0.09,0.12] => 추정  8.7 : 정답 10.0\n",
      "[0.00,0.00,1.00,0.50,0.37,0.12,0.59,0.28,0.11,0.14] => 추정  9.5 : 정답  7.0\n"
     ]
    }
   ],
   "source": [
    "ad = AbaloneDataset()\n",
    "print(ad,'\\n')\n",
    "am = Mlp_Torch('abalone_model', ad, [10,10])\n",
    "am.exec_all(epoch_count=EPOCH, report=20,batch_size =BATCH_SIZE \\\n",
    "           , learning_rate = LEARNING_RATE , num_workers = NUM_WORKERS)"
   ]
  },
  {
   "cell_type": "code",
   "execution_count": null,
   "id": "113e6d1a",
   "metadata": {},
   "outputs": [],
   "source": []
  },
  {
   "cell_type": "code",
   "execution_count": null,
   "id": "841d93d0",
   "metadata": {},
   "outputs": [],
   "source": []
  }
 ],
 "metadata": {
  "kernelspec": {
   "display_name": "Python 3 (ipykernel)",
   "language": "python",
   "name": "python3"
  },
  "language_info": {
   "codemirror_mode": {
    "name": "ipython",
    "version": 3
   },
   "file_extension": ".py",
   "mimetype": "text/x-python",
   "name": "python",
   "nbconvert_exporter": "python",
   "pygments_lexer": "ipython3",
   "version": "3.7.0"
  }
 },
 "nbformat": 4,
 "nbformat_minor": 5
}
