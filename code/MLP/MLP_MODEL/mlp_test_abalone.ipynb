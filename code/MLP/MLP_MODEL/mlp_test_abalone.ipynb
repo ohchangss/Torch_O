{
 "cells": [
  {
   "cell_type": "code",
   "execution_count": 24,
   "id": "b1dee844",
   "metadata": {},
   "outputs": [
    {
     "name": "stdout",
     "output_type": "stream",
     "text": [
      "Using device: cuda\n",
      "GeForce GTX 1660 Ti\n",
      "Memory Usage:\n",
      "Allocated: 0.0 GB\n",
      "Cached:    0.0 GB\n",
      "Using PyTorch version: 1.10.0\n"
     ]
    }
   ],
   "source": [
    "BASE_DIR = '../'*3\n",
    "MLPMODEL = BASE_DIR +'code/MLP/MLP_MODEL/mlp_model.ipynb'\n",
    "PREPRO = BASE_DIR + 'code/UTIL/dataset/abalone_prepro.ipynb'\n",
    "%run {MLPMODEL}\n",
    "%run {PREPRO}"
   ]
  },
  {
   "cell_type": "code",
   "execution_count": 25,
   "id": "bc052174",
   "metadata": {},
   "outputs": [],
   "source": [
    "EPOCH = 1\n",
    "BATCH_SIZE=30\n",
    "NUM_WORKERS=0\n",
    "LEARNING_RATE = 0.001"
   ]
  },
  {
   "cell_type": "code",
   "execution_count": 26,
   "id": "8f547cee",
   "metadata": {
    "scrolled": false
   },
   "outputs": [
    {
     "name": "stdout",
     "output_type": "stream",
     "text": [
      "abalone(regression, 3340+629+208) \n",
      "\n",
      "(10,)\n",
      "Model abalone_model train started \n",
      "\n",
      "\n",
      "!!!!!!!!!!!\n",
      "!! Layer !! .\n",
      "!!!!!!!!!!! \n",
      "\n",
      " Net(\n",
      "  (layer1): Sequential(\n",
      "    (0): Linear(in_features=10, out_features=10, bias=True)\n",
      "    (1): ReLU()\n",
      "    (2): Linear(in_features=10, out_features=10, bias=True)\n",
      "    (3): ReLU()\n",
      "    (4): Flatten(start_dim=1, end_dim=-1)\n",
      "    (5): Linear(in_features=10, out_features=1, bias=True)\n",
      "  )\n",
      ")\n",
      "\n",
      "!!!!!!!!!!!!!!!\n",
      "!! optimizer !! \n",
      "!!!!!!!!!!!!!!! \n",
      "\n",
      " Adam (\n",
      "Parameter Group 0\n",
      "    amsgrad: False\n",
      "    betas: (0.9, 0.999)\n",
      "    eps: 1e-08\n",
      "    lr: 0.001\n",
      "    weight_decay: 0\n",
      ")\n",
      "    Epoch 1: cost=111.655, accuracy=-0.072/-0.074 (0/0 secs)\n",
      "    Epoch 1: cost=112.692, accuracy=-0.070/-0.051 (0/0 secs)\n",
      "    Epoch 1: cost=112.885, accuracy=-0.064/-0.053 (0/0 secs)\n",
      "    Epoch 1: cost=111.065, accuracy=-0.055/-0.025 (0/0 secs)\n",
      "    Epoch 1: cost=108.669, accuracy=-0.048/0.002 (0/0 secs)\n",
      "Model abalone_model train ended in 0 secs:\n",
      "<bound method Module.parameters of Net(\n",
      "  (layer1): Sequential(\n",
      "    (0): Linear(in_features=10, out_features=10, bias=True)\n",
      "    (1): ReLU()\n",
      "    (2): Linear(in_features=10, out_features=10, bias=True)\n",
      "    (3): ReLU()\n",
      "    (4): Flatten(start_dim=1, end_dim=-1)\n",
      "    (5): Linear(in_features=10, out_features=1, bias=True)\n",
      "  )\n",
      ")>\n",
      "Model abalone_model test report: accuracy = 0.020, (0 secs)\n",
      "\n",
      "Model abalone_model Visualization\n",
      "[0.00,0.00,1.00,0.47,0.38,0.14,0.49,0.17,0.07,0.19] => 추정  0.5 : 정답  7.0\n",
      "[0.00,0.00,1.00,0.47,0.38,0.10,0.51,0.23,0.14,0.13] => 추정  0.5 : 정답 11.0\n",
      "[0.00,1.00,0.00,0.59,0.49,0.17,1.21,0.56,0.23,0.31] => 추정  0.9 : 정답 10.0\n"
     ]
    }
   ],
   "source": [
    "ad = AbaloneDataset()\n",
    "print(ad,'\\n')\n",
    "am = Mlp_Torch('abalone_model', ad, [10,10])\n",
    "am.exec_all(epoch_count=EPOCH, report=20,batch_size =BATCH_SIZE \\\n",
    "           , learning_rate = LEARNING_RATE , num_workers = NUM_WORKERS)"
   ]
  },
  {
   "cell_type": "code",
   "execution_count": 40,
   "id": "113e6d1a",
   "metadata": {},
   "outputs": [
    {
     "name": "stdout",
     "output_type": "stream",
     "text": [
      "torch.Size([10, 10])\n",
      "torch.Size([10])\n",
      "torch.Size([10, 10])\n",
      "torch.Size([10])\n",
      "torch.Size([1, 10])\n",
      "torch.Size([1])\n"
     ]
    }
   ],
   "source": [
    "# list(net.parameters())\n",
    "for i in list(am.model.parameters()):\n",
    "    print(i.shape)\n",
    "#     break"
   ]
  },
  {
   "cell_type": "code",
   "execution_count": 41,
   "id": "841d93d0",
   "metadata": {},
   "outputs": [],
   "source": [
    "from torchsummary import summary"
   ]
  },
  {
   "cell_type": "code",
   "execution_count": 54,
   "id": "6c768fd9",
   "metadata": {},
   "outputs": [
    {
     "ename": "SyntaxError",
     "evalue": "invalid syntax (CreatorTemp/ipykernel_32324/4233203404.py, line 1)",
     "output_type": "error",
     "traceback": [
      "\u001b[1;36m  File \u001b[1;32m\"C:\\Users\\Public\\Documents\\ESTsoft\\CreatorTemp/ipykernel_32324/4233203404.py\"\u001b[1;36m, line \u001b[1;32m1\u001b[0m\n\u001b[1;33m    summary(am.model,(,10))\u001b[0m\n\u001b[1;37m                      ^\u001b[0m\n\u001b[1;31mSyntaxError\u001b[0m\u001b[1;31m:\u001b[0m invalid syntax\n"
     ]
    }
   ],
   "source": [
    "summary(am.model,(,10))"
   ]
  },
  {
   "cell_type": "code",
   "execution_count": null,
   "id": "84c9bc9e",
   "metadata": {},
   "outputs": [],
   "source": []
  }
 ],
 "metadata": {
  "kernelspec": {
   "display_name": "Python 3 (ipykernel)",
   "language": "python",
   "name": "python3"
  },
  "language_info": {
   "codemirror_mode": {
    "name": "ipython",
    "version": 3
   },
   "file_extension": ".py",
   "mimetype": "text/x-python",
   "name": "python",
   "nbconvert_exporter": "python",
   "pygments_lexer": "ipython3",
   "version": "3.7.11"
  }
 },
 "nbformat": 4,
 "nbformat_minor": 5
}
