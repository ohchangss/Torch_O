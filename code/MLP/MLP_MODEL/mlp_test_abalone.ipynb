{
 "cells": [
  {
   "cell_type": "code",
   "execution_count": 1,
   "id": "b1dee844",
   "metadata": {},
   "outputs": [
    {
     "name": "stdout",
     "output_type": "stream",
     "text": [
      "Using device: cpu\n",
      "Using PyTorch version: 1.9.0\n"
     ]
    }
   ],
   "source": [
    "BASE_DIR = '../'*3\n",
    "MLPMODEL = BASE_DIR +'code/MLP/MLP_MODEL/mlp_model.ipynb'\n",
    "PREPRO = BASE_DIR + 'code/UTIL/dataset/abalone_prepro.ipynb'\n",
    "%run {MLPMODEL}\n",
    "%run {PREPRO}"
   ]
  },
  {
   "cell_type": "code",
   "execution_count": 2,
   "id": "bc052174",
   "metadata": {},
   "outputs": [],
   "source": [
    "EPOCH = 5\n",
    "BATCH_SIZE=30\n",
    "NUM_WORKERS=0\n",
    "LEARNING_RATE = 0.01"
   ]
  },
  {
   "cell_type": "code",
   "execution_count": 3,
   "id": "8f547cee",
   "metadata": {
    "scrolled": false
   },
   "outputs": [
    {
     "name": "stdout",
     "output_type": "stream",
     "text": [
      "abalone(regression, 3340+629+208) \n",
      "\n",
      "\n",
      "Model abalone_model train started \n",
      "\n",
      "\n",
      "!!!!!!!!!!!\n",
      "!! Layer !! .\n",
      "!!!!!!!!!!! \n",
      "\n",
      " Net(\n",
      "  (layer1): Sequential(\n",
      "    (0): Linear(in_features=10, out_features=10, bias=True)\n",
      "    (1): ReLU()\n",
      "    (2): Linear(in_features=10, out_features=10, bias=True)\n",
      "    (3): ReLU()\n",
      "    (4): Flatten(start_dim=1, end_dim=-1)\n",
      "    (5): Linear(in_features=10, out_features=1, bias=True)\n",
      "  )\n",
      ")\n",
      "\n",
      "!!!!!!!!!!!!!!!\n",
      "!! optimizer !! \n",
      "!!!!!!!!!!!!!!! \n",
      "\n",
      " Adam (\n",
      "Parameter Group 0\n",
      "    amsgrad: False\n",
      "    betas: (0.9, 0.999)\n",
      "    eps: 1e-08\n",
      "    lr: 0.01\n",
      "    weight_decay: 0\n",
      ")\n",
      "    Epoch 1: cost=99.334, accuracy=0.011/0.056 (0/0 secs)\n",
      "    Epoch 1: cost=79.102, accuracy=0.115/0.494 (1/1 secs)\n",
      "    Epoch 1: cost=57.034, accuracy=0.295/0.695 (0/1 secs)\n",
      "    Epoch 1: cost=44.748, accuracy=0.402/0.757 (0/1 secs)\n",
      "    Epoch 1: cost=37.355, accuracy=0.466/0.763 (0/1 secs)\n",
      "    Epoch 2: cost=7.055, accuracy=0.734/0.728 (0/1 secs)\n",
      "    Epoch 2: cost=6.998, accuracy=0.740/0.745 (1/2 secs)\n",
      "    Epoch 2: cost=6.706, accuracy=0.744/0.733 (0/2 secs)\n",
      "    Epoch 2: cost=6.904, accuracy=0.740/0.744 (0/2 secs)\n",
      "    Epoch 2: cost=7.091, accuracy=0.738/0.743 (0/2 secs)\n",
      "    Epoch 3: cost=7.423, accuracy=0.736/0.735 (1/3 secs)\n",
      "    Epoch 3: cost=7.199, accuracy=0.737/0.783 (0/3 secs)\n",
      "    Epoch 3: cost=7.207, accuracy=0.735/0.748 (0/3 secs)\n",
      "    Epoch 3: cost=6.819, accuracy=0.743/0.777 (0/3 secs)\n",
      "    Epoch 3: cost=6.770, accuracy=0.744/0.753 (0/3 secs)\n",
      "    Epoch 4: cost=6.782, accuracy=0.743/0.778 (1/4 secs)\n",
      "    Epoch 4: cost=7.017, accuracy=0.741/0.779 (0/4 secs)\n",
      "    Epoch 4: cost=6.769, accuracy=0.746/0.788 (0/4 secs)\n",
      "    Epoch 4: cost=6.415, accuracy=0.751/0.793 (0/4 secs)\n",
      "    Epoch 4: cost=6.341, accuracy=0.752/0.790 (0/4 secs)\n",
      "    Epoch 5: cost=6.221, accuracy=0.756/0.777 (1/5 secs)\n",
      "    Epoch 5: cost=6.252, accuracy=0.755/0.761 (0/5 secs)\n",
      "    Epoch 5: cost=5.908, accuracy=0.761/0.761 (0/5 secs)\n",
      "    Epoch 5: cost=5.884, accuracy=0.761/0.785 (0/5 secs)\n",
      "    Epoch 5: cost=5.762, accuracy=0.764/0.776 (1/6 secs)\n",
      "Model abalone_model train ended in 6 secs:\n",
      "<bound method Module.parameters of Net(\n",
      "  (layer1): Sequential(\n",
      "    (0): Linear(in_features=10, out_features=10, bias=True)\n",
      "    (1): ReLU()\n",
      "    (2): Linear(in_features=10, out_features=10, bias=True)\n",
      "    (3): ReLU()\n",
      "    (4): Flatten(start_dim=1, end_dim=-1)\n",
      "    (5): Linear(in_features=10, out_features=1, bias=True)\n",
      "  )\n",
      ")>\n",
      "Model abalone_model test report: accuracy = 0.757, (0 secs)\n",
      "\n",
      "Model abalone_model Visualization\n",
      "[1.00,0.00,0.00,0.55,0.43,0.14,0.66,0.26,0.17,0.20] => 추정 10.3 : 정답 10.0\n",
      "[1.00,0.00,0.00,0.37,0.28,0.10,0.22,0.12,0.03,0.06] => 추정  8.0 : 정답  6.0\n",
      "[0.00,0.00,1.00,0.47,0.38,0.14,0.57,0.17,0.12,0.19] => 추정 11.6 : 정답 11.0\n"
     ]
    }
   ],
   "source": [
    "ad = AbaloneDataset()\n",
    "print(ad,'\\n')\n",
    "am = Mlp_Torch('abalone_model', ad, [10,10])\n",
    "am.exec_all(epoch_count=EPOCH, report=20,batch_size =BATCH_SIZE \\\n",
    "           , learning_rate = LEARNING_RATE , num_workers = NUM_WORKERS)"
   ]
  },
  {
   "cell_type": "code",
   "execution_count": 40,
   "id": "113e6d1a",
   "metadata": {},
   "outputs": [
    {
     "name": "stdout",
     "output_type": "stream",
     "text": [
      "torch.Size([10, 10])\n",
      "torch.Size([10])\n",
      "torch.Size([10, 10])\n",
      "torch.Size([10])\n",
      "torch.Size([1, 10])\n",
      "torch.Size([1])\n"
     ]
    }
   ],
   "source": [
    "# list(net.parameters())\n",
    "for i in list(am.model.parameters()):\n",
    "    print(i.shape)\n",
    "#     break"
   ]
  },
  {
   "cell_type": "code",
   "execution_count": 41,
   "id": "841d93d0",
   "metadata": {},
   "outputs": [],
   "source": [
    "from torchsummary import summary"
   ]
  },
  {
   "cell_type": "code",
   "execution_count": 54,
   "id": "6c768fd9",
   "metadata": {},
   "outputs": [
    {
     "ename": "SyntaxError",
     "evalue": "invalid syntax (CreatorTemp/ipykernel_32324/4233203404.py, line 1)",
     "output_type": "error",
     "traceback": [
      "\u001b[1;36m  File \u001b[1;32m\"C:\\Users\\Public\\Documents\\ESTsoft\\CreatorTemp/ipykernel_32324/4233203404.py\"\u001b[1;36m, line \u001b[1;32m1\u001b[0m\n\u001b[1;33m    summary(am.model,(,10))\u001b[0m\n\u001b[1;37m                      ^\u001b[0m\n\u001b[1;31mSyntaxError\u001b[0m\u001b[1;31m:\u001b[0m invalid syntax\n"
     ]
    }
   ],
   "source": [
    "summary(am.model,(,10))"
   ]
  },
  {
   "cell_type": "code",
   "execution_count": null,
   "id": "84c9bc9e",
   "metadata": {},
   "outputs": [],
   "source": []
  }
 ],
 "metadata": {
  "kernelspec": {
   "display_name": "Python 3 (ipykernel)",
   "language": "python",
   "name": "python3"
  },
  "language_info": {
   "codemirror_mode": {
    "name": "ipython",
    "version": 3
   },
   "file_extension": ".py",
   "mimetype": "text/x-python",
   "name": "python",
   "nbconvert_exporter": "python",
   "pygments_lexer": "ipython3",
   "version": "3.7.0"
  }
 },
 "nbformat": 4,
 "nbformat_minor": 5
}
