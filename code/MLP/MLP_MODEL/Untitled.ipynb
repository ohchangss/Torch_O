{
 "cells": [
  {
   "cell_type": "code",
   "execution_count": 73,
   "id": "b1dee844",
   "metadata": {},
   "outputs": [
    {
     "name": "stdout",
     "output_type": "stream",
     "text": [
      "Using device: cpu\n",
      "Using PyTorch version: 1.9.0\n"
     ]
    }
   ],
   "source": [
    "%run Dataset.ipynb\n",
    "%run mlp_model.ipynb\n",
    "%run ../../../code/UTIL/dataset/abalone_prepro.ipynb"
   ]
  },
  {
   "cell_type": "code",
   "execution_count": 74,
   "id": "bc052174",
   "metadata": {},
   "outputs": [],
   "source": [
    "BATCH_SIZE=10\n",
    "NUM_WORKERS=0\n",
    "LEARNING_RATE = 0.0001"
   ]
  },
  {
   "cell_type": "code",
   "execution_count": 77,
   "id": "8f547cee",
   "metadata": {},
   "outputs": [
    {
     "name": "stdout",
     "output_type": "stream",
     "text": [
      "10 10\n",
      "10 10\n",
      "10 10\n",
      "10 1\n",
      "Model abalone_model train started\n",
      "torch.Size([3340, 10])\n",
      "torch.Size([3340, 1])\n",
      "Epoch    0/10 Batch 334/10 Cost: 107.543968\n",
      "Epoch    1/10 Batch 334/10 Cost: 75.919449\n",
      "Epoch    2/10 Batch 334/10 Cost: 84.920044\n",
      "Epoch    3/10 Batch 334/10 Cost: 53.142925\n",
      "Epoch    4/10 Batch 334/10 Cost: 65.286911\n",
      "Epoch    5/10 Batch 334/10 Cost: 24.346844\n",
      "Epoch    6/10 Batch 334/10 Cost: 4.106421\n",
      "Epoch    7/10 Batch 334/10 Cost: 10.753255\n",
      "Epoch    8/10 Batch 334/10 Cost: 11.300161\n",
      "Epoch    9/10 Batch 334/10 Cost: 19.299376\n",
      "Epoch   10/10 Batch 334/10 Cost: 4.575118\n"
     ]
    }
   ],
   "source": [
    "ad = AbaloneDataset()\n",
    "am = MlpTorch('abalone_model', ad, [10,10,10])\n",
    "am.exec_all(epoch_count=10, report=2)"
   ]
  },
  {
   "cell_type": "code",
   "execution_count": null,
   "id": "ca6343a3",
   "metadata": {},
   "outputs": [],
   "source": [
    "내일할것 -> 코드 정리 및 테스트, 평가, 배치사이즈 잘 나오게 하기 등등 "
   ]
  },
  {
   "cell_type": "code",
   "execution_count": null,
   "id": "d17541d1",
   "metadata": {},
   "outputs": [],
   "source": []
  },
  {
   "cell_type": "code",
   "execution_count": null,
   "id": "3dab4065",
   "metadata": {},
   "outputs": [],
   "source": []
  }
 ],
 "metadata": {
  "kernelspec": {
   "display_name": "Python 3 (ipykernel)",
   "language": "python",
   "name": "python3"
  },
  "language_info": {
   "codemirror_mode": {
    "name": "ipython",
    "version": 3
   },
   "file_extension": ".py",
   "mimetype": "text/x-python",
   "name": "python",
   "nbconvert_exporter": "python",
   "pygments_lexer": "ipython3",
   "version": "3.7.0"
  }
 },
 "nbformat": 4,
 "nbformat_minor": 5
}
