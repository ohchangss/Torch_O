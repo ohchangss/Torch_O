{
 "cells": [
  {
   "cell_type": "code",
   "execution_count": 30,
   "id": "d98d20e3",
   "metadata": {},
   "outputs": [
    {
     "name": "stdout",
     "output_type": "stream",
     "text": [
      "Using device: cuda\n",
      "GeForce GTX 1660 Ti\n",
      "Memory Usage:\n",
      "Allocated: 0.0 GB\n",
      "Cached:    0.0 GB\n",
      "Using PyTorch version: 1.7.1\n"
     ]
    }
   ],
   "source": [
    "BASE_DIR = '../'*3\n",
    "MLPMODEL = BASE_DIR +'code/MLP/MLP_MODEL/mlp_model.ipynb'\n",
    "PREPRO = BASE_DIR + 'code/UTIL/dataset/faults_prepro.ipynb'\n",
    "%run {MLPMODEL}\n",
    "%run {PREPRO}"
   ]
  },
  {
   "cell_type": "code",
   "execution_count": 31,
   "id": "10238098",
   "metadata": {},
   "outputs": [],
   "source": [
    "EPOCH = 50\n",
    "BATCH_SIZE=15\n",
    "NUM_WORKERS=0\n",
    "LEARNING_RATE = 0.0001"
   ]
  },
  {
   "cell_type": "code",
   "execution_count": 32,
   "id": "eaab3cb8",
   "metadata": {
    "scrolled": false
   },
   "outputs": [
    {
     "name": "stdout",
     "output_type": "stream",
     "text": [
      "Model steel_model train started \n",
      "\n",
      "\n",
      "!!!!!!!!!!!\n",
      "!! Layer !! .\n",
      "!!!!!!!!!!! \n",
      "\n",
      " Net(\n",
      "  (layer1): Sequential(\n",
      "    (0): Linear(in_features=27, out_features=12, bias=True)\n",
      "    (1): ReLU()\n",
      "    (2): Linear(in_features=12, out_features=7, bias=True)\n",
      "    (3): ReLU()\n",
      "    (4): Linear(in_features=7, out_features=7, bias=True)\n",
      "  )\n",
      ")\n",
      "\n",
      "!!!!!!!!!!!!!!!\n",
      "!! optimizer !! \n",
      "!!!!!!!!!!!!!!! \n",
      "\n",
      " Adam (\n",
      "Parameter Group 0\n",
      "    amsgrad: False\n",
      "    betas: (0.9, 0.999)\n",
      "    eps: 1e-08\n",
      "    lr: 0.0001\n",
      "    weight_decay: 0\n",
      ")\n",
      "    Epoch 1: cost=57119.461, accuracy=0.207/0.216 (0/0 secs)\n",
      "    Epoch 1: cost=50791.008, accuracy=0.202/0.206 (0/0 secs)\n",
      "    Epoch 2: cost=29245.463, accuracy=0.083/0.052 (0/0 secs)\n",
      "    Epoch 2: cost=26690.912, accuracy=0.070/0.010 (0/0 secs)\n",
      "    Epoch 3: cost=17047.041, accuracy=0.093/0.124 (0/0 secs)\n",
      "    Epoch 3: cost=16345.922, accuracy=0.077/0.062 (0/0 secs)\n",
      "    Epoch 4: cost=11655.265, accuracy=0.150/0.216 (0/0 secs)\n",
      "    Epoch 4: cost=9626.769, accuracy=0.211/0.268 (0/0 secs)\n",
      "    Epoch 5: cost=8355.938, accuracy=0.240/0.216 (1/1 secs)\n",
      "    Epoch 5: cost=7211.914, accuracy=0.258/0.175 (0/1 secs)\n",
      "    Epoch 6: cost=5476.916, accuracy=0.302/0.124 (0/1 secs)\n",
      "    Epoch 6: cost=5451.829, accuracy=0.259/0.144 (0/1 secs)\n",
      "    Epoch 7: cost=4748.458, accuracy=0.268/0.227 (0/1 secs)\n",
      "    Epoch 7: cost=3970.014, accuracy=0.257/0.186 (0/1 secs)\n",
      "    Epoch 8: cost=3165.361, accuracy=0.265/0.227 (0/1 secs)\n",
      "    Epoch 8: cost=3250.041, accuracy=0.288/0.454 (0/1 secs)\n",
      "    Epoch 9: cost=2716.038, accuracy=0.303/0.330 (0/1 secs)\n",
      "    Epoch 9: cost=2530.178, accuracy=0.309/0.309 (0/1 secs)\n",
      "    Epoch 10: cost=2489.619, accuracy=0.305/0.423 (1/2 secs)\n",
      "    Epoch 10: cost=2278.644, accuracy=0.323/0.330 (0/2 secs)\n",
      "    Epoch 11: cost=2154.598, accuracy=0.303/0.392 (0/2 secs)\n",
      "    Epoch 11: cost=1806.622, accuracy=0.315/0.474 (0/2 secs)\n",
      "    Epoch 12: cost=1678.912, accuracy=0.320/0.381 (0/2 secs)\n",
      "    Epoch 12: cost=1622.401, accuracy=0.325/0.433 (0/2 secs)\n",
      "    Epoch 13: cost=1149.900, accuracy=0.310/0.258 (0/2 secs)\n",
      "    Epoch 13: cost=1217.566, accuracy=0.333/0.371 (0/2 secs)\n",
      "    Epoch 14: cost=1065.645, accuracy=0.322/0.330 (0/2 secs)\n",
      "    Epoch 14: cost=863.473, accuracy=0.331/0.361 (0/2 secs)\n",
      "    Epoch 15: cost=762.619, accuracy=0.337/0.412 (1/3 secs)\n",
      "    Epoch 15: cost=703.442, accuracy=0.340/0.412 (0/3 secs)\n",
      "    Epoch 16: cost=535.602, accuracy=0.302/0.412 (0/3 secs)\n",
      "    Epoch 16: cost=479.711, accuracy=0.305/0.330 (0/3 secs)\n",
      "    Epoch 17: cost=355.819, accuracy=0.350/0.371 (0/3 secs)\n",
      "    Epoch 17: cost=324.014, accuracy=0.333/0.289 (0/3 secs)\n",
      "    Epoch 18: cost=178.810, accuracy=0.322/0.392 (0/3 secs)\n",
      "    Epoch 18: cost=186.069, accuracy=0.328/0.351 (0/3 secs)\n",
      "    Epoch 19: cost=141.838, accuracy=0.332/0.258 (0/3 secs)\n",
      "    Epoch 19: cost=150.459, accuracy=0.333/0.361 (1/4 secs)\n",
      "    Epoch 20: cost=163.507, accuracy=0.342/0.340 (0/4 secs)\n",
      "    Epoch 20: cost=162.087, accuracy=0.317/0.278 (0/4 secs)\n",
      "    Epoch 21: cost=149.854, accuracy=0.293/0.392 (0/4 secs)\n",
      "    Epoch 21: cost=148.292, accuracy=0.326/0.392 (0/4 secs)\n",
      "    Epoch 22: cost=122.867, accuracy=0.353/0.278 (0/4 secs)\n",
      "    Epoch 22: cost=142.557, accuracy=0.343/0.381 (0/4 secs)\n",
      "    Epoch 23: cost=109.016, accuracy=0.332/0.237 (0/4 secs)\n",
      "    Epoch 23: cost=134.491, accuracy=0.325/0.412 (0/4 secs)\n",
      "    Epoch 24: cost=108.292, accuracy=0.350/0.371 (0/4 secs)\n",
      "    Epoch 24: cost=129.575, accuracy=0.351/0.299 (1/5 secs)\n",
      "    Epoch 25: cost=110.086, accuracy=0.298/0.361 (0/5 secs)\n",
      "    Epoch 25: cost=118.434, accuracy=0.331/0.258 (0/5 secs)\n",
      "    Epoch 26: cost=120.807, accuracy=0.340/0.381 (0/5 secs)\n",
      "    Epoch 26: cost=124.857, accuracy=0.313/0.320 (0/5 secs)\n",
      "    Epoch 27: cost=145.285, accuracy=0.340/0.371 (0/5 secs)\n",
      "    Epoch 27: cost=120.263, accuracy=0.329/0.330 (0/5 secs)\n",
      "    Epoch 28: cost=114.160, accuracy=0.332/0.186 (0/5 secs)\n",
      "    Epoch 28: cost=111.059, accuracy=0.335/0.278 (0/5 secs)\n",
      "    Epoch 29: cost=131.909, accuracy=0.380/0.289 (0/5 secs)\n",
      "    Epoch 29: cost=116.934, accuracy=0.343/0.268 (1/6 secs)\n",
      "    Epoch 30: cost=52.545, accuracy=0.325/0.330 (0/6 secs)\n",
      "    Epoch 30: cost=63.223, accuracy=0.345/0.289 (0/6 secs)\n",
      "    Epoch 31: cost=106.876, accuracy=0.332/0.361 (0/6 secs)\n",
      "    Epoch 31: cost=92.294, accuracy=0.318/0.433 (0/6 secs)\n",
      "    Epoch 32: cost=103.544, accuracy=0.413/0.320 (0/6 secs)\n",
      "    Epoch 32: cost=80.251, accuracy=0.393/0.361 (0/6 secs)\n",
      "    Epoch 33: cost=82.804, accuracy=0.363/0.464 (0/6 secs)\n",
      "    Epoch 33: cost=75.104, accuracy=0.378/0.392 (0/6 secs)\n",
      "    Epoch 34: cost=54.092, accuracy=0.403/0.330 (1/7 secs)\n",
      "    Epoch 34: cost=74.255, accuracy=0.393/0.454 (0/7 secs)\n",
      "    Epoch 35: cost=80.288, accuracy=0.332/0.330 (0/7 secs)\n",
      "    Epoch 35: cost=70.358, accuracy=0.334/0.423 (0/7 secs)\n",
      "    Epoch 36: cost=73.577, accuracy=0.360/0.423 (0/7 secs)\n",
      "    Epoch 36: cost=77.350, accuracy=0.371/0.412 (0/7 secs)\n",
      "    Epoch 37: cost=51.506, accuracy=0.375/0.454 (0/7 secs)\n",
      "    Epoch 37: cost=77.062, accuracy=0.369/0.474 (0/7 secs)\n",
      "    Epoch 38: cost=53.853, accuracy=0.348/0.443 (0/7 secs)\n",
      "    Epoch 38: cost=74.242, accuracy=0.346/0.454 (0/7 secs)\n",
      "    Epoch 39: cost=117.113, accuracy=0.352/0.299 (1/8 secs)\n",
      "    Epoch 39: cost=91.678, accuracy=0.380/0.330 (0/8 secs)\n",
      "    Epoch 40: cost=94.057, accuracy=0.368/0.330 (0/8 secs)\n",
      "    Epoch 40: cost=86.530, accuracy=0.363/0.237 (0/8 secs)\n",
      "    Epoch 41: cost=80.014, accuracy=0.413/0.227 (0/8 secs)\n",
      "    Epoch 41: cost=80.928, accuracy=0.380/0.289 (0/8 secs)\n",
      "    Epoch 42: cost=72.696, accuracy=0.350/0.433 (0/8 secs)\n",
      "    Epoch 42: cost=72.924, accuracy=0.374/0.433 (0/8 secs)\n",
      "    Epoch 43: cost=33.883, accuracy=0.410/0.402 (0/8 secs)\n",
      "    Epoch 43: cost=55.069, accuracy=0.358/0.351 (0/8 secs)\n",
      "    Epoch 44: cost=47.236, accuracy=0.383/0.381 (1/9 secs)\n",
      "    Epoch 44: cost=52.603, accuracy=0.368/0.433 (0/9 secs)\n",
      "    Epoch 45: cost=72.995, accuracy=0.338/0.278 (0/9 secs)\n",
      "    Epoch 45: cost=72.816, accuracy=0.360/0.351 (0/9 secs)\n",
      "    Epoch 46: cost=75.223, accuracy=0.355/0.216 (0/9 secs)\n",
      "    Epoch 46: cost=68.937, accuracy=0.348/0.464 (0/9 secs)\n",
      "    Epoch 47: cost=100.763, accuracy=0.375/0.443 (0/9 secs)\n",
      "    Epoch 47: cost=88.395, accuracy=0.364/0.474 (0/9 secs)\n",
      "    Epoch 48: cost=95.871, accuracy=0.327/0.412 (0/9 secs)\n",
      "    Epoch 48: cost=79.118, accuracy=0.339/0.423 (0/9 secs)\n",
      "    Epoch 49: cost=101.574, accuracy=0.348/0.454 (1/10 secs)\n",
      "    Epoch 49: cost=81.736, accuracy=0.363/0.454 (0/10 secs)\n",
      "    Epoch 50: cost=48.888, accuracy=0.390/0.392 (0/10 secs)\n",
      "    Epoch 50: cost=67.375, accuracy=0.392/0.309 (0/10 secs)\n",
      "Model steel_model train ended in 10 secs:\n",
      "Model steel_model test report: accuracy = 0.323, (0 secs)\n",
      "\n",
      "Model steel_model Visualization\n",
      "추정확률분포 [ 0, 0,99, 0, 0, 0, 1] => 추정 K_Scatch : 정답 K_Scatch => O\n",
      "추정확률분포 [ 0,55, 0, 7, 0, 0,38] => 추정 Z_Scratch : 정답 Other_Faults => X\n",
      "추정확률분포 [ 0, 0, 0, 0, 0,88,12] => 추정 Bumps : 정답 Other_Faults => X\n"
     ]
    }
   ],
   "source": [
    "sd = SteelDataset()\n",
    "sm = Mlp_Torch('steel_model', sd, [12,7])\n",
    "sm.exec_all(epoch_count=EPOCH, report=40, batch_size =BATCH_SIZE \\\n",
    "           , learning_rate = LEARNING_RATE , num_workers = NUM_WORKERS)"
   ]
  },
  {
   "cell_type": "code",
   "execution_count": 84,
   "id": "153c18fc",
   "metadata": {},
   "outputs": [
    {
     "data": {
      "text/plain": [
       "tensor([4, 3, 6, 6, 5, 1, 0, 2, 6, 1, 0, 0, 1, 2, 2, 2, 6, 5, 5, 1, 0, 6, 6, 5,\n",
       "        2, 1, 6, 0, 1, 6])"
      ]
     },
     "execution_count": 84,
     "metadata": {},
     "output_type": "execute_result"
    }
   ],
   "source": [
    "torch.argmax(a,dim=1)"
   ]
  },
  {
   "cell_type": "code",
   "execution_count": 79,
   "id": "9be84099",
   "metadata": {},
   "outputs": [
    {
     "data": {
      "text/plain": [
       "tensor(4)"
      ]
     },
     "execution_count": 79,
     "metadata": {},
     "output_type": "execute_result"
    }
   ],
   "source": [
    "torch.argmax(a)"
   ]
  },
  {
   "cell_type": "code",
   "execution_count": 75,
   "id": "f8dd3ec7",
   "metadata": {},
   "outputs": [
    {
     "data": {
      "text/plain": [
       "torch.Size([30, 7])"
      ]
     },
     "execution_count": 75,
     "metadata": {},
     "output_type": "execute_result"
    }
   ],
   "source": [
    "a.shape"
   ]
  },
  {
   "cell_type": "code",
   "execution_count": null,
   "id": "3f73360f",
   "metadata": {},
   "outputs": [],
   "source": []
  }
 ],
 "metadata": {
  "kernelspec": {
   "display_name": "Python 3",
   "language": "python",
   "name": "python3"
  },
  "language_info": {
   "codemirror_mode": {
    "name": "ipython",
    "version": 3
   },
   "file_extension": ".py",
   "mimetype": "text/x-python",
   "name": "python",
   "nbconvert_exporter": "python",
   "pygments_lexer": "ipython3",
   "version": "3.7.9"
  }
 },
 "nbformat": 4,
 "nbformat_minor": 5
}
