{
 "cells": [
  {
   "cell_type": "code",
   "execution_count": 41,
   "id": "d98d20e3",
   "metadata": {},
   "outputs": [
    {
     "name": "stdout",
     "output_type": "stream",
     "text": [
      "Using device: cuda\n",
      "NVIDIA GeForce RTX 3060 Laptop GPU\n",
      "Memory Usage:\n",
      "Allocated: 0.0 GB\n",
      "Cached:    0.0 GB\n",
      "Using PyTorch version: 1.10.1\n"
     ]
    }
   ],
   "source": [
    "BASE_DIR = '../'*3\n",
    "MLPMODEL = BASE_DIR +'code/MLP/MLP_MODEL/mlp_model.ipynb'\n",
    "PREPRO = BASE_DIR + 'code/UTIL/dataset/faults_prepro.ipynb'\n",
    "%run {MLPMODEL}\n",
    "%run {PREPRO}"
   ]
  },
  {
   "cell_type": "code",
   "execution_count": 42,
   "id": "10238098",
   "metadata": {},
   "outputs": [],
   "source": [
    "EPOCH = 10\n",
    "BATCH_SIZE=20\n",
    "NUM_WORKERS=0\n",
    "LEARNING_RATE = 0.0001"
   ]
  },
  {
   "cell_type": "code",
   "execution_count": 43,
   "id": "eaab3cb8",
   "metadata": {
    "scrolled": false
   },
   "outputs": [
    {
     "name": "stdout",
     "output_type": "stream",
     "text": [
      "Model steel_model train started \n",
      "\n",
      "\n",
      "CrossEntropyLoss()\n",
      "!!!!!!!!!!!\n",
      "!! Layer !! .\n",
      "!!!!!!!!!!! \n",
      "\n",
      " Net(\n",
      "  (layer1): Sequential(\n",
      "    (0): Linear(in_features=27, out_features=12, bias=True)\n",
      "    (1): Linear(in_features=12, out_features=7, bias=True)\n",
      "    (2): Flatten(start_dim=1, end_dim=-1)\n",
      "    (3): Linear(in_features=7, out_features=7, bias=True)\n",
      "  )\n",
      ")\n",
      "\n",
      "!!!!!!!!!!!!!!!\n",
      "!! optimizer !! \n",
      "!!!!!!!!!!!!!!! \n",
      "\n",
      " SGD (\n",
      "Parameter Group 0\n",
      "    dampening: 0\n",
      "    lr: 0.0001\n",
      "    momentum: 0\n",
      "    nesterov: False\n",
      "    weight_decay: 0\n",
      ")\n",
      "    Epoch 2: cost=  nan, accuracy=0.103/0.000 (0/0 secs)\n",
      "    Epoch 4: cost=  nan, accuracy=0.103/0.000 (0/0 secs)\n",
      "    Epoch 6: cost=  nan, accuracy=0.103/0.000 (1/1 secs)\n",
      "    Epoch 8: cost=  nan, accuracy=0.103/0.000 (0/1 secs)\n",
      "    Epoch 10: cost=  nan, accuracy=0.103/0.000 (0/1 secs)\n",
      "Model steel_model train ended in 1 secs:\n",
      "Model steel_model test report: accuracy = 0.000, (0 secs)\n",
      "\n",
      "Model steel_model Visualization\n",
      "추정확률분포 [nan,nan,nan,nan,nan,nan,nan] => 추정 Pastry : 정답 Other_Faults => X\n",
      "추정확률분포 [nan,nan,nan,nan,nan,nan,nan] => 추정 Pastry : 정답 Other_Faults => X\n",
      "추정확률분포 [nan,nan,nan,nan,nan,nan,nan] => 추정 Pastry : 정답 Other_Faults => X\n"
     ]
    }
   ],
   "source": [
    "sd = SteelDataset()\n",
    "sm = Mlp_Torch('steel_model', sd, [12,7])\n",
    "sm.exec_all(epoch_count=EPOCH, report=2, batch_size =BATCH_SIZE \\\n",
    "           , learning_rate = LEARNING_RATE , num_workers = NUM_WORKERS)"
   ]
  },
  {
   "cell_type": "code",
   "execution_count": 10,
   "id": "3f73360f",
   "metadata": {},
   "outputs": [
    {
     "data": {
      "text/plain": [
       "CrossEntropyLoss()"
      ]
     },
     "execution_count": 10,
     "metadata": {},
     "output_type": "execute_result"
    }
   ],
   "source": [
    "sm.loss_func"
   ]
  },
  {
   "cell_type": "code",
   "execution_count": null,
   "id": "74552b06",
   "metadata": {},
   "outputs": [],
   "source": []
  }
 ],
 "metadata": {
  "kernelspec": {
   "display_name": "Python 3 (ipykernel)",
   "language": "python",
   "name": "python3"
  },
  "language_info": {
   "codemirror_mode": {
    "name": "ipython",
    "version": 3
   },
   "file_extension": ".py",
   "mimetype": "text/x-python",
   "name": "python",
   "nbconvert_exporter": "python",
   "pygments_lexer": "ipython3",
   "version": "3.7.11"
  }
 },
 "nbformat": 4,
 "nbformat_minor": 5
}
