{
 "cells": [
  {
   "cell_type": "code",
   "execution_count": 174,
   "id": "d98d20e3",
   "metadata": {},
   "outputs": [
    {
     "name": "stdout",
     "output_type": "stream",
     "text": [
      "Using device: cuda\n",
      "NVIDIA GeForce RTX 3060 Laptop GPU\n",
      "Memory Usage:\n",
      "Allocated: 0.0 GB\n",
      "Cached:    0.0 GB\n",
      "Using PyTorch version: 1.10.1\n"
     ]
    }
   ],
   "source": [
    "BASE_DIR = '../'*3\n",
    "MLPMODEL = BASE_DIR +'code/MLP/MLP_MODEL/mlp_model.ipynb'\n",
    "PREPRO = BASE_DIR + 'code/UTIL/dataset/faults_prepro.ipynb'\n",
    "%run {MLPMODEL}\n",
    "%run {PREPRO}"
   ]
  },
  {
   "cell_type": "code",
   "execution_count": 175,
   "id": "10238098",
   "metadata": {},
   "outputs": [],
   "source": [
    "EPOCH = 50\n",
    "BATCH_SIZE=10\n",
    "NUM_WORKERS=0\n",
    "LEARNING_RATE = 0.0001"
   ]
  },
  {
   "cell_type": "code",
   "execution_count": 176,
   "id": "eaab3cb8",
   "metadata": {
    "scrolled": false
   },
   "outputs": [
    {
     "name": "stdout",
     "output_type": "stream",
     "text": [
      "Model steel_model train started \n",
      "\n",
      "\n",
      "CrossEntropyLoss()\n",
      "!!!!!!!!!!!\n",
      "!! Layer !! .\n",
      "!!!!!!!!!!! \n",
      "\n",
      " Net(\n",
      "  (layer1): Sequential(\n",
      "    (0): Linear(in_features=27, out_features=12, bias=True)\n",
      "    (1): ReLU()\n",
      "    (2): Linear(in_features=12, out_features=6, bias=True)\n",
      "    (3): ReLU()\n",
      "    (4): Linear(in_features=6, out_features=4, bias=True)\n",
      "    (5): ReLU()\n",
      "    (6): Linear(in_features=4, out_features=7, bias=True)\n",
      "  )\n",
      ")\n",
      "\n",
      "!!!!!!!!!!!!!!!\n",
      "!! optimizer !! \n",
      "!!!!!!!!!!!!!!! \n",
      "\n",
      " SGD (\n",
      "Parameter Group 0\n",
      "    dampening: 0\n",
      "    lr: 0.0001\n",
      "    momentum: 0\n",
      "    nesterov: False\n",
      "    weight_decay: 0\n",
      ")\n",
      "    Epoch 10: cost=18.623, accuracy=0.204/0.270 (2/2 secs)\n",
      "    Epoch 20: cost=17.957, accuracy=0.204/0.280 (1/3 secs)\n",
      "    Epoch 30: cost=17.548, accuracy=0.348/0.340 (2/5 secs)\n",
      "    Epoch 40: cost=17.306, accuracy=0.348/0.310 (2/7 secs)\n",
      "    Epoch 50: cost=17.149, accuracy=0.348/0.320 (1/8 secs)\n",
      "Model steel_model train ended in 8 secs:\n",
      "Model steel_model test report: accuracy = 0.365, (0 secs)\n",
      "\n",
      "Model steel_model Visualization\n",
      "tensor([[0.0729, 0.0945, 0.1813, 0.0804, 0.0872, 0.1937, 0.2901],\n",
      "        [0.0729, 0.0945, 0.1813, 0.0804, 0.0872, 0.1937, 0.2901],\n",
      "        [0.0729, 0.0945, 0.1813, 0.0804, 0.0872, 0.1937, 0.2901]],\n",
      "       device='cuda:0')\n",
      "0\n",
      "추정확률분포 [ 7, 9,18, 8, 9,19,29] => 추정 Other_Faults : 정답 Bumps => X\n",
      "0\n",
      "추정확률분포 [ 7, 9,18, 8, 9,19,29] => 추정 Other_Faults : 정답 Stains => X\n",
      "0\n",
      "추정확률분포 [ 7, 9,18, 8, 9,19,29] => 추정 Other_Faults : 정답 Stains => X\n"
     ]
    },
    {
     "name": "stderr",
     "output_type": "stream",
     "text": [
      "/home/ubuntu/anaconda3/envs/torch/lib/python3.7/site-packages/ipykernel_launcher.py:2: UserWarning: Implicit dimension choice for log_softmax has been deprecated. Change the call to include dim=X as an argument.\n",
      "  \n"
     ]
    }
   ],
   "source": [
    "sd = SteelDataset()\n",
    "sm = Mlp_Torch('steel_model', sd, [12,6,4])\n",
    "sm.exec_all(epoch_count=EPOCH, report=10, batch_size =BATCH_SIZE \\\n",
    "           , learning_rate = LEARNING_RATE , num_workers = NUM_WORKERS)"
   ]
  },
  {
   "cell_type": "code",
   "execution_count": 146,
   "id": "0db3048a",
   "metadata": {},
   "outputs": [
    {
     "ename": "TypeError",
     "evalue": "not all arguments converted during string formatting",
     "output_type": "error",
     "traceback": [
      "\u001b[0;31m---------------------------------------------------------------------------\u001b[0m",
      "\u001b[0;31mTypeError\u001b[0m                                 Traceback (most recent call last)",
      "\u001b[0;32m/tmp/ipykernel_66/645634283.py\u001b[0m in \u001b[0;36m<module>\u001b[0;34m\u001b[0m\n\u001b[0;32m----> 1\u001b[0;31m \u001b[0;34m''\u001b[0m\u001b[0;34m.\u001b[0m\u001b[0mjoin\u001b[0m\u001b[0;34m(\u001b[0m\u001b[0;34m[\u001b[0m\u001b[0;34m'%.2f'\u001b[0m\u001b[0;34m]\u001b[0m\u001b[0;34m*\u001b[0m\u001b[0;36m3\u001b[0m\u001b[0;34m)\u001b[0m \u001b[0;34m%\u001b[0m \u001b[0mtuple\u001b[0m\u001b[0;34m(\u001b[0m\u001b[0mb\u001b[0m\u001b[0;34m)\u001b[0m\u001b[0;34m\u001b[0m\u001b[0;34m\u001b[0m\u001b[0m\n\u001b[0m",
      "\u001b[0;31mTypeError\u001b[0m: not all arguments converted during string formatting"
     ]
    }
   ],
   "source": [
    "''.join(['%.2f']*3) % tuple(b)"
   ]
  },
  {
   "cell_type": "code",
   "execution_count": 149,
   "id": "8f4e1758",
   "metadata": {},
   "outputs": [
    {
     "data": {
      "text/plain": [
       "array([-19.0481,  -0.3244,  -1.7648,  -3.9869, -34.8653,  -5.4023,\n",
       "        -2.4917], dtype=float32)"
      ]
     },
     "execution_count": 149,
     "metadata": {},
     "output_type": "execute_result"
    }
   ],
   "source": [
    "import numpy as np\n",
    "np.array(a[0].cpu())"
   ]
  },
  {
   "cell_type": "code",
   "execution_count": 63,
   "id": "d67c1179",
   "metadata": {},
   "outputs": [],
   "source": [
    "x,y=sd.get_validate_date(5)\n",
    "# x,y=x.to_"
   ]
  },
  {
   "cell_type": "code",
   "execution_count": 126,
   "id": "cef4d68d",
   "metadata": {},
   "outputs": [
    {
     "data": {
      "text/plain": [
       "tensor([[5.3397e-09, 7.2296e-01, 1.7122e-01, 1.8557e-02, 7.2143e-16, 4.5062e-03,\n",
       "         8.2769e-02],\n",
       "        [1.2620e-01, 2.0884e-01, 1.0240e-01, 2.4726e-01, 9.7771e-04, 6.2762e-02,\n",
       "         2.5155e-01],\n",
       "        [2.4220e-20, 2.0372e-01, 1.4879e-01, 8.3296e-06, 2.0849e-12, 6.4739e-01,\n",
       "         5.2600e-05]], device='cuda:0')"
      ]
     },
     "execution_count": 126,
     "metadata": {},
     "output_type": "execute_result"
    }
   ],
   "source": [
    "a=torch.tensor([[-19.0481,  -0.3244,  -1.7648,  -3.9869, -34.8653,  -5.4023,  -2.4917],\n",
    "        [ -2.0699,  -1.5662,  -2.2789,  -1.3973,  -6.9303,  -2.7684,  -1.3801],\n",
    "        [-45.1671,  -1.5910,  -1.9052, -11.6957, -26.8963,  -0.4348,  -9.8528]],\n",
    "       device='cuda:0')\n",
    "# a=torch.tensor([-5665,-1965,-2218,-5419,-1293,-0,-626])\n",
    "torch.exp(a)"
   ]
  },
  {
   "cell_type": "code",
   "execution_count": 132,
   "id": "ed7f18c6",
   "metadata": {},
   "outputs": [
    {
     "data": {
      "text/plain": [
       "3"
      ]
     },
     "execution_count": 132,
     "metadata": {},
     "output_type": "execute_result"
    }
   ],
   "source": [
    "len(a)"
   ]
  },
  {
   "cell_type": "code",
   "execution_count": 131,
   "id": "a8bd16ef",
   "metadata": {},
   "outputs": [
    {
     "data": {
      "text/plain": [
       "tensor([5.3397e-07, 7.2296e+01, 1.7122e+01, 1.8557e+00, 7.2143e-14, 4.5062e-01,\n",
       "        8.2769e+00], device='cuda:0')"
      ]
     },
     "execution_count": 131,
     "metadata": {},
     "output_type": "execute_result"
    }
   ],
   "source": [
    "torch.exp(a[0])*100\n",
    "# torch.exp(a[1])\n",
    "# torch.exp(a[2])"
   ]
  },
  {
   "cell_type": "code",
   "execution_count": 128,
   "id": "99d8f131",
   "metadata": {},
   "outputs": [],
   "source": [
    "b=a[0,:]\n",
    "c=a[1,:]\n",
    "d=a[2,:]"
   ]
  },
  {
   "cell_type": "code",
   "execution_count": 130,
   "id": "1165998e",
   "metadata": {},
   "outputs": [
    {
     "data": {
      "text/plain": [
       "tensor([True, True, True, True, True, True, True], device='cuda:0')"
      ]
     },
     "execution_count": 130,
     "metadata": {},
     "output_type": "execute_result"
    }
   ],
   "source": [
    "torch.exp(b) == torch.exp(a[0])"
   ]
  },
  {
   "cell_type": "code",
   "execution_count": 116,
   "id": "bf59a540",
   "metadata": {},
   "outputs": [
    {
     "data": {
      "text/plain": [
       "tensor([0.1262, 0.2088, 0.1024, 0.2473, 0.0010, 0.0628, 0.2516],\n",
       "       device='cuda:0')"
      ]
     },
     "execution_count": 116,
     "metadata": {},
     "output_type": "execute_result"
    }
   ],
   "source": [
    "torch.exp(c)"
   ]
  },
  {
   "cell_type": "code",
   "execution_count": 64,
   "id": "0017611e",
   "metadata": {},
   "outputs": [],
   "source": [
    "x=torch.tensor(x).to(DEVICE)"
   ]
  },
  {
   "cell_type": "code",
   "execution_count": 31,
   "id": "710384db",
   "metadata": {},
   "outputs": [],
   "source": [
    "import torch.nn as nn"
   ]
  },
  {
   "cell_type": "code",
   "execution_count": 67,
   "id": "2cd10cc0",
   "metadata": {},
   "outputs": [
    {
     "data": {
      "text/plain": [
       "tensor([[0.0000e+00, 0.0000e+00, 2.7895e-10, 1.0000e+00, 0.0000e+00, 0.0000e+00,\n",
       "         0.0000e+00, 0.0000e+00, 0.0000e+00, 0.0000e+00, 0.0000e+00, 0.0000e+00,\n",
       "         0.0000e+00, 0.0000e+00, 0.0000e+00, 0.0000e+00, 0.0000e+00, 0.0000e+00,\n",
       "         0.0000e+00, 0.0000e+00, 0.0000e+00, 0.0000e+00, 0.0000e+00, 0.0000e+00,\n",
       "         0.0000e+00, 0.0000e+00, 0.0000e+00],\n",
       "        [0.0000e+00, 0.0000e+00, 3.3535e-04, 9.9966e-01, 0.0000e+00, 0.0000e+00,\n",
       "         0.0000e+00, 0.0000e+00, 0.0000e+00, 0.0000e+00, 0.0000e+00, 0.0000e+00,\n",
       "         0.0000e+00, 0.0000e+00, 0.0000e+00, 0.0000e+00, 0.0000e+00, 0.0000e+00,\n",
       "         0.0000e+00, 0.0000e+00, 0.0000e+00, 0.0000e+00, 0.0000e+00, 0.0000e+00,\n",
       "         0.0000e+00, 0.0000e+00, 0.0000e+00],\n",
       "        [0.0000e+00, 0.0000e+00, 2.4726e-03, 9.9753e-01, 0.0000e+00, 0.0000e+00,\n",
       "         0.0000e+00, 0.0000e+00, 0.0000e+00, 0.0000e+00, 0.0000e+00, 0.0000e+00,\n",
       "         0.0000e+00, 0.0000e+00, 0.0000e+00, 0.0000e+00, 0.0000e+00, 0.0000e+00,\n",
       "         0.0000e+00, 0.0000e+00, 0.0000e+00, 0.0000e+00, 0.0000e+00, 0.0000e+00,\n",
       "         0.0000e+00, 0.0000e+00, 0.0000e+00],\n",
       "        [0.0000e+00, 0.0000e+00, 0.0000e+00, 1.0000e+00, 0.0000e+00, 0.0000e+00,\n",
       "         0.0000e+00, 0.0000e+00, 0.0000e+00, 0.0000e+00, 0.0000e+00, 0.0000e+00,\n",
       "         0.0000e+00, 0.0000e+00, 0.0000e+00, 0.0000e+00, 0.0000e+00, 0.0000e+00,\n",
       "         0.0000e+00, 0.0000e+00, 0.0000e+00, 0.0000e+00, 0.0000e+00, 0.0000e+00,\n",
       "         0.0000e+00, 0.0000e+00, 0.0000e+00],\n",
       "        [0.0000e+00, 0.0000e+00, 3.0590e-07, 1.0000e+00, 0.0000e+00, 0.0000e+00,\n",
       "         0.0000e+00, 0.0000e+00, 0.0000e+00, 0.0000e+00, 0.0000e+00, 0.0000e+00,\n",
       "         0.0000e+00, 0.0000e+00, 0.0000e+00, 0.0000e+00, 0.0000e+00, 0.0000e+00,\n",
       "         0.0000e+00, 0.0000e+00, 0.0000e+00, 0.0000e+00, 0.0000e+00, 0.0000e+00,\n",
       "         0.0000e+00, 0.0000e+00, 0.0000e+00]], device='cuda:0')"
      ]
     },
     "execution_count": 67,
     "metadata": {},
     "output_type": "execute_result"
    }
   ],
   "source": [
    "torch.exp(a)"
   ]
  },
  {
   "cell_type": "code",
   "execution_count": 65,
   "id": "49713c16",
   "metadata": {},
   "outputs": [
    {
     "name": "stderr",
     "output_type": "stream",
     "text": [
      "/home/ubuntu/anaconda3/envs/torch/lib/python3.7/site-packages/ipykernel_launcher.py:1: UserWarning: Implicit dimension choice for log_softmax has been deprecated. Change the call to include dim=X as an argument.\n",
      "  \"\"\"Entry point for launching an IPython kernel.\n"
     ]
    }
   ],
   "source": [
    "a=nn.LogSoftmax()(x)"
   ]
  },
  {
   "cell_type": "code",
   "execution_count": 29,
   "id": "f2e7a7ce",
   "metadata": {},
   "outputs": [],
   "source": [
    "est=sd.get_estimate(x)"
   ]
  },
  {
   "cell_type": "code",
   "execution_count": 30,
   "id": "be052445",
   "metadata": {},
   "outputs": [
    {
     "ename": "TypeError",
     "evalue": "visualize() missing 2 required positional arguments: 'estimates' and 'answers'",
     "output_type": "error",
     "traceback": [
      "\u001b[0;31m---------------------------------------------------------------------------\u001b[0m",
      "\u001b[0;31mTypeError\u001b[0m                                 Traceback (most recent call last)",
      "\u001b[0;32m/tmp/ipykernel_66/1800734692.py\u001b[0m in \u001b[0;36m<module>\u001b[0;34m\u001b[0m\n\u001b[0;32m----> 1\u001b[0;31m \u001b[0msd\u001b[0m\u001b[0;34m.\u001b[0m\u001b[0mvisualize\u001b[0m\u001b[0;34m(\u001b[0m\u001b[0mest\u001b[0m\u001b[0;34m)\u001b[0m\u001b[0;34m\u001b[0m\u001b[0;34m\u001b[0m\u001b[0m\n\u001b[0m",
      "\u001b[0;31mTypeError\u001b[0m: visualize() missing 2 required positional arguments: 'estimates' and 'answers'"
     ]
    }
   ],
   "source": [
    "sd.visualize(x,est,y)"
   ]
  },
  {
   "cell_type": "code",
   "execution_count": null,
   "id": "9d378915",
   "metadata": {},
   "outputs": [],
   "source": []
  }
 ],
 "metadata": {
  "kernelspec": {
   "display_name": "Python 3 (ipykernel)",
   "language": "python",
   "name": "python3"
  },
  "language_info": {
   "codemirror_mode": {
    "name": "ipython",
    "version": 3
   },
   "file_extension": ".py",
   "mimetype": "text/x-python",
   "name": "python",
   "nbconvert_exporter": "python",
   "pygments_lexer": "ipython3",
   "version": "3.7.11"
  }
 },
 "nbformat": 4,
 "nbformat_minor": 5
}
