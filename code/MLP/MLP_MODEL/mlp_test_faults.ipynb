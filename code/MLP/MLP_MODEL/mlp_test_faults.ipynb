{
 "cells": [
  {
   "cell_type": "code",
   "execution_count": 4,
   "id": "d98d20e3",
   "metadata": {},
   "outputs": [
    {
     "name": "stdout",
     "output_type": "stream",
     "text": [
      "Using device: cpu\n",
      "Using PyTorch version: 1.9.0\n"
     ]
    }
   ],
   "source": [
    "BASE_DIR = '../'*3\n",
    "MLPMODEL = BASE_DIR +'code/MLP/MLP_MODEL/mlp_model.ipynb'\n",
    "PREPRO = BASE_DIR + 'code/UTIL/dataset/faults_prepro.ipynb'\n",
    "%run {MLPMODEL}\n",
    "%run {PREPRO}"
   ]
  },
  {
   "cell_type": "code",
   "execution_count": 5,
   "id": "10238098",
   "metadata": {},
   "outputs": [],
   "source": [
    "EPOCH = 5\n",
    "BATCH_SIZE=15\n",
    "NUM_WORKERS=0\n",
    "LEARNING_RATE = 0.001"
   ]
  },
  {
   "cell_type": "code",
   "execution_count": 6,
   "id": "eaab3cb8",
   "metadata": {
    "scrolled": false
   },
   "outputs": [
    {
     "name": "stdout",
     "output_type": "stream",
     "text": [
      "Model steel_model train started \n",
      "\n",
      "\n",
      "!!!!!!!!!!!\n",
      "!! Layer !! .\n",
      "!!!!!!!!!!! \n",
      "\n",
      " Net(\n",
      "  (layer1): Sequential(\n",
      "    (0): Linear(in_features=27, out_features=12, bias=True)\n",
      "    (1): ReLU()\n",
      "    (2): Linear(in_features=12, out_features=7, bias=True)\n",
      "    (3): ReLU()\n",
      "    (4): Flatten(start_dim=1, end_dim=-1)\n",
      "    (5): Linear(in_features=7, out_features=7, bias=True)\n",
      "  )\n",
      ")\n",
      "\n",
      "!!!!!!!!!!!!!!!\n",
      "!! optimizer !! \n",
      "!!!!!!!!!!!!!!! \n",
      "\n",
      " Adam (\n",
      "Parameter Group 0\n",
      "    amsgrad: False\n",
      "    betas: (0.9, 0.999)\n",
      "    eps: 1e-08\n",
      "    lr: 0.001\n",
      "    weight_decay: 0\n",
      ")\n",
      "    Epoch 1: cost=43246.977, accuracy=0.185/0.299 (0/0 secs)\n",
      "    Epoch 1: cost=24986.891, accuracy=0.200/0.247 (1/1 secs)\n",
      "    Epoch 2: cost=589.535, accuracy=0.363/0.371 (0/1 secs)\n",
      "    Epoch 2: cost=364.337, accuracy=0.343/0.433 (1/2 secs)\n",
      "    Epoch 3: cost=7.462, accuracy=0.388/0.433 (0/2 secs)\n",
      "    Epoch 3: cost=7.030, accuracy=0.373/0.433 (0/2 secs)\n",
      "    Epoch 4: cost=3.075, accuracy=0.352/0.412 (1/3 secs)\n",
      "    Epoch 4: cost=2.441, accuracy=0.359/0.412 (0/3 secs)\n",
      "    Epoch 5: cost=1.803, accuracy=0.353/0.402 (1/4 secs)\n",
      "    Epoch 5: cost=1.810, accuracy=0.343/0.402 (0/4 secs)\n",
      "Model steel_model train ended in 4 secs:\n",
      "<bound method Module.parameters of Net(\n",
      "  (layer1): Sequential(\n",
      "    (0): Linear(in_features=27, out_features=12, bias=True)\n",
      "    (1): ReLU()\n",
      "    (2): Linear(in_features=12, out_features=7, bias=True)\n",
      "    (3): ReLU()\n",
      "    (4): Flatten(start_dim=1, end_dim=-1)\n",
      "    (5): Linear(in_features=7, out_features=7, bias=True)\n",
      "  )\n",
      ")>\n",
      "Model steel_model test report: accuracy = 0.388, (0 secs)\n",
      "\n",
      "Model steel_model Visualization\n",
      "추정확률분포 [13,11,17, 9,13,15,21] => 추정 Other_Faults : 정답 Pastry => X\n",
      "추정확률분포 [13,11,17, 9,13,15,21] => 추정 Other_Faults : 정답 Z_Scratch => X\n",
      "추정확률분포 [13,11,17, 9,13,15,21] => 추정 Other_Faults : 정답 Other_Faults => O\n"
     ]
    }
   ],
   "source": [
    "sd = SteelDataset()\n",
    "sm = Mlp_Torch('steel_model', sd, [12,7])\n",
    "sm.exec_all(epoch_count=EPOCH, report=40, batch_size =BATCH_SIZE \\\n",
    "           , learning_rate = LEARNING_RATE , num_workers = NUM_WORKERS)"
   ]
  },
  {
   "cell_type": "code",
   "execution_count": 84,
   "id": "153c18fc",
   "metadata": {},
   "outputs": [
    {
     "data": {
      "text/plain": [
       "tensor([4, 3, 6, 6, 5, 1, 0, 2, 6, 1, 0, 0, 1, 2, 2, 2, 6, 5, 5, 1, 0, 6, 6, 5,\n",
       "        2, 1, 6, 0, 1, 6])"
      ]
     },
     "execution_count": 84,
     "metadata": {},
     "output_type": "execute_result"
    }
   ],
   "source": [
    "torch.argmax(a,dim=1)"
   ]
  },
  {
   "cell_type": "code",
   "execution_count": 79,
   "id": "9be84099",
   "metadata": {},
   "outputs": [
    {
     "data": {
      "text/plain": [
       "tensor(4)"
      ]
     },
     "execution_count": 79,
     "metadata": {},
     "output_type": "execute_result"
    }
   ],
   "source": [
    "torch.argmax(a)"
   ]
  },
  {
   "cell_type": "code",
   "execution_count": 75,
   "id": "f8dd3ec7",
   "metadata": {},
   "outputs": [
    {
     "data": {
      "text/plain": [
       "torch.Size([30, 7])"
      ]
     },
     "execution_count": 75,
     "metadata": {},
     "output_type": "execute_result"
    }
   ],
   "source": [
    "a.shape"
   ]
  },
  {
   "cell_type": "code",
   "execution_count": null,
   "id": "3f73360f",
   "metadata": {},
   "outputs": [],
   "source": []
  }
 ],
 "metadata": {
  "kernelspec": {
   "display_name": "Python 3 (ipykernel)",
   "language": "python",
   "name": "python3"
  },
  "language_info": {
   "codemirror_mode": {
    "name": "ipython",
    "version": 3
   },
   "file_extension": ".py",
   "mimetype": "text/x-python",
   "name": "python",
   "nbconvert_exporter": "python",
   "pygments_lexer": "ipython3",
   "version": "3.7.0"
  }
 },
 "nbformat": 4,
 "nbformat_minor": 5
}
