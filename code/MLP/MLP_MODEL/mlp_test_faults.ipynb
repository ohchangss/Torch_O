{
 "cells": [
  {
   "cell_type": "code",
   "execution_count": 229,
   "id": "d98d20e3",
   "metadata": {},
   "outputs": [
    {
     "name": "stdout",
     "output_type": "stream",
     "text": [
      "Using device: cuda\n",
      "NVIDIA GeForce RTX 3060 Laptop GPU\n",
      "Memory Usage:\n",
      "Allocated: 0.0 GB\n",
      "Cached:    0.0 GB\n",
      "Using PyTorch version: 1.10.1\n"
     ]
    }
   ],
   "source": [
    "BASE_DIR = '../'*3\n",
    "MLPMODEL = BASE_DIR +'code/MLP/MLP_MODEL/mlp_model.ipynb'\n",
    "PREPRO = BASE_DIR + 'code/UTIL/dataset/faults_prepro.ipynb'\n",
    "%run {MLPMODEL}\n",
    "%run {PREPRO}"
   ]
  },
  {
   "cell_type": "code",
   "execution_count": 230,
   "id": "10238098",
   "metadata": {},
   "outputs": [],
   "source": [
    "EPOCH = 50\n",
    "BATCH_SIZE=20\n",
    "NUM_WORKERS=0\n",
    "LEARNING_RATE = 0.0001"
   ]
  },
  {
   "cell_type": "code",
   "execution_count": 231,
   "id": "eaab3cb8",
   "metadata": {
    "scrolled": false
   },
   "outputs": [
    {
     "name": "stdout",
     "output_type": "stream",
     "text": [
      "Model steel_model train started \n",
      "\n",
      "\n",
      "CrossEntropyLoss()\n",
      "!!!!!!!!!!!\n",
      "!! Layer !! .\n",
      "!!!!!!!!!!! \n",
      "\n",
      " Net(\n",
      "  (layer1): Sequential(\n",
      "    (0): Linear(in_features=27, out_features=12, bias=True)\n",
      "    (1): ReLU()\n",
      "    (2): Linear(in_features=12, out_features=6, bias=True)\n",
      "    (3): ReLU()\n",
      "    (4): Linear(in_features=6, out_features=4, bias=True)\n",
      "    (5): ReLU()\n",
      "    (6): Linear(in_features=4, out_features=7, bias=True)\n",
      "  )\n",
      ")\n",
      "\n",
      "!!!!!!!!!!!!!!!\n",
      "!! optimizer !! \n",
      "!!!!!!!!!!!!!!! \n",
      "\n",
      " SGD (\n",
      "Parameter Group 0\n",
      "    dampening: 0\n",
      "    lr: 0.0001\n",
      "    momentum: 0\n",
      "    nesterov: False\n",
      "    weight_decay: 0\n",
      ")\n",
      "    Epoch 2: cost=38.568, accuracy=0.347/0.300 (1/1 secs)\n",
      "    Epoch 4: cost=38.120, accuracy=0.347/0.350 (0/1 secs)\n",
      "    Epoch 6: cost=37.710, accuracy=0.347/0.320 (0/1 secs)\n",
      "    Epoch 8: cost=37.337, accuracy=0.347/0.390 (0/1 secs)\n",
      "    Epoch 10: cost=36.997, accuracy=0.347/0.350 (0/1 secs)\n",
      "    Epoch 12: cost=36.689, accuracy=0.347/0.360 (1/2 secs)\n",
      "    Epoch 14: cost=36.408, accuracy=0.347/0.360 (0/2 secs)\n",
      "    Epoch 16: cost=36.154, accuracy=0.347/0.310 (0/2 secs)\n",
      "    Epoch 18: cost=35.924, accuracy=0.347/0.360 (0/2 secs)\n",
      "    Epoch 20: cost=35.714, accuracy=0.347/0.300 (0/2 secs)\n",
      "    Epoch 22: cost=35.525, accuracy=0.347/0.410 (1/3 secs)\n",
      "    Epoch 24: cost=35.353, accuracy=0.347/0.370 (0/3 secs)\n",
      "    Epoch 26: cost=35.197, accuracy=0.347/0.320 (0/3 secs)\n",
      "    Epoch 28: cost=35.055, accuracy=0.347/0.300 (0/3 secs)\n",
      "    Epoch 30: cost=34.927, accuracy=0.347/0.380 (0/3 secs)\n",
      "    Epoch 32: cost=34.810, accuracy=0.347/0.330 (1/4 secs)\n",
      "    Epoch 34: cost=34.703, accuracy=0.347/0.270 (0/4 secs)\n",
      "    Epoch 36: cost=34.606, accuracy=0.347/0.300 (0/4 secs)\n",
      "    Epoch 38: cost=34.518, accuracy=0.347/0.370 (0/4 secs)\n",
      "    Epoch 40: cost=34.437, accuracy=0.347/0.320 (0/4 secs)\n",
      "    Epoch 42: cost=34.363, accuracy=0.347/0.330 (1/5 secs)\n",
      "    Epoch 44: cost=34.295, accuracy=0.347/0.300 (0/5 secs)\n",
      "    Epoch 46: cost=34.233, accuracy=0.347/0.350 (0/5 secs)\n",
      "    Epoch 48: cost=34.176, accuracy=0.347/0.340 (0/5 secs)\n",
      "    Epoch 50: cost=34.123, accuracy=0.347/0.330 (0/5 secs)\n",
      "Model steel_model train ended in 5 secs:\n",
      "Model steel_model test report: accuracy = 0.355, (0 secs)\n",
      "\n",
      "Model steel_model Visualization\n",
      "추정확률분포 [10,10,17, 8, 7,18,30] => 추정 Other_Faults : 정답 Pastry => X\n",
      "추정확률분포 [10,10,17, 8, 7,18,30] => 추정 Other_Faults : 정답 Z_Scratch => X\n",
      "추정확률분포 [10,10,17, 8, 7,18,30] => 추정 Other_Faults : 정답 Z_Scratch => X\n"
     ]
    }
   ],
   "source": [
    "sd = SteelDataset()\n",
    "sm = Mlp_Torch('steel_model', sd, [12,6,4])\n",
    "sm.exec_all(epoch_count=EPOCH, report=2, batch_size =BATCH_SIZE \\\n",
    "           , learning_rate = LEARNING_RATE , num_workers = NUM_WORKERS)"
   ]
  },
  {
   "cell_type": "code",
   "execution_count": null,
   "id": "02c4358b",
   "metadata": {},
   "outputs": [],
   "source": []
  }
 ],
 "metadata": {
  "kernelspec": {
   "display_name": "Python 3 (ipykernel)",
   "language": "python",
   "name": "python3"
  },
  "language_info": {
   "codemirror_mode": {
    "name": "ipython",
    "version": 3
   },
   "file_extension": ".py",
   "mimetype": "text/x-python",
   "name": "python",
   "nbconvert_exporter": "python",
   "pygments_lexer": "ipython3",
   "version": "3.7.11"
  }
 },
 "nbformat": 4,
 "nbformat_minor": 5
}
