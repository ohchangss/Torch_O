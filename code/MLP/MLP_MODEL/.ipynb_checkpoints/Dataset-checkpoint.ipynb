{
 "cells": [
  {
   "cell_type": "code",
   "execution_count": 2,
   "id": "349dc07f",
   "metadata": {},
   "outputs": [],
   "source": [
    "BASE_DIR = '../'*3"
   ]
  },
  {
   "cell_type": "code",
   "execution_count": 4,
   "id": "fcae8056",
   "metadata": {},
   "outputs": [],
   "source": [
    "from torch.utils.data import DataLoader, Dataset"
   ]
  },
  {
   "cell_type": "code",
   "execution_count": 5,
   "id": "e5c5ea71",
   "metadata": {},
   "outputs": [],
   "source": [
    "class Dataset_Mlp(object):\n",
    "    def __init__(self, name, mode):\n",
    "        self.name = name\n",
    "        self.mode = mode\n",
    "    \n",
    "    def __str__(self):\n",
    "        return '{}({}, {}+{}+{})'.format(self.name, self.mode, \\\n",
    "                   len(self.tr_xs), len(self.te_xs), len(self.va_xs))\n",
    "\n",
    "    @property\n",
    "    def train_count(self):\n",
    "        return len(self.tr_xs)"
   ]
  },
  {
   "cell_type": "code",
   "execution_count": null,
   "id": "6253b495",
   "metadata": {},
   "outputs": [],
   "source": [
    "# def aux_dataset(self):\n",
    "#     self.input_shape\n",
    "#     self.output_shape \n",
    "#     => 이거는 각 데이터마다 다르니깐 전처리 단계에서 "
   ]
  },
  {
   "cell_type": "code",
   "execution_count": 7,
   "id": "54afc779",
   "metadata": {},
   "outputs": [],
   "source": [
    "class Torch_Dataset(Dataset_Mlp, Dataset):\n",
    "    def __init__(self):\n",
    "        pass\n",
    "    def __get_item(self):\n",
    "        pass"
   ]
  },
  {
   "cell_type": "code",
   "execution_count": null,
   "id": "9938fa71",
   "metadata": {},
   "outputs": [],
   "source": [
    "def dataloader(self):\n",
    "    pass\n",
    "# 데이터 로더 해서 처리"
   ]
  },
  {
   "cell_type": "code",
   "execution_count": 8,
   "id": "378f50e0",
   "metadata": {},
   "outputs": [],
   "source": [
    "def train_test_val_split(self):\n",
    "    pass"
   ]
  },
  {
   "cell_type": "code",
   "execution_count": null,
   "id": "2ed40f35",
   "metadata": {},
   "outputs": [],
   "source": []
  }
 ],
 "metadata": {
  "kernelspec": {
   "display_name": "Python 3 (ipykernel)",
   "language": "python",
   "name": "python3"
  },
  "language_info": {
   "codemirror_mode": {
    "name": "ipython",
    "version": 3
   },
   "file_extension": ".py",
   "mimetype": "text/x-python",
   "name": "python",
   "nbconvert_exporter": "python",
   "pygments_lexer": "ipython3",
   "version": "3.7.0"
  }
 },
 "nbformat": 4,
 "nbformat_minor": 5
}
