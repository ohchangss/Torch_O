{
 "cells": [
  {
   "cell_type": "code",
   "execution_count": 94,
   "id": "61b6d874",
   "metadata": {},
   "outputs": [
    {
     "name": "stdout",
     "output_type": "stream",
     "text": [
      "False\n",
      "False\n",
      "Using device: cuda\n",
      "GeForce GTX 1660 Ti\n",
      "Memory Usage:\n",
      "Allocated: 0.2 GB\n",
      "Cached:    0.4 GB\n",
      "Using PyTorch version: 1.7.1\n"
     ]
    }
   ],
   "source": [
    "BASE_DIR = '../'*3\n",
    "MLPMODEL = BASE_DIR +'code/MLP/MLP_MODEL/mlp_model.ipynb'\n",
    "PREPRO = BASE_DIR + 'code/UTIL/dataset/office31_prepro.ipynb'\n",
    "%run {MLPMODEL}\n",
    "%run {PREPRO}"
   ]
  },
  {
   "cell_type": "code",
   "execution_count": 101,
   "id": "dress-purpose",
   "metadata": {},
   "outputs": [],
   "source": [
    "EPOCH = 10\n",
    "BATCH_SIZE=5\n",
    "NUM_WORKERS=0\n",
    "LEARNING_RATE = 0.0001"
   ]
  },
  {
   "cell_type": "code",
   "execution_count": 102,
   "id": "graduate-creation",
   "metadata": {
    "scrolled": true
   },
   "outputs": [
    {
     "name": "stdout",
     "output_type": "stream",
     "text": [
      "Model office31_model_1 train started \n",
      "\n",
      "\n",
      "!!!!!!!!!!!\n",
      "!! Layer !! .\n",
      "!!!!!!!!!!! \n",
      "\n",
      " Net(\n",
      "  (layer1): Sequential(\n",
      "    (0): Linear(in_features=30000, out_features=256, bias=True)\n",
      "    (1): ReLU()\n",
      "    (2): Linear(in_features=256, out_features=128, bias=True)\n",
      "    (3): ReLU()\n",
      "    (4): Linear(in_features=128, out_features=64, bias=True)\n",
      "    (5): ReLU()\n",
      "    (6): Linear(in_features=64, out_features=32, bias=True)\n",
      "    (7): ReLU()\n",
      "    (8): Linear(in_features=32, out_features=10, bias=True)\n",
      "    (9): ReLU()\n",
      "    (10): Linear(in_features=10, out_features=34, bias=True)\n",
      "  )\n",
      ")\n",
      "\n",
      "!!!!!!!!!!!!!!!\n",
      "!! optimizer !! \n",
      "!!!!!!!!!!!!!!! \n",
      "\n",
      " Adam (\n",
      "Parameter Group 0\n",
      "    amsgrad: False\n",
      "    betas: (0.9, 0.999)\n",
      "    eps: 1e-08\n",
      "    lr: 0.0001\n",
      "    weight_decay: 0\n",
      ")\n",
      "    Epoch 1: cost=5.502, accuracy=0.630+0.040/0.720+0.030 (0/0 secs)\n",
      "    Epoch 1: cost=4.962, accuracy=0.655+0.030/0.700+0.040 (0/0 secs)\n",
      "    Epoch 1: cost=4.779, accuracy=0.640+0.033/0.720+0.020 (0/0 secs)\n",
      "    Epoch 1: cost=4.683, accuracy=0.642+0.030/0.660+0.040 (0/0 secs)\n",
      "    Epoch 1: cost=4.634, accuracy=0.624+0.030/0.690+0.050 (0/0 secs)\n",
      "    Epoch 1: cost=4.593, accuracy=0.633+0.028/0.660+0.050 (0/0 secs)\n",
      "    Epoch 1: cost=4.568, accuracy=0.636+0.031/0.710+0.040 (1/1 secs)\n",
      "    Epoch 1: cost=4.544, accuracy=0.644+0.032/0.670+0.030 (0/1 secs)\n",
      "    Epoch 1: cost=4.526, accuracy=0.651+0.032/0.680+0.050 (0/1 secs)\n",
      "    Epoch 1: cost=4.510, accuracy=0.658+0.034/0.650+0.060 (0/1 secs)\n",
      "    Epoch 1: cost=4.499, accuracy=0.656+0.037/0.680+0.040 (0/1 secs)\n",
      "    Epoch 1: cost=4.489, accuracy=0.660+0.036/0.750+0.040 (0/1 secs)\n",
      "    Epoch 1: cost=4.479, accuracy=0.666+0.035/0.720+0.050 (0/1 secs)\n",
      "    Epoch 1: cost=4.474, accuracy=0.665+0.033/0.720+0.040 (1/2 secs)\n",
      "    Epoch 1: cost=4.469, accuracy=0.666+0.032/0.680+0.050 (0/2 secs)\n",
      "    Epoch 1: cost=4.468, accuracy=0.660+0.032/0.630+0.040 (0/2 secs)\n",
      "    Epoch 1: cost=4.463, accuracy=0.658+0.033/0.650+0.040 (0/2 secs)\n",
      "    Epoch 1: cost=4.459, accuracy=0.660+0.033/0.720+0.040 (0/2 secs)\n",
      "    Epoch 1: cost=4.457, accuracy=0.661+0.032/0.740+0.020 (0/2 secs)\n",
      "    Epoch 1: cost=4.452, accuracy=0.664+0.032/0.710+0.050 (0/2 secs)\n",
      "    Epoch 1: cost=4.451, accuracy=0.664+0.031/0.710+0.020 (1/3 secs)\n",
      "    Epoch 1: cost=4.447, accuracy=0.668+0.033/0.670+0.050 (0/3 secs)\n",
      "    Epoch 1: cost=4.444, accuracy=0.669+0.032/0.670+0.060 (0/3 secs)\n",
      "    Epoch 1: cost=4.440, accuracy=0.673+0.032/0.700+0.020 (0/3 secs)\n",
      "    Epoch 1: cost=4.438, accuracy=0.672+0.032/0.690+0.040 (0/3 secs)\n",
      "    Epoch 1: cost=4.437, accuracy=0.670+0.033/0.690+0.040 (0/3 secs)\n",
      "    Epoch 1: cost=4.432, accuracy=0.673+0.033/0.660+0.060 (0/3 secs)\n",
      "    Epoch 1: cost=4.429, accuracy=0.676+0.033/0.670+0.050 (0/3 secs)\n",
      "    Epoch 1: cost=4.426, accuracy=0.678+0.033/0.700+0.040 (1/4 secs)\n",
      "    Epoch 1: cost=4.421, accuracy=0.682+0.034/0.610+0.020 (0/4 secs)\n",
      "    Epoch 1: cost=4.420, accuracy=0.681+0.033/0.660+0.030 (0/4 secs)\n",
      "    Epoch 1: cost=4.417, accuracy=0.684+0.033/0.710+0.040 (0/4 secs)\n",
      "    Epoch 2: cost=4.330, accuracy=0.770+0.050/0.740+0.020 (0/4 secs)\n",
      "    Epoch 2: cost=4.371, accuracy=0.720+0.030/0.710+0.040 (0/4 secs)\n",
      "    Epoch 2: cost=4.370, accuracy=0.707+0.030/0.660+0.050 (1/5 secs)\n",
      "    Epoch 2: cost=4.364, accuracy=0.712+0.033/0.690+0.010 (0/5 secs)\n",
      "    Epoch 2: cost=4.379, accuracy=0.682+0.032/0.700+0.010 (0/5 secs)\n",
      "    Epoch 2: cost=4.378, accuracy=0.688+0.035/0.750+0.050 (0/5 secs)\n",
      "    Epoch 2: cost=4.378, accuracy=0.687+0.034/0.620+0.030 (0/5 secs)\n",
      "    Epoch 2: cost=4.379, accuracy=0.681+0.032/0.720+0.030 (0/5 secs)\n",
      "    Epoch 2: cost=4.378, accuracy=0.684+0.030/0.740+0.020 (0/5 secs)\n",
      "    Epoch 2: cost=4.375, accuracy=0.686+0.029/0.690+0.040 (0/5 secs)\n",
      "    Epoch 2: cost=4.378, accuracy=0.682+0.029/0.670+0.050 (1/6 secs)\n",
      "    Epoch 2: cost=4.375, accuracy=0.685+0.030/0.740+0.040 (0/6 secs)\n",
      "    Epoch 2: cost=4.372, accuracy=0.686+0.032/0.700+0.040 (0/6 secs)\n",
      "    Epoch 2: cost=4.367, accuracy=0.685+0.034/0.720+0.020 (0/6 secs)\n",
      "    Epoch 2: cost=4.365, accuracy=0.688+0.033/0.700+0.020 (0/6 secs)\n",
      "    Epoch 2: cost=4.369, accuracy=0.684+0.033/0.720+0.010 (0/6 secs)\n",
      "    Epoch 2: cost=4.373, accuracy=0.678+0.032/0.740+0.040 (0/6 secs)\n",
      "    Epoch 2: cost=4.369, accuracy=0.682+0.033/0.690+0.020 (1/7 secs)\n",
      "    Epoch 2: cost=4.368, accuracy=0.684+0.033/0.740+0.020 (0/7 secs)\n",
      "    Epoch 2: cost=4.366, accuracy=0.687+0.032/0.750+0.040 (0/7 secs)\n",
      "    Epoch 2: cost=4.365, accuracy=0.687+0.032/0.700+0.040 (0/7 secs)\n",
      "    Epoch 2: cost=4.365, accuracy=0.687+0.032/0.680+0.050 (0/7 secs)\n",
      "    Epoch 2: cost=4.363, accuracy=0.687+0.033/0.650+0.040 (0/7 secs)\n",
      "    Epoch 2: cost=4.366, accuracy=0.685+0.032/0.640+0.030 (0/7 secs)\n",
      "    Epoch 2: cost=4.365, accuracy=0.687+0.032/0.750+0.050 (0/7 secs)\n",
      "    Epoch 2: cost=4.363, accuracy=0.688+0.032/0.640+0.060 (1/8 secs)\n",
      "    Epoch 2: cost=4.362, accuracy=0.688+0.033/0.710+0.030 (0/8 secs)\n",
      "    Epoch 2: cost=4.362, accuracy=0.688+0.033/0.660+0.050 (0/8 secs)\n",
      "    Epoch 2: cost=4.362, accuracy=0.688+0.034/0.670+0.060 (0/8 secs)\n",
      "    Epoch 2: cost=4.363, accuracy=0.687+0.033/0.740+0.050 (0/8 secs)\n",
      "    Epoch 2: cost=4.363, accuracy=0.687+0.033/0.710+0.040 (0/8 secs)\n",
      "    Epoch 2: cost=4.363, accuracy=0.687+0.033/0.700+0.040 (0/8 secs)\n",
      "    Epoch 3: cost=4.341, accuracy=0.680+0.090/0.740+0.040 (1/9 secs)\n",
      "    Epoch 3: cost=4.357, accuracy=0.670+0.050/0.720+0.030 (0/9 secs)\n",
      "    Epoch 3: cost=4.380, accuracy=0.643+0.040/0.660+0.030 (0/9 secs)\n",
      "    Epoch 3: cost=4.374, accuracy=0.647+0.053/0.660+0.040 (0/9 secs)\n",
      "    Epoch 3: cost=4.371, accuracy=0.654+0.050/0.740+0.030 (0/9 secs)\n",
      "    Epoch 3: cost=4.361, accuracy=0.663+0.048/0.650+0.030 (0/9 secs)\n",
      "    Epoch 3: cost=4.361, accuracy=0.664+0.043/0.780+0.020 (0/9 secs)\n",
      "    Epoch 3: cost=4.358, accuracy=0.670+0.042/0.670+0.050 (1/10 secs)\n",
      "    Epoch 3: cost=4.352, accuracy=0.677+0.041/0.670+0.030 (0/10 secs)\n",
      "    Epoch 3: cost=4.353, accuracy=0.675+0.041/0.740+0.020 (0/10 secs)\n",
      "    Epoch 3: cost=4.351, accuracy=0.677+0.041/0.670+0.020 (0/10 secs)\n",
      "    Epoch 3: cost=4.351, accuracy=0.677+0.040/0.730+0.040 (0/10 secs)\n",
      "    Epoch 3: cost=4.356, accuracy=0.674+0.037/0.660+0.050 (0/10 secs)\n",
      "    Epoch 3: cost=4.353, accuracy=0.678+0.037/0.730+0.040 (0/10 secs)\n",
      "    Epoch 3: cost=4.356, accuracy=0.676+0.038/0.770+0.020 (1/11 secs)\n",
      "    Epoch 3: cost=4.356, accuracy=0.676+0.039/0.710+0.020 (0/11 secs)\n",
      "    Epoch 3: cost=4.358, accuracy=0.675+0.039/0.720+0.050 (0/11 secs)\n",
      "    Epoch 3: cost=4.353, accuracy=0.682+0.037/0.720+0.040 (0/11 secs)\n",
      "    Epoch 3: cost=4.352, accuracy=0.683+0.037/0.680+0.050 (0/11 secs)\n",
      "    Epoch 3: cost=4.350, accuracy=0.686+0.037/0.730+0.040 (0/11 secs)\n",
      "    Epoch 3: cost=4.350, accuracy=0.685+0.038/0.670+0.000 (0/11 secs)\n",
      "    Epoch 3: cost=4.346, accuracy=0.689+0.037/0.740+0.050 (0/11 secs)\n",
      "    Epoch 3: cost=4.346, accuracy=0.691+0.037/0.730+0.050 (1/12 secs)\n",
      "    Epoch 3: cost=4.348, accuracy=0.689+0.036/0.680+0.020 (0/12 secs)\n",
      "    Epoch 3: cost=4.351, accuracy=0.685+0.035/0.730+0.020 (0/12 secs)\n",
      "    Epoch 3: cost=4.351, accuracy=0.683+0.035/0.760+0.020 (0/12 secs)\n",
      "    Epoch 3: cost=4.352, accuracy=0.683+0.035/0.710+0.040 (0/12 secs)\n",
      "    Epoch 3: cost=4.350, accuracy=0.685+0.034/0.680+0.010 (0/12 secs)\n",
      "    Epoch 3: cost=4.350, accuracy=0.684+0.034/0.720+0.010 (0/12 secs)\n",
      "    Epoch 3: cost=4.350, accuracy=0.684+0.033/0.740+0.040 (1/13 secs)\n",
      "    Epoch 3: cost=4.348, accuracy=0.686+0.034/0.710+0.050 (0/13 secs)\n",
      "    Epoch 3: cost=4.348, accuracy=0.686+0.034/0.730+0.050 (0/13 secs)\n",
      "    Epoch 4: cost=4.345, accuracy=0.670+0.050/0.720+0.030 (0/13 secs)\n",
      "    Epoch 4: cost=4.356, accuracy=0.665+0.040/0.710+0.060 (0/13 secs)\n",
      "    Epoch 4: cost=4.365, accuracy=0.653+0.037/0.650+0.010 (0/13 secs)\n",
      "    Epoch 4: cost=4.362, accuracy=0.652+0.035/0.690+0.060 (0/13 secs)\n",
      "    Epoch 4: cost=4.354, accuracy=0.664+0.032/0.660+0.050 (1/14 secs)\n",
      "    Epoch 4: cost=4.352, accuracy=0.668+0.032/0.710+0.030 (0/14 secs)\n",
      "    Epoch 4: cost=4.348, accuracy=0.679+0.029/0.700+0.020 (0/14 secs)\n",
      "    Epoch 4: cost=4.337, accuracy=0.689+0.031/0.690+0.020 (0/14 secs)\n",
      "    Epoch 4: cost=4.331, accuracy=0.693+0.032/0.690+0.030 (0/14 secs)\n",
      "    Epoch 4: cost=4.333, accuracy=0.691+0.035/0.690+0.030 (0/14 secs)\n",
      "    Epoch 4: cost=4.335, accuracy=0.691+0.033/0.760+0.010 (0/14 secs)\n",
      "    Epoch 4: cost=4.331, accuracy=0.694+0.032/0.700+0.030 (1/15 secs)\n"
     ]
    },
    {
     "name": "stdout",
     "output_type": "stream",
     "text": [
      "    Epoch 4: cost=4.330, accuracy=0.697+0.033/0.700+0.030 (0/15 secs)\n",
      "    Epoch 4: cost=4.329, accuracy=0.694+0.034/0.680+0.040 (0/15 secs)\n",
      "    Epoch 4: cost=4.337, accuracy=0.683+0.033/0.650+0.040 (0/15 secs)\n",
      "    Epoch 4: cost=4.336, accuracy=0.684+0.032/0.690+0.030 (0/15 secs)\n",
      "    Epoch 4: cost=4.337, accuracy=0.683+0.031/0.710+0.010 (0/15 secs)\n",
      "    Epoch 4: cost=4.341, accuracy=0.678+0.029/0.710+0.050 (0/15 secs)\n",
      "    Epoch 4: cost=4.343, accuracy=0.677+0.031/0.640+0.040 (1/16 secs)\n",
      "    Epoch 4: cost=4.343, accuracy=0.678+0.031/0.710+0.030 (0/16 secs)\n",
      "    Epoch 4: cost=4.341, accuracy=0.679+0.030/0.700+0.050 (0/16 secs)\n",
      "    Epoch 4: cost=4.341, accuracy=0.680+0.030/0.680+0.050 (0/16 secs)\n",
      "    Epoch 4: cost=4.341, accuracy=0.680+0.029/0.750+0.030 (0/16 secs)\n",
      "    Epoch 4: cost=4.338, accuracy=0.683+0.030/0.730+0.030 (0/16 secs)\n",
      "    Epoch 4: cost=4.338, accuracy=0.684+0.030/0.700+0.040 (0/16 secs)\n",
      "    Epoch 4: cost=4.337, accuracy=0.684+0.032/0.640+0.030 (0/16 secs)\n",
      "    Epoch 4: cost=4.337, accuracy=0.684+0.033/0.730+0.050 (1/17 secs)\n",
      "    Epoch 4: cost=4.336, accuracy=0.686+0.032/0.660+0.030 (0/17 secs)\n",
      "    Epoch 4: cost=4.339, accuracy=0.683+0.032/0.700+0.030 (0/17 secs)\n",
      "    Epoch 4: cost=4.338, accuracy=0.684+0.032/0.730+0.030 (0/17 secs)\n",
      "    Epoch 4: cost=4.337, accuracy=0.685+0.033/0.680+0.030 (0/17 secs)\n",
      "    Epoch 4: cost=4.335, accuracy=0.686+0.034/0.710+0.040 (0/17 secs)\n",
      "    Epoch 5: cost=4.279, accuracy=0.720+0.070/0.740+0.030 (1/18 secs)\n",
      "    Epoch 5: cost=4.305, accuracy=0.695+0.055/0.710+0.020 (0/18 secs)\n",
      "    Epoch 5: cost=4.277, accuracy=0.737+0.047/0.710+0.010 (0/18 secs)\n",
      "    Epoch 5: cost=4.290, accuracy=0.725+0.043/0.620+0.040 (0/18 secs)\n",
      "    Epoch 5: cost=4.290, accuracy=0.724+0.038/0.670+0.030 (0/18 secs)\n",
      "    Epoch 5: cost=4.285, accuracy=0.725+0.042/0.700+0.030 (0/18 secs)\n",
      "    Epoch 5: cost=4.298, accuracy=0.714+0.036/0.670+0.040 (0/18 secs)\n",
      "    Epoch 5: cost=4.308, accuracy=0.701+0.037/0.680+0.030 (0/18 secs)\n",
      "    Epoch 5: cost=4.309, accuracy=0.701+0.037/0.680+0.020 (1/19 secs)\n",
      "    Epoch 5: cost=4.310, accuracy=0.702+0.037/0.680+0.040 (0/19 secs)\n",
      "    Epoch 5: cost=4.314, accuracy=0.696+0.036/0.670+0.040 (0/19 secs)\n",
      "    Epoch 5: cost=4.324, accuracy=0.687+0.034/0.660+0.040 (0/19 secs)\n",
      "    Epoch 5: cost=4.322, accuracy=0.689+0.036/0.700+0.050 (0/19 secs)\n",
      "    Epoch 5: cost=4.325, accuracy=0.686+0.036/0.720+0.030 (0/19 secs)\n",
      "    Epoch 5: cost=4.323, accuracy=0.687+0.035/0.680+0.030 (0/19 secs)\n",
      "    Epoch 5: cost=4.322, accuracy=0.691+0.034/0.710+0.050 (1/20 secs)\n",
      "    Epoch 5: cost=4.325, accuracy=0.689+0.034/0.730+0.040 (0/20 secs)\n",
      "    Epoch 5: cost=4.322, accuracy=0.690+0.034/0.710+0.020 (0/20 secs)\n",
      "    Epoch 5: cost=4.324, accuracy=0.688+0.034/0.690+0.040 (0/20 secs)\n",
      "    Epoch 5: cost=4.326, accuracy=0.686+0.034/0.730+0.050 (0/20 secs)\n",
      "    Epoch 5: cost=4.329, accuracy=0.682+0.033/0.630+0.050 (0/20 secs)\n",
      "    Epoch 5: cost=4.329, accuracy=0.684+0.034/0.720+0.040 (0/20 secs)\n",
      "    Epoch 5: cost=4.330, accuracy=0.683+0.034/0.690+0.020 (1/21 secs)\n",
      "    Epoch 5: cost=4.330, accuracy=0.683+0.033/0.690+0.050 (0/21 secs)\n",
      "    Epoch 5: cost=4.331, accuracy=0.682+0.032/0.740+0.050 (0/21 secs)\n",
      "    Epoch 5: cost=4.327, accuracy=0.685+0.035/0.730+0.010 (0/21 secs)\n",
      "    Epoch 5: cost=4.325, accuracy=0.687+0.036/0.690+0.030 (0/21 secs)\n",
      "    Epoch 5: cost=4.325, accuracy=0.686+0.035/0.670+0.030 (0/21 secs)\n",
      "    Epoch 5: cost=4.324, accuracy=0.687+0.034/0.730+0.050 (0/21 secs)\n",
      "    Epoch 5: cost=4.323, accuracy=0.687+0.034/0.680+0.030 (0/21 secs)\n",
      "    Epoch 5: cost=4.324, accuracy=0.686+0.035/0.730+0.040 (1/22 secs)\n",
      "    Epoch 5: cost=4.324, accuracy=0.686+0.034/0.620+0.030 (0/22 secs)\n",
      "    Epoch 6: cost=4.238, accuracy=0.770+0.020/0.680+0.020 (0/22 secs)\n",
      "    Epoch 6: cost=4.257, accuracy=0.755+0.045/0.750+0.040 (0/22 secs)\n",
      "    Epoch 6: cost=4.294, accuracy=0.707+0.040/0.630+0.050 (0/22 secs)\n",
      "    Epoch 6: cost=4.288, accuracy=0.710+0.043/0.760+0.050 (0/22 secs)\n",
      "    Epoch 6: cost=4.293, accuracy=0.706+0.042/0.730+0.040 (1/23 secs)\n",
      "    Epoch 6: cost=4.310, accuracy=0.692+0.037/0.700+0.010 (0/23 secs)\n",
      "    Epoch 6: cost=4.312, accuracy=0.687+0.039/0.700+0.020 (0/23 secs)\n",
      "    Epoch 6: cost=4.319, accuracy=0.681+0.035/0.720+0.030 (0/23 secs)\n",
      "    Epoch 6: cost=4.319, accuracy=0.682+0.032/0.710+0.050 (0/23 secs)\n",
      "    Epoch 6: cost=4.320, accuracy=0.681+0.033/0.740+0.010 (0/23 secs)\n",
      "    Epoch 6: cost=4.318, accuracy=0.679+0.032/0.710+0.030 (0/23 secs)\n",
      "    Epoch 6: cost=4.317, accuracy=0.683+0.032/0.730+0.020 (0/23 secs)\n",
      "    Epoch 6: cost=4.317, accuracy=0.683+0.033/0.760+0.030 (1/24 secs)\n",
      "    Epoch 6: cost=4.312, accuracy=0.687+0.032/0.690+0.050 (0/24 secs)\n",
      "    Epoch 6: cost=4.318, accuracy=0.682+0.031/0.650+0.050 (0/24 secs)\n",
      "    Epoch 6: cost=4.316, accuracy=0.684+0.033/0.690+0.050 (0/24 secs)\n",
      "    Epoch 6: cost=4.315, accuracy=0.686+0.034/0.780+0.020 (0/24 secs)\n",
      "    Epoch 6: cost=4.318, accuracy=0.683+0.033/0.720+0.050 (0/24 secs)\n",
      "    Epoch 6: cost=4.316, accuracy=0.685+0.034/0.690+0.040 (0/24 secs)\n",
      "    Epoch 6: cost=4.325, accuracy=0.676+0.033/0.680+0.030 (1/25 secs)\n",
      "    Epoch 6: cost=4.327, accuracy=0.674+0.032/0.670+0.050 (0/25 secs)\n",
      "    Epoch 6: cost=4.327, accuracy=0.675+0.032/0.670+0.030 (0/25 secs)\n",
      "    Epoch 6: cost=4.323, accuracy=0.678+0.031/0.720+0.040 (0/25 secs)\n",
      "    Epoch 6: cost=4.321, accuracy=0.681+0.031/0.690+0.050 (0/25 secs)\n",
      "    Epoch 6: cost=4.320, accuracy=0.681+0.032/0.670+0.010 (0/25 secs)\n",
      "    Epoch 6: cost=4.320, accuracy=0.681+0.031/0.700+0.050 (0/25 secs)\n",
      "    Epoch 6: cost=4.320, accuracy=0.681+0.031/0.650+0.030 (0/25 secs)\n",
      "    Epoch 6: cost=4.321, accuracy=0.680+0.032/0.640+0.030 (1/26 secs)\n",
      "    Epoch 6: cost=4.320, accuracy=0.681+0.032/0.720+0.040 (0/26 secs)\n",
      "    Epoch 6: cost=4.318, accuracy=0.683+0.032/0.700+0.020 (0/26 secs)\n",
      "    Epoch 6: cost=4.317, accuracy=0.684+0.033/0.670+0.020 (0/26 secs)\n",
      "    Epoch 6: cost=4.315, accuracy=0.686+0.033/0.660+0.040 (0/26 secs)\n",
      "    Epoch 7: cost=4.362, accuracy=0.650+0.010/0.680+0.020 (0/26 secs)\n",
      "    Epoch 7: cost=4.370, accuracy=0.640+0.015/0.670+0.040 (1/27 secs)\n",
      "    Epoch 7: cost=4.344, accuracy=0.657+0.017/0.690+0.030 (0/27 secs)\n",
      "    Epoch 7: cost=4.326, accuracy=0.667+0.023/0.700+0.050 (0/27 secs)\n",
      "    Epoch 7: cost=4.325, accuracy=0.670+0.018/0.660+0.060 (0/27 secs)\n",
      "    Epoch 7: cost=4.322, accuracy=0.677+0.017/0.650+0.030 (0/27 secs)\n",
      "    Epoch 7: cost=4.315, accuracy=0.686+0.024/0.670+0.040 (0/27 secs)\n",
      "    Epoch 7: cost=4.312, accuracy=0.686+0.025/0.730+0.040 (0/27 secs)\n",
      "    Epoch 7: cost=4.298, accuracy=0.699+0.031/0.630+0.070 (1/28 secs)\n",
      "    Epoch 7: cost=4.299, accuracy=0.696+0.031/0.750+0.020 (0/28 secs)\n",
      "    Epoch 7: cost=4.306, accuracy=0.688+0.033/0.700+0.010 (0/28 secs)\n",
      "    Epoch 7: cost=4.310, accuracy=0.686+0.031/0.720+0.020 (0/28 secs)\n",
      "    Epoch 7: cost=4.313, accuracy=0.682+0.030/0.650+0.040 (0/28 secs)\n",
      "    Epoch 7: cost=4.318, accuracy=0.677+0.030/0.740+0.040 (0/28 secs)\n",
      "    Epoch 7: cost=4.315, accuracy=0.679+0.031/0.750+0.030 (0/28 secs)\n",
      "    Epoch 7: cost=4.314, accuracy=0.681+0.031/0.670+0.010 (0/28 secs)\n",
      "    Epoch 7: cost=4.306, accuracy=0.688+0.031/0.710+0.030 (1/29 secs)\n",
      "    Epoch 7: cost=4.309, accuracy=0.686+0.031/0.710+0.050 (0/29 secs)\n",
      "    Epoch 7: cost=4.310, accuracy=0.685+0.029/0.720+0.050 (0/29 secs)\n",
      "    Epoch 7: cost=4.307, accuracy=0.688+0.029/0.690+0.050 (0/29 secs)\n",
      "    Epoch 7: cost=4.305, accuracy=0.690+0.030/0.720+0.030 (0/29 secs)\n",
      "    Epoch 7: cost=4.305, accuracy=0.690+0.029/0.660+0.050 (0/29 secs)\n",
      "    Epoch 7: cost=4.306, accuracy=0.690+0.028/0.700+0.010 (0/29 secs)\n",
      "    Epoch 7: cost=4.308, accuracy=0.688+0.028/0.670+0.040 (1/30 secs)\n",
      "    Epoch 7: cost=4.310, accuracy=0.684+0.029/0.690+0.030 (0/30 secs)\n",
      "    Epoch 7: cost=4.310, accuracy=0.685+0.030/0.700+0.040 (0/30 secs)\n",
      "    Epoch 7: cost=4.310, accuracy=0.684+0.030/0.710+0.030 (0/30 secs)\n",
      "    Epoch 7: cost=4.310, accuracy=0.684+0.032/0.660+0.030 (0/30 secs)\n",
      "    Epoch 7: cost=4.310, accuracy=0.684+0.031/0.620+0.040 (0/30 secs)\n",
      "    Epoch 7: cost=4.312, accuracy=0.682+0.032/0.710+0.040 (0/30 secs)\n",
      "    Epoch 7: cost=4.311, accuracy=0.682+0.032/0.710+0.040 (0/30 secs)\n",
      "    Epoch 7: cost=4.308, accuracy=0.685+0.032/0.710+0.030 (1/31 secs)\n",
      "    Epoch 8: cost=4.251, accuracy=0.730+0.020/0.670+0.020 (0/31 secs)\n",
      "    Epoch 8: cost=4.233, accuracy=0.745+0.055/0.790+0.040 (0/31 secs)\n"
     ]
    },
    {
     "name": "stdout",
     "output_type": "stream",
     "text": [
      "    Epoch 8: cost=4.287, accuracy=0.693+0.043/0.670+0.030 (0/31 secs)\n",
      "    Epoch 8: cost=4.299, accuracy=0.680+0.038/0.710+0.030 (0/31 secs)\n",
      "    Epoch 8: cost=4.282, accuracy=0.696+0.040/0.770+0.020 (0/31 secs)\n",
      "    Epoch 8: cost=4.289, accuracy=0.690+0.037/0.710+0.040 (1/32 secs)\n",
      "    Epoch 8: cost=4.285, accuracy=0.693+0.036/0.690+0.050 (0/32 secs)\n",
      "    Epoch 8: cost=4.295, accuracy=0.688+0.034/0.650+0.020 (0/32 secs)\n",
      "    Epoch 8: cost=4.298, accuracy=0.688+0.031/0.640+0.040 (0/32 secs)\n",
      "    Epoch 8: cost=4.297, accuracy=0.687+0.032/0.580+0.040 (0/32 secs)\n",
      "    Epoch 8: cost=4.298, accuracy=0.686+0.031/0.690+0.040 (0/32 secs)\n",
      "    Epoch 8: cost=4.298, accuracy=0.686+0.031/0.640+0.040 (0/32 secs)\n",
      "    Epoch 8: cost=4.296, accuracy=0.686+0.032/0.700+0.040 (0/32 secs)\n",
      "    Epoch 8: cost=4.292, accuracy=0.692+0.033/0.670+0.030 (1/33 secs)\n",
      "    Epoch 8: cost=4.294, accuracy=0.691+0.031/0.710+0.030 (0/33 secs)\n",
      "    Epoch 8: cost=4.297, accuracy=0.688+0.031/0.730+0.040 (0/33 secs)\n",
      "    Epoch 8: cost=4.301, accuracy=0.683+0.032/0.640+0.060 (0/33 secs)\n",
      "    Epoch 8: cost=4.304, accuracy=0.679+0.032/0.710+0.050 (0/33 secs)\n",
      "    Epoch 8: cost=4.302, accuracy=0.681+0.031/0.650+0.030 (0/33 secs)\n",
      "    Epoch 8: cost=4.301, accuracy=0.684+0.029/0.690+0.040 (0/33 secs)\n",
      "    Epoch 8: cost=4.296, accuracy=0.687+0.029/0.690+0.030 (1/34 secs)\n",
      "    Epoch 8: cost=4.292, accuracy=0.692+0.029/0.650+0.020 (0/34 secs)\n",
      "    Epoch 8: cost=4.290, accuracy=0.693+0.030/0.690+0.030 (0/34 secs)\n",
      "    Epoch 8: cost=4.292, accuracy=0.691+0.032/0.730+0.010 (0/34 secs)\n",
      "    Epoch 8: cost=4.292, accuracy=0.691+0.033/0.790+0.030 (0/34 secs)\n",
      "    Epoch 8: cost=4.294, accuracy=0.688+0.033/0.640+0.020 (0/34 secs)\n",
      "    Epoch 8: cost=4.295, accuracy=0.688+0.034/0.680+0.020 (0/34 secs)\n",
      "    Epoch 8: cost=4.293, accuracy=0.690+0.035/0.690+0.020 (1/35 secs)\n",
      "    Epoch 8: cost=4.295, accuracy=0.690+0.034/0.670+0.040 (0/35 secs)\n",
      "    Epoch 8: cost=4.295, accuracy=0.690+0.034/0.660+0.010 (0/35 secs)\n",
      "    Epoch 8: cost=4.295, accuracy=0.690+0.034/0.650+0.010 (0/35 secs)\n",
      "    Epoch 8: cost=4.298, accuracy=0.687+0.034/0.720+0.010 (0/35 secs)\n",
      "    Epoch 9: cost=4.297, accuracy=0.690+0.050/0.720+0.020 (0/35 secs)\n",
      "    Epoch 9: cost=4.336, accuracy=0.650+0.055/0.670+0.030 (1/36 secs)\n",
      "    Epoch 9: cost=4.288, accuracy=0.687+0.053/0.680+0.030 (0/36 secs)\n",
      "    Epoch 9: cost=4.294, accuracy=0.687+0.048/0.730+0.010 (0/36 secs)\n",
      "    Epoch 9: cost=4.285, accuracy=0.696+0.046/0.740+0.010 (0/36 secs)\n",
      "    Epoch 9: cost=4.286, accuracy=0.697+0.045/0.590+0.010 (0/36 secs)\n",
      "    Epoch 9: cost=4.283, accuracy=0.699+0.043/0.680+0.010 (0/36 secs)\n",
      "    Epoch 9: cost=4.283, accuracy=0.700+0.040/0.690+0.020 (0/36 secs)\n",
      "    Epoch 9: cost=4.280, accuracy=0.703+0.041/0.710+0.000 (0/36 secs)\n",
      "    Epoch 9: cost=4.280, accuracy=0.703+0.040/0.690+0.020 (1/37 secs)\n",
      "    Epoch 9: cost=4.282, accuracy=0.702+0.039/0.790+0.020 (0/37 secs)\n",
      "    Epoch 9: cost=4.283, accuracy=0.701+0.040/0.680+0.030 (0/37 secs)\n",
      "    Epoch 9: cost=4.279, accuracy=0.705+0.038/0.730+0.020 (0/37 secs)\n",
      "    Epoch 9: cost=4.279, accuracy=0.704+0.039/0.680+0.030 (0/37 secs)\n",
      "    Epoch 9: cost=4.278, accuracy=0.706+0.037/0.670+0.010 (0/37 secs)\n",
      "    Epoch 9: cost=4.277, accuracy=0.708+0.036/0.670+0.030 (0/37 secs)\n",
      "    Epoch 9: cost=4.280, accuracy=0.703+0.038/0.660+0.040 (1/38 secs)\n",
      "    Epoch 9: cost=4.283, accuracy=0.699+0.038/0.730+0.030 (0/38 secs)\n",
      "    Epoch 9: cost=4.278, accuracy=0.704+0.037/0.680+0.020 (0/38 secs)\n",
      "    Epoch 9: cost=4.282, accuracy=0.702+0.036/0.710+0.040 (0/38 secs)\n",
      "    Epoch 9: cost=4.283, accuracy=0.701+0.035/0.670+0.020 (0/38 secs)\n",
      "    Epoch 9: cost=4.285, accuracy=0.699+0.036/0.690+0.030 (0/38 secs)\n",
      "    Epoch 9: cost=4.287, accuracy=0.696+0.037/0.690+0.050 (0/38 secs)\n",
      "    Epoch 9: cost=4.290, accuracy=0.694+0.037/0.620+0.020 (0/38 secs)\n",
      "    Epoch 9: cost=4.290, accuracy=0.693+0.036/0.690+0.020 (1/39 secs)\n",
      "    Epoch 9: cost=4.288, accuracy=0.694+0.037/0.730+0.010 (0/39 secs)\n",
      "    Epoch 9: cost=4.289, accuracy=0.693+0.037/0.740+0.030 (0/39 secs)\n",
      "    Epoch 9: cost=4.288, accuracy=0.693+0.037/0.680+0.000 (0/39 secs)\n",
      "    Epoch 9: cost=4.288, accuracy=0.692+0.037/0.670+0.020 (0/39 secs)\n",
      "    Epoch 9: cost=4.290, accuracy=0.690+0.037/0.700+0.000 (0/39 secs)\n",
      "    Epoch 9: cost=4.289, accuracy=0.690+0.038/0.650+0.020 (0/39 secs)\n",
      "    Epoch 9: cost=4.291, accuracy=0.689+0.038/0.740+0.020 (1/40 secs)\n",
      "    Epoch 10: cost=4.250, accuracy=0.710+0.060/0.670+0.020 (0/40 secs)\n",
      "    Epoch 10: cost=4.272, accuracy=0.690+0.040/0.690+0.030 (0/40 secs)\n",
      "    Epoch 10: cost=4.271, accuracy=0.697+0.033/0.710+0.030 (0/40 secs)\n",
      "    Epoch 10: cost=4.260, accuracy=0.710+0.038/0.680+0.020 (0/40 secs)\n",
      "    Epoch 10: cost=4.258, accuracy=0.716+0.042/0.690+0.030 (0/40 secs)\n",
      "    Epoch 10: cost=4.262, accuracy=0.708+0.043/0.690+0.030 (0/40 secs)\n",
      "    Epoch 10: cost=4.269, accuracy=0.706+0.044/0.730+0.030 (1/41 secs)\n",
      "    Epoch 10: cost=4.273, accuracy=0.701+0.042/0.690+0.020 (0/41 secs)\n",
      "    Epoch 10: cost=4.276, accuracy=0.699+0.042/0.730+0.030 (0/41 secs)\n",
      "    Epoch 10: cost=4.277, accuracy=0.699+0.041/0.680+0.010 (0/41 secs)\n",
      "    Epoch 10: cost=4.271, accuracy=0.704+0.045/0.630+0.030 (0/41 secs)\n",
      "    Epoch 10: cost=4.273, accuracy=0.700+0.045/0.640+0.010 (0/41 secs)\n",
      "    Epoch 10: cost=4.270, accuracy=0.702+0.044/0.720+0.020 (0/41 secs)\n",
      "    Epoch 10: cost=4.273, accuracy=0.699+0.041/0.640+0.030 (1/42 secs)\n",
      "    Epoch 10: cost=4.272, accuracy=0.701+0.041/0.700+0.030 (0/42 secs)\n",
      "    Epoch 10: cost=4.275, accuracy=0.698+0.041/0.690+0.020 (0/42 secs)\n",
      "    Epoch 10: cost=4.277, accuracy=0.697+0.042/0.710+0.000 (0/42 secs)\n",
      "    Epoch 10: cost=4.284, accuracy=0.691+0.043/0.630+0.040 (0/42 secs)\n",
      "    Epoch 10: cost=4.284, accuracy=0.692+0.042/0.730+0.030 (0/42 secs)\n",
      "    Epoch 10: cost=4.283, accuracy=0.692+0.041/0.690+0.030 (0/42 secs)\n",
      "    Epoch 10: cost=4.284, accuracy=0.690+0.040/0.750+0.020 (1/43 secs)\n",
      "    Epoch 10: cost=4.286, accuracy=0.687+0.041/0.670+0.030 (0/43 secs)\n",
      "    Epoch 10: cost=4.288, accuracy=0.685+0.042/0.730+0.020 (0/43 secs)\n",
      "    Epoch 10: cost=4.292, accuracy=0.683+0.041/0.750+0.010 (0/43 secs)\n",
      "    Epoch 10: cost=4.292, accuracy=0.682+0.040/0.780+0.040 (0/43 secs)\n",
      "    Epoch 10: cost=4.290, accuracy=0.683+0.041/0.670+0.050 (0/43 secs)\n",
      "    Epoch 10: cost=4.288, accuracy=0.686+0.041/0.610+0.030 (0/43 secs)\n",
      "    Epoch 10: cost=4.289, accuracy=0.685+0.040/0.670+0.040 (0/43 secs)\n",
      "    Epoch 10: cost=4.292, accuracy=0.682+0.040/0.680+0.020 (1/44 secs)\n",
      "    Epoch 10: cost=4.290, accuracy=0.684+0.040/0.680+0.020 (0/44 secs)\n",
      "    Epoch 10: cost=4.289, accuracy=0.685+0.039/0.630+0.010 (0/44 secs)\n",
      "    Epoch 10: cost=4.289, accuracy=0.686+0.039/0.710+0.030 (0/44 secs)\n",
      "Model office31_model_1 train ended in 44 secs:\n",
      "Model office31_model_1 test report: accuracy = 0.677+0.027, (0 secs)\n",
      "\n",
      "Model office31_model_1 Visualization\n"
     ]
    },
    {
     "data": {
      "image/png": "[encoded data removed]",
      "text/plain": [
       "<Figure size 360x360 with 3 Axes>"
      ]
     },
     "metadata": {
      "needs_background": "light"
     },
     "output_type": "display_data"
    },
    {
     "name": "stdout",
     "output_type": "stream",
     "text": [
      "[ 도메인 추정결과 ]\n",
      "추정확률분포 [61,18,21] => 추정 amazon : 정답 amazon => O\n",
      "추정확률분포 [61,18,21] => 추정 amazon : 정답 webcam => X\n",
      "추정확률분포 [61,18,21] => 추정 amazon : 정답 amazon => O\n",
      "[ 상품 추정결과 ]\n",
      "추정확률분포 [ 3, 3, 4, 3, 2, 3, 4, 4,...] => 추정 projector : 정답 laptop_computer => X\n",
      "추정확률분포 [ 3, 3, 4, 3, 2, 3, 4, 4,...] => 추정 projector : 정답 bike_helmet => X\n",
      "추정확률분포 [ 3, 3, 4, 3, 2, 3, 4, 4,...] => 추정 projector : 정답 tape_dispenser => X\n"
     ]
    }
   ],
   "source": [
    "od = Office31Dataset()\n",
    "om1 = Mlp_Torch('office31_model_1', od, [256,128,64,32,10])\n",
    "om1.exec_all(epoch_count=EPOCH, report=20,batch_size =BATCH_SIZE \\\n",
    "           , learning_rate = LEARNING_RATE , num_workers = NUM_WORKERS)\n"
   ]
  },
  {
   "cell_type": "code",
   "execution_count": 100,
   "id": "indian-instrument",
   "metadata": {
    "scrolled": true
   },
   "outputs": [
    {
     "name": "stdout",
     "output_type": "stream",
     "text": [
      "Model office31_model_1 Visualization\n"
     ]
    },
    {
     "data": {
      "image/png": "[encoded data removed]",
      "text/plain": [
       "<Figure size 360x360 with 5 Axes>"
      ]
     },
     "metadata": {
      "needs_background": "light"
     },
     "output_type": "display_data"
    },
    {
     "name": "stdout",
     "output_type": "stream",
     "text": [
      "[ 도메인 추정결과 ]\n",
      "추정확률분포 [49,21,30] => 추정 amazon : 정답 webcam => X\n",
      "추정확률분포 [49,21,30] => 추정 amazon : 정답 amazon => O\n",
      "추정확률분포 [49,21,30] => 추정 amazon : 정답 amazon => O\n",
      "추정확률분포 [49,21,30] => 추정 amazon : 정답 amazon => O\n",
      "추정확률분포 [49,21,30] => 추정 amazon : 정답 webcam => X\n",
      "[ 상품 추정결과 ]\n",
      "추정확률분포 [ 3, 3, 4, 3, 2, 3, 4, 3,...] => 추정 scissors : 정답 tape_dispenser => X\n",
      "추정확률분포 [ 3, 3, 4, 3, 2, 3, 4, 3,...] => 추정 scissors : 정답 phone => X\n",
      "추정확률분포 [ 3, 3, 4, 3, 2, 3, 4, 3,...] => 추정 scissors : 정답 calculator => X\n",
      "추정확률분포 [ 3, 3, 4, 3, 2, 3, 4, 3,...] => 추정 scissors : 정답 projector => X\n",
      "추정확률분포 [ 3, 3, 4, 3, 2, 3, 4, 3,...] => 추정 scissors : 정답 calculator => X\n"
     ]
    }
   ],
   "source": [
    "om1.visualize(5)\n"
   ]
  },
  {
   "cell_type": "code",
   "execution_count": 4,
   "id": "sexual-legislation",
   "metadata": {},
   "outputs": [],
   "source": [
    "import torch\n",
    "import numpy as np"
   ]
  },
  {
   "cell_type": "code",
   "execution_count": 67,
   "id": "valuable-worst",
   "metadata": {},
   "outputs": [],
   "source": [
    "a=torch.randint(10, (10, 34))"
   ]
  },
  {
   "cell_type": "code",
   "execution_count": 68,
   "id": "close-limitation",
   "metadata": {},
   "outputs": [
    {
     "data": {
      "text/plain": [
       "torch.Size([10, 34])"
      ]
     },
     "execution_count": 68,
     "metadata": {},
     "output_type": "execute_result"
    }
   ],
   "source": [
    "a.shape"
   ]
  },
  {
   "cell_type": "code",
   "execution_count": 21,
   "id": "sharing-turtle",
   "metadata": {},
   "outputs": [
    {
     "data": {
      "text/plain": [
       "(tensor([[ 1,  2,  3,  4,  5,  6,  7,  8,  9, 10]]),)"
      ]
     },
     "execution_count": 21,
     "metadata": {},
     "output_type": "execute_result"
    }
   ],
   "source": [
    "a.chunk(3)"
   ]
  },
  {
   "cell_type": "code",
   "execution_count": 70,
   "id": "corporate-greek",
   "metadata": {},
   "outputs": [
    {
     "name": "stdout",
     "output_type": "stream",
     "text": [
      "torch.Size([10, 3]) torch.Size([10, 31])\n"
     ]
    }
   ],
   "source": [
    "print(a[:,:3].shape,a[:,3:].shape)"
   ]
  },
  {
   "cell_type": "code",
   "execution_count": 25,
   "id": "outer-bookmark",
   "metadata": {},
   "outputs": [
    {
     "ename": "AttributeError",
     "evalue": "module 'torch' has no attribute 'hsplit'",
     "output_type": "error",
     "traceback": [
      "\u001b[1;31m---------------------------------------------------------------------------\u001b[0m",
      "\u001b[1;31mAttributeError\u001b[0m                            Traceback (most recent call last)",
      "\u001b[1;32m<ipython-input-25-49dc53b80298>\u001b[0m in \u001b[0;36m<module>\u001b[1;34m\u001b[0m\n\u001b[1;32m----> 1\u001b[1;33m \u001b[0mtorch\u001b[0m\u001b[1;33m.\u001b[0m\u001b[0mhsplit\u001b[0m\u001b[1;33m(\u001b[0m\u001b[0ma\u001b[0m\u001b[1;33m,\u001b[0m\u001b[1;33m[\u001b[0m\u001b[1;36m3\u001b[0m\u001b[1;33m]\u001b[0m\u001b[1;33m)\u001b[0m\u001b[1;33m\u001b[0m\u001b[1;33m\u001b[0m\u001b[0m\n\u001b[0m",
      "\u001b[1;31mAttributeError\u001b[0m: module 'torch' has no attribute 'hsplit'"
     ]
    }
   ],
   "source": [
    "torch.hsplit(a,[3])"
   ]
  },
  {
   "cell_type": "code",
   "execution_count": 41,
   "id": "passive-redhead",
   "metadata": {},
   "outputs": [
    {
     "ename": "IndexError",
     "evalue": "Dimension out of range (expected to be in range of [-2, 1], but got 2)",
     "output_type": "error",
     "traceback": [
      "\u001b[1;31m---------------------------------------------------------------------------\u001b[0m",
      "\u001b[1;31mIndexError\u001b[0m                                Traceback (most recent call last)",
      "\u001b[1;32m<ipython-input-41-9105ab9ece57>\u001b[0m in \u001b[0;36m<module>\u001b[1;34m\u001b[0m\n\u001b[1;32m----> 1\u001b[1;33m \u001b[0mtorch\u001b[0m\u001b[1;33m.\u001b[0m\u001b[0mselect\u001b[0m\u001b[1;33m(\u001b[0m\u001b[0ma\u001b[0m\u001b[1;33m,\u001b[0m\u001b[1;36m2\u001b[0m\u001b[1;33m,\u001b[0m\u001b[1;36m1\u001b[0m\u001b[1;33m)\u001b[0m\u001b[1;33m\u001b[0m\u001b[1;33m\u001b[0m\u001b[0m\n\u001b[0m",
      "\u001b[1;31mIndexError\u001b[0m: Dimension out of range (expected to be in range of [-2, 1], but got 2)"
     ]
    }
   ],
   "source": [
    "torch.select(a,2,1)"
   ]
  },
  {
   "cell_type": "code",
   "execution_count": null,
   "id": "informal-toolbox",
   "metadata": {},
   "outputs": [],
   "source": []
  }
 ],
 "metadata": {
  "kernelspec": {
   "display_name": "Python 3",
   "language": "python",
   "name": "python3"
  },
  "language_info": {
   "codemirror_mode": {
    "name": "ipython",
    "version": 3
   },
   "file_extension": ".py",
   "mimetype": "text/x-python",
   "name": "python",
   "nbconvert_exporter": "python",
   "pygments_lexer": "ipython3",
   "version": "3.7.9"
  }
 },
 "nbformat": 4,
 "nbformat_minor": 5
}
