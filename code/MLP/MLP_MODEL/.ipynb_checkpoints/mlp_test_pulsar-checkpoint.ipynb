{
 "cells": [
  {
   "cell_type": "code",
   "execution_count": 13,
   "id": "5dc8f938",
   "metadata": {},
   "outputs": [
    {
     "name": "stdout",
     "output_type": "stream",
     "text": [
      "Using device: cuda\n",
      "GeForce GTX 1660 Ti\n",
      "Memory Usage:\n",
      "Allocated: 0.0 GB\n",
      "Cached:    0.0 GB\n",
      "Using PyTorch version: 1.7.1\n"
     ]
    }
   ],
   "source": [
    "BASE_DIR = '../'*3\n",
    "MLPMODEL = BASE_DIR +'code/MLP/MLP_MODEL/mlp_model.ipynb'\n",
    "PREPRO = BASE_DIR + 'code/UTIL/dataset/pulsar_prepro.ipynb'\n",
    "%run {MLPMODEL}\n",
    "%run {PREPRO}"
   ]
  },
  {
   "cell_type": "code",
   "execution_count": 14,
   "id": "922d6b01",
   "metadata": {},
   "outputs": [],
   "source": [
    "EPOCH = 1\n",
    "BATCH_SIZE=30\n",
    "NUM_WORKERS=0\n",
    "LEARNING_RATE = 0.005"
   ]
  },
  {
   "cell_type": "code",
   "execution_count": 15,
   "id": "396ea9d8",
   "metadata": {
    "scrolled": false
   },
   "outputs": [
    {
     "name": "stdout",
     "output_type": "stream",
     "text": [
      "Model pulsar_model train started \n",
      "\n",
      "\n",
      "!!!!!!!!!!!\n",
      "!! Layer !! .\n",
      "!!!!!!!!!!! \n",
      "\n",
      " Net(\n",
      "  (layer1): Sequential(\n",
      "    (0): Linear(in_features=8, out_features=8, bias=True)\n",
      "    (1): ReLU()\n",
      "    (2): Linear(in_features=8, out_features=4, bias=True)\n",
      "    (3): ReLU()\n",
      "    (4): Linear(in_features=4, out_features=1, bias=True)\n",
      "  )\n",
      ")\n",
      "\n",
      "!!!!!!!!!!!!!!!\n",
      "!! optimizer !! \n",
      "!!!!!!!!!!!!!!! \n",
      "\n",
      " Adam (\n",
      "Parameter Group 0\n",
      "    amsgrad: False\n",
      "    betas: (0.9, 0.999)\n",
      "    eps: 1e-08\n",
      "    lr: 0.005\n",
      "    weight_decay: 0\n",
      ")\n",
      "    Epoch 1: cost=2.368, accuracy=0.092/0.160 (0/0 secs)\n",
      "    Epoch 1: cost=1.286, accuracy=0.367/0.910 (0/0 secs)\n",
      "    Epoch 1: cost=0.932, accuracy=0.520/0.680 (0/0 secs)\n"
     ]
    },
    {
     "name": "stderr",
     "output_type": "stream",
     "text": [
      "C:\\Users\\chang\\Anaconda3\\envs\\testtorch\\lib\\site-packages\\ipykernel_launcher.py:12: UserWarning: To copy construct from a tensor, it is recommended to use sourceTensor.clone().detach() or sourceTensor.clone().detach().requires_grad_(True), rather than torch.tensor(sourceTensor).\n",
      "  if sys.path[0] == '':\n",
      "C:\\Users\\chang\\Anaconda3\\envs\\testtorch\\lib\\site-packages\\ipykernel_launcher.py:13: UserWarning: To copy construct from a tensor, it is recommended to use sourceTensor.clone().detach() or sourceTensor.clone().detach().requires_grad_(True), rather than torch.tensor(sourceTensor).\n",
      "  del sys.path[0]\n"
     ]
    },
    {
     "name": "stdout",
     "output_type": "stream",
     "text": [
      "    Epoch 1: cost=0.747, accuracy=0.552/0.640 (0/0 secs)\n",
      "    Epoch 1: cost=0.638, accuracy=0.569/0.690 (0/0 secs)\n",
      "    Epoch 1: cost=0.556, accuracy=0.584/0.690 (0/0 secs)\n",
      "    Epoch 1: cost=0.496, accuracy=0.612/0.820 (0/0 secs)\n",
      "    Epoch 1: cost=0.446, accuracy=0.639/0.800 (0/0 secs)\n",
      "    Epoch 1: cost=0.417, accuracy=0.660/0.700 (0/0 secs)\n",
      "    Epoch 1: cost=0.390, accuracy=0.670/0.710 (0/0 secs)\n",
      "    Epoch 1: cost=0.363, accuracy=0.683/0.820 (0/0 secs)\n",
      "    Epoch 1: cost=0.340, accuracy=0.698/0.860 (0/0 secs)\n",
      "    Epoch 1: cost=0.322, accuracy=0.712/0.790 (0/0 secs)\n",
      "    Epoch 1: cost=0.304, accuracy=0.728/0.970 (0/0 secs)\n",
      "    Epoch 1: cost=0.291, accuracy=0.740/0.910 (0/0 secs)\n",
      "    Epoch 1: cost=0.278, accuracy=0.751/0.920 (0/0 secs)\n",
      "    Epoch 1: cost=0.269, accuracy=0.760/0.710 (0/0 secs)\n",
      "    Epoch 1: cost=0.260, accuracy=0.766/0.890 (0/0 secs)\n",
      "    Epoch 1: cost=0.253, accuracy=0.772/0.890 (0/0 secs)\n",
      "    Epoch 1: cost=0.244, accuracy=0.778/0.950 (1/1 secs)\n",
      "    Epoch 1: cost=0.238, accuracy=0.785/0.890 (0/1 secs)\n",
      "    Epoch 1: cost=0.231, accuracy=0.790/0.950 (0/1 secs)\n",
      "    Epoch 1: cost=0.225, accuracy=0.796/0.910 (0/1 secs)\n",
      "Model pulsar_model train ended in 1 secs:\n",
      "Model pulsar_model test report: accuracy = 0.902, (0 secs)\n",
      "\n",
      "Model pulsar_model Visualization\n",
      "[131.5, 51.8, -0.0,...] => 추정 별(확률 0.00) : 정답 별 => O\n",
      "[ 51.9, 36.6,  3.6,...] => 추정 펄서(확률 0.99) : 정답 펄서 => O\n",
      "[110.3, 54.0,  0.6,...] => 추정 별(확률 0.25) : 정답 펄서 => X\n"
     ]
    }
   ],
   "source": [
    "pd = PulsarDataset()\n",
    "pm = Mlp_Torch('pulsar_model', pd, [8,4])\n",
    "pm.exec_all(epoch_count=EPOCH, report=20, batch_size =BATCH_SIZE \\\n",
    "           , learning_rate = LEARNING_RATE , num_workers = NUM_WORKERS)"
   ]
  },
  {
   "cell_type": "code",
   "execution_count": 29,
   "id": "f76277a2",
   "metadata": {},
   "outputs": [
    {
     "name": "stdout",
     "output_type": "stream",
     "text": [
      "Model pulsar_model Visualization\n",
      "[ 20.9, 43.2,  3.9,...] => 추정 펄서(확률 0.95) : 정답 펄서 => O\n",
      "[118.8, 46.2,  0.4,...] => 추정 별(확률 0.01) : 정답 별 => O\n",
      "[127.2, 52.3, -0.2,...] => 추정 별(확률 0.01) : 정답 별 => O\n",
      "[155.5, 39.4, -0.1,...] => 추정 별(확률 0.00) : 정답 별 => O\n",
      "[123.4, 52.3,  0.1,...] => 추정 별(확률 0.01) : 정답 별 => O\n"
     ]
    }
   ],
   "source": [
    "pm.visualize(5)"
   ]
  },
  {
   "cell_type": "code",
   "execution_count": null,
   "id": "d39939a4",
   "metadata": {},
   "outputs": [],
   "source": []
  }
 ],
 "metadata": {
  "kernelspec": {
   "display_name": "Python 3",
   "language": "python",
   "name": "python3"
  },
  "language_info": {
   "codemirror_mode": {
    "name": "ipython",
    "version": 3
   },
   "file_extension": ".py",
   "mimetype": "text/x-python",
   "name": "python",
   "nbconvert_exporter": "python",
   "pygments_lexer": "ipython3",
   "version": "3.7.9"
  }
 },
 "nbformat": 4,
 "nbformat_minor": 5
}
