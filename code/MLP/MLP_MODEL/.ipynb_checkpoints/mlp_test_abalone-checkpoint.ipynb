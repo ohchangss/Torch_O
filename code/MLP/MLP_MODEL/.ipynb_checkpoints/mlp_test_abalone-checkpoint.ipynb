{
 "cells": [
  {
   "cell_type": "code",
   "execution_count": 70,
   "id": "b1dee844",
   "metadata": {},
   "outputs": [
    {
     "name": "stdout",
     "output_type": "stream",
     "text": [
      "Using device: cuda\n",
      "GeForce GTX 1660 Ti\n",
      "Memory Usage:\n",
      "Allocated: 0.0 GB\n",
      "Cached:    0.0 GB\n",
      "Using PyTorch version: 1.7.1\n"
     ]
    }
   ],
   "source": [
    "BASE_DIR = '../'*3\n",
    "MLPMODEL = BASE_DIR +'code/MLP/MLP_MODEL/mlp_model.ipynb'\n",
    "PREPRO = BASE_DIR + 'code/UTIL/dataset/abalone_prepro.ipynb'\n",
    "%run {MLPMODEL}\n",
    "%run {PREPRO}"
   ]
  },
  {
   "cell_type": "code",
   "execution_count": 71,
   "id": "bc052174",
   "metadata": {},
   "outputs": [],
   "source": [
    "EPOCH = 10\n",
    "BATCH_SIZE=30\n",
    "NUM_WORKERS=0\n",
    "LEARNING_RATE = 0.001"
   ]
  },
  {
   "cell_type": "code",
   "execution_count": 72,
   "id": "8f547cee",
   "metadata": {
    "scrolled": false
   },
   "outputs": [
    {
     "name": "stdout",
     "output_type": "stream",
     "text": [
      "abalone(regression, 3340+629+208) \n",
      "\n",
      "0 2\n",
      "1 2\n",
      "2 2\n",
      "[Linear(in_features=10, out_features=10, bias=True), ReLU(), Linear(in_features=10, out_features=10, bias=True), ReLU(), Linear(in_features=10, out_features=1, bias=True)]\n",
      "Model abalone_model train started \n",
      "\n",
      "\n",
      "!!!!!!!!!!!\n",
      "!! Layer !! .\n",
      "!!!!!!!!!!! \n",
      "\n",
      " Net(\n",
      "  (layer1): Sequential(\n",
      "    (0): Linear(in_features=10, out_features=10, bias=True)\n",
      "    (1): ReLU()\n",
      "    (2): Linear(in_features=10, out_features=10, bias=True)\n",
      "    (3): ReLU()\n",
      "    (4): Linear(in_features=10, out_features=1, bias=True)\n",
      "  )\n",
      ")\n",
      "\n",
      "!!!!!!!!!!!!!!!\n",
      "!! optimizer !! \n",
      "!!!!!!!!!!!!!!! \n",
      "\n",
      " Adam (\n",
      "Parameter Group 0\n",
      "    amsgrad: False\n",
      "    betas: (0.9, 0.999)\n",
      "    eps: 1e-08\n",
      "    lr: 0.001\n",
      "    weight_decay: 0\n",
      ")\n",
      "    Epoch 1: cost=109.291, accuracy=-0.052/-0.058 (0/0 secs)\n",
      "    Epoch 1: cost=106.541, accuracy=-0.043/-0.044 (0/0 secs)\n",
      "    Epoch 1: cost=106.734, accuracy=-0.040/-0.044 (0/0 secs)\n",
      "    Epoch 1: cost=105.710, accuracy=-0.038/-0.031 (0/0 secs)\n",
      "    Epoch 1: cost=104.633, accuracy=-0.032/-0.007 (0/0 secs)\n",
      "    Epoch 2: cost=91.856, accuracy=0.039/0.065 (0/0 secs)\n",
      "    Epoch 2: cost=87.420, accuracy=0.065/0.125 (0/0 secs)\n",
      "    Epoch 2: cost=80.938, accuracy=0.099/0.208 (0/0 secs)\n",
      "    Epoch 2: cost=73.167, accuracy=0.146/0.320 (1/1 secs)\n",
      "    Epoch 2: cost=65.858, accuracy=0.196/0.484 (0/1 secs)\n",
      "    Epoch 3: cost=15.293, accuracy=0.606/0.650 (0/1 secs)\n",
      "    Epoch 3: cost=12.636, accuracy=0.648/0.710 (0/1 secs)\n",
      "    Epoch 3: cost=11.183, accuracy=0.673/0.702 (0/1 secs)\n",
      "    Epoch 3: cost=10.017, accuracy=0.691/0.746 (0/1 secs)\n",
      "    Epoch 3: cost=9.578, accuracy=0.699/0.670 (0/1 secs)\n",
      "    Epoch 4: cost=6.687, accuracy=0.744/0.695 (0/1 secs)\n",
      "    Epoch 4: cost=6.868, accuracy=0.741/0.671 (0/1 secs)\n",
      "    Epoch 4: cost=7.088, accuracy=0.737/0.707 (0/1 secs)\n",
      "    Epoch 4: cost=7.156, accuracy=0.735/0.734 (0/1 secs)\n",
      "    Epoch 4: cost=7.175, accuracy=0.735/0.707 (0/1 secs)\n",
      "    Epoch 5: cost=5.948, accuracy=0.756/0.708 (0/1 secs)\n",
      "    Epoch 5: cost=6.584, accuracy=0.746/0.695 (0/1 secs)\n",
      "    Epoch 5: cost=6.837, accuracy=0.740/0.713 (0/1 secs)\n",
      "    Epoch 5: cost=6.871, accuracy=0.740/0.681 (0/1 secs)\n",
      "    Epoch 5: cost=7.058, accuracy=0.737/0.744 (0/1 secs)\n",
      "    Epoch 6: cost=7.637, accuracy=0.734/0.711 (0/1 secs)\n",
      "    Epoch 6: cost=7.222, accuracy=0.740/0.698 (0/1 secs)\n",
      "    Epoch 6: cost=6.936, accuracy=0.742/0.731 (0/1 secs)\n",
      "    Epoch 6: cost=6.857, accuracy=0.742/0.703 (0/1 secs)\n",
      "    Epoch 6: cost=6.937, accuracy=0.741/0.679 (0/1 secs)\n",
      "    Epoch 7: cost=7.242, accuracy=0.731/0.702 (0/1 secs)\n",
      "    Epoch 7: cost=6.834, accuracy=0.744/0.711 (1/2 secs)\n",
      "    Epoch 7: cost=6.825, accuracy=0.744/0.732 (0/2 secs)\n",
      "    Epoch 7: cost=7.235, accuracy=0.737/0.735 (0/2 secs)\n",
      "    Epoch 7: cost=7.108, accuracy=0.739/0.752 (0/2 secs)\n",
      "    Epoch 8: cost=6.495, accuracy=0.749/0.690 (0/2 secs)\n",
      "    Epoch 8: cost=6.329, accuracy=0.750/0.713 (0/2 secs)\n",
      "    Epoch 8: cost=6.695, accuracy=0.745/0.694 (0/2 secs)\n",
      "    Epoch 8: cost=6.645, accuracy=0.745/0.727 (0/2 secs)\n",
      "    Epoch 8: cost=6.780, accuracy=0.743/0.725 (0/2 secs)\n",
      "    Epoch 9: cost=6.523, accuracy=0.749/0.718 (0/2 secs)\n",
      "    Epoch 9: cost=6.956, accuracy=0.740/0.724 (0/2 secs)\n",
      "    Epoch 9: cost=7.520, accuracy=0.731/0.710 (0/2 secs)\n",
      "    Epoch 9: cost=7.123, accuracy=0.738/0.741 (0/2 secs)\n",
      "    Epoch 9: cost=6.935, accuracy=0.741/0.712 (0/2 secs)\n",
      "    Epoch 10: cost=7.043, accuracy=0.736/0.708 (0/2 secs)\n",
      "    Epoch 10: cost=6.063, accuracy=0.754/0.717 (0/2 secs)\n",
      "    Epoch 10: cost=6.368, accuracy=0.752/0.726 (0/2 secs)\n",
      "    Epoch 10: cost=6.583, accuracy=0.748/0.744 (0/2 secs)\n",
      "    Epoch 10: cost=6.841, accuracy=0.744/0.741 (0/2 secs)\n",
      "Model abalone_model train ended in 2 secs:\n",
      "Model abalone_model test report: accuracy = 0.746, (0 secs)\n",
      "\n",
      "Model abalone_model Visualization\n",
      "[1.00,0.00,0.00,0.35,0.26,0.09,0.18,0.07,0.04,0.06] => 추정  7.1 : 정답  7.0\n",
      "[0.00,1.00,0.00,0.74,0.60,0.19,2.32,1.15,0.51,0.50] => 추정 14.1 : 정답 11.0\n",
      "[0.00,1.00,0.00,0.43,0.32,0.09,0.38,0.17,0.08,0.10] => 추정  8.7 : 정답  7.0\n"
     ]
    }
   ],
   "source": [
    "ad = AbaloneDataset()\n",
    "print(ad,'\\n')\n",
    "am = Mlp_Torch('abalone_model', ad, [10,10])\n",
    "am.exec_all(epoch_count=EPOCH, report=20,batch_size =BATCH_SIZE \\\n",
    "           , learning_rate = LEARNING_RATE , num_workers = NUM_WORKERS)"
   ]
  },
  {
   "cell_type": "code",
   "execution_count": null,
   "id": "113e6d1a",
   "metadata": {},
   "outputs": [],
   "source": []
  },
  {
   "cell_type": "code",
   "execution_count": null,
   "id": "841d93d0",
   "metadata": {},
   "outputs": [],
   "source": []
  }
 ],
 "metadata": {
  "kernelspec": {
   "display_name": "Python 3",
   "language": "python",
   "name": "python3"
  },
  "language_info": {
   "codemirror_mode": {
    "name": "ipython",
    "version": 3
   },
   "file_extension": ".py",
   "mimetype": "text/x-python",
   "name": "python",
   "nbconvert_exporter": "python",
   "pygments_lexer": "ipython3",
   "version": "3.7.9"
  }
 },
 "nbformat": 4,
 "nbformat_minor": 5
}
