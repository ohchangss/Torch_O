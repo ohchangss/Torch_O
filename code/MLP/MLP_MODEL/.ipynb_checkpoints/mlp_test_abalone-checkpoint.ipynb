{
 "cells": [
  {
   "cell_type": "code",
   "execution_count": 13,
   "id": "b1dee844",
   "metadata": {},
   "outputs": [
    {
     "name": "stdout",
     "output_type": "stream",
     "text": [
      "Using device: cuda\n",
      "GeForce GTX 1660 Ti\n",
      "Memory Usage:\n",
      "Allocated: 0.0 GB\n",
      "Cached:    0.0 GB\n",
      "Using PyTorch version: 1.7.1\n"
     ]
    }
   ],
   "source": [
    "BASE_DIR = '../'*3\n",
    "MLPMODEL = BASE_DIR +'code/MLP/MLP_MODEL/mlp_model.ipynb'\n",
    "PREPRO = BASE_DIR + 'code/UTIL/dataset/abalone_prepro.ipynb'\n",
    "%run {MLPMODEL}\n",
    "%run {PREPRO}"
   ]
  },
  {
   "cell_type": "code",
   "execution_count": 14,
   "id": "bc052174",
   "metadata": {},
   "outputs": [],
   "source": [
    "EPOCH = 10\n",
    "BATCH_SIZE=30\n",
    "NUM_WORKERS=0\n",
    "LEARNING_RATE = 0.001"
   ]
  },
  {
   "cell_type": "code",
   "execution_count": 15,
   "id": "8f547cee",
   "metadata": {
    "scrolled": false
   },
   "outputs": [
    {
     "name": "stdout",
     "output_type": "stream",
     "text": [
      "abalone(regression, 3340+629+208) \n",
      "\n",
      "Model abalone_model train started \n",
      "\n",
      "\n",
      "!!!!!!!!!!!\n",
      "!! Layer !! .\n",
      "!!!!!!!!!!! \n",
      "\n",
      " Net(\n",
      "  (layer1): Sequential(\n",
      "    (0): Linear(in_features=10, out_features=10, bias=True)\n",
      "    (1): ReLU()\n",
      "    (2): Linear(in_features=10, out_features=10, bias=True)\n",
      "    (3): ReLU()\n",
      "    (4): Linear(in_features=10, out_features=1, bias=True)\n",
      "  )\n",
      ")\n",
      "\n",
      "!!!!!!!!!!!!!!!\n",
      "!! optimizer !! \n",
      "!!!!!!!!!!!!!!! \n",
      "\n",
      " Adam (\n",
      "Parameter Group 0\n",
      "    amsgrad: False\n",
      "    betas: (0.9, 0.999)\n",
      "    eps: 1e-08\n",
      "    lr: 0.001\n",
      "    weight_decay: 0\n",
      ")\n",
      "    Epoch 1: cost=111.115, accuracy=-0.045/-0.047 (0/0 secs)\n",
      "    Epoch 1: cost=107.051, accuracy=-0.037/-0.014 (0/0 secs)\n",
      "    Epoch 1: cost=104.435, accuracy=-0.028/0.006 (0/0 secs)\n",
      "    Epoch 1: cost=103.479, accuracy=-0.017/0.023 (0/0 secs)\n",
      "    Epoch 1: cost=101.106, accuracy=-0.004/0.064 (0/0 secs)\n",
      "    Epoch 2: cost=81.501, accuracy=0.124/0.166 (0/0 secs)\n",
      "    Epoch 2: cost=71.798, accuracy=0.164/0.273 (0/0 secs)\n",
      "    Epoch 2: cost=64.196, accuracy=0.208/0.375 (0/0 secs)\n",
      "    Epoch 2: cost=56.908, accuracy=0.257/0.501 (1/1 secs)\n",
      "    Epoch 2: cost=49.956, accuracy=0.314/0.571 (0/1 secs)\n",
      "    Epoch 3: cost=10.911, accuracy=0.678/0.710 (0/1 secs)\n",
      "    Epoch 3: cost=9.594, accuracy=0.697/0.754 (0/1 secs)\n",
      "    Epoch 3: cost=9.040, accuracy=0.705/0.719 (0/1 secs)\n",
      "    Epoch 3: cost=8.762, accuracy=0.711/0.780 (0/1 secs)\n",
      "    Epoch 3: cost=8.521, accuracy=0.714/0.700 (0/1 secs)\n",
      "    Epoch 4: cost=6.832, accuracy=0.740/0.754 (0/1 secs)\n",
      "    Epoch 4: cost=6.993, accuracy=0.738/0.706 (0/1 secs)\n",
      "    Epoch 4: cost=7.234, accuracy=0.735/0.772 (0/1 secs)\n",
      "    Epoch 4: cost=7.565, accuracy=0.730/0.729 (0/1 secs)\n",
      "    Epoch 4: cost=7.693, accuracy=0.729/0.701 (0/1 secs)\n",
      "    Epoch 5: cost=7.073, accuracy=0.737/0.734 (0/1 secs)\n",
      "    Epoch 5: cost=7.181, accuracy=0.734/0.756 (0/1 secs)\n",
      "    Epoch 5: cost=7.312, accuracy=0.733/0.728 (0/1 secs)\n",
      "    Epoch 5: cost=7.382, accuracy=0.732/0.750 (0/1 secs)\n",
      "    Epoch 5: cost=7.331, accuracy=0.733/0.734 (0/1 secs)\n",
      "    Epoch 6: cost=6.413, accuracy=0.751/0.748 (0/1 secs)\n",
      "    Epoch 6: cost=7.158, accuracy=0.740/0.757 (0/1 secs)\n",
      "    Epoch 6: cost=7.423, accuracy=0.735/0.740 (0/1 secs)\n",
      "    Epoch 6: cost=7.370, accuracy=0.736/0.743 (0/1 secs)\n",
      "    Epoch 6: cost=7.296, accuracy=0.737/0.749 (0/1 secs)\n",
      "    Epoch 7: cost=6.911, accuracy=0.744/0.767 (0/1 secs)\n",
      "    Epoch 7: cost=6.868, accuracy=0.744/0.728 (1/2 secs)\n",
      "    Epoch 7: cost=6.901, accuracy=0.743/0.772 (0/2 secs)\n",
      "    Epoch 7: cost=7.435, accuracy=0.735/0.772 (0/2 secs)\n",
      "    Epoch 7: cost=7.189, accuracy=0.739/0.751 (0/2 secs)\n",
      "    Epoch 8: cost=7.436, accuracy=0.733/0.778 (0/2 secs)\n",
      "    Epoch 8: cost=7.343, accuracy=0.737/0.783 (0/2 secs)\n",
      "    Epoch 8: cost=7.220, accuracy=0.739/0.739 (0/2 secs)\n",
      "    Epoch 8: cost=7.043, accuracy=0.742/0.708 (0/2 secs)\n",
      "    Epoch 8: cost=6.896, accuracy=0.743/0.743 (0/2 secs)\n",
      "    Epoch 9: cost=7.156, accuracy=0.738/0.740 (0/2 secs)\n",
      "    Epoch 9: cost=7.299, accuracy=0.737/0.738 (0/2 secs)\n",
      "    Epoch 9: cost=7.195, accuracy=0.738/0.747 (0/2 secs)\n",
      "    Epoch 9: cost=7.143, accuracy=0.738/0.787 (0/2 secs)\n",
      "    Epoch 9: cost=6.955, accuracy=0.742/0.733 (0/2 secs)\n",
      "    Epoch 10: cost=7.671, accuracy=0.733/0.733 (0/2 secs)\n",
      "    Epoch 10: cost=7.025, accuracy=0.746/0.722 (0/2 secs)\n",
      "    Epoch 10: cost=6.894, accuracy=0.744/0.758 (0/2 secs)\n",
      "    Epoch 10: cost=6.839, accuracy=0.745/0.757 (0/2 secs)\n",
      "    Epoch 10: cost=6.754, accuracy=0.747/0.763 (0/2 secs)\n",
      "Model abalone_model train ended in 2 secs:\n",
      "Model abalone_model test report: accuracy = 0.743, (0 secs)\n",
      "\n",
      "Model abalone_model Visualization\n",
      "[0.00,0.00,1.00,0.47,0.38,0.15,0.56,0.20,0.12,0.19] => 추정  9.7 : 정답 12.0\n",
      "[1.00,0.00,0.00,0.21,0.15,0.05,0.04,0.02,0.01,0.01] => 추정  5.6 : 정답  4.0\n",
      "[0.00,1.00,0.00,0.46,0.36,0.14,0.61,0.20,0.11,0.23] => 추정  9.5 : 정답 14.0\n"
     ]
    }
   ],
   "source": [
    "ad = AbaloneDataset()\n",
    "print(ad,'\\n')\n",
    "am = Mlp_Torch('abalone_model', ad, [10,10])\n",
    "am.exec_all(epoch_count=EPOCH, report=20,batch_size =BATCH_SIZE \\\n",
    "           , learning_rate = LEARNING_RATE , num_workers = NUM_WORKERS)"
   ]
  },
  {
   "cell_type": "code",
   "execution_count": null,
   "id": "113e6d1a",
   "metadata": {},
   "outputs": [],
   "source": []
  },
  {
   "cell_type": "code",
   "execution_count": null,
   "id": "841d93d0",
   "metadata": {},
   "outputs": [],
   "source": []
  }
 ],
 "metadata": {
  "kernelspec": {
   "display_name": "Python 3",
   "language": "python",
   "name": "python3"
  },
  "language_info": {
   "codemirror_mode": {
    "name": "ipython",
    "version": 3
   },
   "file_extension": ".py",
   "mimetype": "text/x-python",
   "name": "python",
   "nbconvert_exporter": "python",
   "pygments_lexer": "ipython3",
   "version": "3.7.9"
  }
 },
 "nbformat": 4,
 "nbformat_minor": 5
}
