{
 "cells": [
  {
   "cell_type": "code",
   "execution_count": 52,
   "id": "b1dee844",
   "metadata": {},
   "outputs": [
    {
     "name": "stdout",
     "output_type": "stream",
     "text": [
      "Using device: cuda\n",
      "GeForce GTX 1660 Ti\n",
      "Memory Usage:\n",
      "Allocated: 0.0 GB\n",
      "Cached:    0.0 GB\n",
      "Using PyTorch version: 1.7.1\n"
     ]
    }
   ],
   "source": [
    "BASE_DIR = '../'*3\n",
    "MLPMODEL = BASE_DIR +'code/MLP/MLP_MODEL/mlp_model.ipynb'\n",
    "PREPRO = BASE_DIR + 'code/UTIL/dataset/abalone_prepro.ipynb'\n",
    "%run {MLPMODEL}\n",
    "%run {PREPRO}"
   ]
  },
  {
   "cell_type": "code",
   "execution_count": 53,
   "id": "bc052174",
   "metadata": {},
   "outputs": [],
   "source": [
    "EPOCH = 10\n",
    "BATCH_SIZE=30\n",
    "NUM_WORKERS=0\n",
    "LEARNING_RATE = 0.001"
   ]
  },
  {
   "cell_type": "code",
   "execution_count": 54,
   "id": "8f547cee",
   "metadata": {
    "scrolled": false
   },
   "outputs": [
    {
     "name": "stdout",
     "output_type": "stream",
     "text": [
      "abalone(regression, 3340+629+208) \n",
      "\n",
      "Model abalone_model train started \n",
      "\n",
      "\n",
      "!!!!!!!!!!!\n",
      "!! Layer !! .\n",
      "!!!!!!!!!!! \n",
      "\n",
      " Net(\n",
      "  (layer1): Sequential(\n",
      "    (0): Linear(in_features=10, out_features=10, bias=True)\n",
      "    (1): ReLU()\n",
      "    (2): Linear(in_features=10, out_features=10, bias=True)\n",
      "    (3): ReLU()\n",
      "    (4): Linear(in_features=10, out_features=1, bias=True)\n",
      "  )\n",
      ")\n",
      "\n",
      "!!!!!!!!!!!!!!!\n",
      "!! optimizer !! \n",
      "!!!!!!!!!!!!!!! \n",
      "\n",
      " Adam (\n",
      "Parameter Group 0\n",
      "    amsgrad: False\n",
      "    betas: (0.9, 0.999)\n",
      "    eps: 1e-08\n",
      "    lr: 0.001\n",
      "    weight_decay: 0\n",
      ")\n",
      "    Epoch 1: cost=107.873, accuracy=-0.067/-0.061 (0/0 secs)\n",
      "    Epoch 1: cost=110.967, accuracy=-0.062/-0.049 (0/0 secs)\n",
      "    Epoch 1: cost=110.243, accuracy=-0.056/-0.029 (0/0 secs)\n",
      "    Epoch 1: cost=108.306, accuracy=-0.047/0.010 (1/1 secs)\n",
      "    Epoch 1: cost=106.501, accuracy=-0.033/0.069 (0/1 secs)\n",
      "    Epoch 2: cost=74.619, accuracy=0.132/0.207 (0/1 secs)\n",
      "    Epoch 2: cost=65.481, accuracy=0.189/0.320 (0/1 secs)\n",
      "    Epoch 2: cost=56.648, accuracy=0.250/0.449 (0/1 secs)\n",
      "    Epoch 2: cost=48.091, accuracy=0.320/0.595 (0/1 secs)\n",
      "    Epoch 2: cost=41.682, accuracy=0.379/0.716 (0/1 secs)\n",
      "    Epoch 3: cost=8.003, accuracy=0.721/0.754 (0/1 secs)\n",
      "    Epoch 3: cost=8.373, accuracy=0.717/0.771 (0/1 secs)\n",
      "    Epoch 3: cost=8.075, accuracy=0.721/0.742 (0/1 secs)\n",
      "    Epoch 3: cost=7.939, accuracy=0.724/0.747 (0/1 secs)\n",
      "    Epoch 3: cost=8.050, accuracy=0.722/0.726 (0/1 secs)\n",
      "    Epoch 4: cost=7.204, accuracy=0.732/0.747 (0/1 secs)\n",
      "    Epoch 4: cost=7.639, accuracy=0.727/0.754 (0/1 secs)\n",
      "    Epoch 4: cost=7.655, accuracy=0.729/0.745 (0/1 secs)\n",
      "    Epoch 4: cost=7.606, accuracy=0.729/0.751 (0/1 secs)\n",
      "    Epoch 4: cost=7.576, accuracy=0.730/0.748 (0/1 secs)\n",
      "    Epoch 5: cost=7.422, accuracy=0.729/0.778 (0/1 secs)\n",
      "    Epoch 5: cost=7.454, accuracy=0.733/0.734 (0/1 secs)\n",
      "    Epoch 5: cost=7.459, accuracy=0.733/0.754 (0/1 secs)\n",
      "    Epoch 5: cost=7.312, accuracy=0.735/0.761 (0/1 secs)\n",
      "    Epoch 5: cost=7.562, accuracy=0.732/0.760 (1/2 secs)\n",
      "    Epoch 6: cost=6.618, accuracy=0.747/0.752 (0/2 secs)\n",
      "    Epoch 6: cost=7.103, accuracy=0.739/0.781 (0/2 secs)\n",
      "    Epoch 6: cost=6.994, accuracy=0.741/0.771 (0/2 secs)\n",
      "    Epoch 6: cost=7.084, accuracy=0.740/0.771 (0/2 secs)\n",
      "    Epoch 6: cost=7.247, accuracy=0.737/0.784 (0/2 secs)\n",
      "    Epoch 7: cost=7.176, accuracy=0.739/0.741 (0/2 secs)\n",
      "    Epoch 7: cost=7.085, accuracy=0.739/0.771 (0/2 secs)\n",
      "    Epoch 7: cost=6.988, accuracy=0.741/0.751 (0/2 secs)\n",
      "    Epoch 7: cost=7.202, accuracy=0.738/0.749 (0/2 secs)\n",
      "    Epoch 7: cost=7.160, accuracy=0.737/0.753 (0/2 secs)\n",
      "    Epoch 8: cost=7.110, accuracy=0.738/0.757 (0/2 secs)\n",
      "    Epoch 8: cost=7.907, accuracy=0.727/0.776 (0/2 secs)\n",
      "    Epoch 8: cost=7.404, accuracy=0.733/0.744 (0/2 secs)\n",
      "    Epoch 8: cost=6.942, accuracy=0.740/0.764 (0/2 secs)\n",
      "    Epoch 8: cost=7.236, accuracy=0.737/0.742 (0/2 secs)\n",
      "    Epoch 9: cost=5.972, accuracy=0.762/0.779 (0/2 secs)\n",
      "    Epoch 9: cost=5.953, accuracy=0.760/0.781 (0/2 secs)\n",
      "    Epoch 9: cost=6.327, accuracy=0.753/0.757 (0/2 secs)\n",
      "    Epoch 9: cost=6.641, accuracy=0.747/0.782 (0/2 secs)\n",
      "    Epoch 9: cost=6.757, accuracy=0.744/0.785 (1/3 secs)\n",
      "    Epoch 10: cost=7.340, accuracy=0.740/0.758 (0/3 secs)\n",
      "    Epoch 10: cost=6.769, accuracy=0.745/0.771 (0/3 secs)\n",
      "    Epoch 10: cost=7.018, accuracy=0.739/0.773 (0/3 secs)\n",
      "    Epoch 10: cost=6.871, accuracy=0.741/0.803 (0/3 secs)\n",
      "    Epoch 10: cost=6.909, accuracy=0.742/0.758 (0/3 secs)\n",
      "Model abalone_model train ended in 3 secs:\n",
      "Model abalone_model test report: accuracy = 0.741, (0 secs)\n",
      "\n",
      "Model abalone_model Visualization\n",
      "[1.00,0.00,0.00,0.41,0.30,0.09,0.30,0.15,0.05,0.09] => 추정  7.3 : 정답  7.0\n",
      "[0.00,1.00,0.00,0.62,0.51,0.15,1.30,0.55,0.33,0.32] => 추정 11.6 : 정답  9.0\n",
      "[0.00,1.00,0.00,0.50,0.41,0.15,0.66,0.28,0.14,0.22] => 추정  9.7 : 정답 11.0\n"
     ]
    }
   ],
   "source": [
    "ad = AbaloneDataset()\n",
    "print(ad,'\\n')\n",
    "am = Mlp_Torch('abalone_model', ad, [10,10])\n",
    "am.exec_all(epoch_count=EPOCH, report=20,batch_size =BATCH_SIZE \\\n",
    "           , learning_rate = LEARNING_RATE , num_workers = NUM_WORKERS)"
   ]
  },
  {
   "cell_type": "code",
   "execution_count": null,
   "id": "113e6d1a",
   "metadata": {},
   "outputs": [],
   "source": []
  },
  {
   "cell_type": "code",
   "execution_count": null,
   "id": "841d93d0",
   "metadata": {},
   "outputs": [],
   "source": []
  }
 ],
 "metadata": {
  "kernelspec": {
   "display_name": "Python 3",
   "language": "python",
   "name": "python3"
  },
  "language_info": {
   "codemirror_mode": {
    "name": "ipython",
    "version": 3
   },
   "file_extension": ".py",
   "mimetype": "text/x-python",
   "name": "python",
   "nbconvert_exporter": "python",
   "pygments_lexer": "ipython3",
   "version": "3.7.9"
  }
 },
 "nbformat": 4,
 "nbformat_minor": 5
}
