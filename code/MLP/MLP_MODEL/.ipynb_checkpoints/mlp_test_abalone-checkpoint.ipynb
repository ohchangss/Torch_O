{
 "cells": [
  {
   "cell_type": "code",
   "execution_count": 10,
   "id": "b1dee844",
   "metadata": {},
   "outputs": [
    {
     "name": "stdout",
     "output_type": "stream",
     "text": [
      "Using device: cuda\n",
      "GeForce GTX 1660 Ti\n",
      "Memory Usage:\n",
      "Allocated: 0.0 GB\n",
      "Cached:    0.0 GB\n",
      "Using PyTorch version: 1.7.1\n"
     ]
    }
   ],
   "source": [
    "BASE_DIR = '../'*3\n",
    "MLPMODEL = BASE_DIR +'code/MLP/MLP_MODEL/mlp_model.ipynb'\n",
    "PREPRO = BASE_DIR + 'code/UTIL/dataset/abalone_prepro.ipynb'\n",
    "%run {MLPMODEL}\n",
    "%run {PREPRO}"
   ]
  },
  {
   "cell_type": "code",
   "execution_count": 11,
   "id": "bc052174",
   "metadata": {},
   "outputs": [],
   "source": [
    "EPOCH = 10\n",
    "BATCH_SIZE=30\n",
    "NUM_WORKERS=0\n",
    "LEARNING_RATE = 0.001"
   ]
  },
  {
   "cell_type": "code",
   "execution_count": 12,
   "id": "8f547cee",
   "metadata": {
    "scrolled": false
   },
   "outputs": [
    {
     "name": "stdout",
     "output_type": "stream",
     "text": [
      "abalone(regression, 3340+629+208) \n",
      "\n",
      "Model abalone_model train started \n",
      "\n",
      "\n",
      "!!!!!!!!!!!\n",
      "!! Layer !! .\n",
      "!!!!!!!!!!! \n",
      "\n",
      " Net(\n",
      "  (layer1): Sequential(\n",
      "    (0): Linear(in_features=10, out_features=10, bias=True)\n",
      "    (1): ReLU()\n",
      "    (2): Linear(in_features=10, out_features=10, bias=True)\n",
      "    (3): ReLU()\n",
      "    (4): Linear(in_features=10, out_features=1, bias=True)\n",
      "  )\n",
      ")\n",
      "\n",
      "!!!!!!!!!!!!!!!\n",
      "!! optimizer !! \n",
      "!!!!!!!!!!!!!!! \n",
      "\n",
      " Adam (\n",
      "Parameter Group 0\n",
      "    amsgrad: False\n",
      "    betas: (0.9, 0.999)\n",
      "    eps: 1e-08\n",
      "    lr: 0.001\n",
      "    weight_decay: 0\n",
      ")\n",
      "    Epoch 1: cost=105.081, accuracy=-0.031/-0.016 (0/0 secs)\n",
      "    Epoch 1: cost=104.165, accuracy=-0.021/0.013 (0/0 secs)\n",
      "    Epoch 1: cost=102.330, accuracy=-0.009/0.034 (0/0 secs)\n",
      "    Epoch 1: cost=98.928, accuracy=0.004/0.086 (0/0 secs)\n",
      "    Epoch 1: cost=95.233, accuracy=0.023/0.137 (0/0 secs)\n",
      "    Epoch 2: cost=61.997, accuracy=0.236/0.296 (0/0 secs)\n",
      "    Epoch 2: cost=52.802, accuracy=0.293/0.463 (0/0 secs)\n",
      "    Epoch 2: cost=43.854, accuracy=0.355/0.565 (0/0 secs)\n",
      "    Epoch 2: cost=37.316, accuracy=0.414/0.704 (0/0 secs)\n",
      "    Epoch 2: cost=31.940, accuracy=0.469/0.723 (1/1 secs)\n",
      "    Epoch 3: cost=6.894, accuracy=0.736/0.768 (0/1 secs)\n",
      "    Epoch 3: cost=7.556, accuracy=0.729/0.747 (0/1 secs)\n",
      "    Epoch 3: cost=7.958, accuracy=0.724/0.754 (0/1 secs)\n",
      "    Epoch 3: cost=7.904, accuracy=0.726/0.777 (0/1 secs)\n",
      "    Epoch 3: cost=7.744, accuracy=0.728/0.763 (0/1 secs)\n",
      "    Epoch 4: cost=8.136, accuracy=0.728/0.742 (0/1 secs)\n",
      "    Epoch 4: cost=7.342, accuracy=0.738/0.776 (0/1 secs)\n",
      "    Epoch 4: cost=7.573, accuracy=0.732/0.796 (0/1 secs)\n",
      "    Epoch 4: cost=7.468, accuracy=0.733/0.754 (0/1 secs)\n",
      "    Epoch 4: cost=7.543, accuracy=0.733/0.765 (0/1 secs)\n",
      "    Epoch 5: cost=6.858, accuracy=0.738/0.753 (0/1 secs)\n",
      "    Epoch 5: cost=7.250, accuracy=0.736/0.768 (0/1 secs)\n",
      "    Epoch 5: cost=7.299, accuracy=0.736/0.737 (0/1 secs)\n",
      "    Epoch 5: cost=7.366, accuracy=0.735/0.757 (0/1 secs)\n",
      "    Epoch 5: cost=7.532, accuracy=0.732/0.759 (0/1 secs)\n",
      "    Epoch 6: cost=5.844, accuracy=0.753/0.752 (0/1 secs)\n",
      "    Epoch 6: cost=6.648, accuracy=0.742/0.762 (0/1 secs)\n",
      "    Epoch 6: cost=7.269, accuracy=0.734/0.794 (0/1 secs)\n",
      "    Epoch 6: cost=7.529, accuracy=0.732/0.733 (0/1 secs)\n",
      "    Epoch 6: cost=7.449, accuracy=0.733/0.765 (0/1 secs)\n",
      "    Epoch 7: cost=7.362, accuracy=0.730/0.768 (0/1 secs)\n",
      "    Epoch 7: cost=7.641, accuracy=0.732/0.777 (1/2 secs)\n",
      "    Epoch 7: cost=7.438, accuracy=0.734/0.777 (0/2 secs)\n",
      "    Epoch 7: cost=7.431, accuracy=0.735/0.763 (0/2 secs)\n",
      "    Epoch 7: cost=7.385, accuracy=0.735/0.790 (0/2 secs)\n",
      "    Epoch 8: cost=7.201, accuracy=0.742/0.777 (0/2 secs)\n",
      "    Epoch 8: cost=7.108, accuracy=0.741/0.776 (0/2 secs)\n",
      "    Epoch 8: cost=6.983, accuracy=0.741/0.772 (0/2 secs)\n",
      "    Epoch 8: cost=7.055, accuracy=0.740/0.750 (0/2 secs)\n",
      "    Epoch 8: cost=7.186, accuracy=0.738/0.797 (0/2 secs)\n",
      "    Epoch 9: cost=6.467, accuracy=0.747/0.740 (0/2 secs)\n",
      "    Epoch 9: cost=7.317, accuracy=0.734/0.740 (0/2 secs)\n",
      "    Epoch 9: cost=7.255, accuracy=0.734/0.797 (0/2 secs)\n",
      "    Epoch 9: cost=7.111, accuracy=0.737/0.748 (0/2 secs)\n",
      "    Epoch 9: cost=7.064, accuracy=0.738/0.764 (0/2 secs)\n",
      "    Epoch 10: cost=7.668, accuracy=0.730/0.802 (0/2 secs)\n",
      "    Epoch 10: cost=7.260, accuracy=0.736/0.771 (0/2 secs)\n",
      "    Epoch 10: cost=7.156, accuracy=0.737/0.791 (0/2 secs)\n",
      "    Epoch 10: cost=7.279, accuracy=0.736/0.758 (0/2 secs)\n",
      "    Epoch 10: cost=7.247, accuracy=0.737/0.808 (0/2 secs)\n",
      "Model abalone_model train ended in 2 secs:\n",
      "Model abalone_model test report: accuracy = 0.736, (0 secs)\n",
      "\n",
      "Model abalone_model Visualization\n",
      "[0.00,0.00,1.00,0.55,0.44,0.14,0.84,0.43,0.20,0.19] => 추정 10.4 : 정답  8.0\n",
      "[0.00,1.00,0.00,0.38,0.27,0.09,0.22,0.08,0.05,0.07] => 추정  8.0 : 정답  6.0\n",
      "[1.00,0.00,0.00,0.45,0.34,0.10,0.44,0.21,0.09,0.12] => 추정  8.1 : 정답  8.0\n"
     ]
    }
   ],
   "source": [
    "ad = AbaloneDataset()\n",
    "print(ad,'\\n')\n",
    "am = Mlp_Torch('abalone_model', ad, [10,10])\n",
    "am.exec_all(epoch_count=EPOCH, report=20,batch_size =BATCH_SIZE \\\n",
    "           , learning_rate = LEARNING_RATE , num_workers = NUM_WORKERS)"
   ]
  },
  {
   "cell_type": "code",
   "execution_count": null,
   "id": "113e6d1a",
   "metadata": {},
   "outputs": [],
   "source": []
  },
  {
   "cell_type": "code",
   "execution_count": null,
   "id": "841d93d0",
   "metadata": {},
   "outputs": [],
   "source": []
  }
 ],
 "metadata": {
  "kernelspec": {
   "display_name": "Python 3",
   "language": "python",
   "name": "python3"
  },
  "language_info": {
   "codemirror_mode": {
    "name": "ipython",
    "version": 3
   },
   "file_extension": ".py",
   "mimetype": "text/x-python",
   "name": "python",
   "nbconvert_exporter": "python",
   "pygments_lexer": "ipython3",
   "version": "3.7.9"
  }
 },
 "nbformat": 4,
 "nbformat_minor": 5
}
