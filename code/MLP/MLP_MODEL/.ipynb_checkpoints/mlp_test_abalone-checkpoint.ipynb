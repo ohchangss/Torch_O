{
 "cells": [
  {
   "cell_type": "code",
   "execution_count": 5,
   "id": "b1dee844",
   "metadata": {},
   "outputs": [
    {
     "name": "stdout",
     "output_type": "stream",
     "text": [
      "Using device: cpu\n",
      "Using PyTorch version: 1.9.0\n"
     ]
    }
   ],
   "source": [
    "BASE_DIR = '../'*3\n",
    "MLPMODEL = BASE_DIR +'code/MLP/MLP_MODEL/mlp_model.ipynb'\n",
    "PREPRO = BASE_DIR + 'code/UTIL/dataset/abalone_prepro.ipynb'\n",
    "%run {MLPMODEL}\n",
    "%run {PREPRO}"
   ]
  },
  {
   "cell_type": "code",
   "execution_count": 6,
   "id": "bc052174",
   "metadata": {},
   "outputs": [],
   "source": [
    "EPOCH = 5\n",
    "BATCH_SIZE=30\n",
    "NUM_WORKERS=0\n",
    "LEARNING_RATE = 0.01"
   ]
  },
  {
   "cell_type": "code",
   "execution_count": 7,
   "id": "8f547cee",
   "metadata": {
    "scrolled": false
   },
   "outputs": [
    {
     "name": "stdout",
     "output_type": "stream",
     "text": [
      "abalone(regression, 3340+420+417) \n",
      "\n",
      "Model abalone_model train started \n",
      "\n",
      "\n",
      "!!!!!!!!!!!\n",
      "!! Layer !! .\n",
      "!!!!!!!!!!! \n",
      "\n",
      " Net(\n",
      "  (layer1): Sequential(\n",
      "    (0): Linear(in_features=10, out_features=10, bias=True)\n",
      "    (1): ReLU()\n",
      "    (2): Linear(in_features=10, out_features=10, bias=True)\n",
      "    (3): ReLU()\n",
      "    (4): Linear(in_features=10, out_features=1, bias=True)\n",
      "  )\n",
      ")\n",
      "\n",
      "!!!!!!!!!!!!!!!\n",
      "!! optimizer !! \n",
      "!!!!!!!!!!!!!!! \n",
      "\n",
      " Adam (\n",
      "Parameter Group 0\n",
      "    amsgrad: False\n",
      "    betas: (0.9, 0.999)\n",
      "    eps: 1e-08\n",
      "    lr: 0.01\n",
      "    weight_decay: 0\n",
      ")\n",
      "    Epoch 1: cost=88.298, accuracy=0.050/0.260 (0/0 secs)\n",
      "    Epoch 1: cost=55.804, accuracy=0.302/0.703 (0/0 secs)\n",
      "    Epoch 1: cost=39.698, accuracy=0.445/0.729 (1/1 secs)\n",
      "    Epoch 1: cost=31.591, accuracy=0.519/0.706 (0/1 secs)\n",
      "    Epoch 1: cost=26.941, accuracy=0.560/0.741 (0/1 secs)\n",
      "    Epoch 2: cost=7.146, accuracy=0.733/0.761 (0/1 secs)\n",
      "    Epoch 2: cost=6.828, accuracy=0.741/0.706 (0/1 secs)\n",
      "    Epoch 2: cost=6.627, accuracy=0.747/0.716 (1/2 secs)\n",
      "    Epoch 2: cost=6.695, accuracy=0.747/0.770 (0/2 secs)\n",
      "    Epoch 2: cost=6.952, accuracy=0.744/0.767 (0/2 secs)\n",
      "    Epoch 3: cost=6.876, accuracy=0.738/0.794 (0/2 secs)\n",
      "    Epoch 3: cost=6.563, accuracy=0.747/0.733 (1/3 secs)\n",
      "    Epoch 3: cost=6.367, accuracy=0.752/0.711 (0/3 secs)\n",
      "    Epoch 3: cost=6.438, accuracy=0.752/0.751 (0/3 secs)\n",
      "    Epoch 3: cost=6.678, accuracy=0.749/0.750 (0/3 secs)\n",
      "    Epoch 4: cost=6.654, accuracy=0.742/0.780 (0/3 secs)\n",
      "    Epoch 4: cost=6.328, accuracy=0.751/0.739 (1/4 secs)\n",
      "    Epoch 4: cost=6.126, accuracy=0.757/0.771 (0/4 secs)\n",
      "    Epoch 4: cost=6.189, accuracy=0.756/0.778 (0/4 secs)\n",
      "    Epoch 4: cost=6.408, accuracy=0.754/0.800 (0/4 secs)\n",
      "    Epoch 5: cost=6.359, accuracy=0.748/0.753 (1/5 secs)\n",
      "    Epoch 5: cost=6.018, accuracy=0.757/0.757 (0/5 secs)\n",
      "    Epoch 5: cost=5.798, accuracy=0.763/0.861 (0/5 secs)\n",
      "    Epoch 5: cost=5.852, accuracy=0.763/0.733 (0/5 secs)\n",
      "    Epoch 5: cost=6.054, accuracy=0.761/0.781 (1/6 secs)\n",
      "Model abalone_model train ended in 6 secs:\n",
      "Model abalone_model test report: accuracy = 0.772, (0 secs)\n",
      "\n",
      "Model abalone_model Visualization\n",
      "[0.00,1.00,0.00,0.63,0.50,0.15,1.08,0.48,0.24,0.31] => 추정 11.2 : 정답 11.0\n",
      "[0.00,1.00,0.00,0.70,0.55,0.19,1.62,0.68,0.35,0.54] => 추정 12.9 : 정답 13.0\n",
      "[0.00,0.00,1.00,0.46,0.38,0.12,0.49,0.22,0.09,0.17] => 추정  9.9 : 정답  7.0\n"
     ]
    }
   ],
   "source": [
    "ad = AbaloneDataset()\n",
    "print(ad,'\\n')\n",
    "am = Mlp_Torch('abalone_model', ad, [10,10])\n",
    "am.exec_all(epoch_count=EPOCH, report=20,batch_size =BATCH_SIZE \\\n",
    "           , learning_rate = LEARNING_RATE , num_workers = NUM_WORKERS)"
   ]
  },
  {
   "cell_type": "code",
   "execution_count": 40,
   "id": "113e6d1a",
   "metadata": {},
   "outputs": [
    {
     "name": "stdout",
     "output_type": "stream",
     "text": [
      "torch.Size([10, 10])\n",
      "torch.Size([10])\n",
      "torch.Size([10, 10])\n",
      "torch.Size([10])\n",
      "torch.Size([1, 10])\n",
      "torch.Size([1])\n"
     ]
    }
   ],
   "source": [
    "# list(net.parameters())\n",
    "for i in list(am.model.parameters()):\n",
    "    print(i.shape)\n",
    "#     break"
   ]
  },
  {
   "cell_type": "code",
   "execution_count": 41,
   "id": "841d93d0",
   "metadata": {},
   "outputs": [],
   "source": [
    "from torchsummary import summary"
   ]
  },
  {
   "cell_type": "code",
   "execution_count": 54,
   "id": "6c768fd9",
   "metadata": {},
   "outputs": [
    {
     "ename": "SyntaxError",
     "evalue": "invalid syntax (CreatorTemp/ipykernel_32324/4233203404.py, line 1)",
     "output_type": "error",
     "traceback": [
      "\u001b[1;36m  File \u001b[1;32m\"C:\\Users\\Public\\Documents\\ESTsoft\\CreatorTemp/ipykernel_32324/4233203404.py\"\u001b[1;36m, line \u001b[1;32m1\u001b[0m\n\u001b[1;33m    summary(am.model,(,10))\u001b[0m\n\u001b[1;37m                      ^\u001b[0m\n\u001b[1;31mSyntaxError\u001b[0m\u001b[1;31m:\u001b[0m invalid syntax\n"
     ]
    }
   ],
   "source": [
    "summary(am.model,(,10))"
   ]
  },
  {
   "cell_type": "code",
   "execution_count": null,
   "id": "84c9bc9e",
   "metadata": {},
   "outputs": [],
   "source": []
  }
 ],
 "metadata": {
  "kernelspec": {
   "display_name": "Python 3 (ipykernel)",
   "language": "python",
   "name": "python3"
  },
  "language_info": {
   "codemirror_mode": {
    "name": "ipython",
    "version": 3
   },
   "file_extension": ".py",
   "mimetype": "text/x-python",
   "name": "python",
   "nbconvert_exporter": "python",
   "pygments_lexer": "ipython3",
   "version": "3.7.0"
  }
 },
 "nbformat": 4,
 "nbformat_minor": 5
}
