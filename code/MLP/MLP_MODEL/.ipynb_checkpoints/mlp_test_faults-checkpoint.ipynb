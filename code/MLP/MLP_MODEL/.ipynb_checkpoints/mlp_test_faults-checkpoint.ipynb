{
 "cells": [
  {
   "cell_type": "code",
   "execution_count": 7,
   "id": "d98d20e3",
   "metadata": {},
   "outputs": [
    {
     "name": "stdout",
     "output_type": "stream",
     "text": [
      "Using device: cuda\n",
      "GeForce GTX 1660 Ti\n",
      "Memory Usage:\n",
      "Allocated: 0.0 GB\n",
      "Cached:    0.0 GB\n",
      "Using PyTorch version: 1.7.1\n"
     ]
    }
   ],
   "source": [
    "BASE_DIR = '../'*3\n",
    "MLPMODEL = BASE_DIR +'code/MLP/MLP_MODEL/mlp_model.ipynb'\n",
    "PREPRO = BASE_DIR + 'code/UTIL/dataset/faults_prepro.ipynb'\n",
    "%run {MLPMODEL}\n",
    "%run {PREPRO}"
   ]
  },
  {
   "cell_type": "code",
   "execution_count": 8,
   "id": "10238098",
   "metadata": {},
   "outputs": [],
   "source": [
    "EPOCH = 10\n",
    "BATCH_SIZE=10\n",
    "NUM_WORKERS=0\n",
    "LEARNING_RATE = 0.001"
   ]
  },
  {
   "cell_type": "code",
   "execution_count": 9,
   "id": "eaab3cb8",
   "metadata": {
    "scrolled": false
   },
   "outputs": [
    {
     "name": "stdout",
     "output_type": "stream",
     "text": [
      "Model steel_model train started \n",
      "\n",
      "\n",
      "!!!!!!!!!!!\n",
      "!! Layer !! .\n",
      "!!!!!!!!!!! \n",
      "\n",
      " Net(\n",
      "  (layer1): Sequential(\n",
      "    (0): Linear(in_features=27, out_features=12, bias=True)\n",
      "    (1): ReLU()\n",
      "    (2): Linear(in_features=12, out_features=6, bias=True)\n",
      "    (3): ReLU()\n",
      "    (4): Linear(in_features=6, out_features=4, bias=True)\n",
      "    (5): ReLU()\n",
      "    (6): Linear(in_features=4, out_features=7, bias=True)\n",
      "  )\n",
      ")\n",
      "\n",
      "!!!!!!!!!!!!!!!\n",
      "!! optimizer !! \n",
      "!!!!!!!!!!!!!!! \n",
      "\n",
      " Adam (\n",
      "Parameter Group 0\n",
      "    amsgrad: False\n",
      "    betas: (0.9, 0.999)\n",
      "    eps: 1e-08\n",
      "    lr: 1e-05\n",
      "    weight_decay: 0\n",
      ")\n",
      "    Epoch 1: cost=46.412, accuracy=0.215/0.175 (0/0 secs)\n",
      "    Epoch 1: cost=76.082, accuracy=0.218/0.175 (0/0 secs)\n",
      "    Epoch 1: cost=62.333, accuracy=0.208/0.175 (0/0 secs)\n",
      "    Epoch 1: cost=59.196, accuracy=0.215/0.175 (0/0 secs)\n",
      "    Epoch 1: cost=83.310, accuracy=0.211/0.175 (0/0 secs)\n",
      "    Epoch 1: cost=75.145, accuracy=0.212/0.175 (0/0 secs)\n",
      "    Epoch 1: cost=77.288, accuracy=0.210/0.175 (0/0 secs)\n",
      "    Epoch 2: cost=62.590, accuracy=0.210/0.175 (1/1 secs)\n",
      "    Epoch 2: cost=46.120, accuracy=0.210/0.175 (0/1 secs)\n",
      "    Epoch 2: cost=54.514, accuracy=0.210/0.175 (0/1 secs)\n",
      "    Epoch 2: cost=56.991, accuracy=0.209/0.175 (0/1 secs)\n",
      "    Epoch 2: cost=69.047, accuracy=0.217/0.175 (0/1 secs)\n",
      "    Epoch 2: cost=68.120, accuracy=0.207/0.175 (0/1 secs)\n",
      "    Epoch 2: cost=65.027, accuracy=0.204/0.175 (0/1 secs)\n",
      "    Epoch 3: cost=131.188, accuracy=0.275/0.175 (0/1 secs)\n",
      "    Epoch 3: cost=114.135, accuracy=0.233/0.175 (0/1 secs)\n",
      "    Epoch 3: cost=92.274, accuracy=0.212/0.175 (0/1 secs)\n",
      "    Epoch 3: cost=76.136, accuracy=0.203/0.175 (0/1 secs)\n",
      "    Epoch 3: cost=69.931, accuracy=0.214/0.175 (0/1 secs)\n",
      "    Epoch 3: cost=75.718, accuracy=0.210/0.175 (0/1 secs)\n",
      "    Epoch 3: cost=73.034, accuracy=0.209/0.175 (0/1 secs)\n",
      "    Epoch 4: cost=88.251, accuracy=0.225/0.175 (0/1 secs)\n",
      "    Epoch 4: cost=53.839, accuracy=0.205/0.175 (0/1 secs)\n",
      "    Epoch 4: cost=53.352, accuracy=0.215/0.175 (0/1 secs)\n",
      "    Epoch 4: cost=61.180, accuracy=0.209/0.175 (0/1 secs)\n",
      "    Epoch 4: cost=57.224, accuracy=0.204/0.175 (1/2 secs)\n",
      "    Epoch 4: cost=59.934, accuracy=0.199/0.175 (0/2 secs)\n",
      "    Epoch 4: cost=60.467, accuracy=0.205/0.175 (0/2 secs)\n",
      "    Epoch 5: cost=63.022, accuracy=0.205/0.175 (0/2 secs)\n",
      "    Epoch 5: cost=95.994, accuracy=0.198/0.175 (0/2 secs)\n",
      "    Epoch 5: cost=66.043, accuracy=0.208/0.175 (0/2 secs)\n",
      "    Epoch 5: cost=59.704, accuracy=0.208/0.175 (0/2 secs)\n",
      "    Epoch 5: cost=67.004, accuracy=0.213/0.175 (0/2 secs)\n",
      "    Epoch 5: cost=57.534, accuracy=0.207/0.175 (0/2 secs)\n",
      "    Epoch 5: cost=63.480, accuracy=0.209/0.175 (0/2 secs)\n",
      "    Epoch 6: cost=105.749, accuracy=0.175/0.175 (0/2 secs)\n",
      "    Epoch 6: cost=73.233, accuracy=0.192/0.175 (0/2 secs)\n",
      "    Epoch 6: cost=65.370, accuracy=0.215/0.175 (0/2 secs)\n",
      "    Epoch 6: cost=59.866, accuracy=0.203/0.175 (0/2 secs)\n",
      "    Epoch 6: cost=53.053, accuracy=0.206/0.175 (0/2 secs)\n",
      "    Epoch 6: cost=65.089, accuracy=0.208/0.175 (0/2 secs)\n",
      "    Epoch 6: cost=57.208, accuracy=0.206/0.175 (0/2 secs)\n",
      "    Epoch 7: cost=44.789, accuracy=0.240/0.175 (1/3 secs)\n",
      "    Epoch 7: cost=47.967, accuracy=0.205/0.175 (0/3 secs)\n",
      "    Epoch 7: cost=38.241, accuracy=0.210/0.175 (0/3 secs)\n",
      "    Epoch 7: cost=44.277, accuracy=0.205/0.175 (0/3 secs)\n",
      "    Epoch 7: cost=46.464, accuracy=0.207/0.175 (0/3 secs)\n",
      "    Epoch 7: cost=49.508, accuracy=0.214/0.175 (0/3 secs)\n",
      "    Epoch 7: cost=57.606, accuracy=0.209/0.175 (0/3 secs)\n",
      "    Epoch 8: cost=26.459, accuracy=0.220/0.175 (0/3 secs)\n",
      "    Epoch 8: cost=41.709, accuracy=0.205/0.175 (0/3 secs)\n",
      "    Epoch 8: cost=43.242, accuracy=0.198/0.175 (0/3 secs)\n",
      "    Epoch 8: cost=36.931, accuracy=0.199/0.175 (0/3 secs)\n",
      "    Epoch 8: cost=39.934, accuracy=0.197/0.175 (0/3 secs)\n",
      "    Epoch 8: cost=44.945, accuracy=0.193/0.175 (0/3 secs)\n",
      "    Epoch 8: cost=51.124, accuracy=0.201/0.175 (0/3 secs)\n",
      "    Epoch 9: cost=39.778, accuracy=0.200/0.175 (0/3 secs)\n",
      "    Epoch 9: cost=73.341, accuracy=0.218/0.175 (0/3 secs)\n",
      "    Epoch 9: cost=65.074, accuracy=0.198/0.175 (0/3 secs)\n",
      "    Epoch 9: cost=53.435, accuracy=0.194/0.175 (0/3 secs)\n",
      "    Epoch 9: cost=53.275, accuracy=0.194/0.175 (0/3 secs)\n",
      "    Epoch 9: cost=52.398, accuracy=0.189/0.175 (1/4 secs)\n",
      "    Epoch 9: cost=46.097, accuracy=0.199/0.175 (0/4 secs)\n",
      "    Epoch 10: cost=81.275, accuracy=0.200/0.175 (0/4 secs)\n",
      "    Epoch 10: cost=43.873, accuracy=0.205/0.175 (0/4 secs)\n",
      "    Epoch 10: cost=39.482, accuracy=0.217/0.175 (0/4 secs)\n",
      "    Epoch 10: cost=53.743, accuracy=0.213/0.175 (0/4 secs)\n",
      "    Epoch 10: cost=45.830, accuracy=0.209/0.175 (0/4 secs)\n",
      "    Epoch 10: cost=49.125, accuracy=0.215/0.175 (0/4 secs)\n",
      "    Epoch 10: cost=51.309, accuracy=0.207/0.175 (0/4 secs)\n",
      "Model steel_model train ended in 4 secs:\n",
      "Model steel_model test report: accuracy = 0.231, (0 secs)\n",
      "\n",
      "Model steel_model Visualization\n",
      "추정확률분포 [15,15,13,11,14,18,14] => 추정 Bumps : 정답 Bumps => O\n",
      "추정확률분포 [15,15,13,11,14,18,14] => 추정 Bumps : 정답 K_Scatch => X\n",
      "추정확률분포 [15,15,13,11,14,18,14] => 추정 Bumps : 정답 Z_Scratch => X\n"
     ]
    }
   ],
   "source": [
    "sd = SteelDataset()\n",
    "sm = Mlp_Torch('steel_model', sd, [12,6,4])\n",
    "sm.exec_all(epoch_count=EPOCH, report=20, batch_size =BATCH_SIZE \\\n",
    "           , learning_rate = LEARNING_RATE , num_workers = NUM_WORKERS)"
   ]
  },
  {
   "cell_type": "code",
   "execution_count": 84,
   "id": "153c18fc",
   "metadata": {},
   "outputs": [
    {
     "data": {
      "text/plain": [
       "tensor([4, 3, 6, 6, 5, 1, 0, 2, 6, 1, 0, 0, 1, 2, 2, 2, 6, 5, 5, 1, 0, 6, 6, 5,\n",
       "        2, 1, 6, 0, 1, 6])"
      ]
     },
     "execution_count": 84,
     "metadata": {},
     "output_type": "execute_result"
    }
   ],
   "source": [
    "torch.argmax(a,dim=1)"
   ]
  },
  {
   "cell_type": "code",
   "execution_count": 79,
   "id": "9be84099",
   "metadata": {},
   "outputs": [
    {
     "data": {
      "text/plain": [
       "tensor(4)"
      ]
     },
     "execution_count": 79,
     "metadata": {},
     "output_type": "execute_result"
    }
   ],
   "source": [
    "torch.argmax(a)"
   ]
  },
  {
   "cell_type": "code",
   "execution_count": 75,
   "id": "f8dd3ec7",
   "metadata": {},
   "outputs": [
    {
     "data": {
      "text/plain": [
       "torch.Size([30, 7])"
      ]
     },
     "execution_count": 75,
     "metadata": {},
     "output_type": "execute_result"
    }
   ],
   "source": [
    "a.shape"
   ]
  },
  {
   "cell_type": "code",
   "execution_count": null,
   "id": "3f73360f",
   "metadata": {},
   "outputs": [],
   "source": []
  }
 ],
 "metadata": {
  "kernelspec": {
   "display_name": "Python 3",
   "language": "python",
   "name": "python3"
  },
  "language_info": {
   "codemirror_mode": {
    "name": "ipython",
    "version": 3
   },
   "file_extension": ".py",
   "mimetype": "text/x-python",
   "name": "python",
   "nbconvert_exporter": "python",
   "pygments_lexer": "ipython3",
   "version": "3.7.9"
  }
 },
 "nbformat": 4,
 "nbformat_minor": 5
}
