{
 "cells": [
  {
   "cell_type": "code",
   "execution_count": 1,
   "id": "important-phenomenon",
   "metadata": {},
   "outputs": [],
   "source": [
    "BASE_DIR = '../'*3\n",
    "RUN_DIR = BASE_DIR +'code/MLP/MLP_MODEL/mlp_model.ipynb'\n",
    "%run {RUN_DIR}"
   ]
  },
  {
   "cell_type": "code",
   "execution_count": 4,
   "id": "small-commercial",
   "metadata": {},
   "outputs": [],
   "source": [
    "class AdamModel(Mlp_Torch):\n",
    "    def __init__(self, name, datsaet, hconfigs):\n",
    "        self.use_adam =False\n",
    "        super(AdamModel, self).__init__(name, dataset, hconfigs)\n",
    "        "
   ]
  },
  {
   "cell_type": "code",
   "execution_count": null,
   "id": "compound-tucson",
   "metadata": {},
   "outputs": [],
   "source": [
    "def adam_update_param(self, pm, key, delta):\n",
    "    if self.use_adam:\n",
    "        \n",
    "        optim=torch.optim.Adam(self.model.parameters(),lr=self.learning_rate,\\\n",
    "                         betas=(0.9,0.999),eps=1e-08)\n",
    "#         torch.optim.Adam(params=self.model.parameters(),lr=self.Learning_rate,)"
   ]
  },
  {
   "cell_type": "code",
   "execution_count": null,
   "id": "objective-seating",
   "metadata": {},
   "outputs": [],
   "source": []
  }
 ],
 "metadata": {
  "kernelspec": {
   "display_name": "Python 3 (ipykernel)",
   "language": "python",
   "name": "python3"
  },
  "language_info": {
   "codemirror_mode": {
    "name": "ipython",
    "version": 3
   },
   "file_extension": ".py",
   "mimetype": "text/x-python",
   "name": "python",
   "nbconvert_exporter": "python",
   "pygments_lexer": "ipython3",
   "version": "3.7.0"
  }
 },
 "nbformat": 4,
 "nbformat_minor": 5
}
