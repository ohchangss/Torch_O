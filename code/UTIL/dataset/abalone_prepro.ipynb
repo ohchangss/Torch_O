{
 "cells": [
  {
   "cell_type": "code",
   "execution_count": 1,
   "id": "a9d63737",
   "metadata": {},
   "outputs": [],
   "source": [
    "BASE_DIR = '../'*3\n",
    "# DATA_2_TORCH = BASE_DIR + 'code/UTIL/dataset/dataset.ipynb'\n",
    "DATA_DIR = BASE_DIR + 'data/SLP/abalone/abalone.csv'"
   ]
  },
  {
   "cell_type": "code",
   "execution_count": 2,
   "id": "a03fd0ff",
   "metadata": {},
   "outputs": [
    {
     "name": "stdout",
     "output_type": "stream",
     "text": [
      "Using device: cpu\n",
      "Using PyTorch version: 1.9.0\n"
     ]
    }
   ],
   "source": [
    "# %run {DATA_2_TORCH}"
   ]
  },
  {
   "cell_type": "code",
   "execution_count": 1,
   "id": "260759e0",
   "metadata": {},
   "outputs": [],
   "source": [
    "import csv\n",
    "import numpy as np"
   ]
  },
  {
   "cell_type": "code",
   "execution_count": null,
   "id": "0bfd83f3",
   "metadata": {},
   "outputs": [],
   "source": [
    "class AbaloneDataset(Dataset_Mlp):\n",
    "    def __init__(self):\n",
    "        super(AbaloneDataset, self).__init__('abalone', 'regression')\n",
    "    \n",
    "        rows, _ = load_csv(BASE_DIR+'/data/SLP/abalone/abalone.csv')\n",
    "\n",
    "        xs = np.zeros([len(rows), 10])\n",
    "        ys = np.zeros([len(rows), 1])\n",
    "\n",
    "        for n, row in enumerate(rows):\n",
    "            if row[0] == 'I': xs[n, 0] = 1\n",
    "            if row[0] == 'M': xs[n, 1] = 1\n",
    "            if row[0] == 'F': xs[n, 2] = 1\n",
    "            xs[n, 3:] = row[1:-1]\n",
    "            ys[n, :] = row[-1:]\n",
    "        \n",
    "        self.shuffle_data(xs, ys, 0.8)\n",
    "        \n",
    "    def visualize(self, xs, estimates, answers):\n",
    "        for n in range(len(xs)):\n",
    "            x, est, ans = xs[n], estimates[n], answers[n]\n",
    "            xstr = vector_to_str(x, '%4.2f')\n",
    "            print('{} => 추정 {:4.1f} : 정답 {:4.1f}'.\n",
    "                  format(xstr, est[0], ans[0]))"
   ]
  },
  {
   "cell_type": "code",
   "execution_count": null,
   "id": "de36811c",
   "metadata": {},
   "outputs": [],
   "source": [
    "class PulsarDataset(Dataset):\n",
    "    def __init__(self):\n",
    "        super(PulsarDataset, self).__init__('pulsar', 'binary')\n",
    "    \n",
    "        rows, _ = load_csv(BASE_DIR+'/data/SLP/pulsar_stars/pulsar_stars.csv')\n",
    "\n",
    "        data = np.asarray(rows, dtype='float32')\n",
    "        self.shuffle_data(data[:,:-1], data[:,-1:], 0.8)\n",
    "        self.target_names = ['별', '펄서']\n",
    "        \n",
    "    def visualize(self, xs, estimates, answers):\n",
    "        for n in range(len(xs)):\n",
    "            x, est, ans = xs[n], estimates[n], answers[n]\n",
    "            xstr = vector_to_str(x, '%5.1f', 3)\n",
    "            estr = self.target_names[int(round(est[0]))]\n",
    "            astr = self.target_names[int(round(ans[0]))]\n",
    "            rstr = 'O'\n",
    "            if estr != astr: rstr = 'X'\n",
    "            print('{} => 추정 {}(확률 {:4.2f}) : 정답 {} => {}'. \\\n",
    "                  format(xstr, estr, est[0], astr, rstr))"
   ]
  },
  {
   "cell_type": "code",
   "execution_count": null,
   "id": "13978eb0",
   "metadata": {},
   "outputs": [],
   "source": [
    "class SteelDataset(Dataset):\n",
    "    def __init__(self):\n",
    "        super(SteelDataset, self).__init__('steel', 'select')\n",
    "    \n",
    "        rows, headers = load_csv(BASE_DIR+'/data/SLP/faults/faults.csv')\n",
    "\n",
    "        data = np.asarray(rows, dtype='float32')\n",
    "        self.shuffle_data(data[:,:-7], data[:,-7:], 0.8)\n",
    "        \n",
    "        self.target_names = headers[-7:]\n",
    "        \n",
    "    def visualize(self, xs, estimates, answers):\n",
    "        show_select_results(estimates, answers, self.target_names)"
   ]
  },
  {
   "cell_type": "code",
   "execution_count": 4,
   "id": "d3e9ca0f",
   "metadata": {},
   "outputs": [],
   "source": [
    "# def abalone_prepro(self):\n",
    "#     with open(DATA_DIR) as csvfile:\n",
    "#         csvreader = csv.reader(csvfile)\n",
    "#         next(csvreader, None)\n",
    "#         rows = []\n",
    "#         for row in csvreader:\n",
    "#             rows.append(row)\n",
    "\n",
    "\n",
    "#         input_cnt, output_cnt = 10, 1\n",
    "\n",
    "#         data = np.zeros([len(rows), input_cnt+output_cnt])\n",
    "\n",
    "#         for n, row in enumerate(rows):\n",
    "#             if row[0] == 'I': data[n, 0] = 1\n",
    "#             if row[0] == 'M': data[n, 1] = 1\n",
    "#             if row[0] == 'F': data[n, 2] = 1\n",
    "#             data[n, 3:] = row[1:]\n",
    "\n",
    "#         x_data = data[:,:input_cnt]\n",
    "#         y_data = data[:,input_cnt:]\n",
    "        \n",
    "#         self.Train_test_split(x_data, y_data)\n",
    "\n",
    "# Dataset_2_torch.init_data = abalone_prepro"
   ]
  },
  {
   "cell_type": "code",
   "execution_count": null,
   "id": "a5e4427b",
   "metadata": {},
   "outputs": [],
   "source": []
  }
 ],
 "metadata": {
  "kernelspec": {
   "display_name": "Python 3 (ipykernel)",
   "language": "python",
   "name": "python3"
  },
  "language_info": {
   "codemirror_mode": {
    "name": "ipython",
    "version": 3
   },
   "file_extension": ".py",
   "mimetype": "text/x-python",
   "name": "python",
   "nbconvert_exporter": "python",
   "pygments_lexer": "ipython3",
   "version": "3.7.0"
  }
 },
 "nbformat": 4,
 "nbformat_minor": 5
}
