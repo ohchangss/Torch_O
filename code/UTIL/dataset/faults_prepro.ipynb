{
 "cells": [
  {
   "cell_type": "code",
   "execution_count": 1,
   "id": "1cf9e670",
   "metadata": {},
   "outputs": [
    {
     "name": "stdout",
     "output_type": "stream",
     "text": [
      "Using device: cpu\n",
      "Using PyTorch version: 1.9.0\n"
     ]
    }
   ],
   "source": [
    "BASE_DIR = '../'*3\n",
    "DATASET = BASE_DIR +'code/UTIL/dataset/dataset.ipynb'\n",
    "%run {DATASET}"
   ]
  },
  {
   "cell_type": "code",
   "execution_count": null,
   "id": "cbb62876",
   "metadata": {},
   "outputs": [],
   "source": [
    "class SteelDataset(Dataset_torch):\n",
    "    def __init__(self):\n",
    "        super(SteelDataset, self).__init__('steel', 'select')\n",
    "    \n",
    "        rows, headers = load_csv(BASE_DIR+'/data/SLP/faults/faults.csv')\n",
    "\n",
    "        data = np.asarray(rows, dtype='float32')\n",
    "        self.shuffle_data(data[:,:-7], data[:,-7:], 0.8)\n",
    "        \n",
    "        self.target_names = headers[-7:]\n",
    "        \n",
    "    def visualize(self, xs, estimates, answers):\n",
    "        show_select_results(estimates, answers, self.target_names)"
   ]
  }
 ],
 "metadata": {
  "kernelspec": {
   "display_name": "Python 3 (ipykernel)",
   "language": "python",
   "name": "python3"
  },
  "language_info": {
   "codemirror_mode": {
    "name": "ipython",
    "version": 3
   },
   "file_extension": ".py",
   "mimetype": "text/x-python",
   "name": "python",
   "nbconvert_exporter": "python",
   "pygments_lexer": "ipython3",
   "version": "3.7.11"
  }
 },
 "nbformat": 4,
 "nbformat_minor": 5
}
