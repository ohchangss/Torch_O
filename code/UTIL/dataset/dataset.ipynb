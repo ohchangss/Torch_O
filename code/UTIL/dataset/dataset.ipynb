{
 "cells": [
  {
   "cell_type": "code",
   "execution_count": 17,
   "id": "349dc07f",
   "metadata": {},
   "outputs": [
    {
     "name": "stdout",
     "output_type": "stream",
     "text": [
      "Using device: cpu\n",
      "Using PyTorch version: 1.9.0\n"
     ]
    }
   ],
   "source": [
    "BASE_DIR ='../'*3\n",
    "UTIL_DIR = BASE_DIR + 'code/UTIL/math/mathutil.ipynb'\n",
    "%run {UTIL_DIR}"
   ]
  },
  {
   "cell_type": "code",
   "execution_count": 18,
   "id": "fcae8056",
   "metadata": {},
   "outputs": [],
   "source": [
    "from torch.utils.data import DataLoader, Dataset"
   ]
  },
  {
   "cell_type": "code",
   "execution_count": 19,
   "id": "e5c5ea71",
   "metadata": {},
   "outputs": [],
   "source": [
    "class Dataset_torch(object):\n",
    "    def __init__(self, name, mode):\n",
    "        self.name = name\n",
    "        self.mode = mode\n",
    "    \n",
    "    def __str__(self):\n",
    "        return '{}({}, {}+{}+{})'.format(self.name, self.mode, \\\n",
    "                   len(self.tr_xs), len(self.te_xs), len(self.va_xs))\n",
    "\n",
    "    @property\n",
    "    def train_count(self):\n",
    "        return len(self.tr_xs)"
   ]
  },
  {
   "cell_type": "code",
   "execution_count": 20,
   "id": "6253b495",
   "metadata": {},
   "outputs": [],
   "source": [
    "def dataset_shuffle_data(self, xs, ys, tr_ratio=0.8, va_ratio=0.05):\n",
    "    data_count = len(xs)\n",
    "\n",
    "    tr_cnt = int(data_count * tr_ratio / 10) * 10\n",
    "    va_cnt = int(data_count * va_ratio)\n",
    "    te_cnt = data_count - (tr_cnt + va_cnt)\n",
    "\n",
    "    tr_from, tr_to = 0, tr_cnt\n",
    "    va_from, va_to = tr_cnt, tr_cnt + va_cnt\n",
    "    te_from, te_to = tr_cnt + va_cnt, data_count\n",
    "\n",
    "    indices = np.arange(data_count)\n",
    "    np.random.shuffle(indices)\n",
    "\n",
    "    self.tr_xs = xs[indices[tr_from:tr_to]]\n",
    "    self.tr_ys = ys[indices[tr_from:tr_to]]\n",
    "    self.va_xs = xs[indices[va_from:va_to]]\n",
    "    self.va_ys = ys[indices[va_from:va_to]]\n",
    "    self.te_xs = xs[indices[te_from:te_to]]\n",
    "    self.te_ys = ys[indices[te_from:te_to]]\n",
    "\n",
    "    self.input_shape = xs[0].shape\n",
    "    self.output_shape = ys[0].shape\n",
    "    \n",
    "    return indices[tr_from:tr_to], indices[va_from:va_to], indices[te_from:te_to]\n",
    "\n",
    "Dataset_torch.shuffle_data = dataset_shuffle_data"
   ]
  },
  {
   "cell_type": "code",
   "execution_count": 21,
   "id": "54afc779",
   "metadata": {},
   "outputs": [],
   "source": [
    "class Dataset_2_torch(Dataset):\n",
    "    def __init__(self,x,y):\n",
    "        \n",
    "        self.X_data  = torch.from_numpy(x).float()\n",
    "        self.y_data = torch.from_numpy(y).float()\n",
    "\n",
    "    def __len__(self):\n",
    "        \n",
    "        return self.X_data.shape[0]\n",
    "\n",
    "    def __getitem__(self,idx):\n",
    "        \n",
    "        x_ = self.X_data[idx]\n",
    "        y_ = self.y_data[idx]\n",
    "\n",
    "        return x_, y_"
   ]
  },
  {
   "cell_type": "code",
   "execution_count": 24,
   "id": "9938fa71",
   "metadata": {},
   "outputs": [],
   "source": [
    "def dataloader_torch(self,x,y,batch_size,num_workers):\n",
    "    self.num_workers = num_workers\n",
    "    self.batch_size = batch_size\n",
    "    \n",
    "    Ds=Dataset_2_torch(x,y)\n",
    "    dataloader = DataLoader(Ds, batch_size=self.batch_size, \\\n",
    "                            shuffle=True,num_workers=self.num_workers)\n",
    "    \n",
    "    return dataloader\n",
    "\n",
    "Dataset_torch.dataloader = dataloader_torch\n"
   ]
  },
  {
   "cell_type": "code",
   "execution_count": 25,
   "id": "2ed40f35",
   "metadata": {},
   "outputs": [],
   "source": [
    "def dataset_eval_accuracy_torch(self, x, y, output, mode =None):\n",
    "    \n",
    "    if mode is None: mode = self.mode\n",
    "        \n",
    "    if mode == 'regression':\n",
    "        mse = torch.mean(torch.square(output - y))\n",
    "        accuracy = 1 - torch.sqrt(mse) / torch.mean(y)\n",
    "        \n",
    "#     elif mode == 'binary':\n",
    "#         estimate = np.greater(output, 0)\n",
    "#         answer = np.equal(y, 1.0)\n",
    "#         correct = np.equal(estimate, answer)\n",
    "#         accuracy = np.mean(correct)\n",
    "        \n",
    "#     elif mode == 'select':\n",
    "#         estimate = np.argmax(output, axis=1)\n",
    "#         answer = np.argmax(y, axis=1)\n",
    "#         correct = np.equal(estimate, answer)\n",
    "#         accuracy = np.mean(correct)\n",
    "        \n",
    "    return accuracy\n",
    "\n",
    "Dataset_torch.eval_accuracy = dataset_eval_accuracy_torch\n"
   ]
  },
  {
   "cell_type": "code",
   "execution_count": null,
   "id": "b489a8de",
   "metadata": {},
   "outputs": [],
   "source": []
  }
 ],
 "metadata": {
  "kernelspec": {
   "display_name": "Python 3 (ipykernel)",
   "language": "python",
   "name": "python3"
  },
  "language_info": {
   "codemirror_mode": {
    "name": "ipython",
    "version": 3
   },
   "file_extension": ".py",
   "mimetype": "text/x-python",
   "name": "python",
   "nbconvert_exporter": "python",
   "pygments_lexer": "ipython3",
   "version": "3.7.0"
  }
 },
 "nbformat": 4,
 "nbformat_minor": 5
}
