{
 "cells": [
  {
   "cell_type": "code",
   "execution_count": 4,
   "id": "120cb88c",
   "metadata": {},
   "outputs": [
    {
     "name": "stdout",
     "output_type": "stream",
     "text": [
      "Using device: cpu\n",
      "Using PyTorch version: 1.9.0\n"
     ]
    }
   ],
   "source": [
    "BASE_DIR = '../'*3\n",
    "CHCK_DIR = BASE_DIR + 'code/UTIL/chck_device/chck_device.ipynb'\n",
    "%run {CHCK_DIR}"
   ]
  },
  {
   "cell_type": "code",
   "execution_count": 5,
   "id": "94b32dac",
   "metadata": {},
   "outputs": [],
   "source": [
    "from torch.utils.data import DataLoader, Dataset"
   ]
  },
  {
   "cell_type": "code",
   "execution_count": 6,
   "id": "df0e61ae",
   "metadata": {},
   "outputs": [],
   "source": [
    "class Dataset_2_torch(Dataset):\n",
    "    def __init__(self):\n",
    "        \n",
    "        aux = self.init_data()\n",
    "        \n",
    "        self.X_data  = aux[0]\n",
    "        self.y_data = aux[1]\n",
    "        self.input_shape = aux[2][0]\n",
    "        \n",
    "    def __len__(self):\n",
    "        return self.input_shape\n",
    "    def __getitem__(self,idx):\n",
    "        x = torch.FloatTensor(self.X_data[idx]).to(DEVICE)\n",
    "        y = torch.FloatTensor(self.y_data[idx]).to(DEVICE)\n",
    "        \n",
    "        return x, y"
   ]
  },
  {
   "cell_type": "code",
   "execution_count": null,
   "id": "37a77d40",
   "metadata": {},
   "outputs": [],
   "source": []
  }
 ],
 "metadata": {
  "kernelspec": {
   "display_name": "Python 3 (ipykernel)",
   "language": "python",
   "name": "python3"
  },
  "language_info": {
   "codemirror_mode": {
    "name": "ipython",
    "version": 3
   },
   "file_extension": ".py",
   "mimetype": "text/x-python",
   "name": "python",
   "nbconvert_exporter": "python",
   "pygments_lexer": "ipython3",
   "version": "3.7.0"
  }
 },
 "nbformat": 4,
 "nbformat_minor": 5
}
