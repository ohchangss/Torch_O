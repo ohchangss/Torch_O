{
 "cells": [
  {
   "cell_type": "code",
   "execution_count": 1,
   "id": "349dc07f",
   "metadata": {},
   "outputs": [
    {
     "name": "stdout",
     "output_type": "stream",
     "text": [
      "Using device: cuda\n",
      "NVIDIA GeForce RTX 3060 Laptop GPU\n",
      "Memory Usage:\n",
      "Allocated: 0.0 GB\n",
      "Cached:    0.0 GB\n",
      "Using PyTorch version: 1.10.1\n"
     ]
    }
   ],
   "source": [
    "BASE_DIR ='../'*3\n",
    "UTIL_DIR = BASE_DIR + 'code/UTIL/math/mathutil.ipynb'\n",
    "%run {UTIL_DIR}"
   ]
  },
  {
   "cell_type": "code",
   "execution_count": 18,
   "id": "fcae8056",
   "metadata": {},
   "outputs": [],
   "source": [
    "from torch.utils.data import DataLoader, Dataset"
   ]
  },
  {
   "cell_type": "code",
   "execution_count": 19,
   "id": "e5c5ea71",
   "metadata": {},
   "outputs": [],
   "source": [
    "class Dataset_torch(object):\n",
    "    def __init__(self, name, mode):\n",
    "        self.name = name\n",
    "        self.mode = mode\n",
    "#         self.time_serial = False\n",
    "    \n",
    "    def __str__(self):\n",
    "        return '{}({}, {}+{}+{})'.format(self.name, self.mode, \\\n",
    "                   len(self.tr_xs), len(self.te_xs), len(self.va_xs))\n",
    "\n",
    "    @property\n",
    "    def train_count(self):\n",
    "        return len(self.tr_xs)"
   ]
  },
  {
   "cell_type": "code",
   "execution_count": null,
   "id": "0233c197",
   "metadata": {},
   "outputs": [],
   "source": [
    "def dataset_get_train_data(self, batch_size, nth):\n",
    "    from_idx = nth * batch_size\n",
    "    to_idx = (nth + 1) * batch_size\n",
    "    tr_X = self.tr_xs[self.indices[from_idx:to_idx]]\n",
    "    tr_Y = self.tr_ys[self.indices[from_idx:to_idx]]\n",
    "    \n",
    "    return tr_X, tr_Y\n",
    "\n",
    "def dataset_shuffle_train_data(self, size):\n",
    "    self.indices = np.arange(size)\n",
    "    np.random.shuffle(self.indices)\n",
    "\n",
    "Dataset_torch.get_train_data = dataset_get_train_data\n",
    "Dataset_torch.shuffle_train_data = dataset_shuffle_train_data"
   ]
  },
  {
   "cell_type": "code",
   "execution_count": null,
   "id": "4e1683dd",
   "metadata": {},
   "outputs": [],
   "source": [
    "def get_test_data(self):\n",
    "    return self.te_xs,self.te_ys\n",
    "\n",
    "Dataset_torch.get_test_data = get_test_data"
   ]
  },
  {
   "cell_type": "code",
   "execution_count": null,
   "id": "38085f26",
   "metadata": {},
   "outputs": [],
   "source": [
    "def get_validate_data(self, count):\n",
    "    self.va_indices=np.arange(len(self.va_xs))\n",
    "    np.random.shuffle(self.va_indices)\n",
    "    \n",
    "    va_X = self.va_xs[self.va_indices[0:count]]\n",
    "    va_Y = self.va_ys[self.va_indices[0:count]]\n",
    "    \n",
    "    return va_X, va_Y\n",
    "\n",
    "Dataset_torch.get_validate_date = get_validate_data\n",
    "Dataset_torch.get_visualize_data = get_validate_data"
   ]
  },
  {
   "cell_type": "code",
   "execution_count": 20,
   "id": "6253b495",
   "metadata": {},
   "outputs": [],
   "source": [
    "def dataset_shuffle_data(self, xs, ys, tr_ratio=0.8, va_ratio=0.1,sqc=False):\n",
    "    data_count = len(xs)\n",
    "    tr_cnt = int(data_count * tr_ratio / 10) * 10\n",
    "    va_cnt = int(data_count * va_ratio)\n",
    "    te_cnt = data_count - (tr_cnt + va_cnt)\n",
    "\n",
    "    tr_from, tr_to = 0, tr_cnt\n",
    "    va_from, va_to = tr_cnt, tr_cnt + va_cnt\n",
    "    te_from, te_to = tr_cnt + va_cnt, data_count\n",
    "\n",
    "    indices = np.arange(data_count)\n",
    "    np.random.shuffle(indices)\n",
    "    self.tr_xs = xs[indices[tr_from:tr_to]]\n",
    "    self.tr_ys = ys[indices[tr_from:tr_to]]\n",
    "    self.va_xs = xs[indices[va_from:va_to]]\n",
    "    self.va_ys = ys[indices[va_from:va_to]]\n",
    "    self.te_xs = xs[indices[te_from:te_to]]\n",
    "    self.te_ys = ys[indices[te_from:te_to]]\n",
    "        \n",
    "    self.input_shape = xs[0].shape\n",
    "    self.output_shape = ys[0].shape\n",
    "    \n",
    "    return indices[tr_from:tr_to], indices[va_from:va_to], indices[te_from:te_to]\n",
    "\n",
    "Dataset_torch.shuffle_data = dataset_shuffle_data"
   ]
  },
  {
   "cell_type": "code",
   "execution_count": null,
   "id": "addressed-julian",
   "metadata": {},
   "outputs": [],
   "source": [
    "def dataset_forward_postproc(self, loss_func, output, y_train, mode=None):\n",
    "    if mode == None : mode = self.mode\n",
    "    if mode == 'regression':\n",
    "        loss = loss_func(output, y_train)\n",
    "    elif mode == 'binary':\n",
    "        loss = loss_func(output, y_train)\n",
    "    elif mode == 'select':\n",
    "        loss = loss_func(output, torch.argmax(y_train, axis=1))\n",
    "\n",
    "#         entropy = softmax_cross_entropy_with_logits(y_train, output)\n",
    "#         loss = torch.mean(entropy)\n",
    "\n",
    "        \n",
    "    return loss\n",
    "\n",
    "Dataset_torch.forward_postproc = dataset_forward_postproc"
   ]
  },
  {
   "cell_type": "code",
   "execution_count": 25,
   "id": "2ed40f35",
   "metadata": {},
   "outputs": [],
   "source": [
    "def dataset_eval_accuracy_torch(self, x, y, output, mode =None):\n",
    "    \n",
    "    if mode is None: mode = self.mode\n",
    "        \n",
    "    if mode == 'regression':\n",
    "        mse = torch.mean(torch.square(output - y))\n",
    "        accuracy = 1 - torch.sqrt(mse) / torch.mean(y)\n",
    "        \n",
    "    elif mode == 'binary':\n",
    "        estimate = torch.greater(output, -3)\n",
    "        answer = torch.eq(y, torch.tensor(1.0))\n",
    "        correct = torch.eq(estimate, torch.tensor(answer))\n",
    "        accuracy = torch.mean(torch.tensor(correct).float())\n",
    "        \n",
    "    elif mode == 'select':\n",
    "        estimate = torch.argmax(output, axis=1)\n",
    "        answer = torch.argmax(y, axis=1)\n",
    "        correct = torch.eq(estimate, answer)\n",
    "        accuracy = torch.mean(correct.float())\n",
    "        \n",
    "    return accuracy\n",
    "\n",
    "Dataset_torch.eval_accuracy = dataset_eval_accuracy_torch"
   ]
  },
  {
   "cell_type": "code",
   "execution_count": null,
   "id": "6263090f",
   "metadata": {},
   "outputs": [],
   "source": [
    "def dataset_get_estimate(self, output, mode=None):\n",
    "    if mode is None: mode = self.mode\n",
    "        \n",
    "    if mode == 'regression':\n",
    "        estimate = output\n",
    "        \n",
    "    elif mode == 'binary':\n",
    "        estimate = F.sigmoid(output)\n",
    "        \n",
    "    elif mode == 'select':\n",
    "        estimate = log_softmax_2_prob_torch(output)\n",
    "#         estimate = softmax(output)\n",
    "        \n",
    "    return estimate\n",
    "\n",
    "Dataset_torch.get_estimate = dataset_get_estimate"
   ]
  },
  {
   "cell_type": "code",
   "execution_count": 4,
   "id": "44458d29",
   "metadata": {
    "collapsed": true
   },
   "outputs": [
    {
     "ename": "NameError",
     "evalue": "name 'Dataset_torch' is not defined",
     "output_type": "error",
     "traceback": [
      "\u001b[1;31m---------------------------------------------------------------------------\u001b[0m",
      "\u001b[1;31mNameError\u001b[0m                                 Traceback (most recent call last)",
      "\u001b[1;32m~\\AppData\\Local\\Temp/ipykernel_14508/84388487.py\u001b[0m in \u001b[0;36m<module>\u001b[1;34m\u001b[0m\n\u001b[0;32m      7\u001b[0m           format(name, acc, time))\n\u001b[0;32m      8\u001b[0m \u001b[1;33m\u001b[0m\u001b[0m\n\u001b[1;32m----> 9\u001b[1;33m \u001b[0mDataset_torch\u001b[0m\u001b[1;33m.\u001b[0m\u001b[0mtrain_prt_result\u001b[0m \u001b[1;33m=\u001b[0m \u001b[0mdataset_train_prt_result\u001b[0m\u001b[1;33m\u001b[0m\u001b[0m\n\u001b[0m\u001b[0;32m     10\u001b[0m \u001b[0mDataset_torch\u001b[0m\u001b[1;33m.\u001b[0m\u001b[0mtest_prt_result\u001b[0m \u001b[1;33m=\u001b[0m \u001b[0mdataset_test_prt_result\u001b[0m\u001b[1;33m\u001b[0m\u001b[0m\n",
      "\u001b[1;31mNameError\u001b[0m: name 'Dataset_torch' is not defined"
     ]
    }
   ],
   "source": [
    "def dataset_train_prt_result(self, epoch, costs, accs, acc, time1, time2):\n",
    "    costs=torch.tensor(costs)\n",
    "    accs = torch.tensor(accs)\n",
    "    print('    Epoch {}: cost={:5.3f}, accuracy={:5.3f}/{:5.3f} ({}/{} secs)'. \\\n",
    "          format(epoch, torch.mean(costs), torch.mean(accs), acc, time1, time2))\n",
    "\n",
    "def dataset_test_prt_result(self, name, acc, time):\n",
    "    print('Model {} test report: accuracy = {:5.3f}, ({} secs)\\n'. \\\n",
    "          format(name, acc, time))\n",
    "\n",
    "Dataset_torch.train_prt_result = dataset_train_prt_result\n",
    "Dataset_torch.test_prt_result = dataset_test_prt_result"
   ]
  },
  {
   "cell_type": "code",
   "execution_count": 21,
   "id": "54afc779",
   "metadata": {},
   "outputs": [],
   "source": [
    "class Dataset_2_torch(Dataset):\n",
    "    def __init__(self,x, y, len_):\n",
    "        self.len_ = len_\n",
    "        self.X_data  = torch.from_numpy(x).float()\n",
    "        self.y_data = torch.from_numpy(y).float()\n",
    "\n",
    "    def __len__(self):\n",
    "        return self.len_\n",
    "\n",
    "    def __getitem__(self,idx):\n",
    "        \n",
    "        x_ = self.X_data[idx]\n",
    "        y_ = self.y_data[idx]\n",
    "\n",
    "        return x_, y_"
   ]
  },
  {
   "cell_type": "code",
   "execution_count": 24,
   "id": "9938fa71",
   "metadata": {},
   "outputs": [],
   "source": [
    "def dataloader_torch(self, batch_size, num_workers, len_):\n",
    "    Ds=Dataset_2_torch(self.tr_xs, self.tr_ys, len_)\n",
    "    dataloader = DataLoader(Ds, batch_size=batch_size, \\\n",
    "                            shuffle=True, num_workers=num_workers)\n",
    "    return dataloader\n",
    "\n",
    "Dataset_torch.get_train_loader = dataloader_torch"
   ]
  }
 ],
 "metadata": {
  "kernelspec": {
   "display_name": "Python 3 (ipykernel)",
   "language": "python",
   "name": "python3"
  },
  "language_info": {
   "codemirror_mode": {
    "name": "ipython",
    "version": 3
   },
   "file_extension": ".py",
   "mimetype": "text/x-python",
   "name": "python",
   "nbconvert_exporter": "python",
   "pygments_lexer": "ipython3",
   "version": "3.7.11"
  }
 },
 "nbformat": 4,
 "nbformat_minor": 5
}
