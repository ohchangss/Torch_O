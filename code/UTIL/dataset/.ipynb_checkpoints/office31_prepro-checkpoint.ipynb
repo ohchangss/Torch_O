{
 "cells": [
  {
   "cell_type": "code",
   "execution_count": 1,
   "id": "b10fd992",
   "metadata": {},
   "outputs": [
    {
     "name": "stdout",
     "output_type": "stream",
     "text": [
      "Using device: cuda\n",
      "GeForce GTX 1660 Ti\n",
      "Memory Usage:\n",
      "Allocated: 0.0 GB\n",
      "Cached:    0.0 GB\n",
      "Using PyTorch version: 1.7.1\n"
     ]
    }
   ],
   "source": [
    "BASE_DIR = '../'*3\n",
    "RUN_DIR = BASE_DIR + 'code/UTIL/dataset/dataset.ipynb'\n",
    "%run {RUN_DIR}"
   ]
  },
  {
   "cell_type": "code",
   "execution_count": 2,
   "id": "50e84bb6",
   "metadata": {},
   "outputs": [],
   "source": [
    "class Office31Dataset(Dataset_torch):\n",
    "    @property\n",
    "    def base(self):\n",
    "        return super(Office31Dataset, self)"
   ]
  },
  {
   "cell_type": "code",
   "execution_count": 3,
   "id": "b94914cd",
   "metadata": {},
   "outputs": [],
   "source": [
    "def office31_init(self, resolution=[100,100], input_shape=[-1]):\n",
    "    self.base.__init__('office31', 'dual_select')\n",
    "    \n",
    "    path = BASE_DIR + '../big_data/office31'\n",
    "    domain_names = list_dir(path)\n",
    "    \n",
    "    images = []\n",
    "    didxs, oidxs = [], []\n",
    "    \n",
    "    for dx, dname in enumerate(domain_names):\n",
    "        domainpath = os.path.join(path, dname, 'images')\n",
    "        object_names = list_dir(domainpath)\n",
    "        for ox, oname in enumerate(object_names):\n",
    "            objectpath = os.path.join(domainpath, oname)\n",
    "            filenames = list_dir(objectpath)\n",
    "            for fname in filenames:\n",
    "                if fname[-4:] != '.jpg':\n",
    "                    continue\n",
    "                imagepath = os.path.join(objectpath, fname)\n",
    "                pixels = load_image_pixels(imagepath, resolution, input_shape)\n",
    "                images.append(pixels)\n",
    "                didxs.append(dx)\n",
    "                oidxs.append(ox)\n",
    "\n",
    "    self.image_shape = resolution + [3]\n",
    "\n",
    "    xs = np.asarray(images, np.float32)\n",
    "\n",
    "    ys0 = onehot(didxs, len(domain_names))\n",
    "    ys1 = onehot(oidxs, len(object_names))\n",
    "    ys = np.hstack([ys0, ys1])\n",
    "    \n",
    "    self.shuffle_data(xs, ys, 0.8)\n",
    "    self.target_names = [domain_names, object_names]    \n",
    "    self.cnts = [len(domain_names)]"
   ]
  },
  {
   "cell_type": "code",
   "execution_count": null,
   "id": "f9ec2811",
   "metadata": {},
   "outputs": [],
   "source": [
    "def office31_forward_postproc(self, loss_func, output, y_train):\n",
    "    \n",
    "    loss_func1 = nn.CrossEntropyLoss()\n",
    "    loss_func2 = nn.CrossEntropyLoss()\n",
    "\n",
    "    outputs = [output[:,:self.cnts[0]],output[:,self.cnts[0]:]]\n",
    "    ys = [y_train[:,:self.cnts[0]],y_train[:,self.cnts[0]:]]\n",
    "\n",
    "    loss0= self.base.forward_postproc(loss_func1, outputs[0], ys[0],'select')\n",
    "    loss1= self.base.forward_postproc(loss_func2, outputs[1], ys[1],'select')\n",
    "\n",
    "    return loss0 + loss1"
   ]
  },
  {
   "cell_type": "code",
   "execution_count": null,
   "id": "6863b3ba",
   "metadata": {},
   "outputs": [],
   "source": [
    "def office31_eval_accuracy(self, x, y, output):\n",
    "    \n",
    "    outputs = [output[:,:self.cnts[0]],output[:,self.cnts[0]:]]\n",
    "    ys = [y[:,:self.cnts[0]],y[:,self.cnts[0]:]]\n",
    "    \n",
    "    acc0 = self.base.eval_accuracy(x, ys[0], outputs[0], 'select')\n",
    "    acc1 = self.base.eval_accuracy(x, ys[1], outputs[1], 'select')\n",
    "#     acc0=acc0.cpu().detach().numpy()\n",
    "#     acc1=acc1.cpu().detach().numpy()\n",
    "    return [acc0, acc1]\n",
    "\n",
    "def office31_train_prt_result(self, epoch, costs, accs, acc, time1, time2):\n",
    "    accs= torch.tensor(accs)\n",
    "    costs = torch.tensor(costs)\n",
    "    acc_pair = torch.mean(accs, axis=0)\n",
    "    print('    Epoch {}: cost={:5.3f}, ' \\\n",
    "          'accuracy={:5.3f}+{:5.3f}/{:5.3f}+{:5.3f} ({}/{} secs)'. \\\n",
    "          format(epoch, torch.mean(costs), acc_pair[0], acc_pair[1], \\\n",
    "                 acc[0], acc[1], time1, time2))\n",
    "\n",
    "def office31_test_prt_result(self, name, acc, time):\n",
    "    print('Model {} test report: accuracy = {:5.3f}+{:5.3f}, ({} secs)\\n'. \\\n",
    "          format(name, acc[0], acc[1], time))"
   ]
  },
  {
   "cell_type": "code",
   "execution_count": null,
   "id": "4776f780",
   "metadata": {},
   "outputs": [],
   "source": [
    "def office31_get_estimate(self, output):\n",
    "    outputs = [output[:,:self.cnts[0]],output[:,self.cnts[0]:]]\n",
    "\n",
    "    estimate0 = self.base.get_estimate(outputs[0], 'select')\n",
    "    estimate1 = self.base.get_estimate(outputs[1], 'select')\n",
    "    \n",
    "    return torch.hstack([estimate0, estimate1])\n",
    "\n",
    "def office31_visualize(self, xs, estimates, answers):\n",
    "    draw_images_horz(xs, self.image_shape)\n",
    "    \n",
    "    ests = [estimates[:,:self.cnts[0]],estimates[:,self.cnts[0]:]]\n",
    "    anss = [answers[:,:self.cnts[0]],answers[:,self.cnts[0]:]]\n",
    "    captions = ['도메인', '상품']\n",
    "    \n",
    "    for m in range(2):\n",
    "        print('[ {} 추정결과 ]'.format(captions[m]))\n",
    "        show_select_results(ests[m], anss[m], self.target_names[m], 8)"
   ]
  },
  {
   "cell_type": "code",
   "execution_count": null,
   "id": "burning-communications",
   "metadata": {},
   "outputs": [],
   "source": [
    "Office31Dataset.__init__          = office31_init\n",
    "Office31Dataset.forward_postproc  = office31_forward_postproc\n",
    "Office31Dataset.eval_accuracy     = office31_eval_accuracy\n",
    "Office31Dataset.get_estimate      = office31_get_estimate\n",
    "Office31Dataset.train_prt_result  = office31_train_prt_result\n",
    "Office31Dataset.test_prt_result   = office31_test_prt_result\n",
    "Office31Dataset.visualize         = office31_visualize"
   ]
  }
 ],
 "metadata": {
  "kernelspec": {
   "display_name": "Python 3 (ipykernel)",
   "language": "python",
   "name": "python3"
  },
  "language_info": {
   "codemirror_mode": {
    "name": "ipython",
    "version": 3
   },
   "file_extension": ".py",
   "mimetype": "text/x-python",
   "name": "python",
   "nbconvert_exporter": "python",
   "pygments_lexer": "ipython3",
   "version": "3.7.11"
  }
 },
 "nbformat": 4,
 "nbformat_minor": 5
}
